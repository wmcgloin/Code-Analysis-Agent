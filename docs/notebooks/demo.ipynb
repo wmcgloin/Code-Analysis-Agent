{
 "cells": [
  {
   "cell_type": "markdown",
   "id": "a08a07e4",
   "metadata": {},
   "source": [
    "# Set Working Directory"
   ]
  },
  {
   "cell_type": "code",
   "execution_count": 1,
   "id": "ce76b030",
   "metadata": {},
   "outputs": [
    {
     "name": "stdout",
     "output_type": "stream",
     "text": [
      "c:\\Users\\JaeHoBahng\\Desktop\\Georgetown\\2025_Spring\\DSAN_6725\\project\\spring-2025-final-project-project-group-2\\docs\\notebooks\n",
      "c:\\Users\\JaeHoBahng\\Desktop\\Georgetown\\2025_Spring\\DSAN_6725\\project\\spring-2025-final-project-project-group-2\\src\n"
     ]
    }
   ],
   "source": [
    "import os\n",
    "print(os.getcwd())\n",
    "os.chdir('c:\\\\Users\\\\JaeHoBahng\\\\Desktop\\\\Georgetown\\\\2025_Spring\\\\DSAN_6725\\\\project\\\\spring-2025-final-project-project-group-2\\\\src')\n",
    "print(os.getcwd())"
   ]
  },
  {
   "cell_type": "code",
   "execution_count": 3,
   "id": "7e9b1cbc",
   "metadata": {},
   "outputs": [],
   "source": [
    "from langchain_neo4j import Neo4jGraph\n",
    "# from app.graph_builders.micro_graph_builder import MicroCodeGraphBuilder\n",
    "url = os.getenv('NEO4J_URI')\n",
    "username = os.getenv('NEO4J_USERNAME')\n",
    "password = os.getenv('NEO4J_PASSWORD')\n",
    "\n",
    "graph_db = Neo4jGraph(\n",
    "    url=url,\n",
    "    username=username,\n",
    "    password=password,\n",
    "    enhanced_schema=True\n",
    ")"
   ]
  },
  {
   "cell_type": "code",
   "execution_count": 7,
   "id": "18a680f8",
   "metadata": {},
   "outputs": [
    {
     "name": "stdout",
     "output_type": "stream",
     "text": [
      "Node properties:\n",
      "- **Class**\n",
      "  - `id`: STRING Available options: ['Langchain_Core.Messages.Aimessage', 'Langchain_Core.Messages.Humanmessage']\n",
      "- **Module**\n",
      "  - `id`: STRING Example: \"App.Handlers.Process_Query\"\n",
      "- **Package**\n",
      "  - `id`: STRING Example: \"Atexit\"\n",
      "- **Function**\n",
      "  - `id`: STRING Available options: ['Src.Streamlit_App.Logger', 'Src.Streamlit_App.Set_Log_Level', 'Src.Streamlit_App.Main', 'Src.App.Handlers.Query_Handler.Process_Query', 'Src.App.Ui.Display_Messages', 'Src.App.Setup.Initialize_Database.Initialize_Datab', 'Src.App.Setup.Initialize_Database']\n",
      "Relationship properties:\n",
      "\n",
      "The relationships:\n",
      "(:Class)-[:USES]->(:Function)\n",
      "(:Module)-[:USED_IN]->(:Module)\n",
      "(:Module)-[:DEFINES]->(:Function)\n",
      "(:Module)-[:USES]->(:Function)\n",
      "(:Module)-[:IMPORTS]->(:Function)\n",
      "(:Module)-[:IMPORTS]->(:Package)\n",
      "(:Module)-[:DEFINES_FUNCTION]->(:Function)\n",
      "(:Package)-[:USED_IN]->(:Module)\n",
      "(:Package)-[:USES]->(:Function)\n",
      "(:Package)-[:USES]->(:Module)\n",
      "(:Function)-[:DEFINED_IN]->(:Module)\n",
      "(:Function)-[:USED_IN]->(:Module)\n",
      "(:Function)-[:USES]->(:Function)\n",
      "(:Function)-[:USES]->(:Package)\n"
     ]
    }
   ],
   "source": [
    "print(graph_db.get_schema)"
   ]
  },
  {
   "cell_type": "code",
   "execution_count": 15,
   "id": "183ee275",
   "metadata": {},
   "outputs": [],
   "source": [
    "graph_db.refresh_schema()"
   ]
  },
  {
   "cell_type": "code",
   "execution_count": null,
   "id": "4e9f2a41",
   "metadata": {},
   "outputs": [
    {
     "data": {
      "text/plain": [
       "[]"
      ]
     },
     "execution_count": 11,
     "metadata": {},
     "output_type": "execute_result"
    }
   ],
   "source": [
    "results = graph_db.query(\"\"\"MATCH path = (m1:Module {id: 'App.Handlers'})-[*..10]-(m2:Module {id: 'Streamlit_App'}) \n",
    "               WHERE NONE(n IN nodes(path) WHERE n:Package) \n",
    "               RETURN [n IN nodes(path) | labels(n)] AS nodeTypes, \n",
    "                      [r IN relationships(path) | type(r)] AS relTypes, \n",
    "                      path\n",
    "               LIMIT 50\"\"\")\n",
    "results"
   ]
  },
  {
   "cell_type": "code",
   "execution_count": 31,
   "id": "e70eb9f7",
   "metadata": {},
   "outputs": [],
   "source": [
    "results = graph_db.query(\"\"\"\n",
    "MATCH path = (a)-[*..10]-(b)\n",
    "WHERE NONE(n IN nodes(path) WHERE n:Package)\n",
    "WITH nodes(path) AS ns, relationships(path) AS rs\n",
    "UNWIND range(0, size(ns) - 2) AS i\n",
    "RETURN \n",
    "  head(labels(ns[i])) AS fromNodeType,\n",
    "  ns[i].id AS fromNodeId,\n",
    "  type(rs[i]) AS relationType,\n",
    "  head(labels(ns[i+1])) AS toNodeType,\n",
    "  ns[i+1].id AS toNodeId\n",
    "LIMIT 50\"\"\")"
   ]
  },
  {
   "cell_type": "code",
   "execution_count": 32,
   "id": "7f5e9e93",
   "metadata": {},
   "outputs": [
    {
     "data": {
      "text/plain": [
       "[{'fromNodeType': 'Module',\n",
       "  'fromNodeId': 'App.Handlers.Process_Query',\n",
       "  'relationType': 'USED_IN',\n",
       "  'toNodeType': 'Module',\n",
       "  'toNodeId': 'Src.Streamlit_App'},\n",
       " {'fromNodeType': 'Module',\n",
       "  'fromNodeId': 'App.Handlers.Process_Query',\n",
       "  'relationType': 'USED_IN',\n",
       "  'toNodeType': 'Module',\n",
       "  'toNodeId': 'Src.Streamlit_App'},\n",
       " {'fromNodeType': 'Module',\n",
       "  'fromNodeId': 'Src.Streamlit_App',\n",
       "  'relationType': 'USED_IN',\n",
       "  'toNodeType': 'Function',\n",
       "  'toNodeId': 'Src.Streamlit_App.Main'},\n",
       " {'fromNodeType': 'Module',\n",
       "  'fromNodeId': 'App.Handlers.Process_Query',\n",
       "  'relationType': 'USED_IN',\n",
       "  'toNodeType': 'Module',\n",
       "  'toNodeId': 'Src.Streamlit_App'},\n",
       " {'fromNodeType': 'Module',\n",
       "  'fromNodeId': 'Src.Streamlit_App',\n",
       "  'relationType': 'USED_IN',\n",
       "  'toNodeType': 'Function',\n",
       "  'toNodeId': 'Src.Streamlit_App.Main'},\n",
       " {'fromNodeType': 'Function',\n",
       "  'fromNodeId': 'Src.Streamlit_App.Main',\n",
       "  'relationType': 'DEFINED_IN',\n",
       "  'toNodeType': 'Module',\n",
       "  'toNodeId': 'Src.Streamlit_App'},\n",
       " {'fromNodeType': 'Module',\n",
       "  'fromNodeId': 'App.Handlers.Process_Query',\n",
       "  'relationType': 'USED_IN',\n",
       "  'toNodeType': 'Module',\n",
       "  'toNodeId': 'Src.Streamlit_App'},\n",
       " {'fromNodeType': 'Module',\n",
       "  'fromNodeId': 'Src.Streamlit_App',\n",
       "  'relationType': 'USED_IN',\n",
       "  'toNodeType': 'Function',\n",
       "  'toNodeId': 'Src.Streamlit_App.Main'},\n",
       " {'fromNodeType': 'Function',\n",
       "  'fromNodeId': 'Src.Streamlit_App.Main',\n",
       "  'relationType': 'DEFINED_IN',\n",
       "  'toNodeType': 'Module',\n",
       "  'toNodeId': 'Src.Streamlit_App'},\n",
       " {'fromNodeType': 'Module',\n",
       "  'fromNodeId': 'Src.Streamlit_App',\n",
       "  'relationType': 'USED_IN',\n",
       "  'toNodeType': 'Function',\n",
       "  'toNodeId': 'Src.Streamlit_App.Set_Log_Level'},\n",
       " {'fromNodeType': 'Module',\n",
       "  'fromNodeId': 'App.Handlers.Process_Query',\n",
       "  'relationType': 'USED_IN',\n",
       "  'toNodeType': 'Module',\n",
       "  'toNodeId': 'Src.Streamlit_App'},\n",
       " {'fromNodeType': 'Module',\n",
       "  'fromNodeId': 'Src.Streamlit_App',\n",
       "  'relationType': 'USED_IN',\n",
       "  'toNodeType': 'Function',\n",
       "  'toNodeId': 'Src.Streamlit_App.Main'},\n",
       " {'fromNodeType': 'Function',\n",
       "  'fromNodeId': 'Src.Streamlit_App.Main',\n",
       "  'relationType': 'DEFINED_IN',\n",
       "  'toNodeType': 'Module',\n",
       "  'toNodeId': 'Src.Streamlit_App'},\n",
       " {'fromNodeType': 'Module',\n",
       "  'fromNodeId': 'Src.Streamlit_App',\n",
       "  'relationType': 'USED_IN',\n",
       "  'toNodeType': 'Function',\n",
       "  'toNodeId': 'Src.Streamlit_App.Set_Log_Level'},\n",
       " {'fromNodeType': 'Function',\n",
       "  'fromNodeId': 'Src.Streamlit_App.Set_Log_Level',\n",
       "  'relationType': 'DEFINED_IN',\n",
       "  'toNodeType': 'Module',\n",
       "  'toNodeId': 'Src.Streamlit_App'},\n",
       " {'fromNodeType': 'Module',\n",
       "  'fromNodeId': 'App.Handlers.Process_Query',\n",
       "  'relationType': 'USED_IN',\n",
       "  'toNodeType': 'Module',\n",
       "  'toNodeId': 'Src.Streamlit_App'},\n",
       " {'fromNodeType': 'Module',\n",
       "  'fromNodeId': 'Src.Streamlit_App',\n",
       "  'relationType': 'USED_IN',\n",
       "  'toNodeType': 'Function',\n",
       "  'toNodeId': 'Src.Streamlit_App.Main'},\n",
       " {'fromNodeType': 'Function',\n",
       "  'fromNodeId': 'Src.Streamlit_App.Main',\n",
       "  'relationType': 'DEFINED_IN',\n",
       "  'toNodeType': 'Module',\n",
       "  'toNodeId': 'Src.Streamlit_App'},\n",
       " {'fromNodeType': 'Module',\n",
       "  'fromNodeId': 'Src.Streamlit_App',\n",
       "  'relationType': 'USED_IN',\n",
       "  'toNodeType': 'Function',\n",
       "  'toNodeId': 'Src.Streamlit_App.Set_Log_Level'},\n",
       " {'fromNodeType': 'Function',\n",
       "  'fromNodeId': 'Src.Streamlit_App.Set_Log_Level',\n",
       "  'relationType': 'DEFINED_IN',\n",
       "  'toNodeType': 'Module',\n",
       "  'toNodeId': 'Src.Streamlit_App'},\n",
       " {'fromNodeType': 'Module',\n",
       "  'fromNodeId': 'Src.Streamlit_App',\n",
       "  'relationType': 'USED_IN',\n",
       "  'toNodeType': 'Module',\n",
       "  'toNodeId': 'Utils.Repo.Repo_Exists'},\n",
       " {'fromNodeType': 'Module',\n",
       "  'fromNodeId': 'App.Handlers.Process_Query',\n",
       "  'relationType': 'USED_IN',\n",
       "  'toNodeType': 'Module',\n",
       "  'toNodeId': 'Src.Streamlit_App'},\n",
       " {'fromNodeType': 'Module',\n",
       "  'fromNodeId': 'Src.Streamlit_App',\n",
       "  'relationType': 'USED_IN',\n",
       "  'toNodeType': 'Function',\n",
       "  'toNodeId': 'Src.Streamlit_App.Main'},\n",
       " {'fromNodeType': 'Function',\n",
       "  'fromNodeId': 'Src.Streamlit_App.Main',\n",
       "  'relationType': 'DEFINED_IN',\n",
       "  'toNodeType': 'Module',\n",
       "  'toNodeId': 'Src.Streamlit_App'},\n",
       " {'fromNodeType': 'Module',\n",
       "  'fromNodeId': 'Src.Streamlit_App',\n",
       "  'relationType': 'USED_IN',\n",
       "  'toNodeType': 'Function',\n",
       "  'toNodeId': 'Src.Streamlit_App.Set_Log_Level'},\n",
       " {'fromNodeType': 'Function',\n",
       "  'fromNodeId': 'Src.Streamlit_App.Set_Log_Level',\n",
       "  'relationType': 'DEFINED_IN',\n",
       "  'toNodeType': 'Module',\n",
       "  'toNodeId': 'Src.Streamlit_App'},\n",
       " {'fromNodeType': 'Module',\n",
       "  'fromNodeId': 'Src.Streamlit_App',\n",
       "  'relationType': 'USED_IN',\n",
       "  'toNodeType': 'Module',\n",
       "  'toNodeId': 'Utils.Repo.Get_Cached_Repo_Tree'},\n",
       " {'fromNodeType': 'Module',\n",
       "  'fromNodeId': 'App.Handlers.Process_Query',\n",
       "  'relationType': 'USED_IN',\n",
       "  'toNodeType': 'Module',\n",
       "  'toNodeId': 'Src.Streamlit_App'},\n",
       " {'fromNodeType': 'Module',\n",
       "  'fromNodeId': 'Src.Streamlit_App',\n",
       "  'relationType': 'USED_IN',\n",
       "  'toNodeType': 'Function',\n",
       "  'toNodeId': 'Src.Streamlit_App.Main'},\n",
       " {'fromNodeType': 'Function',\n",
       "  'fromNodeId': 'Src.Streamlit_App.Main',\n",
       "  'relationType': 'DEFINED_IN',\n",
       "  'toNodeType': 'Module',\n",
       "  'toNodeId': 'Src.Streamlit_App'},\n",
       " {'fromNodeType': 'Module',\n",
       "  'fromNodeId': 'Src.Streamlit_App',\n",
       "  'relationType': 'USED_IN',\n",
       "  'toNodeType': 'Function',\n",
       "  'toNodeId': 'Src.Streamlit_App.Set_Log_Level'},\n",
       " {'fromNodeType': 'Function',\n",
       "  'fromNodeId': 'Src.Streamlit_App.Set_Log_Level',\n",
       "  'relationType': 'DEFINED_IN',\n",
       "  'toNodeType': 'Module',\n",
       "  'toNodeId': 'Src.Streamlit_App'},\n",
       " {'fromNodeType': 'Module',\n",
       "  'fromNodeId': 'Src.Streamlit_App',\n",
       "  'relationType': 'USED_IN',\n",
       "  'toNodeType': 'Module',\n",
       "  'toNodeId': 'Utils.Repo.Delete_Cloned_Repo'},\n",
       " {'fromNodeType': 'Module',\n",
       "  'fromNodeId': 'App.Handlers.Process_Query',\n",
       "  'relationType': 'USED_IN',\n",
       "  'toNodeType': 'Module',\n",
       "  'toNodeId': 'Src.Streamlit_App'},\n",
       " {'fromNodeType': 'Module',\n",
       "  'fromNodeId': 'Src.Streamlit_App',\n",
       "  'relationType': 'USED_IN',\n",
       "  'toNodeType': 'Function',\n",
       "  'toNodeId': 'Src.Streamlit_App.Main'},\n",
       " {'fromNodeType': 'Function',\n",
       "  'fromNodeId': 'Src.Streamlit_App.Main',\n",
       "  'relationType': 'DEFINED_IN',\n",
       "  'toNodeType': 'Module',\n",
       "  'toNodeId': 'Src.Streamlit_App'},\n",
       " {'fromNodeType': 'Module',\n",
       "  'fromNodeId': 'Src.Streamlit_App',\n",
       "  'relationType': 'USED_IN',\n",
       "  'toNodeType': 'Function',\n",
       "  'toNodeId': 'Src.Streamlit_App.Set_Log_Level'},\n",
       " {'fromNodeType': 'Function',\n",
       "  'fromNodeId': 'Src.Streamlit_App.Set_Log_Level',\n",
       "  'relationType': 'DEFINED_IN',\n",
       "  'toNodeType': 'Module',\n",
       "  'toNodeId': 'Src.Streamlit_App'},\n",
       " {'fromNodeType': 'Module',\n",
       "  'fromNodeId': 'Src.Streamlit_App',\n",
       "  'relationType': 'USED_IN',\n",
       "  'toNodeType': 'Module',\n",
       "  'toNodeId': 'Utils.Repo.Clone_Repo_From_Url'},\n",
       " {'fromNodeType': 'Module',\n",
       "  'fromNodeId': 'App.Handlers.Process_Query',\n",
       "  'relationType': 'USED_IN',\n",
       "  'toNodeType': 'Module',\n",
       "  'toNodeId': 'Src.Streamlit_App'},\n",
       " {'fromNodeType': 'Module',\n",
       "  'fromNodeId': 'Src.Streamlit_App',\n",
       "  'relationType': 'USED_IN',\n",
       "  'toNodeType': 'Function',\n",
       "  'toNodeId': 'Src.Streamlit_App.Main'},\n",
       " {'fromNodeType': 'Function',\n",
       "  'fromNodeId': 'Src.Streamlit_App.Main',\n",
       "  'relationType': 'DEFINED_IN',\n",
       "  'toNodeType': 'Module',\n",
       "  'toNodeId': 'Src.Streamlit_App'},\n",
       " {'fromNodeType': 'Module',\n",
       "  'fromNodeId': 'Src.Streamlit_App',\n",
       "  'relationType': 'USED_IN',\n",
       "  'toNodeType': 'Function',\n",
       "  'toNodeId': 'Src.Streamlit_App.Set_Log_Level'},\n",
       " {'fromNodeType': 'Function',\n",
       "  'fromNodeId': 'Src.Streamlit_App.Set_Log_Level',\n",
       "  'relationType': 'DEFINED_IN',\n",
       "  'toNodeType': 'Module',\n",
       "  'toNodeId': 'Src.Streamlit_App'},\n",
       " {'fromNodeType': 'Module',\n",
       "  'fromNodeId': 'Src.Streamlit_App',\n",
       "  'relationType': 'USED_IN',\n",
       "  'toNodeType': 'Module',\n",
       "  'toNodeId': 'Utils.Repo.Repo_Dir'},\n",
       " {'fromNodeType': 'Module',\n",
       "  'fromNodeId': 'App.Handlers.Process_Query',\n",
       "  'relationType': 'USED_IN',\n",
       "  'toNodeType': 'Module',\n",
       "  'toNodeId': 'Src.Streamlit_App'},\n",
       " {'fromNodeType': 'Module',\n",
       "  'fromNodeId': 'Src.Streamlit_App',\n",
       "  'relationType': 'USED_IN',\n",
       "  'toNodeType': 'Function',\n",
       "  'toNodeId': 'Src.Streamlit_App.Main'},\n",
       " {'fromNodeType': 'Function',\n",
       "  'fromNodeId': 'Src.Streamlit_App.Main',\n",
       "  'relationType': 'DEFINED_IN',\n",
       "  'toNodeType': 'Module',\n",
       "  'toNodeId': 'Src.Streamlit_App'},\n",
       " {'fromNodeType': 'Module',\n",
       "  'fromNodeId': 'Src.Streamlit_App',\n",
       "  'relationType': 'USED_IN',\n",
       "  'toNodeType': 'Function',\n",
       "  'toNodeId': 'Src.Streamlit_App.Set_Log_Level'},\n",
       " {'fromNodeType': 'Function',\n",
       "  'fromNodeId': 'Src.Streamlit_App.Set_Log_Level',\n",
       "  'relationType': 'DEFINED_IN',\n",
       "  'toNodeType': 'Module',\n",
       "  'toNodeId': 'Src.Streamlit_App'}]"
      ]
     },
     "execution_count": 32,
     "metadata": {},
     "output_type": "execute_result"
    }
   ],
   "source": [
    "results"
   ]
  },
  {
   "cell_type": "markdown",
   "id": "73ec4272",
   "metadata": {},
   "source": [
    "# Preprocessing data (Default when repository is given)"
   ]
  },
  {
   "cell_type": "markdown",
   "id": "148c0133",
   "metadata": {},
   "source": [
    "## Create GRAPHRAG DB / Preprocess and insert Data"
   ]
  },
  {
   "cell_type": "code",
   "execution_count": 33,
   "id": "890de0dd",
   "metadata": {},
   "outputs": [
    {
     "name": "stderr",
     "output_type": "stream",
     "text": [
      "2025-04-26 06:44:08.411 WARNING streamlit.runtime.caching.cache_data_api: No runtime found, using MemoryCacheStorageManager\n"
     ]
    },
    {
     "name": "stdout",
     "output_type": "stream",
     "text": [
      "Processing file: src\\streamlit_app.py\n",
      "Processing file: src\\agent_router\\graph.py\n",
      "Processing file: src\\agent_router\\nodes.py\n",
      "Processing file: src\\agent_router\\state.py\n",
      "Processing file: src\\agent_router\\__init__.py\n",
      "Processing file: src\\app\\session_state.py\n",
      "Processing file: src\\app\\__init__.py\n",
      "Processing file: src\\app\\graph_builders\\micro_graph_builder.py\n",
      "Processing file: src\\app\\graph_builders\\__init__.py\n",
      "Processing file: src\\app\\handlers\\query_handler.py\n",
      "Processing file: src\\app\\handlers\\__init__.py\n",
      "Processing file: src\\app\\setup\\initialize_database.py\n",
      "Processing file: src\\app\\setup\\__init__.py\n",
      "Processing file: src\\app\\ui\\chat.py\n",
      "Processing file: src\\app\\ui\\visualization.py\n",
      "Processing file: src\\app\\ui\\__init__.py\n",
      "Processing file: src\\rag\\vector_rag.py\n",
      "Processing file: src\\rag\\__init__.py\n",
      "Processing file: src\\tools\\setup.py\n",
      "Processing file: src\\tools\\__init__.py\n",
      "Processing file: src\\tools\\macro\\tools.py\n",
      "Processing file: src\\tools\\macro\\__init__.py\n",
      "Processing file: src\\tools\\micro\\cypher_query_builder.py\n",
      "Processing file: src\\tools\\micro\\cypher_visualizer.py\n",
      "Processing file: src\\tools\\micro\\tools.py\n",
      "Processing file: src\\tools\\micro\\__init__.py\n",
      "Processing file: src\\utils\\filesystem.py\n",
      "Processing file: src\\utils\\logger.py\n",
      "Processing file: src\\utils\\repo.py\n",
      "Processing file: src\\utils\\__init__.py\n",
      "Converting to graph documents...\n",
      "Cleared existing graph data in Neo4j.\n",
      "Adding graph documents to Neo4j...\n"
     ]
    }
   ],
   "source": [
    "from app.graph_builders.micro_graph_builder import MicroCodeGraphBuilder\n",
    "from langchain_anthropic import ChatAnthropic\n",
    "from langchain.chat_models import init_chat_model\n",
    "\n",
    "llm = init_chat_model(\"gpt-4o\", model_provider=\"openai\")\n",
    "# llm = ChatAnthropic(model=\"claude-3-5-sonnet-20240620\")\n",
    "\n",
    "gen_graphdb = MicroCodeGraphBuilder(llm=llm)\n",
    "graph_db, graph_documents = gen_graphdb.build_graph_and_upload(repo_path='../cloned_repository')"
   ]
  },
  {
   "cell_type": "code",
   "execution_count": 34,
   "id": "6f8dad83",
   "metadata": {},
   "outputs": [
    {
     "data": {
      "text/plain": [
       "[GraphDocument(nodes=[Node(id='Atexit', type='Package', properties={}), Node(id='Os', type='Package', properties={}), Node(id='Shutil', type='Package', properties={}), Node(id='Subprocess', type='Package', properties={}), Node(id='Time', type='Package', properties={}), Node(id='Uuid', type='Package', properties={}), Node(id='Functools', type='Package', properties={}), Node(id='Typing', type='Package', properties={}), Node(id='Streamlit', type='Package', properties={}), Node(id='Langchain.Chat_Models', type='Package', properties={}), Node(id='Langchain_Anthropic', type='Package', properties={}), Node(id='Langchain_Core.Messages', type='Package', properties={}), Node(id='Src.App.Handlers.Query_Handler.Process_Query', type='Function', properties={}), Node(id='Src.App.Session_State.Cleanup_Repo', type='Function', properties={}), Node(id='Src.App.Session_State.Initialize_Session_State', type='Function', properties={}), Node(id='Src.App.Setup.Initialize_Database.Initialize_Database', type='Function', properties={}), Node(id='Src.App.Ui.Chat.Display_Messages', type='Function', properties={}), Node(id='Src.App.Ui.Visualization.Display_Visualization', type='Function', properties={}), Node(id='Src.Utils.Get_Logger', type='Function', properties={}), Node(id='Src.Utils.Set_Log_Level', type='Function', properties={}), Node(id='Src.Utils.Repo.Repo_Dir', type='Function', properties={}), Node(id='Src.Utils.Repo.Clone_Repo_From_Url', type='Function', properties={}), Node(id='Src.Utils.Repo.Delete_Cloned_Repo', type='Function', properties={}), Node(id='Src.Utils.Repo.Get_Cached_Repo_Tree', type='Function', properties={}), Node(id='Src.Utils.Repo.Repo_Exists', type='Function', properties={}), Node(id='Src.Streamlit_App.Main', type='Function', properties={}), Node(id='Src.Streamlit_App', type='Module', properties={}), Node(id='Src.App.Handlers.Query_Handler', type='Module', properties={}), Node(id='Src.App.Session_State', type='Module', properties={}), Node(id='Src.App.Setup.Initialize_Database', type='Module', properties={}), Node(id='Src.App.Ui.Chat', type='Module', properties={}), Node(id='Src.App.Ui.Visualization', type='Module', properties={}), Node(id='Src.Utils', type='Module', properties={}), Node(id='Src.Utils.Repo', type='Module', properties={})], relationships=[Relationship(source=Node(id='Atexit', type='Package', properties={}), target=Node(id='Src.Streamlit_App', type='Module', properties={}), type='USES', properties={}), Relationship(source=Node(id='Os', type='Package', properties={}), target=Node(id='Src.Streamlit_App', type='Module', properties={}), type='USES', properties={}), Relationship(source=Node(id='Shutil', type='Package', properties={}), target=Node(id='Src.Streamlit_App', type='Module', properties={}), type='USES', properties={}), Relationship(source=Node(id='Subprocess', type='Package', properties={}), target=Node(id='Src.Streamlit_App', type='Module', properties={}), type='USES', properties={}), Relationship(source=Node(id='Time', type='Package', properties={}), target=Node(id='Src.Streamlit_App', type='Module', properties={}), type='USES', properties={}), Relationship(source=Node(id='Uuid', type='Package', properties={}), target=Node(id='Src.Streamlit_App', type='Module', properties={}), type='USES', properties={}), Relationship(source=Node(id='Functools', type='Package', properties={}), target=Node(id='Src.Streamlit_App', type='Module', properties={}), type='USES', properties={}), Relationship(source=Node(id='Typing', type='Package', properties={}), target=Node(id='Src.Streamlit_App', type='Module', properties={}), type='USES', properties={}), Relationship(source=Node(id='Streamlit', type='Package', properties={}), target=Node(id='Src.Streamlit_App', type='Module', properties={}), type='USES', properties={}), Relationship(source=Node(id='Langchain.Chat_Models', type='Package', properties={}), target=Node(id='Src.Streamlit_App', type='Module', properties={}), type='USES', properties={}), Relationship(source=Node(id='Langchain_Anthropic', type='Package', properties={}), target=Node(id='Src.Streamlit_App', type='Module', properties={}), type='USES', properties={}), Relationship(source=Node(id='Langchain_Core.Messages', type='Package', properties={}), target=Node(id='Src.Streamlit_App', type='Module', properties={}), type='USES', properties={}), Relationship(source=Node(id='Src.App.Handlers.Query_Handler.Process_Query', type='Function', properties={}), target=Node(id='Src.App.Handlers.Query_Handler', type='Module', properties={}), type='DEFINED_IN', properties={}), Relationship(source=Node(id='Src.App.Session_State.Cleanup_Repo', type='Function', properties={}), target=Node(id='Src.App.Session_State', type='Module', properties={}), type='DEFINED_IN', properties={}), Relationship(source=Node(id='Src.App.Session_State.Initialize_Session_State', type='Function', properties={}), target=Node(id='Src.App.Session_State', type='Module', properties={}), type='DEFINED_IN', properties={}), Relationship(source=Node(id='Src.App.Setup.Initialize_Database.Initialize_Database', type='Function', properties={}), target=Node(id='Src.App.Setup.Initialize_Database', type='Module', properties={}), type='DEFINED_IN', properties={}), Relationship(source=Node(id='Src.App.Ui.Chat.Display_Messages', type='Function', properties={}), target=Node(id='Src.App.Ui.Chat', type='Module', properties={}), type='DEFINED_IN', properties={}), Relationship(source=Node(id='Src.App.Ui.Visualization.Display_Visualization', type='Function', properties={}), target=Node(id='Src.App.Ui.Visualization', type='Module', properties={}), type='DEFINED_IN', properties={}), Relationship(source=Node(id='Src.Utils.Get_Logger', type='Function', properties={}), target=Node(id='Src.Utils', type='Module', properties={}), type='DEFINED_IN', properties={}), Relationship(source=Node(id='Src.Utils.Set_Log_Level', type='Function', properties={}), target=Node(id='Src.Utils', type='Module', properties={}), type='DEFINED_IN', properties={}), Relationship(source=Node(id='Src.Utils.Repo.Repo_Dir', type='Function', properties={}), target=Node(id='Src.Utils.Repo', type='Module', properties={}), type='DEFINED_IN', properties={}), Relationship(source=Node(id='Src.Utils.Repo.Clone_Repo_From_Url', type='Function', properties={}), target=Node(id='Src.Utils.Repo', type='Module', properties={}), type='DEFINED_IN', properties={}), Relationship(source=Node(id='Src.Utils.Repo.Delete_Cloned_Repo', type='Function', properties={}), target=Node(id='Src.Utils.Repo', type='Module', properties={}), type='DEFINED_IN', properties={}), Relationship(source=Node(id='Src.Utils.Repo.Get_Cached_Repo_Tree', type='Function', properties={}), target=Node(id='Src.Utils.Repo', type='Module', properties={}), type='DEFINED_IN', properties={}), Relationship(source=Node(id='Src.Utils.Repo.Repo_Exists', type='Function', properties={}), target=Node(id='Src.Utils.Repo', type='Module', properties={}), type='DEFINED_IN', properties={}), Relationship(source=Node(id='Src.Streamlit_App.Main', type='Function', properties={}), target=Node(id='Src.Streamlit_App', type='Module', properties={}), type='DEFINED_IN', properties={}), Relationship(source=Node(id='Src.App.Handlers.Query_Handler.Process_Query', type='Function', properties={}), target=Node(id='Src.Streamlit_App', type='Module', properties={}), type='USES', properties={}), Relationship(source=Node(id='Src.App.Session_State.Cleanup_Repo', type='Function', properties={}), target=Node(id='Src.Streamlit_App', type='Module', properties={}), type='USES', properties={}), Relationship(source=Node(id='Src.App.Session_State.Initialize_Session_State', type='Function', properties={}), target=Node(id='Src.Streamlit_App.Main', type='Function', properties={}), type='USES', properties={}), Relationship(source=Node(id='Src.App.Setup.Initialize_Database.Initialize_Database', type='Function', properties={}), target=Node(id='Src.Streamlit_App.Main', type='Function', properties={}), type='USES', properties={}), Relationship(source=Node(id='Src.App.Ui.Chat.Display_Messages', type='Function', properties={}), target=Node(id='Src.Streamlit_App.Main', type='Function', properties={}), type='USES', properties={}), Relationship(source=Node(id='Src.App.Ui.Visualization.Display_Visualization', type='Function', properties={}), target=Node(id='Src.Streamlit_App.Main', type='Function', properties={}), type='USES', properties={}), Relationship(source=Node(id='Src.Utils.Get_Logger', type='Function', properties={}), target=Node(id='Src.Streamlit_App', type='Module', properties={}), type='USES', properties={}), Relationship(source=Node(id='Src.Utils.Set_Log_Level', type='Function', properties={}), target=Node(id='Src.Streamlit_App', type='Module', properties={}), type='USES', properties={}), Relationship(source=Node(id='Src.Utils.Repo.Clone_Repo_From_Url', type='Function', properties={}), target=Node(id='Src.Streamlit_App.Main', type='Function', properties={}), type='USES', properties={}), Relationship(source=Node(id='Src.Utils.Repo.Delete_Cloned_Repo', type='Function', properties={}), target=Node(id='Src.Streamlit_App.Main', type='Function', properties={}), type='USES', properties={}), Relationship(source=Node(id='Src.Utils.Repo.Get_Cached_Repo_Tree', type='Function', properties={}), target=Node(id='Src.Streamlit_App.Main', type='Function', properties={}), type='USES', properties={}), Relationship(source=Node(id='Src.Utils.Repo.Repo_Exists', type='Function', properties={}), target=Node(id='Src.Streamlit_App.Main', type='Function', properties={}), type='USES', properties={}), Relationship(source=Node(id='Src.Streamlit_App.Main', type='Function', properties={}), target=Node(id='Src.Streamlit_App', type='Module', properties={}), type='CALLS', properties={})], source=Document(metadata={'source': 'src\\\\streamlit_app.py'}, page_content='1. `atexit` is a package and is used in the module `src.streamlit_app`.\\n2. `os` is a package and is used in the module `src.streamlit_app`.\\n3. `shutil` is a package and is used in the module `src.streamlit_app`.\\n4. `subprocess` is a package and is used in the module `src.streamlit_app`.\\n5. `time` is a package and is used in the module `src.streamlit_app`.\\n6. `uuid` is a package and is used in the module `src.streamlit_app`.\\n7. `functools` is a package and is used in the module `src.streamlit_app`.\\n8. `typing` is a package and is used in the module `src.streamlit_app`.\\n9. `streamlit` is a package and is used in the module `src.streamlit_app`.\\n10. `langchain.chat_models` is a package and is used in the module `src.streamlit_app`.\\n11. `langchain_anthropic` is a package and is used in the module `src.streamlit_app`.\\n12. `langchain_core.messages` is a package and is used in the module `src.streamlit_app`.\\n13. `src.app.handlers.query_handler.process_query` is a function defined in the module `src.app.handlers.query_handler` and is used in the module `src.streamlit_app`.\\n14. `src.app.session_state.cleanup_repo` is a function defined in the module `src.app.session_state` and is used in the module `src.streamlit_app`.\\n15. `src.app.session_state.initialize_session_state` is a function defined in the module `src.app.session_state` and is used in the function `src.streamlit_app.main` in the module `src.streamlit_app`.\\n16. `src.app.setup.initialize_database.initialize_database` is a function defined in the module `src.app.setup.initialize_database` and is used in the function `src.streamlit_app.main` in the module `src.streamlit_app`.\\n17. `src.app.ui.chat.display_messages` is a function defined in the module `src.app.ui.chat` and is used in the function `src.streamlit_app.main` in the module `src.streamlit_app`.\\n18. `src.app.ui.visualization.display_visualization` is a function defined in the module `src.app.ui.visualization` and is used in the function `src.streamlit_app.main` in the module `src.streamlit_app`.\\n19. `src.utils.get_logger` is a function defined in the module `src.utils` and is used in the module `src.streamlit_app`.\\n20. `src.utils.set_log_level` is a function defined in the module `src.utils` and is used in the module `src.streamlit_app`.\\n21. `src.utils.repo.REPO_DIR` is a property of `src.utils.repo` imported and used in the module `src.streamlit_app`.\\n22. `src.utils.repo.clone_repo_from_url` is a function defined in the module `src.utils.repo` and is used in the function `src.streamlit_app.main` in the module `src.streamlit_app`.\\n23. `src.utils.repo.delete_cloned_repo` is a function defined in the module `src.utils.repo` and is used in the function `src.streamlit_app.main` in the module `src.streamlit_app`.\\n24. `src.utils.repo.get_cached_repo_tree` is a function defined in the module `src.utils.repo` and is used in the function `src.streamlit_app.main` in the module `src.streamlit_app`.\\n25. `src.utils.repo.repo_exists` is a function defined in the module `src.utils.repo` and is used in the function `src.streamlit_app.main` in the module `src.streamlit_app`.\\n26. `src.streamlit_app.main` is a function defined in the module `src.streamlit_app` and is called in the module `src.streamlit_app` under the `if __name__ == \"__main__\":` block.')),\n",
       " GraphDocument(nodes=[Node(id='Src.Agent_Router.Graph', type='Module', properties={}), Node(id='Src.Agent_Router.Graph.Create_Router_Graph', type='Function', properties={}), Node(id='Basechatmodel', type='Package', properties={}), Node(id='Basetool', type='Package', properties={}), Node(id='Stategraph', type='Package', properties={}), Node(id='Start', type='Package', properties={}), Node(id='Memorysaver', type='Package', properties={}), Node(id='Src.Agent_Router.Nodes.Create_Supervisor_Node', type='Function', properties={}), Node(id='Src.Agent_Router.Nodes.Create_Agent_Node', type='Function', properties={}), Node(id='Src.Agent_Router.State.Routerstate', type='Class', properties={}), Node(id='Src.Utils.Get_Logger', type='Function', properties={})], relationships=[Relationship(source=Node(id='Src.Agent_Router.Graph', type='Module', properties={}), target=Node(id='Src.Agent_Router.Graph.Create_Router_Graph', type='Function', properties={}), type='DEFINES', properties={}), Relationship(source=Node(id='Src.Agent_Router.Graph.Create_Router_Graph', type='Function', properties={}), target=Node(id='Basechatmodel', type='Package', properties={}), type='USES', properties={}), Relationship(source=Node(id='Src.Agent_Router.Graph.Create_Router_Graph', type='Function', properties={}), target=Node(id='Basetool', type='Package', properties={}), type='USES', properties={}), Relationship(source=Node(id='Src.Agent_Router.Graph.Create_Router_Graph', type='Function', properties={}), target=Node(id='Stategraph', type='Package', properties={}), type='USES', properties={}), Relationship(source=Node(id='Src.Agent_Router.Graph.Create_Router_Graph', type='Function', properties={}), target=Node(id='Start', type='Package', properties={}), type='USES', properties={}), Relationship(source=Node(id='Src.Agent_Router.Graph.Create_Router_Graph', type='Function', properties={}), target=Node(id='Memorysaver', type='Package', properties={}), type='USES', properties={}), Relationship(source=Node(id='Src.Agent_Router.Graph.Create_Router_Graph', type='Function', properties={}), target=Node(id='Src.Agent_Router.Nodes.Create_Supervisor_Node', type='Function', properties={}), type='USES', properties={}), Relationship(source=Node(id='Src.Agent_Router.Graph.Create_Router_Graph', type='Function', properties={}), target=Node(id='Src.Agent_Router.Nodes.Create_Agent_Node', type='Function', properties={}), type='USES', properties={}), Relationship(source=Node(id='Src.Agent_Router.Graph.Create_Router_Graph', type='Function', properties={}), target=Node(id='Src.Agent_Router.State.Routerstate', type='Class', properties={}), type='USES', properties={}), Relationship(source=Node(id='Src.Agent_Router.Graph', type='Module', properties={}), target=Node(id='Src.Utils.Get_Logger', type='Function', properties={}), type='USES', properties={})], source=Document(metadata={'source': 'src\\\\agent_router\\\\graph.py'}, page_content='- src.agent_router.graph is a module that defines the function src.agent_router.graph.create_router_graph.\\n- BaseChatModel is a package used in the function src.agent_router.graph.create_router_graph.\\n- BaseTool is a package used in the function src.agent_router.graph.create_router_graph.\\n- StateGraph is a package used in the function src.agent_router.graph.create_router_graph.\\n- START is a package used in the function src.agent_router.graph.create_router_graph.\\n- MemorySaver is a package used in the function src.agent_router.graph.create_router_graph.\\n- src.agent_router.nodes.create_supervisor_node is a function imported and used in src.agent_router.graph.create_router_graph.\\n- src.agent_router.nodes.create_agent_node is a function imported and used in src.agent_router.graph.create_router_graph.\\n- src.agent_router.state.RouterState is a class imported and used in the function src.agent_router.graph.create_router_graph.\\n- src.utils.get_logger is a function imported and used in the module src.agent_router.graph.')),\n",
       " GraphDocument(nodes=[Node(id='Src.Agent_Router.Nodes.Create_Supervisor_Node', type='Function', properties={}), Node(id='Src.Agent_Router.Nodes', type='Module', properties={}), Node(id='Langchain_Core.Language_Models', type='Package', properties={}), Node(id='Langchain_Core.Messages', type='Package', properties={}), Node(id='Langchain_Core.Tools', type='Package', properties={}), Node(id='Langgraph.Graph', type='Package', properties={}), Node(id='Langgraph.Prebuilt', type='Package', properties={}), Node(id='Langgraph.Types', type='Package', properties={}), Node(id='Src.Utils.Filesystem.Get_Logger', type='Function', properties={}), Node(id='Src.Agent_Router.State', type='Module', properties={}), Node(id='Src.Agent_Router.Nodes.Create_Agent_Node', type='Function', properties={})], relationships=[Relationship(source=Node(id='Src.Agent_Router.Nodes.Create_Supervisor_Node', type='Function', properties={}), target=Node(id='Src.Agent_Router.Nodes', type='Module', properties={}), type='DEFINED_IN', properties={}), Relationship(source=Node(id='Src.Agent_Router.Nodes.Create_Supervisor_Node', type='Function', properties={}), target=Node(id='Langchain_Core.Language_Models', type='Package', properties={}), type='USES', properties={}), Relationship(source=Node(id='Src.Agent_Router.Nodes.Create_Supervisor_Node', type='Function', properties={}), target=Node(id='Langchain_Core.Messages', type='Package', properties={}), type='USES', properties={}), Relationship(source=Node(id='Src.Agent_Router.Nodes.Create_Supervisor_Node', type='Function', properties={}), target=Node(id='Langchain_Core.Tools', type='Package', properties={}), type='USES', properties={}), Relationship(source=Node(id='Src.Agent_Router.Nodes.Create_Supervisor_Node', type='Function', properties={}), target=Node(id='Langgraph.Graph', type='Package', properties={}), type='USES', properties={}), Relationship(source=Node(id='Src.Agent_Router.Nodes.Create_Supervisor_Node', type='Function', properties={}), target=Node(id='Langgraph.Prebuilt', type='Package', properties={}), type='USES', properties={}), Relationship(source=Node(id='Src.Agent_Router.Nodes.Create_Supervisor_Node', type='Function', properties={}), target=Node(id='Langgraph.Types', type='Package', properties={}), type='USES', properties={}), Relationship(source=Node(id='Src.Agent_Router.Nodes.Create_Supervisor_Node', type='Function', properties={}), target=Node(id='Src.Utils.Filesystem.Get_Logger', type='Function', properties={}), type='USES', properties={}), Relationship(source=Node(id='Src.Agent_Router.Nodes', type='Module', properties={}), target=Node(id='Src.Agent_Router.State', type='Module', properties={}), type='IMPORTS', properties={}), Relationship(source=Node(id='Src.Agent_Router.Nodes.Create_Agent_Node', type='Function', properties={}), target=Node(id='Src.Agent_Router.Nodes', type='Module', properties={}), type='DEFINED_IN', properties={}), Relationship(source=Node(id='Src.Agent_Router.Nodes.Create_Agent_Node', type='Function', properties={}), target=Node(id='Langchain_Core.Language_Models', type='Package', properties={}), type='USES', properties={}), Relationship(source=Node(id='Src.Agent_Router.Nodes.Create_Agent_Node', type='Function', properties={}), target=Node(id='Langchain_Core.Tools', type='Package', properties={}), type='USES', properties={}), Relationship(source=Node(id='Src.Agent_Router.Nodes.Create_Agent_Node', type='Function', properties={}), target=Node(id='Langgraph.Prebuilt', type='Package', properties={}), type='USES', properties={}), Relationship(source=Node(id='Src.Agent_Router.Nodes.Create_Agent_Node', type='Function', properties={}), target=Node(id='Src.Utils.Filesystem.Get_Logger', type='Function', properties={}), type='USES', properties={})], source=Document(metadata={'source': 'src\\\\agent_router\\\\nodes.py'}, page_content='- The function `src.agent_router.nodes.create_supervisor_node` is defined in the module `src.agent_router.nodes`.\\n- The package `langchain_core.language_models` is used in the function `src.agent_router.nodes.create_supervisor_node`.\\n- The package `langchain_core.messages` is used in the function `src.agent_router.nodes.create_supervisor_node`.\\n- The package `langchain_core.tools` is used in the function `src.agent_router.nodes.create_supervisor_node`.\\n- The package `langgraph.graph` is used in the function `src.agent_router.nodes.create_supervisor_node`.\\n- The package `langgraph.prebuilt` is used in the function `src.agent_router.nodes.create_supervisor_node`.\\n- The package `langgraph.types` is used in the function `src.agent_router.nodes.create_supervisor_node`.\\n- The function `src.utils.filesystem.get_logger` is used in the function `src.agent_router.nodes.create_supervisor_node`.\\n- The module `src.agent_router.state` is imported in the module `src.agent_router.nodes`.\\n- The function `src.agent_router.nodes.create_agent_node` is defined in the module `src.agent_router.nodes`.\\n- The package `langchain_core.language_models` is used in the function `src.agent_router.nodes.create_agent_node`.\\n- The package `langchain_core.tools` is used in the function `src.agent_router.nodes.create_agent_node`.\\n- The module `src.agent_router.state` is imported in the module `src.agent_router.nodes`.\\n- The package `langgraph.prebuilt` is used in the function `src.agent_router.nodes.create_agent_node`.\\n- The function `src.utils.filesystem.get_logger` is used in the function `src.agent_router.nodes.create_agent_node`.')),\n",
       " GraphDocument(nodes=[Node(id='Src.Agent_Router.State', type='Module', properties={}), Node(id='Src.Agent_Router.State.Routerstate', type='Class', properties={}), Node(id='Langgraph.Graph.Messagesstate', type='Class', properties={}), Node(id='Src.Agent_Router.State.Routeroutput', type='Class', properties={}), Node(id='Typing', type='Package', properties={}), Node(id='Typing_Extensions', type='Package', properties={})], relationships=[Relationship(source=Node(id='Src.Agent_Router.State.Routerstate', type='Class', properties={}), target=Node(id='Src.Agent_Router.State', type='Module', properties={}), type='DEFINED_IN', properties={}), Relationship(source=Node(id='Src.Agent_Router.State.Routerstate', type='Class', properties={}), target=Node(id='Langgraph.Graph.Messagesstate', type='Class', properties={}), type='INHERITS_FROM', properties={}), Relationship(source=Node(id='Src.Agent_Router.State.Routeroutput', type='Class', properties={}), target=Node(id='Src.Agent_Router.State', type='Module', properties={}), type='DEFINED_IN', properties={}), Relationship(source=Node(id='Src.Agent_Router.State.Routeroutput', type='Class', properties={}), target=Node(id='Typing', type='Package', properties={}), type='USES', properties={}), Relationship(source=Node(id='Src.Agent_Router.State.Routeroutput', type='Class', properties={}), target=Node(id='Typing_Extensions', type='Package', properties={}), type='USES', properties={})], source=Document(metadata={'source': 'src\\\\agent_router\\\\state.py'}, page_content='The class src.agent_router.state.RouterState is defined in the module src.agent_router.state.\\n\\nThe class src.agent_router.state.RouterState inherits from the class langgraph.graph.MessagesState.\\n\\nThe class src.agent_router.state.RouterOutput is defined in the module src.agent_router.state.\\n\\nThe package typing is used in the class src.agent_router.state.RouterOutput.\\n\\nThe package typing_extensions is used in the class src.agent_router.state.RouterOutput.')),\n",
       " GraphDocument(nodes=[Node(id='Src.Agent_Router.Graph.Create_Router_Graph', type='Function', properties={}), Node(id='Src.Agent_Router', type='Module', properties={})], relationships=[Relationship(source=Node(id='Src.Agent_Router.Graph.Create_Router_Graph', type='Function', properties={}), target=Node(id='Src.Agent_Router', type='Module', properties={}), type='IMPORTED_INTO', properties={})], source=Document(metadata={'source': 'src\\\\agent_router\\\\__init__.py'}, page_content='The function src.agent_router.graph.create_router_graph is imported into the module src.agent_router.')),\n",
       " GraphDocument(nodes=[Node(id='Src.App.Session_State', type='Module', properties={}), Node(id='Src.App.Session_State.Initialize_Session_State', type='Function', properties={}), Node(id='Src.App.Session_State.Get_Session_Cleanup', type='Function', properties={}), Node(id='Src.App.Session_State.Cleanup_Repo', type='Function', properties={}), Node(id='Os', type='Package', properties={}), Node(id='Shutil', type='Package', properties={}), Node(id='Time', type='Package', properties={}), Node(id='Uuid', type='Package', properties={}), Node(id='Streamlit', type='Package', properties={}), Node(id='Src.Utils', type='Module', properties={}), Node(id='Src.Tools.Setup', type='Module', properties={}), Node(id='Src.Agent_Router.Graph', type='Module', properties={}), Node(id='Src.Utils.Get_Logger', type='Function', properties={}), Node(id='Src.Utils.Set_Log_Level', type='Function', properties={})], relationships=[Relationship(source=Node(id='Src.App.Session_State.Initialize_Session_State', type='Function', properties={}), target=Node(id='Src.App.Session_State', type='Module', properties={}), type='DEFINED_IN', properties={}), Relationship(source=Node(id='Src.App.Session_State.Get_Session_Cleanup', type='Function', properties={}), target=Node(id='Src.App.Session_State', type='Module', properties={}), type='DEFINED_IN', properties={}), Relationship(source=Node(id='Src.App.Session_State.Cleanup_Repo', type='Function', properties={}), target=Node(id='Src.App.Session_State', type='Module', properties={}), type='DEFINED_IN', properties={}), Relationship(source=Node(id='Src.App.Session_State.Cleanup_Repo', type='Function', properties={}), target=Node(id='Os', type='Package', properties={}), type='USES', properties={}), Relationship(source=Node(id='Src.App.Session_State.Cleanup_Repo', type='Function', properties={}), target=Node(id='Shutil', type='Package', properties={}), type='USES', properties={}), Relationship(source=Node(id='Src.App.Session_State', type='Module', properties={}), target=Node(id='Time', type='Package', properties={}), type='USES', properties={}), Relationship(source=Node(id='Src.App.Session_State.Initialize_Session_State', type='Function', properties={}), target=Node(id='Uuid', type='Package', properties={}), type='USES', properties={}), Relationship(source=Node(id='Src.App.Session_State.Initialize_Session_State', type='Function', properties={}), target=Node(id='Streamlit', type='Package', properties={}), type='USES', properties={}), Relationship(source=Node(id='Src.App.Session_State.Get_Session_Cleanup', type='Function', properties={}), target=Node(id='Streamlit', type='Package', properties={}), type='USES', properties={}), Relationship(source=Node(id='Src.App.Session_State.Cleanup_Repo', type='Function', properties={}), target=Node(id='Streamlit', type='Package', properties={}), type='USES', properties={}), Relationship(source=Node(id='Src.App.Session_State', type='Module', properties={}), target=Node(id='Src.Utils', type='Module', properties={}), type='USES', properties={}), Relationship(source=Node(id='Src.App.Session_State.Initialize_Session_State', type='Function', properties={}), target=Node(id='Src.Tools.Setup', type='Module', properties={}), type='USES', properties={}), Relationship(source=Node(id='Src.App.Session_State.Initialize_Session_State', type='Function', properties={}), target=Node(id='Src.Agent_Router.Graph', type='Module', properties={}), type='USES', properties={}), Relationship(source=Node(id='Src.App.Session_State', type='Module', properties={}), target=Node(id='Src.Utils.Get_Logger', type='Function', properties={}), type='USES', properties={}), Relationship(source=Node(id='Src.App.Session_State', type='Module', properties={}), target=Node(id='Src.Utils.Set_Log_Level', type='Function', properties={}), type='USES', properties={})], source=Document(metadata={'source': 'src\\\\app\\\\session_state.py'}, page_content='src.app.session_state.initialize_session_state is a function defined in the module src.app.session_state.\\n\\nsrc.app.session_state.get_session_cleanup is a function defined in the module src.app.session_state.\\n\\nsrc.app.session_state.cleanup_repo is a function defined in the module src.app.session_state.\\n\\nos is a package and is used in the function src.app.session_state.cleanup_repo defined in the module src.app.session_state.\\n\\nshutil is a package and is used in the function src.app.session_state.cleanup_repo defined in the module src.app.session_state.\\n\\ntime is a package and is used in the module src.app.session_state.\\n\\nuuid is a package and is used in the function src.app.session_state.initialize_session_state defined in the module src.app.session_state.\\n\\nstreamlit is a package and is used in the functions src.app.session_state.initialize_session_state, src.app.session_state.get_session_cleanup, and src.app.session_state.cleanup_repo defined in the module src.app.session_state.\\n\\nsrc.utils is a module and is used in the module src.app.session_state.\\n\\nsrc.tools.setup is a module and is used in the function src.app.session_state.initialize_session_state defined in the module src.app.session_state.\\n\\nsrc.agent_router.graph is a module and is used in the function src.app.session_state.initialize_session_state defined in the module src.app.session_state.\\n\\nsrc.utils.get_logger is a function imported from the module src.utils and is used to obtain the logger object in the module src.app.session_state.\\n\\nsrc.utils.set_log_level is a function imported from the module src.utils and is used in the module src.app.session_state.')),\n",
       " GraphDocument(nodes=[Node(id='Src.App.__Init__', type='Module', properties={})], relationships=[], source=Document(metadata={'source': 'src\\\\app\\\\__init__.py'}, page_content=\"The content of 'src.app.__init__' was not provided. To generate a structured natural language description of relationships, I would need the actual code from the file. If you provide the code, I can then extract and describe the relationships between classes, functions, and modules.\")),\n",
       " GraphDocument(nodes=[Node(id='Src.App.Graph_Builders.Micro_Graph_Builder', type='Module', properties={}), Node(id='Src.App.Graph_Builders.Micro_Graph_Builder.Microcodegraphbuilder', type='Class', properties={}), Node(id='Os', type='Package', properties={}), Node(id='Dotenv', type='Package', properties={}), Node(id='Langchain_Core.Documents', type='Package', properties={}), Node(id='Langchain_Core.Language_Models', type='Package', properties={}), Node(id='Langchain_Experimental.Graph_Transformers', type='Package', properties={}), Node(id='Langchain_Neo4J', type='Package', properties={}), Node(id='Utils', type='Package', properties={}), Node(id='Utils.Filesystem.Read_Code_File', type='Function', properties={}), Node(id='Utils.Repo.Generate_Repo_Tree', type='Function', properties={}), Node(id='Src.App.Graph_Builders.Micro_Graph_Builder.Microcodegraphbuilder.__Init__', type='Method', properties={}), Node(id='Langchain_Core.Messages.Humanmessage', type='Class', properties={}), Node(id='Langchain_Core.Messages.Systemmessage', type='Class', properties={}), Node(id='Src.App.Graph_Builders.Micro_Graph_Builder.Microcodegraphbuilder.Build_Graph_And_Upload', type='Method', properties={}), Node(id='Utils.Filesystem.List_Python_Files', type='Function', properties={})], relationships=[Relationship(source=Node(id='Src.App.Graph_Builders.Micro_Graph_Builder', type='Module', properties={}), target=Node(id='Src.App.Graph_Builders.Micro_Graph_Builder.Microcodegraphbuilder', type='Class', properties={}), type='DEFINES', properties={}), Relationship(source=Node(id='Src.App.Graph_Builders.Micro_Graph_Builder.Microcodegraphbuilder', type='Class', properties={}), target=Node(id='Src.App.Graph_Builders.Micro_Graph_Builder', type='Module', properties={}), type='DEFINED_IN', properties={}), Relationship(source=Node(id='Os', type='Package', properties={}), target=Node(id='Src.App.Graph_Builders.Micro_Graph_Builder.Microcodegraphbuilder.Build_Graph_And_Upload', type='Method', properties={}), type='USED_IN', properties={}), Relationship(source=Node(id='Os', type='Package', properties={}), target=Node(id='Src.App.Graph_Builders.Micro_Graph_Builder.Microcodegraphbuilder.__Init__', type='Method', properties={}), type='USED_IN', properties={}), Relationship(source=Node(id='Dotenv', type='Package', properties={}), target=Node(id='Src.App.Graph_Builders.Micro_Graph_Builder', type='Module', properties={}), type='USED_IN', properties={}), Relationship(source=Node(id='Langchain_Core.Documents', type='Package', properties={}), target=Node(id='Src.App.Graph_Builders.Micro_Graph_Builder', type='Module', properties={}), type='USED_IN', properties={}), Relationship(source=Node(id='Langchain_Core.Language_Models', type='Package', properties={}), target=Node(id='Src.App.Graph_Builders.Micro_Graph_Builder', type='Module', properties={}), type='USED_IN', properties={}), Relationship(source=Node(id='Langchain_Experimental.Graph_Transformers', type='Package', properties={}), target=Node(id='Src.App.Graph_Builders.Micro_Graph_Builder', type='Module', properties={}), type='USED_IN', properties={}), Relationship(source=Node(id='Langchain_Neo4J', type='Package', properties={}), target=Node(id='Src.App.Graph_Builders.Micro_Graph_Builder', type='Module', properties={}), type='USED_IN', properties={}), Relationship(source=Node(id='Utils', type='Package', properties={}), target=Node(id='Src.App.Graph_Builders.Micro_Graph_Builder', type='Module', properties={}), type='USED_IN', properties={}), Relationship(source=Node(id='Utils.Filesystem.Read_Code_File', type='Function', properties={}), target=Node(id='Src.App.Graph_Builders.Micro_Graph_Builder.Microcodegraphbuilder.Build_Graph_And_Upload', type='Method', properties={}), type='USED_IN', properties={}), Relationship(source=Node(id='Utils.Repo.Generate_Repo_Tree', type='Function', properties={}), target=Node(id='Src.App.Graph_Builders.Micro_Graph_Builder.Microcodegraphbuilder.Build_Graph_And_Upload', type='Method', properties={}), type='USED_IN', properties={}), Relationship(source=Node(id='Src.App.Graph_Builders.Micro_Graph_Builder.Microcodegraphbuilder.__Init__', type='Method', properties={}), target=Node(id='Src.App.Graph_Builders.Micro_Graph_Builder.Microcodegraphbuilder', type='Class', properties={}), type='DEFINED_IN', properties={}), Relationship(source=Node(id='Langchain_Core.Messages.Humanmessage', type='Class', properties={}), target=Node(id='Src.App.Graph_Builders.Micro_Graph_Builder.Microcodegraphbuilder.Build_Graph_And_Upload', type='Method', properties={}), type='USED_IN', properties={}), Relationship(source=Node(id='Langchain_Core.Messages.Systemmessage', type='Class', properties={}), target=Node(id='Src.App.Graph_Builders.Micro_Graph_Builder.Microcodegraphbuilder.Build_Graph_And_Upload', type='Method', properties={}), type='USED_IN', properties={}), Relationship(source=Node(id='Src.App.Graph_Builders.Micro_Graph_Builder.Microcodegraphbuilder.Build_Graph_And_Upload', type='Method', properties={}), target=Node(id='Src.App.Graph_Builders.Micro_Graph_Builder.Microcodegraphbuilder', type='Class', properties={}), type='DEFINED_IN', properties={}), Relationship(source=Node(id='Utils.Filesystem.List_Python_Files', type='Function', properties={}), target=Node(id='Src.App.Graph_Builders.Micro_Graph_Builder.Microcodegraphbuilder.Build_Graph_And_Upload', type='Method', properties={}), type='USED_IN', properties={})], source=Document(metadata={'source': 'src\\\\app\\\\graph_builders\\\\micro_graph_builder.py'}, page_content='src.app.graph_builders.micro_graph_builder is a module that defines the class src.app.graph_builders.micro_graph_builder.MicroCodeGraphBuilder.\\n\\nsrc.app.graph_builders.micro_graph_builder.MicroCodeGraphBuilder is a class defined in the module src.app.graph_builders.micro_graph_builder.\\n\\nos is a package and is used in the functions src.app.graph_builders.micro_graph_builder.MicroCodeGraphBuilder.build_graph_and_upload and src.app.graph_builders.micro_graph_builder.MicroCodeGraphBuilder.__init__ of the class src.app.graph_builders.micro_graph_builder.MicroCodeGraphBuilder.\\n\\ndotenv is a package and is used in the module src.app.graph_builders.micro_graph_builder.\\n\\nlangchain_core.documents is a package and is used in the module src.app.graph_builders.micro_graph_builder.\\n\\nlangchain_core.language_models is a package and is used in the module src.app.graph_builders.micro_graph_builder.\\n\\nlangchain_experimental.graph_transformers is a package and is used in the module src.app.graph_builders.micro_graph_builder.\\n\\nlangchain_neo4j is a package and is used in the module src.app.graph_builders.micro_graph_builder.\\n\\nutils is a package whose get_logger function is used in the module src.app.graph_builders.micro_graph_builder.\\n\\nutils.filesystem.read_code_file is a function used in the method src.app.graph_builders.micro_graph_builder.MicroCodeGraphBuilder.build_graph_and_upload.\\n\\nutils.repo.generate_repo_tree is a function used in the method src.app.graph_builders.micro_graph_builder.MicroCodeGraphBuilder.build_graph_and_upload.\\n\\nsrc.app.graph_builders.micro_graph_builder.MicroCodeGraphBuilder.__init__ is a method and is defined in the class src.app.graph_builders.micro_graph_builder.MicroCodeGraphBuilder.\\n\\nlangchain_core.messages.HumanMessage is a class used in the method src.app.graph_builders.micro_graph_builder.MicroCodeGraphBuilder.build_graph_and_upload.\\n\\nlangchain_core.messages.SystemMessage is a class used in the method src.app.graph_builders.micro_graph_builder.MicroCodeGraphBuilder.build_graph_and_upload.\\n\\nsrc.app.graph_builders.micro_graph_builder.MicroCodeGraphBuilder.build_graph_and_upload is a method and is defined in the class src.app.graph_builders.micro_graph_builder.MicroCodeGraphBuilder.\\n\\nutils.filesystem.list_python_files is a function used in the method src.app.graph_builders.micro_graph_builder.MicroCodeGraphBuilder.build_graph_and_upload.')),\n",
       " GraphDocument(nodes=[Node(id='Src.App.Graph_Builders.__Init__', type='Module', properties={})], relationships=[], source=Document(metadata={'source': 'src\\\\app\\\\graph_builders\\\\__init__.py'}, page_content='The module `src.app.graph_builders.__init__` is a module for initialization purposes within the directory `src/app/graph_builders`. \\n\\nThere are no explicit classes, methods, or functions defined in the provided code. No modules, functions, or packages are explicitly imported or used within this src.app.graph_builders.__init__ module based on the provided information.')),\n",
       " GraphDocument(nodes=[Node(id='Streamlit', type='Package', properties={}), Node(id='Langchain_Core.Messages', type='Package', properties={}), Node(id='Aimessage', type='Class', properties={}), Node(id='Humanmessage', type='Class', properties={}), Node(id='Src.Tools.Macro.Tools', type='Module', properties={}), Node(id='Src.Tools.Micro.Tools', type='Module', properties={}), Node(id='Src.App.Ui.Chat.Display_Messages', type='Function', properties={}), Node(id='Logging', type='Package', properties={}), Node(id='Src.App.Handlers.Query_Handler.Process_Query', type='Function', properties={}), Node(id='Src.App.Handlers.Query_Handler', type='Module', properties={})], relationships=[Relationship(source=Node(id='Aimessage', type='Class', properties={}), target=Node(id='Langchain_Core.Messages', type='Package', properties={}), type='IMPORTED_FROM', properties={}), Relationship(source=Node(id='Humanmessage', type='Class', properties={}), target=Node(id='Langchain_Core.Messages', type='Package', properties={}), type='IMPORTED_FROM', properties={}), Relationship(source=Node(id='Src.App.Ui.Chat.Display_Messages', type='Function', properties={}), target=Node(id='Src.App.Handlers.Query_Handler.Process_Query', type='Function', properties={}), type='USED_IN', properties={}), Relationship(source=Node(id='Streamlit', type='Package', properties={}), target=Node(id='Src.App.Handlers.Query_Handler.Process_Query', type='Function', properties={}), type='USED_IN', properties={}), Relationship(source=Node(id='Langchain_Core.Messages', type='Package', properties={}), target=Node(id='Src.App.Handlers.Query_Handler.Process_Query', type='Function', properties={}), type='USED_IN', properties={}), Relationship(source=Node(id='Src.Tools.Macro.Tools', type='Module', properties={}), target=Node(id='Src.App.Handlers.Query_Handler.Process_Query', type='Function', properties={}), type='USED_IN', properties={}), Relationship(source=Node(id='Src.Tools.Micro.Tools', type='Module', properties={}), target=Node(id='Src.App.Handlers.Query_Handler.Process_Query', type='Function', properties={}), type='USED_IN', properties={}), Relationship(source=Node(id='Logging', type='Package', properties={}), target=Node(id='Src.App.Handlers.Query_Handler.Process_Query', type='Function', properties={}), type='USED_IN', properties={}), Relationship(source=Node(id='Src.App.Handlers.Query_Handler.Process_Query', type='Function', properties={}), target=Node(id='Src.App.Handlers.Query_Handler', type='Module', properties={}), type='DEFINED_IN', properties={})], source=Document(metadata={'source': 'src\\\\app\\\\handlers\\\\query_handler.py'}, page_content='- streamlit is a package used in the function src.app.handlers.query_handler.process_query.\\n- langchain_core.messages is a package, and AIMessage and HumanMessage are imported from it and used in the function src.app.handlers.query_handler.process_query.\\n- src.tools.macro.tools is a module imported and used in the function src.app.handlers.query_handler.process_query as mat.\\n- src.tools.micro.tools is a module imported and used in the function src.app.handlers.query_handler.process_query as mt.\\n- src.app.ui.chat.display_messages is a function imported and used in the function src.app.handlers.query_handler.process_query.\\n- logging is a package used in the function src.app.handlers.query_handler.process_query.\\n- src.app.handlers.query_handler.process_query is a function defined in the module src.app.handlers.query_handler.')),\n",
       " GraphDocument(nodes=[Node(id='Src.App.Handlers.Process_Query', type='Function', properties={}), Node(id='Src.App.Handlers.__Init__', type='Module', properties={}), Node(id='Src.App.Handlers.Query_Handler', type='Module', properties={})], relationships=[Relationship(source=Node(id='Src.App.Handlers.Process_Query', type='Function', properties={}), target=Node(id='Src.App.Handlers.__Init__', type='Module', properties={}), type='IMPORTED_INTO', properties={}), Relationship(source=Node(id='Src.App.Handlers.Process_Query', type='Function', properties={}), target=Node(id='Src.App.Handlers.Query_Handler', type='Module', properties={}), type='IMPORTED_FROM', properties={})], source=Document(metadata={'source': 'src\\\\app\\\\handlers\\\\__init__.py'}, page_content='src.app.handlers.process_query is a function imported into the module src.app.handlers.__init__ from the module src.app.handlers.query_handler.')),\n",
       " GraphDocument(nodes=[Node(id='Src.App.Setup.Initialize_Database', type='Module', properties={}), Node(id='Src.App.Setup.Initialize_Database.Initialize_Database', type='Function', properties={}), Node(id='Os', type='Package', properties={}), Node(id='Time', type='Package', properties={}), Node(id='Typing', type='Package', properties={}), Node(id='Streamlit', type='Package', properties={}), Node(id='Langchain', type='Package', properties={}), Node(id='Src.Utils.Logger.Get_Logger', type='Function', properties={}), Node(id='Src.Utils.Filesystem.List_Python_Files', type='Function', properties={}), Node(id='Src.Utils.Filesystem', type='Package', properties={}), Node(id='Src.Rag.Vector_Rag.Create_Rag_System', type='Function', properties={}), Node(id='Src.App.Graph_Builders.Micro_Graph_Builder.Microcodegraphbuilder', type='Class', properties={}), Node(id='Src.Tools.Micro.Tools', type='Module', properties={})], relationships=[Relationship(source=Node(id='Src.App.Setup.Initialize_Database', type='Module', properties={}), target=Node(id='Src.App.Setup.Initialize_Database.Initialize_Database', type='Function', properties={}), type='DEFINES', properties={}), Relationship(source=Node(id='Src.App.Setup.Initialize_Database.Initialize_Database', type='Function', properties={}), target=Node(id='Os', type='Package', properties={}), type='USES', properties={}), Relationship(source=Node(id='Src.App.Setup.Initialize_Database.Initialize_Database', type='Function', properties={}), target=Node(id='Time', type='Package', properties={}), type='USES', properties={}), Relationship(source=Node(id='Src.App.Setup.Initialize_Database.Initialize_Database', type='Function', properties={}), target=Node(id='Typing', type='Package', properties={}), type='USES', properties={}), Relationship(source=Node(id='Src.App.Setup.Initialize_Database.Initialize_Database', type='Function', properties={}), target=Node(id='Streamlit', type='Package', properties={}), type='USES', properties={}), Relationship(source=Node(id='Src.App.Setup.Initialize_Database.Initialize_Database', type='Function', properties={}), target=Node(id='Langchain', type='Package', properties={}), type='USES', properties={}), Relationship(source=Node(id='Src.App.Setup.Initialize_Database.Initialize_Database', type='Function', properties={}), target=Node(id='Src.Utils.Logger.Get_Logger', type='Function', properties={}), type='USES', properties={}), Relationship(source=Node(id='Src.App.Setup.Initialize_Database.Initialize_Database', type='Function', properties={}), target=Node(id='Src.Utils.Filesystem.List_Python_Files', type='Function', properties={}), type='USES', properties={}), Relationship(source=Node(id='Src.App.Setup.Initialize_Database.Initialize_Database', type='Function', properties={}), target=Node(id='Src.Utils.Filesystem', type='Package', properties={}), type='USES', properties={}), Relationship(source=Node(id='Src.App.Setup.Initialize_Database.Initialize_Database', type='Function', properties={}), target=Node(id='Src.Rag.Vector_Rag.Create_Rag_System', type='Function', properties={}), type='USES', properties={}), Relationship(source=Node(id='Src.App.Setup.Initialize_Database.Initialize_Database', type='Function', properties={}), target=Node(id='Src.App.Graph_Builders.Micro_Graph_Builder.Microcodegraphbuilder', type='Class', properties={}), type='USES', properties={}), Relationship(source=Node(id='Src.App.Setup.Initialize_Database.Initialize_Database', type='Function', properties={}), target=Node(id='Src.Tools.Micro.Tools', type='Module', properties={}), type='USES', properties={})], source=Document(metadata={'source': 'src\\\\app\\\\setup\\\\initialize_database.py'}, page_content='- src.app.setup.initialize_database is a module that defines the function src.app.setup.initialize_database.initialize_database.\\n- os is a package and is used in the function src.app.setup.initialize_database.initialize_database.\\n- time is a package and is used in the function src.app.setup.initialize_database.initialize_database.\\n- typing is a package and is used in the function src.app.setup.initialize_database.initialize_database.\\n- streamlit is a package and is used in the function src.app.setup.initialize_database.initialize_database.\\n- langchain is a package and is used in the function src.app.setup.initialize_database.initialize_database.\\n- src.utils.logger.get_logger is a function that is used in the function src.app.setup.initialize_database.initialize_database.\\n- src.utils.filesystem.list_python_files is a function that is used in the function src.app.setup.initialize_database.initialize_database.\\n- src.utils.filesystem is a package that is used in the function src.app.setup.initialize_database.initialize_database.\\n- src.rag.vector_rag.create_rag_system is a function that is used in the function src.app.setup.initialize_database.initialize_database.\\n- src.app.graph_builders.micro_graph_builder.MicroCodeGraphBuilder is a class that is used in the function src.app.setup.initialize_database.initialize_database.\\n- src.tools.micro.tools is a module and its alias mt is used in the function src.app.setup.initialize_database.initialize_database.')),\n",
       " GraphDocument(nodes=[Node(id='Src.App.Setup.Initialize_Database.Initialize_Database', type='Function', properties={}), Node(id='Src.App.Setup', type='Module', properties={})], relationships=[Relationship(source=Node(id='Src.App.Setup', type='Module', properties={}), target=Node(id='Src.App.Setup.Initialize_Database.Initialize_Database', type='Function', properties={}), type='IMPORTS', properties={})], source=Document(metadata={'source': 'src\\\\app\\\\setup\\\\__init__.py'}, page_content='The function src.app.setup.initialize_database.initialize_database is imported into the module src.app.setup.')),\n",
       " GraphDocument(nodes=[Node(id='Streamlit', type='Package', properties={}), Node(id='Src.App.Ui.Chat.Display_Messages', type='Function', properties={}), Node(id='Langchain_Core.Messages.Humanmessage', type='Module', properties={}), Node(id='Src.App.Ui.Chat', type='Module', properties={})], relationships=[Relationship(source=Node(id='Streamlit', type='Package', properties={}), target=Node(id='Src.App.Ui.Chat.Display_Messages', type='Function', properties={}), type='USED_IN', properties={}), Relationship(source=Node(id='Langchain_Core.Messages.Humanmessage', type='Module', properties={}), target=Node(id='Src.App.Ui.Chat.Display_Messages', type='Function', properties={}), type='USED_IN', properties={}), Relationship(source=Node(id='Src.App.Ui.Chat.Display_Messages', type='Function', properties={}), target=Node(id='Src.App.Ui.Chat', type='Module', properties={}), type='DEFINED_IN', properties={})], source=Document(metadata={'source': 'src\\\\app\\\\ui\\\\chat.py'}, page_content='streamlit is a package and is used in the function src.app.ui.chat.display_messages.  \\nlangchain_core.messages.HumanMessage is a module imported and is used in the function src.app.ui.chat.display_messages.  \\nsrc.app.ui.chat.display_messages is a function defined in the module src.app.ui.chat.')),\n",
       " GraphDocument(nodes=[Node(id='Src.App.Ui.Visualization', type='Module', properties={}), Node(id='Src.App.Ui.Visualization.Display_Visualization', type='Function', properties={}), Node(id='Os', type='Package', properties={}), Node(id='Streamlit', type='Package', properties={}), Node(id='Streamlit.Components.V1', type='Package', properties={})], relationships=[Relationship(source=Node(id='Src.App.Ui.Visualization', type='Module', properties={}), target=Node(id='Src.App.Ui.Visualization.Display_Visualization', type='Function', properties={}), type='DEFINES', properties={}), Relationship(source=Node(id='Src.App.Ui.Visualization.Display_Visualization', type='Function', properties={}), target=Node(id='Os', type='Package', properties={}), type='USES', properties={}), Relationship(source=Node(id='Src.App.Ui.Visualization.Display_Visualization', type='Function', properties={}), target=Node(id='Streamlit', type='Package', properties={}), type='USES', properties={}), Relationship(source=Node(id='Src.App.Ui.Visualization.Display_Visualization', type='Function', properties={}), target=Node(id='Streamlit.Components.V1', type='Package', properties={}), type='USES', properties={})], source=Document(metadata={'source': 'src\\\\app\\\\ui\\\\visualization.py'}, page_content='src.app.ui.visualization is a module that defines the function src.app.ui.visualization.display_visualization.  \\nos is a package and is used in the function src.app.ui.visualization.display_visualization.  \\nstreamlit is a package and is used in the function src.app.ui.visualization.display_visualization.  \\nstreamlit.components.v1 is a package and is used in the function src.app.ui.visualization.display_visualization.  ')),\n",
       " GraphDocument(nodes=[Node(id='Src.App.Ui.Visualization.Display_Visualization', type='Function', properties={}), Node(id='Src.App.Ui.Chat.Display_Messages', type='Function', properties={}), Node(id='Src.App.Ui', type='Module', properties={})], relationships=[Relationship(source=Node(id='Src.App.Ui.Visualization.Display_Visualization', type='Function', properties={}), target=Node(id='Src.App.Ui', type='Module', properties={}), type='IMPORTED_INTO', properties={}), Relationship(source=Node(id='Src.App.Ui.Chat.Display_Messages', type='Function', properties={}), target=Node(id='Src.App.Ui', type='Module', properties={}), type='IMPORTED_INTO', properties={})], source=Document(metadata={'source': 'src\\\\app\\\\ui\\\\__init__.py'}, page_content='- The function src.app.ui.visualization.display_visualization is imported into the module src.app.ui.\\n- The function src.app.ui.chat.display_messages is imported into the module src.app.ui.')),\n",
       " GraphDocument(nodes=[Node(id='Src.Rag.Vector_Rag', type='Module', properties={}), Node(id='Src.Rag.Vector_Rag.Create_Rag_System', type='Function', properties={}), Node(id='Src.Rag.Vector_Rag.Ragvectordbsetup', type='Class', properties={}), Node(id='Src.Rag.Vector_Rag.Ragqueryengine', type='Class', properties={}), Node(id='Os', type='Package', properties={}), Node(id='Src.Utils.Repo.Generate_Repo_Tree', type='Function', properties={}), Node(id='Src.Utils', type='Module', properties={}), Node(id='Src.Utils.Get_Logger', type='Function', properties={}), Node(id='Langchain_Core.Documents', type='Package', properties={}), Node(id='Langchain_Core.Messages', type='Package', properties={}), Node(id='Langchain_Core.Prompts', type='Package', properties={}), Node(id='Langchain_Core.Vectorstores', type='Package', properties={}), Node(id='Langchain_Openai', type='Package', properties={}), Node(id='Langchain_Text_Splitters', type='Package', properties={}), Node(id='Langgraph.Graph', type='Package', properties={}), Node(id='Langchain.Chat_Models', type='Package', properties={})], relationships=[Relationship(source=Node(id='Src.Rag.Vector_Rag', type='Module', properties={}), target=Node(id='Src.Rag.Vector_Rag.Create_Rag_System', type='Function', properties={}), type='DEFINES', properties={}), Relationship(source=Node(id='Src.Rag.Vector_Rag', type='Module', properties={}), target=Node(id='Src.Rag.Vector_Rag.Ragvectordbsetup', type='Class', properties={}), type='DEFINES', properties={}), Relationship(source=Node(id='Src.Rag.Vector_Rag', type='Module', properties={}), target=Node(id='Src.Rag.Vector_Rag.Ragqueryengine', type='Class', properties={}), type='DEFINES', properties={}), Relationship(source=Node(id='Src.Rag.Vector_Rag.Ragvectordbsetup.Generate_Code_Descriptions', type='Method', properties={}), target=Node(id='Os', type='Package', properties={}), type='USES', properties={}), Relationship(source=Node(id='Src.Rag.Vector_Rag.Ragvectordbsetup.Generate_Code_Descriptions', type='Method', properties={}), target=Node(id='Src.Utils.Repo.Generate_Repo_Tree', type='Function', properties={}), type='USES', properties={}), Relationship(source=Node(id='Src.Rag.Vector_Rag', type='Module', properties={}), target=Node(id='Src.Utils.Get_Logger', type='Function', properties={}), type='USES', properties={}), Relationship(source=Node(id='Src.Rag.Vector_Rag.Ragqueryengine', type='Class', properties={}), target=Node(id='Langchain_Core.Documents', type='Package', properties={}), type='USES', properties={}), Relationship(source=Node(id='Src.Rag.Vector_Rag.Ragvectordbsetup', type='Class', properties={}), target=Node(id='Langchain_Core.Messages', type='Package', properties={}), type='USES', properties={}), Relationship(source=Node(id='Src.Rag.Vector_Rag.Ragqueryengine', type='Class', properties={}), target=Node(id='Langchain_Core.Prompts', type='Package', properties={}), type='USES', properties={}), Relationship(source=Node(id='Src.Rag.Vector_Rag.Ragvectordbsetup', type='Class', properties={}), target=Node(id='Langchain_Core.Vectorstores', type='Package', properties={}), type='USES', properties={}), Relationship(source=Node(id='Src.Rag.Vector_Rag.Ragvectordbsetup.__Init__', type='Method', properties={}), target=Node(id='Langchain_Openai', type='Package', properties={}), type='USES', properties={}), Relationship(source=Node(id='Src.Rag.Vector_Rag.Ragvectordbsetup.Build_Vector_Store', type='Method', properties={}), target=Node(id='Langchain_Text_Splitters', type='Package', properties={}), type='USES', properties={}), Relationship(source=Node(id='Src.Rag.Vector_Rag.Ragqueryengine.Build_Graph', type='Method', properties={}), target=Node(id='Langgraph.Graph', type='Package', properties={}), type='USES', properties={}), Relationship(source=Node(id='Src.Rag.Vector_Rag.Ragqueryengine.__Init__', type='Method', properties={}), target=Node(id='Langchain.Chat_Models', type='Package', properties={}), type='USES', properties={})], source=Document(metadata={'source': 'src\\\\rag\\\\vector_rag.py'}, page_content='src.rag.vector_rag is a module that defines the function src.rag.vector_rag.create_rag_system, which initializes the RAG system from a code repository.\\n\\nsrc.rag.vector_rag is a module that defines the class src.rag.vector_rag.RAGVectorDBSetup, which initializes the vector database setup for code semantics.\\n\\nos is a package and is used in the method src.rag.vector_rag.RAGVectorDBSetup.generate_code_descriptions of the class src.rag.vector_rag.RAGVectorDBSetup.\\n\\nsrc.utils.repo.generate_repo_tree is a function imported from the module src.utils.repo and is used in the method src.rag.vector_rag.RAGVectorDBSetup.generate_code_descriptions of the class src.rag.vector_rag.RAGVectorDBSetup.\\n\\nsrc.utils.get_logger is a function imported from the module src.utils and is used in the module src.rag.vector_rag to set up a module-wide logger.\\n\\nsrc.rag.vector_rag is a module that defines the class src.rag.vector_rag.RAGQueryEngine, which initializes the query engine for LangGraph-based semantic search.\\n\\nlangchain_core.documents is a package and is used in the class src.rag.vector_rag.RAGQueryEngine.\\n\\nlangchain_core.messages is a package and is used in the class src.rag.vector_rag.RAGVectorDBSetup.\\n\\nlangchain_core.prompts is a package and is used in the class src.rag.vector_rag.RAGQueryEngine.\\n\\nlangchain_core.vectorstores is a package and is used in the class src.rag.vector_rag.RAGVectorDBSetup.\\n\\nlangchain_openai is a package and is used in the method src.rag.vector_rag.RAGVectorDBSetup.__init__ of the class src.rag.vector_rag.RAGVectorDBSetup.\\n\\nlangchain_text_splitters is a package and is used in the method src.rag.vector_rag.RAGVectorDBSetup.build_vector_store of the class src.rag.vector_rag.RAGVectorDBSetup.\\n\\nlanggraph.graph is a package and is used in the method src.rag.vector_rag.RAGQueryEngine.build_graph of the class src.rag.vector_rag.RAGQueryEngine.\\n\\nlangchain.chat_models is a package and is used in the method src.rag.vector_rag.RAGQueryEngine.__init__ of the class src.rag.vector_rag.RAGQueryEngine.')),\n",
       " GraphDocument(nodes=[Node(id='Src.Rag.__Init__', type='Module', properties={})], relationships=[], source=Document(metadata={'source': 'src\\\\rag\\\\__init__.py'}, page_content='src.rag.__init__ does not define any functions, classes, or methods and does not import any packages or modules.')),\n",
       " GraphDocument(nodes=[Node(id='Src.Tools.Setup', type='Module', properties={}), Node(id='Src.Tools.Setup.Setup_Analysis_Tools', type='Function', properties={}), Node(id='Langchain_Core.Tools', type='Package', properties={}), Node(id='Src.Tools.Macro.Tools', type='Module', properties={}), Node(id='Src.Tools.Micro.Tools', type='Module', properties={})], relationships=[Relationship(source=Node(id='Src.Tools.Setup', type='Module', properties={}), target=Node(id='Src.Tools.Setup.Setup_Analysis_Tools', type='Function', properties={}), type='DEFINES', properties={}), Relationship(source=Node(id='Src.Tools.Setup.Setup_Analysis_Tools', type='Function', properties={}), target=Node(id='Langchain_Core.Tools', type='Package', properties={}), type='USES', properties={}), Relationship(source=Node(id='Src.Tools.Setup.Setup_Analysis_Tools', type='Function', properties={}), target=Node(id='Src.Tools.Macro.Tools', type='Module', properties={}), type='USES', properties={}), Relationship(source=Node(id='Src.Tools.Setup.Setup_Analysis_Tools', type='Function', properties={}), target=Node(id='Src.Tools.Micro.Tools', type='Module', properties={}), type='USES', properties={})], source=Document(metadata={'source': 'src\\\\tools\\\\setup.py'}, page_content='src.tools.setup is a module that defines the function src.tools.setup.setup_analysis_tools.  \\nsrc.tools.setup.setup_analysis_tools is a function defined in the module src.tools.setup.  \\nlangchain_core.tools is a package and is used in the function src.tools.setup.setup_analysis_tools.  \\nsrc.tools.macro.tools is a module that is imported and used in the function src.tools.setup.setup_analysis_tools.  \\nsrc.tools.micro.tools is a module that is imported and used in the function src.tools.setup.setup_analysis_tools.  ')),\n",
       " GraphDocument(nodes=[Node(id='Src.Tools', type='Module', properties={}), Node(id='Src.Tools.__Init__', type='Module', properties={})], relationships=[Relationship(source=Node(id='Src.Tools', type='Module', properties={}), target=Node(id='Src.Tools.__Init__', type='Module', properties={}), type='INITIALIZES', properties={})], source=Document(metadata={'source': 'src\\\\tools\\\\__init__.py'}, page_content='The module `src.tools` is initialized in `src.tools.__init__`, which is a module.')),\n",
       " GraphDocument(nodes=[Node(id='Src.Tools.Macro.Tools', type='Module', properties={}), Node(id='Src.Tools.Macro.Tools.Generate_Text_Response', type='Function', properties={}), Node(id='Src.Tools.Macro.Tools.Generate_Mermaid_Diagram', type='Function', properties={}), Node(id='Json', type='Package', properties={}), Node(id='Os', type='Package', properties={}), Node(id='Typing', type='Package', properties={}), Node(id='Dotenv', type='Package', properties={}), Node(id='Langchain.Chat_Models', type='Package', properties={}), Node(id='Langchain_Core.Language_Models', type='Package', properties={}), Node(id='Langchain_Core.Output_Parsers', type='Package', properties={}), Node(id='Langchain_Core.Prompts', type='Package', properties={}), Node(id='Langchain_Core.Tools', type='Package', properties={}), Node(id='Src.Utils', type='Package', properties={}), Node(id='Src.Utils.Filesystem', type='Package', properties={}), Node(id='Src.Utils.Repo', type='Package', properties={})], relationships=[Relationship(source=Node(id='Src.Tools.Macro.Tools', type='Module', properties={}), target=Node(id='Src.Tools.Macro.Tools.Generate_Text_Response', type='Function', properties={}), type='DEFINES', properties={}), Relationship(source=Node(id='Src.Tools.Macro.Tools', type='Module', properties={}), target=Node(id='Json', type='Package', properties={}), type='USES', properties={}), Relationship(source=Node(id='Src.Tools.Macro.Tools', type='Module', properties={}), target=Node(id='Os', type='Package', properties={}), type='USES', properties={}), Relationship(source=Node(id='Src.Tools.Macro.Tools', type='Module', properties={}), target=Node(id='Typing', type='Package', properties={}), type='USES', properties={}), Relationship(source=Node(id='Src.Tools.Macro.Tools', type='Module', properties={}), target=Node(id='Dotenv', type='Package', properties={}), type='USES', properties={}), Relationship(source=Node(id='Src.Tools.Macro.Tools', type='Module', properties={}), target=Node(id='Langchain_Core.Tools', type='Package', properties={}), type='USES', properties={}), Relationship(source=Node(id='Src.Tools.Macro.Tools', type='Module', properties={}), target=Node(id='Src.Utils', type='Package', properties={}), type='USES', properties={}), Relationship(source=Node(id='Src.Tools.Macro.Tools', type='Module', properties={}), target=Node(id='Src.Tools.Macro.Tools.Generate_Mermaid_Diagram', type='Function', properties={}), type='DEFINES', properties={}), Relationship(source=Node(id='Src.Tools.Macro.Tools.Generate_Text_Response', type='Function', properties={}), target=Node(id='Langchain.Chat_Models', type='Package', properties={}), type='USES', properties={}), Relationship(source=Node(id='Src.Tools.Macro.Tools.Generate_Text_Response', type='Function', properties={}), target=Node(id='Langchain_Core.Language_Models', type='Package', properties={}), type='USES', properties={}), Relationship(source=Node(id='Src.Tools.Macro.Tools.Generate_Text_Response', type='Function', properties={}), target=Node(id='Langchain_Core.Output_Parsers', type='Package', properties={}), type='USES', properties={}), Relationship(source=Node(id='Src.Tools.Macro.Tools.Generate_Text_Response', type='Function', properties={}), target=Node(id='Langchain_Core.Prompts', type='Package', properties={}), type='USES', properties={}), Relationship(source=Node(id='Src.Tools.Macro.Tools.Generate_Text_Response', type='Function', properties={}), target=Node(id='Src.Utils.Filesystem', type='Package', properties={}), type='USES', properties={}), Relationship(source=Node(id='Src.Tools.Macro.Tools.Generate_Text_Response', type='Function', properties={}), target=Node(id='Src.Utils.Repo', type='Package', properties={}), type='USES', properties={}), Relationship(source=Node(id='Src.Tools.Macro.Tools.Generate_Mermaid_Diagram', type='Function', properties={}), target=Node(id='Langchain.Chat_Models', type='Package', properties={}), type='USES', properties={}), Relationship(source=Node(id='Src.Tools.Macro.Tools.Generate_Mermaid_Diagram', type='Function', properties={}), target=Node(id='Langchain_Core.Language_Models', type='Package', properties={}), type='USES', properties={}), Relationship(source=Node(id='Src.Tools.Macro.Tools.Generate_Mermaid_Diagram', type='Function', properties={}), target=Node(id='Langchain_Core.Output_Parsers', type='Package', properties={}), type='USES', properties={}), Relationship(source=Node(id='Src.Tools.Macro.Tools.Generate_Mermaid_Diagram', type='Function', properties={}), target=Node(id='Langchain_Core.Prompts', type='Package', properties={}), type='USES', properties={}), Relationship(source=Node(id='Src.Tools.Macro.Tools.Generate_Mermaid_Diagram', type='Function', properties={}), target=Node(id='Os', type='Package', properties={}), type='USES', properties={})], source=Document(metadata={'source': 'src\\\\tools\\\\macro\\\\tools.py'}, page_content='- src.tools.macro.tools is a module that defines the function src.tools.macro.tools.generate_text_response.\\n- json is a package and is used in the module src.tools.macro.tools.\\n- os is a package and is used in the module src.tools.macro.tools.\\n- typing is a package and is used in the module src.tools.macro.tools.\\n- dotenv is a package and is used in the module src.tools.macro.tools.\\n- langchain.chat_models is a package and is used in the function src.tools.macro.tools.generate_text_response.\\n- langchain_core.language_models is a package and is used in the function src.tools.macro.tools.generate_text_response.\\n- langchain_core.output_parsers is a package and is used in the function src.tools.macro.tools.generate_text_response.\\n- langchain_core.prompts is a package and is used in the function src.tools.macro.tools.generate_text_response.\\n- langchain_core.tools is a package and is used in the module src.tools.macro.tools.\\n- src.utils is a package and is used in the module src.tools.macro.tools.\\n- src.utils.filesystem is a package and is used in the function src.tools.macro.tools.generate_text_response.\\n- src.utils.repo is a package and is used in the function src.tools.macro.tools.generate_text_response.\\n- src.tools.macro.tools is a module that defines the function src.tools.macro.tools.generate_mermaid_diagram.\\n- langchain.chat_models is a package and is used in the function src.tools.macro.tools.generate_mermaid_diagram.\\n- langchain_core.language_models is a package and is used in the function src.tools.macro.tools.generate_mermaid_diagram.\\n- langchain_core.output_parsers is a package and is used in the function src.tools.macro.tools.generate_mermaid_diagram.\\n- langchain_core.prompts is a package and is used in the function src.tools.macro.tools.generate_mermaid_diagram.\\n- os is a package and is used in the function src.tools.macro.tools.generate_mermaid_diagram.')),\n",
       " GraphDocument(nodes=[Node(id='Src.Tools.Macro.__Init__', type='Module', properties={})], relationships=[], source=Document(metadata={'source': 'src\\\\tools\\\\macro\\\\__init__.py'}, page_content='The module `src.tools.macro.__init__` is defined in the repository.')),\n",
       " GraphDocument(nodes=[Node(id='Src.Tools.Micro.Cypher_Query_Builder.Inputstate', type='Class', properties={}), Node(id='Src.Tools.Micro.Cypher_Query_Builder', type='Module', properties={}), Node(id='Src.Tools.Micro.Cypher_Query_Builder.Overallstate', type='Class', properties={}), Node(id='Src.Tools.Micro.Cypher_Query_Builder.Outputstate', type='Class', properties={}), Node(id='Src.Tools.Micro.Cypher_Query_Builder.Property', type='Class', properties={}), Node(id='Src.Tools.Micro.Cypher_Query_Builder.Validatecypheroutput', type='Class', properties={}), Node(id='Src.Tools.Micro.Cypher_Query_Builder.Create_Example_Selector', type='Function', properties={}), Node(id='Src.Tools.Micro.Cypher_Query_Builder.Create_Text2Cypher_Chain', type='Function', properties={}), Node(id='Src.Tools.Micro.Cypher_Query_Builder.Create_Validate_Cypher_Chain', type='Function', properties={}), Node(id='Src.Tools.Micro.Cypher_Query_Builder.Create_Correct_Cypher_Chain', type='Function', properties={}), Node(id='Src.Tools.Micro.Cypher_Query_Builder.Create_Generate_Final_Chain', type='Function', properties={}), Node(id='Src.Tools.Micro.Cypher_Query_Builder.Cyphergraphbuilder', type='Class', properties={}), Node(id='Src.Tools.Micro.Cypher_Query_Builder.Cyphergraphbuilder.__Init__', type='Method', properties={}), Node(id='Src.Tools.Micro.Cypher_Query_Builder.Cyphergraphbuilder.Create_Corrector_Schema', type='Method', properties={}), Node(id='Src.Tools.Micro.Cypher_Query_Builder.Cyphergraphbuilder.Generate_Cypher', type='Method', properties={}), Node(id='Src.Tools.Micro.Cypher_Query_Builder.Cyphergraphbuilder.Validate_Cypher', type='Method', properties={}), Node(id='Src.Tools.Micro.Cypher_Query_Builder.Cyphergraphbuilder.Correct_Cypher', type='Method', properties={}), Node(id='Src.Tools.Micro.Cypher_Query_Builder.Cyphergraphbuilder.Execute_Cypher', type='Method', properties={}), Node(id='Src.Tools.Micro.Cypher_Query_Builder.Cyphergraphbuilder.Generate_Final_Answer', type='Method', properties={}), Node(id='Src.Tools.Micro.Cypher_Query_Builder.Cyphergraphbuilder.Validate_Cypher_Condition', type='Method', properties={}), Node(id='Src.Tools.Micro.Cypher_Query_Builder.Cyphergraphbuilder.Create_Cypher_Graph', type='Method', properties={}), Node(id='Operator', type='Package', properties={}), Node(id='Langchain_Core.Prompts.Chatprompttemplate', type='Package', properties={}), Node(id='Langchain_Core.Example_Selectors.Semanticsimilarityexampleselector', type='Package', properties={}), Node(id='Pydantic', type='Package', properties={}), Node(id='Logging', type='Package', properties={}), Node(id='Langchain_Neo4J', type='Package', properties={})], relationships=[Relationship(source=Node(id='Src.Tools.Micro.Cypher_Query_Builder.Inputstate', type='Class', properties={}), target=Node(id='Src.Tools.Micro.Cypher_Query_Builder', type='Module', properties={}), type='DEFINED_IN', properties={}), Relationship(source=Node(id='Src.Tools.Micro.Cypher_Query_Builder.Overallstate', type='Class', properties={}), target=Node(id='Src.Tools.Micro.Cypher_Query_Builder', type='Module', properties={}), type='DEFINED_IN', properties={}), Relationship(source=Node(id='Src.Tools.Micro.Cypher_Query_Builder.Outputstate', type='Class', properties={}), target=Node(id='Src.Tools.Micro.Cypher_Query_Builder', type='Module', properties={}), type='DEFINED_IN', properties={}), Relationship(source=Node(id='Src.Tools.Micro.Cypher_Query_Builder.Property', type='Class', properties={}), target=Node(id='Src.Tools.Micro.Cypher_Query_Builder', type='Module', properties={}), type='DEFINED_IN', properties={}), Relationship(source=Node(id='Src.Tools.Micro.Cypher_Query_Builder.Validatecypheroutput', type='Class', properties={}), target=Node(id='Src.Tools.Micro.Cypher_Query_Builder', type='Module', properties={}), type='DEFINED_IN', properties={}), Relationship(source=Node(id='Src.Tools.Micro.Cypher_Query_Builder.Create_Example_Selector', type='Function', properties={}), target=Node(id='Src.Tools.Micro.Cypher_Query_Builder', type='Module', properties={}), type='DEFINED_IN', properties={}), Relationship(source=Node(id='Src.Tools.Micro.Cypher_Query_Builder.Create_Text2Cypher_Chain', type='Function', properties={}), target=Node(id='Src.Tools.Micro.Cypher_Query_Builder', type='Module', properties={}), type='DEFINED_IN', properties={}), Relationship(source=Node(id='Src.Tools.Micro.Cypher_Query_Builder.Create_Validate_Cypher_Chain', type='Function', properties={}), target=Node(id='Src.Tools.Micro.Cypher_Query_Builder', type='Module', properties={}), type='DEFINED_IN', properties={}), Relationship(source=Node(id='Src.Tools.Micro.Cypher_Query_Builder.Create_Correct_Cypher_Chain', type='Function', properties={}), target=Node(id='Src.Tools.Micro.Cypher_Query_Builder', type='Module', properties={}), type='DEFINED_IN', properties={}), Relationship(source=Node(id='Src.Tools.Micro.Cypher_Query_Builder.Create_Generate_Final_Chain', type='Function', properties={}), target=Node(id='Src.Tools.Micro.Cypher_Query_Builder', type='Module', properties={}), type='DEFINED_IN', properties={}), Relationship(source=Node(id='Src.Tools.Micro.Cypher_Query_Builder.Cyphergraphbuilder', type='Class', properties={}), target=Node(id='Src.Tools.Micro.Cypher_Query_Builder', type='Module', properties={}), type='DEFINED_IN', properties={}), Relationship(source=Node(id='Src.Tools.Micro.Cypher_Query_Builder.Cyphergraphbuilder.__Init__', type='Method', properties={}), target=Node(id='Src.Tools.Micro.Cypher_Query_Builder.Cyphergraphbuilder', type='Class', properties={}), type='DEFINED_IN', properties={}), Relationship(source=Node(id='Src.Tools.Micro.Cypher_Query_Builder.Cyphergraphbuilder.Create_Corrector_Schema', type='Method', properties={}), target=Node(id='Src.Tools.Micro.Cypher_Query_Builder.Cyphergraphbuilder', type='Class', properties={}), type='DEFINED_IN', properties={}), Relationship(source=Node(id='Src.Tools.Micro.Cypher_Query_Builder.Cyphergraphbuilder.Generate_Cypher', type='Method', properties={}), target=Node(id='Src.Tools.Micro.Cypher_Query_Builder.Cyphergraphbuilder', type='Class', properties={}), type='DEFINED_IN', properties={}), Relationship(source=Node(id='Src.Tools.Micro.Cypher_Query_Builder.Cyphergraphbuilder.Validate_Cypher', type='Method', properties={}), target=Node(id='Src.Tools.Micro.Cypher_Query_Builder.Cyphergraphbuilder', type='Class', properties={}), type='DEFINED_IN', properties={}), Relationship(source=Node(id='Src.Tools.Micro.Cypher_Query_Builder.Cyphergraphbuilder.Correct_Cypher', type='Method', properties={}), target=Node(id='Src.Tools.Micro.Cypher_Query_Builder.Cyphergraphbuilder', type='Class', properties={}), type='DEFINED_IN', properties={}), Relationship(source=Node(id='Src.Tools.Micro.Cypher_Query_Builder.Cyphergraphbuilder.Execute_Cypher', type='Method', properties={}), target=Node(id='Src.Tools.Micro.Cypher_Query_Builder.Cyphergraphbuilder', type='Class', properties={}), type='DEFINED_IN', properties={}), Relationship(source=Node(id='Src.Tools.Micro.Cypher_Query_Builder.Cyphergraphbuilder.Generate_Final_Answer', type='Method', properties={}), target=Node(id='Src.Tools.Micro.Cypher_Query_Builder.Cyphergraphbuilder', type='Class', properties={}), type='DEFINED_IN', properties={}), Relationship(source=Node(id='Src.Tools.Micro.Cypher_Query_Builder.Cyphergraphbuilder.Validate_Cypher_Condition', type='Method', properties={}), target=Node(id='Src.Tools.Micro.Cypher_Query_Builder.Cyphergraphbuilder', type='Class', properties={}), type='DEFINED_IN', properties={}), Relationship(source=Node(id='Src.Tools.Micro.Cypher_Query_Builder.Cyphergraphbuilder.Create_Cypher_Graph', type='Method', properties={}), target=Node(id='Src.Tools.Micro.Cypher_Query_Builder.Cyphergraphbuilder', type='Class', properties={}), type='DEFINED_IN', properties={}), Relationship(source=Node(id='Src.Tools.Micro.Cypher_Query_Builder.Overallstate', type='Class', properties={}), target=Node(id='Operator', type='Package', properties={}), type='USES', properties={}), Relationship(source=Node(id='Src.Tools.Micro.Cypher_Query_Builder.Create_Text2Cypher_Chain', type='Function', properties={}), target=Node(id='Langchain_Core.Prompts.Chatprompttemplate', type='Package', properties={}), type='USES', properties={}), Relationship(source=Node(id='Src.Tools.Micro.Cypher_Query_Builder.Create_Generate_Final_Chain', type='Function', properties={}), target=Node(id='Langchain_Core.Prompts.Chatprompttemplate', type='Package', properties={}), type='USES', properties={}), Relationship(source=Node(id='Src.Tools.Micro.Cypher_Query_Builder.Create_Example_Selector', type='Function', properties={}), target=Node(id='Langchain_Core.Example_Selectors.Semanticsimilarityexampleselector', type='Package', properties={}), type='USES', properties={}), Relationship(source=Node(id='Src.Tools.Micro.Cypher_Query_Builder.Property', type='Class', properties={}), target=Node(id='Pydantic', type='Package', properties={}), type='USES', properties={}), Relationship(source=Node(id='Src.Tools.Micro.Cypher_Query_Builder.Validatecypheroutput', type='Class', properties={}), target=Node(id='Pydantic', type='Package', properties={}), type='USES', properties={}), Relationship(source=Node(id='Src.Tools.Micro.Cypher_Query_Builder.Cyphergraphbuilder.Generate_Cypher', type='Method', properties={}), target=Node(id='Logging', type='Package', properties={}), type='USES', properties={}), Relationship(source=Node(id='Src.Tools.Micro.Cypher_Query_Builder.Cyphergraphbuilder.Validate_Cypher', type='Method', properties={}), target=Node(id='Logging', type='Package', properties={}), type='USES', properties={}), Relationship(source=Node(id='Src.Tools.Micro.Cypher_Query_Builder.Create_Example_Selector', type='Function', properties={}), target=Node(id='Langchain_Neo4J', type='Package', properties={}), type='USES', properties={}), Relationship(source=Node(id='Src.Tools.Micro.Cypher_Query_Builder.Cyphergraphbuilder.Create_Corrector_Schema', type='Method', properties={}), target=Node(id='Langchain_Neo4J', type='Package', properties={}), type='USES', properties={})], source=Document(metadata={'source': 'src\\\\tools\\\\micro\\\\cypher_query_builder.py'}, page_content='- The class `src.tools.micro.cypher_query_builder.InputState` is defined in the module `src.tools.micro.cypher_query_builder`.\\n- The class `src.tools.micro.cypher_query_builder.OverallState` is defined in the module `src.tools.micro.cypher_query_builder`.\\n- The class `src.tools.micro.cypher_query_builder.OutputState` is defined in the module `src.tools.micro.cypher_query_builder`.\\n- The class `src.tools.micro.cypher_query_builder.Property` is defined in the module `src.tools.micro.cypher_query_builder`.\\n- The class `src.tools.micro.cypher_query_builder.ValidateCypherOutput` is defined in the module `src.tools.micro.cypher_query_builder`.\\n- The function `src.tools.micro.cypher_query_builder.create_example_selector` is defined in the module `src.tools.micro.cypher_query_builder`.\\n- The function `src.tools.micro.cypher_query_builder.create_text2cypher_chain` is defined in the module `src.tools.micro.cypher_query_builder`.\\n- The function `src.tools.micro.cypher_query_builder.create_validate_cypher_chain` is defined in the module `src.tools.micro.cypher_query_builder`.\\n- The function `src.tools.micro.cypher_query_builder.create_correct_cypher_chain` is defined in the module `src.tools.micro.cypher_query_builder`.\\n- The function `src.tools.micro.cypher_query_builder.create_generate_final_chain` is defined in the module `src.tools.micro.cypher_query_builder`.\\n- The class `src.tools.micro.cypher_query_builder.CypherGraphBuilder` is defined in the module `src.tools.micro.cypher_query_builder`.\\n- The method `src.tools.micro.cypher_query_builder.CypherGraphBuilder.__init__` is defined in the class `src.tools.micro.cypher_query_builder.CypherGraphBuilder`.\\n- The method `src.tools.micro.cypher_query_builder.CypherGraphBuilder.create_corrector_schema` is defined in the class `src.tools.micro.cypher_query_builder.CypherGraphBuilder`.\\n- The method `src.tools.micro.cypher_query_builder.CypherGraphBuilder.generate_cypher` is defined in the class `src.tools.micro.cypher_query_builder.CypherGraphBuilder`.\\n- The method `src.tools.micro.cypher_query_builder.CypherGraphBuilder.validate_cypher` is defined in the class `src.tools.micro.cypher_query_builder.CypherGraphBuilder`.\\n- The method `src.tools.micro.cypher_query_builder.CypherGraphBuilder.correct_cypher` is defined in the class `src.tools.micro.cypher_query_builder.CypherGraphBuilder`.\\n- The method `src.tools.micro.cypher_query_builder.CypherGraphBuilder.execute_cypher` is defined in the class `src.tools.micro.cypher_query_builder.CypherGraphBuilder`.\\n- The method `src.tools.micro.cypher_query_builder.CypherGraphBuilder.generate_final_answer` is defined in the class `src.tools.micro.cypher_query_builder.CypherGraphBuilder`.\\n- The method `src.tools.micro.cypher_query_builder.CypherGraphBuilder.validate_cypher_condition` is defined in the class `src.tools.micro.cypher_query_builder.CypherGraphBuilder`.\\n- The method `src.tools.micro.cypher_query_builder.CypherGraphBuilder.create_cypher_graph` is defined in the class `src.tools.micro.cypher_query_builder.CypherGraphBuilder`.\\n- `operator` is a package used in the class `src.tools.micro.cypher_query_builder.OverallState`.\\n- `langchain_core.prompts.ChatPromptTemplate` is a package used in the function `src.tools.micro.cypher_query_builder.create_text2cypher_chain` and `src.tools.micro.cypher_query_builder.create_generate_final_chain`.\\n- `langchain_core.example_selectors.SemanticSimilarityExampleSelector` is a package used in the function `src.tools.micro.cypher_query_builder.create_example_selector`.\\n- `pydantic` is a package used in the class `src.tools.micro.cypher_query_builder.Property` and `src.tools.micro.cypher_query_builder.ValidateCypherOutput`.\\n- `logging` is a package used in the method `src.tools.micro.cypher_query_builder.CypherGraphBuilder.generate_cypher` and `src.tools.micro.cypher_query_builder.CypherGraphBuilder.validate_cypher`.\\n- `langchain_neo4j` is a package used in the function `src.tools.micro.cypher_query_builder.create_example_selector` and in the method `src.tools.micro.cypher_query_builder.CypherGraphBuilder.create_corrector_schema`.')),\n",
       " GraphDocument(nodes=[Node(id='Src.Tools.Micro.Cypher_Visualizer', type='Module', properties={}), Node(id='Src.Tools.Micro.Cypher_Visualizer.Visualize_Cypher_Results', type='Function', properties={}), Node(id='Pyvis.Network', type='Package', properties={}), Node(id='Networkx', type='Package', properties={}), Node(id='Matplotlib.Pyplot', type='Package', properties={})], relationships=[Relationship(source=Node(id='Src.Tools.Micro.Cypher_Visualizer', type='Module', properties={}), target=Node(id='Src.Tools.Micro.Cypher_Visualizer.Visualize_Cypher_Results', type='Function', properties={}), type='DEFINES', properties={}), Relationship(source=Node(id='Src.Tools.Micro.Cypher_Visualizer.Visualize_Cypher_Results', type='Function', properties={}), target=Node(id='Pyvis.Network', type='Package', properties={}), type='USES', properties={}), Relationship(source=Node(id='Src.Tools.Micro.Cypher_Visualizer.Visualize_Cypher_Results', type='Function', properties={}), target=Node(id='Networkx', type='Package', properties={}), type='USES', properties={}), Relationship(source=Node(id='Src.Tools.Micro.Cypher_Visualizer.Visualize_Cypher_Results', type='Function', properties={}), target=Node(id='Matplotlib.Pyplot', type='Package', properties={}), type='USES', properties={})], source=Document(metadata={'source': 'src\\\\tools\\\\micro\\\\cypher_visualizer.py'}, page_content='- The module src.tools.micro.cypher_visualizer defines the function src.tools.micro.cypher_visualizer.visualize_cypher_results. \\n- The package pyvis.network is used in the function src.tools.micro.cypher_visualizer.visualize_cypher_results. \\n- The package networkx is used in the function src.tools.micro.cypher_visualizer.visualize_cypher_results. \\n- The package matplotlib.pyplot is used in the function src.tools.micro.cypher_visualizer.visualize_cypher_results.')),\n",
       " GraphDocument(nodes=[Node(id='Src.Tools.Micro.Tools', type='Module', properties={}), Node(id='Src.Tools.Micro.Tools.Retrieve_Cypher_Relationships', type='Function', properties={}), Node(id='Src.Tools.Micro.Tools.Visualize_Relationships', type='Function', properties={}), Node(id='Src.Tools.Micro.Tools.Generate_Text_Response', type='Function', properties={}), Node(id='Os', type='Package', properties={}), Node(id='Json', type='Package', properties={}), Node(id='Dotenv', type='Package', properties={}), Node(id='Langchain_Core.Language_Models', type='Package', properties={}), Node(id='Langchain_Core.Tools', type='Package', properties={}), Node(id='Langchain.Chat_Models', type='Package', properties={}), Node(id='Langchain_Neo4J', type='Package', properties={}), Node(id='Src.Utils.Filesystem.Get_Logger', type='Function', properties={}), Node(id='Src.Tools.Micro.Cypher_Query_Builder', type='Module', properties={}), Node(id='Src.Tools.Micro.Cypher_Visualizer', type='Module', properties={})], relationships=[Relationship(source=Node(id='Src.Tools.Micro.Tools', type='Module', properties={}), target=Node(id='Src.Tools.Micro.Tools.Retrieve_Cypher_Relationships', type='Function', properties={}), type='DEFINES_FUNCTION', properties={}), Relationship(source=Node(id='Src.Tools.Micro.Tools', type='Module', properties={}), target=Node(id='Src.Tools.Micro.Tools.Visualize_Relationships', type='Function', properties={}), type='DEFINES_FUNCTION', properties={}), Relationship(source=Node(id='Src.Tools.Micro.Tools', type='Module', properties={}), target=Node(id='Src.Tools.Micro.Tools.Generate_Text_Response', type='Function', properties={}), type='DEFINES_FUNCTION', properties={}), Relationship(source=Node(id='Os', type='Package', properties={}), target=Node(id='Src.Tools.Micro.Tools.Retrieve_Cypher_Relationships', type='Function', properties={}), type='USED_IN_FUNCTION', properties={}), Relationship(source=Node(id='Json', type='Package', properties={}), target=Node(id='Src.Tools.Micro.Tools.Visualize_Relationships', type='Function', properties={}), type='USED_IN_FUNCTION', properties={}), Relationship(source=Node(id='Json', type='Package', properties={}), target=Node(id='Src.Tools.Micro.Tools.Generate_Text_Response', type='Function', properties={}), type='USED_IN_FUNCTION', properties={}), Relationship(source=Node(id='Dotenv', type='Package', properties={}), target=Node(id='Src.Tools.Micro.Tools', type='Module', properties={}), type='USED_IN_MODULE', properties={}), Relationship(source=Node(id='Langchain_Core.Language_Models', type='Package', properties={}), target=Node(id='Src.Tools.Micro.Tools', type='Module', properties={}), type='USED_IN_MODULE', properties={}), Relationship(source=Node(id='Langchain_Core.Tools', type='Package', properties={}), target=Node(id='Src.Tools.Micro.Tools', type='Module', properties={}), type='USED_IN_MODULE', properties={}), Relationship(source=Node(id='Langchain.Chat_Models', type='Package', properties={}), target=Node(id='Src.Tools.Micro.Tools.Retrieve_Cypher_Relationships', type='Function', properties={}), type='USED_IN_FUNCTION', properties={}), Relationship(source=Node(id='Langchain_Neo4J', type='Package', properties={}), target=Node(id='Src.Tools.Micro.Tools.Retrieve_Cypher_Relationships', type='Function', properties={}), type='USED_IN_FUNCTION', properties={}), Relationship(source=Node(id='Src.Utils.Filesystem.Get_Logger', type='Function', properties={}), target=Node(id='Src.Tools.Micro.Tools', type='Module', properties={}), type='IMPORTED_AND_USED_IN_MODULE', properties={}), Relationship(source=Node(id='Src.Tools.Micro.Cypher_Query_Builder', type='Module', properties={}), target=Node(id='Src.Tools.Micro.Tools.Retrieve_Cypher_Relationships', type='Function', properties={}), type='IMPORTED_AND_USED_IN_FUNCTION', properties={}), Relationship(source=Node(id='Src.Tools.Micro.Cypher_Visualizer', type='Module', properties={}), target=Node(id='Src.Tools.Micro.Tools.Visualize_Relationships', type='Function', properties={}), type='IMPORTED_AND_USED_IN_FUNCTION', properties={})], source=Document(metadata={'source': 'src\\\\tools\\\\micro\\\\tools.py'}, page_content='src.tools.micro.tools is a module that defines the function src.tools.micro.tools.retrieve_cypher_relationships.\\n\\nsrc.tools.micro.tools is a module that defines the function src.tools.micro.tools.visualize_relationships.\\n\\nsrc.tools.micro.tools is a module that defines the function src.tools.micro.tools.generate_text_response.\\n\\nos is a package and is used in the function src.tools.micro.tools.retrieve_cypher_relationships.\\n\\njson is a package and is used in the function src.tools.micro.tools.visualize_relationships.\\n\\njson is a package and is used in the function src.tools.micro.tools.generate_text_response.\\n\\ndotenv is a package and is used in the module src.tools.micro.tools.\\n\\nlangchain_core.language_models is a package and is used in the module src.tools.micro.tools.\\n\\nlangchain_core.tools is a package and is used in the module src.tools.micro.tools.\\n\\nlangchain.chat_models is a package and is used in the function src.tools.micro.tools.retrieve_cypher_relationships.\\n\\nlangchain_neo4j is a package and is used in the function src.tools.micro.tools.retrieve_cypher_relationships.\\n\\nsrc.utils.filesystem.get_logger is a function that is imported and used in the module src.tools.micro.tools.\\n\\nsrc.tools.micro.cypher_query_builder is a module that is imported and used in the function src.tools.micro.tools.retrieve_cypher_relationships.\\n\\nsrc.tools.micro.cypher_visualizer is a module that is imported and used in the function src.tools.micro.tools.visualize_relationships.')),\n",
       " GraphDocument(nodes=[Node(id='Src.Tools.Micro.Cypher_Visualizer.Visualize_Cypher_Results', type='Function', properties={}), Node(id='Src.Tools.Micro', type='Module', properties={}), Node(id='Src.Tools.Micro.Cypher_Query_Builder.Cyphergraphbuilder', type='Class', properties={})], relationships=[Relationship(source=Node(id='Src.Tools.Micro.Cypher_Visualizer.Visualize_Cypher_Results', type='Function', properties={}), target=Node(id='Src.Tools.Micro', type='Module', properties={}), type='IMPORTED_INTO', properties={}), Relationship(source=Node(id='Src.Tools.Micro.Cypher_Query_Builder.Cyphergraphbuilder', type='Class', properties={}), target=Node(id='Src.Tools.Micro', type='Module', properties={}), type='IMPORTED_INTO', properties={})], source=Document(metadata={'source': 'src\\\\tools\\\\micro\\\\__init__.py'}, page_content='The function `src.tools.micro.cypher_visualizer.visualize_cypher_results` is imported into the module `src.tools.micro.__init__`.\\n\\nThe class `src.tools.micro.cypher_query_builder.CypherGraphBuilder` is imported into the module `src.tools.micro.__init__`.')),\n",
       " GraphDocument(nodes=[Node(id='Src.Utils.Filesystem', type='Module', properties={}), Node(id='Src.Utils.Filesystem.List_Python_Files', type='Function', properties={}), Node(id='Src.Utils.Filesystem.Read_Code_File', type='Function', properties={}), Node(id='Os', type='Package', properties={}), Node(id='Typing', type='Package', properties={}), Node(id='Utils.Logger.Get_Logger', type='Function', properties={})], relationships=[Relationship(source=Node(id='Src.Utils.Filesystem', type='Module', properties={}), target=Node(id='Src.Utils.Filesystem.List_Python_Files', type='Function', properties={}), type='DEFINES_FUNCTION', properties={}), Relationship(source=Node(id='Src.Utils.Filesystem', type='Module', properties={}), target=Node(id='Src.Utils.Filesystem.Read_Code_File', type='Function', properties={}), type='DEFINES_FUNCTION', properties={}), Relationship(source=Node(id='Src.Utils.Filesystem.List_Python_Files', type='Function', properties={}), target=Node(id='Os', type='Package', properties={}), type='USES_PACKAGE', properties={}), Relationship(source=Node(id='Src.Utils.Filesystem.List_Python_Files', type='Function', properties={}), target=Node(id='Typing', type='Package', properties={}), type='USES_PACKAGE', properties={}), Relationship(source=Node(id='Src.Utils.Filesystem', type='Module', properties={}), target=Node(id='Utils.Logger.Get_Logger', type='Function', properties={}), type='USES_FUNCTION', properties={}), Relationship(source=Node(id='Src.Utils.Filesystem.List_Python_Files', type='Function', properties={}), target=Node(id='Utils.Logger.Get_Logger', type='Function', properties={}), type='USES_FUNCTION', properties={}), Relationship(source=Node(id='Src.Utils.Filesystem.Read_Code_File', type='Function', properties={}), target=Node(id='Utils.Logger.Get_Logger', type='Function', properties={}), type='USES_FUNCTION', properties={})], source=Document(metadata={'source': 'src\\\\utils\\\\filesystem.py'}, page_content='src.utils.filesystem is a module that defines the function src.utils.filesystem.list_python_files.  \\nsrc.utils.filesystem is a module that defines the function src.utils.filesystem.read_code_file.  \\nos is a package and is used in the function src.utils.filesystem.list_python_files.  \\ntyping is a package and is used in the function src.utils.filesystem.list_python_files.  \\nutils.logger.get_logger is a function used in the module src.utils.filesystem.  \\nlogger is a variable initialized through the function utils.logger.get_logger and is used in both functions src.utils.filesystem.list_python_files and src.utils.filesystem.read_code_file.')),\n",
       " GraphDocument(nodes=[Node(id='Src.Utils.Logger', type='Module', properties={}), Node(id='Src.Utils.Logger.Colors', type='Class', properties={}), Node(id='Src.Utils.Logger.Loglevel', type='Class', properties={}), Node(id='Src.Utils.Logger.Coloredformatter', type='Class', properties={}), Node(id='Src.Utils.Logger.Agentlogger', type='Class', properties={}), Node(id='Enum', type='Package', properties={}), Node(id='Logging', type='Package', properties={}), Node(id='Sys', type='Package', properties={}), Node(id='Src.Utils.Logger.Coloredformatter.Format', type='Method', properties={}), Node(id='Src.Utils.Logger.Agentlogger.Set_Level', type='Method', properties={}), Node(id='Src.Utils.Logger.Agentlogger.Debug', type='Method', properties={}), Node(id='Src.Utils.Logger.Agentlogger.Info', type='Method', properties={}), Node(id='Src.Utils.Logger.Agentlogger.Warning', type='Method', properties={}), Node(id='Src.Utils.Logger.Agentlogger.Error', type='Method', properties={}), Node(id='Src.Utils.Logger.Agentlogger.Critical', type='Method', properties={}), Node(id='Src.Utils.Logger.Get_Logger', type='Function', properties={}), Node(id='Src.Utils.Logger.Set_Log_Level', type='Function', properties={})], relationships=[Relationship(source=Node(id='Src.Utils.Logger', type='Module', properties={}), target=Node(id='Src.Utils.Logger.Colors', type='Class', properties={}), type='DEFINES', properties={}), Relationship(source=Node(id='Src.Utils.Logger', type='Module', properties={}), target=Node(id='Src.Utils.Logger.Loglevel', type='Class', properties={}), type='DEFINES', properties={}), Relationship(source=Node(id='Src.Utils.Logger', type='Module', properties={}), target=Node(id='Src.Utils.Logger.Coloredformatter', type='Class', properties={}), type='DEFINES', properties={}), Relationship(source=Node(id='Src.Utils.Logger', type='Module', properties={}), target=Node(id='Src.Utils.Logger.Agentlogger', type='Class', properties={}), type='DEFINES', properties={}), Relationship(source=Node(id='Enum', type='Package', properties={}), target=Node(id='Src.Utils.Logger.Loglevel', type='Class', properties={}), type='USES', properties={}), Relationship(source=Node(id='Logging', type='Package', properties={}), target=Node(id='Src.Utils.Logger.Loglevel', type='Class', properties={}), type='USES', properties={}), Relationship(source=Node(id='Sys', type='Package', properties={}), target=Node(id='Src.Utils.Logger.Agentlogger', type='Class', properties={}), type='USES', properties={}), Relationship(source=Node(id='Src.Utils.Logger.Coloredformatter', type='Class', properties={}), target=Node(id='Src.Utils.Logger.Coloredformatter.Format', type='Method', properties={}), type='DEFINES', properties={}), Relationship(source=Node(id='Src.Utils.Logger.Agentlogger', type='Class', properties={}), target=Node(id='Src.Utils.Logger.Agentlogger.Set_Level', type='Method', properties={}), type='DEFINES', properties={}), Relationship(source=Node(id='Src.Utils.Logger.Agentlogger', type='Class', properties={}), target=Node(id='Src.Utils.Logger.Agentlogger.Debug', type='Method', properties={}), type='DEFINES', properties={}), Relationship(source=Node(id='Src.Utils.Logger.Agentlogger', type='Class', properties={}), target=Node(id='Src.Utils.Logger.Agentlogger.Info', type='Method', properties={}), type='DEFINES', properties={}), Relationship(source=Node(id='Src.Utils.Logger.Agentlogger', type='Class', properties={}), target=Node(id='Src.Utils.Logger.Agentlogger.Warning', type='Method', properties={}), type='DEFINES', properties={}), Relationship(source=Node(id='Src.Utils.Logger.Agentlogger', type='Class', properties={}), target=Node(id='Src.Utils.Logger.Agentlogger.Error', type='Method', properties={}), type='DEFINES', properties={}), Relationship(source=Node(id='Src.Utils.Logger.Agentlogger', type='Class', properties={}), target=Node(id='Src.Utils.Logger.Agentlogger.Critical', type='Method', properties={}), type='DEFINES', properties={}), Relationship(source=Node(id='Src.Utils.Logger', type='Module', properties={}), target=Node(id='Src.Utils.Logger.Get_Logger', type='Function', properties={}), type='DEFINES', properties={}), Relationship(source=Node(id='Src.Utils.Logger', type='Module', properties={}), target=Node(id='Src.Utils.Logger.Set_Log_Level', type='Function', properties={}), type='DEFINES', properties={})], source=Document(metadata={'source': 'src\\\\utils\\\\logger.py'}, page_content='src.utils.logger is a module that defines the class src.utils.logger.Colors.\\n\\nsrc.utils.logger.Colors is a class defined in the module src.utils.logger.\\n\\nsrc.utils.logger is a module that defines the class src.utils.logger.LogLevel.\\n\\nsrc.utils.logger.LogLevel is a class defined in the module src.utils.logger.\\n\\nsrc.utils.logger is a module that defines the class src.utils.logger.ColoredFormatter.\\n\\nsrc.utils.logger.ColoredFormatter is a class defined in the module src.utils.logger.\\n\\nsrc.utils.logger is a module that defines the class src.utils.logger.AgentLogger.\\n\\nsrc.utils.logger.AgentLogger is a class defined in the module src.utils.logger.\\n\\nenum is a package and is used in the class src.utils.logger.LogLevel.\\n\\nlogging is a package and is used in the class src.utils.logger.LogLevel.\\n\\nsys is a package and is used in the class src.utils.logger.AgentLogger.\\n\\nsrc.utils.logger.ColoredFormatter.format is a method with properties that it formats log records, and is defined in the class src.utils.logger.ColoredFormatter.\\n\\nsrc.utils.logger.ColoredFormatter is a class with properties that it defines color mapping for log levels, and is used in the class src.utils.logger.AgentLogger.\\n\\nsrc.utils.logger.AgentLogger.set_level is a method defined in the class src.utils.logger.AgentLogger.\\n\\nsrc.utils.logger.AgentLogger.set_level is a method with properties that it sets the logging level, and is used in the function src.utils.logger.set_log_level.\\n\\nsrc.utils.logger.AgentLogger.debug is a method defined in the class src.utils.logger.AgentLogger.\\n\\nsrc.utils.logger.AgentLogger.info is a method defined in the class src.utils.logger.AgentLogger.\\n\\nsrc.utils.logger.AgentLogger.warning is a method defined in the class src.utils.logger.AgentLogger.\\n\\nsrc.utils.logger.AgentLogger.error is a method defined in the class src.utils.logger.AgentLogger.\\n\\nsrc.utils.logger.AgentLogger.critical is a method defined in the class src.utils.logger.AgentLogger.\\n\\nsrc.utils.logger.get_logger is a function defined in the module src.utils.logger.\\n\\nsrc.utils.logger.set_log_level is a function defined in the module src.utils.logger.\\n\\nsrc.utils.logger.set_log_level is a function with properties that it sets the log level from a string, and is defined in the module src.utils.logger.')),\n",
       " GraphDocument(nodes=[Node(id='Src.Utils.Repo', type='Module', properties={}), Node(id='Src.Utils.Repo.Clone_Repo_From_Url', type='Function', properties={}), Node(id='Src.Utils.Repo.Delete_Cloned_Repo', type='Function', properties={}), Node(id='Src.Utils.Repo.Repo_Exists', type='Function', properties={}), Node(id='Src.Utils.Repo.Get_Cached_Repo_Tree', type='Function', properties={}), Node(id='Src.Utils.Repo.Generate_Repo_Tree', type='Function', properties={}), Node(id='Os', type='Package', properties={}), Node(id='Shutil', type='Package', properties={}), Node(id='Subprocess', type='Package', properties={}), Node(id='Streamlit', type='Package', properties={}), Node(id='Time', type='Package', properties={}), Node(id='Src.Utils.Get_Logger', type='Function', properties={})], relationships=[Relationship(source=Node(id='Src.Utils.Repo', type='Module', properties={}), target=Node(id='Src.Utils.Repo.Clone_Repo_From_Url', type='Function', properties={}), type='CONTAINS', properties={}), Relationship(source=Node(id='Src.Utils.Repo', type='Module', properties={}), target=Node(id='Src.Utils.Repo.Delete_Cloned_Repo', type='Function', properties={}), type='CONTAINS', properties={}), Relationship(source=Node(id='Src.Utils.Repo', type='Module', properties={}), target=Node(id='Src.Utils.Repo.Repo_Exists', type='Function', properties={}), type='CONTAINS', properties={}), Relationship(source=Node(id='Src.Utils.Repo', type='Module', properties={}), target=Node(id='Src.Utils.Repo.Get_Cached_Repo_Tree', type='Function', properties={}), type='CONTAINS', properties={}), Relationship(source=Node(id='Src.Utils.Repo', type='Module', properties={}), target=Node(id='Src.Utils.Repo.Generate_Repo_Tree', type='Function', properties={}), type='CONTAINS', properties={}), Relationship(source=Node(id='Os', type='Package', properties={}), target=Node(id='Src.Utils.Repo.Clone_Repo_From_Url', type='Function', properties={}), type='USED_IN', properties={}), Relationship(source=Node(id='Shutil', type='Package', properties={}), target=Node(id='Src.Utils.Repo.Clone_Repo_From_Url', type='Function', properties={}), type='USED_IN', properties={}), Relationship(source=Node(id='Subprocess', type='Package', properties={}), target=Node(id='Src.Utils.Repo.Clone_Repo_From_Url', type='Function', properties={}), type='USED_IN', properties={}), Relationship(source=Node(id='Streamlit', type='Package', properties={}), target=Node(id='Src.Utils.Repo.Clone_Repo_From_Url', type='Function', properties={}), type='USED_IN', properties={}), Relationship(source=Node(id='Os', type='Package', properties={}), target=Node(id='Src.Utils.Repo.Delete_Cloned_Repo', type='Function', properties={}), type='USED_IN', properties={}), Relationship(source=Node(id='Shutil', type='Package', properties={}), target=Node(id='Src.Utils.Repo.Delete_Cloned_Repo', type='Function', properties={}), type='USED_IN', properties={}), Relationship(source=Node(id='Subprocess', type='Package', properties={}), target=Node(id='Src.Utils.Repo.Delete_Cloned_Repo', type='Function', properties={}), type='USED_IN', properties={}), Relationship(source=Node(id='Time', type='Package', properties={}), target=Node(id='Src.Utils.Repo.Delete_Cloned_Repo', type='Function', properties={}), type='USED_IN', properties={}), Relationship(source=Node(id='Src.Utils.Get_Logger', type='Function', properties={}), target=Node(id='Src.Utils.Repo', type='Module', properties={}), type='USED_IN', properties={}), Relationship(source=Node(id='Os', type='Package', properties={}), target=Node(id='Src.Utils.Repo.Repo_Exists', type='Function', properties={}), type='USED_IN', properties={}), Relationship(source=Node(id='Os', type='Package', properties={}), target=Node(id='Src.Utils.Repo.Get_Cached_Repo_Tree', type='Function', properties={}), type='USED_IN', properties={}), Relationship(source=Node(id='Streamlit', type='Package', properties={}), target=Node(id='Src.Utils.Repo.Get_Cached_Repo_Tree', type='Function', properties={}), type='USED_IN', properties={}), Relationship(source=Node(id='Src.Utils.Repo.Generate_Repo_Tree', type='Function', properties={}), target=Node(id='Src.Utils.Repo.Get_Cached_Repo_Tree', type='Function', properties={}), type='USED_IN', properties={}), Relationship(source=Node(id='Os', type='Package', properties={}), target=Node(id='Src.Utils.Repo.Generate_Repo_Tree', type='Function', properties={}), type='USED_IN', properties={}), Relationship(source=Node(id='Src.Utils.Get_Logger', type='Function', properties={}), target=Node(id='Src.Utils.Repo.Generate_Repo_Tree', type='Function', properties={}), type='USED_IN', properties={})], source=Document(metadata={'source': 'src\\\\utils\\\\repo.py'}, page_content='- The module src.utils.repo contains the function src.utils.repo.clone_repo_from_url.\\n- The module src.utils.repo contains the function src.utils.repo.delete_cloned_repo.\\n- The module src.utils.repo contains the function src.utils.repo.repo_exists.\\n- The module src.utils.repo contains the function src.utils.repo.get_cached_repo_tree.\\n- The module src.utils.repo contains the function src.utils.repo.generate_repo_tree.\\n- The package os is used in the function src.utils.repo.clone_repo_from_url.\\n- The package shutil is used in the function src.utils.repo.clone_repo_from_url.\\n- The package subprocess is used in the function src.utils.repo.clone_repo_from_url.\\n- The package streamlit is used in the function src.utils.repo.clone_repo_from_url.\\n- The package os is used in the function src.utils.repo.delete_cloned_repo.\\n- The package shutil is used in the function src.utils.repo.delete_cloned_repo.\\n- The package subprocess is used in the function src.utils.repo.delete_cloned_repo.\\n- The package time is used in the function src.utils.repo.delete_cloned_repo.\\n- The function src.utils.get_logger is used in the module src.utils.repo.\\n- The package os is used in the function src.utils.repo.repo_exists.\\n- The package os is used in the function src.utils.repo.get_cached_repo_tree.\\n- The package streamlit is used in the function src.utils.repo.get_cached_repo_tree.\\n- The function src.utils.repo.generate_repo_tree is used in the function src.utils.repo.get_cached_repo_tree.\\n- The package os is used in the function src.utils.repo.generate_repo_tree.\\n- The function src.utils.get_logger is used in the function src.utils.repo.generate_repo_tree.')),\n",
       " GraphDocument(nodes=[Node(id='Src.Utils', type='Module', properties={}), Node(id='Src.Utils.Logger', type='Module', properties={}), Node(id='Src.Utils.Logger.Get_Logger', type='Function', properties={}), Node(id='Src.Utils.Logger.Set_Log_Level', type='Function', properties={}), Node(id='Src.Utils.Logger.Loglevel', type='Class', properties={})], relationships=[Relationship(source=Node(id='Src.Utils', type='Module', properties={}), target=Node(id='Src.Utils.Logger.Get_Logger', type='Function', properties={}), type='IMPORTS', properties={}), Relationship(source=Node(id='Src.Utils', type='Module', properties={}), target=Node(id='Src.Utils.Logger.Set_Log_Level', type='Function', properties={}), type='IMPORTS', properties={}), Relationship(source=Node(id='Src.Utils', type='Module', properties={}), target=Node(id='Src.Utils.Logger.Loglevel', type='Class', properties={}), type='IMPORTS', properties={})], source=Document(metadata={'source': 'src\\\\utils\\\\__init__.py'}, page_content='src.utils is a module that imports functions src.utils.logger.get_logger and src.utils.logger.set_log_level from the module src.utils.logger.\\n\\nsrc.utils is a module that imports the class src.utils.logger.LogLevel from the module src.utils.logger.'))]"
      ]
     },
     "execution_count": 34,
     "metadata": {},
     "output_type": "execute_result"
    }
   ],
   "source": [
    "graph_documents"
   ]
  },
  {
   "cell_type": "code",
   "execution_count": 43,
   "id": "b4ee35d1",
   "metadata": {},
   "outputs": [
    {
     "data": {
      "text/plain": [
       "[{'nodeTypes': [['Module'],\n",
       "   ['Function'],\n",
       "   ['Module'],\n",
       "   ['Function'],\n",
       "   ['Function'],\n",
       "   ['Module']],\n",
       "  'path': [{'id': 'Src.App.Handlers.Query_Handler'},\n",
       "   'DEFINED_IN',\n",
       "   {'id': 'Src.App.Handlers.Query_Handler.Process_Query'},\n",
       "   'USED_IN',\n",
       "   {'id': 'Src.Tools.Micro.Tools'},\n",
       "   'USES',\n",
       "   {'id': 'Src.App.Setup.Initialize_Database.Initialize_Database'},\n",
       "   'USES',\n",
       "   {'id': 'Src.Streamlit_App.Main'},\n",
       "   'CALLS',\n",
       "   {'id': 'Src.Streamlit_App'}]},\n",
       " {'nodeTypes': [['Module'],\n",
       "   ['Function'],\n",
       "   ['Module'],\n",
       "   ['Function'],\n",
       "   ['Function'],\n",
       "   ['Module']],\n",
       "  'path': [{'id': 'Src.App.Handlers.Query_Handler'},\n",
       "   'DEFINED_IN',\n",
       "   {'id': 'Src.App.Handlers.Query_Handler.Process_Query'},\n",
       "   'USED_IN',\n",
       "   {'id': 'Src.Tools.Micro.Tools'},\n",
       "   'USES',\n",
       "   {'id': 'Src.App.Setup.Initialize_Database.Initialize_Database'},\n",
       "   'USES',\n",
       "   {'id': 'Src.Streamlit_App.Main'},\n",
       "   'DEFINED_IN',\n",
       "   {'id': 'Src.Streamlit_App'}]},\n",
       " {'nodeTypes': [['Module'],\n",
       "   ['Function'],\n",
       "   ['Function'],\n",
       "   ['Function'],\n",
       "   ['Module']],\n",
       "  'path': [{'id': 'Src.App.Handlers.Query_Handler'},\n",
       "   'DEFINED_IN',\n",
       "   {'id': 'Src.App.Handlers.Query_Handler.Process_Query'},\n",
       "   'USED_IN',\n",
       "   {'id': 'Src.App.Ui.Chat.Display_Messages'},\n",
       "   'USES',\n",
       "   {'id': 'Src.Streamlit_App.Main'},\n",
       "   'CALLS',\n",
       "   {'id': 'Src.Streamlit_App'}]},\n",
       " {'nodeTypes': [['Module'],\n",
       "   ['Function'],\n",
       "   ['Function'],\n",
       "   ['Function'],\n",
       "   ['Module']],\n",
       "  'path': [{'id': 'Src.App.Handlers.Query_Handler'},\n",
       "   'DEFINED_IN',\n",
       "   {'id': 'Src.App.Handlers.Query_Handler.Process_Query'},\n",
       "   'USED_IN',\n",
       "   {'id': 'Src.App.Ui.Chat.Display_Messages'},\n",
       "   'USES',\n",
       "   {'id': 'Src.Streamlit_App.Main'},\n",
       "   'DEFINED_IN',\n",
       "   {'id': 'Src.Streamlit_App'}]},\n",
       " {'nodeTypes': [['Module'], ['Function'], ['Module']],\n",
       "  'path': [{'id': 'Src.App.Handlers.Query_Handler'},\n",
       "   'DEFINED_IN',\n",
       "   {'id': 'Src.App.Handlers.Query_Handler.Process_Query'},\n",
       "   'USES',\n",
       "   {'id': 'Src.Streamlit_App'}]},\n",
       " {'nodeTypes': [['Module'],\n",
       "   ['Function'],\n",
       "   ['Module'],\n",
       "   ['Function'],\n",
       "   ['Module']],\n",
       "  'path': [{'id': 'Src.App.Handlers.Query_Handler'},\n",
       "   'DEFINED_IN',\n",
       "   {'id': 'Src.App.Handlers.Query_Handler.Process_Query'},\n",
       "   'USES',\n",
       "   {'id': 'Src.Streamlit_App'},\n",
       "   'CALLS',\n",
       "   {'id': 'Src.Streamlit_App.Main'},\n",
       "   'DEFINED_IN',\n",
       "   {'id': 'Src.Streamlit_App'}]},\n",
       " {'nodeTypes': [['Module'],\n",
       "   ['Function'],\n",
       "   ['Module'],\n",
       "   ['Function'],\n",
       "   ['Module']],\n",
       "  'path': [{'id': 'Src.App.Handlers.Query_Handler'},\n",
       "   'DEFINED_IN',\n",
       "   {'id': 'Src.App.Handlers.Query_Handler.Process_Query'},\n",
       "   'USES',\n",
       "   {'id': 'Src.Streamlit_App'},\n",
       "   'DEFINED_IN',\n",
       "   {'id': 'Src.Streamlit_App.Main'},\n",
       "   'CALLS',\n",
       "   {'id': 'Src.Streamlit_App'}]}]"
      ]
     },
     "execution_count": 43,
     "metadata": {},
     "output_type": "execute_result"
    }
   ],
   "source": [
    "results = graph_db.query(\"\"\"MATCH path = (m1:Module {id: 'Src.App.Handlers.Query_Handler'})-[*..5]-(m2:Module {id: 'Src.Streamlit_App'}) WHERE NONE(n IN nodes(path) WHERE n:Package) RETURN [n IN nodes(path) | labels(n)] AS nodeTypes, path LIMIT 20\"\"\")\n",
    "results"
   ]
  },
  {
   "cell_type": "code",
   "execution_count": 40,
   "id": "44be8fd7",
   "metadata": {},
   "outputs": [],
   "source": [
    "from typing import List, Dict, Any\n",
    "\n",
    "def visualize_cypher_results(cypher_results: List[Dict[str, Any]], output_file: str = \"cypher_graph.html\"):\n",
    "    from pyvis.network import Network\n",
    "    import networkx as nx\n",
    "    import matplotlib.pyplot as plt\n",
    "\n",
    "    net = Network(notebook=False, cdn_resources='in_line', height=\"800px\", width=\"100%\")\n",
    "    G = nx.DiGraph()\n",
    "\n",
    "    unique_nodes = set()\n",
    "    unique_edges = set()\n",
    "    node_metadata = {}\n",
    "\n",
    "    for result in cypher_results:\n",
    "        path = result.get('path', [])\n",
    "        node_types = result.get('nodeTypes', [])\n",
    "\n",
    "        node_idx = 0  # Index to track nodeTypes separately\n",
    "        \n",
    "        for i in range(0, len(path), 2):\n",
    "            if i < len(path):\n",
    "                node = path[i]\n",
    "                node_id = node.get('id')\n",
    "\n",
    "                if node_id and node_id not in unique_nodes:\n",
    "                    unique_nodes.add(node_id)\n",
    "\n",
    "                    # Grab the nodeType from nodeTypes list\n",
    "                    if node_idx < len(node_types):\n",
    "                        node_meta_type = node_types[node_idx][0]  # nodeTypes is a list of list\n",
    "                    else:\n",
    "                        node_meta_type = \"Unknown\"\n",
    "\n",
    "                    node_metadata[node_id] = {\n",
    "                        \"id\": node_id,\n",
    "                        \"meta\": node_meta_type,\n",
    "                        \"properties\": node.get('properties', {})\n",
    "                    }\n",
    "\n",
    "                    G.add_node(node_id)\n",
    "\n",
    "                node_idx += 1  # Move to the next nodeType\n",
    "\n",
    "            if i + 1 < len(path) and i + 2 < len(path):\n",
    "                source_id = path[i].get('id')\n",
    "                relationship = path[i + 1]\n",
    "                target_id = path[i + 2].get('id')\n",
    "\n",
    "                if source_id and target_id:\n",
    "                    edge_key = (source_id, target_id, relationship)\n",
    "                    if edge_key not in unique_edges:\n",
    "                        unique_edges.add(edge_key)\n",
    "                        G.add_edge(source_id, target_id, label=relationship)\n",
    "\n",
    "    # Group nodes by their meta type\n",
    "    unique_metas = list(set(meta[\"meta\"] for meta in node_metadata.values()))\n",
    "    color_map = plt.get_cmap(\"tab10\")\n",
    "    meta_colors = {m: color_map(i / len(unique_metas)) for i, m in enumerate(unique_metas)}\n",
    "    meta_colors_rgba = {\n",
    "        m: f'rgba({int(c[0]*255)}, {int(c[1]*255)}, {int(c[2]*255)}, 0.8)'\n",
    "        for m, c in meta_colors.items()\n",
    "    }\n",
    "\n",
    "    degrees = dict(G.degree())\n",
    "    min_size, max_size = 15, 50\n",
    "    max_degree = max(degrees.values()) if degrees else 1\n",
    "    size_scale = {\n",
    "        node: min_size + (max_size - min_size) * (deg / max_degree)\n",
    "        for node, deg in degrees.items()\n",
    "    }\n",
    "\n",
    "    for node_id in G.nodes():\n",
    "        metadata = node_metadata.get(node_id, {})\n",
    "        node_meta = metadata.get(\"meta\", \"Unknown\")\n",
    "        color = meta_colors_rgba.get(node_meta, \"gray\")\n",
    "\n",
    "        net.add_node(\n",
    "            node_id,\n",
    "            label=node_id,\n",
    "            size=size_scale[node_id],\n",
    "            color=color,\n",
    "            title=f\"<b>{node_meta}</b><br>{node_id}\"\n",
    "        )\n",
    "\n",
    "    relationship_types = list(set(attr.get(\"label\", \"\") for _, _, attr in G.edges(data=True)))\n",
    "    rel_color_map = plt.get_cmap(\"Set2\")\n",
    "    rel_colors = {\n",
    "        rel_type: f'rgba({int(rel_color_map(i / len(relationship_types))[0]*255)}, {int(rel_color_map(i / len(relationship_types))[1]*255)}, {int(rel_color_map(i / len(relationship_types))[2]*255)}, 0.9)'\n",
    "        for i, rel_type in enumerate(relationship_types)\n",
    "    }\n",
    "\n",
    "    for source, target, attr in G.edges(data=True):\n",
    "        rel_label = attr.get(\"label\", \"\")\n",
    "        edge_color = rel_colors.get(rel_label, \"#888888\")\n",
    "        net.add_edge(source, target, title=rel_label, label=rel_label, arrows='to', length=300, color=edge_color)\n",
    "\n",
    "    net.save_graph(output_file)\n",
    "\n",
    "    # Build the correct legend\n",
    "    legend_html = \"\"\"\n",
    "    <div id=\"legend\" style=\"position: absolute; top: 10px; left: 10px; background: white; padding: 10px; border-radius: 8px; box-shadow: 0px 0px 5px rgba(0,0,0,0.2); font-family: Arial, sans-serif; z-index: 1000;\">\n",
    "        <h4 style=\"margin: 0; padding-bottom: 5px;\">Node Legend (by Node Type)</h4>\n",
    "    \"\"\"\n",
    "    for meta_type, color in meta_colors_rgba.items():\n",
    "        legend_html += f'<div style=\"display: flex; align-items: center; margin-bottom: 5px;\"><div style=\"width: 15px; height: 15px; background:{color}; margin-right: 5px; border-radius: 50%;\"></div> {meta_type}</div>'\n",
    "\n",
    "    legend_html += \"\"\"\n",
    "        <h4 style=\"margin: 5px 0; padding-bottom: 5px;\">Relationship Legend</h4>\n",
    "    \"\"\"\n",
    "    for rel_type in sorted(relationship_types):\n",
    "        rel_color = rel_colors.get(rel_type, \"#888888\")\n",
    "        legend_html += f'<div style=\"display: flex; align-items: center; margin-bottom: 5px;\"><div style=\"width: 20px; height: 3px; background: {rel_color}; margin-right: 5px;\"></div> {rel_type}</div>'\n",
    "\n",
    "    legend_html += \"</div>\"\n",
    "\n",
    "    with open(output_file, \"r\", encoding=\"utf-8\") as file:\n",
    "        html_content = file.read()\n",
    "\n",
    "    html_content = html_content.replace(\"</body>\", legend_html + \"</body>\")\n",
    "\n",
    "    with open(output_file, \"w\", encoding=\"utf-8\") as file:\n",
    "        file.write(html_content)\n",
    "\n",
    "    print(f\"Graph visualization saved as {output_file}\")\n",
    "\n",
    "    return {\n",
    "        \"nodes\": len(G.nodes()),\n",
    "        \"edges\": len(G.edges()),\n",
    "        \"node_types\": unique_metas,\n",
    "        \"relationship_types\": list(set(attr.get(\"label\", \"\") for _, _, attr in G.edges(data=True)))\n",
    "    }\n"
   ]
  },
  {
   "cell_type": "code",
   "execution_count": 42,
   "id": "7a2fd713",
   "metadata": {},
   "outputs": [
    {
     "name": "stdout",
     "output_type": "stream",
     "text": [
      "Graph visualization saved as cypher_graph.html\n"
     ]
    },
    {
     "data": {
      "text/plain": [
       "{'nodes': 7,\n",
       " 'edges': 9,\n",
       " 'node_types': ['Module', 'Function'],\n",
       " 'relationship_types': ['USES', 'DEFINED_IN', 'USED_IN']}"
      ]
     },
     "execution_count": 42,
     "metadata": {},
     "output_type": "execute_result"
    }
   ],
   "source": [
    "visualize_cypher_results(results)"
   ]
  },
  {
   "cell_type": "code",
   "execution_count": 11,
   "id": "20a7b368",
   "metadata": {},
   "outputs": [
    {
     "name": "stdout",
     "output_type": "stream",
     "text": [
      "1. math is a package and is used in all the methods of the class deduplication.bloom_filter.BloomFilter.\n",
      "2. mmh3 is a package and is used in the method deduplication.bloom_filter.BloomFilter.add of the class deduplication.bloom_filter.BloomFilter.\n",
      "3. bitarray is a package and is used in the method deduplication.bloom_filter.BloomFilter.__init__ of the class deduplication.bloom_filter.BloomFilter.\n",
      "4. nltk is a package and is used in the method deduplication.bloom_filter.BloomFilter.add of the class deduplication.bloom_filter.BloomFilter.\n",
      "5. random is a package and is used in the method deduplication.bloom_filter.BloomFilter_Uni_Hash.__init__ of the class deduplication.bloom_filter.BloomFilter_Uni_Hash.\n",
      "6. deduplication.bloom_filter.BloomFilter.add is a method with properties defined in deduplication.bloom_filter.BloomFilter which is a class.\n",
      "7. deduplication.bloom_filter.BloomFilter.query is a method with properties defined in deduplication.bloom_filter.BloomFilter which is a class.\n",
      "8. deduplication.bloom_filter.BloomFilter is a class defined in the module deduplication.bloom_filter.\n",
      "9. deduplication.bloom_filter.BloomFilter_KM_Opt is a class defined in the module deduplication.bloom_filter.\n",
      "10. deduplication.bloom_filter.BloomFilter_KM_Opt.add is a method with properties defined in deduplication.bloom_filter.BloomFilter_KM_Opt which is a class.\n",
      "11. deduplication.bloom_filter.BloomFilter_KM_Opt.query is a method with properties defined in deduplication.bloom_filter.BloomFilter_KM_Opt which is a class.\n",
      "12. mmh3 is a package and is used in the method deduplication.bloom_filter.BloomFilter_KM_Opt.add of the class deduplication.bloom_filter.BloomFilter_KM_Opt.\n",
      "13. mmh3 is a package and is used in the method deduplication.bloom_filter.BloomFilter_KM_Opt.query of the class deduplication.bloom_filter.BloomFilter_KM_Opt.\n",
      "14. deduplication.bloom_filter.BloomFilter_Uni_Hash is a class defined in the module deduplication.bloom_filter.\n",
      "15. deduplication.bloom_filter.BloomFilter_Uni_Hash.add is a method with properties defined in deduplication.bloom_filter.BloomFilter_Uni_Hash which is a class.\n",
      "16. deduplication.bloom_filter.BloomFilter_Uni_Hash.query is a method with properties defined in deduplication.bloom_filter.BloomFilter_Uni_Hash which is a class.\n",
      "17. mmh3 is a package and is used in the method deduplication.bloom_filter.BloomFilter_Uni_Hash.add of the class deduplication.bloom_filter.BloomFilter_Uni_Hash.\n",
      "18. mmh3 is a package and is used in the method deduplication.bloom_filter.BloomFilter_Uni_Hash.query of the class deduplication.bloom_filter.BloomFilter_Uni_Hash.\n",
      "19. deduplication.bloom_filter.BloomFilter_QF is a class defined in the module deduplication.bloom_filter.\n",
      "20. deduplication.bloom_filter.BloomFilter_QF.add is a method with properties defined in deduplication.bloom_filter.BloomFilter_QF which is a class.\n",
      "21. deduplication.bloom_filter.BloomFilter_QF._hash is a method with properties defined in deduplication.bloom_filter.BloomFilter_QF which is a class.\n",
      "22. deduplication.bloom_filter.BloomFilter_QF.query is a method with properties defined in deduplication.bloom_filter.BloomFilter_QF which is a class.\n",
      "23. mmh3 is a package and is used in the method deduplication.bloom_filter.BloomFilter_QF._hash of the class deduplication.bloom_filter.BloomFilter_QF.\n"
     ]
    }
   ],
   "source": [
    "print(graph_documents[0].source.page_content)"
   ]
  },
  {
   "cell_type": "markdown",
   "id": "558a61e9",
   "metadata": {},
   "source": [
    "### Reset Instance"
   ]
  },
  {
   "cell_type": "code",
   "execution_count": 9,
   "id": "d4c81e29",
   "metadata": {},
   "outputs": [],
   "source": [
    "# graph_db.query(\"MATCH (n) DETACH DELETE n\")"
   ]
  },
  {
   "cell_type": "markdown",
   "id": "6f080718",
   "metadata": {},
   "source": [
    "## Visualize Entire Graph"
   ]
  },
  {
   "cell_type": "code",
   "execution_count": 4,
   "id": "c93ef301",
   "metadata": {},
   "outputs": [
    {
     "name": "stdout",
     "output_type": "stream",
     "text": [
      "Graph saved as semantic_graph.html\n"
     ]
    }
   ],
   "source": [
    "a = gen_graphdb.create_visualization(graph_documents = graph_documents)"
   ]
  },
  {
   "cell_type": "markdown",
   "id": "2474ba62",
   "metadata": {},
   "source": [
    "## Create Vector DB / Preprocess and insert Data"
   ]
  },
  {
   "cell_type": "code",
   "execution_count": null,
   "id": "1d91d496",
   "metadata": {},
   "outputs": [],
   "source": [
    "from rag.vector_rag import create_rag_system\n",
    "\n",
    "db_setup, query_engine = create_rag_system(\n",
    "    # repo_path=\"../docs/notebooks/assignment-2-mcdonald-s/src\",\n",
    "    repo_path=\"../cloned_repository\",\n",
    "    embedding_model=\"text-embedding-3-large\",\n",
    "    llm_model=\"gpt-4o\",\n",
    ")\n"
   ]
  },
  {
   "cell_type": "markdown",
   "id": "3b81fdae",
   "metadata": {},
   "source": [
    "# Demonstrate Tools"
   ]
  },
  {
   "cell_type": "markdown",
   "id": "f4a86cee",
   "metadata": {},
   "source": [
    "## Cypher Query to generate initial Answer"
   ]
  },
  {
   "cell_type": "code",
   "execution_count": 1,
   "id": "4740742e",
   "metadata": {},
   "outputs": [
    {
     "name": "stdout",
     "output_type": "stream",
     "text": [
      "c:\\Users\\JaeHoBahng\\Desktop\\Georgetown\\2025_Spring\\DSAN_6725\\project\\spring-2025-final-project-project-group-2\\docs\\notebooks\n",
      "c:\\Users\\JaeHoBahng\\Desktop\\Georgetown\\2025_Spring\\DSAN_6725\\project\\spring-2025-final-project-project-group-2\\src\n"
     ]
    }
   ],
   "source": [
    "import os\n",
    "print(os.getcwd())\n",
    "os.chdir('c:\\\\Users\\\\JaeHoBahng\\\\Desktop\\\\Georgetown\\\\2025_Spring\\\\DSAN_6725\\\\project\\\\spring-2025-final-project-project-group-2\\\\src')\n",
    "print(os.getcwd())\n"
   ]
  },
  {
   "cell_type": "code",
   "execution_count": 2,
   "id": "a34203d5",
   "metadata": {},
   "outputs": [],
   "source": [
    "# from langchain_core.language_models import BaseChatModel\n",
    "# from langchain_neo4j import Neo4jGraph\n",
    "# from tools.micro_cypher_chain import CypherGraphBuilder\n",
    "\n",
    "# url = os.getenv('NEO4J_URI')\n",
    "# username = os.getenv('NEO4J_USERNAME')\n",
    "# password = os.getenv('NEO4J_PASSWORD')\n",
    "\n",
    "# graph_db = Neo4jGraph(\n",
    "#     url=url,\n",
    "#     username=username,\n",
    "#     password=password,\n",
    "#     enhanced_schema=True\n",
    "#     )\n",
    "\n",
    "# def retrieve_cypher_relationships(question: str):\n",
    "#     \"\"\"\n",
    "#     Connects to a local Neo4j instance and uses a language model to generate a Cypher-based graph\n",
    "#     representation of relationships between entities (e.g., code modules).\n",
    "\n",
    "#     Returns:\n",
    "#         dict: A structured representation of nodes and relationships inferred from the graph.\n",
    "#     \"\"\"\n",
    "\n",
    "#     # Create the Cypher graph\n",
    "#     builder = CypherGraphBuilder(llm=llm, graph_db=graph_db)\n",
    "#     # cypher_graph = builder.create_cypher_graph()\n",
    "#     cypher_graph = builder.create_cypher_graph()\n",
    "#     result = cypher_graph.invoke({\"question\": question})\n",
    "\n",
    "#     return result['answer']"
   ]
  },
  {
   "cell_type": "code",
   "execution_count": 20,
   "id": "5241cfc6",
   "metadata": {},
   "outputs": [],
   "source": [
    "from langchain_neo4j import Neo4jGraph\n",
    "from tools.micro_cypher_chain import CypherGraphBuilder\n",
    "from langchain_anthropic import ChatAnthropic\n",
    "\n",
    "url = os.getenv('NEO4J_URI')\n",
    "username = os.getenv('NEO4J_USERNAME')\n",
    "password = os.getenv('NEO4J_PASSWORD')\n",
    "\n",
    "graph_db = Neo4jGraph(\n",
    "    url=url,\n",
    "    username=username,\n",
    "    password=password,\n",
    "    enhanced_schema=True\n",
    ")\n",
    "\n",
    "\n",
    "# llm = ChatAnthropic(model=\"claude-3-5-sonnet-20240620\")\n",
    "from langchain.chat_models import init_chat_model\n",
    "llm = init_chat_model(\"gpt-4o-mini\", model_provider=\"openai\")\n",
    "\n",
    "\n",
    "builder = CypherGraphBuilder(llm=llm, graph_db=graph_db)\n",
    "cypher_graph = builder.create_cypher_graph()"
   ]
  },
  {
   "cell_type": "code",
   "execution_count": 21,
   "id": "3037437d",
   "metadata": {},
   "outputs": [],
   "source": [
    "result = cypher_graph.invoke({\"question\": \"How is the Utils.Utils module related to the Deduplication.__Main__ module?\"})"
   ]
  },
  {
   "cell_type": "code",
   "execution_count": 23,
   "id": "5898c591",
   "metadata": {},
   "outputs": [
    {
     "data": {
      "text/plain": [
       "\"MATCH path = (m:Module {id: 'Utils.Utils'})-[*..10]-(c:Module {id: 'Deduplication.__Main__'}) RETURN path LIMIT 10\""
      ]
     },
     "execution_count": 23,
     "metadata": {},
     "output_type": "execute_result"
    }
   ],
   "source": [
    "result['cypher_statement']"
   ]
  },
  {
   "cell_type": "code",
   "execution_count": 5,
   "id": "fd57f563",
   "metadata": {},
   "outputs": [
    {
     "data": {
      "text/plain": [
       "'The `Utils.Utils` module is related to the `Deduplication.__Main__` module in the following ways:\\n\\n- **Uses Minhash**: `Utils.Utils` imports `Utils.Utils.Minhash`, which is used in `Utils.Use_Cases.Nearest_Neighbor_Search` and is imported into `Deduplication.__Main__`.\\n- **Uses Shingle**: `Utils.Utils` imports `Utils.Utils.Shingle`, which is used in `Utils.Use_Cases.Nearest_Neighbor_Search` and is imported into `Deduplication.__Main__`.\\n- **Uses Clean Document**: `Utils.Utils` imports `Utils.Utils.Clean_Document`, which is used in `Utils.Use_Cases.Nearest_Neighbor_Search` and is imported into `Deduplication.__Main__`.\\n- **Reads TSV**: `Utils.Utils` defines `Utils.Utils.Read_Tsv`, which is used in `Deduplication.__Main__`.\\n- **Used in**: Definitions from `Utils.Utils` that involve `Utils.Utils.Read_Tsv` are specifically indicated as being used in `Deduplication.__Main__` and `Deduplication.__Main__.Main`.'"
      ]
     },
     "execution_count": 5,
     "metadata": {},
     "output_type": "execute_result"
    }
   ],
   "source": [
    "result['answer']"
   ]
  },
  {
   "cell_type": "code",
   "execution_count": 6,
   "id": "99d2fce4",
   "metadata": {},
   "outputs": [
    {
     "data": {
      "text/plain": [
       "[{'path': [{'id': 'Utils.Utils'},\n",
       "   'IMPORTED_FROM',\n",
       "   {'id': 'Utils.Utils.Unionfind'},\n",
       "   'DEFINES',\n",
       "   {'id': 'Utils.Utils'},\n",
       "   'IMPORTED_FROM',\n",
       "   {'id': 'Utils.Utils.Minhash'},\n",
       "   'USES',\n",
       "   {'id': 'Utils.Use_Cases.Nearest_Neighbor_Search'},\n",
       "   'IMPORTED_IN',\n",
       "   {'id': 'Deduplication.__Main__'}]},\n",
       " {'path': [{'id': 'Utils.Utils'},\n",
       "   'IMPORTED_FROM',\n",
       "   {'id': 'Utils.Utils.Unionfind'},\n",
       "   'DEFINES',\n",
       "   {'id': 'Utils.Utils'},\n",
       "   'IMPORTED_FROM',\n",
       "   {'id': 'Utils.Utils.Minhash'},\n",
       "   'USES',\n",
       "   {'id': 'Utils.Use_Cases.Nearest_Neighbor_Search'},\n",
       "   'USED_IN',\n",
       "   {'id': 'Deduplication.__Main__'}]},\n",
       " {'path': [{'id': 'Utils.Utils'},\n",
       "   'IMPORTED_FROM',\n",
       "   {'id': 'Utils.Utils.Unionfind'},\n",
       "   'DEFINES',\n",
       "   {'id': 'Utils.Utils'},\n",
       "   'IMPORTED_FROM',\n",
       "   {'id': 'Utils.Utils.Shingle'},\n",
       "   'USES',\n",
       "   {'id': 'Utils.Use_Cases.Nearest_Neighbor_Search'},\n",
       "   'IMPORTED_IN',\n",
       "   {'id': 'Deduplication.__Main__'}]},\n",
       " {'path': [{'id': 'Utils.Utils'},\n",
       "   'IMPORTED_FROM',\n",
       "   {'id': 'Utils.Utils.Unionfind'},\n",
       "   'DEFINES',\n",
       "   {'id': 'Utils.Utils'},\n",
       "   'IMPORTED_FROM',\n",
       "   {'id': 'Utils.Utils.Shingle'},\n",
       "   'USES',\n",
       "   {'id': 'Utils.Use_Cases.Nearest_Neighbor_Search'},\n",
       "   'USED_IN',\n",
       "   {'id': 'Deduplication.__Main__'}]},\n",
       " {'path': [{'id': 'Utils.Utils'},\n",
       "   'IMPORTED_FROM',\n",
       "   {'id': 'Utils.Utils.Unionfind'},\n",
       "   'DEFINES',\n",
       "   {'id': 'Utils.Utils'},\n",
       "   'IMPORTED_FROM',\n",
       "   {'id': 'Utils.Utils.Clean_Document'},\n",
       "   'USES',\n",
       "   {'id': 'Utils.Use_Cases.Nearest_Neighbor_Search'},\n",
       "   'IMPORTED_IN',\n",
       "   {'id': 'Deduplication.__Main__'}]},\n",
       " {'path': [{'id': 'Utils.Utils'},\n",
       "   'IMPORTED_FROM',\n",
       "   {'id': 'Utils.Utils.Unionfind'},\n",
       "   'DEFINES',\n",
       "   {'id': 'Utils.Utils'},\n",
       "   'IMPORTED_FROM',\n",
       "   {'id': 'Utils.Utils.Clean_Document'},\n",
       "   'USES',\n",
       "   {'id': 'Utils.Use_Cases.Nearest_Neighbor_Search'},\n",
       "   'USED_IN',\n",
       "   {'id': 'Deduplication.__Main__'}]},\n",
       " {'path': [{'id': 'Utils.Utils'},\n",
       "   'IMPORTED_FROM',\n",
       "   {'id': 'Utils.Utils.Unionfind'},\n",
       "   'DEFINES',\n",
       "   {'id': 'Utils.Utils'},\n",
       "   'DEFINES',\n",
       "   {'id': 'Utils.Utils.Read_Tsv'},\n",
       "   'IMPORTS',\n",
       "   {'id': 'Deduplication.__Main__'}]},\n",
       " {'path': [{'id': 'Utils.Utils'},\n",
       "   'IMPORTED_FROM',\n",
       "   {'id': 'Utils.Utils.Unionfind'},\n",
       "   'DEFINES',\n",
       "   {'id': 'Utils.Utils'},\n",
       "   'DEFINES',\n",
       "   {'id': 'Utils.Utils.Read_Tsv'},\n",
       "   'USED_IN',\n",
       "   {'id': 'Deduplication.__Main__.Main'},\n",
       "   'DEFINED_IN',\n",
       "   {'id': 'Deduplication.__Main__'}]},\n",
       " {'path': [{'id': 'Utils.Utils'},\n",
       "   'IMPORTED_FROM',\n",
       "   {'id': 'Utils.Utils.Unionfind'},\n",
       "   'DEFINES',\n",
       "   {'id': 'Utils.Utils'},\n",
       "   'DEFINES',\n",
       "   {'id': 'Utils.Utils.Read_Tsv'},\n",
       "   'USED_IN',\n",
       "   {'id': 'Deduplication.__Main__'}]},\n",
       " {'path': [{'id': 'Utils.Utils'},\n",
       "   'IMPORTED_FROM',\n",
       "   {'id': 'Utils.Utils.Unionfind'},\n",
       "   'DEFINES',\n",
       "   {'id': 'Utils.Utils'},\n",
       "   'DEFINES',\n",
       "   {'id': 'Utils.Utils.Minhash'},\n",
       "   'USES',\n",
       "   {'id': 'Utils.Use_Cases.Nearest_Neighbor_Search'},\n",
       "   'IMPORTED_IN',\n",
       "   {'id': 'Deduplication.__Main__'}]}]"
      ]
     },
     "execution_count": 6,
     "metadata": {},
     "output_type": "execute_result"
    }
   ],
   "source": [
    "result['cypher_results']"
   ]
  },
  {
   "cell_type": "code",
   "execution_count": 7,
   "id": "bde92fc9",
   "metadata": {},
   "outputs": [],
   "source": [
    "# graph_db.query(\"\"\"\n",
    "# MATCH path = (m1:Module {id: 'Utils.Utils'})-[*..5]-(m2:Module {id: 'Deduplication.__Main__'}) \n",
    "# WHERE NONE(n IN nodes(path) WHERE n:Package)\n",
    "# RETURN path\n",
    "# \"\"\")"
   ]
  },
  {
   "cell_type": "code",
   "execution_count": 13,
   "id": "44287b9c",
   "metadata": {},
   "outputs": [],
   "source": [
    "# import os\n",
    "# print(os.getcwd())\n",
    "# os.chdir('c:\\\\Users\\\\JaeHoBahng\\\\Desktop\\\\Georgetown\\\\2025_Spring\\\\DSAN_6725\\\\project\\\\spring-2025-final-project-project-group-2\\\\src')\n",
    "# print(os.getcwd())\n",
    "\n",
    "# from tools.micro_tools import (retrieve_cypher_relationships)\n",
    "\n",
    "# cypher_generator = retrieve_cypher_relationships(\"How is the Utils.Utils module related to the Deduplicatioin.__Main__ module?\")"
   ]
  },
  {
   "cell_type": "code",
   "execution_count": null,
   "id": "6740a08f",
   "metadata": {},
   "outputs": [],
   "source": []
  },
  {
   "cell_type": "markdown",
   "id": "21060bcb",
   "metadata": {},
   "source": [
    "## Final Text Response(VectorDB)"
   ]
  },
  {
   "cell_type": "code",
   "execution_count": 9,
   "id": "0cd37ec8",
   "metadata": {},
   "outputs": [
    {
     "name": "stdout",
     "output_type": "stream",
     "text": [
      "Based on the provided sentence and context, I can add relevant details to make it more informative and useful:\n",
      "\n",
      "The `Utils.Utils` module is a crucial component in the `Deduplication.__Main__` module, providing essential functionality for document processing and deduplication. Specifically:\n",
      "\n",
      "1. The `Utils.Utils` module offers several key functions that are utilized in `Deduplication.__Main__`:\n",
      "\n",
      "   - `Read_Tsv`: This function reads tab-separated values (TSV) files, likely used to load document datasets for deduplication.\n",
      "   - `Minhash`: Implements the MinHash algorithm to create compact signatures of document shingles, essential for efficient similarity estimation between documents.\n",
      "   - `Shingle`: Generates k-shingles from text, preserving some word order information for document comparison.\n",
      "   - `Clean_Document`: Normalizes text by converting to lowercase and removing non-alphabetic characters, crucial for preprocessing before analysis.\n",
      "   - `Majority_Vote`: Performs a majority vote on candidate pairs, likely used to determine which document pairs are considered duplicates based on multiple criteria.\n",
      "\n",
      "2. The `Utils.Utils.Unionfind` class, which implements the Union-Find (Disjoint Set) data structure with path compression, is utilized in `Deduplication.__Main__` through its association with `Collection_Deduplication`. This data structure is efficient for grouping similar items together, which is a key operation in the deduplication process.\n",
      "\n",
      "3. The `Utils.Utils` module also interacts with other components like `Deduplication.Dedup.Baseline`, which provides a baseline approach for detecting duplicate documents using MD5 hashes. This interaction suggests that `Deduplication.__Main__` leverages multiple strategies for deduplication, from basic hashing to more advanced LSH techniques.\n",
      "\n",
      "4. The extensive use of `Utils.Utils` functions in `Deduplication.__Main__` indicates that the main deduplication logic heavily relies on these utility functions for tasks such as data loading, text preprocessing, similarity computation, and result aggregation, forming a comprehensive pipeline for document deduplication.\n"
     ]
    }
   ],
   "source": [
    "questions = \"\"\"\n",
    "The Utils.Utils module is intricately related to the Deduplication.__Main__ module through several intermediate connections, reflecting a well-structured framework that enhances document deduplication capabilities. Here are the key points of this relationship:\n",
    "\n",
    "1. **Function Utilization**: The Utils.Utils module utilizes the `Compute_Minhash_Signatures` function from Deduplication.Lsh.Lsh, which plays a crucial role in generating MinHash signatures for documents. This computational function is essential for the efficiency of the deduplication process, as it allows for quick similarity comparisons between documents based on their hashed representations.\n",
    "\n",
    "2. **Class Interdependency**: The Deduplication.Lsh.Lsh module invokes the `Model` class from Deduplication.__Main__. This class serves as the backbone of the deduplication system, encapsulating core functionalities and configurations necessary for implementing various LSH-based methods effectively. The relationship emphasizes a modular design where the Lsh module extends the capabilities defined in the __Main__ module, facilitating code maintainability and scalability.\n",
    "\n",
    "3. **Definition of Key Classes**: The Deduplication.__Main__ module independently defines both the `Model` class and the `__Main__` class. The `Model` class encompasses methods for executing the deduplication algorithms and managing the data structures involved, while the `__Main__` class is responsible for orchestrating the overall execution flow of the deduplication process. This design fosters a clear separation of concerns, allowing more straightforward debugging and enhancement in future iterations.\n",
    "\n",
    "4. **Indirect Connections through Variants**: Additional relationships exist through other modules like `Lshimproved.Lsh` and `Lshforest.Lshforest`, which are specifically imported by Deduplication.__Main__. These imports signify that the main deduplication script leverages advancements in LSH techniques, such as improved processes for handling larger datasets and enhanced accuracy in identifying duplicate documents.\n",
    "\n",
    "In summary, the Utils.Utils module is primarily connected to Deduplication.__Main__ through shared components and dependencies within the overall Deduplication system. These connections enhance the utility and efficiency of the deduplication process, particularly through the Lsh module and its associated classes and functions. The architecture aligns with best practices in software development by promoting modularity, enabling future enhancements like the implementation of new LSH-based algorithms without extensive modifications to the existing structure. This design not only streamlines the deduplication process but also positions the system for potential application in various scenarios, including plagiarism detection and content clustering.\n",
    "\"\"\"\n",
    "# Query the system\n",
    "answer = query_engine.query(result['answer'])\n",
    "print(answer)"
   ]
  },
  {
   "cell_type": "markdown",
   "id": "09b7cc3a",
   "metadata": {},
   "source": [
    "## Final Visualization Response"
   ]
  },
  {
   "cell_type": "code",
   "execution_count": 10,
   "id": "1e7d2d59",
   "metadata": {},
   "outputs": [
    {
     "name": "stdout",
     "output_type": "stream",
     "text": [
      "Graph visualization saved as code_relationships_graph.html\n"
     ]
    }
   ],
   "source": [
    "from tools.micro_visual_response import visualize_cypher_results\n",
    "stats = visualize_cypher_results(result['cypher_results'], \"code_relationships_graph.html\")"
   ]
  },
  {
   "cell_type": "code",
   "execution_count": null,
   "id": "5464415b",
   "metadata": {},
   "outputs": [],
   "source": []
  },
  {
   "cell_type": "markdown",
   "id": "6b93d747",
   "metadata": {},
   "source": [
    "# Agent"
   ]
  },
  {
   "cell_type": "code",
   "execution_count": 1,
   "id": "850bfc75",
   "metadata": {},
   "outputs": [
    {
     "name": "stdout",
     "output_type": "stream",
     "text": [
      "c:\\Users\\JaeHoBahng\\Desktop\\Georgetown\\2025_Spring\\DSAN_6725\\project\\spring-2025-final-project-project-group-2\\docs\\notebooks\n",
      "c:\\Users\\JaeHoBahng\\Desktop\\Georgetown\\2025_Spring\\DSAN_6725\\project\\spring-2025-final-project-project-group-2\\src\n"
     ]
    }
   ],
   "source": [
    "import os\n",
    "print(os.getcwd())\n",
    "os.chdir('c:\\\\Users\\\\JaeHoBahng\\\\Desktop\\\\Georgetown\\\\2025_Spring\\\\DSAN_6725\\\\project\\\\spring-2025-final-project-project-group-2\\\\src')\n",
    "print(os.getcwd())\n",
    "\n",
    "\n",
    "from tools.micro_text_answer import create_rag_system\n",
    "\n",
    "db_setup, query_engine = create_rag_system(\n",
    "    repo_path=\"../docs/notebooks/assignment-2-mcdonald-s/src\",\n",
    "    embedding_model=\"text-embedding-3-large\",\n",
    "    llm_model=\"gpt-4o\",\n",
    ")\n"
   ]
  },
  {
   "cell_type": "code",
   "execution_count": 2,
   "id": "78d2e844",
   "metadata": {},
   "outputs": [],
   "source": [
    "from tools.micro_tools import (retrieve_cypher_relationships, visualize_relationships, generate_text_response)\n",
    "from tools import micro_tools\n",
    "from langgraph.prebuilt import create_react_agent\n",
    "\n",
    "micro_tools.query_engine = query_engine\n",
    "\n",
    "tools = [\n",
    "    retrieve_cypher_relationships,\n",
    "    visualize_relationships,\n",
    "    generate_text_response,\n",
    "]\n",
    "\n",
    "system_prompt = f\"\"\"\n",
    "You are a suupervisor that answers the questions given the following tools.\n",
    "{tools}\n",
    "\n",
    "You will use each tool only once and the guidelines of the tools are as follows:\n",
    "- You will always use the retrieve_cypher_relationships tool to get an initial answer.\n",
    "- You will always use the generate_text_response tool to get a final answer.\n",
    "- Only use the visualize_relationships tool to visualize the relationships when the user asks for a visualization.\n",
    "\n",
    "USE EACH TOOL ONLY ONCE.\n",
    "\n",
    "Always provide clear, actionable responses with specific details and implementation steps.\n",
    "\"\"\"\n",
    "\n",
    "from langchain.chat_models import init_chat_model\n",
    "llm = init_chat_model(\"gpt-4o\", model_provider=\"openai\")\n",
    "\n",
    "agent = create_react_agent(llm, tools=tools, prompt=system_prompt)"
   ]
  },
  {
   "cell_type": "code",
   "execution_count": 3,
   "id": "1ebf6697",
   "metadata": {},
   "outputs": [
    {
     "name": "stdout",
     "output_type": "stream",
     "text": [
      "importing tools\n"
     ]
    },
    {
     "name": "stderr",
     "output_type": "stream",
     "text": [
      "c:\\Users\\JaeHoBahng\\Desktop\\Georgetown\\2025_Spring\\DSAN_6725\\project\\spring-2025-final-project-project-group-2\\.venv\\Lib\\site-packages\\tqdm\\auto.py:21: TqdmWarning: IProgress not found. Please update jupyter and ipywidgets. See https://ipywidgets.readthedocs.io/en/stable/user_install.html\n",
      "  from .autonotebook import tqdm as notebook_tqdm\n"
     ]
    },
    {
     "name": "stdout",
     "output_type": "stream",
     "text": [
      "initializing Neo4jGraph\n",
      "Building Cypher graph\n",
      "done\n",
      "done\n",
      "Invoking cypher graph\n",
      "Generating text response...\n",
      "Results: {'answer': '- `Utils.Utils` defines `Utils.Utils.Majority_Vote`, which is imported into `Deduplication.Lshforest`, eventually making its way into `Deduplication.__Main__`.\\n- `Utils.Utils` defines `Utils.Utils.Majority_Vote`, which is used in `Deduplication.Lshforest.Lshforest.Banding`, and this is imported into `Deduplication.__Main__`.\\n- `Utils.Utils` defines `Utils.Utils.Majority_Vote`, which is part of `Deduplication.Lshforest.Lshforest`, extending `Deduplication.Lsh.Lsh` that is imported into `Deduplication.__Main__`.\\n- `Utils.Utils` directly defines content (`Utils.Utils.Majority_Vote`) that is used by `Deduplication.__Main__`, specifically in its model usage.\\n- `Utils.Utils.Read_Tsv` is defined in `Utils.Utils` and imported into `Deduplication.__Main__`.', 'steps': ['generate_cypher', 'execute_cypher', 'generate_final_answer'], 'cypher_statement': \"MATCH path = (m1:Module {id: 'Utils.Utils'})-[*..5]-(m2:Module {id: 'Deduplication.__Main__'}) WHERE NONE(n IN nodes(path) WHERE n:Package) RETURN path LIMIT 10\", 'cypher_results': [{'path': [{'id': 'Utils.Utils'}, 'DEFINES', {'id': 'Utils.Utils.Majority_Vote'}, 'IMPORTED_INTO', {'id': 'Deduplication.Lshforest'}, 'IMPORTED_INTO', {'id': 'Deduplication.Lsh.Lsh'}, 'EXTENDS', {'id': 'Deduplication.Lshforest.Lshforest'}, 'IMPORTED_INTO', {'id': 'Deduplication.__Main__'}]}, {'path': [{'id': 'Utils.Utils'}, 'DEFINES', {'id': 'Utils.Utils.Majority_Vote'}, 'IMPORTED_INTO', {'id': 'Deduplication.Lshforest'}, 'IMPORTED_INTO', {'id': 'Deduplication.Lsh.Lsh'}, 'IMPORTED_INTO', {'id': 'Deduplication.__Main__'}]}, {'path': [{'id': 'Utils.Utils'}, 'DEFINES', {'id': 'Utils.Utils.Majority_Vote'}, 'IMPORTED_INTO', {'id': 'Deduplication.Lshforest'}, 'IMPORTED_INTO', {'id': 'Deduplication.Lsh.Lsh'}, 'USES', {'id': 'Deduplication.__Main__.Model'}, 'DEFINED_IN', {'id': 'Deduplication.__Main__'}]}, {'path': [{'id': 'Utils.Utils'}, 'DEFINES', {'id': 'Utils.Utils.Majority_Vote'}, 'IMPORTED_INTO', {'id': 'Deduplication.Lshforest'}, 'DEFINES', {'id': 'Deduplication.Lshforest.Lshforest'}, 'EXTENDS', {'id': 'Deduplication.Lsh.Lsh'}, 'IMPORTED_INTO', {'id': 'Deduplication.__Main__'}]}, {'path': [{'id': 'Utils.Utils'}, 'DEFINES', {'id': 'Utils.Utils.Majority_Vote'}, 'IMPORTED_INTO', {'id': 'Deduplication.Lshforest'}, 'DEFINES', {'id': 'Deduplication.Lshforest.Lshforest'}, 'IMPORTED_INTO', {'id': 'Deduplication.__Main__'}]}, {'path': [{'id': 'Utils.Utils'}, 'DEFINES', {'id': 'Utils.Utils.Majority_Vote'}, 'IMPORTED_INTO', {'id': 'Deduplication.Lshforest'}, 'DEFINES', {'id': 'Deduplication.Lshforest.Lshforest'}, 'USES', {'id': 'Deduplication.__Main__.Model'}, 'DEFINED_IN', {'id': 'Deduplication.__Main__'}]}, {'path': [{'id': 'Utils.Utils'}, 'DEFINES', {'id': 'Utils.Utils.Majority_Vote'}, 'USED_IN', {'id': 'Deduplication.Lshforest.Lshforest.Banding'}, 'DEFINES', {'id': 'Deduplication.Lshforest.Lshforest'}, 'EXTENDS', {'id': 'Deduplication.Lsh.Lsh'}, 'IMPORTED_INTO', {'id': 'Deduplication.__Main__'}]}, {'path': [{'id': 'Utils.Utils'}, 'DEFINES', {'id': 'Utils.Utils.Majority_Vote'}, 'USED_IN', {'id': 'Deduplication.Lshforest.Lshforest.Banding'}, 'DEFINES', {'id': 'Deduplication.Lshforest.Lshforest'}, 'IMPORTED_INTO', {'id': 'Deduplication.__Main__'}]}, {'path': [{'id': 'Utils.Utils'}, 'DEFINES', {'id': 'Utils.Utils.Majority_Vote'}, 'USED_IN', {'id': 'Deduplication.Lshforest.Lshforest.Banding'}, 'DEFINES', {'id': 'Deduplication.Lshforest.Lshforest'}, 'USES', {'id': 'Deduplication.__Main__.Model'}, 'DEFINED_IN', {'id': 'Deduplication.__Main__'}]}, {'path': [{'id': 'Utils.Utils'}, 'DEFINES', {'id': 'Utils.Utils.Majority_Vote'}, 'DEFINED_IN', {'id': 'Utils.Utils'}, 'DEFINED_IN', {'id': 'Utils.Utils.Read_Tsv'}, 'IMPORTED_INTO', {'id': 'Deduplication.__Main__'}]}]}\n",
      "<tools.micro_text_answer.RAGQueryEngine object at 0x0000024F73463E00>\n",
      "Initial response: - `Utils.Utils` defines `Utils.Utils.Majority_Vote`, which is imported into `Deduplication.Lshforest`, eventually making its way into `Deduplication.__Main__`.\n",
      "- `Utils.Utils` defines `Utils.Utils.Majority_Vote`, which is used in `Deduplication.Lshforest.Lshforest.Banding`, and this is imported into `Deduplication.__Main__`.\n",
      "- `Utils.Utils` defines `Utils.Utils.Majority_Vote`, which is part of `Deduplication.Lshforest.Lshforest`, extending `Deduplication.Lsh.Lsh` that is imported into `Deduplication.__Main__`.\n",
      "- `Utils.Utils` directly defines content (`Utils.Utils.Majority_Vote`) that is used by `Deduplication.__Main__`, specifically in its model usage.\n",
      "- `Utils.Utils.Read_Tsv` is defined in `Utils.Utils` and imported into `Deduplication.__Main__`.\n",
      "Answer: The script in question is a key component of a comprehensive deduplication system, effectively employing several advanced techniques to process and manage large datasets. Here's an enhanced breakdown of how the components and functions detailed in your Cypher query results integrate and illuminate the deduplication process:\n",
      "\n",
      "1. **`Utils.Utils.Majority_Vote` Functionality and Integration**:\n",
      "   - The `Utils.Utils.Majority_Vote` function is a pivotal part of the deduplication mechanism. It enhances the reliability of identifying correct candidate document pairs by aggregating results from multiple LSH processes. This aggregation mechanism is crucial for distinguishing true duplicates from false positives, thus ensuring the deduplication results' accuracy.\n",
      "\n",
      "2. **Role in `Deduplication.Lshforest`**:\n",
      "   - `Utils.Utils.Majority_Vote` is integral to the `Deduplication.Lshforest` module. Within this module, it is employed specifically as part of a more refined deduplication system that extends the basic LSH capabilities by utilizing several LSH trees (hence forming an LSH forest). This methodology stabilizes deduplication outcomes by reinforcing consistency across multiple hashing contexts.\n",
      "\n",
      "3. **Extension through `Deduplication.Lsh.Lsh`**:\n",
      "   - While the `LSHForest` enhances base LSH capabilities, the direct linkage to `Deduplication.Lsh.Lsh` signifies an architectural evolution aimed at capitalizing on the conventional LSH infrastructure but with added layers for rigorous deduplication—evidently through techniques like majority voting.\n",
      "\n",
      "4. **Direct Imports to `Deduplication.__Main__`**:\n",
      "   - The functions, including `Utils.Utils.Majority_Vote` and `Utils.Utils.Read_Tsv`, facilitated directly into `Deduplication.__Main__`, indicate their indispensable roles. The presence of these imports elucidates how `__Main__` acts as the foundational layer, assimilating utilities and strategies which harness document ingestion (`Read_Tsv`) and the core deduplication logic (`Majority_Vote`), underscoring its operation as the deduplication process's central operating point.\n",
      "\n",
      "5. **`Read_Tsv` for File and Data Handling**:\n",
      "   - `Utils.Utils.Read_Tsv` bolsters the script's data handling prowess by enabling efficient input parsing. Its integration ensures smooth file processing, transforming raw data into workable formats necessary for deduplication operations, mirroring the script's emphasis on handling extensive datasets.\n",
      "\n",
      "6. **The Working of the Script**:\n",
      "   - The script takes advantage of extensive utility and command-line parsing mechanisms to manage deduplication or approximate neighbor searches effectively. It leverages complexities like memory monitoring, error handling, and logging to offer a robust environment for operations, aligning with rigorous performance standards necessary for large-scale document processing tasks.\n",
      "\n",
      "By aggregating these nuances with the broader LSH mechanisms, the script stands out as a sophisticated framework designed for high-performance document deduplication, securing the efficiency and reliability necessary for handling substantial and complex data arrays.\n"
     ]
    }
   ],
   "source": [
    "answer = agent.invoke(\n",
    "    {\n",
    "        \"messages\": [\n",
    "            {\n",
    "                \"role\": \"user\",\n",
    "                \"content\": \"How is the Utils.Utils module related to the Deduplication.__Main__ module?\",\n",
    "            }\n",
    "        ],\n",
    "        \"goto\": \"supervisor\",\n",
    "    }\n",
    ")"
   ]
  },
  {
   "cell_type": "code",
   "execution_count": 4,
   "id": "e274fdff",
   "metadata": {},
   "outputs": [
    {
     "name": "stdout",
     "output_type": "stream",
     "text": [
      "The `Utils.Utils` module and the `Deduplication.__Main__` module are connected through several relationships and dependencies within the codebase. Here is a detailed breakdown of their relationship:\n",
      "\n",
      "1. **Definition and Usage**:\n",
      "   - `Utils.Utils` defines a component called `Utils.Utils.Majority_Vote`. This component is crucial and is imported into various parts of the deduplication framework, including `Deduplication.Lshforest` and through to `Deduplication.__Main__`.\n",
      "   - `Utils.Utils.Majority_Vote` is specifically used within `Deduplication.Lshforest.Lshforest.Banding`, which is part of the operations in the `Deduplication.__Main__`.\n",
      "\n",
      "2. **Hierarchical Integration**:\n",
      "   - The component `Utils.Utils.Majority_Vote` is integrated into `Deduplication.Lshforest`. The module `Deduplication.Lshforest` contains LSH (Locality-Sensitive Hashing) functionalities that extend its capabilities via the integration of majority voting systems for enhanced duplicate detection or elimination.\n",
      "   - The hierarchy extends from `Lshforest` to `Lshforest.Lshforest`, which itself extends `Deduplication.Lsh.Lsh`.\n",
      "\n",
      "3. **Direct Module Interaction**:\n",
      "   - `Utils.Utils.Read_Tsv`, another functionality defined in `Utils.Utils`, is directly imported into `Deduplication.__Main__`. This import highlights the utility of `Utils.Utils` in processing and handling data, specifically CSV/TSV files which are relevant for the main deduplication tasks.\n",
      "\n",
      "4. **Core Logic Incorporation**:\n",
      "   - Overall, `Utils.Utils` contributes core functionalities that are utilized within deduplication logic, empowering `Deduplication.__Main__` to perform its operations effectively. These operations might include reading input files (`Read_Tsv`) and processing data through majority voting and LSH techniques for duplicate detection.\n",
      "\n",
      "Thus, `Utils.Utils` supports and extends the capabilities of `Deduplication.__Main__` by providing fundamental utilities essential for data reading, processing, and decision-making in deduplication processes.\n"
     ]
    }
   ],
   "source": [
    "print(answer['messages'][-1].content)"
   ]
  },
  {
   "cell_type": "code",
   "execution_count": 4,
   "id": "bf4522c6",
   "metadata": {},
   "outputs": [
    {
     "data": {
      "text/plain": [
       "{'messages': [HumanMessage(content='How is the Utils.Utils module related to the Deduplication.__Main__ module? Can you give me a visualization as well?', additional_kwargs={}, response_metadata={}, id='93292251-b958-4aaa-acda-f0956832283b'),\n",
       "  AIMessage(content='', additional_kwargs={'tool_calls': [{'id': 'call_xumAZ62KiNB87z21VqqKcaU5', 'function': {'arguments': '{\"question\":\"How is the Utils.Utils module related to the Deduplication.__Main__ module?\"}', 'name': 'retrieve_cypher_relationships'}, 'type': 'function'}], 'refusal': None}, response_metadata={'token_usage': {'completion_tokens': 35, 'prompt_tokens': 731, 'total_tokens': 766, 'completion_tokens_details': {'accepted_prediction_tokens': 0, 'audio_tokens': 0, 'reasoning_tokens': 0, 'rejected_prediction_tokens': 0}, 'prompt_tokens_details': {'audio_tokens': 0, 'cached_tokens': 0}}, 'model_name': 'gpt-4o-2024-08-06', 'system_fingerprint': 'fp_85bc8e3fae', 'finish_reason': 'tool_calls', 'logprobs': None}, id='run-56e374d2-9391-4c58-9f79-f6f8771f9f6c-0', tool_calls=[{'name': 'retrieve_cypher_relationships', 'args': {'question': 'How is the Utils.Utils module related to the Deduplication.__Main__ module?'}, 'id': 'call_xumAZ62KiNB87z21VqqKcaU5', 'type': 'tool_call'}], usage_metadata={'input_tokens': 731, 'output_tokens': 35, 'total_tokens': 766, 'input_token_details': {'audio': 0, 'cache_read': 0}, 'output_token_details': {'audio': 0, 'reasoning': 0}}),\n",
       "  ToolMessage(content='{\"answer\": \"The `Utils.Utils` module is related to the `Deduplication.__Main__` module in multiple ways:\\\\n\\\\n- The `Utils.Utils` module, specifically `Utils.Utils.Unionfind`, is used in `Utils.Use_Cases.Collection_Deduplication` and either imports or uses `Deduplication.__Main__`.\\\\n- The `Utils.Utils` module, through the `Read_Tsv` function, imports and/or uses the `Deduplication.__Main__` module.\\\\n- The `Utils.Utils` module, via the `Minhash` function, uses `Deduplication.Lsh.Lsh.Compute_Minhash_Signatures` and interacts with `Deduplication.__Main__`.\\\\n- The `Utils.Utils` module, specifically the `Shingle` function, is used in `Utils.Use_Cases.Nearest_Neighbor_Search` and interacts with `Deduplication.__Main__`.\\\\n- The `Utils.Utils` module is imported in the `Deduplication.Lshimproved` module, which in turn imports `Deduplication.__Main__`.\", \"steps\": [\"generate_cypher\", \"execute_cypher\", \"generate_final_answer\"], \"cypher_statement\": \"MATCH path = (m1:Module {id: \\'Utils.Utils\\'})-[*..5]-(m2:Module {id: \\'Deduplication.__Main__\\'}) WHERE NONE(n IN nodes(path) WHERE n:Package) RETURN path\", \"cypher_results\": [{\"path\": [{\"id\": \"Utils.Utils\"}, \"CLASS\", {\"id\": \"Utils.Utils.Unionfind\"}, \"USED_IN\", {\"id\": \"Utils.Use_Cases.Collection_Deduplication\"}, \"DEFINES\", {\"id\": \"Utils.Use_Cases\"}, \"DEFINES\", {\"id\": \"Utils.Use_Cases.Nearest_Neighbor_Search\"}, \"IMPORTS\", {\"id\": \"Deduplication.__Main__\"}]}, {\"path\": [{\"id\": \"Utils.Utils\"}, \"CLASS\", {\"id\": \"Utils.Utils.Unionfind\"}, \"USED_IN\", {\"id\": \"Utils.Use_Cases.Collection_Deduplication\"}, \"DEFINES\", {\"id\": \"Utils.Use_Cases\"}, \"DEFINES\", {\"id\": \"Utils.Use_Cases.Nearest_Neighbor_Search\"}, \"USES\", {\"id\": \"Deduplication.__Main__\"}]}, {\"path\": [{\"id\": \"Utils.Utils\"}, \"CLASS\", {\"id\": \"Utils.Utils.Unionfind\"}, \"USED_IN\", {\"id\": \"Utils.Use_Cases.Collection_Deduplication\"}, \"IMPORTS\", {\"id\": \"Deduplication.__Main__\"}]}, {\"path\": [{\"id\": \"Utils.Utils\"}, \"CLASS\", {\"id\": \"Utils.Utils.Unionfind\"}, \"USED_IN\", {\"id\": \"Utils.Use_Cases.Collection_Deduplication\"}, \"IMPORTS\", {\"id\": \"Deduplication.__Main__\"}, \"INSTANTIATES\", {\"id\": \"Deduplication.Dedup.Baseline\"}, \"IMPORTS\", {\"id\": \"Deduplication.__Main__\"}]}, {\"path\": [{\"id\": \"Utils.Utils\"}, \"CLASS\", {\"id\": \"Utils.Utils.Unionfind\"}, \"USED_IN\", {\"id\": \"Utils.Use_Cases.Collection_Deduplication\"}, \"IMPORTS\", {\"id\": \"Deduplication.__Main__\"}, \"IMPORTS\", {\"id\": \"Utils.Use_Cases.Nearest_Neighbor_Search\"}, \"USES\", {\"id\": \"Deduplication.__Main__\"}]}, {\"path\": [{\"id\": \"Utils.Utils\"}, \"CLASS\", {\"id\": \"Utils.Utils.Unionfind\"}, \"USED_IN\", {\"id\": \"Utils.Use_Cases.Collection_Deduplication\"}, \"IMPORTS\", {\"id\": \"Deduplication.__Main__\"}, \"IMPORTS\", {\"id\": \"Utils.Utils.Read_Tsv\"}, \"USES\", {\"id\": \"Deduplication.__Main__\"}]}, {\"path\": [{\"id\": \"Utils.Utils\"}, \"CLASS\", {\"id\": \"Utils.Utils.Unionfind\"}, \"USED_IN\", {\"id\": \"Utils.Use_Cases.Collection_Deduplication\"}, \"IMPORTS\", {\"id\": \"Deduplication.__Main__\"}, \"IMPORTS\", {\"id\": \"Deduplication.Dedup.Baseline\"}, \"INSTANTIATES\", {\"id\": \"Deduplication.__Main__\"}]}, {\"path\": [{\"id\": \"Utils.Utils\"}, \"CLASS\", {\"id\": \"Utils.Utils.Unionfind\"}, \"USED_IN\", {\"id\": \"Utils.Use_Cases.Collection_Deduplication\"}, \"IMPORTS\", {\"id\": \"Deduplication.__Main__\"}, \"USES\", {\"id\": \"Utils.Use_Cases.Nearest_Neighbor_Search\"}, \"IMPORTS\", {\"id\": \"Deduplication.__Main__\"}]}, {\"path\": [{\"id\": \"Utils.Utils\"}, \"CLASS\", {\"id\": \"Utils.Utils.Unionfind\"}, \"USED_IN\", {\"id\": \"Utils.Use_Cases.Collection_Deduplication\"}, \"IMPORTS\", {\"id\": \"Deduplication.__Main__\"}, \"USES\", {\"id\": \"Utils.Utils.Read_Tsv\"}, \"IMPORTS\", {\"id\": \"Deduplication.__Main__\"}]}, {\"path\": [{\"id\": \"Utils.Utils\"}, \"CLASS\", {\"id\": \"Utils.Utils.Unionfind\"}, \"USED_IN\", {\"id\": \"Utils.Use_Cases.Collection_Deduplication\"}, \"USES\", {\"id\": \"Deduplication.__Main__\"}]}, {\"path\": [{\"id\": \"Utils.Utils\"}, \"CLASS\", {\"id\": \"Utils.Utils.Unionfind\"}, \"USED_IN\", {\"id\": \"Utils.Use_Cases.Collection_Deduplication\"}, \"USES\", {\"id\": \"Deduplication.__Main__\"}, \"INSTANTIATES\", {\"id\": \"Deduplication.Dedup.Baseline\"}, \"IMPORTS\", {\"id\": \"Deduplication.__Main__\"}]}, {\"path\": [{\"id\": \"Utils.Utils\"}, \"CLASS\", {\"id\": \"Utils.Utils.Unionfind\"}, \"USED_IN\", {\"id\": \"Utils.Use_Cases.Collection_Deduplication\"}, \"USES\", {\"id\": \"Deduplication.__Main__\"}, \"IMPORTS\", {\"id\": \"Utils.Use_Cases.Nearest_Neighbor_Search\"}, \"USES\", {\"id\": \"Deduplication.__Main__\"}]}, {\"path\": [{\"id\": \"Utils.Utils\"}, \"CLASS\", {\"id\": \"Utils.Utils.Unionfind\"}, \"USED_IN\", {\"id\": \"Utils.Use_Cases.Collection_Deduplication\"}, \"USES\", {\"id\": \"Deduplication.__Main__\"}, \"IMPORTS\", {\"id\": \"Utils.Utils.Read_Tsv\"}, \"USES\", {\"id\": \"Deduplication.__Main__\"}]}, {\"path\": [{\"id\": \"Utils.Utils\"}, \"CLASS\", {\"id\": \"Utils.Utils.Unionfind\"}, \"USED_IN\", {\"id\": \"Utils.Use_Cases.Collection_Deduplication\"}, \"USES\", {\"id\": \"Deduplication.__Main__\"}, \"IMPORTS\", {\"id\": \"Deduplication.Dedup.Baseline\"}, \"INSTANTIATES\", {\"id\": \"Deduplication.__Main__\"}]}, {\"path\": [{\"id\": \"Utils.Utils\"}, \"CLASS\", {\"id\": \"Utils.Utils.Unionfind\"}, \"USED_IN\", {\"id\": \"Utils.Use_Cases.Collection_Deduplication\"}, \"USES\", {\"id\": \"Deduplication.__Main__\"}, \"USES\", {\"id\": \"Utils.Use_Cases.Nearest_Neighbor_Search\"}, \"IMPORTS\", {\"id\": \"Deduplication.__Main__\"}]}, {\"path\": [{\"id\": \"Utils.Utils\"}, \"CLASS\", {\"id\": \"Utils.Utils.Unionfind\"}, \"USED_IN\", {\"id\": \"Utils.Use_Cases.Collection_Deduplication\"}, \"USES\", {\"id\": \"Deduplication.__Main__\"}, \"USES\", {\"id\": \"Utils.Utils.Read_Tsv\"}, \"IMPORTS\", {\"id\": \"Deduplication.__Main__\"}]}, {\"path\": [{\"id\": \"Utils.Utils\"}, \"FUNCTION\", {\"id\": \"Utils.Utils.Read_Tsv\"}, \"IMPORTS\", {\"id\": \"Deduplication.__Main__\"}]}, {\"path\": [{\"id\": \"Utils.Utils\"}, \"FUNCTION\", {\"id\": \"Utils.Utils.Read_Tsv\"}, \"IMPORTS\", {\"id\": \"Deduplication.__Main__\"}, \"INSTANTIATES\", {\"id\": \"Deduplication.Dedup.Baseline\"}, \"IMPORTS\", {\"id\": \"Deduplication.__Main__\"}]}, {\"path\": [{\"id\": \"Utils.Utils\"}, \"FUNCTION\", {\"id\": \"Utils.Utils.Read_Tsv\"}, \"IMPORTS\", {\"id\": \"Deduplication.__Main__\"}, \"INSTANTIATES\", {\"id\": \"Deduplication.Dedup.Baseline\"}, \"DEFINED_IN\", {\"id\": \"Deduplication.Dedup.Baseline.Collection_Deduplication\"}, \"USES\", {\"id\": \"Deduplication.__Main__\"}]}, {\"path\": [{\"id\": \"Utils.Utils\"}, \"FUNCTION\", {\"id\": \"Utils.Utils.Read_Tsv\"}, \"IMPORTS\", {\"id\": \"Deduplication.__Main__\"}, \"IMPORTS\", {\"id\": \"Utils.Use_Cases.Nearest_Neighbor_Search\"}, \"USES\", {\"id\": \"Deduplication.__Main__\"}]}, {\"path\": [{\"id\": \"Utils.Utils\"}, \"FUNCTION\", {\"id\": \"Utils.Utils.Read_Tsv\"}, \"IMPORTS\", {\"id\": \"Deduplication.__Main__\"}, \"IMPORTS\", {\"id\": \"Utils.Use_Cases.Collection_Deduplication\"}, \"USES\", {\"id\": \"Deduplication.__Main__\"}]}, {\"path\": [{\"id\": \"Utils.Utils\"}, \"FUNCTION\", {\"id\": \"Utils.Utils.Read_Tsv\"}, \"IMPORTS\", {\"id\": \"Deduplication.__Main__\"}, \"IMPORTS\", {\"id\": \"Deduplication.Lshforest.Lshforest\"}, \"INHERITS\", {\"id\": \"Deduplication.Lsh.Lsh\"}, \"IMPORTS\", {\"id\": \"Deduplication.__Main__\"}]}, {\"path\": [{\"id\": \"Utils.Utils\"}, \"FUNCTION\", {\"id\": \"Utils.Utils.Read_Tsv\"}, \"IMPORTS\", {\"id\": \"Deduplication.__Main__\"}, \"IMPORTS\", {\"id\": \"Deduplication.Lsh.Lsh\"}, \"INHERITS\", {\"id\": \"Deduplication.Lshforest.Lshforest\"}, \"IMPORTS\", {\"id\": \"Deduplication.__Main__\"}]}, {\"path\": [{\"id\": \"Utils.Utils\"}, \"FUNCTION\", {\"id\": \"Utils.Utils.Read_Tsv\"}, \"IMPORTS\", {\"id\": \"Deduplication.__Main__\"}, \"IMPORTS\", {\"id\": \"Deduplication.Dedup.Baseline\"}, \"INSTANTIATES\", {\"id\": \"Deduplication.__Main__\"}]}, {\"path\": [{\"id\": \"Utils.Utils\"}, \"FUNCTION\", {\"id\": \"Utils.Utils.Read_Tsv\"}, \"IMPORTS\", {\"id\": \"Deduplication.__Main__\"}, \"IMPORTS\", {\"id\": \"Deduplication.Dedup.Baseline\"}, \"DEFINED_IN\", {\"id\": \"Deduplication.Dedup.Baseline.Collection_Deduplication\"}, \"USES\", {\"id\": \"Deduplication.__Main__\"}]}, {\"path\": [{\"id\": \"Utils.Utils\"}, \"FUNCTION\", {\"id\": \"Utils.Utils.Read_Tsv\"}, \"IMPORTS\", {\"id\": \"Deduplication.__Main__\"}, \"USES\", {\"id\": \"Utils.Use_Cases.Nearest_Neighbor_Search\"}, \"IMPORTS\", {\"id\": \"Deduplication.__Main__\"}]}, {\"path\": [{\"id\": \"Utils.Utils\"}, \"FUNCTION\", {\"id\": \"Utils.Utils.Read_Tsv\"}, \"IMPORTS\", {\"id\": \"Deduplication.__Main__\"}, \"USES\", {\"id\": \"Utils.Use_Cases.Collection_Deduplication\"}, \"IMPORTS\", {\"id\": \"Deduplication.__Main__\"}]}, {\"path\": [{\"id\": \"Utils.Utils\"}, \"FUNCTION\", {\"id\": \"Utils.Utils.Read_Tsv\"}, \"IMPORTS\", {\"id\": \"Deduplication.__Main__\"}, \"USES\", {\"id\": \"Deduplication.Dedup.Baseline.Collection_Deduplication\"}, \"DEFINED_IN\", {\"id\": \"Deduplication.Dedup.Baseline\"}, \"INSTANTIATES\", {\"id\": \"Deduplication.__Main__\"}]}, {\"path\": [{\"id\": \"Utils.Utils\"}, \"FUNCTION\", {\"id\": \"Utils.Utils.Read_Tsv\"}, \"IMPORTS\", {\"id\": \"Deduplication.__Main__\"}, \"USES\", {\"id\": \"Deduplication.Dedup.Baseline.Collection_Deduplication\"}, \"DEFINED_IN\", {\"id\": \"Deduplication.Dedup.Baseline\"}, \"IMPORTS\", {\"id\": \"Deduplication.__Main__\"}]}, {\"path\": [{\"id\": \"Utils.Utils\"}, \"FUNCTION\", {\"id\": \"Utils.Utils.Read_Tsv\"}, \"USES\", {\"id\": \"Deduplication.__Main__\"}]}, {\"path\": [{\"id\": \"Utils.Utils\"}, \"FUNCTION\", {\"id\": \"Utils.Utils.Read_Tsv\"}, \"USES\", {\"id\": \"Deduplication.__Main__\"}, \"INSTANTIATES\", {\"id\": \"Deduplication.Dedup.Baseline\"}, \"IMPORTS\", {\"id\": \"Deduplication.__Main__\"}]}, {\"path\": [{\"id\": \"Utils.Utils\"}, \"FUNCTION\", {\"id\": \"Utils.Utils.Read_Tsv\"}, \"USES\", {\"id\": \"Deduplication.__Main__\"}, \"INSTANTIATES\", {\"id\": \"Deduplication.Dedup.Baseline\"}, \"DEFINED_IN\", {\"id\": \"Deduplication.Dedup.Baseline.Collection_Deduplication\"}, \"USES\", {\"id\": \"Deduplication.__Main__\"}]}, {\"path\": [{\"id\": \"Utils.Utils\"}, \"FUNCTION\", {\"id\": \"Utils.Utils.Read_Tsv\"}, \"USES\", {\"id\": \"Deduplication.__Main__\"}, \"IMPORTS\", {\"id\": \"Utils.Use_Cases.Nearest_Neighbor_Search\"}, \"USES\", {\"id\": \"Deduplication.__Main__\"}]}, {\"path\": [{\"id\": \"Utils.Utils\"}, \"FUNCTION\", {\"id\": \"Utils.Utils.Read_Tsv\"}, \"USES\", {\"id\": \"Deduplication.__Main__\"}, \"IMPORTS\", {\"id\": \"Utils.Use_Cases.Collection_Deduplication\"}, \"USES\", {\"id\": \"Deduplication.__Main__\"}]}, {\"path\": [{\"id\": \"Utils.Utils\"}, \"FUNCTION\", {\"id\": \"Utils.Utils.Read_Tsv\"}, \"USES\", {\"id\": \"Deduplication.__Main__\"}, \"IMPORTS\", {\"id\": \"Deduplication.Lshforest.Lshforest\"}, \"INHERITS\", {\"id\": \"Deduplication.Lsh.Lsh\"}, \"IMPORTS\", {\"id\": \"Deduplication.__Main__\"}]}, {\"path\": [{\"id\": \"Utils.Utils\"}, \"FUNCTION\", {\"id\": \"Utils.Utils.Read_Tsv\"}, \"USES\", {\"id\": \"Deduplication.__Main__\"}, \"IMPORTS\", {\"id\": \"Deduplication.Lsh.Lsh\"}, \"INHERITS\", {\"id\": \"Deduplication.Lshforest.Lshforest\"}, \"IMPORTS\", {\"id\": \"Deduplication.__Main__\"}]}, {\"path\": [{\"id\": \"Utils.Utils\"}, \"FUNCTION\", {\"id\": \"Utils.Utils.Read_Tsv\"}, \"USES\", {\"id\": \"Deduplication.__Main__\"}, \"IMPORTS\", {\"id\": \"Deduplication.Dedup.Baseline\"}, \"INSTANTIATES\", {\"id\": \"Deduplication.__Main__\"}]}, {\"path\": [{\"id\": \"Utils.Utils\"}, \"FUNCTION\", {\"id\": \"Utils.Utils.Read_Tsv\"}, \"USES\", {\"id\": \"Deduplication.__Main__\"}, \"IMPORTS\", {\"id\": \"Deduplication.Dedup.Baseline\"}, \"DEFINED_IN\", {\"id\": \"Deduplication.Dedup.Baseline.Collection_Deduplication\"}, \"USES\", {\"id\": \"Deduplication.__Main__\"}]}, {\"path\": [{\"id\": \"Utils.Utils\"}, \"FUNCTION\", {\"id\": \"Utils.Utils.Read_Tsv\"}, \"USES\", {\"id\": \"Deduplication.__Main__\"}, \"USES\", {\"id\": \"Utils.Use_Cases.Nearest_Neighbor_Search\"}, \"IMPORTS\", {\"id\": \"Deduplication.__Main__\"}]}, {\"path\": [{\"id\": \"Utils.Utils\"}, \"FUNCTION\", {\"id\": \"Utils.Utils.Read_Tsv\"}, \"USES\", {\"id\": \"Deduplication.__Main__\"}, \"USES\", {\"id\": \"Utils.Use_Cases.Collection_Deduplication\"}, \"IMPORTS\", {\"id\": \"Deduplication.__Main__\"}]}, {\"path\": [{\"id\": \"Utils.Utils\"}, \"FUNCTION\", {\"id\": \"Utils.Utils.Read_Tsv\"}, \"USES\", {\"id\": \"Deduplication.__Main__\"}, \"USES\", {\"id\": \"Deduplication.Dedup.Baseline.Collection_Deduplication\"}, \"DEFINED_IN\", {\"id\": \"Deduplication.Dedup.Baseline\"}, \"INSTANTIATES\", {\"id\": \"Deduplication.__Main__\"}]}, {\"path\": [{\"id\": \"Utils.Utils\"}, \"FUNCTION\", {\"id\": \"Utils.Utils.Read_Tsv\"}, \"USES\", {\"id\": \"Deduplication.__Main__\"}, \"USES\", {\"id\": \"Deduplication.Dedup.Baseline.Collection_Deduplication\"}, \"DEFINED_IN\", {\"id\": \"Deduplication.Dedup.Baseline\"}, \"IMPORTS\", {\"id\": \"Deduplication.__Main__\"}]}, {\"path\": [{\"id\": \"Utils.Utils\"}, \"FUNCTION\", {\"id\": \"Utils.Utils.Majority_Vote\"}, \"USES\", {\"id\": \"Deduplication.Lshforest.Lshforest.Banding\"}, \"DEFINES\", {\"id\": \"Deduplication.Lshforest.Lshforest\"}, \"INHERITS\", {\"id\": \"Deduplication.Lsh.Lsh\"}, \"IMPORTS\", {\"id\": \"Deduplication.__Main__\"}]}, {\"path\": [{\"id\": \"Utils.Utils\"}, \"FUNCTION\", {\"id\": \"Utils.Utils.Majority_Vote\"}, \"USES\", {\"id\": \"Deduplication.Lshforest.Lshforest.Banding\"}, \"DEFINES\", {\"id\": \"Deduplication.Lshforest.Lshforest\"}, \"IMPORTS\", {\"id\": \"Deduplication.__Main__\"}]}, {\"path\": [{\"id\": \"Utils.Utils\"}, \"FUNCTION\", {\"id\": \"Utils.Utils.Majority_Vote\"}, \"USES\", {\"id\": \"Deduplication.Lshforest.Lshforest.Banding\"}, \"USES\", {\"id\": \"Deduplication.__Main__.Model\"}, \"DEFINED_IN\", {\"id\": \"Deduplication.__Main__\"}]}, {\"path\": [{\"id\": \"Utils.Utils\"}, \"FUNCTION\", {\"id\": \"Utils.Utils.Split_Dict\"}, \"USES\", {\"id\": \"Deduplication.Lshforest.Lshforest.Banding\"}, \"DEFINES\", {\"id\": \"Deduplication.Lshforest.Lshforest\"}, \"INHERITS\", {\"id\": \"Deduplication.Lsh.Lsh\"}, \"IMPORTS\", {\"id\": \"Deduplication.__Main__\"}]}, {\"path\": [{\"id\": \"Utils.Utils\"}, \"FUNCTION\", {\"id\": \"Utils.Utils.Split_Dict\"}, \"USES\", {\"id\": \"Deduplication.Lshforest.Lshforest.Banding\"}, \"DEFINES\", {\"id\": \"Deduplication.Lshforest.Lshforest\"}, \"IMPORTS\", {\"id\": \"Deduplication.__Main__\"}]}, {\"path\": [{\"id\": \"Utils.Utils\"}, \"FUNCTION\", {\"id\": \"Utils.Utils.Split_Dict\"}, \"USES\", {\"id\": \"Deduplication.Lshforest.Lshforest.Banding\"}, \"USES\", {\"id\": \"Deduplication.__Main__.Model\"}, \"DEFINED_IN\", {\"id\": \"Deduplication.__Main__\"}]}, {\"path\": [{\"id\": \"Utils.Utils\"}, \"FUNCTION\", {\"id\": \"Utils.Utils.Minhash\"}, \"IMPORTS\", {\"id\": \"Deduplication.Lsh\"}, \"IMPORTS\", {\"id\": \"Utils.Utils.Shingle\"}, \"USED_IN\", {\"id\": \"Utils.Use_Cases.Nearest_Neighbor_Search\"}, \"IMPORTS\", {\"id\": \"Deduplication.__Main__\"}]}, {\"path\": [{\"id\": \"Utils.Utils\"}, \"FUNCTION\", {\"id\": \"Utils.Utils.Minhash\"}, \"IMPORTS\", {\"id\": \"Deduplication.Lsh\"}, \"IMPORTS\", {\"id\": \"Utils.Utils.Shingle\"}, \"USED_IN\", {\"id\": \"Utils.Use_Cases.Nearest_Neighbor_Search\"}, \"USES\", {\"id\": \"Deduplication.__Main__\"}]}, {\"path\": [{\"id\": \"Utils.Utils\"}, \"FUNCTION\", {\"id\": \"Utils.Utils.Minhash\"}, \"IMPORTS\", {\"id\": \"Deduplication.Lsh\"}, \"IMPORTS\", {\"id\": \"Utils.Utils.Clean_Document\"}, \"USED_IN\", {\"id\": \"Utils.Use_Cases.Nearest_Neighbor_Search\"}, \"IMPORTS\", {\"id\": \"Deduplication.__Main__\"}]}, {\"path\": [{\"id\": \"Utils.Utils\"}, \"FUNCTION\", {\"id\": \"Utils.Utils.Minhash\"}, \"IMPORTS\", {\"id\": \"Deduplication.Lsh\"}, \"IMPORTS\", {\"id\": \"Utils.Utils.Clean_Document\"}, \"USED_IN\", {\"id\": \"Utils.Use_Cases.Nearest_Neighbor_Search\"}, \"USES\", {\"id\": \"Deduplication.__Main__\"}]}, {\"path\": [{\"id\": \"Utils.Utils\"}, \"FUNCTION\", {\"id\": \"Utils.Utils.Minhash\"}, \"IMPORTS\", {\"id\": \"Deduplication.Lsh\"}, \"DEFINED_IN\", {\"id\": \"Deduplication.Lsh.Lsh\"}, \"INHERITS\", {\"id\": \"Deduplication.Lshforest.Lshforest\"}, \"IMPORTS\", {\"id\": \"Deduplication.__Main__\"}]}, {\"path\": [{\"id\": \"Utils.Utils\"}, \"FUNCTION\", {\"id\": \"Utils.Utils.Minhash\"}, \"IMPORTS\", {\"id\": \"Deduplication.Lsh\"}, \"DEFINED_IN\", {\"id\": \"Deduplication.Lsh.Lsh\"}, \"IMPORTS\", {\"id\": \"Deduplication.__Main__\"}]}, {\"path\": [{\"id\": \"Utils.Utils\"}, \"FUNCTION\", {\"id\": \"Utils.Utils.Minhash\"}, \"USES\", {\"id\": \"Deduplication.Lsh.Lsh.Compute_Minhash_Signatures\"}, \"USES\", {\"id\": \"Deduplication.__Main__.Model\"}, \"DEFINED_IN\", {\"id\": \"Deduplication.__Main__\"}]}, {\"path\": [{\"id\": \"Utils.Utils\"}, \"FUNCTION\", {\"id\": \"Utils.Utils.Minhash\"}, \"USES\", {\"id\": \"Deduplication.Lsh.Lsh.Compute_Minhash_Signatures\"}, \"USES\", {\"id\": \"Utils.Utils.Shingle\"}, \"USED_IN\", {\"id\": \"Utils.Use_Cases.Nearest_Neighbor_Search\"}, \"IMPORTS\", {\"id\": \"Deduplication.__Main__\"}]}, {\"path\": [{\"id\": \"Utils.Utils\"}, \"FUNCTION\", {\"id\": \"Utils.Utils.Minhash\"}, \"USES\", {\"id\": \"Deduplication.Lsh.Lsh.Compute_Minhash_Signatures\"}, \"USES\", {\"id\": \"Utils.Utils.Shingle\"}, \"USED_IN\", {\"id\": \"Utils.Use_Cases.Nearest_Neighbor_Search\"}, \"USES\", {\"id\": \"Deduplication.__Main__\"}]}, {\"path\": [{\"id\": \"Utils.Utils\"}, \"FUNCTION\", {\"id\": \"Utils.Utils.Minhash\"}, \"USES\", {\"id\": \"Deduplication.Lsh.Lsh.Compute_Minhash_Signatures\"}, \"USES\", {\"id\": \"Utils.Utils.Clean_Document\"}, \"USED_IN\", {\"id\": \"Utils.Use_Cases.Nearest_Neighbor_Search\"}, \"IMPORTS\", {\"id\": \"Deduplication.__Main__\"}]}, {\"path\": [{\"id\": \"Utils.Utils\"}, \"FUNCTION\", {\"id\": \"Utils.Utils.Minhash\"}, \"USES\", {\"id\": \"Deduplication.Lsh.Lsh.Compute_Minhash_Signatures\"}, \"USES\", {\"id\": \"Utils.Utils.Clean_Document\"}, \"USED_IN\", {\"id\": \"Utils.Use_Cases.Nearest_Neighbor_Search\"}, \"USES\", {\"id\": \"Deduplication.__Main__\"}]}, {\"path\": [{\"id\": \"Utils.Utils\"}, \"FUNCTION\", {\"id\": \"Utils.Utils.Minhash\"}, \"USES\", {\"id\": \"Deduplication.Lsh.Lsh.Compute_Minhash_Signatures\"}, \"DEFINED_IN\", {\"id\": \"Deduplication.Lsh.Lsh\"}, \"INHERITS\", {\"id\": \"Deduplication.Lshforest.Lshforest\"}, \"IMPORTS\", {\"id\": \"Deduplication.__Main__\"}]}, {\"path\": [{\"id\": \"Utils.Utils\"}, \"FUNCTION\", {\"id\": \"Utils.Utils.Minhash\"}, \"USES\", {\"id\": \"Deduplication.Lsh.Lsh.Compute_Minhash_Signatures\"}, \"DEFINED_IN\", {\"id\": \"Deduplication.Lsh.Lsh\"}, \"IMPORTS\", {\"id\": \"Deduplication.__Main__\"}]}, {\"path\": [{\"id\": \"Utils.Utils\"}, \"FUNCTION\", {\"id\": \"Utils.Utils.Minhash\"}, \"USED_IN\", {\"id\": \"Utils.Use_Cases.Nearest_Neighbor_Search\"}, \"DEFINES\", {\"id\": \"Utils.Use_Cases\"}, \"DEFINES\", {\"id\": \"Utils.Use_Cases.Collection_Deduplication\"}, \"IMPORTS\", {\"id\": \"Deduplication.__Main__\"}]}, {\"path\": [{\"id\": \"Utils.Utils\"}, \"FUNCTION\", {\"id\": \"Utils.Utils.Minhash\"}, \"USED_IN\", {\"id\": \"Utils.Use_Cases.Nearest_Neighbor_Search\"}, \"DEFINES\", {\"id\": \"Utils.Use_Cases\"}, \"DEFINES\", {\"id\": \"Utils.Use_Cases.Collection_Deduplication\"}, \"USES\", {\"id\": \"Deduplication.__Main__\"}]}, {\"path\": [{\"id\": \"Utils.Utils\"}, \"FUNCTION\", {\"id\": \"Utils.Utils.Minhash\"}, \"USED_IN\", {\"id\": \"Utils.Use_Cases.Nearest_Neighbor_Search\"}, \"IMPORTS\", {\"id\": \"Deduplication.__Main__\"}]}, {\"path\": [{\"id\": \"Utils.Utils\"}, \"FUNCTION\", {\"id\": \"Utils.Utils.Minhash\"}, \"USED_IN\", {\"id\": \"Utils.Use_Cases.Nearest_Neighbor_Search\"}, \"IMPORTS\", {\"id\": \"Deduplication.__Main__\"}, \"INSTANTIATES\", {\"id\": \"Deduplication.Dedup.Baseline\"}, \"IMPORTS\", {\"id\": \"Deduplication.__Main__\"}]}, {\"path\": [{\"id\": \"Utils.Utils\"}, \"FUNCTION\", {\"id\": \"Utils.Utils.Minhash\"}, \"USED_IN\", {\"id\": \"Utils.Use_Cases.Nearest_Neighbor_Search\"}, \"IMPORTS\", {\"id\": \"Deduplication.__Main__\"}, \"IMPORTS\", {\"id\": \"Utils.Use_Cases.Collection_Deduplication\"}, \"USES\", {\"id\": \"Deduplication.__Main__\"}]}, {\"path\": [{\"id\": \"Utils.Utils\"}, \"FUNCTION\", {\"id\": \"Utils.Utils.Minhash\"}, \"USED_IN\", {\"id\": \"Utils.Use_Cases.Nearest_Neighbor_Search\"}, \"IMPORTS\", {\"id\": \"Deduplication.__Main__\"}, \"IMPORTS\", {\"id\": \"Utils.Utils.Read_Tsv\"}, \"USES\", {\"id\": \"Deduplication.__Main__\"}]}, {\"path\": [{\"id\": \"Utils.Utils\"}, \"FUNCTION\", {\"id\": \"Utils.Utils.Minhash\"}, \"USED_IN\", {\"id\": \"Utils.Use_Cases.Nearest_Neighbor_Search\"}, \"IMPORTS\", {\"id\": \"Deduplication.__Main__\"}, \"IMPORTS\", {\"id\": \"Deduplication.Dedup.Baseline\"}, \"INSTANTIATES\", {\"id\": \"Deduplication.__Main__\"}]}, {\"path\": [{\"id\": \"Utils.Utils\"}, \"FUNCTION\", {\"id\": \"Utils.Utils.Minhash\"}, \"USED_IN\", {\"id\": \"Utils.Use_Cases.Nearest_Neighbor_Search\"}, \"IMPORTS\", {\"id\": \"Deduplication.__Main__\"}, \"USES\", {\"id\": \"Utils.Use_Cases.Collection_Deduplication\"}, \"IMPORTS\", {\"id\": \"Deduplication.__Main__\"}]}, {\"path\": [{\"id\": \"Utils.Utils\"}, \"FUNCTION\", {\"id\": \"Utils.Utils.Minhash\"}, \"USED_IN\", {\"id\": \"Utils.Use_Cases.Nearest_Neighbor_Search\"}, \"IMPORTS\", {\"id\": \"Deduplication.__Main__\"}, \"USES\", {\"id\": \"Utils.Utils.Read_Tsv\"}, \"IMPORTS\", {\"id\": \"Deduplication.__Main__\"}]}, {\"path\": [{\"id\": \"Utils.Utils\"}, \"FUNCTION\", {\"id\": \"Utils.Utils.Minhash\"}, \"USED_IN\", {\"id\": \"Utils.Use_Cases.Nearest_Neighbor_Search\"}, \"USES\", {\"id\": \"Deduplication.__Main__\"}]}, {\"path\": [{\"id\": \"Utils.Utils\"}, \"FUNCTION\", {\"id\": \"Utils.Utils.Minhash\"}, \"USED_IN\", {\"id\": \"Utils.Use_Cases.Nearest_Neighbor_Search\"}, \"USES\", {\"id\": \"Deduplication.__Main__\"}, \"INSTANTIATES\", {\"id\": \"Deduplication.Dedup.Baseline\"}, \"IMPORTS\", {\"id\": \"Deduplication.__Main__\"}]}, {\"path\": [{\"id\": \"Utils.Utils\"}, \"FUNCTION\", {\"id\": \"Utils.Utils.Minhash\"}, \"USED_IN\", {\"id\": \"Utils.Use_Cases.Nearest_Neighbor_Search\"}, \"USES\", {\"id\": \"Deduplication.__Main__\"}, \"IMPORTS\", {\"id\": \"Utils.Use_Cases.Collection_Deduplication\"}, \"USES\", {\"id\": \"Deduplication.__Main__\"}]}, {\"path\": [{\"id\": \"Utils.Utils\"}, \"FUNCTION\", {\"id\": \"Utils.Utils.Minhash\"}, \"USED_IN\", {\"id\": \"Utils.Use_Cases.Nearest_Neighbor_Search\"}, \"USES\", {\"id\": \"Deduplication.__Main__\"}, \"IMPORTS\", {\"id\": \"Utils.Utils.Read_Tsv\"}, \"USES\", {\"id\": \"Deduplication.__Main__\"}]}, {\"path\": [{\"id\": \"Utils.Utils\"}, \"FUNCTION\", {\"id\": \"Utils.Utils.Minhash\"}, \"USED_IN\", {\"id\": \"Utils.Use_Cases.Nearest_Neighbor_Search\"}, \"USES\", {\"id\": \"Deduplication.__Main__\"}, \"IMPORTS\", {\"id\": \"Deduplication.Dedup.Baseline\"}, \"INSTANTIATES\", {\"id\": \"Deduplication.__Main__\"}]}, {\"path\": [{\"id\": \"Utils.Utils\"}, \"FUNCTION\", {\"id\": \"Utils.Utils.Minhash\"}, \"USED_IN\", {\"id\": \"Utils.Use_Cases.Nearest_Neighbor_Search\"}, \"USES\", {\"id\": \"Deduplication.__Main__\"}, \"USES\", {\"id\": \"Utils.Use_Cases.Collection_Deduplication\"}, \"IMPORTS\", {\"id\": \"Deduplication.__Main__\"}]}, {\"path\": [{\"id\": \"Utils.Utils\"}, \"FUNCTION\", {\"id\": \"Utils.Utils.Minhash\"}, \"USED_IN\", {\"id\": \"Utils.Use_Cases.Nearest_Neighbor_Search\"}, \"USES\", {\"id\": \"Deduplication.__Main__\"}, \"USES\", {\"id\": \"Utils.Utils.Read_Tsv\"}, \"IMPORTS\", {\"id\": \"Deduplication.__Main__\"}]}, {\"path\": [{\"id\": \"Utils.Utils\"}, \"FUNCTION\", {\"id\": \"Utils.Utils.Minhash\"}, \"USED_IN\", {\"id\": \"Deduplication.Lshimproved.Lshimproved.Compute_Minhash_Signatures\"}, \"USES\", {\"id\": \"Deduplication.__Main__.Model\"}, \"DEFINED_IN\", {\"id\": \"Deduplication.__Main__\"}]}, {\"path\": [{\"id\": \"Utils.Utils\"}, \"FUNCTION\", {\"id\": \"Utils.Utils.Minhash\"}, \"USED_IN\", {\"id\": \"Deduplication.Lshimproved.Lshimproved.Compute_Minhash_Signatures\"}, \"DEFINED_IN\", {\"id\": \"Deduplication.Lshimproved.Lshimproved\"}, \"IMPORTS\", {\"id\": \"Deduplication.__Main__\"}]}, {\"path\": [{\"id\": \"Utils.Utils\"}, \"FUNCTION\", {\"id\": \"Utils.Utils.Minhash\"}, \"USED_IN\", {\"id\": \"Deduplication.Lshimproved.Lshimproved.Compute_Minhash_Signatures\"}, \"USED_IN\", {\"id\": \"Utils.Utils.Shingle\"}, \"USED_IN\", {\"id\": \"Utils.Use_Cases.Nearest_Neighbor_Search\"}, \"IMPORTS\", {\"id\": \"Deduplication.__Main__\"}]}, {\"path\": [{\"id\": \"Utils.Utils\"}, \"FUNCTION\", {\"id\": \"Utils.Utils.Minhash\"}, \"USED_IN\", {\"id\": \"Deduplication.Lshimproved.Lshimproved.Compute_Minhash_Signatures\"}, \"USED_IN\", {\"id\": \"Utils.Utils.Shingle\"}, \"USED_IN\", {\"id\": \"Utils.Use_Cases.Nearest_Neighbor_Search\"}, \"USES\", {\"id\": \"Deduplication.__Main__\"}]}, {\"path\": [{\"id\": \"Utils.Utils\"}, \"FUNCTION\", {\"id\": \"Utils.Utils.Minhash\"}, \"USED_IN\", {\"id\": \"Deduplication.Lshimproved.Lshimproved.Compute_Minhash_Signatures\"}, \"USED_IN\", {\"id\": \"Utils.Utils.Clean_Document\"}, \"USED_IN\", {\"id\": \"Utils.Use_Cases.Nearest_Neighbor_Search\"}, \"IMPORTS\", {\"id\": \"Deduplication.__Main__\"}]}, {\"path\": [{\"id\": \"Utils.Utils\"}, \"FUNCTION\", {\"id\": \"Utils.Utils.Minhash\"}, \"USED_IN\", {\"id\": \"Deduplication.Lshimproved.Lshimproved.Compute_Minhash_Signatures\"}, \"USED_IN\", {\"id\": \"Utils.Utils.Clean_Document\"}, \"USED_IN\", {\"id\": \"Utils.Use_Cases.Nearest_Neighbor_Search\"}, \"USES\", {\"id\": \"Deduplication.__Main__\"}]}, {\"path\": [{\"id\": \"Utils.Utils\"}, \"FUNCTION\", {\"id\": \"Utils.Utils.Shingle\"}, \"IMPORTS\", {\"id\": \"Deduplication.Lsh\"}, \"IMPORTS\", {\"id\": \"Utils.Utils.Minhash\"}, \"USED_IN\", {\"id\": \"Utils.Use_Cases.Nearest_Neighbor_Search\"}, \"IMPORTS\", {\"id\": \"Deduplication.__Main__\"}]}, {\"path\": [{\"id\": \"Utils.Utils\"}, \"FUNCTION\", {\"id\": \"Utils.Utils.Shingle\"}, \"IMPORTS\", {\"id\": \"Deduplication.Lsh\"}, \"IMPORTS\", {\"id\": \"Utils.Utils.Minhash\"}, \"USED_IN\", {\"id\": \"Utils.Use_Cases.Nearest_Neighbor_Search\"}, \"USES\", {\"id\": \"Deduplication.__Main__\"}]}, {\"path\": [{\"id\": \"Utils.Utils\"}, \"FUNCTION\", {\"id\": \"Utils.Utils.Shingle\"}, \"IMPORTS\", {\"id\": \"Deduplication.Lsh\"}, \"IMPORTS\", {\"id\": \"Utils.Utils.Clean_Document\"}, \"USED_IN\", {\"id\": \"Utils.Use_Cases.Nearest_Neighbor_Search\"}, \"IMPORTS\", {\"id\": \"Deduplication.__Main__\"}]}, {\"path\": [{\"id\": \"Utils.Utils\"}, \"FUNCTION\", {\"id\": \"Utils.Utils.Shingle\"}, \"IMPORTS\", {\"id\": \"Deduplication.Lsh\"}, \"IMPORTS\", {\"id\": \"Utils.Utils.Clean_Document\"}, \"USED_IN\", {\"id\": \"Utils.Use_Cases.Nearest_Neighbor_Search\"}, \"USES\", {\"id\": \"Deduplication.__Main__\"}]}, {\"path\": [{\"id\": \"Utils.Utils\"}, \"FUNCTION\", {\"id\": \"Utils.Utils.Shingle\"}, \"IMPORTS\", {\"id\": \"Deduplication.Lsh\"}, \"DEFINED_IN\", {\"id\": \"Deduplication.Lsh.Lsh\"}, \"INHERITS\", {\"id\": \"Deduplication.Lshforest.Lshforest\"}, \"IMPORTS\", {\"id\": \"Deduplication.__Main__\"}]}, {\"path\": [{\"id\": \"Utils.Utils\"}, \"FUNCTION\", {\"id\": \"Utils.Utils.Shingle\"}, \"IMPORTS\", {\"id\": \"Deduplication.Lsh\"}, \"DEFINED_IN\", {\"id\": \"Deduplication.Lsh.Lsh\"}, \"IMPORTS\", {\"id\": \"Deduplication.__Main__\"}]}, {\"path\": [{\"id\": \"Utils.Utils\"}, \"FUNCTION\", {\"id\": \"Utils.Utils.Shingle\"}, \"USES\", {\"id\": \"Deduplication.Lsh.Lsh.Compute_Minhash_Signatures\"}, \"USES\", {\"id\": \"Deduplication.__Main__.Model\"}, \"DEFINED_IN\", {\"id\": \"Deduplication.__Main__\"}]}, {\"path\": [{\"id\": \"Utils.Utils\"}, \"FUNCTION\", {\"id\": \"Utils.Utils.Shingle\"}, \"USES\", {\"id\": \"Deduplication.Lsh.Lsh.Compute_Minhash_Signatures\"}, \"USES\", {\"id\": \"Utils.Utils.Minhash\"}, \"USED_IN\", {\"id\": \"Utils.Use_Cases.Nearest_Neighbor_Search\"}, \"IMPORTS\", {\"id\": \"Deduplication.__Main__\"}]}, {\"path\": [{\"id\": \"Utils.Utils\"}, \"FUNCTION\", {\"id\": \"Utils.Utils.Shingle\"}, \"USES\", {\"id\": \"Deduplication.Lsh.Lsh.Compute_Minhash_Signatures\"}, \"USES\", {\"id\": \"Utils.Utils.Minhash\"}, \"USED_IN\", {\"id\": \"Utils.Use_Cases.Nearest_Neighbor_Search\"}, \"USES\", {\"id\": \"Deduplication.__Main__\"}]}, {\"path\": [{\"id\": \"Utils.Utils\"}, \"FUNCTION\", {\"id\": \"Utils.Utils.Shingle\"}, \"USES\", {\"id\": \"Deduplication.Lsh.Lsh.Compute_Minhash_Signatures\"}, \"USES\", {\"id\": \"Utils.Utils.Clean_Document\"}, \"USED_IN\", {\"id\": \"Utils.Use_Cases.Nearest_Neighbor_Search\"}, \"IMPORTS\", {\"id\": \"Deduplication.__Main__\"}]}, {\"path\": [{\"id\": \"Utils.Utils\"}, \"FUNCTION\", {\"id\": \"Utils.Utils.Shingle\"}, \"USES\", {\"id\": \"Deduplication.Lsh.Lsh.Compute_Minhash_Signatures\"}, \"USES\", {\"id\": \"Utils.Utils.Clean_Document\"}, \"USED_IN\", {\"id\": \"Utils.Use_Cases.Nearest_Neighbor_Search\"}, \"USES\", {\"id\": \"Deduplication.__Main__\"}]}, {\"path\": [{\"id\": \"Utils.Utils\"}, \"FUNCTION\", {\"id\": \"Utils.Utils.Shingle\"}, \"USES\", {\"id\": \"Deduplication.Lsh.Lsh.Compute_Minhash_Signatures\"}, \"DEFINED_IN\", {\"id\": \"Deduplication.Lsh.Lsh\"}, \"INHERITS\", {\"id\": \"Deduplication.Lshforest.Lshforest\"}, \"IMPORTS\", {\"id\": \"Deduplication.__Main__\"}]}, {\"path\": [{\"id\": \"Utils.Utils\"}, \"FUNCTION\", {\"id\": \"Utils.Utils.Shingle\"}, \"USES\", {\"id\": \"Deduplication.Lsh.Lsh.Compute_Minhash_Signatures\"}, \"DEFINED_IN\", {\"id\": \"Deduplication.Lsh.Lsh\"}, \"IMPORTS\", {\"id\": \"Deduplication.__Main__\"}]}, {\"path\": [{\"id\": \"Utils.Utils\"}, \"FUNCTION\", {\"id\": \"Utils.Utils.Shingle\"}, \"USED_IN\", {\"id\": \"Utils.Use_Cases.Nearest_Neighbor_Search\"}, \"DEFINES\", {\"id\": \"Utils.Use_Cases\"}, \"DEFINES\", {\"id\": \"Utils.Use_Cases.Collection_Deduplication\"}, \"IMPORTS\", {\"id\": \"Deduplication.__Main__\"}]}, {\"path\": [{\"id\": \"Utils.Utils\"}, \"FUNCTION\", {\"id\": \"Utils.Utils.Shingle\"}, \"USED_IN\", {\"id\": \"Utils.Use_Cases.Nearest_Neighbor_Search\"}, \"DEFINES\", {\"id\": \"Utils.Use_Cases\"}, \"DEFINES\", {\"id\": \"Utils.Use_Cases.Collection_Deduplication\"}, \"USES\", {\"id\": \"Deduplication.__Main__\"}]}, {\"path\": [{\"id\": \"Utils.Utils\"}, \"FUNCTION\", {\"id\": \"Utils.Utils.Shingle\"}, \"USED_IN\", {\"id\": \"Utils.Use_Cases.Nearest_Neighbor_Search\"}, \"IMPORTS\", {\"id\": \"Deduplication.__Main__\"}]}, {\"path\": [{\"id\": \"Utils.Utils\"}, \"FUNCTION\", {\"id\": \"Utils.Utils.Shingle\"}, \"USED_IN\", {\"id\": \"Utils.Use_Cases.Nearest_Neighbor_Search\"}, \"IMPORTS\", {\"id\": \"Deduplication.__Main__\"}, \"INSTANTIATES\", {\"id\": \"Deduplication.Dedup.Baseline\"}, \"IMPORTS\", {\"id\": \"Deduplication.__Main__\"}]}, {\"path\": [{\"id\": \"Utils.Utils\"}, \"FUNCTION\", {\"id\": \"Utils.Utils.Shingle\"}, \"USED_IN\", {\"id\": \"Utils.Use_Cases.Nearest_Neighbor_Search\"}, \"IMPORTS\", {\"id\": \"Deduplication.__Main__\"}, \"IMPORTS\", {\"id\": \"Utils.Use_Cases.Collection_Deduplication\"}, \"USES\", {\"id\": \"Deduplication.__Main__\"}]}, {\"path\": [{\"id\": \"Utils.Utils\"}, \"FUNCTION\", {\"id\": \"Utils.Utils.Shingle\"}, \"USED_IN\", {\"id\": \"Utils.Use_Cases.Nearest_Neighbor_Search\"}, \"IMPORTS\", {\"id\": \"Deduplication.__Main__\"}, \"IMPORTS\", {\"id\": \"Utils.Utils.Read_Tsv\"}, \"USES\", {\"id\": \"Deduplication.__Main__\"}]}, {\"path\": [{\"id\": \"Utils.Utils\"}, \"FUNCTION\", {\"id\": \"Utils.Utils.Shingle\"}, \"USED_IN\", {\"id\": \"Utils.Use_Cases.Nearest_Neighbor_Search\"}, \"IMPORTS\", {\"id\": \"Deduplication.__Main__\"}, \"IMPORTS\", {\"id\": \"Deduplication.Dedup.Baseline\"}, \"INSTANTIATES\", {\"id\": \"Deduplication.__Main__\"}]}, {\"path\": [{\"id\": \"Utils.Utils\"}, \"FUNCTION\", {\"id\": \"Utils.Utils.Shingle\"}, \"USED_IN\", {\"id\": \"Utils.Use_Cases.Nearest_Neighbor_Search\"}, \"IMPORTS\", {\"id\": \"Deduplication.__Main__\"}, \"USES\", {\"id\": \"Utils.Use_Cases.Collection_Deduplication\"}, \"IMPORTS\", {\"id\": \"Deduplication.__Main__\"}]}, {\"path\": [{\"id\": \"Utils.Utils\"}, \"FUNCTION\", {\"id\": \"Utils.Utils.Shingle\"}, \"USED_IN\", {\"id\": \"Utils.Use_Cases.Nearest_Neighbor_Search\"}, \"IMPORTS\", {\"id\": \"Deduplication.__Main__\"}, \"USES\", {\"id\": \"Utils.Utils.Read_Tsv\"}, \"IMPORTS\", {\"id\": \"Deduplication.__Main__\"}]}, {\"path\": [{\"id\": \"Utils.Utils\"}, \"FUNCTION\", {\"id\": \"Utils.Utils.Shingle\"}, \"USED_IN\", {\"id\": \"Utils.Use_Cases.Nearest_Neighbor_Search\"}, \"USES\", {\"id\": \"Deduplication.__Main__\"}]}, {\"path\": [{\"id\": \"Utils.Utils\"}, \"FUNCTION\", {\"id\": \"Utils.Utils.Shingle\"}, \"USED_IN\", {\"id\": \"Utils.Use_Cases.Nearest_Neighbor_Search\"}, \"USES\", {\"id\": \"Deduplication.__Main__\"}, \"INSTANTIATES\", {\"id\": \"Deduplication.Dedup.Baseline\"}, \"IMPORTS\", {\"id\": \"Deduplication.__Main__\"}]}, {\"path\": [{\"id\": \"Utils.Utils\"}, \"FUNCTION\", {\"id\": \"Utils.Utils.Shingle\"}, \"USED_IN\", {\"id\": \"Utils.Use_Cases.Nearest_Neighbor_Search\"}, \"USES\", {\"id\": \"Deduplication.__Main__\"}, \"IMPORTS\", {\"id\": \"Utils.Use_Cases.Collection_Deduplication\"}, \"USES\", {\"id\": \"Deduplication.__Main__\"}]}, {\"path\": [{\"id\": \"Utils.Utils\"}, \"FUNCTION\", {\"id\": \"Utils.Utils.Shingle\"}, \"USED_IN\", {\"id\": \"Utils.Use_Cases.Nearest_Neighbor_Search\"}, \"USES\", {\"id\": \"Deduplication.__Main__\"}, \"IMPORTS\", {\"id\": \"Utils.Utils.Read_Tsv\"}, \"USES\", {\"id\": \"Deduplication.__Main__\"}]}, {\"path\": [{\"id\": \"Utils.Utils\"}, \"FUNCTION\", {\"id\": \"Utils.Utils.Shingle\"}, \"USED_IN\", {\"id\": \"Utils.Use_Cases.Nearest_Neighbor_Search\"}, \"USES\", {\"id\": \"Deduplication.__Main__\"}, \"IMPORTS\", {\"id\": \"Deduplication.Dedup.Baseline\"}, \"INSTANTIATES\", {\"id\": \"Deduplication.__Main__\"}]}, {\"path\": [{\"id\": \"Utils.Utils\"}, \"FUNCTION\", {\"id\": \"Utils.Utils.Shingle\"}, \"USED_IN\", {\"id\": \"Utils.Use_Cases.Nearest_Neighbor_Search\"}, \"USES\", {\"id\": \"Deduplication.__Main__\"}, \"USES\", {\"id\": \"Utils.Use_Cases.Collection_Deduplication\"}, \"IMPORTS\", {\"id\": \"Deduplication.__Main__\"}]}, {\"path\": [{\"id\": \"Utils.Utils\"}, \"FUNCTION\", {\"id\": \"Utils.Utils.Shingle\"}, \"USED_IN\", {\"id\": \"Utils.Use_Cases.Nearest_Neighbor_Search\"}, \"USES\", {\"id\": \"Deduplication.__Main__\"}, \"USES\", {\"id\": \"Utils.Utils.Read_Tsv\"}, \"IMPORTS\", {\"id\": \"Deduplication.__Main__\"}]}, {\"path\": [{\"id\": \"Utils.Utils\"}, \"FUNCTION\", {\"id\": \"Utils.Utils.Shingle\"}, \"USED_IN\", {\"id\": \"Deduplication.Lshimproved.Lshimproved.Compute_Minhash_Signatures\"}, \"USES\", {\"id\": \"Deduplication.__Main__.Model\"}, \"DEFINED_IN\", {\"id\": \"Deduplication.__Main__\"}]}, {\"path\": [{\"id\": \"Utils.Utils\"}, \"FUNCTION\", {\"id\": \"Utils.Utils.Shingle\"}, \"USED_IN\", {\"id\": \"Deduplication.Lshimproved.Lshimproved.Compute_Minhash_Signatures\"}, \"DEFINED_IN\", {\"id\": \"Deduplication.Lshimproved.Lshimproved\"}, \"IMPORTS\", {\"id\": \"Deduplication.__Main__\"}]}, {\"path\": [{\"id\": \"Utils.Utils\"}, \"FUNCTION\", {\"id\": \"Utils.Utils.Shingle\"}, \"USED_IN\", {\"id\": \"Deduplication.Lshimproved.Lshimproved.Compute_Minhash_Signatures\"}, \"USED_IN\", {\"id\": \"Utils.Utils.Minhash\"}, \"USED_IN\", {\"id\": \"Utils.Use_Cases.Nearest_Neighbor_Search\"}, \"IMPORTS\", {\"id\": \"Deduplication.__Main__\"}]}, {\"path\": [{\"id\": \"Utils.Utils\"}, \"FUNCTION\", {\"id\": \"Utils.Utils.Shingle\"}, \"USED_IN\", {\"id\": \"Deduplication.Lshimproved.Lshimproved.Compute_Minhash_Signatures\"}, \"USED_IN\", {\"id\": \"Utils.Utils.Minhash\"}, \"USED_IN\", {\"id\": \"Utils.Use_Cases.Nearest_Neighbor_Search\"}, \"USES\", {\"id\": \"Deduplication.__Main__\"}]}, {\"path\": [{\"id\": \"Utils.Utils\"}, \"FUNCTION\", {\"id\": \"Utils.Utils.Shingle\"}, \"USED_IN\", {\"id\": \"Deduplication.Lshimproved.Lshimproved.Compute_Minhash_Signatures\"}, \"USED_IN\", {\"id\": \"Utils.Utils.Clean_Document\"}, \"USED_IN\", {\"id\": \"Utils.Use_Cases.Nearest_Neighbor_Search\"}, \"IMPORTS\", {\"id\": \"Deduplication.__Main__\"}]}, {\"path\": [{\"id\": \"Utils.Utils\"}, \"FUNCTION\", {\"id\": \"Utils.Utils.Shingle\"}, \"USED_IN\", {\"id\": \"Deduplication.Lshimproved.Lshimproved.Compute_Minhash_Signatures\"}, \"USED_IN\", {\"id\": \"Utils.Utils.Clean_Document\"}, \"USED_IN\", {\"id\": \"Utils.Use_Cases.Nearest_Neighbor_Search\"}, \"USES\", {\"id\": \"Deduplication.__Main__\"}]}, {\"path\": [{\"id\": \"Utils.Utils\"}, \"FUNCTION\", {\"id\": \"Utils.Utils.Clean_Document\"}, \"IMPORTS\", {\"id\": \"Deduplication.Lsh\"}, \"IMPORTS\", {\"id\": \"Utils.Utils.Minhash\"}, \"USED_IN\", {\"id\": \"Utils.Use_Cases.Nearest_Neighbor_Search\"}, \"IMPORTS\", {\"id\": \"Deduplication.__Main__\"}]}, {\"path\": [{\"id\": \"Utils.Utils\"}, \"FUNCTION\", {\"id\": \"Utils.Utils.Clean_Document\"}, \"IMPORTS\", {\"id\": \"Deduplication.Lsh\"}, \"IMPORTS\", {\"id\": \"Utils.Utils.Minhash\"}, \"USED_IN\", {\"id\": \"Utils.Use_Cases.Nearest_Neighbor_Search\"}, \"USES\", {\"id\": \"Deduplication.__Main__\"}]}, {\"path\": [{\"id\": \"Utils.Utils\"}, \"FUNCTION\", {\"id\": \"Utils.Utils.Clean_Document\"}, \"IMPORTS\", {\"id\": \"Deduplication.Lsh\"}, \"IMPORTS\", {\"id\": \"Utils.Utils.Shingle\"}, \"USED_IN\", {\"id\": \"Utils.Use_Cases.Nearest_Neighbor_Search\"}, \"IMPORTS\", {\"id\": \"Deduplication.__Main__\"}]}, {\"path\": [{\"id\": \"Utils.Utils\"}, \"FUNCTION\", {\"id\": \"Utils.Utils.Clean_Document\"}, \"IMPORTS\", {\"id\": \"Deduplication.Lsh\"}, \"IMPORTS\", {\"id\": \"Utils.Utils.Shingle\"}, \"USED_IN\", {\"id\": \"Utils.Use_Cases.Nearest_Neighbor_Search\"}, \"USES\", {\"id\": \"Deduplication.__Main__\"}]}, {\"path\": [{\"id\": \"Utils.Utils\"}, \"FUNCTION\", {\"id\": \"Utils.Utils.Clean_Document\"}, \"IMPORTS\", {\"id\": \"Deduplication.Lsh\"}, \"DEFINED_IN\", {\"id\": \"Deduplication.Lsh.Lsh\"}, \"INHERITS\", {\"id\": \"Deduplication.Lshforest.Lshforest\"}, \"IMPORTS\", {\"id\": \"Deduplication.__Main__\"}]}, {\"path\": [{\"id\": \"Utils.Utils\"}, \"FUNCTION\", {\"id\": \"Utils.Utils.Clean_Document\"}, \"IMPORTS\", {\"id\": \"Deduplication.Lsh\"}, \"DEFINED_IN\", {\"id\": \"Deduplication.Lsh.Lsh\"}, \"IMPORTS\", {\"id\": \"Deduplication.__Main__\"}]}, {\"path\": [{\"id\": \"Utils.Utils\"}, \"FUNCTION\", {\"id\": \"Utils.Utils.Clean_Document\"}, \"USES\", {\"id\": \"Deduplication.Lsh.Lsh.Compute_Minhash_Signatures\"}, \"USES\", {\"id\": \"Deduplication.__Main__.Model\"}, \"DEFINED_IN\", {\"id\": \"Deduplication.__Main__\"}]}, {\"path\": [{\"id\": \"Utils.Utils\"}, \"FUNCTION\", {\"id\": \"Utils.Utils.Clean_Document\"}, \"USES\", {\"id\": \"Deduplication.Lsh.Lsh.Compute_Minhash_Signatures\"}, \"USES\", {\"id\": \"Utils.Utils.Minhash\"}, \"USED_IN\", {\"id\": \"Utils.Use_Cases.Nearest_Neighbor_Search\"}, \"IMPORTS\", {\"id\": \"Deduplication.__Main__\"}]}, {\"path\": [{\"id\": \"Utils.Utils\"}, \"FUNCTION\", {\"id\": \"Utils.Utils.Clean_Document\"}, \"USES\", {\"id\": \"Deduplication.Lsh.Lsh.Compute_Minhash_Signatures\"}, \"USES\", {\"id\": \"Utils.Utils.Minhash\"}, \"USED_IN\", {\"id\": \"Utils.Use_Cases.Nearest_Neighbor_Search\"}, \"USES\", {\"id\": \"Deduplication.__Main__\"}]}, {\"path\": [{\"id\": \"Utils.Utils\"}, \"FUNCTION\", {\"id\": \"Utils.Utils.Clean_Document\"}, \"USES\", {\"id\": \"Deduplication.Lsh.Lsh.Compute_Minhash_Signatures\"}, \"USES\", {\"id\": \"Utils.Utils.Shingle\"}, \"USED_IN\", {\"id\": \"Utils.Use_Cases.Nearest_Neighbor_Search\"}, \"IMPORTS\", {\"id\": \"Deduplication.__Main__\"}]}, {\"path\": [{\"id\": \"Utils.Utils\"}, \"FUNCTION\", {\"id\": \"Utils.Utils.Clean_Document\"}, \"USES\", {\"id\": \"Deduplication.Lsh.Lsh.Compute_Minhash_Signatures\"}, \"USES\", {\"id\": \"Utils.Utils.Shingle\"}, \"USED_IN\", {\"id\": \"Utils.Use_Cases.Nearest_Neighbor_Search\"}, \"USES\", {\"id\": \"Deduplication.__Main__\"}]}, {\"path\": [{\"id\": \"Utils.Utils\"}, \"FUNCTION\", {\"id\": \"Utils.Utils.Clean_Document\"}, \"USES\", {\"id\": \"Deduplication.Lsh.Lsh.Compute_Minhash_Signatures\"}, \"DEFINED_IN\", {\"id\": \"Deduplication.Lsh.Lsh\"}, \"INHERITS\", {\"id\": \"Deduplication.Lshforest.Lshforest\"}, \"IMPORTS\", {\"id\": \"Deduplication.__Main__\"}]}, {\"path\": [{\"id\": \"Utils.Utils\"}, \"FUNCTION\", {\"id\": \"Utils.Utils.Clean_Document\"}, \"USES\", {\"id\": \"Deduplication.Lsh.Lsh.Compute_Minhash_Signatures\"}, \"DEFINED_IN\", {\"id\": \"Deduplication.Lsh.Lsh\"}, \"IMPORTS\", {\"id\": \"Deduplication.__Main__\"}]}, {\"path\": [{\"id\": \"Utils.Utils\"}, \"FUNCTION\", {\"id\": \"Utils.Utils.Clean_Document\"}, \"USED_IN\", {\"id\": \"Utils.Use_Cases.Nearest_Neighbor_Search\"}, \"DEFINES\", {\"id\": \"Utils.Use_Cases\"}, \"DEFINES\", {\"id\": \"Utils.Use_Cases.Collection_Deduplication\"}, \"IMPORTS\", {\"id\": \"Deduplication.__Main__\"}]}, {\"path\": [{\"id\": \"Utils.Utils\"}, \"FUNCTION\", {\"id\": \"Utils.Utils.Clean_Document\"}, \"USED_IN\", {\"id\": \"Utils.Use_Cases.Nearest_Neighbor_Search\"}, \"DEFINES\", {\"id\": \"Utils.Use_Cases\"}, \"DEFINES\", {\"id\": \"Utils.Use_Cases.Collection_Deduplication\"}, \"USES\", {\"id\": \"Deduplication.__Main__\"}]}, {\"path\": [{\"id\": \"Utils.Utils\"}, \"FUNCTION\", {\"id\": \"Utils.Utils.Clean_Document\"}, \"USED_IN\", {\"id\": \"Utils.Use_Cases.Nearest_Neighbor_Search\"}, \"IMPORTS\", {\"id\": \"Deduplication.__Main__\"}]}, {\"path\": [{\"id\": \"Utils.Utils\"}, \"FUNCTION\", {\"id\": \"Utils.Utils.Clean_Document\"}, \"USED_IN\", {\"id\": \"Utils.Use_Cases.Nearest_Neighbor_Search\"}, \"IMPORTS\", {\"id\": \"Deduplication.__Main__\"}, \"INSTANTIATES\", {\"id\": \"Deduplication.Dedup.Baseline\"}, \"IMPORTS\", {\"id\": \"Deduplication.__Main__\"}]}, {\"path\": [{\"id\": \"Utils.Utils\"}, \"FUNCTION\", {\"id\": \"Utils.Utils.Clean_Document\"}, \"USED_IN\", {\"id\": \"Utils.Use_Cases.Nearest_Neighbor_Search\"}, \"IMPORTS\", {\"id\": \"Deduplication.__Main__\"}, \"IMPORTS\", {\"id\": \"Utils.Use_Cases.Collection_Deduplication\"}, \"USES\", {\"id\": \"Deduplication.__Main__\"}]}, {\"path\": [{\"id\": \"Utils.Utils\"}, \"FUNCTION\", {\"id\": \"Utils.Utils.Clean_Document\"}, \"USED_IN\", {\"id\": \"Utils.Use_Cases.Nearest_Neighbor_Search\"}, \"IMPORTS\", {\"id\": \"Deduplication.__Main__\"}, \"IMPORTS\", {\"id\": \"Utils.Utils.Read_Tsv\"}, \"USES\", {\"id\": \"Deduplication.__Main__\"}]}, {\"path\": [{\"id\": \"Utils.Utils\"}, \"FUNCTION\", {\"id\": \"Utils.Utils.Clean_Document\"}, \"USED_IN\", {\"id\": \"Utils.Use_Cases.Nearest_Neighbor_Search\"}, \"IMPORTS\", {\"id\": \"Deduplication.__Main__\"}, \"IMPORTS\", {\"id\": \"Deduplication.Dedup.Baseline\"}, \"INSTANTIATES\", {\"id\": \"Deduplication.__Main__\"}]}, {\"path\": [{\"id\": \"Utils.Utils\"}, \"FUNCTION\", {\"id\": \"Utils.Utils.Clean_Document\"}, \"USED_IN\", {\"id\": \"Utils.Use_Cases.Nearest_Neighbor_Search\"}, \"IMPORTS\", {\"id\": \"Deduplication.__Main__\"}, \"USES\", {\"id\": \"Utils.Use_Cases.Collection_Deduplication\"}, \"IMPORTS\", {\"id\": \"Deduplication.__Main__\"}]}, {\"path\": [{\"id\": \"Utils.Utils\"}, \"FUNCTION\", {\"id\": \"Utils.Utils.Clean_Document\"}, \"USED_IN\", {\"id\": \"Utils.Use_Cases.Nearest_Neighbor_Search\"}, \"IMPORTS\", {\"id\": \"Deduplication.__Main__\"}, \"USES\", {\"id\": \"Utils.Utils.Read_Tsv\"}, \"IMPORTS\", {\"id\": \"Deduplication.__Main__\"}]}, {\"path\": [{\"id\": \"Utils.Utils\"}, \"FUNCTION\", {\"id\": \"Utils.Utils.Clean_Document\"}, \"USED_IN\", {\"id\": \"Utils.Use_Cases.Nearest_Neighbor_Search\"}, \"USES\", {\"id\": \"Deduplication.__Main__\"}]}, {\"path\": [{\"id\": \"Utils.Utils\"}, \"FUNCTION\", {\"id\": \"Utils.Utils.Clean_Document\"}, \"USED_IN\", {\"id\": \"Utils.Use_Cases.Nearest_Neighbor_Search\"}, \"USES\", {\"id\": \"Deduplication.__Main__\"}, \"INSTANTIATES\", {\"id\": \"Deduplication.Dedup.Baseline\"}, \"IMPORTS\", {\"id\": \"Deduplication.__Main__\"}]}, {\"path\": [{\"id\": \"Utils.Utils\"}, \"FUNCTION\", {\"id\": \"Utils.Utils.Clean_Document\"}, \"USED_IN\", {\"id\": \"Utils.Use_Cases.Nearest_Neighbor_Search\"}, \"USES\", {\"id\": \"Deduplication.__Main__\"}, \"IMPORTS\", {\"id\": \"Utils.Use_Cases.Collection_Deduplication\"}, \"USES\", {\"id\": \"Deduplication.__Main__\"}]}, {\"path\": [{\"id\": \"Utils.Utils\"}, \"FUNCTION\", {\"id\": \"Utils.Utils.Clean_Document\"}, \"USED_IN\", {\"id\": \"Utils.Use_Cases.Nearest_Neighbor_Search\"}, \"USES\", {\"id\": \"Deduplication.__Main__\"}, \"IMPORTS\", {\"id\": \"Utils.Utils.Read_Tsv\"}, \"USES\", {\"id\": \"Deduplication.__Main__\"}]}, {\"path\": [{\"id\": \"Utils.Utils\"}, \"FUNCTION\", {\"id\": \"Utils.Utils.Clean_Document\"}, \"USED_IN\", {\"id\": \"Utils.Use_Cases.Nearest_Neighbor_Search\"}, \"USES\", {\"id\": \"Deduplication.__Main__\"}, \"IMPORTS\", {\"id\": \"Deduplication.Dedup.Baseline\"}, \"INSTANTIATES\", {\"id\": \"Deduplication.__Main__\"}]}, {\"path\": [{\"id\": \"Utils.Utils\"}, \"FUNCTION\", {\"id\": \"Utils.Utils.Clean_Document\"}, \"USED_IN\", {\"id\": \"Utils.Use_Cases.Nearest_Neighbor_Search\"}, \"USES\", {\"id\": \"Deduplication.__Main__\"}, \"USES\", {\"id\": \"Utils.Use_Cases.Collection_Deduplication\"}, \"IMPORTS\", {\"id\": \"Deduplication.__Main__\"}]}, {\"path\": [{\"id\": \"Utils.Utils\"}, \"FUNCTION\", {\"id\": \"Utils.Utils.Clean_Document\"}, \"USED_IN\", {\"id\": \"Utils.Use_Cases.Nearest_Neighbor_Search\"}, \"USES\", {\"id\": \"Deduplication.__Main__\"}, \"USES\", {\"id\": \"Utils.Utils.Read_Tsv\"}, \"IMPORTS\", {\"id\": \"Deduplication.__Main__\"}]}, {\"path\": [{\"id\": \"Utils.Utils\"}, \"FUNCTION\", {\"id\": \"Utils.Utils.Clean_Document\"}, \"USED_IN\", {\"id\": \"Deduplication.Lshimproved.Lshimproved.Compute_Minhash_Signatures\"}, \"USES\", {\"id\": \"Deduplication.__Main__.Model\"}, \"DEFINED_IN\", {\"id\": \"Deduplication.__Main__\"}]}, {\"path\": [{\"id\": \"Utils.Utils\"}, \"FUNCTION\", {\"id\": \"Utils.Utils.Clean_Document\"}, \"USED_IN\", {\"id\": \"Deduplication.Lshimproved.Lshimproved.Compute_Minhash_Signatures\"}, \"DEFINED_IN\", {\"id\": \"Deduplication.Lshimproved.Lshimproved\"}, \"IMPORTS\", {\"id\": \"Deduplication.__Main__\"}]}, {\"path\": [{\"id\": \"Utils.Utils\"}, \"FUNCTION\", {\"id\": \"Utils.Utils.Clean_Document\"}, \"USED_IN\", {\"id\": \"Deduplication.Lshimproved.Lshimproved.Compute_Minhash_Signatures\"}, \"USED_IN\", {\"id\": \"Utils.Utils.Minhash\"}, \"USED_IN\", {\"id\": \"Utils.Use_Cases.Nearest_Neighbor_Search\"}, \"IMPORTS\", {\"id\": \"Deduplication.__Main__\"}]}, {\"path\": [{\"id\": \"Utils.Utils\"}, \"FUNCTION\", {\"id\": \"Utils.Utils.Clean_Document\"}, \"USED_IN\", {\"id\": \"Deduplication.Lshimproved.Lshimproved.Compute_Minhash_Signatures\"}, \"USED_IN\", {\"id\": \"Utils.Utils.Minhash\"}, \"USED_IN\", {\"id\": \"Utils.Use_Cases.Nearest_Neighbor_Search\"}, \"USES\", {\"id\": \"Deduplication.__Main__\"}]}, {\"path\": [{\"id\": \"Utils.Utils\"}, \"FUNCTION\", {\"id\": \"Utils.Utils.Clean_Document\"}, \"USED_IN\", {\"id\": \"Deduplication.Lshimproved.Lshimproved.Compute_Minhash_Signatures\"}, \"USED_IN\", {\"id\": \"Utils.Utils.Shingle\"}, \"USED_IN\", {\"id\": \"Utils.Use_Cases.Nearest_Neighbor_Search\"}, \"IMPORTS\", {\"id\": \"Deduplication.__Main__\"}]}, {\"path\": [{\"id\": \"Utils.Utils\"}, \"FUNCTION\", {\"id\": \"Utils.Utils.Clean_Document\"}, \"USED_IN\", {\"id\": \"Deduplication.Lshimproved.Lshimproved.Compute_Minhash_Signatures\"}, \"USED_IN\", {\"id\": \"Utils.Utils.Shingle\"}, \"USED_IN\", {\"id\": \"Utils.Use_Cases.Nearest_Neighbor_Search\"}, \"USES\", {\"id\": \"Deduplication.__Main__\"}]}, {\"path\": [{\"id\": \"Utils.Utils\"}, \"IMPORTED_IN\", {\"id\": \"Deduplication.Lshimproved\"}, \"DEFINED_IN\", {\"id\": \"Deduplication.Lshimproved.Lshimproved\"}, \"IMPORTS\", {\"id\": \"Deduplication.__Main__\"}]}, {\"path\": [{\"id\": \"Utils.Utils\"}, \"IMPORTED_IN\", {\"id\": \"Deduplication.Lshimproved\"}, \"DEFINED_IN\", {\"id\": \"Deduplication.Lshimproved.Lshimproved\"}, \"IMPORTS\", {\"id\": \"Deduplication.__Main__\"}, \"INSTANTIATES\", {\"id\": \"Deduplication.Dedup.Baseline\"}, \"IMPORTS\", {\"id\": \"Deduplication.__Main__\"}]}, {\"path\": [{\"id\": \"Utils.Utils\"}, \"IMPORTED_IN\", {\"id\": \"Deduplication.Lshimproved\"}, \"DEFINED_IN\", {\"id\": \"Deduplication.Lshimproved.Lshimproved\"}, \"IMPORTS\", {\"id\": \"Deduplication.__Main__\"}, \"IMPORTS\", {\"id\": \"Utils.Use_Cases.Nearest_Neighbor_Search\"}, \"USES\", {\"id\": \"Deduplication.__Main__\"}]}, {\"path\": [{\"id\": \"Utils.Utils\"}, \"IMPORTED_IN\", {\"id\": \"Deduplication.Lshimproved\"}, \"DEFINED_IN\", {\"id\": \"Deduplication.Lshimproved.Lshimproved\"}, \"IMPORTS\", {\"id\": \"Deduplication.__Main__\"}, \"IMPORTS\", {\"id\": \"Utils.Use_Cases.Collection_Deduplication\"}, \"USES\", {\"id\": \"Deduplication.__Main__\"}]}, {\"path\": [{\"id\": \"Utils.Utils\"}, \"IMPORTED_IN\", {\"id\": \"Deduplication.Lshimproved\"}, \"DEFINED_IN\", {\"id\": \"Deduplication.Lshimproved.Lshimproved\"}, \"IMPORTS\", {\"id\": \"Deduplication.__Main__\"}, \"IMPORTS\", {\"id\": \"Utils.Utils.Read_Tsv\"}, \"USES\", {\"id\": \"Deduplication.__Main__\"}]}, {\"path\": [{\"id\": \"Utils.Utils\"}, \"IMPORTED_IN\", {\"id\": \"Deduplication.Lshimproved\"}, \"DEFINED_IN\", {\"id\": \"Deduplication.Lshimproved.Lshimproved\"}, \"IMPORTS\", {\"id\": \"Deduplication.__Main__\"}, \"IMPORTS\", {\"id\": \"Deduplication.Dedup.Baseline\"}, \"INSTANTIATES\", {\"id\": \"Deduplication.__Main__\"}]}, {\"path\": [{\"id\": \"Utils.Utils\"}, \"IMPORTED_IN\", {\"id\": \"Deduplication.Lshimproved\"}, \"DEFINED_IN\", {\"id\": \"Deduplication.Lshimproved.Lshimproved\"}, \"IMPORTS\", {\"id\": \"Deduplication.__Main__\"}, \"USES\", {\"id\": \"Utils.Use_Cases.Nearest_Neighbor_Search\"}, \"IMPORTS\", {\"id\": \"Deduplication.__Main__\"}]}, {\"path\": [{\"id\": \"Utils.Utils\"}, \"IMPORTED_IN\", {\"id\": \"Deduplication.Lshimproved\"}, \"DEFINED_IN\", {\"id\": \"Deduplication.Lshimproved.Lshimproved\"}, \"IMPORTS\", {\"id\": \"Deduplication.__Main__\"}, \"USES\", {\"id\": \"Utils.Use_Cases.Collection_Deduplication\"}, \"IMPORTS\", {\"id\": \"Deduplication.__Main__\"}]}, {\"path\": [{\"id\": \"Utils.Utils\"}, \"IMPORTED_IN\", {\"id\": \"Deduplication.Lshimproved\"}, \"DEFINED_IN\", {\"id\": \"Deduplication.Lshimproved.Lshimproved\"}, \"IMPORTS\", {\"id\": \"Deduplication.__Main__\"}, \"USES\", {\"id\": \"Utils.Utils.Read_Tsv\"}, \"IMPORTS\", {\"id\": \"Deduplication.__Main__\"}]}, {\"path\": [{\"id\": \"Utils.Utils\"}, \"IMPORTED_IN\", {\"id\": \"Deduplication.Lshimproved\"}, \"DEFINED_IN\", {\"id\": \"Deduplication.Lshimproved.Lshimproved\"}, \"DEFINED_IN\", {\"id\": \"Deduplication.Lshimproved.Lshimproved.Banding\"}, \"USES\", {\"id\": \"Deduplication.__Main__.Model\"}, \"DEFINED_IN\", {\"id\": \"Deduplication.__Main__\"}]}, {\"path\": [{\"id\": \"Utils.Utils\"}, \"IMPORTED_IN\", {\"id\": \"Deduplication.Lshimproved\"}, \"DEFINED_IN\", {\"id\": \"Deduplication.Lshimproved.Lshimproved\"}, \"DEFINED_IN\", {\"id\": \"Deduplication.Lshimproved.Lshimproved.Compute_Minhash_Signatures\"}, \"USES\", {\"id\": \"Deduplication.__Main__.Model\"}, \"DEFINED_IN\", {\"id\": \"Deduplication.__Main__\"}]}, {\"path\": [{\"id\": \"Utils.Utils\"}, \"IMPORTED_IN\", {\"id\": \"Deduplication.Lshimproved\"}, \"DEFINED_IN\", {\"id\": \"Deduplication.Lshimproved.Lshimproved\"}, \"DEFINED_IN\", {\"id\": \"Deduplication.Lshimproved.Lshimproved.__Init__\"}, \"USES\", {\"id\": \"Deduplication.__Main__.Model\"}, \"DEFINED_IN\", {\"id\": \"Deduplication.__Main__\"}]}]}', name='retrieve_cypher_relationships', id='904a32f0-4106-406b-80fb-34261fa9e9c6', tool_call_id='call_xumAZ62KiNB87z21VqqKcaU5'),\n",
       "  AIMessage(content='', additional_kwargs={'tool_calls': [{'id': 'call_vJcjxVTFQQ7L2ygR3vajV1CM', 'function': {'arguments': '{\"results\": {\"answer\": \"The `Utils.Utils` module is related to the `Deduplication.__Main__` module in multiple ways:\\\\n\\\\n- The `Utils.Utils` module, specifically `Utils.Utils.Unionfind`, is used in `Utils.Use_Cases.Collection_Deduplication` and either imports or uses `Deduplication.__Main__`.\\\\n- The `Utils.Utils` module, through the `Read_Tsv` function, imports and/or uses the `Deduplication.__Main__` module.\\\\n- The `Utils.Utils` module, via the `Minhash` function, uses `Deduplication.Lsh.Lsh.Compute_Minhash_Signatures` and interacts with `Deduplication.__Main__`.\\\\n- The `Utils.Utils` module, specifically the `Shingle` function, is used in `Utils.Use_Cases.Nearest_Neighbor_Search` and interacts with `Deduplication.__Main__`.\\\\n- The `Utils.Utils` module is imported in the `Deduplication.Lshimproved` module, which in turn imports `Deduplication.__Main__`.\", \"steps\": [\"generate_cypher\", \"execute_cypher\", \"generate_final_answer\"], \"cypher_statement\": \"MATCH path = (m1:Module {id: \\'Utils.Utils\\'})-[*..5]-(m2:Module {id: \\'Deduplication.__Main__\\'}) WHERE NONE(n IN nodes(path) WHERE n:Package) RETURN path\", \"cypher_results\": [{\"path\": [{\"id\": \"Utils.Utils\"}, \"CLASS\", {\"id\": \"Utils.Utils.Unionfind\"}, \"USED_IN\", {\"id\": \"Utils.Use_Cases.Collection_Deduplication\"}, \"DEFINES\", {\"id\": \"Utils.Use_Cases\"}, \"DEFINES\", {\"id\": \"Utils.Use_Cases.Nearest_Neighbor_Search\"}, \"IMPORTS\", {\"id\": \"Deduplication.__Main__\"}]}, {\"path\": [{\"id\": \"Utils.Utils\"}, \"CLASS\", {\"id\": \"Utils.Utils.Unionfind\"}, \"USED_IN\", {\"id\": \"Utils.Use_Cases.Collection_Deduplication\"}, \"DEFINES\", {\"id\": \"Utils.Use_Cases\"}, \"DEFINES\", {\"id\": \"Utils.Use_Cases.Nearest_Neighbor_Search\"}, \"USES\", {\"id\": \"Deduplication.__Main__\"}]}, {\"path\": [{\"id\": \"Utils.Utils\"}, \"CLASS\", {\"id\": \"Utils.Utils.Unionfind\"}, \"USED_IN\", {\"id\": \"Utils.Use_Cases.Collection_Deduplication\"}, \"IMPORTS\", {\"id\": \"Deduplication.__Main__\"}]}, {\"path\": [{\"id\": \"Utils.Utils\"}, \"CLASS\", {\"id\": \"Utils.Utils.Unionfind\"}, \"USED_IN\", {\"id\": \"Utils.Use_Cases.Collection_Deduplication\"}, \"IMPORTS\", {\"id\": \"Deduplication.__Main__\"}, \"INSTANTIATES\", {\"id\": \"Deduplication.Dedup.Baseline\"}, \"IMPORTS\", {\"id\": \"Deduplication.__Main__\"}]}, {\"path\": [{\"id\": \"Utils.Utils\"}, \"CLASS\", {\"id\": \"Utils.Utils.Unionfind\"}, \"USED_IN\", {\"id\": \"Utils.Use_Cases.Collection_Deduplication\"}, \"IMPORTS\", {\"id\": \"Deduplication.__Main__\"}, \"IMPORTS\", {\"id\": \"Utils.Use_Cases.Nearest_Neighbor_Search\"}, \"USES\", {\"id\": \"Deduplication.__Main__\"}]}, {\"path\": [{\"id\": \"Utils.Utils\"}, \"CLASS\", {\"id\": \"Utils.Utils.Unionfind\"}, \"USED_IN\", {\"id\": \"Utils.Use_Cases.Collection_Deduplication\"}, \"IMPORTS\", {\"id\": \"Deduplication.__Main__\"}, \"IMPORTS\", {\"id\": \"Utils.Utils.Read_Tsv\"}, \"USES\", {\"id\": \"Deduplication.__Main__\"}]}, {\"path\": [{\"id\": \"Utils.Utils\"}, \"CLASS\", {\"id\": \"Utils.Utils.Unionfind\"}, \"USED_IN\", {\"id\": \"Utils.Use_Cases.Collection_Deduplication\"}, \"IMPORTS\", {\"id\": \"Deduplication.__Main__\"}, \"IMPORTS\", {\"id\": \"Deduplication.Dedup.Baseline\"}, \"INSTANTIATES\", {\"id\": \"Deduplication.__Main__\"}]}, {\"path\": [{\"id\": \"Utils.Utils\"}, \"CLASS\", {\"id\": \"Utils.Utils.Unionfind\"}, \"USED_IN\", {\"id\": \"Utils.Use_Cases.Collection_Deduplication\"}, \"IMPORTS\", {\"id\": \"Deduplication.__Main__\"}, \"USES\", {\"id\": \"Utils.Use_Cases.Nearest_Neighbor_Search\"}, \"IMPORTS\", {\"id\": \"Deduplication.__Main__\"}]}, {\"path\": [{\"id\": \"Utils.Utils\"}, \"CLASS\", {\"id\": \"Utils.Utils.Unionfind\"}, \"USED_IN\", {\"id\": \"Utils.Use_Cases.Collection_Deduplication\"}, \"IMPORTS\", {\"id\": \"Deduplication.__Main__\"}, \"USES\", {\"id\": \"Utils.Utils.Read_Tsv\"}, \"IMPORTS\", {\"id\": \"Deduplication.__Main__\"}]}, {\"path\": [{\"id\": \"Utils.Utils\"}, \"CLASS\", {\"id\": \"Utils.Utils.Unionfind\"}, \"USED_IN\", {\"id\": \"Utils.Use_Cases.Collection_Deduplication\"}, \"USES\", {\"id\": \"Deduplication.__Main__\"}]}, {\"path\": [{\"id\": \"Utils.Utils\"}, \"CLASS\", {\"id\": \"Utils.Utils.Unionfind\"}, \"USED_IN\", {\"id\": \"Utils.Use_Cases.Collection_Deduplication\"}, \"USES\", {\"id\": \"Deduplication.__Main__\"}, \"INSTANTIATES\", {\"id\": \"Deduplication.Dedup.Baseline\"}, \"IMPORTS\", {\"id\": \"Deduplication.__Main__\"}]}, {\"path\": [{\"id\": \"Utils.Utils\"}, \"CLASS\", {\"id\": \"Utils.Utils.Unionfind\"}, \"USED_IN\", {\"id\": \"Utils.Use_Cases.Collection_Deduplication\"}, \"USES\", {\"id\": \"Deduplication.__Main__\"}, \"IMPORTS\", {\"id\": \"Utils.Use_Cases.Nearest_Neighbor_Search\"}, \"USES\", {\"id\": \"Deduplication.__Main__\"}]}, {\"path\": [{\"id\": \"Utils.Utils\"}, \"CLASS\", {\"id\": \"Utils.Utils.Unionfind\"}, \"USED_IN\", {\"id\": \"Utils.Use_Cases.Collection_Deduplication\"}, \"USES\", {\"id\": \"Deduplication.__Main__\"}, \"IMPORTS\", {\"id\": \"Utils.Utils.Read_Tsv\"}, \"USES\", {\"id\": \"Deduplication.__Main__\"}]}, {\"path\": [{\"id\": \"Utils.Utils\"}, \"FUNCTION\", {\"id\": \"Utils.Utils.Read_Tsv\"}, \"IMPORTS\", {\"id\": \"Deduplication.__Main__\"}]}, {\"path\": [{\"id\": \"Utils.Utils\"}, \"FUNCTION\", {\"id\": \"Utils.Utils.Read_Tsv\"}, \"IMPORTS\", {\"id\": \"Deduplication.__Main__\"}, \"INSTANTIATES\", {\"id\": \"Deduplication.Dedup.Baseline\"}, \"IMPORTS\", {\"id\": \"Deduplication.__Main__\"}]}, {\"path\": [{\"id\": \"Utils.Utils\"}, \"FUNCTION\", {\"id\": \"Utils.Utils.Read_Tsv\"}, \"IMPORTS\", {\"id\": \"Deduplication.__Main__\"}, \"IMPORTS\", {\"id\": \"Utils.Use_Cases.Collection_Deduplication\"}, \"USES\", {\"id\": \"Deduplication.__Main__\"}]}, {\"path\": [{\"id\": \"Utils.Utils\"}, \"FUNCTION\", {\"id\": \"Utils.Utils.Read_Tsv\"}, \"IMPORTS\", {\"id\": \"Deduplication.__Main__\"}, \"IMPORTS\", {\"id\": \"Deduplication.Lshforest.Lshforest\"}, \"INHERITS\", {\"id\": \"Deduplication.Lsh.Lsh\"}, \"IMPORTS\", {\"id\": \"Deduplication.__Main__\"}]}, {\"path\": [{\"id\": \"Utils.Utils\"}, \"FUNCTION\", {\"id\": \"Utils.Utils.Read_Tsv\"}, \"IMPORTS\", {\"id\": \"Deduplication.__Main__\"}, \"USES\", {\"id\": \"Deduplication.Dedup.Baseline.Collection_Deduplication\"}, \"DEFINED_IN\", {\"id\": \"Deduplication.Dedup.Baseline\"}, \"IMPORTS\", {\"id\": \"Deduplication.__Main__\"}]}, {\"path\": [{\"id\": \"Utils.Utils\"}, \"FUNCTION\", {\"id\": \"Utils.Utils.Read_Tsv\"}, \"USES\", {\"id\": \"Deduplication.__Main__\"}]}, {\"path\": [{\"id\": \"Utils.Utils\"}, \"FUNCTION\", {\"id\": \"Utils.Utils.Read_Tsv\"}, \"USES\", {\"id\": \"Deduplication.__Main__\"}, \"INSTANTIATES\", {\"id\": \"Deduplication.Dedup.Baseline\"}, \"DEFINED_IN\", {\"id\": \"Deduplication.Dedup.Baseline.Collection_Deduplication\"}, \"USES\", {\"id\": \"Deduplication.__Main__\"}]}, {\"path\": [{\"id\": \"Utils.Utils\"}, \"FUNCTION\", {\"id\": \"Utils.Utils.Read_Tsv\"}, \"USES\", {\"id\": \"Deduplication.__Main__\"}, \"IMPORTS\", {\"id\": \"Utils.Utils.Read_Tsv\"}, \"USES\", {\"id\": \"Deduplication.__Main__\"}]}, {\"path\": [{\"id\": \"Utils.Utils\"}, \"FUNCTION\", {\"id\": \"Utils.Utils.Majority_Vote\"}, \"USES\", {\"id\": \"Deduplication.Lshforest.Lshforest.Banding\"}, \"DEFINES\", {\"id\": \"Deduplication.Lshforest.Lshforest\"}, \"IMPORTS\", {\"id\": \"Deduplication.__Main__\"}]}, {\"path\": [{\"id\": \"Utils.Utils\"}, \"FUNCTION\", {\"id\": \"Utils.Utils.Majority_Vote\"}, \"USES\", {\"id\": \"Deduplication.Lshforest.Lshforest.Banding\"}, \"USES\", {\"id\": \"Deduplication.__Main__.Model\"}, \"DEFINED_IN\", {\"id\": \"Deduplication.__Main__\"}]}, {\"path\": [{\"id\": \"Utils.Utils\"}, \"FUNCTION\", {\"id\": \"Utils.Utils.Split_Dict\"}, \"USES\", {\"id\": \"Deduplication.Lshforest.Lshforest.Banding\"}, \"DEFINED_IN\", {\"id\": \"Deduplication.Lshforest.Lshforest\"}, \"IMPORTS\", {\"id\": \"Deduplication.__Main__\"}]}, {\"path\": [{\"id\": \"Utils.Utils\"}, \"FUNCTION\", {\"id\": \"Utils.Utils.Split_Dict\"}, \"USES\", {\"id\": \"Deduplication.Lshforest.Lshforest.Banding\"}, \"USES\", {\"id\": \"Deduplication.__Main__.Model\"}, \"DEFINED_IN\", {\"id\": \"Deduplication.__Main__\"}]}, {\"path\": [{\"id\": \"Utils.Utils\"}, \"FUNCTION\", {\"id\": \"Utils.Utils.Minhash\"}, \"IMPORTS\", {\"id\": \"Deduplication.Lsh\"}, \"IMPORTS\", {\"id\": \"Utils.Utils.Shingle\"}, \"USED_IN\", {\"id\": \"Utils.Use_Cases.Nearest_Neighbor_Search\"}, \"IMPORTS\", {\"id\": \"Deduplication.__Main__\"}]}, {\"path\": [{\"id\": \"Utils.Utils\"}, \"FUNCTION\", {\"id\": \"Utils.Utils.Minhash\"}, \"IMPORTS\", {\"id\": \"Deduplication.Lsh\"}, \"IMPORTS\", {\"id\": \"Utils.Utils.Shingle\"}, \"USED_IN\", {\"id\": \"Utils.Use_Cases.Nearest_Neighbor_Search\"}, \"USES\", {\"id\": \"Deduplication.__Main__\"}]}, {\"path\": [{\"id\": \"Utils.Utils\"}, \"FUNCTION\", {\"id\": \"Utils.Utils.Minhash\"}, \"USES\", {\"id\": \"Deduplication.Lsh.Lsh.Compute_Minhash_Signatures\"}, \"USES\", {\"id\": \"Deduplication.__Main__.Model\"}, \"DEFINED_IN\", {\"id\": \"Deduplication.__Main__\"}]}, {\"path\": [{\"id\": \"Utils.Utils\"}, \"FUNCTION\", {\"id\": \"Utils.Utils.Minhash\"}, \"USES\", {\"id\": \"Deduplication.Lsh.Lsh.Compute_Minhash_Signatures\"}, \"USES\", {\"id\": \"Deduplication.Lsh.Lsh.Lsh_Client\"}, \"DEFINES\", {\"id\": \"Deduplication.Lsh.Lsh\"}, \"INHERITS\", {\"id\": \"Deduplication.Lshforest.Lshforest\"}, \"IMPORTS\", {\"id\": \"Deduplication.__Main__\"}]}, {\"path\": [{\"id\": \"Utils.Utils\"}, \"FUNCTION\", {\"id\": \"Utils.Utils.Minhash\"}, \"USED_IN\", {\"id\": \"Utils.Use_Cases.Nearest_Neighbor_Search\"}, \"DEFINES\", {\"id\": \"Utils.Use_Cases\"}, \"DEFINES\", {\"id\": \"Utils.Use_Cases.Collection_Deduplication\"}, \"IMPORTS\", {\"id\": \"Deduplication.__Main__\"}]}, {\"path\": [{\"id\": \"Utils.Utils\"}, \"FUNCTION\", {\"id\": \"Utils.Utils.Minhash\"}, \"USED_IN\", {\"id\": \"Deduplication.Lshimproved.Lshimproved.Compute_Minhash_Signatures\"}, \"USED_IN\", {\"id\": \"Utils.Utils.Shingle\"}, \"USED_IN\", {\"id\": \"Utils.Use_Cases.Nearest_Neighbor_Search\"}, \"IMPORTS\", {\"id\": \"Deduplication.__Main__\"}]}, {\"path\": [{\"id\": \"Utils.Utils\"}, \"FUNCTION\", {\"id\": \"Utils.Utils.Minhash\"}, \"USED_IN\", {\"id\": \"Deduplication.Lshimproved.Lshimproved.Compute_Minhash_Signatures\"}, \"DEFINED_IN\", {\"id\": \"Deduplication.Lshimproved.Lshimproved\"}, \"IMPORTS\", {\"id\": \"Deduplication.__Main__\"}]}]}}', 'name': 'visualize_relationships'}, 'type': 'function'}, {'id': 'call_i2L6ohN673BPGEOnIuTDnJud', 'function': {'arguments': '{\"results\": {\"answer\": \"The `Utils.Utils` module is related to the `Deduplication.__Main__` module in multiple ways:\\\\n\\\\n- The `Utils.Utils` module, specifically `Utils.Utils.Unionfind`, is used in `Utils.Use_Cases.Collection_Deduplication` and either imports or uses `Deduplication.__Main__`.\\\\n- The `Utils.Utils` module, through the `Read_Tsv` function, imports and/or uses the `Deduplication.__Main__` module.\\\\n- The `Utils.Utils` module, via the `Minhash` function, uses `Deduplication.Lsh.Lsh.Compute_Minhash_Signatures` and interacts with `Deduplication.__Main__`.\\\\n- The `Utils.Utils` module, specifically the `Shingle` function, is used in `Utils.Use_Cases.Nearest_Neighbor_Search` and interacts with `Deduplication.__Main__`.\\\\n- The `Utils.Utils` module is imported in the `Deduplication.Lshimproved` module, which in turn imports `Deduplication.__Main__`.\", \"steps\": [\"generate_cypher\", \"execute_cypher\", \"generate_final_answer\"], \"cypher_statement\": \"MATCH path = (m1:Module {id: \\'Utils.Utils\\'})-[*..5]-(m2:Module {id: \\'Deduplication.__Main__\\'}) WHERE NONE(n IN nodes(path) WHERE n:Package) RETURN path\", \"cypher_results\": [{\"path\": [{\"id\": \"Utils.Utils\"}, \"CLASS\", {\"id\": \"Utils.Utils.Unionfind\"}, \"USED_IN\", {\"id\": \"Utils.Use_Cases.Collection_Deduplication\"}, \"DEFINES\", {\"id\": \"Utils.Use_Cases\"}, \"DEFINES\", {\"id\": \"Utils.Use_Cases.Nearest_Neighbor_Search\"}, \"IMPORTS\", {\"id\": \"Deduplication.__Main__\"}]}, {\"path\": [{\"id\": \"Utils.Utils\"}, \"CLASS\", {\"id\": \"Utils.Utils.Unionfind\"}, \"USED_IN\", {\"id\": \"Utils.Use_Cases.Collection_Deduplication\"}, \"DEFINES\", {\"id\": \"Utils.Use_Cases\"}, \"DEFINES\", {\"id\": \"Utils.Use_Cases.Nearest_Neighbor_Search\"}, \"USES\", {\"id\": \"Deduplication.__Main__\"}]}, {\"path\": [{\"id\": \"Utils.Utils\"}, \"CLASS\", {\"id\": \"Utils.Utils.Unionfind\"}, \"USED_IN\", {\"id\": \"Utils.Use_Cases.Collection_Deduplication\"}, \"IMPORTS\", {\"id\": \"Deduplication.__Main__\"}]}, {\"path\": [{\"id\": \"Utils.Utils\"}, \"CLASS\", {\"id\": \"Utils.Utils.Unionfind\"}, \"USED_IN\", {\"id\": \"Utils.Use_Cases.Collection_Deduplication\"}, \"IMPORTS\", {\"id\": \"Deduplication.__Main__\"}, \"INSTANTIATES\", {\"id\": \"Deduplication.Dedup.Baseline\"}, \"IMPORTS\", {\"id\": \"Deduplication.__Main__\"}]}, {\"path\": [{\"id\": \"Utils.Utils\"}, \"CLASS\", {\"id\": \"Utils.Utils.Unionfind\"}, \"USED_IN\", {\"id\": \"Utils.Use_Cases.Collection_Deduplication\"}, \"IMPORTS\", {\"id\": \"Deduplication.__Main__\"}, \"IMPORTS\", {\"id\": \"Utils.Use_Cases.Nearest_Neighbor_Search\"}, \"USES\", {\"id\": \"Deduplication.__Main__\"}]}, {\"path\": [{\"id\": \"Utils.Utils\"}, \"CLASS\", {\"id\": \"Utils.Utils.Unionfind\"}, \"USED_IN\", {\"id\": \"Utils.Use_Cases.Collection_Deduplication\"}, \"IMPORTS\", {\"id\": \"Deduplication.__Main__\"}, \"IMPORTS\", {\"id\": \"Utils.Utils.Read_Tsv\"}, \"USES\", {\"id\": \"Deduplication.__Main__\"}]}, {\"path\": [{\"id\": \"Utils.Utils\"}, \"CLASS\", {\"id\": \"Utils.Utils.Unionfind\"}, \"USED_IN\", {\"id\": \"Utils.Use_Cases.Collection_Deduplication\"}, \"IMPORTS\", {\"id\": \"Deduplication.__Main__\"}, \"IMPORTS\", {\"id\": \"Deduplication.Dedup.Baseline\"}, \"INSTANTIATES\", {\"id\": \"Deduplication.__Main__\"}]}, {\"path\": [{\"id\": \"Utils.Utils\"}, \"CLASS\", {\"id\": \"Utils.Utils.Unionfind\"}, \"USED_IN\", {\"id\": \"Utils.Use_Cases.Collection_Deduplication\"}, \"IMPORTS\", {\"id\": \"Deduplication.__Main__\"}, \"USES\", {\"id\": \"Utils.Use_Cases.Nearest_Neighbor_Search\"}, \"IMPORTS\", {\"id\": \"Deduplication.__Main__\"}]}, {\"path\": [{\"id\": \"Utils.Utils\"}, \"CLASS\", {\"id\": \"Utils.Utils.Unionfind\"}, \"USED_IN\", {\"id\": \"Utils.Use_Cases.Collection_Deduplication\"}, \"IMPORTS\", {\"id\": \"Deduplication.__Main__\"}, \"USES\", {\"id\": \"Utils.Utils.Read_Tsv\"}, \"IMPORTS\", {\"id\": \"Deduplication.__Main__\"}]}, {\"path\": [{\"id\": \"Utils.Utils\"}, \"CLASS\", {\"id\": \"Utils.Utils.Unionfind\"}, \"USED_IN\", {\"id\": \"Utils.Use_Cases.Collection_Deduplication\"}, \"USES\", {\"id\": \"Deduplication.__Main__\"}]}, {\"path\": [{\"id\": \"Utils.Utils\"}, \"CLASS\", {\"id\": \"Utils.Utils.Unionfind\"}, \"USED_IN\", {\"id\": \"Utils.Use_Cases.Collection_Deduplication\"}, \"USES\", {\"id\": \"Deduplication.__Main__\"}, \"INSTANTIATES\", {\"id\": \"Deduplication.Dedup.Baseline\"}, \"IMPORTS\", {\"id\": \"Deduplication.__Main__\"}]}, {\"path\": [{\"id\": \"Utils.Utils\"}, \"CLASS\", {\"id\": \"Utils.Utils.Unionfind\"}, \"USED_IN\", {\"id\": \"Utils.Use_Cases.Collection_Deduplication\"}, \"USES\", {\"id\": \"Deduplication.__Main__\"}, \"IMPORTS\", {\"id\": \"Utils.Use_Cases.Nearest_Neighbor_Search\"}, \"USES\", {\"id\": \"Deduplication.__Main__\"}]}, {\"path\": [{\"id\": \"Utils.Utils\"}, \"CLASS\", {\"id\": \"Utils.Utils.Unionfind\"}, \"USED_IN\", {\"id\": \"Utils.Use_Cases.Collection_Deduplication\"}, \"USES\", {\"id\": \"Deduplication.__Main__\"}, \"IMPORTS\", {\"id\": \"Utils.Utils.Read_Tsv\"}, \"USES\", {\"id\": \"Deduplication.__Main__\"}]}, {\"path\": [{\"id\": \"Utils.Utils\"}, \"FUNCTION\", {\"id\": \"Utils.Utils.Read_Tsv\"}, \"IMPORTS\", {\"id\": \"Deduplication.__Main__\"}]}, {\"path\": [{\"id\": \"Utils.Utils\"}, \"FUNCTION\", {\"id\": \"Utils.Utils.Read_Tsv\"}, \"IMPORTS\", {\"id\": \"Deduplication.__Main__\"}, \"INSTANTIATES\", {\"id\": \"Deduplication.Dedup.Baseline\"}, \"IMPORTS\", {\"id\": \"Deduplication.__Main__\"}]}, {\"path\": [{\"id\": \"Utils.Utils\"}, \"FUNCTION\", {\"id\": \"Utils.Utils.Read_Tsv\"}, \"IMPORTS\", {\"id\": \"Deduplication.__Main__\"}, \"IMPORTS\", {\"id\": \"Utils.Use_Cases.Collection_Deduplication\"}, \"USES\", {\"id\": \"Deduplication.__Main__\"}]}, {\"path\": [{\"id\": \"Utils.Utils\"}, \"FUNCTION\", {\"id\": \"Utils.Utils.Read_Tsv\"}, \"IMPORTS\", {\"id\": \"Deduplication.__Main__\"}, \"IMPORTS\", {\"id\": \"Deduplication.Lshforest.Lshforest\"}, \"INHERITS\", {\"id\": \"Deduplication.Lsh.Lsh\"}, \"IMPORTS\", {\"id\": \"Deduplication.__Main__\"}]}, {\"path\": [{\"id\": \"Utils.Utils\"}, \"FUNCTION\", {\"id\": \"Utils.Utils.Read_Tsv\"}, \"IMPORTS\", {\"id\": \"Deduplication.__Main__\"}, \"USES\", {\"id\": \"Deduplication.Dedup.Baseline.Collection_Deduplication\"}, \"DEFINED_IN\", {\"id\": \"Deduplication.Dedup.Baseline\"}, \"IMPORTS\", {\"id\": \"Deduplication.__Main__\"}]}, {\"path\": [{\"id\": \"Utils.Utils\"}, \"FUNCTION\", {\"id\": \"Utils.Utils.Read_Tsv\"}, \"USES\", {\"id\": \"Deduplication.__Main__\"}]}, {\"path\": [{\"id\": \"Utils.Utils\"}, \"FUNCTION\", {\"id\": \"Utils.Utils.Read_Tsv\"}, \"USES\", {\"id\": \"Deduplication.__Main__\"}, \"INSTANTIATES\", {\"id\": \"Deduplication.Dedup.Baseline\"}, \"DEFINED_IN\", {\"id\": \"Deduplication.Dedup.Baseline.Collection_Deduplication\"}, \"USES\", {\"id\": \"Deduplication.__Main__\"}]}, {\"path\": [{\"id\": \"Utils.Utils\"}, \"FUNCTION\", {\"id\": \"Utils.Utils.Read_Tsv\"}, \"USES\", {\"id\": \"Deduplication.__Main__\"}, \"IMPORTS\", {\"id\": \"Utils.Utils.Read_Tsv\"}, \"USES\", {\"id\": \"Deduplication.__Main__\"}]}, {\"path\": [{\"id\": \"Utils.Utils\"}, \"FUNCTION\", {\"id\": \"Utils.Utils.Majority_Vote\"}, \"USES\", {\"id\": \"Deduplication.Lshforest.Lshforest.Banding\"}, \"DEFINES\", {\"id\": \"Deduplication.Lshforest.Lshforest\"}, \"IMPORTS\", {\"id\": \"Deduplication.__Main__\"}]}, {\"path\": [{\"id\": \"Utils.Utils\"}, \"FUNCTION\", {\"id\": \"Utils.Utils.Majority_Vote\"}, \"USES\", {\"id\": \"Deduplication.Lshforest.Lshforest.Banding\"}, \"USES\", {\"id\": \"Deduplication.__Main__.Model\"}, \"DEFINED_IN\", {\"id\": \"Deduplication.__Main__\"}]}, {\"path\": [{\"id\": \"Utils.Utils\"}, \"FUNCTION\", {\"id\": \"Utils.Utils.Split_Dict\"}, \"USES\", {\"id\": \"Deduplication.Lshforest.Lshforest.Banding\"}, \"DEFINED_IN\", {\"id\": \"Deduplication.Lshforest.Lshforest\"}, \"IMPORTS\", {\"id\": \"Deduplication.__Main__\"}]}, {\"path\": [{\"id\": \"Utils.Utils\"}, \"FUNCTION\", {\"id\": \"Utils.Utils.Split_Dict\"}, \"USES\", {\"id\": \"Deduplication.Lshforest.Lshforest.Banding\"}, \"USES\", {\"id\": \"Deduplication.__Main__.Model\"}, \"DEFINED_IN\", {\"id\": \"Deduplication.__Main__\"}]}, {\"path\": [{\"id\": \"Utils.Utils\"}, \"FUNCTION\", {\"id\": \"Utils.Utils.Minhash\"}, \"IMPORTS\", {\"id\": \"Deduplication.Lsh\"}, \"IMPORTS\", {\"id\": \"Utils.Utils.Shingle\"}, \"USED_IN\", {\"id\": \"Utils.Use_Cases.Nearest_Neighbor_Search\"}, \"IMPORTS\", {\"id\": \"Deduplication.__Main__\"}]}, {\"path\": [{\"id\": \"Utils.Utils\"}, \"FUNCTION\", {\"id\": \"Utils.Utils.Minhash\"}, \"IMPORTS\", {\"id\": \"Deduplication.Lsh\"}, \"IMPORTS\", {\"id\": \"Utils.Utils.Shingle\"}, \"USED_IN\", {\"id\": \"Utils.Use_Cases.Nearest_Neighbor_Search\"}, \"USES\", {\"id\": \"Deduplication.__Main__\"}]}, {\"path\": [{\"id\": \"Utils.Utils\"}, \"FUNCTION\", {\"id\": \"Utils.Utils.Minhash\"}, \"USES\", {\"id\": \"Deduplication.Lsh.Lsh.Compute_Minhash_Signatures\"}, \"USES\", {\"id\": \"Deduplication.__Main__.Model\"}, \"DEFINED_IN\", {\"id\": \"Deduplication.__Main__\"}]}, {\"path\": [{\"id\": \"Utils.Utils\"}, \"FUNCTION\", {\"id\": \"Utils.Utils.Minhash\"}, \"USES\", {\"id\": \"Deduplication.Lsh.Lsh.Compute_Minhash_Signatures\"}, \"USES\", {\"id\": \"Deduplication.Lsh.Lsh.Lsh_Client\"}, \"DEFINES\", {\"id\": \"Deduplication.Lsh.Lsh\"}, \"INHERITS\", {\"id\": \"Deduplication.Lshforest.Lshforest\"}, \"IMPORTS\", {\"id\": \"Deduplication.__Main__\"}]}, {\"path\": [{\"id\": \"Utils.Utils\"}, \"FUNCTION\", {\"id\": \"Utils.Utils.Minhash\"}, \"USED_IN\", {\"id\": \"Utils.Use_Cases.Nearest_Neighbor_Search\"}, \"DEFINES\", {\"id\": \"Utils.Use_Cases\"}, \"DEFINES\", {\"id\": \"Utils.Use_Cases.Collection_Deduplication\"}, \"IMPORTS\", {\"id\": \"Deduplication.__Main__\"}]}, {\"path\": [{\"id\": \"Utils.Utils\"}, \"FUNCTION\", {\"id\": \"Utils.Utils.Minhash\"}, \"USED_IN\", {\"id\": \"Deduplication.Lshimproved.Lshimproved.Compute_Minhash_Signatures\"}, \"USED_IN\", {\"id\": \"Utils.Utils.Shingle\"}, \"USED_IN\", {\"id\": \"Utils.Use_Cases.Nearest_Neighbor_Search\"}, \"IMPORTS\", {\"id\": \"Deduplication.__Main__\"}]}, {\"path\": [{\"id\": \"Utils.Utils\"}, \"FUNCTION\", {\"id\": \"Utils.Utils.Minhash\"}, \"USED_IN\", {\"id\": \"Deduplication.Lshimproved.Lshimproved.Compute_Minhash_Signatures\"}, \"DEFINED_IN\", {\"id\": \"Deduplication.Lshimproved.Lshimproved\"}, \"IMPORTS\", {\"id\": \"Deduplication.__Main__\"}]}]}}', 'name': 'generate_text_response'}, 'type': 'function'}], 'refusal': None}, response_metadata={'token_usage': {'completion_tokens': 5493, 'prompt_tokens': 15170, 'total_tokens': 20663, 'completion_tokens_details': {'accepted_prediction_tokens': 0, 'audio_tokens': 0, 'reasoning_tokens': 0, 'rejected_prediction_tokens': 0}, 'prompt_tokens_details': {'audio_tokens': 0, 'cached_tokens': 0}}, 'model_name': 'gpt-4o-2024-08-06', 'system_fingerprint': 'fp_85bc8e3fae', 'finish_reason': 'tool_calls', 'logprobs': None}, id='run-a25e3b0e-a64a-474e-a9c6-e925159ecf26-0', tool_calls=[{'name': 'visualize_relationships', 'args': {'results': {'answer': 'The `Utils.Utils` module is related to the `Deduplication.__Main__` module in multiple ways:\\n\\n- The `Utils.Utils` module, specifically `Utils.Utils.Unionfind`, is used in `Utils.Use_Cases.Collection_Deduplication` and either imports or uses `Deduplication.__Main__`.\\n- The `Utils.Utils` module, through the `Read_Tsv` function, imports and/or uses the `Deduplication.__Main__` module.\\n- The `Utils.Utils` module, via the `Minhash` function, uses `Deduplication.Lsh.Lsh.Compute_Minhash_Signatures` and interacts with `Deduplication.__Main__`.\\n- The `Utils.Utils` module, specifically the `Shingle` function, is used in `Utils.Use_Cases.Nearest_Neighbor_Search` and interacts with `Deduplication.__Main__`.\\n- The `Utils.Utils` module is imported in the `Deduplication.Lshimproved` module, which in turn imports `Deduplication.__Main__`.', 'steps': ['generate_cypher', 'execute_cypher', 'generate_final_answer'], 'cypher_statement': \"MATCH path = (m1:Module {id: 'Utils.Utils'})-[*..5]-(m2:Module {id: 'Deduplication.__Main__'}) WHERE NONE(n IN nodes(path) WHERE n:Package) RETURN path\", 'cypher_results': [{'path': [{'id': 'Utils.Utils'}, 'CLASS', {'id': 'Utils.Utils.Unionfind'}, 'USED_IN', {'id': 'Utils.Use_Cases.Collection_Deduplication'}, 'DEFINES', {'id': 'Utils.Use_Cases'}, 'DEFINES', {'id': 'Utils.Use_Cases.Nearest_Neighbor_Search'}, 'IMPORTS', {'id': 'Deduplication.__Main__'}]}, {'path': [{'id': 'Utils.Utils'}, 'CLASS', {'id': 'Utils.Utils.Unionfind'}, 'USED_IN', {'id': 'Utils.Use_Cases.Collection_Deduplication'}, 'DEFINES', {'id': 'Utils.Use_Cases'}, 'DEFINES', {'id': 'Utils.Use_Cases.Nearest_Neighbor_Search'}, 'USES', {'id': 'Deduplication.__Main__'}]}, {'path': [{'id': 'Utils.Utils'}, 'CLASS', {'id': 'Utils.Utils.Unionfind'}, 'USED_IN', {'id': 'Utils.Use_Cases.Collection_Deduplication'}, 'IMPORTS', {'id': 'Deduplication.__Main__'}]}, {'path': [{'id': 'Utils.Utils'}, 'CLASS', {'id': 'Utils.Utils.Unionfind'}, 'USED_IN', {'id': 'Utils.Use_Cases.Collection_Deduplication'}, 'IMPORTS', {'id': 'Deduplication.__Main__'}, 'INSTANTIATES', {'id': 'Deduplication.Dedup.Baseline'}, 'IMPORTS', {'id': 'Deduplication.__Main__'}]}, {'path': [{'id': 'Utils.Utils'}, 'CLASS', {'id': 'Utils.Utils.Unionfind'}, 'USED_IN', {'id': 'Utils.Use_Cases.Collection_Deduplication'}, 'IMPORTS', {'id': 'Deduplication.__Main__'}, 'IMPORTS', {'id': 'Utils.Use_Cases.Nearest_Neighbor_Search'}, 'USES', {'id': 'Deduplication.__Main__'}]}, {'path': [{'id': 'Utils.Utils'}, 'CLASS', {'id': 'Utils.Utils.Unionfind'}, 'USED_IN', {'id': 'Utils.Use_Cases.Collection_Deduplication'}, 'IMPORTS', {'id': 'Deduplication.__Main__'}, 'IMPORTS', {'id': 'Utils.Utils.Read_Tsv'}, 'USES', {'id': 'Deduplication.__Main__'}]}, {'path': [{'id': 'Utils.Utils'}, 'CLASS', {'id': 'Utils.Utils.Unionfind'}, 'USED_IN', {'id': 'Utils.Use_Cases.Collection_Deduplication'}, 'IMPORTS', {'id': 'Deduplication.__Main__'}, 'IMPORTS', {'id': 'Deduplication.Dedup.Baseline'}, 'INSTANTIATES', {'id': 'Deduplication.__Main__'}]}, {'path': [{'id': 'Utils.Utils'}, 'CLASS', {'id': 'Utils.Utils.Unionfind'}, 'USED_IN', {'id': 'Utils.Use_Cases.Collection_Deduplication'}, 'IMPORTS', {'id': 'Deduplication.__Main__'}, 'USES', {'id': 'Utils.Use_Cases.Nearest_Neighbor_Search'}, 'IMPORTS', {'id': 'Deduplication.__Main__'}]}, {'path': [{'id': 'Utils.Utils'}, 'CLASS', {'id': 'Utils.Utils.Unionfind'}, 'USED_IN', {'id': 'Utils.Use_Cases.Collection_Deduplication'}, 'IMPORTS', {'id': 'Deduplication.__Main__'}, 'USES', {'id': 'Utils.Utils.Read_Tsv'}, 'IMPORTS', {'id': 'Deduplication.__Main__'}]}, {'path': [{'id': 'Utils.Utils'}, 'CLASS', {'id': 'Utils.Utils.Unionfind'}, 'USED_IN', {'id': 'Utils.Use_Cases.Collection_Deduplication'}, 'USES', {'id': 'Deduplication.__Main__'}]}, {'path': [{'id': 'Utils.Utils'}, 'CLASS', {'id': 'Utils.Utils.Unionfind'}, 'USED_IN', {'id': 'Utils.Use_Cases.Collection_Deduplication'}, 'USES', {'id': 'Deduplication.__Main__'}, 'INSTANTIATES', {'id': 'Deduplication.Dedup.Baseline'}, 'IMPORTS', {'id': 'Deduplication.__Main__'}]}, {'path': [{'id': 'Utils.Utils'}, 'CLASS', {'id': 'Utils.Utils.Unionfind'}, 'USED_IN', {'id': 'Utils.Use_Cases.Collection_Deduplication'}, 'USES', {'id': 'Deduplication.__Main__'}, 'IMPORTS', {'id': 'Utils.Use_Cases.Nearest_Neighbor_Search'}, 'USES', {'id': 'Deduplication.__Main__'}]}, {'path': [{'id': 'Utils.Utils'}, 'CLASS', {'id': 'Utils.Utils.Unionfind'}, 'USED_IN', {'id': 'Utils.Use_Cases.Collection_Deduplication'}, 'USES', {'id': 'Deduplication.__Main__'}, 'IMPORTS', {'id': 'Utils.Utils.Read_Tsv'}, 'USES', {'id': 'Deduplication.__Main__'}]}, {'path': [{'id': 'Utils.Utils'}, 'FUNCTION', {'id': 'Utils.Utils.Read_Tsv'}, 'IMPORTS', {'id': 'Deduplication.__Main__'}]}, {'path': [{'id': 'Utils.Utils'}, 'FUNCTION', {'id': 'Utils.Utils.Read_Tsv'}, 'IMPORTS', {'id': 'Deduplication.__Main__'}, 'INSTANTIATES', {'id': 'Deduplication.Dedup.Baseline'}, 'IMPORTS', {'id': 'Deduplication.__Main__'}]}, {'path': [{'id': 'Utils.Utils'}, 'FUNCTION', {'id': 'Utils.Utils.Read_Tsv'}, 'IMPORTS', {'id': 'Deduplication.__Main__'}, 'IMPORTS', {'id': 'Utils.Use_Cases.Collection_Deduplication'}, 'USES', {'id': 'Deduplication.__Main__'}]}, {'path': [{'id': 'Utils.Utils'}, 'FUNCTION', {'id': 'Utils.Utils.Read_Tsv'}, 'IMPORTS', {'id': 'Deduplication.__Main__'}, 'IMPORTS', {'id': 'Deduplication.Lshforest.Lshforest'}, 'INHERITS', {'id': 'Deduplication.Lsh.Lsh'}, 'IMPORTS', {'id': 'Deduplication.__Main__'}]}, {'path': [{'id': 'Utils.Utils'}, 'FUNCTION', {'id': 'Utils.Utils.Read_Tsv'}, 'IMPORTS', {'id': 'Deduplication.__Main__'}, 'USES', {'id': 'Deduplication.Dedup.Baseline.Collection_Deduplication'}, 'DEFINED_IN', {'id': 'Deduplication.Dedup.Baseline'}, 'IMPORTS', {'id': 'Deduplication.__Main__'}]}, {'path': [{'id': 'Utils.Utils'}, 'FUNCTION', {'id': 'Utils.Utils.Read_Tsv'}, 'USES', {'id': 'Deduplication.__Main__'}]}, {'path': [{'id': 'Utils.Utils'}, 'FUNCTION', {'id': 'Utils.Utils.Read_Tsv'}, 'USES', {'id': 'Deduplication.__Main__'}, 'INSTANTIATES', {'id': 'Deduplication.Dedup.Baseline'}, 'DEFINED_IN', {'id': 'Deduplication.Dedup.Baseline.Collection_Deduplication'}, 'USES', {'id': 'Deduplication.__Main__'}]}, {'path': [{'id': 'Utils.Utils'}, 'FUNCTION', {'id': 'Utils.Utils.Read_Tsv'}, 'USES', {'id': 'Deduplication.__Main__'}, 'IMPORTS', {'id': 'Utils.Utils.Read_Tsv'}, 'USES', {'id': 'Deduplication.__Main__'}]}, {'path': [{'id': 'Utils.Utils'}, 'FUNCTION', {'id': 'Utils.Utils.Majority_Vote'}, 'USES', {'id': 'Deduplication.Lshforest.Lshforest.Banding'}, 'DEFINES', {'id': 'Deduplication.Lshforest.Lshforest'}, 'IMPORTS', {'id': 'Deduplication.__Main__'}]}, {'path': [{'id': 'Utils.Utils'}, 'FUNCTION', {'id': 'Utils.Utils.Majority_Vote'}, 'USES', {'id': 'Deduplication.Lshforest.Lshforest.Banding'}, 'USES', {'id': 'Deduplication.__Main__.Model'}, 'DEFINED_IN', {'id': 'Deduplication.__Main__'}]}, {'path': [{'id': 'Utils.Utils'}, 'FUNCTION', {'id': 'Utils.Utils.Split_Dict'}, 'USES', {'id': 'Deduplication.Lshforest.Lshforest.Banding'}, 'DEFINED_IN', {'id': 'Deduplication.Lshforest.Lshforest'}, 'IMPORTS', {'id': 'Deduplication.__Main__'}]}, {'path': [{'id': 'Utils.Utils'}, 'FUNCTION', {'id': 'Utils.Utils.Split_Dict'}, 'USES', {'id': 'Deduplication.Lshforest.Lshforest.Banding'}, 'USES', {'id': 'Deduplication.__Main__.Model'}, 'DEFINED_IN', {'id': 'Deduplication.__Main__'}]}, {'path': [{'id': 'Utils.Utils'}, 'FUNCTION', {'id': 'Utils.Utils.Minhash'}, 'IMPORTS', {'id': 'Deduplication.Lsh'}, 'IMPORTS', {'id': 'Utils.Utils.Shingle'}, 'USED_IN', {'id': 'Utils.Use_Cases.Nearest_Neighbor_Search'}, 'IMPORTS', {'id': 'Deduplication.__Main__'}]}, {'path': [{'id': 'Utils.Utils'}, 'FUNCTION', {'id': 'Utils.Utils.Minhash'}, 'IMPORTS', {'id': 'Deduplication.Lsh'}, 'IMPORTS', {'id': 'Utils.Utils.Shingle'}, 'USED_IN', {'id': 'Utils.Use_Cases.Nearest_Neighbor_Search'}, 'USES', {'id': 'Deduplication.__Main__'}]}, {'path': [{'id': 'Utils.Utils'}, 'FUNCTION', {'id': 'Utils.Utils.Minhash'}, 'USES', {'id': 'Deduplication.Lsh.Lsh.Compute_Minhash_Signatures'}, 'USES', {'id': 'Deduplication.__Main__.Model'}, 'DEFINED_IN', {'id': 'Deduplication.__Main__'}]}, {'path': [{'id': 'Utils.Utils'}, 'FUNCTION', {'id': 'Utils.Utils.Minhash'}, 'USES', {'id': 'Deduplication.Lsh.Lsh.Compute_Minhash_Signatures'}, 'USES', {'id': 'Deduplication.Lsh.Lsh.Lsh_Client'}, 'DEFINES', {'id': 'Deduplication.Lsh.Lsh'}, 'INHERITS', {'id': 'Deduplication.Lshforest.Lshforest'}, 'IMPORTS', {'id': 'Deduplication.__Main__'}]}, {'path': [{'id': 'Utils.Utils'}, 'FUNCTION', {'id': 'Utils.Utils.Minhash'}, 'USED_IN', {'id': 'Utils.Use_Cases.Nearest_Neighbor_Search'}, 'DEFINES', {'id': 'Utils.Use_Cases'}, 'DEFINES', {'id': 'Utils.Use_Cases.Collection_Deduplication'}, 'IMPORTS', {'id': 'Deduplication.__Main__'}]}, {'path': [{'id': 'Utils.Utils'}, 'FUNCTION', {'id': 'Utils.Utils.Minhash'}, 'USED_IN', {'id': 'Deduplication.Lshimproved.Lshimproved.Compute_Minhash_Signatures'}, 'USED_IN', {'id': 'Utils.Utils.Shingle'}, 'USED_IN', {'id': 'Utils.Use_Cases.Nearest_Neighbor_Search'}, 'IMPORTS', {'id': 'Deduplication.__Main__'}]}, {'path': [{'id': 'Utils.Utils'}, 'FUNCTION', {'id': 'Utils.Utils.Minhash'}, 'USED_IN', {'id': 'Deduplication.Lshimproved.Lshimproved.Compute_Minhash_Signatures'}, 'DEFINED_IN', {'id': 'Deduplication.Lshimproved.Lshimproved'}, 'IMPORTS', {'id': 'Deduplication.__Main__'}]}]}}, 'id': 'call_vJcjxVTFQQ7L2ygR3vajV1CM', 'type': 'tool_call'}, {'name': 'generate_text_response', 'args': {'results': {'answer': 'The `Utils.Utils` module is related to the `Deduplication.__Main__` module in multiple ways:\\n\\n- The `Utils.Utils` module, specifically `Utils.Utils.Unionfind`, is used in `Utils.Use_Cases.Collection_Deduplication` and either imports or uses `Deduplication.__Main__`.\\n- The `Utils.Utils` module, through the `Read_Tsv` function, imports and/or uses the `Deduplication.__Main__` module.\\n- The `Utils.Utils` module, via the `Minhash` function, uses `Deduplication.Lsh.Lsh.Compute_Minhash_Signatures` and interacts with `Deduplication.__Main__`.\\n- The `Utils.Utils` module, specifically the `Shingle` function, is used in `Utils.Use_Cases.Nearest_Neighbor_Search` and interacts with `Deduplication.__Main__`.\\n- The `Utils.Utils` module is imported in the `Deduplication.Lshimproved` module, which in turn imports `Deduplication.__Main__`.', 'steps': ['generate_cypher', 'execute_cypher', 'generate_final_answer'], 'cypher_statement': \"MATCH path = (m1:Module {id: 'Utils.Utils'})-[*..5]-(m2:Module {id: 'Deduplication.__Main__'}) WHERE NONE(n IN nodes(path) WHERE n:Package) RETURN path\", 'cypher_results': [{'path': [{'id': 'Utils.Utils'}, 'CLASS', {'id': 'Utils.Utils.Unionfind'}, 'USED_IN', {'id': 'Utils.Use_Cases.Collection_Deduplication'}, 'DEFINES', {'id': 'Utils.Use_Cases'}, 'DEFINES', {'id': 'Utils.Use_Cases.Nearest_Neighbor_Search'}, 'IMPORTS', {'id': 'Deduplication.__Main__'}]}, {'path': [{'id': 'Utils.Utils'}, 'CLASS', {'id': 'Utils.Utils.Unionfind'}, 'USED_IN', {'id': 'Utils.Use_Cases.Collection_Deduplication'}, 'DEFINES', {'id': 'Utils.Use_Cases'}, 'DEFINES', {'id': 'Utils.Use_Cases.Nearest_Neighbor_Search'}, 'USES', {'id': 'Deduplication.__Main__'}]}, {'path': [{'id': 'Utils.Utils'}, 'CLASS', {'id': 'Utils.Utils.Unionfind'}, 'USED_IN', {'id': 'Utils.Use_Cases.Collection_Deduplication'}, 'IMPORTS', {'id': 'Deduplication.__Main__'}]}, {'path': [{'id': 'Utils.Utils'}, 'CLASS', {'id': 'Utils.Utils.Unionfind'}, 'USED_IN', {'id': 'Utils.Use_Cases.Collection_Deduplication'}, 'IMPORTS', {'id': 'Deduplication.__Main__'}, 'INSTANTIATES', {'id': 'Deduplication.Dedup.Baseline'}, 'IMPORTS', {'id': 'Deduplication.__Main__'}]}, {'path': [{'id': 'Utils.Utils'}, 'CLASS', {'id': 'Utils.Utils.Unionfind'}, 'USED_IN', {'id': 'Utils.Use_Cases.Collection_Deduplication'}, 'IMPORTS', {'id': 'Deduplication.__Main__'}, 'IMPORTS', {'id': 'Utils.Use_Cases.Nearest_Neighbor_Search'}, 'USES', {'id': 'Deduplication.__Main__'}]}, {'path': [{'id': 'Utils.Utils'}, 'CLASS', {'id': 'Utils.Utils.Unionfind'}, 'USED_IN', {'id': 'Utils.Use_Cases.Collection_Deduplication'}, 'IMPORTS', {'id': 'Deduplication.__Main__'}, 'IMPORTS', {'id': 'Utils.Utils.Read_Tsv'}, 'USES', {'id': 'Deduplication.__Main__'}]}, {'path': [{'id': 'Utils.Utils'}, 'CLASS', {'id': 'Utils.Utils.Unionfind'}, 'USED_IN', {'id': 'Utils.Use_Cases.Collection_Deduplication'}, 'IMPORTS', {'id': 'Deduplication.__Main__'}, 'IMPORTS', {'id': 'Deduplication.Dedup.Baseline'}, 'INSTANTIATES', {'id': 'Deduplication.__Main__'}]}, {'path': [{'id': 'Utils.Utils'}, 'CLASS', {'id': 'Utils.Utils.Unionfind'}, 'USED_IN', {'id': 'Utils.Use_Cases.Collection_Deduplication'}, 'IMPORTS', {'id': 'Deduplication.__Main__'}, 'USES', {'id': 'Utils.Use_Cases.Nearest_Neighbor_Search'}, 'IMPORTS', {'id': 'Deduplication.__Main__'}]}, {'path': [{'id': 'Utils.Utils'}, 'CLASS', {'id': 'Utils.Utils.Unionfind'}, 'USED_IN', {'id': 'Utils.Use_Cases.Collection_Deduplication'}, 'IMPORTS', {'id': 'Deduplication.__Main__'}, 'USES', {'id': 'Utils.Utils.Read_Tsv'}, 'IMPORTS', {'id': 'Deduplication.__Main__'}]}, {'path': [{'id': 'Utils.Utils'}, 'CLASS', {'id': 'Utils.Utils.Unionfind'}, 'USED_IN', {'id': 'Utils.Use_Cases.Collection_Deduplication'}, 'USES', {'id': 'Deduplication.__Main__'}]}, {'path': [{'id': 'Utils.Utils'}, 'CLASS', {'id': 'Utils.Utils.Unionfind'}, 'USED_IN', {'id': 'Utils.Use_Cases.Collection_Deduplication'}, 'USES', {'id': 'Deduplication.__Main__'}, 'INSTANTIATES', {'id': 'Deduplication.Dedup.Baseline'}, 'IMPORTS', {'id': 'Deduplication.__Main__'}]}, {'path': [{'id': 'Utils.Utils'}, 'CLASS', {'id': 'Utils.Utils.Unionfind'}, 'USED_IN', {'id': 'Utils.Use_Cases.Collection_Deduplication'}, 'USES', {'id': 'Deduplication.__Main__'}, 'IMPORTS', {'id': 'Utils.Use_Cases.Nearest_Neighbor_Search'}, 'USES', {'id': 'Deduplication.__Main__'}]}, {'path': [{'id': 'Utils.Utils'}, 'CLASS', {'id': 'Utils.Utils.Unionfind'}, 'USED_IN', {'id': 'Utils.Use_Cases.Collection_Deduplication'}, 'USES', {'id': 'Deduplication.__Main__'}, 'IMPORTS', {'id': 'Utils.Utils.Read_Tsv'}, 'USES', {'id': 'Deduplication.__Main__'}]}, {'path': [{'id': 'Utils.Utils'}, 'FUNCTION', {'id': 'Utils.Utils.Read_Tsv'}, 'IMPORTS', {'id': 'Deduplication.__Main__'}]}, {'path': [{'id': 'Utils.Utils'}, 'FUNCTION', {'id': 'Utils.Utils.Read_Tsv'}, 'IMPORTS', {'id': 'Deduplication.__Main__'}, 'INSTANTIATES', {'id': 'Deduplication.Dedup.Baseline'}, 'IMPORTS', {'id': 'Deduplication.__Main__'}]}, {'path': [{'id': 'Utils.Utils'}, 'FUNCTION', {'id': 'Utils.Utils.Read_Tsv'}, 'IMPORTS', {'id': 'Deduplication.__Main__'}, 'IMPORTS', {'id': 'Utils.Use_Cases.Collection_Deduplication'}, 'USES', {'id': 'Deduplication.__Main__'}]}, {'path': [{'id': 'Utils.Utils'}, 'FUNCTION', {'id': 'Utils.Utils.Read_Tsv'}, 'IMPORTS', {'id': 'Deduplication.__Main__'}, 'IMPORTS', {'id': 'Deduplication.Lshforest.Lshforest'}, 'INHERITS', {'id': 'Deduplication.Lsh.Lsh'}, 'IMPORTS', {'id': 'Deduplication.__Main__'}]}, {'path': [{'id': 'Utils.Utils'}, 'FUNCTION', {'id': 'Utils.Utils.Read_Tsv'}, 'IMPORTS', {'id': 'Deduplication.__Main__'}, 'USES', {'id': 'Deduplication.Dedup.Baseline.Collection_Deduplication'}, 'DEFINED_IN', {'id': 'Deduplication.Dedup.Baseline'}, 'IMPORTS', {'id': 'Deduplication.__Main__'}]}, {'path': [{'id': 'Utils.Utils'}, 'FUNCTION', {'id': 'Utils.Utils.Read_Tsv'}, 'USES', {'id': 'Deduplication.__Main__'}]}, {'path': [{'id': 'Utils.Utils'}, 'FUNCTION', {'id': 'Utils.Utils.Read_Tsv'}, 'USES', {'id': 'Deduplication.__Main__'}, 'INSTANTIATES', {'id': 'Deduplication.Dedup.Baseline'}, 'DEFINED_IN', {'id': 'Deduplication.Dedup.Baseline.Collection_Deduplication'}, 'USES', {'id': 'Deduplication.__Main__'}]}, {'path': [{'id': 'Utils.Utils'}, 'FUNCTION', {'id': 'Utils.Utils.Read_Tsv'}, 'USES', {'id': 'Deduplication.__Main__'}, 'IMPORTS', {'id': 'Utils.Utils.Read_Tsv'}, 'USES', {'id': 'Deduplication.__Main__'}]}, {'path': [{'id': 'Utils.Utils'}, 'FUNCTION', {'id': 'Utils.Utils.Majority_Vote'}, 'USES', {'id': 'Deduplication.Lshforest.Lshforest.Banding'}, 'DEFINES', {'id': 'Deduplication.Lshforest.Lshforest'}, 'IMPORTS', {'id': 'Deduplication.__Main__'}]}, {'path': [{'id': 'Utils.Utils'}, 'FUNCTION', {'id': 'Utils.Utils.Majority_Vote'}, 'USES', {'id': 'Deduplication.Lshforest.Lshforest.Banding'}, 'USES', {'id': 'Deduplication.__Main__.Model'}, 'DEFINED_IN', {'id': 'Deduplication.__Main__'}]}, {'path': [{'id': 'Utils.Utils'}, 'FUNCTION', {'id': 'Utils.Utils.Split_Dict'}, 'USES', {'id': 'Deduplication.Lshforest.Lshforest.Banding'}, 'DEFINED_IN', {'id': 'Deduplication.Lshforest.Lshforest'}, 'IMPORTS', {'id': 'Deduplication.__Main__'}]}, {'path': [{'id': 'Utils.Utils'}, 'FUNCTION', {'id': 'Utils.Utils.Split_Dict'}, 'USES', {'id': 'Deduplication.Lshforest.Lshforest.Banding'}, 'USES', {'id': 'Deduplication.__Main__.Model'}, 'DEFINED_IN', {'id': 'Deduplication.__Main__'}]}, {'path': [{'id': 'Utils.Utils'}, 'FUNCTION', {'id': 'Utils.Utils.Minhash'}, 'IMPORTS', {'id': 'Deduplication.Lsh'}, 'IMPORTS', {'id': 'Utils.Utils.Shingle'}, 'USED_IN', {'id': 'Utils.Use_Cases.Nearest_Neighbor_Search'}, 'IMPORTS', {'id': 'Deduplication.__Main__'}]}, {'path': [{'id': 'Utils.Utils'}, 'FUNCTION', {'id': 'Utils.Utils.Minhash'}, 'IMPORTS', {'id': 'Deduplication.Lsh'}, 'IMPORTS', {'id': 'Utils.Utils.Shingle'}, 'USED_IN', {'id': 'Utils.Use_Cases.Nearest_Neighbor_Search'}, 'USES', {'id': 'Deduplication.__Main__'}]}, {'path': [{'id': 'Utils.Utils'}, 'FUNCTION', {'id': 'Utils.Utils.Minhash'}, 'USES', {'id': 'Deduplication.Lsh.Lsh.Compute_Minhash_Signatures'}, 'USES', {'id': 'Deduplication.__Main__.Model'}, 'DEFINED_IN', {'id': 'Deduplication.__Main__'}]}, {'path': [{'id': 'Utils.Utils'}, 'FUNCTION', {'id': 'Utils.Utils.Minhash'}, 'USES', {'id': 'Deduplication.Lsh.Lsh.Compute_Minhash_Signatures'}, 'USES', {'id': 'Deduplication.Lsh.Lsh.Lsh_Client'}, 'DEFINES', {'id': 'Deduplication.Lsh.Lsh'}, 'INHERITS', {'id': 'Deduplication.Lshforest.Lshforest'}, 'IMPORTS', {'id': 'Deduplication.__Main__'}]}, {'path': [{'id': 'Utils.Utils'}, 'FUNCTION', {'id': 'Utils.Utils.Minhash'}, 'USED_IN', {'id': 'Utils.Use_Cases.Nearest_Neighbor_Search'}, 'DEFINES', {'id': 'Utils.Use_Cases'}, 'DEFINES', {'id': 'Utils.Use_Cases.Collection_Deduplication'}, 'IMPORTS', {'id': 'Deduplication.__Main__'}]}, {'path': [{'id': 'Utils.Utils'}, 'FUNCTION', {'id': 'Utils.Utils.Minhash'}, 'USED_IN', {'id': 'Deduplication.Lshimproved.Lshimproved.Compute_Minhash_Signatures'}, 'USED_IN', {'id': 'Utils.Utils.Shingle'}, 'USED_IN', {'id': 'Utils.Use_Cases.Nearest_Neighbor_Search'}, 'IMPORTS', {'id': 'Deduplication.__Main__'}]}, {'path': [{'id': 'Utils.Utils'}, 'FUNCTION', {'id': 'Utils.Utils.Minhash'}, 'USED_IN', {'id': 'Deduplication.Lshimproved.Lshimproved.Compute_Minhash_Signatures'}, 'DEFINED_IN', {'id': 'Deduplication.Lshimproved.Lshimproved'}, 'IMPORTS', {'id': 'Deduplication.__Main__'}]}]}}, 'id': 'call_i2L6ohN673BPGEOnIuTDnJud', 'type': 'tool_call'}], usage_metadata={'input_tokens': 15170, 'output_tokens': 5493, 'total_tokens': 20663, 'input_token_details': {'audio': 0, 'cache_read': 0}, 'output_token_details': {'audio': 0, 'reasoning': 0}}),\n",
       "  ToolMessage(content='{\"nodes\": 22, \"edges\": 44, \"node_types\": [\"Utils\", \"Deduplication\"], \"relationship_types\": [\"INSTANTIATES\", \"USED_IN\", \"DEFINES\", \"INHERITS\", \"IMPORTS\", \"CLASS\", \"USES\", \"DEFINED_IN\", \"FUNCTION\"]}', name='visualize_relationships', id='877b173f-b6d5-4f39-9cf1-9aa4b0022010', tool_call_id='call_vJcjxVTFQQ7L2ygR3vajV1CM'),\n",
       "  ToolMessage(content='Based on the provided sentence and context, I can expand the information to make it more informative and useful:\\n\\nThe `Utils.Utils` module is a critical component in the deduplication process, interacting with the `Deduplication.__Main__` module in multiple significant ways:\\n\\n1. UnionFind for Document Clustering:\\n   The `Utils.Utils.Unionfind` class, implemented in `Utils.Utils`, is utilized in `Utils.Use_Cases.Collection_Deduplication` for efficiently grouping similar documents. This class employs a Union-Find data structure with path compression, which is crucial for clustering documents based on the candidate pairs identified by the LSH (Locality Sensitive Hashing) process in `Deduplication.__Main__`.\\n\\n2. Data Input Processing:\\n   The `Read_Tsv` function from `Utils.Utils` is essential for importing document data. It reads tab-separated values (TSV) files and converts them into a dictionary format, which is then used by `Deduplication.__Main__` for further processing. This function is likely called at the beginning of the deduplication pipeline to load the initial dataset.\\n\\n3. MinHash Signature Generation:\\n   The `Minhash` function in `Utils.Utils` interacts with `Deduplication.Lsh.Lsh.Compute_Minhash_Signatures`. It creates MinHash signatures for sets of shingles, which are crucial for efficient similarity estimation in the LSH process. This function is probably used within the `compute_minhash_signatures` method of the LSH class, which is called from `Deduplication.__Main__`.\\n\\n4. Document Preprocessing:\\n   The `Shingle` function from `Utils.Utils`, used in `Utils.Use_Cases.Nearest_Neighbor_Search`, is responsible for generating k-shingles (contiguous sequences of k words) from given texts. This preprocessing step is vital for both the deduplication and nearest neighbor search processes initiated in `Deduplication.__Main__`.\\n\\n5. Module Integration:\\n   The `Utils.Utils` module is imported by `Deduplication.Lshimproved`, which in turn imports `Deduplication.__Main__`. This integration suggests that the utility functions are used throughout the improved LSH implementation, enhancing the overall deduplication process.\\n\\nAdditionally, the `Utils.Utils` module provides several helper functions like `clean_document` for text normalization and `split_dict` for data manipulation, which are likely used at various stages of the deduplication process controlled by `Deduplication.__Main__`. The module also implements a majority voting system with the `majority_vote` function, which could be used for consensus-based decision making in the deduplication algorithm.\\n\\nOverall, the `Utils.Utils` module serves as a foundational toolkit, providing essential functions and data structures that enable the core deduplication and similarity analysis functionalities implemented in `Deduplication.__Main__` and related modules.', name='generate_text_response', id='b7bdc4c0-c7e9-46a3-af94-0ed4f24b77fa', tool_call_id='call_i2L6ohN673BPGEOnIuTDnJud'),\n",
       "  AIMessage(content=\"The `Utils.Utils` module is intricately related to the `Deduplication.__Main__` module, serving as a foundational toolkit with multiple significant interactions:\\n\\n1. **UnionFind for Document Clustering**:\\n   - The `Utils.Utils.Unionfind` class is crucial for clustering documents based on candidate pairs identified by LSH processes in `Deduplication.__Main__`. It is used within `Utils.Use_Cases.Collection_Deduplication`.\\n\\n2. **Data Input Processing**:\\n   - The `Read_Tsv` function from `Utils.Utils` reads TSV files and converts them into a format usable by `Deduplication.__Main__`, typically at the pipeline's start.\\n\\n3. **MinHash Signature Generation**:\\n   - The `Minhash` function forms MinHash signatures crucial for similarity estimation, interacting with `Deduplication.Lsh.Lsh.Compute_Minhash_Signatures`, likely within the `compute_minhash_signatures` method invoked by `Deduplication.__Main__`.\\n\\n4. **Document Preprocessing**:\\n   - The `Shingle` function generates k-shingles, vital for deduplication and nearest neighbor search processes in `Deduplication.__Main__`, and is used in `Utils.Use_Cases.Nearest_Neighbor_Search`.\\n\\n5. **Module Integration**:\\n   - The `Utils.Utils` module is imported by `Deduplication.Lshimproved`, which further imports `Deduplication.__Main__`, enhancing integration in improved LSH implementations.\\n\\nThe `Utils.Utils` module also includes helper functions like `clean_document` and `split_dict` for text normalization and data manipulation, respectively. These are likely utilized throughout the deduplication process managed by `Deduplication.__Main__`. Additionally, the `majority_vote` function in `Utils.Utils` may facilitate consensus-based decisions in the deduplication algorithms.\\n\\n### Visualization Summary\\nThe visualization of the relationship between these modules includes 22 unique nodes and 44 edges, highlighting relationships such as `IMPORTS`, `USES`, and `DEFINES`, which illustrate the interplay and dependencies between the `Utils.Utils` and `Deduplication.__Main__` modules.\\n\\nIf you need to see the visualization in detail, please let me know!\", additional_kwargs={'refusal': None}, response_metadata={'token_usage': {'completion_tokens': 461, 'prompt_tokens': 21351, 'total_tokens': 21812, 'completion_tokens_details': {'accepted_prediction_tokens': 0, 'audio_tokens': 0, 'reasoning_tokens': 0, 'rejected_prediction_tokens': 0}, 'prompt_tokens_details': {'audio_tokens': 0, 'cached_tokens': 17792}}, 'model_name': 'gpt-4o-2024-08-06', 'system_fingerprint': 'fp_85bc8e3fae', 'finish_reason': 'stop', 'logprobs': None}, id='run-4d56fb54-9b58-4d11-b9ab-cff9a5715e9e-0', usage_metadata={'input_tokens': 21351, 'output_tokens': 461, 'total_tokens': 21812, 'input_token_details': {'audio': 0, 'cache_read': 17792}, 'output_token_details': {'audio': 0, 'reasoning': 0}})]}"
      ]
     },
     "execution_count": 4,
     "metadata": {},
     "output_type": "execute_result"
    }
   ],
   "source": [
    "answer"
   ]
  },
  {
   "cell_type": "code",
   "execution_count": null,
   "id": "4e262e11",
   "metadata": {},
   "outputs": [],
   "source": []
  },
  {
   "cell_type": "markdown",
   "id": "26c5fbac",
   "metadata": {},
   "source": [
    "# Entire Agent Demo"
   ]
  },
  {
   "cell_type": "code",
   "execution_count": 6,
   "id": "af1578ba",
   "metadata": {},
   "outputs": [
    {
     "name": "stdout",
     "output_type": "stream",
     "text": [
      "c:\\Users\\JaeHoBahng\\Desktop\\Georgetown\\2025_Spring\\DSAN_6725\\project\\spring-2025-final-project-project-group-2\\src\n",
      "c:\\Users\\JaeHoBahng\\Desktop\\Georgetown\\2025_Spring\\DSAN_6725\\project\\spring-2025-final-project-project-group-2\\src\n"
     ]
    }
   ],
   "source": [
    "import os\n",
    "print(os.getcwd())\n",
    "os.chdir('c:\\\\Users\\\\JaeHoBahng\\\\Desktop\\\\Georgetown\\\\2025_Spring\\\\DSAN_6725\\\\project\\\\spring-2025-final-project-project-group-2\\\\src')\n",
    "print(os.getcwd())\n"
   ]
  },
  {
   "cell_type": "code",
   "execution_count": 5,
   "id": "9ade5ea7",
   "metadata": {},
   "outputs": [
    {
     "name": "stdout",
     "output_type": "stream",
     "text": [
      "c:\\Users\\JaeHoBahng\\Desktop\\Georgetown\\2025_Spring\\DSAN_6725\\project\\spring-2025-final-project-project-group-2\\src\n",
      "c:\\Users\\JaeHoBahng\\Desktop\\Georgetown\\2025_Spring\\DSAN_6725\\project\\spring-2025-final-project-project-group-2\\src\n"
     ]
    }
   ],
   "source": [
    "import os\n",
    "print(os.getcwd())\n",
    "os.chdir('c:\\\\Users\\\\JaeHoBahng\\\\Desktop\\\\Georgetown\\\\2025_Spring\\\\DSAN_6725\\\\project\\\\spring-2025-final-project-project-group-2\\\\src')\n",
    "print(os.getcwd())\n",
    "\n",
    "\n",
    "from rag.vector_rag import create_rag_system\n",
    "\n",
    "db_setup, query_engine = create_rag_system(\n",
    "    repo_path=\"../docs/notebooks/assignment-2-mcdonald-s/src\",\n",
    "    embedding_model=\"text-embedding-3-large\",\n",
    "    llm_model=\"gpt-4o\",\n",
    ")"
   ]
  },
  {
   "cell_type": "code",
   "execution_count": null,
   "id": "04b814c4",
   "metadata": {},
   "outputs": [
    {
     "name": "stdout",
     "output_type": "stream",
     "text": [
      "\u001b[90m2025-04-24 21:24:25\u001b[0m - \u001b[36magent_router\u001b[0m - \u001b[92mINFO\u001b[0m - Building the router graph...\n",
      "\u001b[90m2025-04-24 21:24:25\u001b[0m - \u001b[36magent_router\u001b[0m - \u001b[92mINFO\u001b[0m - Compiling the router graph...\n"
     ]
    }
   ],
   "source": [
    "# from agent_router.graph import create_router_graph\n",
    "import agent_router.graph as agent_router\n",
    "from langchain_core.messages import AIMessage, HumanMessage\n",
    "from langchain.chat_models import init_chat_model\n",
    "\n",
    "import  tools.micro.tools as mt\n",
    "\n",
    "import importlib\n",
    "importlib.reload(mt)\n",
    "importlib.reload(agent_router)\n",
    "\n",
    "# import (retrieve_cypher_relationships, visualize_relationships, generate_text_response)\n",
    "\n",
    "llm = init_chat_model(\"gpt-4o\", model_provider=\"openai\")\n",
    "\n",
    "macro_tools = [\n",
    "    # generate_repo_tree,\n",
    "    # read_code_file,\n",
    "    # list_python_files,\n",
    "    # explain_code_logic,\n",
    "]\n",
    "\n",
    "# Add micro tools if available\n",
    "mt.query_engine = query_engine\n",
    "\n",
    "micro_tools = [\n",
    "    mt.retrieve_cypher_relationships,\n",
    "    mt.visualize_relationships,\n",
    "    mt.generate_text_response,\n",
    "]\n",
    "graph = agent_router.create_router_graph(\n",
    "            llm=llm, macro_tools=macro_tools, micro_tools=micro_tools\n",
    "        )"
   ]
  },
  {
   "cell_type": "code",
   "execution_count": 9,
   "id": "6f467793",
   "metadata": {},
   "outputs": [],
   "source": [
    "import uuid\n",
    "thread_id = str(uuid.uuid4())\n",
    "config = {\"configurable\": {\"thread_id\": thread_id}}"
   ]
  },
  {
   "cell_type": "code",
   "execution_count": 10,
   "id": "ce8ec6da",
   "metadata": {},
   "outputs": [
    {
     "name": "stdout",
     "output_type": "stream",
     "text": [
      "\u001b[90m2025-04-24 21:24:29\u001b[0m - \u001b[36magent_router\u001b[0m - \u001b[92mINFO\u001b[0m - Supervisor decided to route to: micro\n",
      "\u001b[90m2025-04-24 21:24:29\u001b[0m - \u001b[36magent_router\u001b[0m - \u001b[92mINFO\u001b[0m - Micro agent is processing...\n",
      "\u001b[90m2025-04-24 21:24:42\u001b[0m - \u001b[36magent_router\u001b[0m - \u001b[92mINFO\u001b[0m - Tool Call: Cypher query generated -> {'answer': '- The `Utils.Utils` module is defined in the `Utils.Utils.Unionfind`, which uses `Utils.Use_Cases.Collection_Deduplication`. This is part of `Utils.Use_Cases` that defines `Utils.Use_Cases.Nearest_Neighbor_Search`, all of which are imported into the `Deduplication.__Main__` module.\\n- The `Utils.Utils.Unionfind` uses `Utils.Use_Cases.Collection_Deduplication`; this, in turn, is indirectly used in `Deduplication.__Main__`.\\n- The functionality in `Utils.Utils` indirectly influences parts of `Deduplication.__Main__` through its associations with `Utils.Utils.Read_Tsv` and various other modules that are part of `Deduplication`.\\n- The `Deduplication.__Main__.Model` defined in `Deduplication.__Main__` uses various implementations in `Deduplication.Lshforest.Lshforest`, `Deduplication.Lshimproved.Lshimproved`, and `Deduplication.Lsh.Lsh`, all of which are connected to `Utils.Utils` through indirect usage pathways.\\n- Additionally, `Utils.Utils` is connected to logging and memory usage functions within `Deduplication.__Main__`, as well as interactions with `Psutil` and `Os`, which are used in `Deduplication.__Main__.Log_Memory_Usage`.', 'steps': ['generate_cypher', 'execute_cypher', 'generate_final_answer'], 'cypher_statement': \"MATCH path = (m1:Module {id: 'Utils.Utils'})-[*..10]-(m2:Module {id: 'Deduplication.__Main__'}) RETURN path LIMIT 50\", 'cypher_results': [{'path': [{'id': 'Utils.Utils'}, 'DEFINED_IN', {'id': 'Utils.Utils.Unionfind'}, 'USES', {'id': 'Utils.Use_Cases.Collection_Deduplication'}, 'DEFINES', {'id': 'Utils.Use_Cases'}, 'DEFINES', {'id': 'Utils.Use_Cases.Nearest_Neighbor_Search'}, 'IMPORTED_IN', {'id': 'Deduplication.__Main__'}]}, {'path': [{'id': 'Utils.Utils'}, 'DEFINED_IN', {'id': 'Utils.Utils.Unionfind'}, 'USES', {'id': 'Utils.Use_Cases.Collection_Deduplication'}, 'DEFINES', {'id': 'Utils.Use_Cases'}, 'DEFINES', {'id': 'Utils.Use_Cases.Nearest_Neighbor_Search'}, 'IMPORTED_IN', {'id': 'Deduplication.__Main__'}, 'INDIRECTLY_USED_IN', {'id': 'Utils.Use_Cases.Collection_Deduplication'}, 'IMPORTED_IN', {'id': 'Deduplication.__Main__'}]}, {'path': [{'id': 'Utils.Utils'}, 'DEFINED_IN', {'id': 'Utils.Utils.Unionfind'}, 'USES', {'id': 'Utils.Use_Cases.Collection_Deduplication'}, 'DEFINES', {'id': 'Utils.Use_Cases'}, 'DEFINES', {'id': 'Utils.Use_Cases.Nearest_Neighbor_Search'}, 'IMPORTED_IN', {'id': 'Deduplication.__Main__'}, 'INDIRECTLY_USED_IN', {'id': 'Utils.Use_Cases.Collection_Deduplication'}, 'IMPORTED_IN', {'id': 'Deduplication.__Main__'}, 'INDIRECTLY_USED_IN', {'id': 'Utils.Utils.Read_Tsv'}, 'IMPORTED_IN', {'id': 'Deduplication.__Main__'}]}, {'path': [{'id': 'Utils.Utils'}, 'DEFINED_IN', {'id': 'Utils.Utils.Unionfind'}, 'USES', {'id': 'Utils.Use_Cases.Collection_Deduplication'}, 'DEFINES', {'id': 'Utils.Use_Cases'}, 'DEFINES', {'id': 'Utils.Use_Cases.Nearest_Neighbor_Search'}, 'IMPORTED_IN', {'id': 'Deduplication.__Main__'}, 'INDIRECTLY_USED_IN', {'id': 'Utils.Use_Cases.Collection_Deduplication'}, 'IMPORTED_IN', {'id': 'Deduplication.__Main__'}, 'IMPORTED_IN', {'id': 'Utils.Utils.Read_Tsv'}, 'INDIRECTLY_USED_IN', {'id': 'Deduplication.__Main__'}]}, {'path': [{'id': 'Utils.Utils'}, 'DEFINED_IN', {'id': 'Utils.Utils.Unionfind'}, 'USES', {'id': 'Utils.Use_Cases.Collection_Deduplication'}, 'DEFINES', {'id': 'Utils.Use_Cases'}, 'DEFINES', {'id': 'Utils.Use_Cases.Nearest_Neighbor_Search'}, 'IMPORTED_IN', {'id': 'Deduplication.__Main__'}, 'INDIRECTLY_USED_IN', {'id': 'Utils.Use_Cases.Collection_Deduplication'}, 'IMPORTED_IN', {'id': 'Deduplication.__Main__'}, 'IMPORTED_IN', {'id': 'Deduplication.Lshforest.Lshforest'}, 'USED_IN', {'id': 'Deduplication.__Main__.Model'}, 'DEFINED_IN', {'id': 'Deduplication.__Main__'}]}, {'path': [{'id': 'Utils.Utils'}, 'DEFINED_IN', {'id': 'Utils.Utils.Unionfind'}, 'USES', {'id': 'Utils.Use_Cases.Collection_Deduplication'}, 'DEFINES', {'id': 'Utils.Use_Cases'}, 'DEFINES', {'id': 'Utils.Use_Cases.Nearest_Neighbor_Search'}, 'IMPORTED_IN', {'id': 'Deduplication.__Main__'}, 'INDIRECTLY_USED_IN', {'id': 'Utils.Use_Cases.Collection_Deduplication'}, 'IMPORTED_IN', {'id': 'Deduplication.__Main__'}, 'IMPORTED_IN', {'id': 'Deduplication.Lshimproved.Lshimproved'}, 'USED_IN', {'id': 'Deduplication.__Main__.Model'}, 'DEFINED_IN', {'id': 'Deduplication.__Main__'}]}, {'path': [{'id': 'Utils.Utils'}, 'DEFINED_IN', {'id': 'Utils.Utils.Unionfind'}, 'USES', {'id': 'Utils.Use_Cases.Collection_Deduplication'}, 'DEFINES', {'id': 'Utils.Use_Cases'}, 'DEFINES', {'id': 'Utils.Use_Cases.Nearest_Neighbor_Search'}, 'IMPORTED_IN', {'id': 'Deduplication.__Main__'}, 'INDIRECTLY_USED_IN', {'id': 'Utils.Use_Cases.Collection_Deduplication'}, 'IMPORTED_IN', {'id': 'Deduplication.__Main__'}, 'IMPORTED_IN', {'id': 'Deduplication.Lsh.Lsh'}, 'RETURNS_INSTANCE_OF', {'id': 'Deduplication.__Main__.Model'}, 'DEFINED_IN', {'id': 'Deduplication.__Main__'}]}, {'path': [{'id': 'Utils.Utils'}, 'DEFINED_IN', {'id': 'Utils.Utils.Unionfind'}, 'USES', {'id': 'Utils.Use_Cases.Collection_Deduplication'}, 'DEFINES', {'id': 'Utils.Use_Cases'}, 'DEFINES', {'id': 'Utils.Use_Cases.Nearest_Neighbor_Search'}, 'IMPORTED_IN', {'id': 'Deduplication.__Main__'}, 'INDIRECTLY_USED_IN', {'id': 'Utils.Use_Cases.Collection_Deduplication'}, 'IMPORTED_IN', {'id': 'Deduplication.__Main__'}, 'IMPORTED_IN', {'id': 'Deduplication.Lsh.Lsh'}, 'USED_IN', {'id': 'Deduplication.__Main__.Model'}, 'DEFINED_IN', {'id': 'Deduplication.__Main__'}]}, {'path': [{'id': 'Utils.Utils'}, 'DEFINED_IN', {'id': 'Utils.Utils.Unionfind'}, 'USES', {'id': 'Utils.Use_Cases.Collection_Deduplication'}, 'DEFINES', {'id': 'Utils.Use_Cases'}, 'DEFINES', {'id': 'Utils.Use_Cases.Nearest_Neighbor_Search'}, 'IMPORTED_IN', {'id': 'Deduplication.__Main__'}, 'INDIRECTLY_USED_IN', {'id': 'Utils.Use_Cases.Collection_Deduplication'}, 'IMPORTED_IN', {'id': 'Deduplication.__Main__'}, 'USED_IN', {'id': 'Psutil'}, 'USED_IN', {'id': 'Deduplication.__Main__.Log_Memory_Usage'}, 'DEFINED_IN', {'id': 'Deduplication.__Main__'}]}, {'path': [{'id': 'Utils.Utils'}, 'DEFINED_IN', {'id': 'Utils.Utils.Unionfind'}, 'USES', {'id': 'Utils.Use_Cases.Collection_Deduplication'}, 'DEFINES', {'id': 'Utils.Use_Cases'}, 'DEFINES', {'id': 'Utils.Use_Cases.Nearest_Neighbor_Search'}, 'IMPORTED_IN', {'id': 'Deduplication.__Main__'}, 'INDIRECTLY_USED_IN', {'id': 'Utils.Use_Cases.Collection_Deduplication'}, 'IMPORTED_IN', {'id': 'Deduplication.__Main__'}, 'USED_IN', {'id': 'Os'}, 'USED_IN', {'id': 'Deduplication.__Main__.Log_Memory_Usage'}, 'DEFINED_IN', {'id': 'Deduplication.__Main__'}]}, {'path': [{'id': 'Utils.Utils'}, 'DEFINED_IN', {'id': 'Utils.Utils.Unionfind'}, 'USES', {'id': 'Utils.Use_Cases.Collection_Deduplication'}, 'DEFINES', {'id': 'Utils.Use_Cases'}, 'DEFINES', {'id': 'Utils.Use_Cases.Nearest_Neighbor_Search'}, 'IMPORTED_IN', {'id': 'Deduplication.__Main__'}, 'INDIRECTLY_USED_IN', {'id': 'Utils.Use_Cases.Collection_Deduplication'}, 'IMPORTED_IN', {'id': 'Deduplication.__Main__'}, 'USED_IN', {'id': 'Logging'}, 'USED_IN', {'id': 'Deduplication.__Main__.Model'}, 'DEFINED_IN', {'id': 'Deduplication.__Main__'}]}, {'path': [{'id': 'Utils.Utils'}, 'DEFINED_IN', {'id': 'Utils.Utils.Unionfind'}, 'USES', {'id': 'Utils.Use_Cases.Collection_Deduplication'}, 'DEFINES', {'id': 'Utils.Use_Cases'}, 'DEFINES', {'id': 'Utils.Use_Cases.Nearest_Neighbor_Search'}, 'IMPORTED_IN', {'id': 'Deduplication.__Main__'}, 'INDIRECTLY_USED_IN', {'id': 'Utils.Use_Cases.Collection_Deduplication'}, 'IMPORTED_IN', {'id': 'Deduplication.__Main__'}, 'USED_IN', {'id': 'Logging'}, 'USED_IN', {'id': 'Deduplication.__Main__.Log_Memory_Usage'}, 'DEFINED_IN', {'id': 'Deduplication.__Main__'}]}, {'path': [{'id': 'Utils.Utils'}, 'DEFINED_IN', {'id': 'Utils.Utils.Unionfind'}, 'USES', {'id': 'Utils.Use_Cases.Collection_Deduplication'}, 'DEFINES', {'id': 'Utils.Use_Cases'}, 'DEFINES', {'id': 'Utils.Use_Cases.Nearest_Neighbor_Search'}, 'IMPORTED_IN', {'id': 'Deduplication.__Main__'}, 'INDIRECTLY_USED_IN', {'id': 'Utils.Use_Cases.Collection_Deduplication'}, 'IMPORTED_IN', {'id': 'Deduplication.__Main__'}, 'USED_IN', {'id': 'Time'}, 'USED_IN', {'id': 'Deduplication.__Main__.Model'}, 'DEFINED_IN', {'id': 'Deduplication.__Main__'}]}, {'path': [{'id': 'Utils.Utils'}, 'DEFINED_IN', {'id': 'Utils.Utils.Unionfind'}, 'USES', {'id': 'Utils.Use_Cases.Collection_Deduplication'}, 'DEFINES', {'id': 'Utils.Use_Cases'}, 'DEFINES', {'id': 'Utils.Use_Cases.Nearest_Neighbor_Search'}, 'IMPORTED_IN', {'id': 'Deduplication.__Main__'}, 'INDIRECTLY_USED_IN', {'id': 'Utils.Use_Cases.Collection_Deduplication'}, 'IMPORTED_IN', {'id': 'Deduplication.__Main__'}, 'DEFINED_IN', {'id': 'Deduplication.__Main__.Model'}, 'RETURNS_INSTANCE_OF', {'id': 'Deduplication.Lsh.Lsh'}, 'IMPORTED_IN', {'id': 'Deduplication.__Main__'}]}, {'path': [{'id': 'Utils.Utils'}, 'DEFINED_IN', {'id': 'Utils.Utils.Unionfind'}, 'USES', {'id': 'Utils.Use_Cases.Collection_Deduplication'}, 'DEFINES', {'id': 'Utils.Use_Cases'}, 'DEFINES', {'id': 'Utils.Use_Cases.Nearest_Neighbor_Search'}, 'IMPORTED_IN', {'id': 'Deduplication.__Main__'}, 'INDIRECTLY_USED_IN', {'id': 'Utils.Use_Cases.Collection_Deduplication'}, 'IMPORTED_IN', {'id': 'Deduplication.__Main__'}, 'DEFINED_IN', {'id': 'Deduplication.__Main__.Model'}, 'USED_IN', {'id': 'Deduplication.Lshforest.Lshforest'}, 'IMPORTED_IN', {'id': 'Deduplication.__Main__'}]}, {'path': [{'id': 'Utils.Utils'}, 'DEFINED_IN', {'id': 'Utils.Utils.Unionfind'}, 'USES', {'id': 'Utils.Use_Cases.Collection_Deduplication'}, 'DEFINES', {'id': 'Utils.Use_Cases'}, 'DEFINES', {'id': 'Utils.Use_Cases.Nearest_Neighbor_Search'}, 'IMPORTED_IN', {'id': 'Deduplication.__Main__'}, 'INDIRECTLY_USED_IN', {'id': 'Utils.Use_Cases.Collection_Deduplication'}, 'IMPORTED_IN', {'id': 'Deduplication.__Main__'}, 'DEFINED_IN', {'id': 'Deduplication.__Main__.Model'}, 'USED_IN', {'id': 'Deduplication.Lshimproved.Lshimproved'}, 'IMPORTED_IN', {'id': 'Deduplication.__Main__'}]}, {'path': [{'id': 'Utils.Utils'}, 'DEFINED_IN', {'id': 'Utils.Utils.Unionfind'}, 'USES', {'id': 'Utils.Use_Cases.Collection_Deduplication'}, 'DEFINES', {'id': 'Utils.Use_Cases'}, 'DEFINES', {'id': 'Utils.Use_Cases.Nearest_Neighbor_Search'}, 'IMPORTED_IN', {'id': 'Deduplication.__Main__'}, 'INDIRECTLY_USED_IN', {'id': 'Utils.Use_Cases.Collection_Deduplication'}, 'IMPORTED_IN', {'id': 'Deduplication.__Main__'}, 'DEFINED_IN', {'id': 'Deduplication.__Main__.Model'}, 'USED_IN', {'id': 'Deduplication.Lsh.Lsh'}, 'IMPORTED_IN', {'id': 'Deduplication.__Main__'}]}, {'path': [{'id': 'Utils.Utils'}, 'DEFINED_IN', {'id': 'Utils.Utils.Unionfind'}, 'USES', {'id': 'Utils.Use_Cases.Collection_Deduplication'}, 'DEFINES', {'id': 'Utils.Use_Cases'}, 'DEFINES', {'id': 'Utils.Use_Cases.Nearest_Neighbor_Search'}, 'IMPORTED_IN', {'id': 'Deduplication.__Main__'}, 'INDIRECTLY_USED_IN', {'id': 'Utils.Use_Cases.Collection_Deduplication'}, 'IMPORTED_IN', {'id': 'Deduplication.__Main__'}, 'DEFINED_IN', {'id': 'Deduplication.__Main__.Model'}, 'USED_IN', {'id': 'Logging'}, 'USED_IN', {'id': 'Deduplication.__Main__'}]}, {'path': [{'id': 'Utils.Utils'}, 'DEFINED_IN', {'id': 'Utils.Utils.Unionfind'}, 'USES', {'id': 'Utils.Use_Cases.Collection_Deduplication'}, 'DEFINES', {'id': 'Utils.Use_Cases'}, 'DEFINES', {'id': 'Utils.Use_Cases.Nearest_Neighbor_Search'}, 'IMPORTED_IN', {'id': 'Deduplication.__Main__'}, 'INDIRECTLY_USED_IN', {'id': 'Utils.Use_Cases.Collection_Deduplication'}, 'IMPORTED_IN', {'id': 'Deduplication.__Main__'}, 'DEFINED_IN', {'id': 'Deduplication.__Main__.Model'}, 'USED_IN', {'id': 'Time'}, 'USED_IN', {'id': 'Deduplication.__Main__'}]}, {'path': [{'id': 'Utils.Utils'}, 'DEFINED_IN', {'id': 'Utils.Utils.Unionfind'}, 'USES', {'id': 'Utils.Use_Cases.Collection_Deduplication'}, 'DEFINES', {'id': 'Utils.Use_Cases'}, 'DEFINES', {'id': 'Utils.Use_Cases.Nearest_Neighbor_Search'}, 'IMPORTED_IN', {'id': 'Deduplication.__Main__'}, 'INDIRECTLY_USED_IN', {'id': 'Utils.Use_Cases.Collection_Deduplication'}, 'IMPORTED_IN', {'id': 'Deduplication.__Main__'}, 'DEFINED_IN', {'id': 'Deduplication.__Main__.Log_Memory_Usage'}, 'USED_IN', {'id': 'Psutil'}, 'USED_IN', {'id': 'Deduplication.__Main__'}]}, {'path': [{'id': 'Utils.Utils'}, 'DEFINED_IN', {'id': 'Utils.Utils.Unionfind'}, 'USES', {'id': 'Utils.Use_Cases.Collection_Deduplication'}, 'DEFINES', {'id': 'Utils.Use_Cases'}, 'DEFINES', {'id': 'Utils.Use_Cases.Nearest_Neighbor_Search'}, 'IMPORTED_IN', {'id': 'Deduplication.__Main__'}, 'INDIRECTLY_USED_IN', {'id': 'Utils.Use_Cases.Collection_Deduplication'}, 'IMPORTED_IN', {'id': 'Deduplication.__Main__'}, 'DEFINED_IN', {'id': 'Deduplication.__Main__.Log_Memory_Usage'}, 'USED_IN', {'id': 'Os'}, 'USED_IN', {'id': 'Deduplication.__Main__'}]}, {'path': [{'id': 'Utils.Utils'}, 'DEFINED_IN', {'id': 'Utils.Utils.Unionfind'}, 'USES', {'id': 'Utils.Use_Cases.Collection_Deduplication'}, 'DEFINES', {'id': 'Utils.Use_Cases'}, 'DEFINES', {'id': 'Utils.Use_Cases.Nearest_Neighbor_Search'}, 'IMPORTED_IN', {'id': 'Deduplication.__Main__'}, 'INDIRECTLY_USED_IN', {'id': 'Utils.Use_Cases.Collection_Deduplication'}, 'IMPORTED_IN', {'id': 'Deduplication.__Main__'}, 'DEFINED_IN', {'id': 'Deduplication.__Main__.Log_Memory_Usage'}, 'USED_IN', {'id': 'Logging'}, 'USED_IN', {'id': 'Deduplication.__Main__'}]}, {'path': [{'id': 'Utils.Utils'}, 'DEFINED_IN', {'id': 'Utils.Utils.Unionfind'}, 'USES', {'id': 'Utils.Use_Cases.Collection_Deduplication'}, 'DEFINES', {'id': 'Utils.Use_Cases'}, 'DEFINES', {'id': 'Utils.Use_Cases.Nearest_Neighbor_Search'}, 'IMPORTED_IN', {'id': 'Deduplication.__Main__'}, 'INDIRECTLY_USED_IN', {'id': 'Utils.Use_Cases.Collection_Deduplication'}, 'USES', {'id': 'Collections'}, 'USED_IN', {'id': 'Deduplication.Dedup.Baseline.Tokenize'}, 'DEFINED_IN', {'id': 'Deduplication.Dedup.Baseline'}, 'IMPORTED_IN', {'id': 'Deduplication.__Main__'}]}, {'path': [{'id': 'Utils.Utils'}, 'DEFINED_IN', {'id': 'Utils.Utils.Unionfind'}, 'USES', {'id': 'Utils.Use_Cases.Collection_Deduplication'}, 'DEFINES', {'id': 'Utils.Use_Cases'}, 'DEFINES', {'id': 'Utils.Use_Cases.Nearest_Neighbor_Search'}, 'IMPORTED_IN', {'id': 'Deduplication.__Main__'}, 'INDIRECTLY_USED_IN', {'id': 'Utils.Utils.Read_Tsv'}, 'IMPORTED_IN', {'id': 'Deduplication.__Main__'}]}, {'path': [{'id': 'Utils.Utils'}, 'DEFINED_IN', {'id': 'Utils.Utils.Unionfind'}, 'USES', {'id': 'Utils.Use_Cases.Collection_Deduplication'}, 'DEFINES', {'id': 'Utils.Use_Cases'}, 'DEFINES', {'id': 'Utils.Use_Cases.Nearest_Neighbor_Search'}, 'IMPORTED_IN', {'id': 'Deduplication.__Main__'}, 'INDIRECTLY_USED_IN', {'id': 'Utils.Utils.Read_Tsv'}, 'IMPORTED_IN', {'id': 'Deduplication.__Main__'}, 'INDIRECTLY_USED_IN', {'id': 'Utils.Use_Cases.Collection_Deduplication'}, 'IMPORTED_IN', {'id': 'Deduplication.__Main__'}]}, {'path': [{'id': 'Utils.Utils'}, 'DEFINED_IN', {'id': 'Utils.Utils.Unionfind'}, 'USES', {'id': 'Utils.Use_Cases.Collection_Deduplication'}, 'DEFINES', {'id': 'Utils.Use_Cases'}, 'DEFINES', {'id': 'Utils.Use_Cases.Nearest_Neighbor_Search'}, 'IMPORTED_IN', {'id': 'Deduplication.__Main__'}, 'INDIRECTLY_USED_IN', {'id': 'Utils.Utils.Read_Tsv'}, 'IMPORTED_IN', {'id': 'Deduplication.__Main__'}, 'IMPORTED_IN', {'id': 'Utils.Use_Cases.Collection_Deduplication'}, 'INDIRECTLY_USED_IN', {'id': 'Deduplication.__Main__'}]}, {'path': [{'id': 'Utils.Utils'}, 'DEFINED_IN', {'id': 'Utils.Utils.Unionfind'}, 'USES', {'id': 'Utils.Use_Cases.Collection_Deduplication'}, 'DEFINES', {'id': 'Utils.Use_Cases'}, 'DEFINES', {'id': 'Utils.Use_Cases.Nearest_Neighbor_Search'}, 'IMPORTED_IN', {'id': 'Deduplication.__Main__'}, 'INDIRECTLY_USED_IN', {'id': 'Utils.Utils.Read_Tsv'}, 'IMPORTED_IN', {'id': 'Deduplication.__Main__'}, 'IMPORTED_IN', {'id': 'Deduplication.Lshforest.Lshforest'}, 'USED_IN', {'id': 'Deduplication.__Main__.Model'}, 'DEFINED_IN', {'id': 'Deduplication.__Main__'}]}, {'path': [{'id': 'Utils.Utils'}, 'DEFINED_IN', {'id': 'Utils.Utils.Unionfind'}, 'USES', {'id': 'Utils.Use_Cases.Collection_Deduplication'}, 'DEFINES', {'id': 'Utils.Use_Cases'}, 'DEFINES', {'id': 'Utils.Use_Cases.Nearest_Neighbor_Search'}, 'IMPORTED_IN', {'id': 'Deduplication.__Main__'}, 'INDIRECTLY_USED_IN', {'id': 'Utils.Utils.Read_Tsv'}, 'IMPORTED_IN', {'id': 'Deduplication.__Main__'}, 'IMPORTED_IN', {'id': 'Deduplication.Lshimproved.Lshimproved'}, 'USED_IN', {'id': 'Deduplication.__Main__.Model'}, 'DEFINED_IN', {'id': 'Deduplication.__Main__'}]}, {'path': [{'id': 'Utils.Utils'}, 'DEFINED_IN', {'id': 'Utils.Utils.Unionfind'}, 'USES', {'id': 'Utils.Use_Cases.Collection_Deduplication'}, 'DEFINES', {'id': 'Utils.Use_Cases'}, 'DEFINES', {'id': 'Utils.Use_Cases.Nearest_Neighbor_Search'}, 'IMPORTED_IN', {'id': 'Deduplication.__Main__'}, 'INDIRECTLY_USED_IN', {'id': 'Utils.Utils.Read_Tsv'}, 'IMPORTED_IN', {'id': 'Deduplication.__Main__'}, 'IMPORTED_IN', {'id': 'Deduplication.Lsh.Lsh'}, 'RETURNS_INSTANCE_OF', {'id': 'Deduplication.__Main__.Model'}, 'DEFINED_IN', {'id': 'Deduplication.__Main__'}]}, {'path': [{'id': 'Utils.Utils'}, 'DEFINED_IN', {'id': 'Utils.Utils.Unionfind'}, 'USES', {'id': 'Utils.Use_Cases.Collection_Deduplication'}, 'DEFINES', {'id': 'Utils.Use_Cases'}, 'DEFINES', {'id': 'Utils.Use_Cases.Nearest_Neighbor_Search'}, 'IMPORTED_IN', {'id': 'Deduplication.__Main__'}, 'INDIRECTLY_USED_IN', {'id': 'Utils.Utils.Read_Tsv'}, 'IMPORTED_IN', {'id': 'Deduplication.__Main__'}, 'IMPORTED_IN', {'id': 'Deduplication.Lsh.Lsh'}, 'USED_IN', {'id': 'Deduplication.__Main__.Model'}, 'DEFINED_IN', {'id': 'Deduplication.__Main__'}]}, {'path': [{'id': 'Utils.Utils'}, 'DEFINED_IN', {'id': 'Utils.Utils.Unionfind'}, 'USES', {'id': 'Utils.Use_Cases.Collection_Deduplication'}, 'DEFINES', {'id': 'Utils.Use_Cases'}, 'DEFINES', {'id': 'Utils.Use_Cases.Nearest_Neighbor_Search'}, 'IMPORTED_IN', {'id': 'Deduplication.__Main__'}, 'INDIRECTLY_USED_IN', {'id': 'Utils.Utils.Read_Tsv'}, 'IMPORTED_IN', {'id': 'Deduplication.__Main__'}, 'USED_IN', {'id': 'Psutil'}, 'USED_IN', {'id': 'Deduplication.__Main__.Log_Memory_Usage'}, 'DEFINED_IN', {'id': 'Deduplication.__Main__'}]}, {'path': [{'id': 'Utils.Utils'}, 'DEFINED_IN', {'id': 'Utils.Utils.Unionfind'}, 'USES', {'id': 'Utils.Use_Cases.Collection_Deduplication'}, 'DEFINES', {'id': 'Utils.Use_Cases'}, 'DEFINES', {'id': 'Utils.Use_Cases.Nearest_Neighbor_Search'}, 'IMPORTED_IN', {'id': 'Deduplication.__Main__'}, 'INDIRECTLY_USED_IN', {'id': 'Utils.Utils.Read_Tsv'}, 'IMPORTED_IN', {'id': 'Deduplication.__Main__'}, 'USED_IN', {'id': 'Os'}, 'USED_IN', {'id': 'Deduplication.__Main__.Log_Memory_Usage'}, 'DEFINED_IN', {'id': 'Deduplication.__Main__'}]}, {'path': [{'id': 'Utils.Utils'}, 'DEFINED_IN', {'id': 'Utils.Utils.Unionfind'}, 'USES', {'id': 'Utils.Use_Cases.Collection_Deduplication'}, 'DEFINES', {'id': 'Utils.Use_Cases'}, 'DEFINES', {'id': 'Utils.Use_Cases.Nearest_Neighbor_Search'}, 'IMPORTED_IN', {'id': 'Deduplication.__Main__'}, 'INDIRECTLY_USED_IN', {'id': 'Utils.Utils.Read_Tsv'}, 'IMPORTED_IN', {'id': 'Deduplication.__Main__'}, 'USED_IN', {'id': 'Logging'}, 'USED_IN', {'id': 'Deduplication.__Main__.Model'}, 'DEFINED_IN', {'id': 'Deduplication.__Main__'}]}, {'path': [{'id': 'Utils.Utils'}, 'DEFINED_IN', {'id': 'Utils.Utils.Unionfind'}, 'USES', {'id': 'Utils.Use_Cases.Collection_Deduplication'}, 'DEFINES', {'id': 'Utils.Use_Cases'}, 'DEFINES', {'id': 'Utils.Use_Cases.Nearest_Neighbor_Search'}, 'IMPORTED_IN', {'id': 'Deduplication.__Main__'}, 'INDIRECTLY_USED_IN', {'id': 'Utils.Utils.Read_Tsv'}, 'IMPORTED_IN', {'id': 'Deduplication.__Main__'}, 'USED_IN', {'id': 'Logging'}, 'USED_IN', {'id': 'Deduplication.__Main__.Log_Memory_Usage'}, 'DEFINED_IN', {'id': 'Deduplication.__Main__'}]}, {'path': [{'id': 'Utils.Utils'}, 'DEFINED_IN', {'id': 'Utils.Utils.Unionfind'}, 'USES', {'id': 'Utils.Use_Cases.Collection_Deduplication'}, 'DEFINES', {'id': 'Utils.Use_Cases'}, 'DEFINES', {'id': 'Utils.Use_Cases.Nearest_Neighbor_Search'}, 'IMPORTED_IN', {'id': 'Deduplication.__Main__'}, 'INDIRECTLY_USED_IN', {'id': 'Utils.Utils.Read_Tsv'}, 'IMPORTED_IN', {'id': 'Deduplication.__Main__'}, 'USED_IN', {'id': 'Time'}, 'USED_IN', {'id': 'Deduplication.__Main__.Model'}, 'DEFINED_IN', {'id': 'Deduplication.__Main__'}]}, {'path': [{'id': 'Utils.Utils'}, 'DEFINED_IN', {'id': 'Utils.Utils.Unionfind'}, 'USES', {'id': 'Utils.Use_Cases.Collection_Deduplication'}, 'DEFINES', {'id': 'Utils.Use_Cases'}, 'DEFINES', {'id': 'Utils.Use_Cases.Nearest_Neighbor_Search'}, 'IMPORTED_IN', {'id': 'Deduplication.__Main__'}, 'INDIRECTLY_USED_IN', {'id': 'Utils.Utils.Read_Tsv'}, 'IMPORTED_IN', {'id': 'Deduplication.__Main__'}, 'DEFINED_IN', {'id': 'Deduplication.__Main__.Model'}, 'RETURNS_INSTANCE_OF', {'id': 'Deduplication.Lsh.Lsh'}, 'IMPORTED_IN', {'id': 'Deduplication.__Main__'}]}, {'path': [{'id': 'Utils.Utils'}, 'DEFINED_IN', {'id': 'Utils.Utils.Unionfind'}, 'USES', {'id': 'Utils.Use_Cases.Collection_Deduplication'}, 'DEFINES', {'id': 'Utils.Use_Cases'}, 'DEFINES', {'id': 'Utils.Use_Cases.Nearest_Neighbor_Search'}, 'IMPORTED_IN', {'id': 'Deduplication.__Main__'}, 'INDIRECTLY_USED_IN', {'id': 'Utils.Utils.Read_Tsv'}, 'IMPORTED_IN', {'id': 'Deduplication.__Main__'}, 'DEFINED_IN', {'id': 'Deduplication.__Main__.Model'}, 'USED_IN', {'id': 'Deduplication.Lshforest.Lshforest'}, 'IMPORTED_IN', {'id': 'Deduplication.__Main__'}]}, {'path': [{'id': 'Utils.Utils'}, 'DEFINED_IN', {'id': 'Utils.Utils.Unionfind'}, 'USES', {'id': 'Utils.Use_Cases.Collection_Deduplication'}, 'DEFINES', {'id': 'Utils.Use_Cases'}, 'DEFINES', {'id': 'Utils.Use_Cases.Nearest_Neighbor_Search'}, 'IMPORTED_IN', {'id': 'Deduplication.__Main__'}, 'INDIRECTLY_USED_IN', {'id': 'Utils.Utils.Read_Tsv'}, 'IMPORTED_IN', {'id': 'Deduplication.__Main__'}, 'DEFINED_IN', {'id': 'Deduplication.__Main__.Model'}, 'USED_IN', {'id': 'Deduplication.Lshimproved.Lshimproved'}, 'IMPORTED_IN', {'id': 'Deduplication.__Main__'}]}, {'path': [{'id': 'Utils.Utils'}, 'DEFINED_IN', {'id': 'Utils.Utils.Unionfind'}, 'USES', {'id': 'Utils.Use_Cases.Collection_Deduplication'}, 'DEFINES', {'id': 'Utils.Use_Cases'}, 'DEFINES', {'id': 'Utils.Use_Cases.Nearest_Neighbor_Search'}, 'IMPORTED_IN', {'id': 'Deduplication.__Main__'}, 'INDIRECTLY_USED_IN', {'id': 'Utils.Utils.Read_Tsv'}, 'IMPORTED_IN', {'id': 'Deduplication.__Main__'}, 'DEFINED_IN', {'id': 'Deduplication.__Main__.Model'}, 'USED_IN', {'id': 'Deduplication.Lsh.Lsh'}, 'IMPORTED_IN', {'id': 'Deduplication.__Main__'}]}, {'path': [{'id': 'Utils.Utils'}, 'DEFINED_IN', {'id': 'Utils.Utils.Unionfind'}, 'USES', {'id': 'Utils.Use_Cases.Collection_Deduplication'}, 'DEFINES', {'id': 'Utils.Use_Cases'}, 'DEFINES', {'id': 'Utils.Use_Cases.Nearest_Neighbor_Search'}, 'IMPORTED_IN', {'id': 'Deduplication.__Main__'}, 'INDIRECTLY_USED_IN', {'id': 'Utils.Utils.Read_Tsv'}, 'IMPORTED_IN', {'id': 'Deduplication.__Main__'}, 'DEFINED_IN', {'id': 'Deduplication.__Main__.Model'}, 'USED_IN', {'id': 'Logging'}, 'USED_IN', {'id': 'Deduplication.__Main__'}]}, {'path': [{'id': 'Utils.Utils'}, 'DEFINED_IN', {'id': 'Utils.Utils.Unionfind'}, 'USES', {'id': 'Utils.Use_Cases.Collection_Deduplication'}, 'DEFINES', {'id': 'Utils.Use_Cases'}, 'DEFINES', {'id': 'Utils.Use_Cases.Nearest_Neighbor_Search'}, 'IMPORTED_IN', {'id': 'Deduplication.__Main__'}, 'INDIRECTLY_USED_IN', {'id': 'Utils.Utils.Read_Tsv'}, 'IMPORTED_IN', {'id': 'Deduplication.__Main__'}, 'DEFINED_IN', {'id': 'Deduplication.__Main__.Model'}, 'USED_IN', {'id': 'Time'}, 'USED_IN', {'id': 'Deduplication.__Main__'}]}, {'path': [{'id': 'Utils.Utils'}, 'DEFINED_IN', {'id': 'Utils.Utils.Unionfind'}, 'USES', {'id': 'Utils.Use_Cases.Collection_Deduplication'}, 'DEFINES', {'id': 'Utils.Use_Cases'}, 'DEFINES', {'id': 'Utils.Use_Cases.Nearest_Neighbor_Search'}, 'IMPORTED_IN', {'id': 'Deduplication.__Main__'}, 'INDIRECTLY_USED_IN', {'id': 'Utils.Utils.Read_Tsv'}, 'IMPORTED_IN', {'id': 'Deduplication.__Main__'}, 'DEFINED_IN', {'id': 'Deduplication.__Main__.Log_Memory_Usage'}, 'USED_IN', {'id': 'Psutil'}, 'USED_IN', {'id': 'Deduplication.__Main__'}]}, {'path': [{'id': 'Utils.Utils'}, 'DEFINED_IN', {'id': 'Utils.Utils.Unionfind'}, 'USES', {'id': 'Utils.Use_Cases.Collection_Deduplication'}, 'DEFINES', {'id': 'Utils.Use_Cases'}, 'DEFINES', {'id': 'Utils.Use_Cases.Nearest_Neighbor_Search'}, 'IMPORTED_IN', {'id': 'Deduplication.__Main__'}, 'INDIRECTLY_USED_IN', {'id': 'Utils.Utils.Read_Tsv'}, 'IMPORTED_IN', {'id': 'Deduplication.__Main__'}, 'DEFINED_IN', {'id': 'Deduplication.__Main__.Log_Memory_Usage'}, 'USED_IN', {'id': 'Os'}, 'USED_IN', {'id': 'Deduplication.__Main__'}]}, {'path': [{'id': 'Utils.Utils'}, 'DEFINED_IN', {'id': 'Utils.Utils.Unionfind'}, 'USES', {'id': 'Utils.Use_Cases.Collection_Deduplication'}, 'DEFINES', {'id': 'Utils.Use_Cases'}, 'DEFINES', {'id': 'Utils.Use_Cases.Nearest_Neighbor_Search'}, 'IMPORTED_IN', {'id': 'Deduplication.__Main__'}, 'INDIRECTLY_USED_IN', {'id': 'Utils.Utils.Read_Tsv'}, 'IMPORTED_IN', {'id': 'Deduplication.__Main__'}, 'DEFINED_IN', {'id': 'Deduplication.__Main__.Log_Memory_Usage'}, 'USED_IN', {'id': 'Logging'}, 'USED_IN', {'id': 'Deduplication.__Main__'}]}, {'path': [{'id': 'Utils.Utils'}, 'DEFINED_IN', {'id': 'Utils.Utils.Unionfind'}, 'USES', {'id': 'Utils.Use_Cases.Collection_Deduplication'}, 'DEFINES', {'id': 'Utils.Use_Cases'}, 'DEFINES', {'id': 'Utils.Use_Cases.Nearest_Neighbor_Search'}, 'IMPORTED_IN', {'id': 'Deduplication.__Main__'}, 'IMPORTED_IN', {'id': 'Utils.Use_Cases.Collection_Deduplication'}, 'INDIRECTLY_USED_IN', {'id': 'Deduplication.__Main__'}]}, {'path': [{'id': 'Utils.Utils'}, 'DEFINED_IN', {'id': 'Utils.Utils.Unionfind'}, 'USES', {'id': 'Utils.Use_Cases.Collection_Deduplication'}, 'DEFINES', {'id': 'Utils.Use_Cases'}, 'DEFINES', {'id': 'Utils.Use_Cases.Nearest_Neighbor_Search'}, 'IMPORTED_IN', {'id': 'Deduplication.__Main__'}, 'IMPORTED_IN', {'id': 'Utils.Use_Cases.Collection_Deduplication'}, 'INDIRECTLY_USED_IN', {'id': 'Deduplication.__Main__'}, 'INDIRECTLY_USED_IN', {'id': 'Utils.Utils.Read_Tsv'}, 'IMPORTED_IN', {'id': 'Deduplication.__Main__'}]}, {'path': [{'id': 'Utils.Utils'}, 'DEFINED_IN', {'id': 'Utils.Utils.Unionfind'}, 'USES', {'id': 'Utils.Use_Cases.Collection_Deduplication'}, 'DEFINES', {'id': 'Utils.Use_Cases'}, 'DEFINES', {'id': 'Utils.Use_Cases.Nearest_Neighbor_Search'}, 'IMPORTED_IN', {'id': 'Deduplication.__Main__'}, 'IMPORTED_IN', {'id': 'Utils.Use_Cases.Collection_Deduplication'}, 'INDIRECTLY_USED_IN', {'id': 'Deduplication.__Main__'}, 'IMPORTED_IN', {'id': 'Utils.Utils.Read_Tsv'}, 'INDIRECTLY_USED_IN', {'id': 'Deduplication.__Main__'}]}, {'path': [{'id': 'Utils.Utils'}, 'DEFINED_IN', {'id': 'Utils.Utils.Unionfind'}, 'USES', {'id': 'Utils.Use_Cases.Collection_Deduplication'}, 'DEFINES', {'id': 'Utils.Use_Cases'}, 'DEFINES', {'id': 'Utils.Use_Cases.Nearest_Neighbor_Search'}, 'IMPORTED_IN', {'id': 'Deduplication.__Main__'}, 'IMPORTED_IN', {'id': 'Utils.Use_Cases.Collection_Deduplication'}, 'INDIRECTLY_USED_IN', {'id': 'Deduplication.__Main__'}, 'IMPORTED_IN', {'id': 'Deduplication.Lshforest.Lshforest'}, 'USED_IN', {'id': 'Deduplication.__Main__.Model'}, 'DEFINED_IN', {'id': 'Deduplication.__Main__'}]}, {'path': [{'id': 'Utils.Utils'}, 'DEFINED_IN', {'id': 'Utils.Utils.Unionfind'}, 'USES', {'id': 'Utils.Use_Cases.Collection_Deduplication'}, 'DEFINES', {'id': 'Utils.Use_Cases'}, 'DEFINES', {'id': 'Utils.Use_Cases.Nearest_Neighbor_Search'}, 'IMPORTED_IN', {'id': 'Deduplication.__Main__'}, 'IMPORTED_IN', {'id': 'Utils.Use_Cases.Collection_Deduplication'}, 'INDIRECTLY_USED_IN', {'id': 'Deduplication.__Main__'}, 'IMPORTED_IN', {'id': 'Deduplication.Lshimproved.Lshimproved'}, 'USED_IN', {'id': 'Deduplication.__Main__.Model'}, 'DEFINED_IN', {'id': 'Deduplication.__Main__'}]}, {'path': [{'id': 'Utils.Utils'}, 'DEFINED_IN', {'id': 'Utils.Utils.Unionfind'}, 'USES', {'id': 'Utils.Use_Cases.Collection_Deduplication'}, 'DEFINES', {'id': 'Utils.Use_Cases'}, 'DEFINES', {'id': 'Utils.Use_Cases.Nearest_Neighbor_Search'}, 'IMPORTED_IN', {'id': 'Deduplication.__Main__'}, 'IMPORTED_IN', {'id': 'Utils.Use_Cases.Collection_Deduplication'}, 'INDIRECTLY_USED_IN', {'id': 'Deduplication.__Main__'}, 'IMPORTED_IN', {'id': 'Deduplication.Lsh.Lsh'}, 'RETURNS_INSTANCE_OF', {'id': 'Deduplication.__Main__.Model'}, 'DEFINED_IN', {'id': 'Deduplication.__Main__'}]}]}\n"
     ]
    },
    {
     "name": "stderr",
     "output_type": "stream",
     "text": [
      "\u001b[92mINFO\u001b[0m:agent_router:Tool Call: Cypher query generated -> {'answer': '- The `Utils.Utils` module is defined in the `Utils.Utils.Unionfind`, which uses `Utils.Use_Cases.Collection_Deduplication`. This is part of `Utils.Use_Cases` that defines `Utils.Use_Cases.Nearest_Neighbor_Search`, all of which are imported into the `Deduplication.__Main__` module.\\n- The `Utils.Utils.Unionfind` uses `Utils.Use_Cases.Collection_Deduplication`; this, in turn, is indirectly used in `Deduplication.__Main__`.\\n- The functionality in `Utils.Utils` indirectly influences parts of `Deduplication.__Main__` through its associations with `Utils.Utils.Read_Tsv` and various other modules that are part of `Deduplication`.\\n- The `Deduplication.__Main__.Model` defined in `Deduplication.__Main__` uses various implementations in `Deduplication.Lshforest.Lshforest`, `Deduplication.Lshimproved.Lshimproved`, and `Deduplication.Lsh.Lsh`, all of which are connected to `Utils.Utils` through indirect usage pathways.\\n- Additionally, `Utils.Utils` is connected to logging and memory usage functions within `Deduplication.__Main__`, as well as interactions with `Psutil` and `Os`, which are used in `Deduplication.__Main__.Log_Memory_Usage`.', 'steps': ['generate_cypher', 'execute_cypher', 'generate_final_answer'], 'cypher_statement': \"MATCH path = (m1:Module {id: 'Utils.Utils'})-[*..10]-(m2:Module {id: 'Deduplication.__Main__'}) RETURN path LIMIT 50\", 'cypher_results': [{'path': [{'id': 'Utils.Utils'}, 'DEFINED_IN', {'id': 'Utils.Utils.Unionfind'}, 'USES', {'id': 'Utils.Use_Cases.Collection_Deduplication'}, 'DEFINES', {'id': 'Utils.Use_Cases'}, 'DEFINES', {'id': 'Utils.Use_Cases.Nearest_Neighbor_Search'}, 'IMPORTED_IN', {'id': 'Deduplication.__Main__'}]}, {'path': [{'id': 'Utils.Utils'}, 'DEFINED_IN', {'id': 'Utils.Utils.Unionfind'}, 'USES', {'id': 'Utils.Use_Cases.Collection_Deduplication'}, 'DEFINES', {'id': 'Utils.Use_Cases'}, 'DEFINES', {'id': 'Utils.Use_Cases.Nearest_Neighbor_Search'}, 'IMPORTED_IN', {'id': 'Deduplication.__Main__'}, 'INDIRECTLY_USED_IN', {'id': 'Utils.Use_Cases.Collection_Deduplication'}, 'IMPORTED_IN', {'id': 'Deduplication.__Main__'}]}, {'path': [{'id': 'Utils.Utils'}, 'DEFINED_IN', {'id': 'Utils.Utils.Unionfind'}, 'USES', {'id': 'Utils.Use_Cases.Collection_Deduplication'}, 'DEFINES', {'id': 'Utils.Use_Cases'}, 'DEFINES', {'id': 'Utils.Use_Cases.Nearest_Neighbor_Search'}, 'IMPORTED_IN', {'id': 'Deduplication.__Main__'}, 'INDIRECTLY_USED_IN', {'id': 'Utils.Use_Cases.Collection_Deduplication'}, 'IMPORTED_IN', {'id': 'Deduplication.__Main__'}, 'INDIRECTLY_USED_IN', {'id': 'Utils.Utils.Read_Tsv'}, 'IMPORTED_IN', {'id': 'Deduplication.__Main__'}]}, {'path': [{'id': 'Utils.Utils'}, 'DEFINED_IN', {'id': 'Utils.Utils.Unionfind'}, 'USES', {'id': 'Utils.Use_Cases.Collection_Deduplication'}, 'DEFINES', {'id': 'Utils.Use_Cases'}, 'DEFINES', {'id': 'Utils.Use_Cases.Nearest_Neighbor_Search'}, 'IMPORTED_IN', {'id': 'Deduplication.__Main__'}, 'INDIRECTLY_USED_IN', {'id': 'Utils.Use_Cases.Collection_Deduplication'}, 'IMPORTED_IN', {'id': 'Deduplication.__Main__'}, 'IMPORTED_IN', {'id': 'Utils.Utils.Read_Tsv'}, 'INDIRECTLY_USED_IN', {'id': 'Deduplication.__Main__'}]}, {'path': [{'id': 'Utils.Utils'}, 'DEFINED_IN', {'id': 'Utils.Utils.Unionfind'}, 'USES', {'id': 'Utils.Use_Cases.Collection_Deduplication'}, 'DEFINES', {'id': 'Utils.Use_Cases'}, 'DEFINES', {'id': 'Utils.Use_Cases.Nearest_Neighbor_Search'}, 'IMPORTED_IN', {'id': 'Deduplication.__Main__'}, 'INDIRECTLY_USED_IN', {'id': 'Utils.Use_Cases.Collection_Deduplication'}, 'IMPORTED_IN', {'id': 'Deduplication.__Main__'}, 'IMPORTED_IN', {'id': 'Deduplication.Lshforest.Lshforest'}, 'USED_IN', {'id': 'Deduplication.__Main__.Model'}, 'DEFINED_IN', {'id': 'Deduplication.__Main__'}]}, {'path': [{'id': 'Utils.Utils'}, 'DEFINED_IN', {'id': 'Utils.Utils.Unionfind'}, 'USES', {'id': 'Utils.Use_Cases.Collection_Deduplication'}, 'DEFINES', {'id': 'Utils.Use_Cases'}, 'DEFINES', {'id': 'Utils.Use_Cases.Nearest_Neighbor_Search'}, 'IMPORTED_IN', {'id': 'Deduplication.__Main__'}, 'INDIRECTLY_USED_IN', {'id': 'Utils.Use_Cases.Collection_Deduplication'}, 'IMPORTED_IN', {'id': 'Deduplication.__Main__'}, 'IMPORTED_IN', {'id': 'Deduplication.Lshimproved.Lshimproved'}, 'USED_IN', {'id': 'Deduplication.__Main__.Model'}, 'DEFINED_IN', {'id': 'Deduplication.__Main__'}]}, {'path': [{'id': 'Utils.Utils'}, 'DEFINED_IN', {'id': 'Utils.Utils.Unionfind'}, 'USES', {'id': 'Utils.Use_Cases.Collection_Deduplication'}, 'DEFINES', {'id': 'Utils.Use_Cases'}, 'DEFINES', {'id': 'Utils.Use_Cases.Nearest_Neighbor_Search'}, 'IMPORTED_IN', {'id': 'Deduplication.__Main__'}, 'INDIRECTLY_USED_IN', {'id': 'Utils.Use_Cases.Collection_Deduplication'}, 'IMPORTED_IN', {'id': 'Deduplication.__Main__'}, 'IMPORTED_IN', {'id': 'Deduplication.Lsh.Lsh'}, 'RETURNS_INSTANCE_OF', {'id': 'Deduplication.__Main__.Model'}, 'DEFINED_IN', {'id': 'Deduplication.__Main__'}]}, {'path': [{'id': 'Utils.Utils'}, 'DEFINED_IN', {'id': 'Utils.Utils.Unionfind'}, 'USES', {'id': 'Utils.Use_Cases.Collection_Deduplication'}, 'DEFINES', {'id': 'Utils.Use_Cases'}, 'DEFINES', {'id': 'Utils.Use_Cases.Nearest_Neighbor_Search'}, 'IMPORTED_IN', {'id': 'Deduplication.__Main__'}, 'INDIRECTLY_USED_IN', {'id': 'Utils.Use_Cases.Collection_Deduplication'}, 'IMPORTED_IN', {'id': 'Deduplication.__Main__'}, 'IMPORTED_IN', {'id': 'Deduplication.Lsh.Lsh'}, 'USED_IN', {'id': 'Deduplication.__Main__.Model'}, 'DEFINED_IN', {'id': 'Deduplication.__Main__'}]}, {'path': [{'id': 'Utils.Utils'}, 'DEFINED_IN', {'id': 'Utils.Utils.Unionfind'}, 'USES', {'id': 'Utils.Use_Cases.Collection_Deduplication'}, 'DEFINES', {'id': 'Utils.Use_Cases'}, 'DEFINES', {'id': 'Utils.Use_Cases.Nearest_Neighbor_Search'}, 'IMPORTED_IN', {'id': 'Deduplication.__Main__'}, 'INDIRECTLY_USED_IN', {'id': 'Utils.Use_Cases.Collection_Deduplication'}, 'IMPORTED_IN', {'id': 'Deduplication.__Main__'}, 'USED_IN', {'id': 'Psutil'}, 'USED_IN', {'id': 'Deduplication.__Main__.Log_Memory_Usage'}, 'DEFINED_IN', {'id': 'Deduplication.__Main__'}]}, {'path': [{'id': 'Utils.Utils'}, 'DEFINED_IN', {'id': 'Utils.Utils.Unionfind'}, 'USES', {'id': 'Utils.Use_Cases.Collection_Deduplication'}, 'DEFINES', {'id': 'Utils.Use_Cases'}, 'DEFINES', {'id': 'Utils.Use_Cases.Nearest_Neighbor_Search'}, 'IMPORTED_IN', {'id': 'Deduplication.__Main__'}, 'INDIRECTLY_USED_IN', {'id': 'Utils.Use_Cases.Collection_Deduplication'}, 'IMPORTED_IN', {'id': 'Deduplication.__Main__'}, 'USED_IN', {'id': 'Os'}, 'USED_IN', {'id': 'Deduplication.__Main__.Log_Memory_Usage'}, 'DEFINED_IN', {'id': 'Deduplication.__Main__'}]}, {'path': [{'id': 'Utils.Utils'}, 'DEFINED_IN', {'id': 'Utils.Utils.Unionfind'}, 'USES', {'id': 'Utils.Use_Cases.Collection_Deduplication'}, 'DEFINES', {'id': 'Utils.Use_Cases'}, 'DEFINES', {'id': 'Utils.Use_Cases.Nearest_Neighbor_Search'}, 'IMPORTED_IN', {'id': 'Deduplication.__Main__'}, 'INDIRECTLY_USED_IN', {'id': 'Utils.Use_Cases.Collection_Deduplication'}, 'IMPORTED_IN', {'id': 'Deduplication.__Main__'}, 'USED_IN', {'id': 'Logging'}, 'USED_IN', {'id': 'Deduplication.__Main__.Model'}, 'DEFINED_IN', {'id': 'Deduplication.__Main__'}]}, {'path': [{'id': 'Utils.Utils'}, 'DEFINED_IN', {'id': 'Utils.Utils.Unionfind'}, 'USES', {'id': 'Utils.Use_Cases.Collection_Deduplication'}, 'DEFINES', {'id': 'Utils.Use_Cases'}, 'DEFINES', {'id': 'Utils.Use_Cases.Nearest_Neighbor_Search'}, 'IMPORTED_IN', {'id': 'Deduplication.__Main__'}, 'INDIRECTLY_USED_IN', {'id': 'Utils.Use_Cases.Collection_Deduplication'}, 'IMPORTED_IN', {'id': 'Deduplication.__Main__'}, 'USED_IN', {'id': 'Logging'}, 'USED_IN', {'id': 'Deduplication.__Main__.Log_Memory_Usage'}, 'DEFINED_IN', {'id': 'Deduplication.__Main__'}]}, {'path': [{'id': 'Utils.Utils'}, 'DEFINED_IN', {'id': 'Utils.Utils.Unionfind'}, 'USES', {'id': 'Utils.Use_Cases.Collection_Deduplication'}, 'DEFINES', {'id': 'Utils.Use_Cases'}, 'DEFINES', {'id': 'Utils.Use_Cases.Nearest_Neighbor_Search'}, 'IMPORTED_IN', {'id': 'Deduplication.__Main__'}, 'INDIRECTLY_USED_IN', {'id': 'Utils.Use_Cases.Collection_Deduplication'}, 'IMPORTED_IN', {'id': 'Deduplication.__Main__'}, 'USED_IN', {'id': 'Time'}, 'USED_IN', {'id': 'Deduplication.__Main__.Model'}, 'DEFINED_IN', {'id': 'Deduplication.__Main__'}]}, {'path': [{'id': 'Utils.Utils'}, 'DEFINED_IN', {'id': 'Utils.Utils.Unionfind'}, 'USES', {'id': 'Utils.Use_Cases.Collection_Deduplication'}, 'DEFINES', {'id': 'Utils.Use_Cases'}, 'DEFINES', {'id': 'Utils.Use_Cases.Nearest_Neighbor_Search'}, 'IMPORTED_IN', {'id': 'Deduplication.__Main__'}, 'INDIRECTLY_USED_IN', {'id': 'Utils.Use_Cases.Collection_Deduplication'}, 'IMPORTED_IN', {'id': 'Deduplication.__Main__'}, 'DEFINED_IN', {'id': 'Deduplication.__Main__.Model'}, 'RETURNS_INSTANCE_OF', {'id': 'Deduplication.Lsh.Lsh'}, 'IMPORTED_IN', {'id': 'Deduplication.__Main__'}]}, {'path': [{'id': 'Utils.Utils'}, 'DEFINED_IN', {'id': 'Utils.Utils.Unionfind'}, 'USES', {'id': 'Utils.Use_Cases.Collection_Deduplication'}, 'DEFINES', {'id': 'Utils.Use_Cases'}, 'DEFINES', {'id': 'Utils.Use_Cases.Nearest_Neighbor_Search'}, 'IMPORTED_IN', {'id': 'Deduplication.__Main__'}, 'INDIRECTLY_USED_IN', {'id': 'Utils.Use_Cases.Collection_Deduplication'}, 'IMPORTED_IN', {'id': 'Deduplication.__Main__'}, 'DEFINED_IN', {'id': 'Deduplication.__Main__.Model'}, 'USED_IN', {'id': 'Deduplication.Lshforest.Lshforest'}, 'IMPORTED_IN', {'id': 'Deduplication.__Main__'}]}, {'path': [{'id': 'Utils.Utils'}, 'DEFINED_IN', {'id': 'Utils.Utils.Unionfind'}, 'USES', {'id': 'Utils.Use_Cases.Collection_Deduplication'}, 'DEFINES', {'id': 'Utils.Use_Cases'}, 'DEFINES', {'id': 'Utils.Use_Cases.Nearest_Neighbor_Search'}, 'IMPORTED_IN', {'id': 'Deduplication.__Main__'}, 'INDIRECTLY_USED_IN', {'id': 'Utils.Use_Cases.Collection_Deduplication'}, 'IMPORTED_IN', {'id': 'Deduplication.__Main__'}, 'DEFINED_IN', {'id': 'Deduplication.__Main__.Model'}, 'USED_IN', {'id': 'Deduplication.Lshimproved.Lshimproved'}, 'IMPORTED_IN', {'id': 'Deduplication.__Main__'}]}, {'path': [{'id': 'Utils.Utils'}, 'DEFINED_IN', {'id': 'Utils.Utils.Unionfind'}, 'USES', {'id': 'Utils.Use_Cases.Collection_Deduplication'}, 'DEFINES', {'id': 'Utils.Use_Cases'}, 'DEFINES', {'id': 'Utils.Use_Cases.Nearest_Neighbor_Search'}, 'IMPORTED_IN', {'id': 'Deduplication.__Main__'}, 'INDIRECTLY_USED_IN', {'id': 'Utils.Use_Cases.Collection_Deduplication'}, 'IMPORTED_IN', {'id': 'Deduplication.__Main__'}, 'DEFINED_IN', {'id': 'Deduplication.__Main__.Model'}, 'USED_IN', {'id': 'Deduplication.Lsh.Lsh'}, 'IMPORTED_IN', {'id': 'Deduplication.__Main__'}]}, {'path': [{'id': 'Utils.Utils'}, 'DEFINED_IN', {'id': 'Utils.Utils.Unionfind'}, 'USES', {'id': 'Utils.Use_Cases.Collection_Deduplication'}, 'DEFINES', {'id': 'Utils.Use_Cases'}, 'DEFINES', {'id': 'Utils.Use_Cases.Nearest_Neighbor_Search'}, 'IMPORTED_IN', {'id': 'Deduplication.__Main__'}, 'INDIRECTLY_USED_IN', {'id': 'Utils.Use_Cases.Collection_Deduplication'}, 'IMPORTED_IN', {'id': 'Deduplication.__Main__'}, 'DEFINED_IN', {'id': 'Deduplication.__Main__.Model'}, 'USED_IN', {'id': 'Logging'}, 'USED_IN', {'id': 'Deduplication.__Main__'}]}, {'path': [{'id': 'Utils.Utils'}, 'DEFINED_IN', {'id': 'Utils.Utils.Unionfind'}, 'USES', {'id': 'Utils.Use_Cases.Collection_Deduplication'}, 'DEFINES', {'id': 'Utils.Use_Cases'}, 'DEFINES', {'id': 'Utils.Use_Cases.Nearest_Neighbor_Search'}, 'IMPORTED_IN', {'id': 'Deduplication.__Main__'}, 'INDIRECTLY_USED_IN', {'id': 'Utils.Use_Cases.Collection_Deduplication'}, 'IMPORTED_IN', {'id': 'Deduplication.__Main__'}, 'DEFINED_IN', {'id': 'Deduplication.__Main__.Model'}, 'USED_IN', {'id': 'Time'}, 'USED_IN', {'id': 'Deduplication.__Main__'}]}, {'path': [{'id': 'Utils.Utils'}, 'DEFINED_IN', {'id': 'Utils.Utils.Unionfind'}, 'USES', {'id': 'Utils.Use_Cases.Collection_Deduplication'}, 'DEFINES', {'id': 'Utils.Use_Cases'}, 'DEFINES', {'id': 'Utils.Use_Cases.Nearest_Neighbor_Search'}, 'IMPORTED_IN', {'id': 'Deduplication.__Main__'}, 'INDIRECTLY_USED_IN', {'id': 'Utils.Use_Cases.Collection_Deduplication'}, 'IMPORTED_IN', {'id': 'Deduplication.__Main__'}, 'DEFINED_IN', {'id': 'Deduplication.__Main__.Log_Memory_Usage'}, 'USED_IN', {'id': 'Psutil'}, 'USED_IN', {'id': 'Deduplication.__Main__'}]}, {'path': [{'id': 'Utils.Utils'}, 'DEFINED_IN', {'id': 'Utils.Utils.Unionfind'}, 'USES', {'id': 'Utils.Use_Cases.Collection_Deduplication'}, 'DEFINES', {'id': 'Utils.Use_Cases'}, 'DEFINES', {'id': 'Utils.Use_Cases.Nearest_Neighbor_Search'}, 'IMPORTED_IN', {'id': 'Deduplication.__Main__'}, 'INDIRECTLY_USED_IN', {'id': 'Utils.Use_Cases.Collection_Deduplication'}, 'IMPORTED_IN', {'id': 'Deduplication.__Main__'}, 'DEFINED_IN', {'id': 'Deduplication.__Main__.Log_Memory_Usage'}, 'USED_IN', {'id': 'Os'}, 'USED_IN', {'id': 'Deduplication.__Main__'}]}, {'path': [{'id': 'Utils.Utils'}, 'DEFINED_IN', {'id': 'Utils.Utils.Unionfind'}, 'USES', {'id': 'Utils.Use_Cases.Collection_Deduplication'}, 'DEFINES', {'id': 'Utils.Use_Cases'}, 'DEFINES', {'id': 'Utils.Use_Cases.Nearest_Neighbor_Search'}, 'IMPORTED_IN', {'id': 'Deduplication.__Main__'}, 'INDIRECTLY_USED_IN', {'id': 'Utils.Use_Cases.Collection_Deduplication'}, 'IMPORTED_IN', {'id': 'Deduplication.__Main__'}, 'DEFINED_IN', {'id': 'Deduplication.__Main__.Log_Memory_Usage'}, 'USED_IN', {'id': 'Logging'}, 'USED_IN', {'id': 'Deduplication.__Main__'}]}, {'path': [{'id': 'Utils.Utils'}, 'DEFINED_IN', {'id': 'Utils.Utils.Unionfind'}, 'USES', {'id': 'Utils.Use_Cases.Collection_Deduplication'}, 'DEFINES', {'id': 'Utils.Use_Cases'}, 'DEFINES', {'id': 'Utils.Use_Cases.Nearest_Neighbor_Search'}, 'IMPORTED_IN', {'id': 'Deduplication.__Main__'}, 'INDIRECTLY_USED_IN', {'id': 'Utils.Use_Cases.Collection_Deduplication'}, 'USES', {'id': 'Collections'}, 'USED_IN', {'id': 'Deduplication.Dedup.Baseline.Tokenize'}, 'DEFINED_IN', {'id': 'Deduplication.Dedup.Baseline'}, 'IMPORTED_IN', {'id': 'Deduplication.__Main__'}]}, {'path': [{'id': 'Utils.Utils'}, 'DEFINED_IN', {'id': 'Utils.Utils.Unionfind'}, 'USES', {'id': 'Utils.Use_Cases.Collection_Deduplication'}, 'DEFINES', {'id': 'Utils.Use_Cases'}, 'DEFINES', {'id': 'Utils.Use_Cases.Nearest_Neighbor_Search'}, 'IMPORTED_IN', {'id': 'Deduplication.__Main__'}, 'INDIRECTLY_USED_IN', {'id': 'Utils.Utils.Read_Tsv'}, 'IMPORTED_IN', {'id': 'Deduplication.__Main__'}]}, {'path': [{'id': 'Utils.Utils'}, 'DEFINED_IN', {'id': 'Utils.Utils.Unionfind'}, 'USES', {'id': 'Utils.Use_Cases.Collection_Deduplication'}, 'DEFINES', {'id': 'Utils.Use_Cases'}, 'DEFINES', {'id': 'Utils.Use_Cases.Nearest_Neighbor_Search'}, 'IMPORTED_IN', {'id': 'Deduplication.__Main__'}, 'INDIRECTLY_USED_IN', {'id': 'Utils.Utils.Read_Tsv'}, 'IMPORTED_IN', {'id': 'Deduplication.__Main__'}, 'INDIRECTLY_USED_IN', {'id': 'Utils.Use_Cases.Collection_Deduplication'}, 'IMPORTED_IN', {'id': 'Deduplication.__Main__'}]}, {'path': [{'id': 'Utils.Utils'}, 'DEFINED_IN', {'id': 'Utils.Utils.Unionfind'}, 'USES', {'id': 'Utils.Use_Cases.Collection_Deduplication'}, 'DEFINES', {'id': 'Utils.Use_Cases'}, 'DEFINES', {'id': 'Utils.Use_Cases.Nearest_Neighbor_Search'}, 'IMPORTED_IN', {'id': 'Deduplication.__Main__'}, 'INDIRECTLY_USED_IN', {'id': 'Utils.Utils.Read_Tsv'}, 'IMPORTED_IN', {'id': 'Deduplication.__Main__'}, 'IMPORTED_IN', {'id': 'Utils.Use_Cases.Collection_Deduplication'}, 'INDIRECTLY_USED_IN', {'id': 'Deduplication.__Main__'}]}, {'path': [{'id': 'Utils.Utils'}, 'DEFINED_IN', {'id': 'Utils.Utils.Unionfind'}, 'USES', {'id': 'Utils.Use_Cases.Collection_Deduplication'}, 'DEFINES', {'id': 'Utils.Use_Cases'}, 'DEFINES', {'id': 'Utils.Use_Cases.Nearest_Neighbor_Search'}, 'IMPORTED_IN', {'id': 'Deduplication.__Main__'}, 'INDIRECTLY_USED_IN', {'id': 'Utils.Utils.Read_Tsv'}, 'IMPORTED_IN', {'id': 'Deduplication.__Main__'}, 'IMPORTED_IN', {'id': 'Deduplication.Lshforest.Lshforest'}, 'USED_IN', {'id': 'Deduplication.__Main__.Model'}, 'DEFINED_IN', {'id': 'Deduplication.__Main__'}]}, {'path': [{'id': 'Utils.Utils'}, 'DEFINED_IN', {'id': 'Utils.Utils.Unionfind'}, 'USES', {'id': 'Utils.Use_Cases.Collection_Deduplication'}, 'DEFINES', {'id': 'Utils.Use_Cases'}, 'DEFINES', {'id': 'Utils.Use_Cases.Nearest_Neighbor_Search'}, 'IMPORTED_IN', {'id': 'Deduplication.__Main__'}, 'INDIRECTLY_USED_IN', {'id': 'Utils.Utils.Read_Tsv'}, 'IMPORTED_IN', {'id': 'Deduplication.__Main__'}, 'IMPORTED_IN', {'id': 'Deduplication.Lshimproved.Lshimproved'}, 'USED_IN', {'id': 'Deduplication.__Main__.Model'}, 'DEFINED_IN', {'id': 'Deduplication.__Main__'}]}, {'path': [{'id': 'Utils.Utils'}, 'DEFINED_IN', {'id': 'Utils.Utils.Unionfind'}, 'USES', {'id': 'Utils.Use_Cases.Collection_Deduplication'}, 'DEFINES', {'id': 'Utils.Use_Cases'}, 'DEFINES', {'id': 'Utils.Use_Cases.Nearest_Neighbor_Search'}, 'IMPORTED_IN', {'id': 'Deduplication.__Main__'}, 'INDIRECTLY_USED_IN', {'id': 'Utils.Utils.Read_Tsv'}, 'IMPORTED_IN', {'id': 'Deduplication.__Main__'}, 'IMPORTED_IN', {'id': 'Deduplication.Lsh.Lsh'}, 'RETURNS_INSTANCE_OF', {'id': 'Deduplication.__Main__.Model'}, 'DEFINED_IN', {'id': 'Deduplication.__Main__'}]}, {'path': [{'id': 'Utils.Utils'}, 'DEFINED_IN', {'id': 'Utils.Utils.Unionfind'}, 'USES', {'id': 'Utils.Use_Cases.Collection_Deduplication'}, 'DEFINES', {'id': 'Utils.Use_Cases'}, 'DEFINES', {'id': 'Utils.Use_Cases.Nearest_Neighbor_Search'}, 'IMPORTED_IN', {'id': 'Deduplication.__Main__'}, 'INDIRECTLY_USED_IN', {'id': 'Utils.Utils.Read_Tsv'}, 'IMPORTED_IN', {'id': 'Deduplication.__Main__'}, 'IMPORTED_IN', {'id': 'Deduplication.Lsh.Lsh'}, 'USED_IN', {'id': 'Deduplication.__Main__.Model'}, 'DEFINED_IN', {'id': 'Deduplication.__Main__'}]}, {'path': [{'id': 'Utils.Utils'}, 'DEFINED_IN', {'id': 'Utils.Utils.Unionfind'}, 'USES', {'id': 'Utils.Use_Cases.Collection_Deduplication'}, 'DEFINES', {'id': 'Utils.Use_Cases'}, 'DEFINES', {'id': 'Utils.Use_Cases.Nearest_Neighbor_Search'}, 'IMPORTED_IN', {'id': 'Deduplication.__Main__'}, 'INDIRECTLY_USED_IN', {'id': 'Utils.Utils.Read_Tsv'}, 'IMPORTED_IN', {'id': 'Deduplication.__Main__'}, 'USED_IN', {'id': 'Psutil'}, 'USED_IN', {'id': 'Deduplication.__Main__.Log_Memory_Usage'}, 'DEFINED_IN', {'id': 'Deduplication.__Main__'}]}, {'path': [{'id': 'Utils.Utils'}, 'DEFINED_IN', {'id': 'Utils.Utils.Unionfind'}, 'USES', {'id': 'Utils.Use_Cases.Collection_Deduplication'}, 'DEFINES', {'id': 'Utils.Use_Cases'}, 'DEFINES', {'id': 'Utils.Use_Cases.Nearest_Neighbor_Search'}, 'IMPORTED_IN', {'id': 'Deduplication.__Main__'}, 'INDIRECTLY_USED_IN', {'id': 'Utils.Utils.Read_Tsv'}, 'IMPORTED_IN', {'id': 'Deduplication.__Main__'}, 'USED_IN', {'id': 'Os'}, 'USED_IN', {'id': 'Deduplication.__Main__.Log_Memory_Usage'}, 'DEFINED_IN', {'id': 'Deduplication.__Main__'}]}, {'path': [{'id': 'Utils.Utils'}, 'DEFINED_IN', {'id': 'Utils.Utils.Unionfind'}, 'USES', {'id': 'Utils.Use_Cases.Collection_Deduplication'}, 'DEFINES', {'id': 'Utils.Use_Cases'}, 'DEFINES', {'id': 'Utils.Use_Cases.Nearest_Neighbor_Search'}, 'IMPORTED_IN', {'id': 'Deduplication.__Main__'}, 'INDIRECTLY_USED_IN', {'id': 'Utils.Utils.Read_Tsv'}, 'IMPORTED_IN', {'id': 'Deduplication.__Main__'}, 'USED_IN', {'id': 'Logging'}, 'USED_IN', {'id': 'Deduplication.__Main__.Model'}, 'DEFINED_IN', {'id': 'Deduplication.__Main__'}]}, {'path': [{'id': 'Utils.Utils'}, 'DEFINED_IN', {'id': 'Utils.Utils.Unionfind'}, 'USES', {'id': 'Utils.Use_Cases.Collection_Deduplication'}, 'DEFINES', {'id': 'Utils.Use_Cases'}, 'DEFINES', {'id': 'Utils.Use_Cases.Nearest_Neighbor_Search'}, 'IMPORTED_IN', {'id': 'Deduplication.__Main__'}, 'INDIRECTLY_USED_IN', {'id': 'Utils.Utils.Read_Tsv'}, 'IMPORTED_IN', {'id': 'Deduplication.__Main__'}, 'USED_IN', {'id': 'Logging'}, 'USED_IN', {'id': 'Deduplication.__Main__.Log_Memory_Usage'}, 'DEFINED_IN', {'id': 'Deduplication.__Main__'}]}, {'path': [{'id': 'Utils.Utils'}, 'DEFINED_IN', {'id': 'Utils.Utils.Unionfind'}, 'USES', {'id': 'Utils.Use_Cases.Collection_Deduplication'}, 'DEFINES', {'id': 'Utils.Use_Cases'}, 'DEFINES', {'id': 'Utils.Use_Cases.Nearest_Neighbor_Search'}, 'IMPORTED_IN', {'id': 'Deduplication.__Main__'}, 'INDIRECTLY_USED_IN', {'id': 'Utils.Utils.Read_Tsv'}, 'IMPORTED_IN', {'id': 'Deduplication.__Main__'}, 'USED_IN', {'id': 'Time'}, 'USED_IN', {'id': 'Deduplication.__Main__.Model'}, 'DEFINED_IN', {'id': 'Deduplication.__Main__'}]}, {'path': [{'id': 'Utils.Utils'}, 'DEFINED_IN', {'id': 'Utils.Utils.Unionfind'}, 'USES', {'id': 'Utils.Use_Cases.Collection_Deduplication'}, 'DEFINES', {'id': 'Utils.Use_Cases'}, 'DEFINES', {'id': 'Utils.Use_Cases.Nearest_Neighbor_Search'}, 'IMPORTED_IN', {'id': 'Deduplication.__Main__'}, 'INDIRECTLY_USED_IN', {'id': 'Utils.Utils.Read_Tsv'}, 'IMPORTED_IN', {'id': 'Deduplication.__Main__'}, 'DEFINED_IN', {'id': 'Deduplication.__Main__.Model'}, 'RETURNS_INSTANCE_OF', {'id': 'Deduplication.Lsh.Lsh'}, 'IMPORTED_IN', {'id': 'Deduplication.__Main__'}]}, {'path': [{'id': 'Utils.Utils'}, 'DEFINED_IN', {'id': 'Utils.Utils.Unionfind'}, 'USES', {'id': 'Utils.Use_Cases.Collection_Deduplication'}, 'DEFINES', {'id': 'Utils.Use_Cases'}, 'DEFINES', {'id': 'Utils.Use_Cases.Nearest_Neighbor_Search'}, 'IMPORTED_IN', {'id': 'Deduplication.__Main__'}, 'INDIRECTLY_USED_IN', {'id': 'Utils.Utils.Read_Tsv'}, 'IMPORTED_IN', {'id': 'Deduplication.__Main__'}, 'DEFINED_IN', {'id': 'Deduplication.__Main__.Model'}, 'USED_IN', {'id': 'Deduplication.Lshforest.Lshforest'}, 'IMPORTED_IN', {'id': 'Deduplication.__Main__'}]}, {'path': [{'id': 'Utils.Utils'}, 'DEFINED_IN', {'id': 'Utils.Utils.Unionfind'}, 'USES', {'id': 'Utils.Use_Cases.Collection_Deduplication'}, 'DEFINES', {'id': 'Utils.Use_Cases'}, 'DEFINES', {'id': 'Utils.Use_Cases.Nearest_Neighbor_Search'}, 'IMPORTED_IN', {'id': 'Deduplication.__Main__'}, 'INDIRECTLY_USED_IN', {'id': 'Utils.Utils.Read_Tsv'}, 'IMPORTED_IN', {'id': 'Deduplication.__Main__'}, 'DEFINED_IN', {'id': 'Deduplication.__Main__.Model'}, 'USED_IN', {'id': 'Deduplication.Lshimproved.Lshimproved'}, 'IMPORTED_IN', {'id': 'Deduplication.__Main__'}]}, {'path': [{'id': 'Utils.Utils'}, 'DEFINED_IN', {'id': 'Utils.Utils.Unionfind'}, 'USES', {'id': 'Utils.Use_Cases.Collection_Deduplication'}, 'DEFINES', {'id': 'Utils.Use_Cases'}, 'DEFINES', {'id': 'Utils.Use_Cases.Nearest_Neighbor_Search'}, 'IMPORTED_IN', {'id': 'Deduplication.__Main__'}, 'INDIRECTLY_USED_IN', {'id': 'Utils.Utils.Read_Tsv'}, 'IMPORTED_IN', {'id': 'Deduplication.__Main__'}, 'DEFINED_IN', {'id': 'Deduplication.__Main__.Model'}, 'USED_IN', {'id': 'Deduplication.Lsh.Lsh'}, 'IMPORTED_IN', {'id': 'Deduplication.__Main__'}]}, {'path': [{'id': 'Utils.Utils'}, 'DEFINED_IN', {'id': 'Utils.Utils.Unionfind'}, 'USES', {'id': 'Utils.Use_Cases.Collection_Deduplication'}, 'DEFINES', {'id': 'Utils.Use_Cases'}, 'DEFINES', {'id': 'Utils.Use_Cases.Nearest_Neighbor_Search'}, 'IMPORTED_IN', {'id': 'Deduplication.__Main__'}, 'INDIRECTLY_USED_IN', {'id': 'Utils.Utils.Read_Tsv'}, 'IMPORTED_IN', {'id': 'Deduplication.__Main__'}, 'DEFINED_IN', {'id': 'Deduplication.__Main__.Model'}, 'USED_IN', {'id': 'Logging'}, 'USED_IN', {'id': 'Deduplication.__Main__'}]}, {'path': [{'id': 'Utils.Utils'}, 'DEFINED_IN', {'id': 'Utils.Utils.Unionfind'}, 'USES', {'id': 'Utils.Use_Cases.Collection_Deduplication'}, 'DEFINES', {'id': 'Utils.Use_Cases'}, 'DEFINES', {'id': 'Utils.Use_Cases.Nearest_Neighbor_Search'}, 'IMPORTED_IN', {'id': 'Deduplication.__Main__'}, 'INDIRECTLY_USED_IN', {'id': 'Utils.Utils.Read_Tsv'}, 'IMPORTED_IN', {'id': 'Deduplication.__Main__'}, 'DEFINED_IN', {'id': 'Deduplication.__Main__.Model'}, 'USED_IN', {'id': 'Time'}, 'USED_IN', {'id': 'Deduplication.__Main__'}]}, {'path': [{'id': 'Utils.Utils'}, 'DEFINED_IN', {'id': 'Utils.Utils.Unionfind'}, 'USES', {'id': 'Utils.Use_Cases.Collection_Deduplication'}, 'DEFINES', {'id': 'Utils.Use_Cases'}, 'DEFINES', {'id': 'Utils.Use_Cases.Nearest_Neighbor_Search'}, 'IMPORTED_IN', {'id': 'Deduplication.__Main__'}, 'INDIRECTLY_USED_IN', {'id': 'Utils.Utils.Read_Tsv'}, 'IMPORTED_IN', {'id': 'Deduplication.__Main__'}, 'DEFINED_IN', {'id': 'Deduplication.__Main__.Log_Memory_Usage'}, 'USED_IN', {'id': 'Psutil'}, 'USED_IN', {'id': 'Deduplication.__Main__'}]}, {'path': [{'id': 'Utils.Utils'}, 'DEFINED_IN', {'id': 'Utils.Utils.Unionfind'}, 'USES', {'id': 'Utils.Use_Cases.Collection_Deduplication'}, 'DEFINES', {'id': 'Utils.Use_Cases'}, 'DEFINES', {'id': 'Utils.Use_Cases.Nearest_Neighbor_Search'}, 'IMPORTED_IN', {'id': 'Deduplication.__Main__'}, 'INDIRECTLY_USED_IN', {'id': 'Utils.Utils.Read_Tsv'}, 'IMPORTED_IN', {'id': 'Deduplication.__Main__'}, 'DEFINED_IN', {'id': 'Deduplication.__Main__.Log_Memory_Usage'}, 'USED_IN', {'id': 'Os'}, 'USED_IN', {'id': 'Deduplication.__Main__'}]}, {'path': [{'id': 'Utils.Utils'}, 'DEFINED_IN', {'id': 'Utils.Utils.Unionfind'}, 'USES', {'id': 'Utils.Use_Cases.Collection_Deduplication'}, 'DEFINES', {'id': 'Utils.Use_Cases'}, 'DEFINES', {'id': 'Utils.Use_Cases.Nearest_Neighbor_Search'}, 'IMPORTED_IN', {'id': 'Deduplication.__Main__'}, 'INDIRECTLY_USED_IN', {'id': 'Utils.Utils.Read_Tsv'}, 'IMPORTED_IN', {'id': 'Deduplication.__Main__'}, 'DEFINED_IN', {'id': 'Deduplication.__Main__.Log_Memory_Usage'}, 'USED_IN', {'id': 'Logging'}, 'USED_IN', {'id': 'Deduplication.__Main__'}]}, {'path': [{'id': 'Utils.Utils'}, 'DEFINED_IN', {'id': 'Utils.Utils.Unionfind'}, 'USES', {'id': 'Utils.Use_Cases.Collection_Deduplication'}, 'DEFINES', {'id': 'Utils.Use_Cases'}, 'DEFINES', {'id': 'Utils.Use_Cases.Nearest_Neighbor_Search'}, 'IMPORTED_IN', {'id': 'Deduplication.__Main__'}, 'IMPORTED_IN', {'id': 'Utils.Use_Cases.Collection_Deduplication'}, 'INDIRECTLY_USED_IN', {'id': 'Deduplication.__Main__'}]}, {'path': [{'id': 'Utils.Utils'}, 'DEFINED_IN', {'id': 'Utils.Utils.Unionfind'}, 'USES', {'id': 'Utils.Use_Cases.Collection_Deduplication'}, 'DEFINES', {'id': 'Utils.Use_Cases'}, 'DEFINES', {'id': 'Utils.Use_Cases.Nearest_Neighbor_Search'}, 'IMPORTED_IN', {'id': 'Deduplication.__Main__'}, 'IMPORTED_IN', {'id': 'Utils.Use_Cases.Collection_Deduplication'}, 'INDIRECTLY_USED_IN', {'id': 'Deduplication.__Main__'}, 'INDIRECTLY_USED_IN', {'id': 'Utils.Utils.Read_Tsv'}, 'IMPORTED_IN', {'id': 'Deduplication.__Main__'}]}, {'path': [{'id': 'Utils.Utils'}, 'DEFINED_IN', {'id': 'Utils.Utils.Unionfind'}, 'USES', {'id': 'Utils.Use_Cases.Collection_Deduplication'}, 'DEFINES', {'id': 'Utils.Use_Cases'}, 'DEFINES', {'id': 'Utils.Use_Cases.Nearest_Neighbor_Search'}, 'IMPORTED_IN', {'id': 'Deduplication.__Main__'}, 'IMPORTED_IN', {'id': 'Utils.Use_Cases.Collection_Deduplication'}, 'INDIRECTLY_USED_IN', {'id': 'Deduplication.__Main__'}, 'IMPORTED_IN', {'id': 'Utils.Utils.Read_Tsv'}, 'INDIRECTLY_USED_IN', {'id': 'Deduplication.__Main__'}]}, {'path': [{'id': 'Utils.Utils'}, 'DEFINED_IN', {'id': 'Utils.Utils.Unionfind'}, 'USES', {'id': 'Utils.Use_Cases.Collection_Deduplication'}, 'DEFINES', {'id': 'Utils.Use_Cases'}, 'DEFINES', {'id': 'Utils.Use_Cases.Nearest_Neighbor_Search'}, 'IMPORTED_IN', {'id': 'Deduplication.__Main__'}, 'IMPORTED_IN', {'id': 'Utils.Use_Cases.Collection_Deduplication'}, 'INDIRECTLY_USED_IN', {'id': 'Deduplication.__Main__'}, 'IMPORTED_IN', {'id': 'Deduplication.Lshforest.Lshforest'}, 'USED_IN', {'id': 'Deduplication.__Main__.Model'}, 'DEFINED_IN', {'id': 'Deduplication.__Main__'}]}, {'path': [{'id': 'Utils.Utils'}, 'DEFINED_IN', {'id': 'Utils.Utils.Unionfind'}, 'USES', {'id': 'Utils.Use_Cases.Collection_Deduplication'}, 'DEFINES', {'id': 'Utils.Use_Cases'}, 'DEFINES', {'id': 'Utils.Use_Cases.Nearest_Neighbor_Search'}, 'IMPORTED_IN', {'id': 'Deduplication.__Main__'}, 'IMPORTED_IN', {'id': 'Utils.Use_Cases.Collection_Deduplication'}, 'INDIRECTLY_USED_IN', {'id': 'Deduplication.__Main__'}, 'IMPORTED_IN', {'id': 'Deduplication.Lshimproved.Lshimproved'}, 'USED_IN', {'id': 'Deduplication.__Main__.Model'}, 'DEFINED_IN', {'id': 'Deduplication.__Main__'}]}, {'path': [{'id': 'Utils.Utils'}, 'DEFINED_IN', {'id': 'Utils.Utils.Unionfind'}, 'USES', {'id': 'Utils.Use_Cases.Collection_Deduplication'}, 'DEFINES', {'id': 'Utils.Use_Cases'}, 'DEFINES', {'id': 'Utils.Use_Cases.Nearest_Neighbor_Search'}, 'IMPORTED_IN', {'id': 'Deduplication.__Main__'}, 'IMPORTED_IN', {'id': 'Utils.Use_Cases.Collection_Deduplication'}, 'INDIRECTLY_USED_IN', {'id': 'Deduplication.__Main__'}, 'IMPORTED_IN', {'id': 'Deduplication.Lsh.Lsh'}, 'RETURNS_INSTANCE_OF', {'id': 'Deduplication.__Main__.Model'}, 'DEFINED_IN', {'id': 'Deduplication.__Main__'}]}]}\n"
     ]
    },
    {
     "name": "stdout",
     "output_type": "stream",
     "text": [
      "\u001b[90m2025-04-24 21:24:42\u001b[0m - \u001b[36magent_router\u001b[0m - \u001b[92mINFO\u001b[0m - Result type: <class 'langgraph.pregel.io.AddableValuesDict'>\n"
     ]
    },
    {
     "name": "stderr",
     "output_type": "stream",
     "text": [
      "\u001b[92mINFO\u001b[0m:agent_router:Result type: <class 'langgraph.pregel.io.AddableValuesDict'>\n"
     ]
    },
    {
     "name": "stdout",
     "output_type": "stream",
     "text": [
      "\u001b[90m2025-04-24 21:25:14\u001b[0m - \u001b[36magent_router\u001b[0m - \u001b[92mINFO\u001b[0m - Generating text response...\n"
     ]
    },
    {
     "name": "stderr",
     "output_type": "stream",
     "text": [
      "\u001b[92mINFO\u001b[0m:agent_router:Generating text response...\n"
     ]
    },
    {
     "name": "stdout",
     "output_type": "stream",
     "text": [
      "\u001b[90m2025-04-24 21:25:14\u001b[0m - \u001b[36magent_router\u001b[0m - \u001b[92mINFO\u001b[0m - Query engine: <tools.micro_text_answer.RAGQueryEngine object at 0x00000144F5709A90>\n"
     ]
    },
    {
     "name": "stderr",
     "output_type": "stream",
     "text": [
      "\u001b[92mINFO\u001b[0m:agent_router:Query engine: <tools.micro_text_answer.RAGQueryEngine object at 0x00000144F5709A90>\n"
     ]
    },
    {
     "name": "stdout",
     "output_type": "stream",
     "text": [
      "\u001b[90m2025-04-24 21:25:14\u001b[0m - \u001b[36magent_router\u001b[0m - \u001b[92mINFO\u001b[0m - Results: {'answer': '- The `Utils.Utils` module is defined in the `Utils.Utils.Unionfind`, which uses `Utils.Use_Cases.Collection_Deduplication`. This is part of `Utils.Use_Cases` that defines `Utils.Use_Cases.Nearest_Neighbor_Search`, all of which are imported into the `Deduplication.__Main__` module.\\n- The `Utils.Utils.Unionfind` uses `Utils.Use_Cases.Collection_Deduplication`; this, in turn, is indirectly used in `Deduplication.__Main__`.\\n- The functionality in `Utils.Utils` indirectly influences parts of `Deduplication.__Main__` through its associations with `Utils.Utils.Read_Tsv` and various other modules that are part of `Deduplication`.\\n- The `Deduplication.__Main__.Model` defined in `Deduplication.__Main__` uses various implementations in `Deduplication.Lshforest.Lshforest`, `Deduplication.Lshimproved.Lshimproved`, and `Deduplication.Lsh.Lsh`, all of which are connected to `Utils.Utils` through indirect usage pathways.\\n- Additionally, `Utils.Utils` is connected to logging and memory usage functions within `Deduplication.__Main__`, as well as interactions with `Psutil` and `Os`, which are used in `Deduplication.__Main__.Log_Memory_Usage`.', 'steps': ['generate_cypher', 'execute_cypher', 'generate_final_answer'], 'cypher_statement': \"MATCH path = (m1:Module {id: 'Utils.Utils'})-[*..10]-(m2:Module {id: 'Deduplication.__Main__'}) RETURN path LIMIT 50\", 'cypher_results': [{'path': [{'id': 'Utils.Utils'}, 'DEFINED_IN', {'id': 'Utils.Utils.Unionfind'}, 'USES', {'id': 'Utils.Use_Cases.Collection_Deduplication'}, 'DEFINES', {'id': 'Utils.Use_Cases'}, 'DEFINES', {'id': 'Utils.Use_Cases.Nearest_Neighbor_Search'}, 'IMPORTED_IN', {'id': 'Deduplication.__Main__'}]}, {'path': [{'id': 'Utils.Utils'}, 'DEFINED_IN', {'id': 'Utils.Utils.Unionfind'}, 'USES', {'id': 'Utils.Use_Cases.Collection_Deduplication'}, 'DEFINES', {'id': 'Utils.Use_Cases'}, 'DEFINES', {'id': 'Utils.Use_Cases.Nearest_Neighbor_Search'}, 'IMPORTED_IN', {'id': 'Deduplication.__Main__'}, 'INDIRECTLY_USED_IN', {'id': 'Utils.Use_Cases.Collection_Deduplication'}, 'IMPORTED_IN', {'id': 'Deduplication.__Main__'}]}, {'path': [{'id': 'Utils.Utils'}, 'DEFINED_IN', {'id': 'Utils.Utils.Unionfind'}, 'USES', {'id': 'Utils.Use_Cases.Collection_Deduplication'}, 'DEFINES', {'id': 'Utils.Use_Cases'}, 'DEFINES', {'id': 'Utils.Use_Cases.Nearest_Neighbor_Search'}, 'IMPORTED_IN', {'id': 'Deduplication.__Main__'}, 'INDIRECTLY_USED_IN', {'id': 'Utils.Use_Cases.Collection_Deduplication'}, 'IMPORTED_IN', {'id': 'Deduplication.__Main__'}, 'INDIRECTLY_USED_IN', {'id': 'Utils.Utils.Read_Tsv'}, 'IMPORTED_IN', {'id': 'Deduplication.__Main__'}]}, {'path': [{'id': 'Utils.Utils'}, 'DEFINED_IN', {'id': 'Utils.Utils.Unionfind'}, 'USES', {'id': 'Utils.Use_Cases.Collection_Deduplication'}, 'DEFINES', {'id': 'Utils.Use_Cases'}, 'DEFINES', {'id': 'Utils.Use_Cases.Nearest_Neighbor_Search'}, 'IMPORTED_IN', {'id': 'Deduplication.__Main__'}, 'INDIRECTLY_USED_IN', {'id': 'Utils.Use_Cases.Collection_Deduplication'}, 'IMPORTED_IN', {'id': 'Deduplication.__Main__'}, 'IMPORTED_IN', {'id': 'Utils.Utils.Read_Tsv'}, 'INDIRECTLY_USED_IN', {'id': 'Deduplication.__Main__'}]}, {'path': [{'id': 'Utils.Utils'}, 'DEFINED_IN', {'id': 'Utils.Utils.Unionfind'}, 'USES', {'id': 'Utils.Use_Cases.Collection_Deduplication'}, 'DEFINES', {'id': 'Utils.Use_Cases'}, 'DEFINES', {'id': 'Utils.Use_Cases.Nearest_Neighbor_Search'}, 'IMPORTED_IN', {'id': 'Deduplication.__Main__'}, 'INDIRECTLY_USED_IN', {'id': 'Utils.Use_Cases.Collection_Deduplication'}, 'IMPORTED_IN', {'id': 'Deduplication.__Main__'}, 'IMPORTED_IN', {'id': 'Deduplication.Lshforest.Lshforest'}, 'USED_IN', {'id': 'Deduplication.__Main__.Model'}, 'DEFINED_IN', {'id': 'Deduplication.__Main__'}]}, {'path': [{'id': 'Utils.Utils'}, 'DEFINED_IN', {'id': 'Utils.Utils.Unionfind'}, 'USES', {'id': 'Utils.Use_Cases.Collection_Deduplication'}, 'DEFINES', {'id': 'Utils.Use_Cases'}, 'DEFINES', {'id': 'Utils.Use_Cases.Nearest_Neighbor_Search'}, 'IMPORTED_IN', {'id': 'Deduplication.__Main__'}, 'INDIRECTLY_USED_IN', {'id': 'Utils.Use_Cases.Collection_Deduplication'}, 'IMPORTED_IN', {'id': 'Deduplication.__Main__'}, 'IMPORTED_IN', {'id': 'Deduplication.Lshimproved.Lshimproved'}, 'USED_IN', {'id': 'Deduplication.__Main__.Model'}, 'DEFINED_IN', {'id': 'Deduplication.__Main__'}]}, {'path': [{'id': 'Utils.Utils'}, 'DEFINED_IN', {'id': 'Utils.Utils.Unionfind'}, 'USES', {'id': 'Utils.Use_Cases.Collection_Deduplication'}, 'DEFINES', {'id': 'Utils.Use_Cases'}, 'DEFINES', {'id': 'Utils.Use_Cases.Nearest_Neighbor_Search'}, 'IMPORTED_IN', {'id': 'Deduplication.__Main__'}, 'INDIRECTLY_USED_IN', {'id': 'Utils.Use_Cases.Collection_Deduplication'}, 'IMPORTED_IN', {'id': 'Deduplication.__Main__'}, 'IMPORTED_IN', {'id': 'Deduplication.Lsh.Lsh'}, 'RETURNS_INSTANCE_OF', {'id': 'Deduplication.__Main__.Model'}, 'DEFINED_IN', {'id': 'Deduplication.__Main__'}]}, {'path': [{'id': 'Utils.Utils'}, 'DEFINED_IN', {'id': 'Utils.Utils.Unionfind'}, 'USES', {'id': 'Utils.Use_Cases.Collection_Deduplication'}, 'DEFINES', {'id': 'Utils.Use_Cases'}, 'DEFINES', {'id': 'Utils.Use_Cases.Nearest_Neighbor_Search'}, 'IMPORTED_IN', {'id': 'Deduplication.__Main__'}, 'INDIRECTLY_USED_IN', {'id': 'Utils.Use_Cases.Collection_Deduplication'}, 'IMPORTED_IN', {'id': 'Deduplication.__Main__'}, 'IMPORTED_IN', {'id': 'Deduplication.Lsh.Lsh'}, 'USED_IN', {'id': 'Deduplication.__Main__.Model'}, 'DEFINED_IN', {'id': 'Deduplication.__Main__'}]}, {'path': [{'id': 'Utils.Utils'}, 'DEFINED_IN', {'id': 'Utils.Utils.Unionfind'}, 'USES', {'id': 'Utils.Use_Cases.Collection_Deduplication'}, 'DEFINES', {'id': 'Utils.Use_Cases'}, 'DEFINES', {'id': 'Utils.Use_Cases.Nearest_Neighbor_Search'}, 'IMPORTED_IN', {'id': 'Deduplication.__Main__'}, 'INDIRECTLY_USED_IN', {'id': 'Utils.Use_Cases.Collection_Deduplication'}, 'IMPORTED_IN', {'id': 'Deduplication.__Main__'}, 'USED_IN', {'id': 'Psutil'}, 'USED_IN', {'id': 'Deduplication.__Main__.Log_Memory_Usage'}, 'DEFINED_IN', {'id': 'Deduplication.__Main__'}]}, {'path': [{'id': 'Utils.Utils'}, 'DEFINED_IN', {'id': 'Utils.Utils.Unionfind'}, 'USES', {'id': 'Utils.Use_Cases.Collection_Deduplication'}, 'DEFINES', {'id': 'Utils.Use_Cases'}, 'DEFINES', {'id': 'Utils.Use_Cases.Nearest_Neighbor_Search'}, 'IMPORTED_IN', {'id': 'Deduplication.__Main__'}, 'INDIRECTLY_USED_IN', {'id': 'Utils.Use_Cases.Collection_Deduplication'}, 'IMPORTED_IN', {'id': 'Deduplication.__Main__'}, 'USED_IN', {'id': 'Os'}, 'USED_IN', {'id': 'Deduplication.__Main__.Log_Memory_Usage'}, 'DEFINED_IN', {'id': 'Deduplication.__Main__'}]}, {'path': [{'id': 'Utils.Utils'}, 'DEFINED_IN', {'id': 'Utils.Utils.Unionfind'}, 'USES', {'id': 'Utils.Use_Cases.Collection_Deduplication'}, 'DEFINES', {'id': 'Utils.Use_Cases'}, 'DEFINES', {'id': 'Utils.Use_Cases.Nearest_Neighbor_Search'}, 'IMPORTED_IN', {'id': 'Deduplication.__Main__'}, 'INDIRECTLY_USED_IN', {'id': 'Utils.Use_Cases.Collection_Deduplication'}, 'IMPORTED_IN', {'id': 'Deduplication.__Main__'}, 'USED_IN', {'id': 'Logging'}, 'USED_IN', {'id': 'Deduplication.__Main__.Model'}, 'DEFINED_IN', {'id': 'Deduplication.__Main__'}]}, {'path': [{'id': 'Utils.Utils'}, 'DEFINED_IN', {'id': 'Utils.Utils.Unionfind'}, 'USES', {'id': 'Utils.Use_Cases.Collection_Deduplication'}, 'DEFINES', {'id': 'Utils.Use_Cases'}, 'DEFINES', {'id': 'Utils.Use_Cases.Nearest_Neighbor_Search'}, 'IMPORTED_IN', {'id': 'Deduplication.__Main__'}, 'INDIRECTLY_USED_IN', {'id': 'Utils.Use_Cases.Collection_Deduplication'}, 'IMPORTED_IN', {'id': 'Deduplication.__Main__'}, 'USED_IN', {'id': 'Logging'}, 'USED_IN', {'id': 'Deduplication.__Main__.Log_Memory_Usage'}, 'DEFINED_IN', {'id': 'Deduplication.__Main__'}]}, {'path': [{'id': 'Utils.Utils'}, 'DEFINED_IN', {'id': 'Utils.Utils.Unionfind'}, 'USES', {'id': 'Utils.Use_Cases.Collection_Deduplication'}, 'DEFINES', {'id': 'Utils.Use_Cases'}, 'DEFINES', {'id': 'Utils.Use_Cases.Nearest_Neighbor_Search'}, 'IMPORTED_IN', {'id': 'Deduplication.__Main__'}, 'INDIRECTLY_USED_IN', {'id': 'Utils.Use_Cases.Collection_Deduplication'}, 'IMPORTED_IN', {'id': 'Deduplication.__Main__'}, 'USED_IN', {'id': 'Time'}, 'USED_IN', {'id': 'Deduplication.__Main__.Model'}, 'DEFINED_IN', {'id': 'Deduplication.__Main__'}]}, {'path': [{'id': 'Utils.Utils'}, 'DEFINED_IN', {'id': 'Utils.Utils.Unionfind'}, 'USES', {'id': 'Utils.Use_Cases.Collection_Deduplication'}, 'DEFINES', {'id': 'Utils.Use_Cases'}, 'DEFINES', {'id': 'Utils.Use_Cases.Nearest_Neighbor_Search'}, 'IMPORTED_IN', {'id': 'Deduplication.__Main__'}, 'INDIRECTLY_USED_IN', {'id': 'Utils.Use_Cases.Collection_Deduplication'}, 'IMPORTED_IN', {'id': 'Deduplication.__Main__'}, {}], 'INDIRECTLY_USED_IN': {'id': 'Utils.Use_Cases.Collection_Deduplication'}, 'USES': {'id': 'Collections'}, 'USED_IN': {'id': 'Deduplication.Dedup.Baseline.Tokenize'}, 'DEFINED_IN': {'id': 'Deduplication.Dedup.Baseline'}, 'IMPORTED_IN': {'id': 'Deduplication.__Main__'}}]}\n"
     ]
    },
    {
     "name": "stderr",
     "output_type": "stream",
     "text": [
      "\u001b[92mINFO\u001b[0m:agent_router:Results: {'answer': '- The `Utils.Utils` module is defined in the `Utils.Utils.Unionfind`, which uses `Utils.Use_Cases.Collection_Deduplication`. This is part of `Utils.Use_Cases` that defines `Utils.Use_Cases.Nearest_Neighbor_Search`, all of which are imported into the `Deduplication.__Main__` module.\\n- The `Utils.Utils.Unionfind` uses `Utils.Use_Cases.Collection_Deduplication`; this, in turn, is indirectly used in `Deduplication.__Main__`.\\n- The functionality in `Utils.Utils` indirectly influences parts of `Deduplication.__Main__` through its associations with `Utils.Utils.Read_Tsv` and various other modules that are part of `Deduplication`.\\n- The `Deduplication.__Main__.Model` defined in `Deduplication.__Main__` uses various implementations in `Deduplication.Lshforest.Lshforest`, `Deduplication.Lshimproved.Lshimproved`, and `Deduplication.Lsh.Lsh`, all of which are connected to `Utils.Utils` through indirect usage pathways.\\n- Additionally, `Utils.Utils` is connected to logging and memory usage functions within `Deduplication.__Main__`, as well as interactions with `Psutil` and `Os`, which are used in `Deduplication.__Main__.Log_Memory_Usage`.', 'steps': ['generate_cypher', 'execute_cypher', 'generate_final_answer'], 'cypher_statement': \"MATCH path = (m1:Module {id: 'Utils.Utils'})-[*..10]-(m2:Module {id: 'Deduplication.__Main__'}) RETURN path LIMIT 50\", 'cypher_results': [{'path': [{'id': 'Utils.Utils'}, 'DEFINED_IN', {'id': 'Utils.Utils.Unionfind'}, 'USES', {'id': 'Utils.Use_Cases.Collection_Deduplication'}, 'DEFINES', {'id': 'Utils.Use_Cases'}, 'DEFINES', {'id': 'Utils.Use_Cases.Nearest_Neighbor_Search'}, 'IMPORTED_IN', {'id': 'Deduplication.__Main__'}]}, {'path': [{'id': 'Utils.Utils'}, 'DEFINED_IN', {'id': 'Utils.Utils.Unionfind'}, 'USES', {'id': 'Utils.Use_Cases.Collection_Deduplication'}, 'DEFINES', {'id': 'Utils.Use_Cases'}, 'DEFINES', {'id': 'Utils.Use_Cases.Nearest_Neighbor_Search'}, 'IMPORTED_IN', {'id': 'Deduplication.__Main__'}, 'INDIRECTLY_USED_IN', {'id': 'Utils.Use_Cases.Collection_Deduplication'}, 'IMPORTED_IN', {'id': 'Deduplication.__Main__'}]}, {'path': [{'id': 'Utils.Utils'}, 'DEFINED_IN', {'id': 'Utils.Utils.Unionfind'}, 'USES', {'id': 'Utils.Use_Cases.Collection_Deduplication'}, 'DEFINES', {'id': 'Utils.Use_Cases'}, 'DEFINES', {'id': 'Utils.Use_Cases.Nearest_Neighbor_Search'}, 'IMPORTED_IN', {'id': 'Deduplication.__Main__'}, 'INDIRECTLY_USED_IN', {'id': 'Utils.Use_Cases.Collection_Deduplication'}, 'IMPORTED_IN', {'id': 'Deduplication.__Main__'}, 'INDIRECTLY_USED_IN', {'id': 'Utils.Utils.Read_Tsv'}, 'IMPORTED_IN', {'id': 'Deduplication.__Main__'}]}, {'path': [{'id': 'Utils.Utils'}, 'DEFINED_IN', {'id': 'Utils.Utils.Unionfind'}, 'USES', {'id': 'Utils.Use_Cases.Collection_Deduplication'}, 'DEFINES', {'id': 'Utils.Use_Cases'}, 'DEFINES', {'id': 'Utils.Use_Cases.Nearest_Neighbor_Search'}, 'IMPORTED_IN', {'id': 'Deduplication.__Main__'}, 'INDIRECTLY_USED_IN', {'id': 'Utils.Use_Cases.Collection_Deduplication'}, 'IMPORTED_IN', {'id': 'Deduplication.__Main__'}, 'IMPORTED_IN', {'id': 'Utils.Utils.Read_Tsv'}, 'INDIRECTLY_USED_IN', {'id': 'Deduplication.__Main__'}]}, {'path': [{'id': 'Utils.Utils'}, 'DEFINED_IN', {'id': 'Utils.Utils.Unionfind'}, 'USES', {'id': 'Utils.Use_Cases.Collection_Deduplication'}, 'DEFINES', {'id': 'Utils.Use_Cases'}, 'DEFINES', {'id': 'Utils.Use_Cases.Nearest_Neighbor_Search'}, 'IMPORTED_IN', {'id': 'Deduplication.__Main__'}, 'INDIRECTLY_USED_IN', {'id': 'Utils.Use_Cases.Collection_Deduplication'}, 'IMPORTED_IN', {'id': 'Deduplication.__Main__'}, 'IMPORTED_IN', {'id': 'Deduplication.Lshforest.Lshforest'}, 'USED_IN', {'id': 'Deduplication.__Main__.Model'}, 'DEFINED_IN', {'id': 'Deduplication.__Main__'}]}, {'path': [{'id': 'Utils.Utils'}, 'DEFINED_IN', {'id': 'Utils.Utils.Unionfind'}, 'USES', {'id': 'Utils.Use_Cases.Collection_Deduplication'}, 'DEFINES', {'id': 'Utils.Use_Cases'}, 'DEFINES', {'id': 'Utils.Use_Cases.Nearest_Neighbor_Search'}, 'IMPORTED_IN', {'id': 'Deduplication.__Main__'}, 'INDIRECTLY_USED_IN', {'id': 'Utils.Use_Cases.Collection_Deduplication'}, 'IMPORTED_IN', {'id': 'Deduplication.__Main__'}, 'IMPORTED_IN', {'id': 'Deduplication.Lshimproved.Lshimproved'}, 'USED_IN', {'id': 'Deduplication.__Main__.Model'}, 'DEFINED_IN', {'id': 'Deduplication.__Main__'}]}, {'path': [{'id': 'Utils.Utils'}, 'DEFINED_IN', {'id': 'Utils.Utils.Unionfind'}, 'USES', {'id': 'Utils.Use_Cases.Collection_Deduplication'}, 'DEFINES', {'id': 'Utils.Use_Cases'}, 'DEFINES', {'id': 'Utils.Use_Cases.Nearest_Neighbor_Search'}, 'IMPORTED_IN', {'id': 'Deduplication.__Main__'}, 'INDIRECTLY_USED_IN', {'id': 'Utils.Use_Cases.Collection_Deduplication'}, 'IMPORTED_IN', {'id': 'Deduplication.__Main__'}, 'IMPORTED_IN', {'id': 'Deduplication.Lsh.Lsh'}, 'RETURNS_INSTANCE_OF', {'id': 'Deduplication.__Main__.Model'}, 'DEFINED_IN', {'id': 'Deduplication.__Main__'}]}, {'path': [{'id': 'Utils.Utils'}, 'DEFINED_IN', {'id': 'Utils.Utils.Unionfind'}, 'USES', {'id': 'Utils.Use_Cases.Collection_Deduplication'}, 'DEFINES', {'id': 'Utils.Use_Cases'}, 'DEFINES', {'id': 'Utils.Use_Cases.Nearest_Neighbor_Search'}, 'IMPORTED_IN', {'id': 'Deduplication.__Main__'}, 'INDIRECTLY_USED_IN', {'id': 'Utils.Use_Cases.Collection_Deduplication'}, 'IMPORTED_IN', {'id': 'Deduplication.__Main__'}, 'IMPORTED_IN', {'id': 'Deduplication.Lsh.Lsh'}, 'USED_IN', {'id': 'Deduplication.__Main__.Model'}, 'DEFINED_IN', {'id': 'Deduplication.__Main__'}]}, {'path': [{'id': 'Utils.Utils'}, 'DEFINED_IN', {'id': 'Utils.Utils.Unionfind'}, 'USES', {'id': 'Utils.Use_Cases.Collection_Deduplication'}, 'DEFINES', {'id': 'Utils.Use_Cases'}, 'DEFINES', {'id': 'Utils.Use_Cases.Nearest_Neighbor_Search'}, 'IMPORTED_IN', {'id': 'Deduplication.__Main__'}, 'INDIRECTLY_USED_IN', {'id': 'Utils.Use_Cases.Collection_Deduplication'}, 'IMPORTED_IN', {'id': 'Deduplication.__Main__'}, 'USED_IN', {'id': 'Psutil'}, 'USED_IN', {'id': 'Deduplication.__Main__.Log_Memory_Usage'}, 'DEFINED_IN', {'id': 'Deduplication.__Main__'}]}, {'path': [{'id': 'Utils.Utils'}, 'DEFINED_IN', {'id': 'Utils.Utils.Unionfind'}, 'USES', {'id': 'Utils.Use_Cases.Collection_Deduplication'}, 'DEFINES', {'id': 'Utils.Use_Cases'}, 'DEFINES', {'id': 'Utils.Use_Cases.Nearest_Neighbor_Search'}, 'IMPORTED_IN', {'id': 'Deduplication.__Main__'}, 'INDIRECTLY_USED_IN', {'id': 'Utils.Use_Cases.Collection_Deduplication'}, 'IMPORTED_IN', {'id': 'Deduplication.__Main__'}, 'USED_IN', {'id': 'Os'}, 'USED_IN', {'id': 'Deduplication.__Main__.Log_Memory_Usage'}, 'DEFINED_IN', {'id': 'Deduplication.__Main__'}]}, {'path': [{'id': 'Utils.Utils'}, 'DEFINED_IN', {'id': 'Utils.Utils.Unionfind'}, 'USES', {'id': 'Utils.Use_Cases.Collection_Deduplication'}, 'DEFINES', {'id': 'Utils.Use_Cases'}, 'DEFINES', {'id': 'Utils.Use_Cases.Nearest_Neighbor_Search'}, 'IMPORTED_IN', {'id': 'Deduplication.__Main__'}, 'INDIRECTLY_USED_IN', {'id': 'Utils.Use_Cases.Collection_Deduplication'}, 'IMPORTED_IN', {'id': 'Deduplication.__Main__'}, 'USED_IN', {'id': 'Logging'}, 'USED_IN', {'id': 'Deduplication.__Main__.Model'}, 'DEFINED_IN', {'id': 'Deduplication.__Main__'}]}, {'path': [{'id': 'Utils.Utils'}, 'DEFINED_IN', {'id': 'Utils.Utils.Unionfind'}, 'USES', {'id': 'Utils.Use_Cases.Collection_Deduplication'}, 'DEFINES', {'id': 'Utils.Use_Cases'}, 'DEFINES', {'id': 'Utils.Use_Cases.Nearest_Neighbor_Search'}, 'IMPORTED_IN', {'id': 'Deduplication.__Main__'}, 'INDIRECTLY_USED_IN', {'id': 'Utils.Use_Cases.Collection_Deduplication'}, 'IMPORTED_IN', {'id': 'Deduplication.__Main__'}, 'USED_IN', {'id': 'Logging'}, 'USED_IN', {'id': 'Deduplication.__Main__.Log_Memory_Usage'}, 'DEFINED_IN', {'id': 'Deduplication.__Main__'}]}, {'path': [{'id': 'Utils.Utils'}, 'DEFINED_IN', {'id': 'Utils.Utils.Unionfind'}, 'USES', {'id': 'Utils.Use_Cases.Collection_Deduplication'}, 'DEFINES', {'id': 'Utils.Use_Cases'}, 'DEFINES', {'id': 'Utils.Use_Cases.Nearest_Neighbor_Search'}, 'IMPORTED_IN', {'id': 'Deduplication.__Main__'}, 'INDIRECTLY_USED_IN', {'id': 'Utils.Use_Cases.Collection_Deduplication'}, 'IMPORTED_IN', {'id': 'Deduplication.__Main__'}, 'USED_IN', {'id': 'Time'}, 'USED_IN', {'id': 'Deduplication.__Main__.Model'}, 'DEFINED_IN', {'id': 'Deduplication.__Main__'}]}, {'path': [{'id': 'Utils.Utils'}, 'DEFINED_IN', {'id': 'Utils.Utils.Unionfind'}, 'USES', {'id': 'Utils.Use_Cases.Collection_Deduplication'}, 'DEFINES', {'id': 'Utils.Use_Cases'}, 'DEFINES', {'id': 'Utils.Use_Cases.Nearest_Neighbor_Search'}, 'IMPORTED_IN', {'id': 'Deduplication.__Main__'}, 'INDIRECTLY_USED_IN', {'id': 'Utils.Use_Cases.Collection_Deduplication'}, 'IMPORTED_IN', {'id': 'Deduplication.__Main__'}, {}], 'INDIRECTLY_USED_IN': {'id': 'Utils.Use_Cases.Collection_Deduplication'}, 'USES': {'id': 'Collections'}, 'USED_IN': {'id': 'Deduplication.Dedup.Baseline.Tokenize'}, 'DEFINED_IN': {'id': 'Deduplication.Dedup.Baseline'}, 'IMPORTED_IN': {'id': 'Deduplication.__Main__'}}]}\n"
     ]
    },
    {
     "name": "stdout",
     "output_type": "stream",
     "text": [
      "\u001b[90m2025-04-24 21:25:14\u001b[0m - \u001b[36magent_router\u001b[0m - \u001b[92mINFO\u001b[0m - Question: How is the Utils.Utils module related to the Deduplication.__Main__ module?\n"
     ]
    },
    {
     "name": "stderr",
     "output_type": "stream",
     "text": [
      "\u001b[92mINFO\u001b[0m:agent_router:Question: How is the Utils.Utils module related to the Deduplication.__Main__ module?\n"
     ]
    },
    {
     "name": "stdout",
     "output_type": "stream",
     "text": [
      "\u001b[90m2025-04-24 21:25:25\u001b[0m - \u001b[36magent_router\u001b[0m - \u001b[92mINFO\u001b[0m - Supervisor decided to route to: FINISH\n"
     ]
    },
    {
     "name": "stderr",
     "output_type": "stream",
     "text": [
      "\u001b[92mINFO\u001b[0m:agent_router:Supervisor decided to route to: FINISH\n"
     ]
    }
   ],
   "source": [
    "full_query = 'How is the Utils.Utils module related to the Deduplication.__Main__ module?'\n",
    "# full_query = 'What does the Deduplication.__Main__ module do?'\n",
    "\n",
    "# Add the user message to the conversation history\n",
    "user_message = HumanMessage(content=full_query)\n",
    "\n",
    "# Initialize the state with the user query\n",
    "initial_state = {\"messages\": [user_message]}\n",
    "result = graph.invoke(initial_state, config = config)"
   ]
  },
  {
   "cell_type": "code",
   "execution_count": 11,
   "id": "a4d35230",
   "metadata": {},
   "outputs": [
    {
     "data": {
      "text/plain": [
       "[HumanMessage(content='How is the Utils.Utils module related to the Deduplication.__Main__ module?', additional_kwargs={}, response_metadata={}, id='371c6701-4857-4a96-812b-f193c75209c3'),\n",
       " AIMessage(content=\"I've decided to route to micro because this is the appropriate next step.\", additional_kwargs={}, response_metadata={}, name='supervisor', id='a095fe7d-7f6c-451d-8892-69d8ba7842d3'),\n",
       " AIMessage(content=\"The `Utils.Utils` module plays a crucial role in the `Deduplication.__Main__` module by providing fundamental utilities that aid in document deduplication and nearest neighbor search operations. Here's an overview of their relationship:\\n\\n1. **Union-Find Operations**: The `UnionFind` class in `Utils.Utils` offers efficient set operations important for managing clusters of duplicates and merging them, which is essential for deduplication.\\n\\n2. **Locality-Sensitive Hashing (LSH)**: This utility is employed by various modules like `Deduplication.Lshforest.Lshforest`, `Deduplication.Lshimproved.Lshimproved`, and `Deduplication.Lsh.Lsh`, supporting deduplication and approximate nearest neighbor searches.\\n\\n3. **Performance and Logging**: The `Utils.Utils` module contributes to performance monitoring and logging by collaborating with system utilities such as `Psutil` and `Os`, allowing the tracking of resource usage and providing detailed logs.\\n\\nThese connections enhance the main script's capability to process large datasets efficiently while offering comprehensive insights into algorithmic performance and system resource utilization, facilitated by a flexible command-line interface.\", additional_kwargs={}, response_metadata={}, name='micro', id='8f4d4688-dbc1-416c-a707-8d4a2154d717'),\n",
       " AIMessage(content=\"I've decided to route to FINISH because this is the appropriate next step.\", additional_kwargs={}, response_metadata={}, name='supervisor', id='2f8f5235-b16e-4567-9ed5-96e0e2d29efc')]"
      ]
     },
     "execution_count": 11,
     "metadata": {},
     "output_type": "execute_result"
    }
   ],
   "source": [
    "result['messages']"
   ]
  },
  {
   "cell_type": "code",
   "execution_count": 12,
   "id": "a26e05c0",
   "metadata": {},
   "outputs": [
    {
     "name": "stdout",
     "output_type": "stream",
     "text": [
      "The `Utils.Utils` module plays a crucial role in the `Deduplication.__Main__` module by providing fundamental utilities that aid in document deduplication and nearest neighbor search operations. Here's an overview of their relationship:\n",
      "\n",
      "1. **Union-Find Operations**: The `UnionFind` class in `Utils.Utils` offers efficient set operations important for managing clusters of duplicates and merging them, which is essential for deduplication.\n",
      "\n",
      "2. **Locality-Sensitive Hashing (LSH)**: This utility is employed by various modules like `Deduplication.Lshforest.Lshforest`, `Deduplication.Lshimproved.Lshimproved`, and `Deduplication.Lsh.Lsh`, supporting deduplication and approximate nearest neighbor searches.\n",
      "\n",
      "3. **Performance and Logging**: The `Utils.Utils` module contributes to performance monitoring and logging by collaborating with system utilities such as `Psutil` and `Os`, allowing the tracking of resource usage and providing detailed logs.\n",
      "\n",
      "These connections enhance the main script's capability to process large datasets efficiently while offering comprehensive insights into algorithmic performance and system resource utilization, facilitated by a flexible command-line interface.\n"
     ]
    }
   ],
   "source": [
    "print(result['messages'][-2].content)"
   ]
  },
  {
   "cell_type": "markdown",
   "id": "635e2f3c",
   "metadata": {},
   "source": [
    "# Evaluation"
   ]
  },
  {
   "cell_type": "code",
   "execution_count": 57,
   "id": "3b605e27",
   "metadata": {},
   "outputs": [
    {
     "name": "stdout",
     "output_type": "stream",
     "text": [
      "c:\\Users\\JaeHoBahng\\Desktop\\Georgetown\\2025_Spring\\DSAN_6725\\project\\spring-2025-final-project-project-group-2\\src\n",
      "c:\\Users\\JaeHoBahng\\Desktop\\Georgetown\\2025_Spring\\DSAN_6725\\project\\spring-2025-final-project-project-group-2\\src\n"
     ]
    }
   ],
   "source": [
    "import os\n",
    "print(os.getcwd())\n",
    "os.chdir('c:\\\\Users\\\\JaeHoBahng\\\\Desktop\\\\Georgetown\\\\2025_Spring\\\\DSAN_6725\\\\project\\\\spring-2025-final-project-project-group-2\\\\src')\n",
    "print(os.getcwd())\n",
    "import importlib\n",
    "\n",
    "import tools.micro_text_answer as mta\n",
    "\n",
    "importlib.reload(mta)\n",
    "\n",
    "\n",
    "db_setup, query_engine = mta.create_rag_system(\n",
    "    repo_path=\"../docs/notebooks/assignment-2-mcdonald-s/src\",\n",
    "    embedding_model=\"text-embedding-3-large\",\n",
    "    llm_model=\"gpt-4o\",\n",
    ")"
   ]
  },
  {
   "cell_type": "code",
   "execution_count": 3,
   "id": "fa4a71e4",
   "metadata": {},
   "outputs": [],
   "source": [
    "docs = db_setup.all_docs"
   ]
  },
  {
   "cell_type": "code",
   "execution_count": 4,
   "id": "012a5483",
   "metadata": {},
   "outputs": [
    {
     "name": "stderr",
     "output_type": "stream",
     "text": [
      "c:\\Users\\JaeHoBahng\\Desktop\\Georgetown\\2025_Spring\\DSAN_6725\\project\\spring-2025-final-project-project-group-2\\.venv\\Lib\\site-packages\\tqdm\\auto.py:21: TqdmWarning: IProgress not found. Please update jupyter and ipywidgets. See https://ipywidgets.readthedocs.io/en/stable/user_install.html\n",
      "  from .autonotebook import tqdm as notebook_tqdm\n"
     ]
    }
   ],
   "source": [
    "from ragas.llms import LangchainLLMWrapper\n",
    "from ragas.embeddings import LangchainEmbeddingsWrapper\n",
    "from langchain_openai import ChatOpenAI\n",
    "from langchain_openai import OpenAIEmbeddings\n",
    "generator_llm = LangchainLLMWrapper(ChatOpenAI(model=\"gpt-4o\"))\n",
    "generator_embeddings = LangchainEmbeddingsWrapper(OpenAIEmbeddings())"
   ]
  },
  {
   "cell_type": "code",
   "execution_count": null,
   "id": "3a8c5556",
   "metadata": {},
   "outputs": [
    {
     "name": "stderr",
     "output_type": "stream",
     "text": [
      "Applying CustomNodeFilter:   0%|          | 0/46 [00:00<?, ?it/s]         Node 90e5fc0a-1b22-4257-b115-53a0683d2530 does not have a summary. Skipping filtering.\n",
      "Node 248a4442-f40b-4a00-a2b7-36e752fc5274 does not have a summary. Skipping filtering.\n",
      "Node e316158e-152e-40d9-a195-e01604e84e23 does not have a summary. Skipping filtering.\n",
      "Applying CustomNodeFilter:   9%|▊         | 4/46 [00:00<00:05,  7.57it/s]Node 7a648ee6-7e78-47bf-a510-8d021ef33b89 does not have a summary. Skipping filtering.\n",
      "Applying CustomNodeFilter:  13%|█▎        | 6/46 [00:00<00:03, 10.16it/s]Node c84fc18a-4412-4f1e-89ec-9a9f6a31811b does not have a summary. Skipping filtering.\n",
      "Node 7a5c5031-ae0a-45c5-8b42-c47c2d6cfa27 does not have a summary. Skipping filtering.\n",
      "Applying CustomNodeFilter:  46%|████▌     | 21/46 [00:01<00:01, 19.73it/s]Node 8a9cb394-a1c8-4866-bc32-816cc9ab2865 does not have a summary. Skipping filtering.\n",
      "Applying CustomNodeFilter:  57%|█████▋    | 26/46 [00:01<00:00, 25.53it/s]Node 13a3a24b-b0b4-49db-a37f-22dcb3da5b1d does not have a summary. Skipping filtering.\n",
      "Generating personas: 100%|██████████| 3/3 [00:00<00:00,  3.33it/s]                                             \n",
      "Generating Scenarios: 100%|██████████| 3/3 [00:22<00:00,  7.56s/it]\n",
      "Generating Samples: 100%|██████████| 12/12 [00:05<00:00,  2.26it/s]\n"
     ]
    }
   ],
   "source": [
    "from ragas.testset import TestsetGenerator\n",
    "\n",
    "generator = TestsetGenerator(llm=generator_llm, embedding_model=generator_embeddings)\n",
    "dataset = generator.generate_with_langchain_docs(docs, testset_size=20)"
   ]
  },
  {
   "cell_type": "code",
   "execution_count": 8,
   "id": "04da2c06",
   "metadata": {},
   "outputs": [],
   "source": [
    "pd_dataset = dataset.to_pandas()"
   ]
  },
  {
   "cell_type": "code",
   "execution_count": 38,
   "id": "b118f1f5",
   "metadata": {},
   "outputs": [],
   "source": [
    "# pd_dataset.head()"
   ]
  },
  {
   "cell_type": "code",
   "execution_count": null,
   "id": "626d558a",
   "metadata": {},
   "outputs": [],
   "source": [
    "# test_query = pd_dataset['user_input'][0]\n",
    "# test_results = query_engine.query(test_query)\n",
    "# test_results"
   ]
  },
  {
   "cell_type": "code",
   "execution_count": 58,
   "id": "c9758776",
   "metadata": {},
   "outputs": [
    {
     "name": "stdout",
     "output_type": "stream",
     "text": [
      "1\n",
      "2\n",
      "3\n",
      "4\n",
      "5\n",
      "6\n",
      "7\n",
      "8\n",
      "9\n",
      "10\n",
      "11\n",
      "12\n"
     ]
    }
   ],
   "source": [
    "result_list = []\n",
    "references_list = []\n",
    "num = 0\n",
    "for i in pd_dataset['user_input']:\n",
    "    num += 1\n",
    "    print(num)\n",
    "    results = query_engine.query(i)\n",
    "    references = [i.page_content for i in query_engine.retrieved_docs]\n",
    "\n",
    "    result_list.append(results)\n",
    "    references_list.append(references)\n",
    "\n",
    "pd_dataset['response'] = result_list\n",
    "pd_dataset['retrieved_contexts'] = references_list\n"
   ]
  },
  {
   "cell_type": "code",
   "execution_count": 59,
   "id": "4f9da761",
   "metadata": {},
   "outputs": [
    {
     "data": {
      "text/html": [
       "<div>\n",
       "<style scoped>\n",
       "    .dataframe tbody tr th:only-of-type {\n",
       "        vertical-align: middle;\n",
       "    }\n",
       "\n",
       "    .dataframe tbody tr th {\n",
       "        vertical-align: top;\n",
       "    }\n",
       "\n",
       "    .dataframe thead th {\n",
       "        text-align: right;\n",
       "    }\n",
       "</style>\n",
       "<table border=\"1\" class=\"dataframe\">\n",
       "  <thead>\n",
       "    <tr style=\"text-align: right;\">\n",
       "      <th></th>\n",
       "      <th>user_input</th>\n",
       "      <th>reference_contexts</th>\n",
       "      <th>reference</th>\n",
       "      <th>synthesizer_name</th>\n",
       "      <th>response</th>\n",
       "      <th>retrieved_contexts</th>\n",
       "    </tr>\n",
       "  </thead>\n",
       "  <tbody>\n",
       "    <tr>\n",
       "      <th>0</th>\n",
       "      <td>What are Bloom Filters used for in data proces...</td>\n",
       "      <td>[The code provided defines several implementat...</td>\n",
       "      <td>Bloom Filters are used to test whether an elem...</td>\n",
       "      <td>single_hop_specifc_query_synthesizer</td>\n",
       "      <td>Bloom Filters are used in data processing prim...</td>\n",
       "      <td>[### Usage:\\n\\nEach class is instantiated with...</td>\n",
       "    </tr>\n",
       "    <tr>\n",
       "      <th>1</th>\n",
       "      <td>How Kirsch-Mitzenmacher Optimization help in B...</td>\n",
       "      <td>[- **Methods**:\\n     - `add(item)`: \\n       ...</td>\n",
       "      <td>The Kirsch-Mitzenmacher Optimization in BloomF...</td>\n",
       "      <td>single_hop_specifc_query_synthesizer</td>\n",
       "      <td>**Kirsch-Mitzenmacher Optimization in Bloom Fi...</td>\n",
       "      <td>[2. **BloomFilter Class:**\\n   - Uses n-grams ...</td>\n",
       "    </tr>\n",
       "    <tr>\n",
       "      <th>2</th>\n",
       "      <td>Cud yu pleese explane how the BloomFilter_QF w...</td>\n",
       "      <td>[3. **BloomFilter_Uni_Hash**:\\n   - Uses **Uni...</td>\n",
       "      <td>The BloomFilter_QF implements a variant using ...</td>\n",
       "      <td>single_hop_specifc_query_synthesizer</td>\n",
       "      <td>The BloomFilter_QF class leverages a quotient ...</td>\n",
       "      <td>[2. **BloomFilter Class:**\\n   - Uses n-grams ...</td>\n",
       "    </tr>\n",
       "    <tr>\n",
       "      <th>3</th>\n",
       "      <td>what dedup.py do?</td>\n",
       "      <td>[The code provided is part of a Python module ...</td>\n",
       "      <td>The code provided is part of a Python module d...</td>\n",
       "      <td>single_hop_specifc_query_synthesizer</td>\n",
       "      <td>The script `dedup.py`, located at the path `de...</td>\n",
       "      <td>[This script, found at the path `deduplication...</td>\n",
       "    </tr>\n",
       "    <tr>\n",
       "      <th>4</th>\n",
       "      <td>How do tokenization and MinHash signatures con...</td>\n",
       "      <td>[&lt;1-hop&gt;\\n\\n7. **Method: `tokenize`**:\\n   - I...</td>\n",
       "      <td>Tokenization contributes to optimizing dedupli...</td>\n",
       "      <td>multi_hop_abstract_query_synthesizer</td>\n",
       "      <td>Tokenization and MinHash signatures play cruci...</td>\n",
       "      <td>[### Overall Functionality:\\nThe class provide...</td>\n",
       "    </tr>\n",
       "  </tbody>\n",
       "</table>\n",
       "</div>"
      ],
      "text/plain": [
       "                                          user_input  \\\n",
       "0  What are Bloom Filters used for in data proces...   \n",
       "1  How Kirsch-Mitzenmacher Optimization help in B...   \n",
       "2  Cud yu pleese explane how the BloomFilter_QF w...   \n",
       "3                                  what dedup.py do?   \n",
       "4  How do tokenization and MinHash signatures con...   \n",
       "\n",
       "                                  reference_contexts  \\\n",
       "0  [The code provided defines several implementat...   \n",
       "1  [- **Methods**:\\n     - `add(item)`: \\n       ...   \n",
       "2  [3. **BloomFilter_Uni_Hash**:\\n   - Uses **Uni...   \n",
       "3  [The code provided is part of a Python module ...   \n",
       "4  [<1-hop>\\n\\n7. **Method: `tokenize`**:\\n   - I...   \n",
       "\n",
       "                                           reference  \\\n",
       "0  Bloom Filters are used to test whether an elem...   \n",
       "1  The Kirsch-Mitzenmacher Optimization in BloomF...   \n",
       "2  The BloomFilter_QF implements a variant using ...   \n",
       "3  The code provided is part of a Python module d...   \n",
       "4  Tokenization contributes to optimizing dedupli...   \n",
       "\n",
       "                       synthesizer_name  \\\n",
       "0  single_hop_specifc_query_synthesizer   \n",
       "1  single_hop_specifc_query_synthesizer   \n",
       "2  single_hop_specifc_query_synthesizer   \n",
       "3  single_hop_specifc_query_synthesizer   \n",
       "4  multi_hop_abstract_query_synthesizer   \n",
       "\n",
       "                                            response  \\\n",
       "0  Bloom Filters are used in data processing prim...   \n",
       "1  **Kirsch-Mitzenmacher Optimization in Bloom Fi...   \n",
       "2  The BloomFilter_QF class leverages a quotient ...   \n",
       "3  The script `dedup.py`, located at the path `de...   \n",
       "4  Tokenization and MinHash signatures play cruci...   \n",
       "\n",
       "                                  retrieved_contexts  \n",
       "0  [### Usage:\\n\\nEach class is instantiated with...  \n",
       "1  [2. **BloomFilter Class:**\\n   - Uses n-grams ...  \n",
       "2  [2. **BloomFilter Class:**\\n   - Uses n-grams ...  \n",
       "3  [This script, found at the path `deduplication...  \n",
       "4  [### Overall Functionality:\\nThe class provide...  "
      ]
     },
     "execution_count": 59,
     "metadata": {},
     "output_type": "execute_result"
    }
   ],
   "source": [
    "pd_dataset.head()"
   ]
  },
  {
   "cell_type": "code",
   "execution_count": null,
   "id": "58714592",
   "metadata": {},
   "outputs": [],
   "source": []
  },
  {
   "cell_type": "code",
   "execution_count": 45,
   "id": "1edf0d15",
   "metadata": {},
   "outputs": [],
   "source": [
    "from ragas import EvaluationDataset\n",
    "import ast\n",
    "\n",
    "dataset_list = pd_dataset.to_dict(orient=\"records\")\n",
    "eval_data = EvaluationDataset.from_list(dataset_list)"
   ]
  },
  {
   "cell_type": "code",
   "execution_count": 46,
   "id": "e796b3c9",
   "metadata": {},
   "outputs": [],
   "source": [
    "from ragas import evaluate\n",
    "from ragas.llms import LangchainLLMWrapper\n",
    "\n",
    "from langchain.chat_models import init_chat_model\n",
    "\n",
    "llm = init_chat_model(\"gpt-4o\", model_provider=\"openai\")\n",
    "# generator_llm = LangchainLLMWrapper(llm)\n",
    "evaluator_llm = LangchainLLMWrapper(llm)"
   ]
  },
  {
   "cell_type": "code",
   "execution_count": 67,
   "id": "ae5454b4",
   "metadata": {},
   "outputs": [
    {
     "name": "stderr",
     "output_type": "stream",
     "text": [
      "Evaluating:  56%|█████▌    | 20/36 [02:51<02:54, 10.89s/it]Exception raised in Job[1]: TimeoutError()\n",
      "Exception raised in Job[4]: TimeoutError()\n",
      "Evaluating:  58%|█████▊    | 21/36 [03:00<02:31, 10.12s/it]Exception raised in Job[7]: TimeoutError()\n",
      "Exception raised in Job[10]: TimeoutError()\n",
      "Exception raised in Job[13]: TimeoutError()\n",
      "Exception raised in Job[16]: TimeoutError()\n",
      "Evaluating:  75%|███████▌  | 27/36 [03:04<00:29,  3.31s/it]Exception raised in Job[19]: TimeoutError()\n",
      "Evaluating:  81%|████████  | 29/36 [03:14<00:26,  3.81s/it]Exception raised in Job[22]: TimeoutError()\n",
      "Evaluating:  97%|█████████▋| 35/36 [04:16<00:08,  8.36s/it]Exception raised in Job[28]: TimeoutError()\n",
      "Evaluating: 100%|██████████| 36/36 [04:41<00:00,  7.82s/it]\n"
     ]
    },
    {
     "data": {
      "text/plain": [
       "{'context_recall': 0.8278, 'faithfulness': 0.7533, 'factual_correctness(mode=recall)': 0.6842}"
      ]
     },
     "execution_count": 67,
     "metadata": {},
     "output_type": "execute_result"
    }
   ],
   "source": [
    "from ragas.metrics import LLMContextRecall, Faithfulness, FactualCorrectness\n",
    "\n",
    "result = evaluate(dataset=eval_data,metrics=[LLMContextRecall(), Faithfulness(), FactualCorrectness(mode=\"recall\")],llm=evaluator_llm)\n",
    "result"
   ]
  },
  {
   "cell_type": "code",
   "execution_count": 69,
   "id": "386c02b5",
   "metadata": {},
   "outputs": [
    {
     "name": "stdout",
     "output_type": "stream",
     "text": [
      "How do tokenization and MinHash signatures contribute to optimizing deduplication processes in large datasets, and how is performance monitored?\n"
     ]
    }
   ],
   "source": [
    "print(pd_dataset.iloc[4]['user_input'])"
   ]
  },
  {
   "cell_type": "code",
   "execution_count": 70,
   "id": "b81c2406",
   "metadata": {},
   "outputs": [
    {
     "name": "stdout",
     "output_type": "stream",
     "text": [
      "Tokenization contributes to optimizing deduplication processes by splitting a document into words (tokens) and using a `Counter` object to provide word frequencies, which helps in identifying duplicates based on word count resemblance. MinHash signatures are computed using a specified number of hash functions, which are part of the initialization parameters for a class that handles deduplication. These signatures help in efficiently identifying similar documents by mapping bands to document IDs for candidate pairing. Performance is monitored through a memory logging function `log_memory_usage()`, which logs the process's memory usage to debug and optimize resource utilization.\n"
     ]
    }
   ],
   "source": [
    "print(pd_dataset.iloc[4]['reference'])"
   ]
  },
  {
   "cell_type": "code",
   "execution_count": 71,
   "id": "86e6976f",
   "metadata": {},
   "outputs": [
    {
     "name": "stdout",
     "output_type": "stream",
     "text": [
      "Tokenization and MinHash signatures play crucial roles in enhancing the efficiency of deduplication processes in large datasets. Tokenization breaks down documents into smaller components, such as words or tokens, which can then be analyzed for content overlap or similarities. This lays the groundwork for more advanced similarity detection methods, such as MinHash signatures.\n",
      "\n",
      "MinHash signatures help by creating a compact representation of a document's content through hashing techniques. By generating shingles from tokenized documents and then applying MinHash, documents are translated into a set of signatures. These signatures are far more space-efficient than directly comparing all tokens or words, enabling quick similarity assessments across vast datasets. The use of MinHash allows for the identification of near-duplicates by comparing these signatures rather than entire documents, significantly speeding up the deduplication process.\n",
      "\n",
      "Performance monitoring and optimization are facilitated via methods like banding, which organizes MinHash signatures into bands. This technique helps to efficiently identify candidate pairs for further inspection by grouping documents with similar signature segments. Additionally, advanced probing strategies such as nearby banding, bit flips, and Gaussian noise adjustments further refine the candidate pairing process, ensuring that potential duplicates are not overlooked.\n",
      "\n",
      "By combining these methodologies, the deduplication process not only becomes more efficient but also scalable, ensuring that even in massive data environments, similar and duplicate documents are handled effectively while maintaining computational resources. Performance is monitored by tracking deduplication speed and memory usage, ensuring the process remains optimized and scalable for large-scale applications.\n"
     ]
    }
   ],
   "source": [
    "print(pd_dataset.iloc[4]['response'])"
   ]
  },
  {
   "cell_type": "code",
   "execution_count": 83,
   "id": "84e5b2f4",
   "metadata": {},
   "outputs": [
    {
     "name": "stdout",
     "output_type": "stream",
     "text": [
      "<1-hop>\n",
      "\n",
      "7. **Method: `tokenize`**:\n",
      "   - Inputs: A single document string.\n",
      "   - Functionality: Splits the document into words (tokens) based on spaces and returns a `Counter` object that provides word frequencies.\n",
      "\n",
      "8. **Method: `word_count_baseline`**:\n",
      "   - Inputs: A list of document strings and a `threshold` specifying the minimum word overlap fraction required to consider two documents as duplicates.\n",
      "   - Functionality: Uses word count resemblance to identify duplicates. For every pair of documents, it computes the overlap ratio by comparing the intersection and union of their word frequencies.\n",
      "   - If the overlap ratio meets or exceeds the given threshold, the document pair is flagged as a duplicate.\n",
      "   - Outputs: A list of tuples, each containing two documents identified as duplicates.\n",
      "<2-hop>\n",
      "\n",
      "2. **Initialization (__init__ method)**:\n",
      "   - The class is initialized with four parameters:\n",
      "     - `num_hashes`: Total number of hash functions used for computing MinHash signatures.\n",
      "     - `num_bands`: Number of bands used in LSH banding.\n",
      "     - `rows_per_band`: Number of rows in each band. It must be noted that the total number of hash functions (`num_hashes`) should equal the product of `num_bands` and `rows_per_band`.\n",
      "     - `k`: Size of shingles, which determines the granularity of document fragmentation (either by words or characters).\n",
      "   - Four data structures are initialized as attributes of the class:\n",
      "     - `index`: A dictionary to map bands to document IDs for candidate pairing.\n",
      "     - `unique_docs`: A dictionary for the storage of documents stripped of exact duplicates.\n",
      "     - `cleaned_docs`: Contains pre-processed versions of the text data within documents.\n",
      "     - `candidate_pairs`: A set to store pairs of documents that may potentially be duplicates.\n",
      "<3-hop>\n",
      "\n",
      "5. **Memory Logging Function**: A helper function `log_memory_usage()` logs the process's memory usage to monitor and debug performance aspects concerning resource utilization.\n",
      "\n",
      "6. **Default Configuration**: Depending on whether the `LSH_forest` method is chosen, default values for number of hashes, bands, rows per band, k (shingle length), and number of trees are assigned. These settings can be overridden by command-line arguments.\n",
      "\n",
      "7. **Model Initialization**: The script initializes a Locality Sensitive Hashing (LSH) model based on user-specified or default parameters. The chosen method determines which concrete implementation of LSH to use—whether a basic LSH, an improved multi-probe variant, or an LSH forest.\n"
     ]
    }
   ],
   "source": [
    "for i in pd_dataset.iloc[4]['reference_contexts']:\n",
    "    print(i)"
   ]
  },
  {
   "cell_type": "code",
   "execution_count": 84,
   "id": "f13e5e96",
   "metadata": {},
   "outputs": [
    {
     "name": "stdout",
     "output_type": "stream",
     "text": [
      "### Overall Functionality:\n",
      "The class provides a comprehensive approach to deduplication using simple, yet effective methods such as hashing and word/token comparisons. It uses these strategies to both exactly match document contents and also assess similarity using word overlap, making it adaptable for different deduplication scenarios. These baseline methods could serve as a starting point for more sophisticated deduplication algorithms or be directly used in contexts where simple duplicate detection suffices.\n",
      "4. **Removing Exact Duplicates (`remove_duplicates`)**:\n",
      "    - This method processes a dictionary of documents, identifies exact duplicates, and stores only unique documents.\n",
      "    - It updates `unique_docs` with non-duplicate documents and records duplicate relationships in `exact_duplicates`.\n",
      "\n",
      "5. **Computing MinHash Signatures (`compute_minhash_signatures`)**:\n",
      "    - The method begins by removing exact duplicates.\n",
      "    - It cleans the documents using a utility function, then creates shingles from these cleaned documents.\n",
      "    - MinHash signatures are computed for each document using the `minhash` function. This is done in parallel to improve efficiency.\n",
      "    - The calculated signatures are returned, and the internal state of the class is updated with cleaned and shingled documents.\n",
      "This class and its methodologies are designed to improve the efficiency and accuracy of detecting similar pairs in large datasets by deploying multiple hashing trees and combining their outputs. This is particularly useful in deduplication tasks or clustering scenarios where robust and scalable similarity detection is critical.\n",
      "6. **Banding Method**:\n",
      "    - This function applies the banding technique to the MinHash signatures.\n",
      "    - It acts by creating \"bands\" from segments of MinHash signatures. If documents share the same band, they are considered potential duplicates.\n",
      "    - Candidate pairings (potential duplicates) are stored in the `candidate_pairs` attribute.\n",
      "\n",
      "In essence, this class leverages hashing techniques to efficiently identify similar documents by grouping them into hash \"buckets.\" This is crucial for large-scale deduplication tasks where finding near-duplicates quickly is essential. The class provides a structured approach to using LSH for document comparison tasks, making it suitable for tasks involved in large data processing systems where speed and memory efficiency are key.\n",
      "The `LSHImproved` class is an advanced implementation of Locality Sensitive Hashing (LSH) with enhancements for document deduplication and similarity detection, leveraging MinHashing and banding techniques. Here's a detailed description of its components and functions:\n",
      "\n",
      "### Class: `LSHImproved`\n",
      "\n",
      "- **Objective**: This class implements an improved LSH technique using a multi-probe approach to enhance traditional LSH. The primary goal is to optimize space usage and efficiency while performing document deduplication and similarity searches.\n",
      "- **Methods**:\n",
      "  - **`__init__`**: Initializes the class with default or user-defined parameters, asserting that `num_hashes` equals `num_bands * rows_per_band`.\n",
      "\n",
      "  - **`remove_duplicates`**: Removes exact duplicates from a given set of documents. It populates `unique_docs` with unique entries and `exact_duplicates` to track duplicate occurrences.\n",
      "\n",
      "  - **`compute_minhash_signatures`**: Computes MinHash signatures for documents. It first removes duplicates, processes document cleaning, generates shingles, and finally calculates MinHash signatures using parallel processing.\n",
      "\n",
      "  - **`nearby_banding`**: Generates multiple variations of a given hash band by perturbing its elements using modulus operations. This helps in detecting documents that are close matches.\n",
      "\n",
      "  - **`bit_flip`**: Similar to `nearby_banding`, this method perturbs a band by flipping random bits in its hash values, creating variations potentially representing similar documents.\n",
      "5. **Model Initialization**:\n",
      "    - A `model` function initializes the selected deduplication model based on method arguments.\n",
      "    - The process involves:\n",
      "      - Timing the initialization and processing phases.\n",
      "      - Creating the appropriate LSH object depending on the chosen method.\n",
      "      - Computing MinHash signatures and applying the LSH banding technique for efficient document comparisons.\n",
      "\n",
      "6. **Read Input**: \n",
      "    - The input file is read from the specified directory using `read_tsv`, and reading time is logged.\n",
      "This script, found at the path `deduplication.__main__.py`, is a command-line program for carrying out deduplication tasks using various methods including Locality-Sensitive Hashing (LSH), an improved LSH with multi-probe lookup, LSH Forest, and a baseline method. Here's a detailed breakdown of the code:\n",
      "- **`bit_flip`**: Similar to `nearby_banding`, this method perturbs a band by flipping random bits in its hash values, creating variations potentially representing similar documents.\n",
      "\n",
      "  - **`gaussian`**: Perturbs a band by adding Gaussian noise to its elements, providing a different method for deriving nearby bands by slightly altering hash values.\n",
      "\n",
      "  - **`banding`**: Organizes MinHash signatures into bands and applies the selected perturbation strategy to create neighboring bands. It indexes document pairs that share bands and updates the `candidate_pairs` with likely similar document pairs.\n",
      "\n",
      "Overall, this class provides a robust framework for high-performance document deduplication and similarity detection by combining hashing, banding, and multi-probe techniques to efficiently handle large datasets and reduce computational overhead.\n",
      "- **Attributes**:\n",
      "  - `num_hashes`: Number of hash functions used to create MinHash signatures.\n",
      "  - `num_bands`: Number of bands used in the LSH technique.\n",
      "  - `rows_per_band`: Number of rows in each band (ensuring `num_hashes = num_bands * rows_per_band`).\n",
      "  - `index`: A `defaultdict` used for storing band and document ID relationships for candidate pair identification.\n",
      "  - `unique_docs`: A dictionary containing documents after exact duplicates are removed.\n",
      "  - `cleaned_docs`: Stores pre-processed, cleaned documents.\n",
      "  - `candidate_pairs`: A set containing pairs of document IDs that are considered candidates for being duplicates.\n",
      "  - `exact_duplicates`: Maps original document IDs to their duplicate document IDs.\n",
      "  - `banding_method`: Method used for probing nearby bands, which can include 'nearby_banding', 'bit_flip', or 'gaussian'.\n",
      "  - `k`: The size of shingles generated from the documents, affecting the granularity of MinHashing.\n"
     ]
    }
   ],
   "source": [
    "for i in pd_dataset.iloc[4]['retrieved_contexts']:\n",
    "    print(i)"
   ]
  },
  {
   "cell_type": "code",
   "execution_count": 73,
   "id": "071f1015",
   "metadata": {},
   "outputs": [
    {
     "data": {
      "text/plain": [
       "[{'context_recall': 1.0, 'faithfulness': {}, 'factual_correctness': np.float64(0.83)},\n",
       " {'context_recall': 1.0, 'faithfulness': {}, 'factual_correctness': np.float64(1.0)},\n",
       " {'context_recall': 1.0, 'faithfulness': {}, 'factual_correctness': np.float64(0.89)},\n",
       " {'context_recall': 1.0, 'faithfulness': {}, 'factual_correctness': np.float64(1.0)},\n",
       " {'context_recall': 0.5, 'faithfulness': {}, 'factual_correctness': np.float64(0.36)},\n",
       " {'context_recall': 0.8333333333333334, 'faithfulness': {}, 'factual_correctness': np.float64(0.58)},\n",
       " {'context_recall': 1.0, 'faithfulness': {}, 'factual_correctness': np.float64(0.82)},\n",
       " {'context_recall': 0.6, 'faithfulness': {}, 'factual_correctness': np.float64(0.58)},\n",
       " {'context_recall': 0.5, 'faithfulness': 0.8846153846153846, 'factual_correctness': np.float64(0.67)},\n",
       " {'context_recall': 1.0, 'faithfulness': {}, 'factual_correctness': np.float64(0.64)},\n",
       " {'context_recall': 1.0, 'faithfulness': 0.76, 'factual_correctness': np.float64(0.44)},\n",
       " {'context_recall': 0.5, 'faithfulness': 0.6153846153846154, 'factual_correctness': np.float64(0.4)}]"
      ]
     },
     "execution_count": 73,
     "metadata": {},
     "output_type": "execute_result"
    }
   ],
   "source": [
    "result.traces"
   ]
  },
  {
   "cell_type": "code",
   "execution_count": null,
   "id": "45a90662",
   "metadata": {},
   "outputs": [
    {
     "data": {
      "text/plain": [
       "[{'context_recall': 1.0, 'faithfulness': {}, 'factual_correctness': np.float64(0.83)},\n",
       " {'context_recall': 1.0, 'faithfulness': {}, 'factual_correctness': np.float64(1.0)},\n",
       " {'context_recall': 1.0, 'faithfulness': {}, 'factual_correctness': np.float64(0.89)},\n",
       " {'context_recall': 1.0, 'faithfulness': {}, 'factual_correctness': np.float64(1.0)},\n",
       " {'context_recall': 0.5, 'faithfulness': {}, 'factual_correctness': np.float64(0.36)},\n",
       " {'context_recall': 0.8333333333333334, 'faithfulness': {}, 'factual_correctness': np.float64(0.58)},\n",
       " {'context_recall': 1.0, 'faithfulness': {}, 'factual_correctness': np.float64(0.82)},\n",
       " {'context_recall': 0.6, 'faithfulness': {}, 'factual_correctness': np.float64(0.58)},\n",
       " {'context_recall': 0.5, 'faithfulness': 0.8846153846153846, 'factual_correctness': np.float64(0.67)},\n",
       " {'context_recall': 1.0, 'faithfulness': {}, 'factual_correctness': np.float64(0.64)},\n",
       " {'context_recall': 1.0, 'faithfulness': 0.76, 'factual_correctness': np.float64(0.44)},\n",
       " {'context_recall': 0.5, 'faithfulness': 0.6153846153846154, 'factual_correctness': np.float64(0.4)}]"
      ]
     },
     "execution_count": 77,
     "metadata": {},
     "output_type": "execute_result"
    }
   ],
   "source": [
    "result"
   ]
  },
  {
   "cell_type": "code",
   "execution_count": null,
   "id": "8580fb46",
   "metadata": {},
   "outputs": [],
   "source": []
  },
  {
   "cell_type": "code",
   "execution_count": null,
   "id": "3b181912",
   "metadata": {},
   "outputs": [],
   "source": []
  },
  {
   "cell_type": "code",
   "execution_count": 23,
   "id": "b938f96d",
   "metadata": {},
   "outputs": [
    {
     "data": {
      "text/plain": [
       "[Document(id='c9927211-37b5-4885-af49-44556c55348a', metadata={'source': 'deduplication.bloom_filter.py'}, page_content='Each class is designed to balance space efficiency with computation speed while providing varying optimizations to bloom filter operations. These variations encompass foundational techniques for reducing hash computations required for membership checks, improving speed, and potentially lowering false positive rates under different scenarios.'),\n",
       " Document(id='d4335b4a-ad72-4206-939d-54ed337376ef', metadata={'source': 'deduplication.bloom_filter.py'}, page_content='The code provided defines several implementations of the Bloom Filter, a probabilistic data structure used to test whether an element is a member of a set. Bloom Filters can efficiently check for membership with a certain probability of false positives but no false negatives, making them useful in applications where space efficiency and speed are crucial.\\n\\n### Overview of Classes\\n\\n1. **BloomFilter**: \\n   - **Initialization**: \\n     - Takes two parameters: `n`, the maximum number of elements expected in the filter, and `f`, the desired false positive rate.\\n     - Computes the size of the bit array `m` using the formula `-ln(f) * n / (ln(2)^2)`.\\n     - Determines the number of hash functions `k` necessary for optimal performance with the formula `(m / n) * ln(2)`.\\n     - Initializes a bit array of size `m` with all bits set to 0.'),\n",
       " Document(id='a5159d13-62af-485e-a451-f4bf81025a91', metadata={'source': 'utils.visualizations.py'}, page_content='Overall, the file provides functionality to test and visualize the performance of a Bloom Filter in terms of false positive rates as influenced by the number of hash functions used, leveraging both computational logic and visual insights.'),\n",
       " Document(id='f59278fc-f81c-4ec0-97dc-f551aa29007d', metadata={'source': 'utils.visualizations.py'}, page_content='2. **BloomFilter Class:**\\n   - The `BloomFilter` class is designed to efficiently check for membership of elements, with a trade-off that allows for false positives but does not permit false negatives.\\n   - **Initialization (`__init__` method):** \\n     - The constructor takes three parameters: `n` (maximum number of elements the filter is designed to hold), `f` (desired false positive rate), and `k` (the number of hash functions). If `k` is not specified, it will be calculated based on `n` and `f`.\\n     - Calculations involve determining the size of the bit array (`self.m`) using the formula `-math.log(self.f) * self.n / (math.log(2)**2)` which factors in the false positive rate.\\n     - A bit array (`self.bit_array`) is then initialized with size `m` and all bits set to zero.\\n   - **Adding an item (`add` method):** \\n     - This method adds an item to the Bloom Filter by hashing it with `k` different hash functions and setting the corresponding indices in the bit array to 1.'),\n",
       " Document(id='fb1bc1e9-38c1-4da2-8c92-8b2e9071afcc', metadata={'source': 'deduplication.bloom_filter.py'}, page_content='3. **BloomFilter_Uni_Hash**:\\n   - Uses **Universal Hashing**, where unique seeds are chosen for each hash function to increase the robustness against adversarial inputs.\\n   \\n   - **Methods**:\\n     - In `add(item)`, each seed from a predefined list generates a unique hash for the item, setting the respective bit positions in the bit array.\\n     - `query(item)` checks similarly if the derived indexes are set in the bit array, indicating potential presence.\\n\\n4. **BloomFilter_QF**:\\n   - Implements a variant using the **Quotient Filter** approach:\\n   - Utilizes a quotient-remainder breakdown of the hash value to decide the bit placement.\\n\\n   - **Methods**:\\n     - `add(item)` hashes the input and stores the remainder at the index defined by the quotient component.\\n     - `query(item)` retrieves and checks the value by comparing computed hash portions.'),\n",
       " Document(id='aa557037-5183-493b-8d6e-f5077fffa909', metadata={'source': 'utils.visualizations.py'}, page_content='- This method adds an item to the Bloom Filter by hashing it with `k` different hash functions and setting the corresponding indices in the bit array to 1.\\n   - **Querying an item (`query` method):**\\n     - This checks if an item might be present by verifying all `k` hash indices in the bit array. If any index is not set, the item is definitely not in the filter; otherwise, it might be in the filter (with the caveat of possible false positives).'),\n",
       " Document(id='5313755c-a316-47e4-b200-3e4f8fca76fa', metadata={'source': 'deduplication.bloom_filter.py'}, page_content='- **Methods**:\\n     - `add(item)`: \\n       - Converts the item into n-grams, hashes each n-gram using multiple hash functions, and sets the corresponding bit array positions to 1.\\n       \\n     - `query(item)`: \\n       - Similar to the `add` method, it checks if the n-gram positions in the bit array are set, indicating the possible presence of the item.\\n\\n2. **BloomFilter_KM_Opt**:\\n   - Incorporates the **Kirsch-Mitzenmacher Optimization** to reduce the number of hash computations by leveraging two initial hash values to derive others.\\n   \\n   - **Methods**:\\n     - `add(item)` and `query(item)` utilize linear combinations of two primary hash functions (h1 and h2) to reduce computation time for setting or checking `k` indices.'),\n",
       " Document(id='08392f43-bfe9-4a9c-adba-2f2fb3ad31ef', metadata={'source': 'utils.visualizations.py'}, page_content='The `utils.visualizations.py` file is primarily focused on the implementation and analysis of a Bloom Filter with respect to false positive rates. Here is a detailed breakdown of the code:\\n\\n1. **Imports:**\\n   - The code imports various modules for its operations including `mmh3` for hashing, `math` for mathematical calculations, `bitarray` for creating the bit array, `random` for generating random numbers, and `matplotlib.pyplot` alongside `plotly` modules for visualizations. `numpy` is imported as well, though it seems unused in the given code snippet.'),\n",
       " Document(id='118a859b-2734-44b9-9975-d6b61da7f116', metadata={'source': 'utils.visualizations.py'}, page_content='3. **Utility Functions:**\\n   - **`calculate_false_positive_rate`:**\\n     - This function computes the observed false positive rate by creating a BloomFilter instance with specified parameters (`n`, `f`, and `k`).\\n     - It adds `n` random elements to the filter and performs 10,000 random lookups to calculate the proportion of queries resulting in false positives.\\n   - **`plot_false_positive_rate_vs_hash_functions`:**\\n     - It uses `matplotlib` to plot false positive rates against varying numbers of hash functions (`k`), checking values from 1 to `max_k`.\\n     - The results are visualized in a plot that indicates how false positive rates change as the number of hash functions increases, and the figure is saved as a PNG file.\\n\\n4. **Execution Block (Commented Out):**\\n   - The `if __name__ == \"__main__\":` block suggests a scenario where the script could have been run directly to test the Bloom filter with specific parameters. This section is currently commented out.'),\n",
       " Document(id='cca3d0e4-da26-470a-a332-cb0ea7093015', metadata={'source': 'utils.use_cases.py'}, page_content=\"### Utilized Concepts\\n- **Locality Sensitive Hashing (LSH)**: LSH is a technique to hash input items to ensure that similar items are more likely to collide. It is particularly useful in handling large-scale data and finding nearest neighbors quickly.\\n- **Union-Find Data Structure**: This is used for efficiently managing and merging disjoint sets to handle cluster operations. It supports 'union' (to join sets) and 'find' (to determine the root representative of a set) operations efficiently.\\n- **MinHashing**: A technique used for estimating the similarity between datasets and used extensively with LSH to generate compact digital signatures of datasets.\")]"
      ]
     },
     "execution_count": 23,
     "metadata": {},
     "output_type": "execute_result"
    }
   ],
   "source": [
    "query_engine.retrieved_docs"
   ]
  },
  {
   "cell_type": "code",
   "execution_count": null,
   "id": "e2122ca2",
   "metadata": {},
   "outputs": [],
   "source": []
  },
  {
   "cell_type": "code",
   "execution_count": 8,
   "id": "9dabb4a5",
   "metadata": {},
   "outputs": [
    {
     "name": "stdout",
     "output_type": "stream",
     "text": [
      "The `Utils.Utils` module in the provided context is a vital component of a Python package designed for handling tasks related to document processing and deduplication. This module, located in `utils/utils.py`, encompasses a range of utility functions and a class, all tailored towards text processing, document comparison, and executing simple set operations effectively. \n",
      "\n",
      "Key features within the module include:\n",
      "\n",
      "1. **Text Cleaning Functionality**:\n",
      "   - The function `clean_document(text)` is designed to sanitize and standardize text by converting it to lowercase and stripping non-alphabetical characters, ensuring only lowercase letters and spaces are retained. This pre-processing is crucial for consistent text analysis, especially for tasks like deduplication and text clustering.\n",
      "\n",
      "2. **Union-Find Data Structure**:\n",
      "   - The module introduces a `UnionFind` class which implements a classic data structure facilitating efficient union and find operations. The `UnionFind` structure is remarkably useful in managing and linking groups of interconnected nodes, often required in the context of clustering documents based on similarity.\n",
      "\n",
      "3. **File Reading Utility**:\n",
      "   - It includes a function `read_tsv(tsv)`, capable of parsing Tab-Separated Values (TSV) files into dictionaries, enabling easy manipulation and retrieval of data, which is often necessary for large-scale document processing tasks.\n",
      "\n",
      "The overall significance of the `Utils.Utils` module lies in its targeted use for document deduplication, similarity detection, and nearest neighbor searches, particularly through the use of advanced methods like Locality Sensitive Hashing (LSH). These functionalities help in efficiently managing and comparing vast collections of text documents by reducing dimensionality and computational overhead, crucial in domains handling large datasets.\n",
      "\n",
      "Furthermore, the module interacts with other components of the package that implement probabilistic data structures such as Bloom Filters and enhancements like LSH Forest, thus, positioning itself as an essential toolkit for seamless and efficient document deduplication processes.\n"
     ]
    }
   ],
   "source": [
    "print(query_engine.query('What is the Utils.Utils module?'))"
   ]
  },
  {
   "cell_type": "code",
   "execution_count": 9,
   "id": "32a6df1a",
   "metadata": {},
   "outputs": [
    {
     "data": {
      "text/plain": [
       "[Document(id='6f2b6c5b-c95a-4f73-bd2c-f1baf70a31ce', metadata={'source': 'utils.utils.py'}, page_content='The provided code in `utils/utils.py` consists of several utility functions and a class, primarily geared toward text processing, document comparison, and simple set operations. Here\\'s a detailed description of each component:\\n\\n1. **Imports**: The script imports several modules such as `hashlib`, `re`, `xxhash`, and `Counter` from `collections`. These are used for hashing, regular expressions, and counting elements, respectively.\\n\\n2. **Function: `clean_document(text)`**:\\n   - Purpose: Cleans and normalizes a given text document by converting it to lowercase and removing non-alphabetical characters, preserving only lowercase letters and spaces.\\n   - Process: It uses a regular expression to filter out any characters that aren\\'t lowercase letters or spaces.\\n   - Example Usage: Transforming \"Hello, World!123\" into \"hello world\".'),\n",
       " Document(id='db96b8e8-4304-452a-a66f-0451aeaad2cc', metadata={'source': 'utils.utils.py'}, page_content='Overall, these utilities can be particularly useful in the realm of document deduplication, clustering, or similarity detection, especially in systems using techniques like MinHashing or shingling to manage and compare large text datasets.'),\n",
       " Document(id='7c4c590f-48ed-4114-a7a8-e47f46afbb62', metadata={'source': 'utils.use_cases.py'}, page_content='The provided code is part of a module aimed at solving use cases related to document deduplication and nearest neighbor searches using Locality Sensitive Hashing (LSH). This user-friendly, detailed explanation will guide you through understanding and utilizing the two central functions defined in `utils.use_cases.py`.\\n\\n### Overview of LSH:\\nLocality Sensitive Hashing is an algorithm designed to identify similar items efficiently, employed here for both document deduplication and establishing nearest neighbors among documents. LSH primarily works by hashing input data in such a manner that similar inputs fall into the same hash bucket with high probability.\\n\\n### Key Functions:'),\n",
       " Document(id='efeb8fe4-8d45-469b-b374-1fa1568b08a0', metadata={'source': 'utils.utils.py'}, page_content=\"5. **Class: `UnionFind`**:\\n   - Purpose: Implements a Union-Find (also known as Disjoint Set) data structure that supports efficient union and find operations with path compression.\\n   - Attributes & Methods:\\n     - `parent`: A dictionary that keeps track of the parent/root of each element.\\n     - `find(x)`: Determines the root of the set containing `x`, applying path compression to optimize future operations.\\n     - `union(x, y)`: Merges the sets containing elements `x` and `y` by linking their roots.\\n\\n6. **Function: `read_tsv(tsv)`**:\\n   - Purpose: Reads a TSV (tab-separated values) file and converts it into a dictionary where each line corresponds to a key-value pair (index-text).\\n   - Process: It reads each line of the file, extracting the index and text, and stores them in a dictionary.\\n   - Example Usage: Given a TSV file, it might produce a dictionary like `{1: 'This is the first document.', 2: 'Another document content.'}`.\"),\n",
       " Document(id='1716bc70-cb94-4291-85cd-c40af44eceec', metadata={'source': 'utils.visualizations.py'}, page_content=\"The provided code is centered around implementing and analyzing the performance of a Bloom Filter, a probabilistic data structure used for efficiently testing if an element is a member of a set. It's particularly useful in duplicate detection, where the set can potentially grow large, and memory efficiency is a concern.\\n\\n### Detailed Breakdown:\\n\\n1. **Imports**:\\n   - Various modules and libraries are imported, such as `mmh3` (for hash functions), `math` (for mathematical operations), `bitarray` (for creating space-efficient arrays of bits), and `random` (for generating pseudo-random numbers). Additionally, `matplotlib.pyplot` and `plotly` are imported for creating visualizations.\"),\n",
       " Document(id='67343b53-667b-4665-b404-db2f5e375d31', metadata={'source': 'deduplication.__init__.py'}, page_content='The code in the `__init__.py` file within the `deduplication` package serves a specific purpose related to managing and accessing version information of the package. Here’s a detailed breakdown:\\n\\n1. **Purpose of the `__init__.py` File**: \\n   In a Python package, the `__init__.py` file is used to mark a directory as a Python package directory. This file can also be used to initialize package-level data or to execute package-level code. In this particular file, the main task is to define the version of the package.'),\n",
       " Document(id='6f4322fe-5e1e-45e3-9143-d3057e92f10c', metadata={'source': 'deduplication.bloom_filter.py'}, page_content='3. **`BloomFilter_Uni_Hash` Class**:\\n   - Utilizes Universal Hashing by employing multiple random seeds for hash generation.\\n   - **Initialization**: Seeds are randomly generated for each of the hash functions.\\n   - **Add & Query Methods**: Similar to the standard Bloom filter but uses the unique set of seeds for hash computation.\\n\\n4. **`BloomFilter_QF` Class**:\\n   - Employs a quotient filter method, which can offer performance benefits particularly for certain types of data.\\n   - **Initialization**: Segregates the hash into a quotient and remainder. The quotient dictates the position in the filter array, while the remainder confirms presence.\\n   - **Add & Query Methods**: Specific to quotient filtering, utilizing the decomposition of hash into quotient and remainder to check membership.'),\n",
       " Document(id='7331324c-98fe-487e-87dd-9887157b627f', metadata={'source': 'deduplication.__main__.py'}, page_content=\"The code in the file `deduplication.__main__.py` is a script designed for handling document deduplication and nearest neighbor search using a command-line interface. Here's a detailed description of how the script works:\\n\\n1. **Imports and Setup**:\\n   - The script imports several essential modules, including `argparse` for command-line argument parsing, `time` for performance timing, and `logging` for generating logs. It also imports specific functions and classes from different parts of a project, which includes utilities for reading data files, and various deduplication mechanisms such as Baseline, LSH (Locality Sensitive Hashing), LSHImproved, and LSHForest.\"),\n",
       " Document(id='a161ef6a-8cb3-4566-b618-fe83a57ad0b7', metadata={'source': 'deduplication.LSHForest.py'}, page_content=\"The provided code defines a Python class named `LSHForest`, which is part of a module designed for deduplication using a technique known as Locality Sensitive Hashing (LSH). This class extends another class called `LSH`, presumably to add more advanced features and performance enhancements.\\n\\nLet's break down the code:\\n\\n1. **Imports**:\\n   - `defaultdict` from `collections` and `combinations` from `itertools` are imported. `defaultdict` is used to create dictionaries with default types, and `combinations` is used for generating all pair combinations from a list.\\n   - The `LSH` class from `deduplication.LSH` is imported, serving as the superclass for `LSHForest`.\\n   - Two utility functions, `split_dict` and `majority_vote`, are imported from `utils.utils`.\"),\n",
       " Document(id='a480c01d-5883-445b-80b9-963c9d7942d0', metadata={'source': 'deduplication.__main__.py'}, page_content='4. **Memory Usage Logging Function**:\\n   - A helper function `log_memory_usage` is used to log the current memory usage of the process for performance monitoring, using the `psutil` library.\\n\\n5. **Configuration of Default Parameters**:\\n   - Default parameters for various deduplication methods are set. These defaults can be overridden by command-line arguments.\\n\\n6. **Model Initialization and Execution**:\\n   - Depending on the method selected (`LSH`, `LSH_forest`, or `LSH_mp`), a model is initialized with the appropriate parameters.\\n   - The core deduplication operation is performed by computing MinHash signatures of the documents, applying an LSH banding technique, and recording the time taken for these operations.\\n\\n7. **Input Data Reading**:\\n   - The input dataset, presumably in TSV format, is read using a utility function `read_tsv`. The time taken to read the data is logged.')]"
      ]
     },
     "execution_count": 9,
     "metadata": {},
     "output_type": "execute_result"
    }
   ],
   "source": [
    "query_engine.retrieved_docs"
   ]
  },
  {
   "cell_type": "code",
   "execution_count": null,
   "id": "295a5b22",
   "metadata": {},
   "outputs": [],
   "source": []
  },
  {
   "cell_type": "markdown",
   "id": "1af73859",
   "metadata": {},
   "source": [
    "# Macro Output Test"
   ]
  },
  {
   "cell_type": "code",
   "execution_count": 2,
   "id": "fba69cd0",
   "metadata": {},
   "outputs": [
    {
     "name": "stdout",
     "output_type": "stream",
     "text": [
      "c:\\Users\\JaeHoBahng\\Desktop\\Georgetown\\2025_Spring\\DSAN_6725\\project\\spring-2025-final-project-project-group-2\\docs\\notebooks\n",
      "c:\\Users\\JaeHoBahng\\Desktop\\Georgetown\\2025_Spring\\DSAN_6725\\project\\spring-2025-final-project-project-group-2\\src\n"
     ]
    }
   ],
   "source": [
    "import os\n",
    "print(os.getcwd())\n",
    "os.chdir('c:\\\\Users\\\\JaeHoBahng\\\\Desktop\\\\Georgetown\\\\2025_Spring\\\\DSAN_6725\\\\project\\\\spring-2025-final-project-project-group-2\\\\src')\n",
    "print(os.getcwd())"
   ]
  },
  {
   "cell_type": "code",
   "execution_count": null,
   "id": "7ba0bf58",
   "metadata": {},
   "outputs": [],
   "source": [
    "from tools.macro import tools as mat\n",
    "importlib.reload(mat)\n",
    "\n",
    "from langgraph.prebuilt import create_react_agent\n",
    "\n",
    "mat.repo_path = \"../cloned_repository/src\"\n",
    "\n",
    "tools = [\n",
    "    mat.generate_text_response,\n",
    "    mat.generate_mermaid_diagram\n",
    "]\n",
    "\n",
    "system_prompt = f\"\"\"\n",
    "You are a macro-level strategic agent. You excel at:\n",
    "- Understanding the big picture\n",
    "- Creating high-level plans and strategies\n",
    "- Breaking down complex problems into manageable parts\n",
    "- Identifying key objectives and priorities\n",
    "\n",
    "You are given the following tools.\n",
    "{tools}\n",
    "\n",
    "You will use each tool only once and the guidelines of the tools are as follows:\n",
    "- You will always use the generate_text_response tool to get an initial answer.\n",
    "- You will always use the generate_mermaid_diagram tool to get a final answer.\n",
    "\n",
    "\n",
    "Focus on planning and strategic thinking. For detailed implementation, \n",
    "defer to the micro agent.\n",
    "\n",
    "Always provide clear, structured responses with your analysis and recommendations. Also respond complete once the generation is completed.\n",
    "\"\"\"\n",
    "\n",
    "from langchain.chat_models import init_chat_model\n",
    "llm = init_chat_model(\"gpt-4o\", model_provider=\"openai\")\n",
    "\n",
    "agent = create_react_agent(llm, tools=tools, prompt=system_prompt)"
   ]
  },
  {
   "cell_type": "code",
   "execution_count": 10,
   "id": "997d888e",
   "metadata": {},
   "outputs": [
    {
     "name": "stdout",
     "output_type": "stream",
     "text": [
      "\u001b[90m2025-04-26 14:17:20\u001b[0m - \u001b[36magent_router\u001b[0m - \u001b[92mINFO\u001b[0m - Generating text response for codebase at: ../cloned_repository/src\n",
      "\u001b[90m2025-04-26 14:17:33\u001b[0m - \u001b[36magent_router\u001b[0m - \u001b[92mINFO\u001b[0m - Text response generated successfully using LLM\n",
      "\u001b[90m2025-04-26 14:17:39\u001b[0m - \u001b[36magent_router\u001b[0m - \u001b[92mINFO\u001b[0m - Generating mermaid diagram from text response\n",
      "\u001b[90m2025-04-26 14:17:42\u001b[0m - \u001b[36magent_router\u001b[0m - \u001b[92mINFO\u001b[0m - Mermaid diagram saved to codebase_structure.md\n",
      "\u001b[90m2025-04-26 14:17:42\u001b[0m - \u001b[36magent_router\u001b[0m - \u001b[92mINFO\u001b[0m - Mermaid diagram HTML saved to codebase_structure.html\n"
     ]
    }
   ],
   "source": [
    "answer = agent.invoke(\n",
    "    {\n",
    "        \"messages\": [\n",
    "            {\n",
    "                \"role\": \"user\",\n",
    "                \"content\": \"Give me an overall summary of the repository with a visualization as well\",\n",
    "            }\n",
    "        ],\n",
    "        \"goto\": \"supervisor\",\n",
    "    }\n",
    ")"
   ]
  },
  {
   "cell_type": "code",
   "execution_count": 15,
   "id": "b42c5d1a",
   "metadata": {},
   "outputs": [
    {
     "name": "stdout",
     "output_type": "stream",
     "text": [
      "### Codebase Summary and Structure\n",
      "\n",
      "The provided codebase is organized into main modules that focus on deduplication and utility functions to support these operations. The primary directory is dedicated to various deduplication strategies, implementing both basic and advanced techniques, while a set of utility modules aids in preprocessing and visualization tasks.\n",
      "\n",
      "#### Main Modules & Purposes:\n",
      "1. **deduplication/**\n",
      "   - **bloom_filter.py**: Bloom Filter implementation for efficient set membership checks.\n",
      "   - **dedup.py**: Baseline deduplication using hash comparisons and token overlap.\n",
      "   - **LSH.py**: Locality Sensitive Hashing with MinHash for duplicate detection.\n",
      "   - **LSHForest.py**: Uses multiple trees for robustness in LSH-based detection.\n",
      "   - **LSHImproved.py**: Multi-probe techniques in LSH to improve efficiency.\n",
      "\n",
      "2. **utils/**\n",
      "   - **use_cases.py**: Defines practical applications of deduplication strategies.\n",
      "   - **utils.py**: Helper functions including document cleaning and shingling.\n",
      "   - **visualizations.py & visualization_lsh.py**: Functions for performance and result visualizations.\n",
      "\n",
      "#### Logical Flow:\n",
      "- **Data preprocessing** involves cleaning and shingling documents.\n",
      "- **Deduplication methods** include Bloom Filter checks, basic hash-based checks, and sophisticated LSH approaches.\n",
      "- **Application management** is initiated through `__main__.py`, setting up the environment and parsing arguments to drive deduplication or nearest neighbor search operations.\n",
      "\n",
      "#### Visualization:\n",
      "The relationship between the components is captured in a Mermaid diagram illustrating the module dependencies and interactions.\n",
      "\n",
      "### Visualization Output Details:\n",
      "A mermaid diagram has been generated capturing the structure and interaction of the components. This diagram is stored in `codebase_structure.md`.\n",
      "\n",
      "By understanding both the summary and the structured visualization, stakeholders can grasp the architectural and functional aspects of the codebase effectively, enabling informed decision-making for further development or integration.\n"
     ]
    }
   ],
   "source": [
    "print(answer['messages'][-1].content)"
   ]
  },
  {
   "cell_type": "code",
   "execution_count": 20,
   "id": "828b15a7",
   "metadata": {},
   "outputs": [],
   "source": [
    "import json\n",
    "# Standard Library\n",
    "import os\n",
    "from typing import Annotated, Any, Dict, List\n",
    "\n",
    "# Third-Party Libraries\n",
    "from dotenv import load_dotenv\n",
    "from langchain.chat_models import init_chat_model\n",
    "from langchain_core.language_models import BaseChatModel\n",
    "from langchain_core.output_parsers import StrOutputParser\n",
    "from langchain_core.prompts import ChatPromptTemplate\n",
    "from langchain_core.tools import tool\n",
    "# Internal Utilities\n",
    "from utils import get_logger\n",
    "from utils.filesystem import list_python_files, read_code_file\n",
    "from utils.repo import generate_repo_tree\n",
    "\n",
    "# Initialization\n",
    "# Load environment variables from .env file\n",
    "load_dotenv()\n",
    "\n",
    "# Set up module-wide logger\n",
    "logger = get_logger()\n",
    "\n",
    "repo_path = \"../cloned_repository/src\"\n",
    "\n",
    "\n",
    "# @tool\n",
    "# def generate_text_response(question: str):\n",
    "#     \"\"\"\n",
    "#     Reads in the codebase and generate a short to medium length summary in natural language that captures the main logical modules of the codebase. Output text that is preferably good for translating to mermaid diagrams, and good for reading.\n",
    "\n",
    "#     Args:\n",
    "#         path (str): The path to the codebase\n",
    "\n",
    "#     Returns:\n",
    "#         str: Natural language answer to the predefined question.\n",
    "#     \"\"\"\n",
    "#     logger.info(f\"Generating text response for codebase at: {repo_path}\")\n",
    "\n",
    "    # Initialize the language model\n",
    "llm = init_chat_model(\"gpt-4.1-mini\", model_provider=\"openai\")\n",
    "\n",
    "# Get all Python files in the repository\n",
    "python_files = list_python_files(repo_path)\n",
    "\n",
    "# if not python_files:\n",
    "#     return \"No Python files found in the specified path.\"\n",
    "\n",
    "# Generate repository tree structure\n",
    "repo_tree = generate_repo_tree(repo_path)\n",
    "\n",
    "# Read the content of each Python file (limit to a reasonable number to avoid token limits)\n",
    "file_contents = {}\n",
    "max_files = 20  # Limit to avoid token limits\n",
    "for file_path in python_files:\n",
    "    full_path = os.path.join(repo_path, file_path)\n",
    "    content = read_code_file(full_path)\n",
    "    file_contents[file_path] = content\n",
    "\n",
    "# Create a summary of file contents for the LLM\n",
    "file_summaries = []\n",
    "for file_path, content in file_contents.items():\n",
    "    # Truncate very large files to avoid token limits\n",
    "    # if len(content) > 2000:\n",
    "    #     content = content[:1000] + \"\\n...[content truncated]...\\n\" + content[-1000:]\n",
    "\n",
    "    file_summaries.append(f\"File: {file_path}\\n```python\\n{content}\\n```\\n\")\n",
    "\n",
    "# Join file summaries with a limit to avoid token limits\n",
    "file_content_text = \"\\n\\n\".join(file_summaries)\n",
    "\n",
    "# Create the prompt for the LLM\n",
    "prompt = ChatPromptTemplate.from_messages(\n",
    "    [\n",
    "        (\n",
    "            \"system\",\n",
    "            f\"\"\"You qre an expert in generating well composed, extremely detailed reports based on the codebase and its structure.\n",
    "             Provide an extremely detailed review of the codebase.\n",
    "             Make it in paragraph form including its architecture and key components, detailed agentic workflow, flaws, points of improvement, etc.\n",
    "             Only use bullet points when necessary.\n",
    "             Generate the report based on the user input.\"\"\",\n",
    "        ),\n",
    "        (\n",
    "            \"human\",\n",
    "            \"\"\"\n",
    "    \n",
    "    Repository structure:\n",
    "    {repo_tree}\n",
    "    \n",
    "    Here are the contents of key files:\n",
    "    {file_contents}\n",
    "    \n",
    "    question: \n",
    "    {question}\n",
    "    \"\"\",\n",
    "        ),\n",
    "    ]\n",
    ")\n",
    "\n",
    "# Generate the analysis using the LLM\n",
    "chain = prompt | llm | StrOutputParser()\n"
   ]
  },
  {
   "cell_type": "code",
   "execution_count": 21,
   "id": "a1032281",
   "metadata": {},
   "outputs": [],
   "source": [
    "analysis = chain.invoke(\n",
    "    {\"repo_tree\": repo_tree, \"file_contents\": file_content_text, \"question\": \"Give me an extremely detailed academic report based on the codebase given. Give it to me in mainly paragraph format and bullet points only when necessary.\"}\n",
    ")"
   ]
  },
  {
   "cell_type": "code",
   "execution_count": 22,
   "id": "c85053a8",
   "metadata": {},
   "outputs": [
    {
     "name": "stdout",
     "output_type": "stream",
     "text": [
      "The analyzed codebase presents a sophisticated application designed to perform interactive codebase analysis through a web interface, leveraging advanced language models, graph representations, and retrieval-augmented generation (RAG) methods. The architecture is modular and carefully divided into core components that collectively offer cloning, visualizing, querying, and interpreting GitHub repositories in relation to their internal structure and semantic relationships between software entities. At its core, the system embodies a LangGraph-based agent router architecture that collaboratively orchestrates macro and micro level agents to handle high-level overviews and detailed code analysis respectively.\n",
      "\n",
      "### Architecture and Key Components\n",
      "\n",
      "The repository features a clear, hierarchical file structure centered around several key directories: `src/`, which contains the main application code; `agent_router/` housing the graph router logic and node definitions; `app/` which includes session handling, UI components, and database setup logic; `rag/` for the retrieval-augmented generation system; `tools/` subdivided into macro and micro agent tools; and `utils/` for helper utilities like logging, filesystem interaction, and git repository management.\n",
      "\n",
      "The codebase's main entry point is `streamlit_app.py` within `src/`, which initializes a Streamlit application to facilitate repository cloning from GitHub, database initialization (graph and RAG), chat interfaces, and visualizations. The UI offers sidebar inputs for repository URL entry, controls for cloning, database initialization from user-selected source folders, resetting the session repository and conversation, and dynamic visualization previews in HTML.\n",
      "\n",
      "Central to the system is the LangGraph router, implemented through the `agent_router/graph.py` and `agent_router/nodes.py`. The router constructs a state graph with specialized nodes representing supervisors and agents. The supervisor node employs a large language model (LLM) to route queries effectively between macro and micro agents based on user intent: macro agents deliver high-level strategic architecture and simplified diagrams, whereas micro agents delve into detailed semantic graphs of classes, methods, functions, and their interrelations. This agent-based delegation benefits from clear state definitions (`agent_router/state.py`) and detailed prompt engineering to ensure appropriate routing behaviors.\n",
      "\n",
      "The micro-level analysis leverages `app/graph_builders/micro_graph_builder.py`, which entails an asynchronous, LLM-driven workflow to analyze Python source files into natural language descriptions capturing semantic relationships, with normalization for consistent node identifiers. These descriptions are translated into graph documents for ingestion into a Neo4j graph database. The concurrency-aware design allows parallel processing of multiple files, optimizing performance for large codebases. This component also handles environmental setup via `.env` and robust error handling with detailed logging.\n",
      "\n",
      "The RAG system implemented in `rag/vector_rag.py` establishes a vector store containing LLM-generated textual representations of code files, enabling semantic retrieval with OpenAI embeddings and a LangGraph pipeline for retrieval and generation stages. This system supports enriched, context-aware question answering on the codebase. The RAGQueryEngine ties the vector store and LLM for synthesis, encapsulating the complex retrieval-generation interplay in an intuitive interface compatible with LangGraph’s state graph.\n",
      "\n",
      "Session management through `app/session_state.py` exemplifies careful stateful design to maintain user conversation threads, manage the cloning lifecycle, database connections, and cleanup operations. The cleanup mechanism involves deleting the cloned repo on session termination, ensuring resource hygiene and security.\n",
      "\n",
      "Tool sets, divided between macro (`tools/macro/tools.py`) and micro (`tools/micro/tools.py`) tools, provide the functional capabilities exposed to agents. Macro tools focus on repository-wide summaries and mermaid diagram generation to visually represent high-level architecture, while micro tools interface with the Neo4j graph database, providing Cypher query generation, validation, execution, and visualization through Pyvis and NetworkX. This layered tool design enables clear role separation and scalability, facilitating future expansion of capabilities on either level.\n",
      "\n",
      "Additional utility modules handle repository operations (`utils/repo.py`), file system traversal (`utils/filesystem.py`), and logging (`utils/logger.py`) with colored, structured outputs to improve debugging experience during development and usage.\n",
      "\n",
      "### Detailed Agentic Workflow\n",
      "\n",
      "1. **User Interaction and Repo Management:** The user inputs a GitHub repository URL in the Streamlit sidebar and initiates analysis. The application clones the repository into a local directory, displays the repo structure via a cached tree visualization, and offers source folder selection for database initialization.\n",
      "\n",
      "2. **Database Initialization:** Upon request, the `initialize_database` function leverages the micro code graph builder to asynchronously parse the source folder’s Python files. This process involves LLM-driven semantic extraction of functions, classes, modules, and packages with precise hierarchical identifiers. The resulting natural language descriptions are refined and converted into a Neo4j graph structure, which is stored and made accessible via the app’s session state.\n",
      "\n",
      "3. **RAG System Setup:** Complementing the structural graph, a vectorized representation of the code providing semantic search capabilities is established. This enables more natural language-driven queries that tap into the textual understanding of the codebase, augmenting purely structural queries with enriched context.\n",
      "\n",
      "4. **LangGraph Agent Router:** When the user poses a natural language question about the codebase through the chat UI, the application processes it through the LangGraph router. The supervisor node, powered by its prompt-driven decision logic, assesses whether a macro-level overview or micro-level detailed query is more suitable. It then delegates the task accordingly, invoking tools in the respective agents.\n",
      "\n",
      "5. **Macro and Micro Agents Execution:** Each agent uses its predefined tools—macro tools generate text-based summaries and high-level mermaid diagrams, while micro agents formulate, validate, and execute Cypher queries against the graph database. Micro agents also produce HTML visualizations of the graph and refine natural language responses leveraging RAG query engines.\n",
      "\n",
      "6. **Response Presentation:** The assistant’s responses, whether text explanations, diagrams, or interactive graph views, are rendered back to the Streamlit chat interface and sidebar, maintaining conversational context across messages.\n",
      "\n",
      "### Strengths and Points of Excellence\n",
      "\n",
      "- **Modular, Layered Design:** Separation between UI, agent router, graph builders, RAG systems, tools, and utilities promotes maintainability and extensibility.\n",
      "\n",
      "- **Asynchronous Processing for Performance:** The codebase emphasizes efficient handling of potentially large repos via asynchronous concurrent calls to the LLM, reducing user wait times.\n",
      "\n",
      "- **Sophisticated Agent Routing:** The supervisor node embodies intelligent routing that leverages conversation history and user intent to select the appropriate analysis depth.\n",
      "\n",
      "- **Rich Visualization Support:** Integration of mermaid diagrams and Pyvis-based interactive graph renderings provides users immediate visual insights, enhancing understanding.\n",
      "\n",
      "- **Robust Session Management:** Careful lifecycle tracking through unique thread IDs and cleanup resources ensures consistent, isolated user experiences and resource hygiene.\n",
      "\n",
      "- **Comprehensive Logging:** Use of a dedicated colored logger class with multiple levels enables fine-grained monitoring and debugging.\n",
      "\n",
      "- **Integration with Neo4j and LangChain ecosystem:** Utilizes powerful existing services for graph databases and language model interfacing, leveraging best-in-class tools for knowledge representation and querying.\n",
      "\n",
      "### Identified Flaws and Areas for Improvement\n",
      "\n",
      "- **Incomplete or Inconsistent Error Handling:** While extensive logging exists, certain parts, especially asynchronous coroutines and file I/O, could benefit from more robust try-except patterns and user-facing error feedback to improve fault tolerance.\n",
      "\n",
      "- **Hardcoded Paths and Magic Strings:** Usage of fixed directory names (e.g., `cloned_repository`) reduces flexibility. Parameterizing these through configuration files or environment variables would enhance adaptability.\n",
      "\n",
      "- **Limited Concurrency Controls:** Although concurrency limits exist (e.g., semaphore usage), rate limiting related to API calls to external LLM services could be further refined, including exponential backoff or prioritized queuing.\n",
      "\n",
      "- **Partial Comments and Prompt Clarity:** Some prompt texts contain minor typographical or grammatical errors (e.g., “suupervisor”) which could impact LLM interpretability. Additionally, consistent use of code comments and docstrings could be expanded for critical methods to aid future developers.\n",
      "\n",
      "- **UI and User Experience:** Despite functional visualization toggles, the UI could benefit from clearer status indicators during long-running operations, better error messages, and advanced query syntax assistance.\n",
      "\n",
      "- **Test Coverage and Input Validation:** No explicit testing modules are visible; integrating automated unit and integration tests is essential to ensure stable pipeline operation. Also, form inputs could include validation to prevent invalid URLs or unsupported folder selections.\n",
      "\n",
      "### Potential Future Enhancements\n",
      "\n",
      "- **Extending Macro Tools:** Currently macro tools seem limited; expanding them to include more strategic analyses (e.g., module dependency trees, cyclomatic complexity, architectural anti-pattern detection) could increase utility.\n",
      "\n",
      "- **Fine-Grained Authentication Handling:** If intending to analyze private repos, adding OAuth flows or token management would be required.\n",
      "\n",
      "- **Support for Other Languages:** Expanding beyond Python to other languages and runtimes would broaden applicability.\n",
      "\n",
      "- **Enhanced Visualization Analytics:** Interactive analytics features on the graphs—filtering, searching, node grouping, or temporal change tracking—would bolster insights.\n",
      "\n",
      "- **Parallel Multi-User Deployment:** Preparing the app for scalable, multi-user environments with concurrency-safe resource management and caching.\n",
      "\n",
      "- **Extensive Prompt Engineering and LLM Model Tuning:** Continuous refinement of prompts and possible fine-tuning of language models tailored for code understanding could improve accuracy and relevance.\n",
      "\n",
      "In conclusion, the codebase represents a comprehensive integration of modern AI, graph databases, and interactive web technologies to democratize codebase understanding and querying. Its thoughtful architecture, leveraging LangGraph for agent orchestration, Neo4j for structured knowledge storage, and LLMs for semantic interpretation, positions it as an advanced platform for exploratory code analysis. Nevertheless, enhancements in robustness, configurability, UI/UX, and testing would elevate it further towards production-grade readiness and broader adoption.\n"
     ]
    }
   ],
   "source": [
    "print(analysis)"
   ]
  },
  {
   "cell_type": "code",
   "execution_count": null,
   "id": "5f86fe69",
   "metadata": {},
   "outputs": [],
   "source": []
  }
 ],
 "metadata": {
  "kernelspec": {
   "display_name": ".venv",
   "language": "python",
   "name": "python3"
  },
  "language_info": {
   "codemirror_mode": {
    "name": "ipython",
    "version": 3
   },
   "file_extension": ".py",
   "mimetype": "text/x-python",
   "name": "python",
   "nbconvert_exporter": "python",
   "pygments_lexer": "ipython3",
   "version": "3.13.2"
  }
 },
 "nbformat": 4,
 "nbformat_minor": 5
}
