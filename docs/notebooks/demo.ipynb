{
 "cells": [
  {
   "cell_type": "markdown",
   "id": "a08a07e4",
   "metadata": {},
   "source": [
    "# Set Working Directory"
   ]
  },
  {
   "cell_type": "code",
   "execution_count": 1,
   "id": "ce76b030",
   "metadata": {},
   "outputs": [
    {
     "name": "stdout",
     "output_type": "stream",
     "text": [
      "c:\\Users\\JaeHoBahng\\Desktop\\Georgetown\\2025_Spring\\DSAN_6725\\project\\spring-2025-final-project-project-group-2\\docs\\notebooks\n",
      "c:\\Users\\JaeHoBahng\\Desktop\\Georgetown\\2025_Spring\\DSAN_6725\\project\\spring-2025-final-project-project-group-2\\src\n"
     ]
    }
   ],
   "source": [
    "import os\n",
    "print(os.getcwd())\n",
    "os.chdir('c:\\\\Users\\\\JaeHoBahng\\\\Desktop\\\\Georgetown\\\\2025_Spring\\\\DSAN_6725\\\\project\\\\spring-2025-final-project-project-group-2\\\\src')\n",
    "print(os.getcwd())"
   ]
  },
  {
   "cell_type": "markdown",
   "id": "73ec4272",
   "metadata": {},
   "source": [
    "# Preprocessing data (Default when repository is given)"
   ]
  },
  {
   "cell_type": "markdown",
   "id": "148c0133",
   "metadata": {},
   "source": [
    "## Create GRAPHRAG DB / Preprocess and insert Data"
   ]
  },
  {
   "cell_type": "code",
   "execution_count": 4,
   "id": "890de0dd",
   "metadata": {},
   "outputs": [
    {
     "name": "stdout",
     "output_type": "stream",
     "text": [
      "Processing file: deduplication\\bloom_filter.py\n",
      "Processing file: deduplication\\dedup.py\n",
      "Processing file: deduplication\\LSH.py\n",
      "Processing file: deduplication\\LSHForest.py\n",
      "Processing file: deduplication\\LSHImproved.py\n",
      "Processing file: deduplication\\__init__.py\n",
      "Processing file: deduplication\\__main__.py\n",
      "Processing file: utils\\use_cases.py\n",
      "Processing file: utils\\utils.py\n",
      "Processing file: utils\\visualizations.py\n",
      "Processing file: utils\\visualization_lsh.py\n",
      "Converting to graph documents...\n",
      "Cleared existing graph data in Neo4j.\n",
      "Adding graph documents to Neo4j...\n"
     ]
    }
   ],
   "source": [
    "from app.graph_builders.micro_graph_builder import MicroCodeGraphBuilder\n",
    "from langchain_anthropic import ChatAnthropic\n",
    "from langchain.chat_models import init_chat_model\n",
    "\n",
    "llm = init_chat_model(\"gpt-4o\", model_provider=\"openai\")\n",
    "# llm = ChatAnthropic(model=\"claude-3-5-sonnet-20240620\")\n",
    "\n",
    "gen_graphdb = MicroCodeGraphBuilder(llm=llm)\n",
    "graph_db, graph_documents = gen_graphdb.build_graph_and_upload(repo_path='../docs/notebooks/assignment-2-mcdonald-s/src')"
   ]
  },
  {
   "cell_type": "code",
   "execution_count": 5,
   "id": "44be8fd7",
   "metadata": {},
   "outputs": [
    {
     "name": "stdout",
     "output_type": "stream",
     "text": [
      "Node properties:\n",
      "- **Class**\n",
      "  - `id`: STRING Available options: ['Deduplication.Bloom_Filter.Bloomfilter', 'Deduplication.Bloom_Filter.Bloomfilter_Km_Opt', 'Deduplication.Bloom_Filter.Bloomfilter_Uni_Hash', 'Deduplication.Bloom_Filter.Bloomfilter_Qf', 'Deduplication.Dedup.Baseline', 'Deduplication.Lsh.Lsh', 'Deduplication.Lshforest.Lshforest', 'Deduplication.Lshimproved.Lshimproved', 'Utils.Utils.Unionfind', 'Bloomfilter']\n",
      "- **Module**\n",
      "  - `id`: STRING Example: \"Deduplication.Bloom_Filter\"\n",
      "- **Package**\n",
      "  - `id`: STRING Example: \"Math\"\n",
      "- **Method**\n",
      "  - `id`: STRING Example: \"Deduplication.Bloom_Filter.Bloomfilter.Add\"\n",
      "- **Function**\n",
      "  - `id`: STRING Example: \"Utils.Utils.Clean_Document\"\n",
      "Relationship properties:\n",
      "\n",
      "The relationships:\n",
      "(:Class)-[:DEFINED_IN]->(:Module)\n",
      "(:Class)-[:USES]->(:Package)\n",
      "(:Class)-[:IMPORTED_IN]->(:Module)\n",
      "(:Class)-[:SUPERCLASS]->(:Class)\n",
      "(:Class)-[:IMPORTED_AND_USED_IN]->(:Class)\n",
      "(:Class)-[:HAS_METHOD]->(:Method)\n",
      "(:Class)-[:METHOD]->(:Method)\n",
      "(:Module)-[:DEFINES]->(:Function)\n",
      "(:Package)-[:USED_IN]->(:Method)\n",
      "(:Package)-[:USED_IN]->(:Function)\n",
      "(:Package)-[:USED_IN]->(:Module)\n",
      "(:Package)-[:USES]->(:Method)\n",
      "(:Method)-[:DEFINED_IN]->(:Class)\n",
      "(:Method)-[:USES]->(:Package)\n",
      "(:Method)-[:USES]->(:Function)\n",
      "(:Function)-[:DEFINED_IN]->(:Module)\n",
      "(:Function)-[:USES]->(:Package)\n",
      "(:Function)-[:USES]->(:Class)\n",
      "(:Function)-[:USES]->(:Function)\n",
      "(:Function)-[:USED_IN]->(:Method)\n",
      "(:Function)-[:USED_IN]->(:Function)\n",
      "(:Function)-[:IMPORTED_AND_USED_IN]->(:Method)\n",
      "(:Function)-[:IMPORTED_IN]->(:Module)\n",
      "(:Function)-[:RETURNS_INSTANCE_OF]->(:Function)\n",
      "(:Function)-[:INDIRECTLY_USED_IN]->(:Module)\n",
      "(:Function)-[:CREATES_INSTANCE_OF]->(:Class)\n",
      "(:Function)-[:REPRESENTS_OUTERMOST_LAYER]->(:Module)\n"
     ]
    }
   ],
   "source": [
    "print(graph_db.get_schema)"
   ]
  },
  {
   "cell_type": "code",
   "execution_count": 11,
   "id": "20a7b368",
   "metadata": {},
   "outputs": [
    {
     "name": "stdout",
     "output_type": "stream",
     "text": [
      "1. math is a package and is used in all the methods of the class deduplication.bloom_filter.BloomFilter.\n",
      "2. mmh3 is a package and is used in the method deduplication.bloom_filter.BloomFilter.add of the class deduplication.bloom_filter.BloomFilter.\n",
      "3. bitarray is a package and is used in the method deduplication.bloom_filter.BloomFilter.__init__ of the class deduplication.bloom_filter.BloomFilter.\n",
      "4. nltk is a package and is used in the method deduplication.bloom_filter.BloomFilter.add of the class deduplication.bloom_filter.BloomFilter.\n",
      "5. random is a package and is used in the method deduplication.bloom_filter.BloomFilter_Uni_Hash.__init__ of the class deduplication.bloom_filter.BloomFilter_Uni_Hash.\n",
      "6. deduplication.bloom_filter.BloomFilter.add is a method with properties defined in deduplication.bloom_filter.BloomFilter which is a class.\n",
      "7. deduplication.bloom_filter.BloomFilter.query is a method with properties defined in deduplication.bloom_filter.BloomFilter which is a class.\n",
      "8. deduplication.bloom_filter.BloomFilter is a class defined in the module deduplication.bloom_filter.\n",
      "9. deduplication.bloom_filter.BloomFilter_KM_Opt is a class defined in the module deduplication.bloom_filter.\n",
      "10. deduplication.bloom_filter.BloomFilter_KM_Opt.add is a method with properties defined in deduplication.bloom_filter.BloomFilter_KM_Opt which is a class.\n",
      "11. deduplication.bloom_filter.BloomFilter_KM_Opt.query is a method with properties defined in deduplication.bloom_filter.BloomFilter_KM_Opt which is a class.\n",
      "12. mmh3 is a package and is used in the method deduplication.bloom_filter.BloomFilter_KM_Opt.add of the class deduplication.bloom_filter.BloomFilter_KM_Opt.\n",
      "13. mmh3 is a package and is used in the method deduplication.bloom_filter.BloomFilter_KM_Opt.query of the class deduplication.bloom_filter.BloomFilter_KM_Opt.\n",
      "14. deduplication.bloom_filter.BloomFilter_Uni_Hash is a class defined in the module deduplication.bloom_filter.\n",
      "15. deduplication.bloom_filter.BloomFilter_Uni_Hash.add is a method with properties defined in deduplication.bloom_filter.BloomFilter_Uni_Hash which is a class.\n",
      "16. deduplication.bloom_filter.BloomFilter_Uni_Hash.query is a method with properties defined in deduplication.bloom_filter.BloomFilter_Uni_Hash which is a class.\n",
      "17. mmh3 is a package and is used in the method deduplication.bloom_filter.BloomFilter_Uni_Hash.add of the class deduplication.bloom_filter.BloomFilter_Uni_Hash.\n",
      "18. mmh3 is a package and is used in the method deduplication.bloom_filter.BloomFilter_Uni_Hash.query of the class deduplication.bloom_filter.BloomFilter_Uni_Hash.\n",
      "19. deduplication.bloom_filter.BloomFilter_QF is a class defined in the module deduplication.bloom_filter.\n",
      "20. deduplication.bloom_filter.BloomFilter_QF.add is a method with properties defined in deduplication.bloom_filter.BloomFilter_QF which is a class.\n",
      "21. deduplication.bloom_filter.BloomFilter_QF._hash is a method with properties defined in deduplication.bloom_filter.BloomFilter_QF which is a class.\n",
      "22. deduplication.bloom_filter.BloomFilter_QF.query is a method with properties defined in deduplication.bloom_filter.BloomFilter_QF which is a class.\n",
      "23. mmh3 is a package and is used in the method deduplication.bloom_filter.BloomFilter_QF._hash of the class deduplication.bloom_filter.BloomFilter_QF.\n"
     ]
    }
   ],
   "source": [
    "print(graph_documents[0].source.page_content)"
   ]
  },
  {
   "cell_type": "markdown",
   "id": "558a61e9",
   "metadata": {},
   "source": [
    "### Reset Instance"
   ]
  },
  {
   "cell_type": "code",
   "execution_count": 9,
   "id": "d4c81e29",
   "metadata": {},
   "outputs": [],
   "source": [
    "# graph_db.query(\"MATCH (n) DETACH DELETE n\")"
   ]
  },
  {
   "cell_type": "markdown",
   "id": "6f080718",
   "metadata": {},
   "source": [
    "## Visualize Entire Graph"
   ]
  },
  {
   "cell_type": "code",
   "execution_count": 4,
   "id": "c93ef301",
   "metadata": {},
   "outputs": [
    {
     "name": "stdout",
     "output_type": "stream",
     "text": [
      "Graph saved as semantic_graph.html\n"
     ]
    }
   ],
   "source": [
    "a = gen_graphdb.create_visualization(graph_documents = graph_documents)"
   ]
  },
  {
   "cell_type": "markdown",
   "id": "2474ba62",
   "metadata": {},
   "source": [
    "## Create Vector DB / Preprocess and insert Data"
   ]
  },
  {
   "cell_type": "code",
   "execution_count": null,
   "id": "1d91d496",
   "metadata": {},
   "outputs": [],
   "source": [
    "from rag.vector_rag import create_rag_system\n",
    "\n",
    "db_setup, query_engine = create_rag_system(\n",
    "    repo_path=\"../docs/notebooks/assignment-2-mcdonald-s/src\",\n",
    "    embedding_model=\"text-embedding-3-large\",\n",
    "    llm_model=\"gpt-4o\",\n",
    ")\n"
   ]
  },
  {
   "cell_type": "markdown",
   "id": "3b81fdae",
   "metadata": {},
   "source": [
    "# Demonstrate Tools"
   ]
  },
  {
   "cell_type": "markdown",
   "id": "f4a86cee",
   "metadata": {},
   "source": [
    "## Cypher Query to generate initial Answer"
   ]
  },
  {
   "cell_type": "code",
   "execution_count": 1,
   "id": "4740742e",
   "metadata": {},
   "outputs": [
    {
     "name": "stdout",
     "output_type": "stream",
     "text": [
      "c:\\Users\\JaeHoBahng\\Desktop\\Georgetown\\2025_Spring\\DSAN_6725\\project\\spring-2025-final-project-project-group-2\\docs\\notebooks\n",
      "c:\\Users\\JaeHoBahng\\Desktop\\Georgetown\\2025_Spring\\DSAN_6725\\project\\spring-2025-final-project-project-group-2\\src\n"
     ]
    }
   ],
   "source": [
    "import os\n",
    "print(os.getcwd())\n",
    "os.chdir('c:\\\\Users\\\\JaeHoBahng\\\\Desktop\\\\Georgetown\\\\2025_Spring\\\\DSAN_6725\\\\project\\\\spring-2025-final-project-project-group-2\\\\src')\n",
    "print(os.getcwd())\n"
   ]
  },
  {
   "cell_type": "code",
   "execution_count": 2,
   "id": "a34203d5",
   "metadata": {},
   "outputs": [],
   "source": [
    "# from langchain_core.language_models import BaseChatModel\n",
    "# from langchain_neo4j import Neo4jGraph\n",
    "# from tools.micro_cypher_chain import CypherGraphBuilder\n",
    "\n",
    "# url = os.getenv('NEO4J_URI')\n",
    "# username = os.getenv('NEO4J_USERNAME')\n",
    "# password = os.getenv('NEO4J_PASSWORD')\n",
    "\n",
    "# graph_db = Neo4jGraph(\n",
    "#     url=url,\n",
    "#     username=username,\n",
    "#     password=password,\n",
    "#     enhanced_schema=True\n",
    "#     )\n",
    "\n",
    "# def retrieve_cypher_relationships(question: str):\n",
    "#     \"\"\"\n",
    "#     Connects to a local Neo4j instance and uses a language model to generate a Cypher-based graph\n",
    "#     representation of relationships between entities (e.g., code modules).\n",
    "\n",
    "#     Returns:\n",
    "#         dict: A structured representation of nodes and relationships inferred from the graph.\n",
    "#     \"\"\"\n",
    "\n",
    "#     # Create the Cypher graph\n",
    "#     builder = CypherGraphBuilder(llm=llm, graph_db=graph_db)\n",
    "#     # cypher_graph = builder.create_cypher_graph()\n",
    "#     cypher_graph = builder.create_cypher_graph()\n",
    "#     result = cypher_graph.invoke({\"question\": question})\n",
    "\n",
    "#     return result['answer']"
   ]
  },
  {
   "cell_type": "code",
   "execution_count": 20,
   "id": "5241cfc6",
   "metadata": {},
   "outputs": [],
   "source": [
    "from langchain_neo4j import Neo4jGraph\n",
    "from tools.micro_cypher_chain import CypherGraphBuilder\n",
    "from langchain_anthropic import ChatAnthropic\n",
    "\n",
    "url = os.getenv('NEO4J_URI')\n",
    "username = os.getenv('NEO4J_USERNAME')\n",
    "password = os.getenv('NEO4J_PASSWORD')\n",
    "\n",
    "graph_db = Neo4jGraph(\n",
    "    url=url,\n",
    "    username=username,\n",
    "    password=password,\n",
    "    enhanced_schema=True\n",
    ")\n",
    "\n",
    "\n",
    "# llm = ChatAnthropic(model=\"claude-3-5-sonnet-20240620\")\n",
    "from langchain.chat_models import init_chat_model\n",
    "llm = init_chat_model(\"gpt-4o-mini\", model_provider=\"openai\")\n",
    "\n",
    "\n",
    "builder = CypherGraphBuilder(llm=llm, graph_db=graph_db)\n",
    "cypher_graph = builder.create_cypher_graph()"
   ]
  },
  {
   "cell_type": "code",
   "execution_count": 21,
   "id": "3037437d",
   "metadata": {},
   "outputs": [],
   "source": [
    "result = cypher_graph.invoke({\"question\": \"How is the Utils.Utils module related to the Deduplication.__Main__ module?\"})"
   ]
  },
  {
   "cell_type": "code",
   "execution_count": 23,
   "id": "5898c591",
   "metadata": {},
   "outputs": [
    {
     "data": {
      "text/plain": [
       "\"MATCH path = (m:Module {id: 'Utils.Utils'})-[*..10]-(c:Module {id: 'Deduplication.__Main__'}) RETURN path LIMIT 10\""
      ]
     },
     "execution_count": 23,
     "metadata": {},
     "output_type": "execute_result"
    }
   ],
   "source": [
    "result['cypher_statement']"
   ]
  },
  {
   "cell_type": "code",
   "execution_count": 5,
   "id": "fd57f563",
   "metadata": {},
   "outputs": [
    {
     "data": {
      "text/plain": [
       "'The `Utils.Utils` module is related to the `Deduplication.__Main__` module in the following ways:\\n\\n- **Uses Minhash**: `Utils.Utils` imports `Utils.Utils.Minhash`, which is used in `Utils.Use_Cases.Nearest_Neighbor_Search` and is imported into `Deduplication.__Main__`.\\n- **Uses Shingle**: `Utils.Utils` imports `Utils.Utils.Shingle`, which is used in `Utils.Use_Cases.Nearest_Neighbor_Search` and is imported into `Deduplication.__Main__`.\\n- **Uses Clean Document**: `Utils.Utils` imports `Utils.Utils.Clean_Document`, which is used in `Utils.Use_Cases.Nearest_Neighbor_Search` and is imported into `Deduplication.__Main__`.\\n- **Reads TSV**: `Utils.Utils` defines `Utils.Utils.Read_Tsv`, which is used in `Deduplication.__Main__`.\\n- **Used in**: Definitions from `Utils.Utils` that involve `Utils.Utils.Read_Tsv` are specifically indicated as being used in `Deduplication.__Main__` and `Deduplication.__Main__.Main`.'"
      ]
     },
     "execution_count": 5,
     "metadata": {},
     "output_type": "execute_result"
    }
   ],
   "source": [
    "result['answer']"
   ]
  },
  {
   "cell_type": "code",
   "execution_count": 6,
   "id": "99d2fce4",
   "metadata": {},
   "outputs": [
    {
     "data": {
      "text/plain": [
       "[{'path': [{'id': 'Utils.Utils'},\n",
       "   'IMPORTED_FROM',\n",
       "   {'id': 'Utils.Utils.Unionfind'},\n",
       "   'DEFINES',\n",
       "   {'id': 'Utils.Utils'},\n",
       "   'IMPORTED_FROM',\n",
       "   {'id': 'Utils.Utils.Minhash'},\n",
       "   'USES',\n",
       "   {'id': 'Utils.Use_Cases.Nearest_Neighbor_Search'},\n",
       "   'IMPORTED_IN',\n",
       "   {'id': 'Deduplication.__Main__'}]},\n",
       " {'path': [{'id': 'Utils.Utils'},\n",
       "   'IMPORTED_FROM',\n",
       "   {'id': 'Utils.Utils.Unionfind'},\n",
       "   'DEFINES',\n",
       "   {'id': 'Utils.Utils'},\n",
       "   'IMPORTED_FROM',\n",
       "   {'id': 'Utils.Utils.Minhash'},\n",
       "   'USES',\n",
       "   {'id': 'Utils.Use_Cases.Nearest_Neighbor_Search'},\n",
       "   'USED_IN',\n",
       "   {'id': 'Deduplication.__Main__'}]},\n",
       " {'path': [{'id': 'Utils.Utils'},\n",
       "   'IMPORTED_FROM',\n",
       "   {'id': 'Utils.Utils.Unionfind'},\n",
       "   'DEFINES',\n",
       "   {'id': 'Utils.Utils'},\n",
       "   'IMPORTED_FROM',\n",
       "   {'id': 'Utils.Utils.Shingle'},\n",
       "   'USES',\n",
       "   {'id': 'Utils.Use_Cases.Nearest_Neighbor_Search'},\n",
       "   'IMPORTED_IN',\n",
       "   {'id': 'Deduplication.__Main__'}]},\n",
       " {'path': [{'id': 'Utils.Utils'},\n",
       "   'IMPORTED_FROM',\n",
       "   {'id': 'Utils.Utils.Unionfind'},\n",
       "   'DEFINES',\n",
       "   {'id': 'Utils.Utils'},\n",
       "   'IMPORTED_FROM',\n",
       "   {'id': 'Utils.Utils.Shingle'},\n",
       "   'USES',\n",
       "   {'id': 'Utils.Use_Cases.Nearest_Neighbor_Search'},\n",
       "   'USED_IN',\n",
       "   {'id': 'Deduplication.__Main__'}]},\n",
       " {'path': [{'id': 'Utils.Utils'},\n",
       "   'IMPORTED_FROM',\n",
       "   {'id': 'Utils.Utils.Unionfind'},\n",
       "   'DEFINES',\n",
       "   {'id': 'Utils.Utils'},\n",
       "   'IMPORTED_FROM',\n",
       "   {'id': 'Utils.Utils.Clean_Document'},\n",
       "   'USES',\n",
       "   {'id': 'Utils.Use_Cases.Nearest_Neighbor_Search'},\n",
       "   'IMPORTED_IN',\n",
       "   {'id': 'Deduplication.__Main__'}]},\n",
       " {'path': [{'id': 'Utils.Utils'},\n",
       "   'IMPORTED_FROM',\n",
       "   {'id': 'Utils.Utils.Unionfind'},\n",
       "   'DEFINES',\n",
       "   {'id': 'Utils.Utils'},\n",
       "   'IMPORTED_FROM',\n",
       "   {'id': 'Utils.Utils.Clean_Document'},\n",
       "   'USES',\n",
       "   {'id': 'Utils.Use_Cases.Nearest_Neighbor_Search'},\n",
       "   'USED_IN',\n",
       "   {'id': 'Deduplication.__Main__'}]},\n",
       " {'path': [{'id': 'Utils.Utils'},\n",
       "   'IMPORTED_FROM',\n",
       "   {'id': 'Utils.Utils.Unionfind'},\n",
       "   'DEFINES',\n",
       "   {'id': 'Utils.Utils'},\n",
       "   'DEFINES',\n",
       "   {'id': 'Utils.Utils.Read_Tsv'},\n",
       "   'IMPORTS',\n",
       "   {'id': 'Deduplication.__Main__'}]},\n",
       " {'path': [{'id': 'Utils.Utils'},\n",
       "   'IMPORTED_FROM',\n",
       "   {'id': 'Utils.Utils.Unionfind'},\n",
       "   'DEFINES',\n",
       "   {'id': 'Utils.Utils'},\n",
       "   'DEFINES',\n",
       "   {'id': 'Utils.Utils.Read_Tsv'},\n",
       "   'USED_IN',\n",
       "   {'id': 'Deduplication.__Main__.Main'},\n",
       "   'DEFINED_IN',\n",
       "   {'id': 'Deduplication.__Main__'}]},\n",
       " {'path': [{'id': 'Utils.Utils'},\n",
       "   'IMPORTED_FROM',\n",
       "   {'id': 'Utils.Utils.Unionfind'},\n",
       "   'DEFINES',\n",
       "   {'id': 'Utils.Utils'},\n",
       "   'DEFINES',\n",
       "   {'id': 'Utils.Utils.Read_Tsv'},\n",
       "   'USED_IN',\n",
       "   {'id': 'Deduplication.__Main__'}]},\n",
       " {'path': [{'id': 'Utils.Utils'},\n",
       "   'IMPORTED_FROM',\n",
       "   {'id': 'Utils.Utils.Unionfind'},\n",
       "   'DEFINES',\n",
       "   {'id': 'Utils.Utils'},\n",
       "   'DEFINES',\n",
       "   {'id': 'Utils.Utils.Minhash'},\n",
       "   'USES',\n",
       "   {'id': 'Utils.Use_Cases.Nearest_Neighbor_Search'},\n",
       "   'IMPORTED_IN',\n",
       "   {'id': 'Deduplication.__Main__'}]}]"
      ]
     },
     "execution_count": 6,
     "metadata": {},
     "output_type": "execute_result"
    }
   ],
   "source": [
    "result['cypher_results']"
   ]
  },
  {
   "cell_type": "code",
   "execution_count": 7,
   "id": "bde92fc9",
   "metadata": {},
   "outputs": [],
   "source": [
    "# graph_db.query(\"\"\"\n",
    "# MATCH path = (m1:Module {id: 'Utils.Utils'})-[*..5]-(m2:Module {id: 'Deduplication.__Main__'}) \n",
    "# WHERE NONE(n IN nodes(path) WHERE n:Package)\n",
    "# RETURN path\n",
    "# \"\"\")"
   ]
  },
  {
   "cell_type": "code",
   "execution_count": 13,
   "id": "44287b9c",
   "metadata": {},
   "outputs": [],
   "source": [
    "# import os\n",
    "# print(os.getcwd())\n",
    "# os.chdir('c:\\\\Users\\\\JaeHoBahng\\\\Desktop\\\\Georgetown\\\\2025_Spring\\\\DSAN_6725\\\\project\\\\spring-2025-final-project-project-group-2\\\\src')\n",
    "# print(os.getcwd())\n",
    "\n",
    "# from tools.micro_tools import (retrieve_cypher_relationships)\n",
    "\n",
    "# cypher_generator = retrieve_cypher_relationships(\"How is the Utils.Utils module related to the Deduplicatioin.__Main__ module?\")"
   ]
  },
  {
   "cell_type": "code",
   "execution_count": null,
   "id": "6740a08f",
   "metadata": {},
   "outputs": [],
   "source": []
  },
  {
   "cell_type": "markdown",
   "id": "21060bcb",
   "metadata": {},
   "source": [
    "## Final Text Response(VectorDB)"
   ]
  },
  {
   "cell_type": "code",
   "execution_count": 9,
   "id": "0cd37ec8",
   "metadata": {},
   "outputs": [
    {
     "name": "stdout",
     "output_type": "stream",
     "text": [
      "Based on the provided sentence and context, I can add relevant details to make it more informative and useful:\n",
      "\n",
      "The `Utils.Utils` module is a crucial component in the `Deduplication.__Main__` module, providing essential functionality for document processing and deduplication. Specifically:\n",
      "\n",
      "1. The `Utils.Utils` module offers several key functions that are utilized in `Deduplication.__Main__`:\n",
      "\n",
      "   - `Read_Tsv`: This function reads tab-separated values (TSV) files, likely used to load document datasets for deduplication.\n",
      "   - `Minhash`: Implements the MinHash algorithm to create compact signatures of document shingles, essential for efficient similarity estimation between documents.\n",
      "   - `Shingle`: Generates k-shingles from text, preserving some word order information for document comparison.\n",
      "   - `Clean_Document`: Normalizes text by converting to lowercase and removing non-alphabetic characters, crucial for preprocessing before analysis.\n",
      "   - `Majority_Vote`: Performs a majority vote on candidate pairs, likely used to determine which document pairs are considered duplicates based on multiple criteria.\n",
      "\n",
      "2. The `Utils.Utils.Unionfind` class, which implements the Union-Find (Disjoint Set) data structure with path compression, is utilized in `Deduplication.__Main__` through its association with `Collection_Deduplication`. This data structure is efficient for grouping similar items together, which is a key operation in the deduplication process.\n",
      "\n",
      "3. The `Utils.Utils` module also interacts with other components like `Deduplication.Dedup.Baseline`, which provides a baseline approach for detecting duplicate documents using MD5 hashes. This interaction suggests that `Deduplication.__Main__` leverages multiple strategies for deduplication, from basic hashing to more advanced LSH techniques.\n",
      "\n",
      "4. The extensive use of `Utils.Utils` functions in `Deduplication.__Main__` indicates that the main deduplication logic heavily relies on these utility functions for tasks such as data loading, text preprocessing, similarity computation, and result aggregation, forming a comprehensive pipeline for document deduplication.\n"
     ]
    }
   ],
   "source": [
    "questions = \"\"\"\n",
    "The Utils.Utils module is intricately related to the Deduplication.__Main__ module through several intermediate connections, reflecting a well-structured framework that enhances document deduplication capabilities. Here are the key points of this relationship:\n",
    "\n",
    "1. **Function Utilization**: The Utils.Utils module utilizes the `Compute_Minhash_Signatures` function from Deduplication.Lsh.Lsh, which plays a crucial role in generating MinHash signatures for documents. This computational function is essential for the efficiency of the deduplication process, as it allows for quick similarity comparisons between documents based on their hashed representations.\n",
    "\n",
    "2. **Class Interdependency**: The Deduplication.Lsh.Lsh module invokes the `Model` class from Deduplication.__Main__. This class serves as the backbone of the deduplication system, encapsulating core functionalities and configurations necessary for implementing various LSH-based methods effectively. The relationship emphasizes a modular design where the Lsh module extends the capabilities defined in the __Main__ module, facilitating code maintainability and scalability.\n",
    "\n",
    "3. **Definition of Key Classes**: The Deduplication.__Main__ module independently defines both the `Model` class and the `__Main__` class. The `Model` class encompasses methods for executing the deduplication algorithms and managing the data structures involved, while the `__Main__` class is responsible for orchestrating the overall execution flow of the deduplication process. This design fosters a clear separation of concerns, allowing more straightforward debugging and enhancement in future iterations.\n",
    "\n",
    "4. **Indirect Connections through Variants**: Additional relationships exist through other modules like `Lshimproved.Lsh` and `Lshforest.Lshforest`, which are specifically imported by Deduplication.__Main__. These imports signify that the main deduplication script leverages advancements in LSH techniques, such as improved processes for handling larger datasets and enhanced accuracy in identifying duplicate documents.\n",
    "\n",
    "In summary, the Utils.Utils module is primarily connected to Deduplication.__Main__ through shared components and dependencies within the overall Deduplication system. These connections enhance the utility and efficiency of the deduplication process, particularly through the Lsh module and its associated classes and functions. The architecture aligns with best practices in software development by promoting modularity, enabling future enhancements like the implementation of new LSH-based algorithms without extensive modifications to the existing structure. This design not only streamlines the deduplication process but also positions the system for potential application in various scenarios, including plagiarism detection and content clustering.\n",
    "\"\"\"\n",
    "# Query the system\n",
    "answer = query_engine.query(result['answer'])\n",
    "print(answer)"
   ]
  },
  {
   "cell_type": "markdown",
   "id": "09b7cc3a",
   "metadata": {},
   "source": [
    "## Final Visualization Response"
   ]
  },
  {
   "cell_type": "code",
   "execution_count": 10,
   "id": "1e7d2d59",
   "metadata": {},
   "outputs": [
    {
     "name": "stdout",
     "output_type": "stream",
     "text": [
      "Graph visualization saved as code_relationships_graph.html\n"
     ]
    }
   ],
   "source": [
    "from tools.micro_visual_response import visualize_cypher_results\n",
    "stats = visualize_cypher_results(result['cypher_results'], \"code_relationships_graph.html\")"
   ]
  },
  {
   "cell_type": "code",
   "execution_count": null,
   "id": "5464415b",
   "metadata": {},
   "outputs": [],
   "source": []
  },
  {
   "cell_type": "markdown",
   "id": "6b93d747",
   "metadata": {},
   "source": [
    "# Agent"
   ]
  },
  {
   "cell_type": "code",
   "execution_count": 1,
   "id": "850bfc75",
   "metadata": {},
   "outputs": [
    {
     "name": "stdout",
     "output_type": "stream",
     "text": [
      "c:\\Users\\JaeHoBahng\\Desktop\\Georgetown\\2025_Spring\\DSAN_6725\\project\\spring-2025-final-project-project-group-2\\docs\\notebooks\n",
      "c:\\Users\\JaeHoBahng\\Desktop\\Georgetown\\2025_Spring\\DSAN_6725\\project\\spring-2025-final-project-project-group-2\\src\n"
     ]
    }
   ],
   "source": [
    "import os\n",
    "print(os.getcwd())\n",
    "os.chdir('c:\\\\Users\\\\JaeHoBahng\\\\Desktop\\\\Georgetown\\\\2025_Spring\\\\DSAN_6725\\\\project\\\\spring-2025-final-project-project-group-2\\\\src')\n",
    "print(os.getcwd())\n",
    "\n",
    "\n",
    "from tools.micro_text_answer import create_rag_system\n",
    "\n",
    "db_setup, query_engine = create_rag_system(\n",
    "    repo_path=\"../docs/notebooks/assignment-2-mcdonald-s/src\",\n",
    "    embedding_model=\"text-embedding-3-large\",\n",
    "    llm_model=\"gpt-4o\",\n",
    ")\n"
   ]
  },
  {
   "cell_type": "code",
   "execution_count": 2,
   "id": "78d2e844",
   "metadata": {},
   "outputs": [],
   "source": [
    "from tools.micro_tools import (retrieve_cypher_relationships, visualize_relationships, generate_text_response)\n",
    "from tools import micro_tools\n",
    "from langgraph.prebuilt import create_react_agent\n",
    "\n",
    "micro_tools.query_engine = query_engine\n",
    "\n",
    "tools = [\n",
    "    retrieve_cypher_relationships,\n",
    "    visualize_relationships,\n",
    "    generate_text_response,\n",
    "]\n",
    "\n",
    "system_prompt = f\"\"\"\n",
    "You are a suupervisor that answers the questions given the following tools.\n",
    "{tools}\n",
    "\n",
    "You will use each tool only once and the guidelines of the tools are as follows:\n",
    "- You will always use the retrieve_cypher_relationships tool to get an initial answer.\n",
    "- You will always use the generate_text_response tool to get a final answer.\n",
    "- Only use the visualize_relationships tool to visualize the relationships when the user asks for a visualization.\n",
    "\n",
    "USE EACH TOOL ONLY ONCE.\n",
    "\n",
    "Always provide clear, actionable responses with specific details and implementation steps.\n",
    "\"\"\"\n",
    "\n",
    "from langchain.chat_models import init_chat_model\n",
    "llm = init_chat_model(\"gpt-4o\", model_provider=\"openai\")\n",
    "\n",
    "agent = create_react_agent(llm, tools=tools, prompt=system_prompt)"
   ]
  },
  {
   "cell_type": "code",
   "execution_count": 3,
   "id": "1ebf6697",
   "metadata": {},
   "outputs": [
    {
     "name": "stdout",
     "output_type": "stream",
     "text": [
      "importing tools\n"
     ]
    },
    {
     "name": "stderr",
     "output_type": "stream",
     "text": [
      "c:\\Users\\JaeHoBahng\\Desktop\\Georgetown\\2025_Spring\\DSAN_6725\\project\\spring-2025-final-project-project-group-2\\.venv\\Lib\\site-packages\\tqdm\\auto.py:21: TqdmWarning: IProgress not found. Please update jupyter and ipywidgets. See https://ipywidgets.readthedocs.io/en/stable/user_install.html\n",
      "  from .autonotebook import tqdm as notebook_tqdm\n"
     ]
    },
    {
     "name": "stdout",
     "output_type": "stream",
     "text": [
      "initializing Neo4jGraph\n",
      "Building Cypher graph\n",
      "done\n",
      "done\n",
      "Invoking cypher graph\n",
      "Generating text response...\n",
      "Results: {'answer': '- `Utils.Utils` defines `Utils.Utils.Majority_Vote`, which is imported into `Deduplication.Lshforest`, eventually making its way into `Deduplication.__Main__`.\\n- `Utils.Utils` defines `Utils.Utils.Majority_Vote`, which is used in `Deduplication.Lshforest.Lshforest.Banding`, and this is imported into `Deduplication.__Main__`.\\n- `Utils.Utils` defines `Utils.Utils.Majority_Vote`, which is part of `Deduplication.Lshforest.Lshforest`, extending `Deduplication.Lsh.Lsh` that is imported into `Deduplication.__Main__`.\\n- `Utils.Utils` directly defines content (`Utils.Utils.Majority_Vote`) that is used by `Deduplication.__Main__`, specifically in its model usage.\\n- `Utils.Utils.Read_Tsv` is defined in `Utils.Utils` and imported into `Deduplication.__Main__`.', 'steps': ['generate_cypher', 'execute_cypher', 'generate_final_answer'], 'cypher_statement': \"MATCH path = (m1:Module {id: 'Utils.Utils'})-[*..5]-(m2:Module {id: 'Deduplication.__Main__'}) WHERE NONE(n IN nodes(path) WHERE n:Package) RETURN path LIMIT 10\", 'cypher_results': [{'path': [{'id': 'Utils.Utils'}, 'DEFINES', {'id': 'Utils.Utils.Majority_Vote'}, 'IMPORTED_INTO', {'id': 'Deduplication.Lshforest'}, 'IMPORTED_INTO', {'id': 'Deduplication.Lsh.Lsh'}, 'EXTENDS', {'id': 'Deduplication.Lshforest.Lshforest'}, 'IMPORTED_INTO', {'id': 'Deduplication.__Main__'}]}, {'path': [{'id': 'Utils.Utils'}, 'DEFINES', {'id': 'Utils.Utils.Majority_Vote'}, 'IMPORTED_INTO', {'id': 'Deduplication.Lshforest'}, 'IMPORTED_INTO', {'id': 'Deduplication.Lsh.Lsh'}, 'IMPORTED_INTO', {'id': 'Deduplication.__Main__'}]}, {'path': [{'id': 'Utils.Utils'}, 'DEFINES', {'id': 'Utils.Utils.Majority_Vote'}, 'IMPORTED_INTO', {'id': 'Deduplication.Lshforest'}, 'IMPORTED_INTO', {'id': 'Deduplication.Lsh.Lsh'}, 'USES', {'id': 'Deduplication.__Main__.Model'}, 'DEFINED_IN', {'id': 'Deduplication.__Main__'}]}, {'path': [{'id': 'Utils.Utils'}, 'DEFINES', {'id': 'Utils.Utils.Majority_Vote'}, 'IMPORTED_INTO', {'id': 'Deduplication.Lshforest'}, 'DEFINES', {'id': 'Deduplication.Lshforest.Lshforest'}, 'EXTENDS', {'id': 'Deduplication.Lsh.Lsh'}, 'IMPORTED_INTO', {'id': 'Deduplication.__Main__'}]}, {'path': [{'id': 'Utils.Utils'}, 'DEFINES', {'id': 'Utils.Utils.Majority_Vote'}, 'IMPORTED_INTO', {'id': 'Deduplication.Lshforest'}, 'DEFINES', {'id': 'Deduplication.Lshforest.Lshforest'}, 'IMPORTED_INTO', {'id': 'Deduplication.__Main__'}]}, {'path': [{'id': 'Utils.Utils'}, 'DEFINES', {'id': 'Utils.Utils.Majority_Vote'}, 'IMPORTED_INTO', {'id': 'Deduplication.Lshforest'}, 'DEFINES', {'id': 'Deduplication.Lshforest.Lshforest'}, 'USES', {'id': 'Deduplication.__Main__.Model'}, 'DEFINED_IN', {'id': 'Deduplication.__Main__'}]}, {'path': [{'id': 'Utils.Utils'}, 'DEFINES', {'id': 'Utils.Utils.Majority_Vote'}, 'USED_IN', {'id': 'Deduplication.Lshforest.Lshforest.Banding'}, 'DEFINES', {'id': 'Deduplication.Lshforest.Lshforest'}, 'EXTENDS', {'id': 'Deduplication.Lsh.Lsh'}, 'IMPORTED_INTO', {'id': 'Deduplication.__Main__'}]}, {'path': [{'id': 'Utils.Utils'}, 'DEFINES', {'id': 'Utils.Utils.Majority_Vote'}, 'USED_IN', {'id': 'Deduplication.Lshforest.Lshforest.Banding'}, 'DEFINES', {'id': 'Deduplication.Lshforest.Lshforest'}, 'IMPORTED_INTO', {'id': 'Deduplication.__Main__'}]}, {'path': [{'id': 'Utils.Utils'}, 'DEFINES', {'id': 'Utils.Utils.Majority_Vote'}, 'USED_IN', {'id': 'Deduplication.Lshforest.Lshforest.Banding'}, 'DEFINES', {'id': 'Deduplication.Lshforest.Lshforest'}, 'USES', {'id': 'Deduplication.__Main__.Model'}, 'DEFINED_IN', {'id': 'Deduplication.__Main__'}]}, {'path': [{'id': 'Utils.Utils'}, 'DEFINES', {'id': 'Utils.Utils.Majority_Vote'}, 'DEFINED_IN', {'id': 'Utils.Utils'}, 'DEFINED_IN', {'id': 'Utils.Utils.Read_Tsv'}, 'IMPORTED_INTO', {'id': 'Deduplication.__Main__'}]}]}\n",
      "<tools.micro_text_answer.RAGQueryEngine object at 0x0000024F73463E00>\n",
      "Initial response: - `Utils.Utils` defines `Utils.Utils.Majority_Vote`, which is imported into `Deduplication.Lshforest`, eventually making its way into `Deduplication.__Main__`.\n",
      "- `Utils.Utils` defines `Utils.Utils.Majority_Vote`, which is used in `Deduplication.Lshforest.Lshforest.Banding`, and this is imported into `Deduplication.__Main__`.\n",
      "- `Utils.Utils` defines `Utils.Utils.Majority_Vote`, which is part of `Deduplication.Lshforest.Lshforest`, extending `Deduplication.Lsh.Lsh` that is imported into `Deduplication.__Main__`.\n",
      "- `Utils.Utils` directly defines content (`Utils.Utils.Majority_Vote`) that is used by `Deduplication.__Main__`, specifically in its model usage.\n",
      "- `Utils.Utils.Read_Tsv` is defined in `Utils.Utils` and imported into `Deduplication.__Main__`.\n",
      "Answer: The script in question is a key component of a comprehensive deduplication system, effectively employing several advanced techniques to process and manage large datasets. Here's an enhanced breakdown of how the components and functions detailed in your Cypher query results integrate and illuminate the deduplication process:\n",
      "\n",
      "1. **`Utils.Utils.Majority_Vote` Functionality and Integration**:\n",
      "   - The `Utils.Utils.Majority_Vote` function is a pivotal part of the deduplication mechanism. It enhances the reliability of identifying correct candidate document pairs by aggregating results from multiple LSH processes. This aggregation mechanism is crucial for distinguishing true duplicates from false positives, thus ensuring the deduplication results' accuracy.\n",
      "\n",
      "2. **Role in `Deduplication.Lshforest`**:\n",
      "   - `Utils.Utils.Majority_Vote` is integral to the `Deduplication.Lshforest` module. Within this module, it is employed specifically as part of a more refined deduplication system that extends the basic LSH capabilities by utilizing several LSH trees (hence forming an LSH forest). This methodology stabilizes deduplication outcomes by reinforcing consistency across multiple hashing contexts.\n",
      "\n",
      "3. **Extension through `Deduplication.Lsh.Lsh`**:\n",
      "   - While the `LSHForest` enhances base LSH capabilities, the direct linkage to `Deduplication.Lsh.Lsh` signifies an architectural evolution aimed at capitalizing on the conventional LSH infrastructure but with added layers for rigorous deduplication—evidently through techniques like majority voting.\n",
      "\n",
      "4. **Direct Imports to `Deduplication.__Main__`**:\n",
      "   - The functions, including `Utils.Utils.Majority_Vote` and `Utils.Utils.Read_Tsv`, facilitated directly into `Deduplication.__Main__`, indicate their indispensable roles. The presence of these imports elucidates how `__Main__` acts as the foundational layer, assimilating utilities and strategies which harness document ingestion (`Read_Tsv`) and the core deduplication logic (`Majority_Vote`), underscoring its operation as the deduplication process's central operating point.\n",
      "\n",
      "5. **`Read_Tsv` for File and Data Handling**:\n",
      "   - `Utils.Utils.Read_Tsv` bolsters the script's data handling prowess by enabling efficient input parsing. Its integration ensures smooth file processing, transforming raw data into workable formats necessary for deduplication operations, mirroring the script's emphasis on handling extensive datasets.\n",
      "\n",
      "6. **The Working of the Script**:\n",
      "   - The script takes advantage of extensive utility and command-line parsing mechanisms to manage deduplication or approximate neighbor searches effectively. It leverages complexities like memory monitoring, error handling, and logging to offer a robust environment for operations, aligning with rigorous performance standards necessary for large-scale document processing tasks.\n",
      "\n",
      "By aggregating these nuances with the broader LSH mechanisms, the script stands out as a sophisticated framework designed for high-performance document deduplication, securing the efficiency and reliability necessary for handling substantial and complex data arrays.\n"
     ]
    }
   ],
   "source": [
    "answer = agent.invoke(\n",
    "    {\n",
    "        \"messages\": [\n",
    "            {\n",
    "                \"role\": \"user\",\n",
    "                \"content\": \"How is the Utils.Utils module related to the Deduplication.__Main__ module?\",\n",
    "            }\n",
    "        ],\n",
    "        \"goto\": \"supervisor\",\n",
    "    }\n",
    ")"
   ]
  },
  {
   "cell_type": "code",
   "execution_count": 4,
   "id": "e274fdff",
   "metadata": {},
   "outputs": [
    {
     "name": "stdout",
     "output_type": "stream",
     "text": [
      "The `Utils.Utils` module and the `Deduplication.__Main__` module are connected through several relationships and dependencies within the codebase. Here is a detailed breakdown of their relationship:\n",
      "\n",
      "1. **Definition and Usage**:\n",
      "   - `Utils.Utils` defines a component called `Utils.Utils.Majority_Vote`. This component is crucial and is imported into various parts of the deduplication framework, including `Deduplication.Lshforest` and through to `Deduplication.__Main__`.\n",
      "   - `Utils.Utils.Majority_Vote` is specifically used within `Deduplication.Lshforest.Lshforest.Banding`, which is part of the operations in the `Deduplication.__Main__`.\n",
      "\n",
      "2. **Hierarchical Integration**:\n",
      "   - The component `Utils.Utils.Majority_Vote` is integrated into `Deduplication.Lshforest`. The module `Deduplication.Lshforest` contains LSH (Locality-Sensitive Hashing) functionalities that extend its capabilities via the integration of majority voting systems for enhanced duplicate detection or elimination.\n",
      "   - The hierarchy extends from `Lshforest` to `Lshforest.Lshforest`, which itself extends `Deduplication.Lsh.Lsh`.\n",
      "\n",
      "3. **Direct Module Interaction**:\n",
      "   - `Utils.Utils.Read_Tsv`, another functionality defined in `Utils.Utils`, is directly imported into `Deduplication.__Main__`. This import highlights the utility of `Utils.Utils` in processing and handling data, specifically CSV/TSV files which are relevant for the main deduplication tasks.\n",
      "\n",
      "4. **Core Logic Incorporation**:\n",
      "   - Overall, `Utils.Utils` contributes core functionalities that are utilized within deduplication logic, empowering `Deduplication.__Main__` to perform its operations effectively. These operations might include reading input files (`Read_Tsv`) and processing data through majority voting and LSH techniques for duplicate detection.\n",
      "\n",
      "Thus, `Utils.Utils` supports and extends the capabilities of `Deduplication.__Main__` by providing fundamental utilities essential for data reading, processing, and decision-making in deduplication processes.\n"
     ]
    }
   ],
   "source": [
    "print(answer['messages'][-1].content)"
   ]
  },
  {
   "cell_type": "code",
   "execution_count": 4,
   "id": "bf4522c6",
   "metadata": {},
   "outputs": [
    {
     "data": {
      "text/plain": [
       "{'messages': [HumanMessage(content='How is the Utils.Utils module related to the Deduplication.__Main__ module? Can you give me a visualization as well?', additional_kwargs={}, response_metadata={}, id='93292251-b958-4aaa-acda-f0956832283b'),\n",
       "  AIMessage(content='', additional_kwargs={'tool_calls': [{'id': 'call_xumAZ62KiNB87z21VqqKcaU5', 'function': {'arguments': '{\"question\":\"How is the Utils.Utils module related to the Deduplication.__Main__ module?\"}', 'name': 'retrieve_cypher_relationships'}, 'type': 'function'}], 'refusal': None}, response_metadata={'token_usage': {'completion_tokens': 35, 'prompt_tokens': 731, 'total_tokens': 766, 'completion_tokens_details': {'accepted_prediction_tokens': 0, 'audio_tokens': 0, 'reasoning_tokens': 0, 'rejected_prediction_tokens': 0}, 'prompt_tokens_details': {'audio_tokens': 0, 'cached_tokens': 0}}, 'model_name': 'gpt-4o-2024-08-06', 'system_fingerprint': 'fp_85bc8e3fae', 'finish_reason': 'tool_calls', 'logprobs': None}, id='run-56e374d2-9391-4c58-9f79-f6f8771f9f6c-0', tool_calls=[{'name': 'retrieve_cypher_relationships', 'args': {'question': 'How is the Utils.Utils module related to the Deduplication.__Main__ module?'}, 'id': 'call_xumAZ62KiNB87z21VqqKcaU5', 'type': 'tool_call'}], usage_metadata={'input_tokens': 731, 'output_tokens': 35, 'total_tokens': 766, 'input_token_details': {'audio': 0, 'cache_read': 0}, 'output_token_details': {'audio': 0, 'reasoning': 0}}),\n",
       "  ToolMessage(content='{\"answer\": \"The `Utils.Utils` module is related to the `Deduplication.__Main__` module in multiple ways:\\\\n\\\\n- The `Utils.Utils` module, specifically `Utils.Utils.Unionfind`, is used in `Utils.Use_Cases.Collection_Deduplication` and either imports or uses `Deduplication.__Main__`.\\\\n- The `Utils.Utils` module, through the `Read_Tsv` function, imports and/or uses the `Deduplication.__Main__` module.\\\\n- The `Utils.Utils` module, via the `Minhash` function, uses `Deduplication.Lsh.Lsh.Compute_Minhash_Signatures` and interacts with `Deduplication.__Main__`.\\\\n- The `Utils.Utils` module, specifically the `Shingle` function, is used in `Utils.Use_Cases.Nearest_Neighbor_Search` and interacts with `Deduplication.__Main__`.\\\\n- The `Utils.Utils` module is imported in the `Deduplication.Lshimproved` module, which in turn imports `Deduplication.__Main__`.\", \"steps\": [\"generate_cypher\", \"execute_cypher\", \"generate_final_answer\"], \"cypher_statement\": \"MATCH path = (m1:Module {id: \\'Utils.Utils\\'})-[*..5]-(m2:Module {id: \\'Deduplication.__Main__\\'}) WHERE NONE(n IN nodes(path) WHERE n:Package) RETURN path\", \"cypher_results\": [{\"path\": [{\"id\": \"Utils.Utils\"}, \"CLASS\", {\"id\": \"Utils.Utils.Unionfind\"}, \"USED_IN\", {\"id\": \"Utils.Use_Cases.Collection_Deduplication\"}, \"DEFINES\", {\"id\": \"Utils.Use_Cases\"}, \"DEFINES\", {\"id\": \"Utils.Use_Cases.Nearest_Neighbor_Search\"}, \"IMPORTS\", {\"id\": \"Deduplication.__Main__\"}]}, {\"path\": [{\"id\": \"Utils.Utils\"}, \"CLASS\", {\"id\": \"Utils.Utils.Unionfind\"}, \"USED_IN\", {\"id\": \"Utils.Use_Cases.Collection_Deduplication\"}, \"DEFINES\", {\"id\": \"Utils.Use_Cases\"}, \"DEFINES\", {\"id\": \"Utils.Use_Cases.Nearest_Neighbor_Search\"}, \"USES\", {\"id\": \"Deduplication.__Main__\"}]}, {\"path\": [{\"id\": \"Utils.Utils\"}, \"CLASS\", {\"id\": \"Utils.Utils.Unionfind\"}, \"USED_IN\", {\"id\": \"Utils.Use_Cases.Collection_Deduplication\"}, \"IMPORTS\", {\"id\": \"Deduplication.__Main__\"}]}, {\"path\": [{\"id\": \"Utils.Utils\"}, \"CLASS\", {\"id\": \"Utils.Utils.Unionfind\"}, \"USED_IN\", {\"id\": \"Utils.Use_Cases.Collection_Deduplication\"}, \"IMPORTS\", {\"id\": \"Deduplication.__Main__\"}, \"INSTANTIATES\", {\"id\": \"Deduplication.Dedup.Baseline\"}, \"IMPORTS\", {\"id\": \"Deduplication.__Main__\"}]}, {\"path\": [{\"id\": \"Utils.Utils\"}, \"CLASS\", {\"id\": \"Utils.Utils.Unionfind\"}, \"USED_IN\", {\"id\": \"Utils.Use_Cases.Collection_Deduplication\"}, \"IMPORTS\", {\"id\": \"Deduplication.__Main__\"}, \"IMPORTS\", {\"id\": \"Utils.Use_Cases.Nearest_Neighbor_Search\"}, \"USES\", {\"id\": \"Deduplication.__Main__\"}]}, {\"path\": [{\"id\": \"Utils.Utils\"}, \"CLASS\", {\"id\": \"Utils.Utils.Unionfind\"}, \"USED_IN\", {\"id\": \"Utils.Use_Cases.Collection_Deduplication\"}, \"IMPORTS\", {\"id\": \"Deduplication.__Main__\"}, \"IMPORTS\", {\"id\": \"Utils.Utils.Read_Tsv\"}, \"USES\", {\"id\": \"Deduplication.__Main__\"}]}, {\"path\": [{\"id\": \"Utils.Utils\"}, \"CLASS\", {\"id\": \"Utils.Utils.Unionfind\"}, \"USED_IN\", {\"id\": \"Utils.Use_Cases.Collection_Deduplication\"}, \"IMPORTS\", {\"id\": \"Deduplication.__Main__\"}, \"IMPORTS\", {\"id\": \"Deduplication.Dedup.Baseline\"}, \"INSTANTIATES\", {\"id\": \"Deduplication.__Main__\"}]}, {\"path\": [{\"id\": \"Utils.Utils\"}, \"CLASS\", {\"id\": \"Utils.Utils.Unionfind\"}, \"USED_IN\", {\"id\": \"Utils.Use_Cases.Collection_Deduplication\"}, \"IMPORTS\", {\"id\": \"Deduplication.__Main__\"}, \"USES\", {\"id\": \"Utils.Use_Cases.Nearest_Neighbor_Search\"}, \"IMPORTS\", {\"id\": \"Deduplication.__Main__\"}]}, {\"path\": [{\"id\": \"Utils.Utils\"}, \"CLASS\", {\"id\": \"Utils.Utils.Unionfind\"}, \"USED_IN\", {\"id\": \"Utils.Use_Cases.Collection_Deduplication\"}, \"IMPORTS\", {\"id\": \"Deduplication.__Main__\"}, \"USES\", {\"id\": \"Utils.Utils.Read_Tsv\"}, \"IMPORTS\", {\"id\": \"Deduplication.__Main__\"}]}, {\"path\": [{\"id\": \"Utils.Utils\"}, \"CLASS\", {\"id\": \"Utils.Utils.Unionfind\"}, \"USED_IN\", {\"id\": \"Utils.Use_Cases.Collection_Deduplication\"}, \"USES\", {\"id\": \"Deduplication.__Main__\"}]}, {\"path\": [{\"id\": \"Utils.Utils\"}, \"CLASS\", {\"id\": \"Utils.Utils.Unionfind\"}, \"USED_IN\", {\"id\": \"Utils.Use_Cases.Collection_Deduplication\"}, \"USES\", {\"id\": \"Deduplication.__Main__\"}, \"INSTANTIATES\", {\"id\": \"Deduplication.Dedup.Baseline\"}, \"IMPORTS\", {\"id\": \"Deduplication.__Main__\"}]}, {\"path\": [{\"id\": \"Utils.Utils\"}, \"CLASS\", {\"id\": \"Utils.Utils.Unionfind\"}, \"USED_IN\", {\"id\": \"Utils.Use_Cases.Collection_Deduplication\"}, \"USES\", {\"id\": \"Deduplication.__Main__\"}, \"IMPORTS\", {\"id\": \"Utils.Use_Cases.Nearest_Neighbor_Search\"}, \"USES\", {\"id\": \"Deduplication.__Main__\"}]}, {\"path\": [{\"id\": \"Utils.Utils\"}, \"CLASS\", {\"id\": \"Utils.Utils.Unionfind\"}, \"USED_IN\", {\"id\": \"Utils.Use_Cases.Collection_Deduplication\"}, \"USES\", {\"id\": \"Deduplication.__Main__\"}, \"IMPORTS\", {\"id\": \"Utils.Utils.Read_Tsv\"}, \"USES\", {\"id\": \"Deduplication.__Main__\"}]}, {\"path\": [{\"id\": \"Utils.Utils\"}, \"CLASS\", {\"id\": \"Utils.Utils.Unionfind\"}, \"USED_IN\", {\"id\": \"Utils.Use_Cases.Collection_Deduplication\"}, \"USES\", {\"id\": \"Deduplication.__Main__\"}, \"IMPORTS\", {\"id\": \"Deduplication.Dedup.Baseline\"}, \"INSTANTIATES\", {\"id\": \"Deduplication.__Main__\"}]}, {\"path\": [{\"id\": \"Utils.Utils\"}, \"CLASS\", {\"id\": \"Utils.Utils.Unionfind\"}, \"USED_IN\", {\"id\": \"Utils.Use_Cases.Collection_Deduplication\"}, \"USES\", {\"id\": \"Deduplication.__Main__\"}, \"USES\", {\"id\": \"Utils.Use_Cases.Nearest_Neighbor_Search\"}, \"IMPORTS\", {\"id\": \"Deduplication.__Main__\"}]}, {\"path\": [{\"id\": \"Utils.Utils\"}, \"CLASS\", {\"id\": \"Utils.Utils.Unionfind\"}, \"USED_IN\", {\"id\": \"Utils.Use_Cases.Collection_Deduplication\"}, \"USES\", {\"id\": \"Deduplication.__Main__\"}, \"USES\", {\"id\": \"Utils.Utils.Read_Tsv\"}, \"IMPORTS\", {\"id\": \"Deduplication.__Main__\"}]}, {\"path\": [{\"id\": \"Utils.Utils\"}, \"FUNCTION\", {\"id\": \"Utils.Utils.Read_Tsv\"}, \"IMPORTS\", {\"id\": \"Deduplication.__Main__\"}]}, {\"path\": [{\"id\": \"Utils.Utils\"}, \"FUNCTION\", {\"id\": \"Utils.Utils.Read_Tsv\"}, \"IMPORTS\", {\"id\": \"Deduplication.__Main__\"}, \"INSTANTIATES\", {\"id\": \"Deduplication.Dedup.Baseline\"}, \"IMPORTS\", {\"id\": \"Deduplication.__Main__\"}]}, {\"path\": [{\"id\": \"Utils.Utils\"}, \"FUNCTION\", {\"id\": \"Utils.Utils.Read_Tsv\"}, \"IMPORTS\", {\"id\": \"Deduplication.__Main__\"}, \"INSTANTIATES\", {\"id\": \"Deduplication.Dedup.Baseline\"}, \"DEFINED_IN\", {\"id\": \"Deduplication.Dedup.Baseline.Collection_Deduplication\"}, \"USES\", {\"id\": \"Deduplication.__Main__\"}]}, {\"path\": [{\"id\": \"Utils.Utils\"}, \"FUNCTION\", {\"id\": \"Utils.Utils.Read_Tsv\"}, \"IMPORTS\", {\"id\": \"Deduplication.__Main__\"}, \"IMPORTS\", {\"id\": \"Utils.Use_Cases.Nearest_Neighbor_Search\"}, \"USES\", {\"id\": \"Deduplication.__Main__\"}]}, {\"path\": [{\"id\": \"Utils.Utils\"}, \"FUNCTION\", {\"id\": \"Utils.Utils.Read_Tsv\"}, \"IMPORTS\", {\"id\": \"Deduplication.__Main__\"}, \"IMPORTS\", {\"id\": \"Utils.Use_Cases.Collection_Deduplication\"}, \"USES\", {\"id\": \"Deduplication.__Main__\"}]}, {\"path\": [{\"id\": \"Utils.Utils\"}, \"FUNCTION\", {\"id\": \"Utils.Utils.Read_Tsv\"}, \"IMPORTS\", {\"id\": \"Deduplication.__Main__\"}, \"IMPORTS\", {\"id\": \"Deduplication.Lshforest.Lshforest\"}, \"INHERITS\", {\"id\": \"Deduplication.Lsh.Lsh\"}, \"IMPORTS\", {\"id\": \"Deduplication.__Main__\"}]}, {\"path\": [{\"id\": \"Utils.Utils\"}, \"FUNCTION\", {\"id\": \"Utils.Utils.Read_Tsv\"}, \"IMPORTS\", {\"id\": \"Deduplication.__Main__\"}, \"IMPORTS\", {\"id\": \"Deduplication.Lsh.Lsh\"}, \"INHERITS\", {\"id\": \"Deduplication.Lshforest.Lshforest\"}, \"IMPORTS\", {\"id\": \"Deduplication.__Main__\"}]}, {\"path\": [{\"id\": \"Utils.Utils\"}, \"FUNCTION\", {\"id\": \"Utils.Utils.Read_Tsv\"}, \"IMPORTS\", {\"id\": \"Deduplication.__Main__\"}, \"IMPORTS\", {\"id\": \"Deduplication.Dedup.Baseline\"}, \"INSTANTIATES\", {\"id\": \"Deduplication.__Main__\"}]}, {\"path\": [{\"id\": \"Utils.Utils\"}, \"FUNCTION\", {\"id\": \"Utils.Utils.Read_Tsv\"}, \"IMPORTS\", {\"id\": \"Deduplication.__Main__\"}, \"IMPORTS\", {\"id\": \"Deduplication.Dedup.Baseline\"}, \"DEFINED_IN\", {\"id\": \"Deduplication.Dedup.Baseline.Collection_Deduplication\"}, \"USES\", {\"id\": \"Deduplication.__Main__\"}]}, {\"path\": [{\"id\": \"Utils.Utils\"}, \"FUNCTION\", {\"id\": \"Utils.Utils.Read_Tsv\"}, \"IMPORTS\", {\"id\": \"Deduplication.__Main__\"}, \"USES\", {\"id\": \"Utils.Use_Cases.Nearest_Neighbor_Search\"}, \"IMPORTS\", {\"id\": \"Deduplication.__Main__\"}]}, {\"path\": [{\"id\": \"Utils.Utils\"}, \"FUNCTION\", {\"id\": \"Utils.Utils.Read_Tsv\"}, \"IMPORTS\", {\"id\": \"Deduplication.__Main__\"}, \"USES\", {\"id\": \"Utils.Use_Cases.Collection_Deduplication\"}, \"IMPORTS\", {\"id\": \"Deduplication.__Main__\"}]}, {\"path\": [{\"id\": \"Utils.Utils\"}, \"FUNCTION\", {\"id\": \"Utils.Utils.Read_Tsv\"}, \"IMPORTS\", {\"id\": \"Deduplication.__Main__\"}, \"USES\", {\"id\": \"Deduplication.Dedup.Baseline.Collection_Deduplication\"}, \"DEFINED_IN\", {\"id\": \"Deduplication.Dedup.Baseline\"}, \"INSTANTIATES\", {\"id\": \"Deduplication.__Main__\"}]}, {\"path\": [{\"id\": \"Utils.Utils\"}, \"FUNCTION\", {\"id\": \"Utils.Utils.Read_Tsv\"}, \"IMPORTS\", {\"id\": \"Deduplication.__Main__\"}, \"USES\", {\"id\": \"Deduplication.Dedup.Baseline.Collection_Deduplication\"}, \"DEFINED_IN\", {\"id\": \"Deduplication.Dedup.Baseline\"}, \"IMPORTS\", {\"id\": \"Deduplication.__Main__\"}]}, {\"path\": [{\"id\": \"Utils.Utils\"}, \"FUNCTION\", {\"id\": \"Utils.Utils.Read_Tsv\"}, \"USES\", {\"id\": \"Deduplication.__Main__\"}]}, {\"path\": [{\"id\": \"Utils.Utils\"}, \"FUNCTION\", {\"id\": \"Utils.Utils.Read_Tsv\"}, \"USES\", {\"id\": \"Deduplication.__Main__\"}, \"INSTANTIATES\", {\"id\": \"Deduplication.Dedup.Baseline\"}, \"IMPORTS\", {\"id\": \"Deduplication.__Main__\"}]}, {\"path\": [{\"id\": \"Utils.Utils\"}, \"FUNCTION\", {\"id\": \"Utils.Utils.Read_Tsv\"}, \"USES\", {\"id\": \"Deduplication.__Main__\"}, \"INSTANTIATES\", {\"id\": \"Deduplication.Dedup.Baseline\"}, \"DEFINED_IN\", {\"id\": \"Deduplication.Dedup.Baseline.Collection_Deduplication\"}, \"USES\", {\"id\": \"Deduplication.__Main__\"}]}, {\"path\": [{\"id\": \"Utils.Utils\"}, \"FUNCTION\", {\"id\": \"Utils.Utils.Read_Tsv\"}, \"USES\", {\"id\": \"Deduplication.__Main__\"}, \"IMPORTS\", {\"id\": \"Utils.Use_Cases.Nearest_Neighbor_Search\"}, \"USES\", {\"id\": \"Deduplication.__Main__\"}]}, {\"path\": [{\"id\": \"Utils.Utils\"}, \"FUNCTION\", {\"id\": \"Utils.Utils.Read_Tsv\"}, \"USES\", {\"id\": \"Deduplication.__Main__\"}, \"IMPORTS\", {\"id\": \"Utils.Use_Cases.Collection_Deduplication\"}, \"USES\", {\"id\": \"Deduplication.__Main__\"}]}, {\"path\": [{\"id\": \"Utils.Utils\"}, \"FUNCTION\", {\"id\": \"Utils.Utils.Read_Tsv\"}, \"USES\", {\"id\": \"Deduplication.__Main__\"}, \"IMPORTS\", {\"id\": \"Deduplication.Lshforest.Lshforest\"}, \"INHERITS\", {\"id\": \"Deduplication.Lsh.Lsh\"}, \"IMPORTS\", {\"id\": \"Deduplication.__Main__\"}]}, {\"path\": [{\"id\": \"Utils.Utils\"}, \"FUNCTION\", {\"id\": \"Utils.Utils.Read_Tsv\"}, \"USES\", {\"id\": \"Deduplication.__Main__\"}, \"IMPORTS\", {\"id\": \"Deduplication.Lsh.Lsh\"}, \"INHERITS\", {\"id\": \"Deduplication.Lshforest.Lshforest\"}, \"IMPORTS\", {\"id\": \"Deduplication.__Main__\"}]}, {\"path\": [{\"id\": \"Utils.Utils\"}, \"FUNCTION\", {\"id\": \"Utils.Utils.Read_Tsv\"}, \"USES\", {\"id\": \"Deduplication.__Main__\"}, \"IMPORTS\", {\"id\": \"Deduplication.Dedup.Baseline\"}, \"INSTANTIATES\", {\"id\": \"Deduplication.__Main__\"}]}, {\"path\": [{\"id\": \"Utils.Utils\"}, \"FUNCTION\", {\"id\": \"Utils.Utils.Read_Tsv\"}, \"USES\", {\"id\": \"Deduplication.__Main__\"}, \"IMPORTS\", {\"id\": \"Deduplication.Dedup.Baseline\"}, \"DEFINED_IN\", {\"id\": \"Deduplication.Dedup.Baseline.Collection_Deduplication\"}, \"USES\", {\"id\": \"Deduplication.__Main__\"}]}, {\"path\": [{\"id\": \"Utils.Utils\"}, \"FUNCTION\", {\"id\": \"Utils.Utils.Read_Tsv\"}, \"USES\", {\"id\": \"Deduplication.__Main__\"}, \"USES\", {\"id\": \"Utils.Use_Cases.Nearest_Neighbor_Search\"}, \"IMPORTS\", {\"id\": \"Deduplication.__Main__\"}]}, {\"path\": [{\"id\": \"Utils.Utils\"}, \"FUNCTION\", {\"id\": \"Utils.Utils.Read_Tsv\"}, \"USES\", {\"id\": \"Deduplication.__Main__\"}, \"USES\", {\"id\": \"Utils.Use_Cases.Collection_Deduplication\"}, \"IMPORTS\", {\"id\": \"Deduplication.__Main__\"}]}, {\"path\": [{\"id\": \"Utils.Utils\"}, \"FUNCTION\", {\"id\": \"Utils.Utils.Read_Tsv\"}, \"USES\", {\"id\": \"Deduplication.__Main__\"}, \"USES\", {\"id\": \"Deduplication.Dedup.Baseline.Collection_Deduplication\"}, \"DEFINED_IN\", {\"id\": \"Deduplication.Dedup.Baseline\"}, \"INSTANTIATES\", {\"id\": \"Deduplication.__Main__\"}]}, {\"path\": [{\"id\": \"Utils.Utils\"}, \"FUNCTION\", {\"id\": \"Utils.Utils.Read_Tsv\"}, \"USES\", {\"id\": \"Deduplication.__Main__\"}, \"USES\", {\"id\": \"Deduplication.Dedup.Baseline.Collection_Deduplication\"}, \"DEFINED_IN\", {\"id\": \"Deduplication.Dedup.Baseline\"}, \"IMPORTS\", {\"id\": \"Deduplication.__Main__\"}]}, {\"path\": [{\"id\": \"Utils.Utils\"}, \"FUNCTION\", {\"id\": \"Utils.Utils.Majority_Vote\"}, \"USES\", {\"id\": \"Deduplication.Lshforest.Lshforest.Banding\"}, \"DEFINES\", {\"id\": \"Deduplication.Lshforest.Lshforest\"}, \"INHERITS\", {\"id\": \"Deduplication.Lsh.Lsh\"}, \"IMPORTS\", {\"id\": \"Deduplication.__Main__\"}]}, {\"path\": [{\"id\": \"Utils.Utils\"}, \"FUNCTION\", {\"id\": \"Utils.Utils.Majority_Vote\"}, \"USES\", {\"id\": \"Deduplication.Lshforest.Lshforest.Banding\"}, \"DEFINES\", {\"id\": \"Deduplication.Lshforest.Lshforest\"}, \"IMPORTS\", {\"id\": \"Deduplication.__Main__\"}]}, {\"path\": [{\"id\": \"Utils.Utils\"}, \"FUNCTION\", {\"id\": \"Utils.Utils.Majority_Vote\"}, \"USES\", {\"id\": \"Deduplication.Lshforest.Lshforest.Banding\"}, \"USES\", {\"id\": \"Deduplication.__Main__.Model\"}, \"DEFINED_IN\", {\"id\": \"Deduplication.__Main__\"}]}, {\"path\": [{\"id\": \"Utils.Utils\"}, \"FUNCTION\", {\"id\": \"Utils.Utils.Split_Dict\"}, \"USES\", {\"id\": \"Deduplication.Lshforest.Lshforest.Banding\"}, \"DEFINES\", {\"id\": \"Deduplication.Lshforest.Lshforest\"}, \"INHERITS\", {\"id\": \"Deduplication.Lsh.Lsh\"}, \"IMPORTS\", {\"id\": \"Deduplication.__Main__\"}]}, {\"path\": [{\"id\": \"Utils.Utils\"}, \"FUNCTION\", {\"id\": \"Utils.Utils.Split_Dict\"}, \"USES\", {\"id\": \"Deduplication.Lshforest.Lshforest.Banding\"}, \"DEFINES\", {\"id\": \"Deduplication.Lshforest.Lshforest\"}, \"IMPORTS\", {\"id\": \"Deduplication.__Main__\"}]}, {\"path\": [{\"id\": \"Utils.Utils\"}, \"FUNCTION\", {\"id\": \"Utils.Utils.Split_Dict\"}, \"USES\", {\"id\": \"Deduplication.Lshforest.Lshforest.Banding\"}, \"USES\", {\"id\": \"Deduplication.__Main__.Model\"}, \"DEFINED_IN\", {\"id\": \"Deduplication.__Main__\"}]}, {\"path\": [{\"id\": \"Utils.Utils\"}, \"FUNCTION\", {\"id\": \"Utils.Utils.Minhash\"}, \"IMPORTS\", {\"id\": \"Deduplication.Lsh\"}, \"IMPORTS\", {\"id\": \"Utils.Utils.Shingle\"}, \"USED_IN\", {\"id\": \"Utils.Use_Cases.Nearest_Neighbor_Search\"}, \"IMPORTS\", {\"id\": \"Deduplication.__Main__\"}]}, {\"path\": [{\"id\": \"Utils.Utils\"}, \"FUNCTION\", {\"id\": \"Utils.Utils.Minhash\"}, \"IMPORTS\", {\"id\": \"Deduplication.Lsh\"}, \"IMPORTS\", {\"id\": \"Utils.Utils.Shingle\"}, \"USED_IN\", {\"id\": \"Utils.Use_Cases.Nearest_Neighbor_Search\"}, \"USES\", {\"id\": \"Deduplication.__Main__\"}]}, {\"path\": [{\"id\": \"Utils.Utils\"}, \"FUNCTION\", {\"id\": \"Utils.Utils.Minhash\"}, \"IMPORTS\", {\"id\": \"Deduplication.Lsh\"}, \"IMPORTS\", {\"id\": \"Utils.Utils.Clean_Document\"}, \"USED_IN\", {\"id\": \"Utils.Use_Cases.Nearest_Neighbor_Search\"}, \"IMPORTS\", {\"id\": \"Deduplication.__Main__\"}]}, {\"path\": [{\"id\": \"Utils.Utils\"}, \"FUNCTION\", {\"id\": \"Utils.Utils.Minhash\"}, \"IMPORTS\", {\"id\": \"Deduplication.Lsh\"}, \"IMPORTS\", {\"id\": \"Utils.Utils.Clean_Document\"}, \"USED_IN\", {\"id\": \"Utils.Use_Cases.Nearest_Neighbor_Search\"}, \"USES\", {\"id\": \"Deduplication.__Main__\"}]}, {\"path\": [{\"id\": \"Utils.Utils\"}, \"FUNCTION\", {\"id\": \"Utils.Utils.Minhash\"}, \"IMPORTS\", {\"id\": \"Deduplication.Lsh\"}, \"DEFINED_IN\", {\"id\": \"Deduplication.Lsh.Lsh\"}, \"INHERITS\", {\"id\": \"Deduplication.Lshforest.Lshforest\"}, \"IMPORTS\", {\"id\": \"Deduplication.__Main__\"}]}, {\"path\": [{\"id\": \"Utils.Utils\"}, \"FUNCTION\", {\"id\": \"Utils.Utils.Minhash\"}, \"IMPORTS\", {\"id\": \"Deduplication.Lsh\"}, \"DEFINED_IN\", {\"id\": \"Deduplication.Lsh.Lsh\"}, \"IMPORTS\", {\"id\": \"Deduplication.__Main__\"}]}, {\"path\": [{\"id\": \"Utils.Utils\"}, \"FUNCTION\", {\"id\": \"Utils.Utils.Minhash\"}, \"USES\", {\"id\": \"Deduplication.Lsh.Lsh.Compute_Minhash_Signatures\"}, \"USES\", {\"id\": \"Deduplication.__Main__.Model\"}, \"DEFINED_IN\", {\"id\": \"Deduplication.__Main__\"}]}, {\"path\": [{\"id\": \"Utils.Utils\"}, \"FUNCTION\", {\"id\": \"Utils.Utils.Minhash\"}, \"USES\", {\"id\": \"Deduplication.Lsh.Lsh.Compute_Minhash_Signatures\"}, \"USES\", {\"id\": \"Utils.Utils.Shingle\"}, \"USED_IN\", {\"id\": \"Utils.Use_Cases.Nearest_Neighbor_Search\"}, \"IMPORTS\", {\"id\": \"Deduplication.__Main__\"}]}, {\"path\": [{\"id\": \"Utils.Utils\"}, \"FUNCTION\", {\"id\": \"Utils.Utils.Minhash\"}, \"USES\", {\"id\": \"Deduplication.Lsh.Lsh.Compute_Minhash_Signatures\"}, \"USES\", {\"id\": \"Utils.Utils.Shingle\"}, \"USED_IN\", {\"id\": \"Utils.Use_Cases.Nearest_Neighbor_Search\"}, \"USES\", {\"id\": \"Deduplication.__Main__\"}]}, {\"path\": [{\"id\": \"Utils.Utils\"}, \"FUNCTION\", {\"id\": \"Utils.Utils.Minhash\"}, \"USES\", {\"id\": \"Deduplication.Lsh.Lsh.Compute_Minhash_Signatures\"}, \"USES\", {\"id\": \"Utils.Utils.Clean_Document\"}, \"USED_IN\", {\"id\": \"Utils.Use_Cases.Nearest_Neighbor_Search\"}, \"IMPORTS\", {\"id\": \"Deduplication.__Main__\"}]}, {\"path\": [{\"id\": \"Utils.Utils\"}, \"FUNCTION\", {\"id\": \"Utils.Utils.Minhash\"}, \"USES\", {\"id\": \"Deduplication.Lsh.Lsh.Compute_Minhash_Signatures\"}, \"USES\", {\"id\": \"Utils.Utils.Clean_Document\"}, \"USED_IN\", {\"id\": \"Utils.Use_Cases.Nearest_Neighbor_Search\"}, \"USES\", {\"id\": \"Deduplication.__Main__\"}]}, {\"path\": [{\"id\": \"Utils.Utils\"}, \"FUNCTION\", {\"id\": \"Utils.Utils.Minhash\"}, \"USES\", {\"id\": \"Deduplication.Lsh.Lsh.Compute_Minhash_Signatures\"}, \"DEFINED_IN\", {\"id\": \"Deduplication.Lsh.Lsh\"}, \"INHERITS\", {\"id\": \"Deduplication.Lshforest.Lshforest\"}, \"IMPORTS\", {\"id\": \"Deduplication.__Main__\"}]}, {\"path\": [{\"id\": \"Utils.Utils\"}, \"FUNCTION\", {\"id\": \"Utils.Utils.Minhash\"}, \"USES\", {\"id\": \"Deduplication.Lsh.Lsh.Compute_Minhash_Signatures\"}, \"DEFINED_IN\", {\"id\": \"Deduplication.Lsh.Lsh\"}, \"IMPORTS\", {\"id\": \"Deduplication.__Main__\"}]}, {\"path\": [{\"id\": \"Utils.Utils\"}, \"FUNCTION\", {\"id\": \"Utils.Utils.Minhash\"}, \"USED_IN\", {\"id\": \"Utils.Use_Cases.Nearest_Neighbor_Search\"}, \"DEFINES\", {\"id\": \"Utils.Use_Cases\"}, \"DEFINES\", {\"id\": \"Utils.Use_Cases.Collection_Deduplication\"}, \"IMPORTS\", {\"id\": \"Deduplication.__Main__\"}]}, {\"path\": [{\"id\": \"Utils.Utils\"}, \"FUNCTION\", {\"id\": \"Utils.Utils.Minhash\"}, \"USED_IN\", {\"id\": \"Utils.Use_Cases.Nearest_Neighbor_Search\"}, \"DEFINES\", {\"id\": \"Utils.Use_Cases\"}, \"DEFINES\", {\"id\": \"Utils.Use_Cases.Collection_Deduplication\"}, \"USES\", {\"id\": \"Deduplication.__Main__\"}]}, {\"path\": [{\"id\": \"Utils.Utils\"}, \"FUNCTION\", {\"id\": \"Utils.Utils.Minhash\"}, \"USED_IN\", {\"id\": \"Utils.Use_Cases.Nearest_Neighbor_Search\"}, \"IMPORTS\", {\"id\": \"Deduplication.__Main__\"}]}, {\"path\": [{\"id\": \"Utils.Utils\"}, \"FUNCTION\", {\"id\": \"Utils.Utils.Minhash\"}, \"USED_IN\", {\"id\": \"Utils.Use_Cases.Nearest_Neighbor_Search\"}, \"IMPORTS\", {\"id\": \"Deduplication.__Main__\"}, \"INSTANTIATES\", {\"id\": \"Deduplication.Dedup.Baseline\"}, \"IMPORTS\", {\"id\": \"Deduplication.__Main__\"}]}, {\"path\": [{\"id\": \"Utils.Utils\"}, \"FUNCTION\", {\"id\": \"Utils.Utils.Minhash\"}, \"USED_IN\", {\"id\": \"Utils.Use_Cases.Nearest_Neighbor_Search\"}, \"IMPORTS\", {\"id\": \"Deduplication.__Main__\"}, \"IMPORTS\", {\"id\": \"Utils.Use_Cases.Collection_Deduplication\"}, \"USES\", {\"id\": \"Deduplication.__Main__\"}]}, {\"path\": [{\"id\": \"Utils.Utils\"}, \"FUNCTION\", {\"id\": \"Utils.Utils.Minhash\"}, \"USED_IN\", {\"id\": \"Utils.Use_Cases.Nearest_Neighbor_Search\"}, \"IMPORTS\", {\"id\": \"Deduplication.__Main__\"}, \"IMPORTS\", {\"id\": \"Utils.Utils.Read_Tsv\"}, \"USES\", {\"id\": \"Deduplication.__Main__\"}]}, {\"path\": [{\"id\": \"Utils.Utils\"}, \"FUNCTION\", {\"id\": \"Utils.Utils.Minhash\"}, \"USED_IN\", {\"id\": \"Utils.Use_Cases.Nearest_Neighbor_Search\"}, \"IMPORTS\", {\"id\": \"Deduplication.__Main__\"}, \"IMPORTS\", {\"id\": \"Deduplication.Dedup.Baseline\"}, \"INSTANTIATES\", {\"id\": \"Deduplication.__Main__\"}]}, {\"path\": [{\"id\": \"Utils.Utils\"}, \"FUNCTION\", {\"id\": \"Utils.Utils.Minhash\"}, \"USED_IN\", {\"id\": \"Utils.Use_Cases.Nearest_Neighbor_Search\"}, \"IMPORTS\", {\"id\": \"Deduplication.__Main__\"}, \"USES\", {\"id\": \"Utils.Use_Cases.Collection_Deduplication\"}, \"IMPORTS\", {\"id\": \"Deduplication.__Main__\"}]}, {\"path\": [{\"id\": \"Utils.Utils\"}, \"FUNCTION\", {\"id\": \"Utils.Utils.Minhash\"}, \"USED_IN\", {\"id\": \"Utils.Use_Cases.Nearest_Neighbor_Search\"}, \"IMPORTS\", {\"id\": \"Deduplication.__Main__\"}, \"USES\", {\"id\": \"Utils.Utils.Read_Tsv\"}, \"IMPORTS\", {\"id\": \"Deduplication.__Main__\"}]}, {\"path\": [{\"id\": \"Utils.Utils\"}, \"FUNCTION\", {\"id\": \"Utils.Utils.Minhash\"}, \"USED_IN\", {\"id\": \"Utils.Use_Cases.Nearest_Neighbor_Search\"}, \"USES\", {\"id\": \"Deduplication.__Main__\"}]}, {\"path\": [{\"id\": \"Utils.Utils\"}, \"FUNCTION\", {\"id\": \"Utils.Utils.Minhash\"}, \"USED_IN\", {\"id\": \"Utils.Use_Cases.Nearest_Neighbor_Search\"}, \"USES\", {\"id\": \"Deduplication.__Main__\"}, \"INSTANTIATES\", {\"id\": \"Deduplication.Dedup.Baseline\"}, \"IMPORTS\", {\"id\": \"Deduplication.__Main__\"}]}, {\"path\": [{\"id\": \"Utils.Utils\"}, \"FUNCTION\", {\"id\": \"Utils.Utils.Minhash\"}, \"USED_IN\", {\"id\": \"Utils.Use_Cases.Nearest_Neighbor_Search\"}, \"USES\", {\"id\": \"Deduplication.__Main__\"}, \"IMPORTS\", {\"id\": \"Utils.Use_Cases.Collection_Deduplication\"}, \"USES\", {\"id\": \"Deduplication.__Main__\"}]}, {\"path\": [{\"id\": \"Utils.Utils\"}, \"FUNCTION\", {\"id\": \"Utils.Utils.Minhash\"}, \"USED_IN\", {\"id\": \"Utils.Use_Cases.Nearest_Neighbor_Search\"}, \"USES\", {\"id\": \"Deduplication.__Main__\"}, \"IMPORTS\", {\"id\": \"Utils.Utils.Read_Tsv\"}, \"USES\", {\"id\": \"Deduplication.__Main__\"}]}, {\"path\": [{\"id\": \"Utils.Utils\"}, \"FUNCTION\", {\"id\": \"Utils.Utils.Minhash\"}, \"USED_IN\", {\"id\": \"Utils.Use_Cases.Nearest_Neighbor_Search\"}, \"USES\", {\"id\": \"Deduplication.__Main__\"}, \"IMPORTS\", {\"id\": \"Deduplication.Dedup.Baseline\"}, \"INSTANTIATES\", {\"id\": \"Deduplication.__Main__\"}]}, {\"path\": [{\"id\": \"Utils.Utils\"}, \"FUNCTION\", {\"id\": \"Utils.Utils.Minhash\"}, \"USED_IN\", {\"id\": \"Utils.Use_Cases.Nearest_Neighbor_Search\"}, \"USES\", {\"id\": \"Deduplication.__Main__\"}, \"USES\", {\"id\": \"Utils.Use_Cases.Collection_Deduplication\"}, \"IMPORTS\", {\"id\": \"Deduplication.__Main__\"}]}, {\"path\": [{\"id\": \"Utils.Utils\"}, \"FUNCTION\", {\"id\": \"Utils.Utils.Minhash\"}, \"USED_IN\", {\"id\": \"Utils.Use_Cases.Nearest_Neighbor_Search\"}, \"USES\", {\"id\": \"Deduplication.__Main__\"}, \"USES\", {\"id\": \"Utils.Utils.Read_Tsv\"}, \"IMPORTS\", {\"id\": \"Deduplication.__Main__\"}]}, {\"path\": [{\"id\": \"Utils.Utils\"}, \"FUNCTION\", {\"id\": \"Utils.Utils.Minhash\"}, \"USED_IN\", {\"id\": \"Deduplication.Lshimproved.Lshimproved.Compute_Minhash_Signatures\"}, \"USES\", {\"id\": \"Deduplication.__Main__.Model\"}, \"DEFINED_IN\", {\"id\": \"Deduplication.__Main__\"}]}, {\"path\": [{\"id\": \"Utils.Utils\"}, \"FUNCTION\", {\"id\": \"Utils.Utils.Minhash\"}, \"USED_IN\", {\"id\": \"Deduplication.Lshimproved.Lshimproved.Compute_Minhash_Signatures\"}, \"DEFINED_IN\", {\"id\": \"Deduplication.Lshimproved.Lshimproved\"}, \"IMPORTS\", {\"id\": \"Deduplication.__Main__\"}]}, {\"path\": [{\"id\": \"Utils.Utils\"}, \"FUNCTION\", {\"id\": \"Utils.Utils.Minhash\"}, \"USED_IN\", {\"id\": \"Deduplication.Lshimproved.Lshimproved.Compute_Minhash_Signatures\"}, \"USED_IN\", {\"id\": \"Utils.Utils.Shingle\"}, \"USED_IN\", {\"id\": \"Utils.Use_Cases.Nearest_Neighbor_Search\"}, \"IMPORTS\", {\"id\": \"Deduplication.__Main__\"}]}, {\"path\": [{\"id\": \"Utils.Utils\"}, \"FUNCTION\", {\"id\": \"Utils.Utils.Minhash\"}, \"USED_IN\", {\"id\": \"Deduplication.Lshimproved.Lshimproved.Compute_Minhash_Signatures\"}, \"USED_IN\", {\"id\": \"Utils.Utils.Shingle\"}, \"USED_IN\", {\"id\": \"Utils.Use_Cases.Nearest_Neighbor_Search\"}, \"USES\", {\"id\": \"Deduplication.__Main__\"}]}, {\"path\": [{\"id\": \"Utils.Utils\"}, \"FUNCTION\", {\"id\": \"Utils.Utils.Minhash\"}, \"USED_IN\", {\"id\": \"Deduplication.Lshimproved.Lshimproved.Compute_Minhash_Signatures\"}, \"USED_IN\", {\"id\": \"Utils.Utils.Clean_Document\"}, \"USED_IN\", {\"id\": \"Utils.Use_Cases.Nearest_Neighbor_Search\"}, \"IMPORTS\", {\"id\": \"Deduplication.__Main__\"}]}, {\"path\": [{\"id\": \"Utils.Utils\"}, \"FUNCTION\", {\"id\": \"Utils.Utils.Minhash\"}, \"USED_IN\", {\"id\": \"Deduplication.Lshimproved.Lshimproved.Compute_Minhash_Signatures\"}, \"USED_IN\", {\"id\": \"Utils.Utils.Clean_Document\"}, \"USED_IN\", {\"id\": \"Utils.Use_Cases.Nearest_Neighbor_Search\"}, \"USES\", {\"id\": \"Deduplication.__Main__\"}]}, {\"path\": [{\"id\": \"Utils.Utils\"}, \"FUNCTION\", {\"id\": \"Utils.Utils.Shingle\"}, \"IMPORTS\", {\"id\": \"Deduplication.Lsh\"}, \"IMPORTS\", {\"id\": \"Utils.Utils.Minhash\"}, \"USED_IN\", {\"id\": \"Utils.Use_Cases.Nearest_Neighbor_Search\"}, \"IMPORTS\", {\"id\": \"Deduplication.__Main__\"}]}, {\"path\": [{\"id\": \"Utils.Utils\"}, \"FUNCTION\", {\"id\": \"Utils.Utils.Shingle\"}, \"IMPORTS\", {\"id\": \"Deduplication.Lsh\"}, \"IMPORTS\", {\"id\": \"Utils.Utils.Minhash\"}, \"USED_IN\", {\"id\": \"Utils.Use_Cases.Nearest_Neighbor_Search\"}, \"USES\", {\"id\": \"Deduplication.__Main__\"}]}, {\"path\": [{\"id\": \"Utils.Utils\"}, \"FUNCTION\", {\"id\": \"Utils.Utils.Shingle\"}, \"IMPORTS\", {\"id\": \"Deduplication.Lsh\"}, \"IMPORTS\", {\"id\": \"Utils.Utils.Clean_Document\"}, \"USED_IN\", {\"id\": \"Utils.Use_Cases.Nearest_Neighbor_Search\"}, \"IMPORTS\", {\"id\": \"Deduplication.__Main__\"}]}, {\"path\": [{\"id\": \"Utils.Utils\"}, \"FUNCTION\", {\"id\": \"Utils.Utils.Shingle\"}, \"IMPORTS\", {\"id\": \"Deduplication.Lsh\"}, \"IMPORTS\", {\"id\": \"Utils.Utils.Clean_Document\"}, \"USED_IN\", {\"id\": \"Utils.Use_Cases.Nearest_Neighbor_Search\"}, \"USES\", {\"id\": \"Deduplication.__Main__\"}]}, {\"path\": [{\"id\": \"Utils.Utils\"}, \"FUNCTION\", {\"id\": \"Utils.Utils.Shingle\"}, \"IMPORTS\", {\"id\": \"Deduplication.Lsh\"}, \"DEFINED_IN\", {\"id\": \"Deduplication.Lsh.Lsh\"}, \"INHERITS\", {\"id\": \"Deduplication.Lshforest.Lshforest\"}, \"IMPORTS\", {\"id\": \"Deduplication.__Main__\"}]}, {\"path\": [{\"id\": \"Utils.Utils\"}, \"FUNCTION\", {\"id\": \"Utils.Utils.Shingle\"}, \"IMPORTS\", {\"id\": \"Deduplication.Lsh\"}, \"DEFINED_IN\", {\"id\": \"Deduplication.Lsh.Lsh\"}, \"IMPORTS\", {\"id\": \"Deduplication.__Main__\"}]}, {\"path\": [{\"id\": \"Utils.Utils\"}, \"FUNCTION\", {\"id\": \"Utils.Utils.Shingle\"}, \"USES\", {\"id\": \"Deduplication.Lsh.Lsh.Compute_Minhash_Signatures\"}, \"USES\", {\"id\": \"Deduplication.__Main__.Model\"}, \"DEFINED_IN\", {\"id\": \"Deduplication.__Main__\"}]}, {\"path\": [{\"id\": \"Utils.Utils\"}, \"FUNCTION\", {\"id\": \"Utils.Utils.Shingle\"}, \"USES\", {\"id\": \"Deduplication.Lsh.Lsh.Compute_Minhash_Signatures\"}, \"USES\", {\"id\": \"Utils.Utils.Minhash\"}, \"USED_IN\", {\"id\": \"Utils.Use_Cases.Nearest_Neighbor_Search\"}, \"IMPORTS\", {\"id\": \"Deduplication.__Main__\"}]}, {\"path\": [{\"id\": \"Utils.Utils\"}, \"FUNCTION\", {\"id\": \"Utils.Utils.Shingle\"}, \"USES\", {\"id\": \"Deduplication.Lsh.Lsh.Compute_Minhash_Signatures\"}, \"USES\", {\"id\": \"Utils.Utils.Minhash\"}, \"USED_IN\", {\"id\": \"Utils.Use_Cases.Nearest_Neighbor_Search\"}, \"USES\", {\"id\": \"Deduplication.__Main__\"}]}, {\"path\": [{\"id\": \"Utils.Utils\"}, \"FUNCTION\", {\"id\": \"Utils.Utils.Shingle\"}, \"USES\", {\"id\": \"Deduplication.Lsh.Lsh.Compute_Minhash_Signatures\"}, \"USES\", {\"id\": \"Utils.Utils.Clean_Document\"}, \"USED_IN\", {\"id\": \"Utils.Use_Cases.Nearest_Neighbor_Search\"}, \"IMPORTS\", {\"id\": \"Deduplication.__Main__\"}]}, {\"path\": [{\"id\": \"Utils.Utils\"}, \"FUNCTION\", {\"id\": \"Utils.Utils.Shingle\"}, \"USES\", {\"id\": \"Deduplication.Lsh.Lsh.Compute_Minhash_Signatures\"}, \"USES\", {\"id\": \"Utils.Utils.Clean_Document\"}, \"USED_IN\", {\"id\": \"Utils.Use_Cases.Nearest_Neighbor_Search\"}, \"USES\", {\"id\": \"Deduplication.__Main__\"}]}, {\"path\": [{\"id\": \"Utils.Utils\"}, \"FUNCTION\", {\"id\": \"Utils.Utils.Shingle\"}, \"USES\", {\"id\": \"Deduplication.Lsh.Lsh.Compute_Minhash_Signatures\"}, \"DEFINED_IN\", {\"id\": \"Deduplication.Lsh.Lsh\"}, \"INHERITS\", {\"id\": \"Deduplication.Lshforest.Lshforest\"}, \"IMPORTS\", {\"id\": \"Deduplication.__Main__\"}]}, {\"path\": [{\"id\": \"Utils.Utils\"}, \"FUNCTION\", {\"id\": \"Utils.Utils.Shingle\"}, \"USES\", {\"id\": \"Deduplication.Lsh.Lsh.Compute_Minhash_Signatures\"}, \"DEFINED_IN\", {\"id\": \"Deduplication.Lsh.Lsh\"}, \"IMPORTS\", {\"id\": \"Deduplication.__Main__\"}]}, {\"path\": [{\"id\": \"Utils.Utils\"}, \"FUNCTION\", {\"id\": \"Utils.Utils.Shingle\"}, \"USED_IN\", {\"id\": \"Utils.Use_Cases.Nearest_Neighbor_Search\"}, \"DEFINES\", {\"id\": \"Utils.Use_Cases\"}, \"DEFINES\", {\"id\": \"Utils.Use_Cases.Collection_Deduplication\"}, \"IMPORTS\", {\"id\": \"Deduplication.__Main__\"}]}, {\"path\": [{\"id\": \"Utils.Utils\"}, \"FUNCTION\", {\"id\": \"Utils.Utils.Shingle\"}, \"USED_IN\", {\"id\": \"Utils.Use_Cases.Nearest_Neighbor_Search\"}, \"DEFINES\", {\"id\": \"Utils.Use_Cases\"}, \"DEFINES\", {\"id\": \"Utils.Use_Cases.Collection_Deduplication\"}, \"USES\", {\"id\": \"Deduplication.__Main__\"}]}, {\"path\": [{\"id\": \"Utils.Utils\"}, \"FUNCTION\", {\"id\": \"Utils.Utils.Shingle\"}, \"USED_IN\", {\"id\": \"Utils.Use_Cases.Nearest_Neighbor_Search\"}, \"IMPORTS\", {\"id\": \"Deduplication.__Main__\"}]}, {\"path\": [{\"id\": \"Utils.Utils\"}, \"FUNCTION\", {\"id\": \"Utils.Utils.Shingle\"}, \"USED_IN\", {\"id\": \"Utils.Use_Cases.Nearest_Neighbor_Search\"}, \"IMPORTS\", {\"id\": \"Deduplication.__Main__\"}, \"INSTANTIATES\", {\"id\": \"Deduplication.Dedup.Baseline\"}, \"IMPORTS\", {\"id\": \"Deduplication.__Main__\"}]}, {\"path\": [{\"id\": \"Utils.Utils\"}, \"FUNCTION\", {\"id\": \"Utils.Utils.Shingle\"}, \"USED_IN\", {\"id\": \"Utils.Use_Cases.Nearest_Neighbor_Search\"}, \"IMPORTS\", {\"id\": \"Deduplication.__Main__\"}, \"IMPORTS\", {\"id\": \"Utils.Use_Cases.Collection_Deduplication\"}, \"USES\", {\"id\": \"Deduplication.__Main__\"}]}, {\"path\": [{\"id\": \"Utils.Utils\"}, \"FUNCTION\", {\"id\": \"Utils.Utils.Shingle\"}, \"USED_IN\", {\"id\": \"Utils.Use_Cases.Nearest_Neighbor_Search\"}, \"IMPORTS\", {\"id\": \"Deduplication.__Main__\"}, \"IMPORTS\", {\"id\": \"Utils.Utils.Read_Tsv\"}, \"USES\", {\"id\": \"Deduplication.__Main__\"}]}, {\"path\": [{\"id\": \"Utils.Utils\"}, \"FUNCTION\", {\"id\": \"Utils.Utils.Shingle\"}, \"USED_IN\", {\"id\": \"Utils.Use_Cases.Nearest_Neighbor_Search\"}, \"IMPORTS\", {\"id\": \"Deduplication.__Main__\"}, \"IMPORTS\", {\"id\": \"Deduplication.Dedup.Baseline\"}, \"INSTANTIATES\", {\"id\": \"Deduplication.__Main__\"}]}, {\"path\": [{\"id\": \"Utils.Utils\"}, \"FUNCTION\", {\"id\": \"Utils.Utils.Shingle\"}, \"USED_IN\", {\"id\": \"Utils.Use_Cases.Nearest_Neighbor_Search\"}, \"IMPORTS\", {\"id\": \"Deduplication.__Main__\"}, \"USES\", {\"id\": \"Utils.Use_Cases.Collection_Deduplication\"}, \"IMPORTS\", {\"id\": \"Deduplication.__Main__\"}]}, {\"path\": [{\"id\": \"Utils.Utils\"}, \"FUNCTION\", {\"id\": \"Utils.Utils.Shingle\"}, \"USED_IN\", {\"id\": \"Utils.Use_Cases.Nearest_Neighbor_Search\"}, \"IMPORTS\", {\"id\": \"Deduplication.__Main__\"}, \"USES\", {\"id\": \"Utils.Utils.Read_Tsv\"}, \"IMPORTS\", {\"id\": \"Deduplication.__Main__\"}]}, {\"path\": [{\"id\": \"Utils.Utils\"}, \"FUNCTION\", {\"id\": \"Utils.Utils.Shingle\"}, \"USED_IN\", {\"id\": \"Utils.Use_Cases.Nearest_Neighbor_Search\"}, \"USES\", {\"id\": \"Deduplication.__Main__\"}]}, {\"path\": [{\"id\": \"Utils.Utils\"}, \"FUNCTION\", {\"id\": \"Utils.Utils.Shingle\"}, \"USED_IN\", {\"id\": \"Utils.Use_Cases.Nearest_Neighbor_Search\"}, \"USES\", {\"id\": \"Deduplication.__Main__\"}, \"INSTANTIATES\", {\"id\": \"Deduplication.Dedup.Baseline\"}, \"IMPORTS\", {\"id\": \"Deduplication.__Main__\"}]}, {\"path\": [{\"id\": \"Utils.Utils\"}, \"FUNCTION\", {\"id\": \"Utils.Utils.Shingle\"}, \"USED_IN\", {\"id\": \"Utils.Use_Cases.Nearest_Neighbor_Search\"}, \"USES\", {\"id\": \"Deduplication.__Main__\"}, \"IMPORTS\", {\"id\": \"Utils.Use_Cases.Collection_Deduplication\"}, \"USES\", {\"id\": \"Deduplication.__Main__\"}]}, {\"path\": [{\"id\": \"Utils.Utils\"}, \"FUNCTION\", {\"id\": \"Utils.Utils.Shingle\"}, \"USED_IN\", {\"id\": \"Utils.Use_Cases.Nearest_Neighbor_Search\"}, \"USES\", {\"id\": \"Deduplication.__Main__\"}, \"IMPORTS\", {\"id\": \"Utils.Utils.Read_Tsv\"}, \"USES\", {\"id\": \"Deduplication.__Main__\"}]}, {\"path\": [{\"id\": \"Utils.Utils\"}, \"FUNCTION\", {\"id\": \"Utils.Utils.Shingle\"}, \"USED_IN\", {\"id\": \"Utils.Use_Cases.Nearest_Neighbor_Search\"}, \"USES\", {\"id\": \"Deduplication.__Main__\"}, \"IMPORTS\", {\"id\": \"Deduplication.Dedup.Baseline\"}, \"INSTANTIATES\", {\"id\": \"Deduplication.__Main__\"}]}, {\"path\": [{\"id\": \"Utils.Utils\"}, \"FUNCTION\", {\"id\": \"Utils.Utils.Shingle\"}, \"USED_IN\", {\"id\": \"Utils.Use_Cases.Nearest_Neighbor_Search\"}, \"USES\", {\"id\": \"Deduplication.__Main__\"}, \"USES\", {\"id\": \"Utils.Use_Cases.Collection_Deduplication\"}, \"IMPORTS\", {\"id\": \"Deduplication.__Main__\"}]}, {\"path\": [{\"id\": \"Utils.Utils\"}, \"FUNCTION\", {\"id\": \"Utils.Utils.Shingle\"}, \"USED_IN\", {\"id\": \"Utils.Use_Cases.Nearest_Neighbor_Search\"}, \"USES\", {\"id\": \"Deduplication.__Main__\"}, \"USES\", {\"id\": \"Utils.Utils.Read_Tsv\"}, \"IMPORTS\", {\"id\": \"Deduplication.__Main__\"}]}, {\"path\": [{\"id\": \"Utils.Utils\"}, \"FUNCTION\", {\"id\": \"Utils.Utils.Shingle\"}, \"USED_IN\", {\"id\": \"Deduplication.Lshimproved.Lshimproved.Compute_Minhash_Signatures\"}, \"USES\", {\"id\": \"Deduplication.__Main__.Model\"}, \"DEFINED_IN\", {\"id\": \"Deduplication.__Main__\"}]}, {\"path\": [{\"id\": \"Utils.Utils\"}, \"FUNCTION\", {\"id\": \"Utils.Utils.Shingle\"}, \"USED_IN\", {\"id\": \"Deduplication.Lshimproved.Lshimproved.Compute_Minhash_Signatures\"}, \"DEFINED_IN\", {\"id\": \"Deduplication.Lshimproved.Lshimproved\"}, \"IMPORTS\", {\"id\": \"Deduplication.__Main__\"}]}, {\"path\": [{\"id\": \"Utils.Utils\"}, \"FUNCTION\", {\"id\": \"Utils.Utils.Shingle\"}, \"USED_IN\", {\"id\": \"Deduplication.Lshimproved.Lshimproved.Compute_Minhash_Signatures\"}, \"USED_IN\", {\"id\": \"Utils.Utils.Minhash\"}, \"USED_IN\", {\"id\": \"Utils.Use_Cases.Nearest_Neighbor_Search\"}, \"IMPORTS\", {\"id\": \"Deduplication.__Main__\"}]}, {\"path\": [{\"id\": \"Utils.Utils\"}, \"FUNCTION\", {\"id\": \"Utils.Utils.Shingle\"}, \"USED_IN\", {\"id\": \"Deduplication.Lshimproved.Lshimproved.Compute_Minhash_Signatures\"}, \"USED_IN\", {\"id\": \"Utils.Utils.Minhash\"}, \"USED_IN\", {\"id\": \"Utils.Use_Cases.Nearest_Neighbor_Search\"}, \"USES\", {\"id\": \"Deduplication.__Main__\"}]}, {\"path\": [{\"id\": \"Utils.Utils\"}, \"FUNCTION\", {\"id\": \"Utils.Utils.Shingle\"}, \"USED_IN\", {\"id\": \"Deduplication.Lshimproved.Lshimproved.Compute_Minhash_Signatures\"}, \"USED_IN\", {\"id\": \"Utils.Utils.Clean_Document\"}, \"USED_IN\", {\"id\": \"Utils.Use_Cases.Nearest_Neighbor_Search\"}, \"IMPORTS\", {\"id\": \"Deduplication.__Main__\"}]}, {\"path\": [{\"id\": \"Utils.Utils\"}, \"FUNCTION\", {\"id\": \"Utils.Utils.Shingle\"}, \"USED_IN\", {\"id\": \"Deduplication.Lshimproved.Lshimproved.Compute_Minhash_Signatures\"}, \"USED_IN\", {\"id\": \"Utils.Utils.Clean_Document\"}, \"USED_IN\", {\"id\": \"Utils.Use_Cases.Nearest_Neighbor_Search\"}, \"USES\", {\"id\": \"Deduplication.__Main__\"}]}, {\"path\": [{\"id\": \"Utils.Utils\"}, \"FUNCTION\", {\"id\": \"Utils.Utils.Clean_Document\"}, \"IMPORTS\", {\"id\": \"Deduplication.Lsh\"}, \"IMPORTS\", {\"id\": \"Utils.Utils.Minhash\"}, \"USED_IN\", {\"id\": \"Utils.Use_Cases.Nearest_Neighbor_Search\"}, \"IMPORTS\", {\"id\": \"Deduplication.__Main__\"}]}, {\"path\": [{\"id\": \"Utils.Utils\"}, \"FUNCTION\", {\"id\": \"Utils.Utils.Clean_Document\"}, \"IMPORTS\", {\"id\": \"Deduplication.Lsh\"}, \"IMPORTS\", {\"id\": \"Utils.Utils.Minhash\"}, \"USED_IN\", {\"id\": \"Utils.Use_Cases.Nearest_Neighbor_Search\"}, \"USES\", {\"id\": \"Deduplication.__Main__\"}]}, {\"path\": [{\"id\": \"Utils.Utils\"}, \"FUNCTION\", {\"id\": \"Utils.Utils.Clean_Document\"}, \"IMPORTS\", {\"id\": \"Deduplication.Lsh\"}, \"IMPORTS\", {\"id\": \"Utils.Utils.Shingle\"}, \"USED_IN\", {\"id\": \"Utils.Use_Cases.Nearest_Neighbor_Search\"}, \"IMPORTS\", {\"id\": \"Deduplication.__Main__\"}]}, {\"path\": [{\"id\": \"Utils.Utils\"}, \"FUNCTION\", {\"id\": \"Utils.Utils.Clean_Document\"}, \"IMPORTS\", {\"id\": \"Deduplication.Lsh\"}, \"IMPORTS\", {\"id\": \"Utils.Utils.Shingle\"}, \"USED_IN\", {\"id\": \"Utils.Use_Cases.Nearest_Neighbor_Search\"}, \"USES\", {\"id\": \"Deduplication.__Main__\"}]}, {\"path\": [{\"id\": \"Utils.Utils\"}, \"FUNCTION\", {\"id\": \"Utils.Utils.Clean_Document\"}, \"IMPORTS\", {\"id\": \"Deduplication.Lsh\"}, \"DEFINED_IN\", {\"id\": \"Deduplication.Lsh.Lsh\"}, \"INHERITS\", {\"id\": \"Deduplication.Lshforest.Lshforest\"}, \"IMPORTS\", {\"id\": \"Deduplication.__Main__\"}]}, {\"path\": [{\"id\": \"Utils.Utils\"}, \"FUNCTION\", {\"id\": \"Utils.Utils.Clean_Document\"}, \"IMPORTS\", {\"id\": \"Deduplication.Lsh\"}, \"DEFINED_IN\", {\"id\": \"Deduplication.Lsh.Lsh\"}, \"IMPORTS\", {\"id\": \"Deduplication.__Main__\"}]}, {\"path\": [{\"id\": \"Utils.Utils\"}, \"FUNCTION\", {\"id\": \"Utils.Utils.Clean_Document\"}, \"USES\", {\"id\": \"Deduplication.Lsh.Lsh.Compute_Minhash_Signatures\"}, \"USES\", {\"id\": \"Deduplication.__Main__.Model\"}, \"DEFINED_IN\", {\"id\": \"Deduplication.__Main__\"}]}, {\"path\": [{\"id\": \"Utils.Utils\"}, \"FUNCTION\", {\"id\": \"Utils.Utils.Clean_Document\"}, \"USES\", {\"id\": \"Deduplication.Lsh.Lsh.Compute_Minhash_Signatures\"}, \"USES\", {\"id\": \"Utils.Utils.Minhash\"}, \"USED_IN\", {\"id\": \"Utils.Use_Cases.Nearest_Neighbor_Search\"}, \"IMPORTS\", {\"id\": \"Deduplication.__Main__\"}]}, {\"path\": [{\"id\": \"Utils.Utils\"}, \"FUNCTION\", {\"id\": \"Utils.Utils.Clean_Document\"}, \"USES\", {\"id\": \"Deduplication.Lsh.Lsh.Compute_Minhash_Signatures\"}, \"USES\", {\"id\": \"Utils.Utils.Minhash\"}, \"USED_IN\", {\"id\": \"Utils.Use_Cases.Nearest_Neighbor_Search\"}, \"USES\", {\"id\": \"Deduplication.__Main__\"}]}, {\"path\": [{\"id\": \"Utils.Utils\"}, \"FUNCTION\", {\"id\": \"Utils.Utils.Clean_Document\"}, \"USES\", {\"id\": \"Deduplication.Lsh.Lsh.Compute_Minhash_Signatures\"}, \"USES\", {\"id\": \"Utils.Utils.Shingle\"}, \"USED_IN\", {\"id\": \"Utils.Use_Cases.Nearest_Neighbor_Search\"}, \"IMPORTS\", {\"id\": \"Deduplication.__Main__\"}]}, {\"path\": [{\"id\": \"Utils.Utils\"}, \"FUNCTION\", {\"id\": \"Utils.Utils.Clean_Document\"}, \"USES\", {\"id\": \"Deduplication.Lsh.Lsh.Compute_Minhash_Signatures\"}, \"USES\", {\"id\": \"Utils.Utils.Shingle\"}, \"USED_IN\", {\"id\": \"Utils.Use_Cases.Nearest_Neighbor_Search\"}, \"USES\", {\"id\": \"Deduplication.__Main__\"}]}, {\"path\": [{\"id\": \"Utils.Utils\"}, \"FUNCTION\", {\"id\": \"Utils.Utils.Clean_Document\"}, \"USES\", {\"id\": \"Deduplication.Lsh.Lsh.Compute_Minhash_Signatures\"}, \"DEFINED_IN\", {\"id\": \"Deduplication.Lsh.Lsh\"}, \"INHERITS\", {\"id\": \"Deduplication.Lshforest.Lshforest\"}, \"IMPORTS\", {\"id\": \"Deduplication.__Main__\"}]}, {\"path\": [{\"id\": \"Utils.Utils\"}, \"FUNCTION\", {\"id\": \"Utils.Utils.Clean_Document\"}, \"USES\", {\"id\": \"Deduplication.Lsh.Lsh.Compute_Minhash_Signatures\"}, \"DEFINED_IN\", {\"id\": \"Deduplication.Lsh.Lsh\"}, \"IMPORTS\", {\"id\": \"Deduplication.__Main__\"}]}, {\"path\": [{\"id\": \"Utils.Utils\"}, \"FUNCTION\", {\"id\": \"Utils.Utils.Clean_Document\"}, \"USED_IN\", {\"id\": \"Utils.Use_Cases.Nearest_Neighbor_Search\"}, \"DEFINES\", {\"id\": \"Utils.Use_Cases\"}, \"DEFINES\", {\"id\": \"Utils.Use_Cases.Collection_Deduplication\"}, \"IMPORTS\", {\"id\": \"Deduplication.__Main__\"}]}, {\"path\": [{\"id\": \"Utils.Utils\"}, \"FUNCTION\", {\"id\": \"Utils.Utils.Clean_Document\"}, \"USED_IN\", {\"id\": \"Utils.Use_Cases.Nearest_Neighbor_Search\"}, \"DEFINES\", {\"id\": \"Utils.Use_Cases\"}, \"DEFINES\", {\"id\": \"Utils.Use_Cases.Collection_Deduplication\"}, \"USES\", {\"id\": \"Deduplication.__Main__\"}]}, {\"path\": [{\"id\": \"Utils.Utils\"}, \"FUNCTION\", {\"id\": \"Utils.Utils.Clean_Document\"}, \"USED_IN\", {\"id\": \"Utils.Use_Cases.Nearest_Neighbor_Search\"}, \"IMPORTS\", {\"id\": \"Deduplication.__Main__\"}]}, {\"path\": [{\"id\": \"Utils.Utils\"}, \"FUNCTION\", {\"id\": \"Utils.Utils.Clean_Document\"}, \"USED_IN\", {\"id\": \"Utils.Use_Cases.Nearest_Neighbor_Search\"}, \"IMPORTS\", {\"id\": \"Deduplication.__Main__\"}, \"INSTANTIATES\", {\"id\": \"Deduplication.Dedup.Baseline\"}, \"IMPORTS\", {\"id\": \"Deduplication.__Main__\"}]}, {\"path\": [{\"id\": \"Utils.Utils\"}, \"FUNCTION\", {\"id\": \"Utils.Utils.Clean_Document\"}, \"USED_IN\", {\"id\": \"Utils.Use_Cases.Nearest_Neighbor_Search\"}, \"IMPORTS\", {\"id\": \"Deduplication.__Main__\"}, \"IMPORTS\", {\"id\": \"Utils.Use_Cases.Collection_Deduplication\"}, \"USES\", {\"id\": \"Deduplication.__Main__\"}]}, {\"path\": [{\"id\": \"Utils.Utils\"}, \"FUNCTION\", {\"id\": \"Utils.Utils.Clean_Document\"}, \"USED_IN\", {\"id\": \"Utils.Use_Cases.Nearest_Neighbor_Search\"}, \"IMPORTS\", {\"id\": \"Deduplication.__Main__\"}, \"IMPORTS\", {\"id\": \"Utils.Utils.Read_Tsv\"}, \"USES\", {\"id\": \"Deduplication.__Main__\"}]}, {\"path\": [{\"id\": \"Utils.Utils\"}, \"FUNCTION\", {\"id\": \"Utils.Utils.Clean_Document\"}, \"USED_IN\", {\"id\": \"Utils.Use_Cases.Nearest_Neighbor_Search\"}, \"IMPORTS\", {\"id\": \"Deduplication.__Main__\"}, \"IMPORTS\", {\"id\": \"Deduplication.Dedup.Baseline\"}, \"INSTANTIATES\", {\"id\": \"Deduplication.__Main__\"}]}, {\"path\": [{\"id\": \"Utils.Utils\"}, \"FUNCTION\", {\"id\": \"Utils.Utils.Clean_Document\"}, \"USED_IN\", {\"id\": \"Utils.Use_Cases.Nearest_Neighbor_Search\"}, \"IMPORTS\", {\"id\": \"Deduplication.__Main__\"}, \"USES\", {\"id\": \"Utils.Use_Cases.Collection_Deduplication\"}, \"IMPORTS\", {\"id\": \"Deduplication.__Main__\"}]}, {\"path\": [{\"id\": \"Utils.Utils\"}, \"FUNCTION\", {\"id\": \"Utils.Utils.Clean_Document\"}, \"USED_IN\", {\"id\": \"Utils.Use_Cases.Nearest_Neighbor_Search\"}, \"IMPORTS\", {\"id\": \"Deduplication.__Main__\"}, \"USES\", {\"id\": \"Utils.Utils.Read_Tsv\"}, \"IMPORTS\", {\"id\": \"Deduplication.__Main__\"}]}, {\"path\": [{\"id\": \"Utils.Utils\"}, \"FUNCTION\", {\"id\": \"Utils.Utils.Clean_Document\"}, \"USED_IN\", {\"id\": \"Utils.Use_Cases.Nearest_Neighbor_Search\"}, \"USES\", {\"id\": \"Deduplication.__Main__\"}]}, {\"path\": [{\"id\": \"Utils.Utils\"}, \"FUNCTION\", {\"id\": \"Utils.Utils.Clean_Document\"}, \"USED_IN\", {\"id\": \"Utils.Use_Cases.Nearest_Neighbor_Search\"}, \"USES\", {\"id\": \"Deduplication.__Main__\"}, \"INSTANTIATES\", {\"id\": \"Deduplication.Dedup.Baseline\"}, \"IMPORTS\", {\"id\": \"Deduplication.__Main__\"}]}, {\"path\": [{\"id\": \"Utils.Utils\"}, \"FUNCTION\", {\"id\": \"Utils.Utils.Clean_Document\"}, \"USED_IN\", {\"id\": \"Utils.Use_Cases.Nearest_Neighbor_Search\"}, \"USES\", {\"id\": \"Deduplication.__Main__\"}, \"IMPORTS\", {\"id\": \"Utils.Use_Cases.Collection_Deduplication\"}, \"USES\", {\"id\": \"Deduplication.__Main__\"}]}, {\"path\": [{\"id\": \"Utils.Utils\"}, \"FUNCTION\", {\"id\": \"Utils.Utils.Clean_Document\"}, \"USED_IN\", {\"id\": \"Utils.Use_Cases.Nearest_Neighbor_Search\"}, \"USES\", {\"id\": \"Deduplication.__Main__\"}, \"IMPORTS\", {\"id\": \"Utils.Utils.Read_Tsv\"}, \"USES\", {\"id\": \"Deduplication.__Main__\"}]}, {\"path\": [{\"id\": \"Utils.Utils\"}, \"FUNCTION\", {\"id\": \"Utils.Utils.Clean_Document\"}, \"USED_IN\", {\"id\": \"Utils.Use_Cases.Nearest_Neighbor_Search\"}, \"USES\", {\"id\": \"Deduplication.__Main__\"}, \"IMPORTS\", {\"id\": \"Deduplication.Dedup.Baseline\"}, \"INSTANTIATES\", {\"id\": \"Deduplication.__Main__\"}]}, {\"path\": [{\"id\": \"Utils.Utils\"}, \"FUNCTION\", {\"id\": \"Utils.Utils.Clean_Document\"}, \"USED_IN\", {\"id\": \"Utils.Use_Cases.Nearest_Neighbor_Search\"}, \"USES\", {\"id\": \"Deduplication.__Main__\"}, \"USES\", {\"id\": \"Utils.Use_Cases.Collection_Deduplication\"}, \"IMPORTS\", {\"id\": \"Deduplication.__Main__\"}]}, {\"path\": [{\"id\": \"Utils.Utils\"}, \"FUNCTION\", {\"id\": \"Utils.Utils.Clean_Document\"}, \"USED_IN\", {\"id\": \"Utils.Use_Cases.Nearest_Neighbor_Search\"}, \"USES\", {\"id\": \"Deduplication.__Main__\"}, \"USES\", {\"id\": \"Utils.Utils.Read_Tsv\"}, \"IMPORTS\", {\"id\": \"Deduplication.__Main__\"}]}, {\"path\": [{\"id\": \"Utils.Utils\"}, \"FUNCTION\", {\"id\": \"Utils.Utils.Clean_Document\"}, \"USED_IN\", {\"id\": \"Deduplication.Lshimproved.Lshimproved.Compute_Minhash_Signatures\"}, \"USES\", {\"id\": \"Deduplication.__Main__.Model\"}, \"DEFINED_IN\", {\"id\": \"Deduplication.__Main__\"}]}, {\"path\": [{\"id\": \"Utils.Utils\"}, \"FUNCTION\", {\"id\": \"Utils.Utils.Clean_Document\"}, \"USED_IN\", {\"id\": \"Deduplication.Lshimproved.Lshimproved.Compute_Minhash_Signatures\"}, \"DEFINED_IN\", {\"id\": \"Deduplication.Lshimproved.Lshimproved\"}, \"IMPORTS\", {\"id\": \"Deduplication.__Main__\"}]}, {\"path\": [{\"id\": \"Utils.Utils\"}, \"FUNCTION\", {\"id\": \"Utils.Utils.Clean_Document\"}, \"USED_IN\", {\"id\": \"Deduplication.Lshimproved.Lshimproved.Compute_Minhash_Signatures\"}, \"USED_IN\", {\"id\": \"Utils.Utils.Minhash\"}, \"USED_IN\", {\"id\": \"Utils.Use_Cases.Nearest_Neighbor_Search\"}, \"IMPORTS\", {\"id\": \"Deduplication.__Main__\"}]}, {\"path\": [{\"id\": \"Utils.Utils\"}, \"FUNCTION\", {\"id\": \"Utils.Utils.Clean_Document\"}, \"USED_IN\", {\"id\": \"Deduplication.Lshimproved.Lshimproved.Compute_Minhash_Signatures\"}, \"USED_IN\", {\"id\": \"Utils.Utils.Minhash\"}, \"USED_IN\", {\"id\": \"Utils.Use_Cases.Nearest_Neighbor_Search\"}, \"USES\", {\"id\": \"Deduplication.__Main__\"}]}, {\"path\": [{\"id\": \"Utils.Utils\"}, \"FUNCTION\", {\"id\": \"Utils.Utils.Clean_Document\"}, \"USED_IN\", {\"id\": \"Deduplication.Lshimproved.Lshimproved.Compute_Minhash_Signatures\"}, \"USED_IN\", {\"id\": \"Utils.Utils.Shingle\"}, \"USED_IN\", {\"id\": \"Utils.Use_Cases.Nearest_Neighbor_Search\"}, \"IMPORTS\", {\"id\": \"Deduplication.__Main__\"}]}, {\"path\": [{\"id\": \"Utils.Utils\"}, \"FUNCTION\", {\"id\": \"Utils.Utils.Clean_Document\"}, \"USED_IN\", {\"id\": \"Deduplication.Lshimproved.Lshimproved.Compute_Minhash_Signatures\"}, \"USED_IN\", {\"id\": \"Utils.Utils.Shingle\"}, \"USED_IN\", {\"id\": \"Utils.Use_Cases.Nearest_Neighbor_Search\"}, \"USES\", {\"id\": \"Deduplication.__Main__\"}]}, {\"path\": [{\"id\": \"Utils.Utils\"}, \"IMPORTED_IN\", {\"id\": \"Deduplication.Lshimproved\"}, \"DEFINED_IN\", {\"id\": \"Deduplication.Lshimproved.Lshimproved\"}, \"IMPORTS\", {\"id\": \"Deduplication.__Main__\"}]}, {\"path\": [{\"id\": \"Utils.Utils\"}, \"IMPORTED_IN\", {\"id\": \"Deduplication.Lshimproved\"}, \"DEFINED_IN\", {\"id\": \"Deduplication.Lshimproved.Lshimproved\"}, \"IMPORTS\", {\"id\": \"Deduplication.__Main__\"}, \"INSTANTIATES\", {\"id\": \"Deduplication.Dedup.Baseline\"}, \"IMPORTS\", {\"id\": \"Deduplication.__Main__\"}]}, {\"path\": [{\"id\": \"Utils.Utils\"}, \"IMPORTED_IN\", {\"id\": \"Deduplication.Lshimproved\"}, \"DEFINED_IN\", {\"id\": \"Deduplication.Lshimproved.Lshimproved\"}, \"IMPORTS\", {\"id\": \"Deduplication.__Main__\"}, \"IMPORTS\", {\"id\": \"Utils.Use_Cases.Nearest_Neighbor_Search\"}, \"USES\", {\"id\": \"Deduplication.__Main__\"}]}, {\"path\": [{\"id\": \"Utils.Utils\"}, \"IMPORTED_IN\", {\"id\": \"Deduplication.Lshimproved\"}, \"DEFINED_IN\", {\"id\": \"Deduplication.Lshimproved.Lshimproved\"}, \"IMPORTS\", {\"id\": \"Deduplication.__Main__\"}, \"IMPORTS\", {\"id\": \"Utils.Use_Cases.Collection_Deduplication\"}, \"USES\", {\"id\": \"Deduplication.__Main__\"}]}, {\"path\": [{\"id\": \"Utils.Utils\"}, \"IMPORTED_IN\", {\"id\": \"Deduplication.Lshimproved\"}, \"DEFINED_IN\", {\"id\": \"Deduplication.Lshimproved.Lshimproved\"}, \"IMPORTS\", {\"id\": \"Deduplication.__Main__\"}, \"IMPORTS\", {\"id\": \"Utils.Utils.Read_Tsv\"}, \"USES\", {\"id\": \"Deduplication.__Main__\"}]}, {\"path\": [{\"id\": \"Utils.Utils\"}, \"IMPORTED_IN\", {\"id\": \"Deduplication.Lshimproved\"}, \"DEFINED_IN\", {\"id\": \"Deduplication.Lshimproved.Lshimproved\"}, \"IMPORTS\", {\"id\": \"Deduplication.__Main__\"}, \"IMPORTS\", {\"id\": \"Deduplication.Dedup.Baseline\"}, \"INSTANTIATES\", {\"id\": \"Deduplication.__Main__\"}]}, {\"path\": [{\"id\": \"Utils.Utils\"}, \"IMPORTED_IN\", {\"id\": \"Deduplication.Lshimproved\"}, \"DEFINED_IN\", {\"id\": \"Deduplication.Lshimproved.Lshimproved\"}, \"IMPORTS\", {\"id\": \"Deduplication.__Main__\"}, \"USES\", {\"id\": \"Utils.Use_Cases.Nearest_Neighbor_Search\"}, \"IMPORTS\", {\"id\": \"Deduplication.__Main__\"}]}, {\"path\": [{\"id\": \"Utils.Utils\"}, \"IMPORTED_IN\", {\"id\": \"Deduplication.Lshimproved\"}, \"DEFINED_IN\", {\"id\": \"Deduplication.Lshimproved.Lshimproved\"}, \"IMPORTS\", {\"id\": \"Deduplication.__Main__\"}, \"USES\", {\"id\": \"Utils.Use_Cases.Collection_Deduplication\"}, \"IMPORTS\", {\"id\": \"Deduplication.__Main__\"}]}, {\"path\": [{\"id\": \"Utils.Utils\"}, \"IMPORTED_IN\", {\"id\": \"Deduplication.Lshimproved\"}, \"DEFINED_IN\", {\"id\": \"Deduplication.Lshimproved.Lshimproved\"}, \"IMPORTS\", {\"id\": \"Deduplication.__Main__\"}, \"USES\", {\"id\": \"Utils.Utils.Read_Tsv\"}, \"IMPORTS\", {\"id\": \"Deduplication.__Main__\"}]}, {\"path\": [{\"id\": \"Utils.Utils\"}, \"IMPORTED_IN\", {\"id\": \"Deduplication.Lshimproved\"}, \"DEFINED_IN\", {\"id\": \"Deduplication.Lshimproved.Lshimproved\"}, \"DEFINED_IN\", {\"id\": \"Deduplication.Lshimproved.Lshimproved.Banding\"}, \"USES\", {\"id\": \"Deduplication.__Main__.Model\"}, \"DEFINED_IN\", {\"id\": \"Deduplication.__Main__\"}]}, {\"path\": [{\"id\": \"Utils.Utils\"}, \"IMPORTED_IN\", {\"id\": \"Deduplication.Lshimproved\"}, \"DEFINED_IN\", {\"id\": \"Deduplication.Lshimproved.Lshimproved\"}, \"DEFINED_IN\", {\"id\": \"Deduplication.Lshimproved.Lshimproved.Compute_Minhash_Signatures\"}, \"USES\", {\"id\": \"Deduplication.__Main__.Model\"}, \"DEFINED_IN\", {\"id\": \"Deduplication.__Main__\"}]}, {\"path\": [{\"id\": \"Utils.Utils\"}, \"IMPORTED_IN\", {\"id\": \"Deduplication.Lshimproved\"}, \"DEFINED_IN\", {\"id\": \"Deduplication.Lshimproved.Lshimproved\"}, \"DEFINED_IN\", {\"id\": \"Deduplication.Lshimproved.Lshimproved.__Init__\"}, \"USES\", {\"id\": \"Deduplication.__Main__.Model\"}, \"DEFINED_IN\", {\"id\": \"Deduplication.__Main__\"}]}]}', name='retrieve_cypher_relationships', id='904a32f0-4106-406b-80fb-34261fa9e9c6', tool_call_id='call_xumAZ62KiNB87z21VqqKcaU5'),\n",
       "  AIMessage(content='', additional_kwargs={'tool_calls': [{'id': 'call_vJcjxVTFQQ7L2ygR3vajV1CM', 'function': {'arguments': '{\"results\": {\"answer\": \"The `Utils.Utils` module is related to the `Deduplication.__Main__` module in multiple ways:\\\\n\\\\n- The `Utils.Utils` module, specifically `Utils.Utils.Unionfind`, is used in `Utils.Use_Cases.Collection_Deduplication` and either imports or uses `Deduplication.__Main__`.\\\\n- The `Utils.Utils` module, through the `Read_Tsv` function, imports and/or uses the `Deduplication.__Main__` module.\\\\n- The `Utils.Utils` module, via the `Minhash` function, uses `Deduplication.Lsh.Lsh.Compute_Minhash_Signatures` and interacts with `Deduplication.__Main__`.\\\\n- The `Utils.Utils` module, specifically the `Shingle` function, is used in `Utils.Use_Cases.Nearest_Neighbor_Search` and interacts with `Deduplication.__Main__`.\\\\n- The `Utils.Utils` module is imported in the `Deduplication.Lshimproved` module, which in turn imports `Deduplication.__Main__`.\", \"steps\": [\"generate_cypher\", \"execute_cypher\", \"generate_final_answer\"], \"cypher_statement\": \"MATCH path = (m1:Module {id: \\'Utils.Utils\\'})-[*..5]-(m2:Module {id: \\'Deduplication.__Main__\\'}) WHERE NONE(n IN nodes(path) WHERE n:Package) RETURN path\", \"cypher_results\": [{\"path\": [{\"id\": \"Utils.Utils\"}, \"CLASS\", {\"id\": \"Utils.Utils.Unionfind\"}, \"USED_IN\", {\"id\": \"Utils.Use_Cases.Collection_Deduplication\"}, \"DEFINES\", {\"id\": \"Utils.Use_Cases\"}, \"DEFINES\", {\"id\": \"Utils.Use_Cases.Nearest_Neighbor_Search\"}, \"IMPORTS\", {\"id\": \"Deduplication.__Main__\"}]}, {\"path\": [{\"id\": \"Utils.Utils\"}, \"CLASS\", {\"id\": \"Utils.Utils.Unionfind\"}, \"USED_IN\", {\"id\": \"Utils.Use_Cases.Collection_Deduplication\"}, \"DEFINES\", {\"id\": \"Utils.Use_Cases\"}, \"DEFINES\", {\"id\": \"Utils.Use_Cases.Nearest_Neighbor_Search\"}, \"USES\", {\"id\": \"Deduplication.__Main__\"}]}, {\"path\": [{\"id\": \"Utils.Utils\"}, \"CLASS\", {\"id\": \"Utils.Utils.Unionfind\"}, \"USED_IN\", {\"id\": \"Utils.Use_Cases.Collection_Deduplication\"}, \"IMPORTS\", {\"id\": \"Deduplication.__Main__\"}]}, {\"path\": [{\"id\": \"Utils.Utils\"}, \"CLASS\", {\"id\": \"Utils.Utils.Unionfind\"}, \"USED_IN\", {\"id\": \"Utils.Use_Cases.Collection_Deduplication\"}, \"IMPORTS\", {\"id\": \"Deduplication.__Main__\"}, \"INSTANTIATES\", {\"id\": \"Deduplication.Dedup.Baseline\"}, \"IMPORTS\", {\"id\": \"Deduplication.__Main__\"}]}, {\"path\": [{\"id\": \"Utils.Utils\"}, \"CLASS\", {\"id\": \"Utils.Utils.Unionfind\"}, \"USED_IN\", {\"id\": \"Utils.Use_Cases.Collection_Deduplication\"}, \"IMPORTS\", {\"id\": \"Deduplication.__Main__\"}, \"IMPORTS\", {\"id\": \"Utils.Use_Cases.Nearest_Neighbor_Search\"}, \"USES\", {\"id\": \"Deduplication.__Main__\"}]}, {\"path\": [{\"id\": \"Utils.Utils\"}, \"CLASS\", {\"id\": \"Utils.Utils.Unionfind\"}, \"USED_IN\", {\"id\": \"Utils.Use_Cases.Collection_Deduplication\"}, \"IMPORTS\", {\"id\": \"Deduplication.__Main__\"}, \"IMPORTS\", {\"id\": \"Utils.Utils.Read_Tsv\"}, \"USES\", {\"id\": \"Deduplication.__Main__\"}]}, {\"path\": [{\"id\": \"Utils.Utils\"}, \"CLASS\", {\"id\": \"Utils.Utils.Unionfind\"}, \"USED_IN\", {\"id\": \"Utils.Use_Cases.Collection_Deduplication\"}, \"IMPORTS\", {\"id\": \"Deduplication.__Main__\"}, \"IMPORTS\", {\"id\": \"Deduplication.Dedup.Baseline\"}, \"INSTANTIATES\", {\"id\": \"Deduplication.__Main__\"}]}, {\"path\": [{\"id\": \"Utils.Utils\"}, \"CLASS\", {\"id\": \"Utils.Utils.Unionfind\"}, \"USED_IN\", {\"id\": \"Utils.Use_Cases.Collection_Deduplication\"}, \"IMPORTS\", {\"id\": \"Deduplication.__Main__\"}, \"USES\", {\"id\": \"Utils.Use_Cases.Nearest_Neighbor_Search\"}, \"IMPORTS\", {\"id\": \"Deduplication.__Main__\"}]}, {\"path\": [{\"id\": \"Utils.Utils\"}, \"CLASS\", {\"id\": \"Utils.Utils.Unionfind\"}, \"USED_IN\", {\"id\": \"Utils.Use_Cases.Collection_Deduplication\"}, \"IMPORTS\", {\"id\": \"Deduplication.__Main__\"}, \"USES\", {\"id\": \"Utils.Utils.Read_Tsv\"}, \"IMPORTS\", {\"id\": \"Deduplication.__Main__\"}]}, {\"path\": [{\"id\": \"Utils.Utils\"}, \"CLASS\", {\"id\": \"Utils.Utils.Unionfind\"}, \"USED_IN\", {\"id\": \"Utils.Use_Cases.Collection_Deduplication\"}, \"USES\", {\"id\": \"Deduplication.__Main__\"}]}, {\"path\": [{\"id\": \"Utils.Utils\"}, \"CLASS\", {\"id\": \"Utils.Utils.Unionfind\"}, \"USED_IN\", {\"id\": \"Utils.Use_Cases.Collection_Deduplication\"}, \"USES\", {\"id\": \"Deduplication.__Main__\"}, \"INSTANTIATES\", {\"id\": \"Deduplication.Dedup.Baseline\"}, \"IMPORTS\", {\"id\": \"Deduplication.__Main__\"}]}, {\"path\": [{\"id\": \"Utils.Utils\"}, \"CLASS\", {\"id\": \"Utils.Utils.Unionfind\"}, \"USED_IN\", {\"id\": \"Utils.Use_Cases.Collection_Deduplication\"}, \"USES\", {\"id\": \"Deduplication.__Main__\"}, \"IMPORTS\", {\"id\": \"Utils.Use_Cases.Nearest_Neighbor_Search\"}, \"USES\", {\"id\": \"Deduplication.__Main__\"}]}, {\"path\": [{\"id\": \"Utils.Utils\"}, \"CLASS\", {\"id\": \"Utils.Utils.Unionfind\"}, \"USED_IN\", {\"id\": \"Utils.Use_Cases.Collection_Deduplication\"}, \"USES\", {\"id\": \"Deduplication.__Main__\"}, \"IMPORTS\", {\"id\": \"Utils.Utils.Read_Tsv\"}, \"USES\", {\"id\": \"Deduplication.__Main__\"}]}, {\"path\": [{\"id\": \"Utils.Utils\"}, \"FUNCTION\", {\"id\": \"Utils.Utils.Read_Tsv\"}, \"IMPORTS\", {\"id\": \"Deduplication.__Main__\"}]}, {\"path\": [{\"id\": \"Utils.Utils\"}, \"FUNCTION\", {\"id\": \"Utils.Utils.Read_Tsv\"}, \"IMPORTS\", {\"id\": \"Deduplication.__Main__\"}, \"INSTANTIATES\", {\"id\": \"Deduplication.Dedup.Baseline\"}, \"IMPORTS\", {\"id\": \"Deduplication.__Main__\"}]}, {\"path\": [{\"id\": \"Utils.Utils\"}, \"FUNCTION\", {\"id\": \"Utils.Utils.Read_Tsv\"}, \"IMPORTS\", {\"id\": \"Deduplication.__Main__\"}, \"IMPORTS\", {\"id\": \"Utils.Use_Cases.Collection_Deduplication\"}, \"USES\", {\"id\": \"Deduplication.__Main__\"}]}, {\"path\": [{\"id\": \"Utils.Utils\"}, \"FUNCTION\", {\"id\": \"Utils.Utils.Read_Tsv\"}, \"IMPORTS\", {\"id\": \"Deduplication.__Main__\"}, \"IMPORTS\", {\"id\": \"Deduplication.Lshforest.Lshforest\"}, \"INHERITS\", {\"id\": \"Deduplication.Lsh.Lsh\"}, \"IMPORTS\", {\"id\": \"Deduplication.__Main__\"}]}, {\"path\": [{\"id\": \"Utils.Utils\"}, \"FUNCTION\", {\"id\": \"Utils.Utils.Read_Tsv\"}, \"IMPORTS\", {\"id\": \"Deduplication.__Main__\"}, \"USES\", {\"id\": \"Deduplication.Dedup.Baseline.Collection_Deduplication\"}, \"DEFINED_IN\", {\"id\": \"Deduplication.Dedup.Baseline\"}, \"IMPORTS\", {\"id\": \"Deduplication.__Main__\"}]}, {\"path\": [{\"id\": \"Utils.Utils\"}, \"FUNCTION\", {\"id\": \"Utils.Utils.Read_Tsv\"}, \"USES\", {\"id\": \"Deduplication.__Main__\"}]}, {\"path\": [{\"id\": \"Utils.Utils\"}, \"FUNCTION\", {\"id\": \"Utils.Utils.Read_Tsv\"}, \"USES\", {\"id\": \"Deduplication.__Main__\"}, \"INSTANTIATES\", {\"id\": \"Deduplication.Dedup.Baseline\"}, \"DEFINED_IN\", {\"id\": \"Deduplication.Dedup.Baseline.Collection_Deduplication\"}, \"USES\", {\"id\": \"Deduplication.__Main__\"}]}, {\"path\": [{\"id\": \"Utils.Utils\"}, \"FUNCTION\", {\"id\": \"Utils.Utils.Read_Tsv\"}, \"USES\", {\"id\": \"Deduplication.__Main__\"}, \"IMPORTS\", {\"id\": \"Utils.Utils.Read_Tsv\"}, \"USES\", {\"id\": \"Deduplication.__Main__\"}]}, {\"path\": [{\"id\": \"Utils.Utils\"}, \"FUNCTION\", {\"id\": \"Utils.Utils.Majority_Vote\"}, \"USES\", {\"id\": \"Deduplication.Lshforest.Lshforest.Banding\"}, \"DEFINES\", {\"id\": \"Deduplication.Lshforest.Lshforest\"}, \"IMPORTS\", {\"id\": \"Deduplication.__Main__\"}]}, {\"path\": [{\"id\": \"Utils.Utils\"}, \"FUNCTION\", {\"id\": \"Utils.Utils.Majority_Vote\"}, \"USES\", {\"id\": \"Deduplication.Lshforest.Lshforest.Banding\"}, \"USES\", {\"id\": \"Deduplication.__Main__.Model\"}, \"DEFINED_IN\", {\"id\": \"Deduplication.__Main__\"}]}, {\"path\": [{\"id\": \"Utils.Utils\"}, \"FUNCTION\", {\"id\": \"Utils.Utils.Split_Dict\"}, \"USES\", {\"id\": \"Deduplication.Lshforest.Lshforest.Banding\"}, \"DEFINED_IN\", {\"id\": \"Deduplication.Lshforest.Lshforest\"}, \"IMPORTS\", {\"id\": \"Deduplication.__Main__\"}]}, {\"path\": [{\"id\": \"Utils.Utils\"}, \"FUNCTION\", {\"id\": \"Utils.Utils.Split_Dict\"}, \"USES\", {\"id\": \"Deduplication.Lshforest.Lshforest.Banding\"}, \"USES\", {\"id\": \"Deduplication.__Main__.Model\"}, \"DEFINED_IN\", {\"id\": \"Deduplication.__Main__\"}]}, {\"path\": [{\"id\": \"Utils.Utils\"}, \"FUNCTION\", {\"id\": \"Utils.Utils.Minhash\"}, \"IMPORTS\", {\"id\": \"Deduplication.Lsh\"}, \"IMPORTS\", {\"id\": \"Utils.Utils.Shingle\"}, \"USED_IN\", {\"id\": \"Utils.Use_Cases.Nearest_Neighbor_Search\"}, \"IMPORTS\", {\"id\": \"Deduplication.__Main__\"}]}, {\"path\": [{\"id\": \"Utils.Utils\"}, \"FUNCTION\", {\"id\": \"Utils.Utils.Minhash\"}, \"IMPORTS\", {\"id\": \"Deduplication.Lsh\"}, \"IMPORTS\", {\"id\": \"Utils.Utils.Shingle\"}, \"USED_IN\", {\"id\": \"Utils.Use_Cases.Nearest_Neighbor_Search\"}, \"USES\", {\"id\": \"Deduplication.__Main__\"}]}, {\"path\": [{\"id\": \"Utils.Utils\"}, \"FUNCTION\", {\"id\": \"Utils.Utils.Minhash\"}, \"USES\", {\"id\": \"Deduplication.Lsh.Lsh.Compute_Minhash_Signatures\"}, \"USES\", {\"id\": \"Deduplication.__Main__.Model\"}, \"DEFINED_IN\", {\"id\": \"Deduplication.__Main__\"}]}, {\"path\": [{\"id\": \"Utils.Utils\"}, \"FUNCTION\", {\"id\": \"Utils.Utils.Minhash\"}, \"USES\", {\"id\": \"Deduplication.Lsh.Lsh.Compute_Minhash_Signatures\"}, \"USES\", {\"id\": \"Deduplication.Lsh.Lsh.Lsh_Client\"}, \"DEFINES\", {\"id\": \"Deduplication.Lsh.Lsh\"}, \"INHERITS\", {\"id\": \"Deduplication.Lshforest.Lshforest\"}, \"IMPORTS\", {\"id\": \"Deduplication.__Main__\"}]}, {\"path\": [{\"id\": \"Utils.Utils\"}, \"FUNCTION\", {\"id\": \"Utils.Utils.Minhash\"}, \"USED_IN\", {\"id\": \"Utils.Use_Cases.Nearest_Neighbor_Search\"}, \"DEFINES\", {\"id\": \"Utils.Use_Cases\"}, \"DEFINES\", {\"id\": \"Utils.Use_Cases.Collection_Deduplication\"}, \"IMPORTS\", {\"id\": \"Deduplication.__Main__\"}]}, {\"path\": [{\"id\": \"Utils.Utils\"}, \"FUNCTION\", {\"id\": \"Utils.Utils.Minhash\"}, \"USED_IN\", {\"id\": \"Deduplication.Lshimproved.Lshimproved.Compute_Minhash_Signatures\"}, \"USED_IN\", {\"id\": \"Utils.Utils.Shingle\"}, \"USED_IN\", {\"id\": \"Utils.Use_Cases.Nearest_Neighbor_Search\"}, \"IMPORTS\", {\"id\": \"Deduplication.__Main__\"}]}, {\"path\": [{\"id\": \"Utils.Utils\"}, \"FUNCTION\", {\"id\": \"Utils.Utils.Minhash\"}, \"USED_IN\", {\"id\": \"Deduplication.Lshimproved.Lshimproved.Compute_Minhash_Signatures\"}, \"DEFINED_IN\", {\"id\": \"Deduplication.Lshimproved.Lshimproved\"}, \"IMPORTS\", {\"id\": \"Deduplication.__Main__\"}]}]}}', 'name': 'visualize_relationships'}, 'type': 'function'}, {'id': 'call_i2L6ohN673BPGEOnIuTDnJud', 'function': {'arguments': '{\"results\": {\"answer\": \"The `Utils.Utils` module is related to the `Deduplication.__Main__` module in multiple ways:\\\\n\\\\n- The `Utils.Utils` module, specifically `Utils.Utils.Unionfind`, is used in `Utils.Use_Cases.Collection_Deduplication` and either imports or uses `Deduplication.__Main__`.\\\\n- The `Utils.Utils` module, through the `Read_Tsv` function, imports and/or uses the `Deduplication.__Main__` module.\\\\n- The `Utils.Utils` module, via the `Minhash` function, uses `Deduplication.Lsh.Lsh.Compute_Minhash_Signatures` and interacts with `Deduplication.__Main__`.\\\\n- The `Utils.Utils` module, specifically the `Shingle` function, is used in `Utils.Use_Cases.Nearest_Neighbor_Search` and interacts with `Deduplication.__Main__`.\\\\n- The `Utils.Utils` module is imported in the `Deduplication.Lshimproved` module, which in turn imports `Deduplication.__Main__`.\", \"steps\": [\"generate_cypher\", \"execute_cypher\", \"generate_final_answer\"], \"cypher_statement\": \"MATCH path = (m1:Module {id: \\'Utils.Utils\\'})-[*..5]-(m2:Module {id: \\'Deduplication.__Main__\\'}) WHERE NONE(n IN nodes(path) WHERE n:Package) RETURN path\", \"cypher_results\": [{\"path\": [{\"id\": \"Utils.Utils\"}, \"CLASS\", {\"id\": \"Utils.Utils.Unionfind\"}, \"USED_IN\", {\"id\": \"Utils.Use_Cases.Collection_Deduplication\"}, \"DEFINES\", {\"id\": \"Utils.Use_Cases\"}, \"DEFINES\", {\"id\": \"Utils.Use_Cases.Nearest_Neighbor_Search\"}, \"IMPORTS\", {\"id\": \"Deduplication.__Main__\"}]}, {\"path\": [{\"id\": \"Utils.Utils\"}, \"CLASS\", {\"id\": \"Utils.Utils.Unionfind\"}, \"USED_IN\", {\"id\": \"Utils.Use_Cases.Collection_Deduplication\"}, \"DEFINES\", {\"id\": \"Utils.Use_Cases\"}, \"DEFINES\", {\"id\": \"Utils.Use_Cases.Nearest_Neighbor_Search\"}, \"USES\", {\"id\": \"Deduplication.__Main__\"}]}, {\"path\": [{\"id\": \"Utils.Utils\"}, \"CLASS\", {\"id\": \"Utils.Utils.Unionfind\"}, \"USED_IN\", {\"id\": \"Utils.Use_Cases.Collection_Deduplication\"}, \"IMPORTS\", {\"id\": \"Deduplication.__Main__\"}]}, {\"path\": [{\"id\": \"Utils.Utils\"}, \"CLASS\", {\"id\": \"Utils.Utils.Unionfind\"}, \"USED_IN\", {\"id\": \"Utils.Use_Cases.Collection_Deduplication\"}, \"IMPORTS\", {\"id\": \"Deduplication.__Main__\"}, \"INSTANTIATES\", {\"id\": \"Deduplication.Dedup.Baseline\"}, \"IMPORTS\", {\"id\": \"Deduplication.__Main__\"}]}, {\"path\": [{\"id\": \"Utils.Utils\"}, \"CLASS\", {\"id\": \"Utils.Utils.Unionfind\"}, \"USED_IN\", {\"id\": \"Utils.Use_Cases.Collection_Deduplication\"}, \"IMPORTS\", {\"id\": \"Deduplication.__Main__\"}, \"IMPORTS\", {\"id\": \"Utils.Use_Cases.Nearest_Neighbor_Search\"}, \"USES\", {\"id\": \"Deduplication.__Main__\"}]}, {\"path\": [{\"id\": \"Utils.Utils\"}, \"CLASS\", {\"id\": \"Utils.Utils.Unionfind\"}, \"USED_IN\", {\"id\": \"Utils.Use_Cases.Collection_Deduplication\"}, \"IMPORTS\", {\"id\": \"Deduplication.__Main__\"}, \"IMPORTS\", {\"id\": \"Utils.Utils.Read_Tsv\"}, \"USES\", {\"id\": \"Deduplication.__Main__\"}]}, {\"path\": [{\"id\": \"Utils.Utils\"}, \"CLASS\", {\"id\": \"Utils.Utils.Unionfind\"}, \"USED_IN\", {\"id\": \"Utils.Use_Cases.Collection_Deduplication\"}, \"IMPORTS\", {\"id\": \"Deduplication.__Main__\"}, \"IMPORTS\", {\"id\": \"Deduplication.Dedup.Baseline\"}, \"INSTANTIATES\", {\"id\": \"Deduplication.__Main__\"}]}, {\"path\": [{\"id\": \"Utils.Utils\"}, \"CLASS\", {\"id\": \"Utils.Utils.Unionfind\"}, \"USED_IN\", {\"id\": \"Utils.Use_Cases.Collection_Deduplication\"}, \"IMPORTS\", {\"id\": \"Deduplication.__Main__\"}, \"USES\", {\"id\": \"Utils.Use_Cases.Nearest_Neighbor_Search\"}, \"IMPORTS\", {\"id\": \"Deduplication.__Main__\"}]}, {\"path\": [{\"id\": \"Utils.Utils\"}, \"CLASS\", {\"id\": \"Utils.Utils.Unionfind\"}, \"USED_IN\", {\"id\": \"Utils.Use_Cases.Collection_Deduplication\"}, \"IMPORTS\", {\"id\": \"Deduplication.__Main__\"}, \"USES\", {\"id\": \"Utils.Utils.Read_Tsv\"}, \"IMPORTS\", {\"id\": \"Deduplication.__Main__\"}]}, {\"path\": [{\"id\": \"Utils.Utils\"}, \"CLASS\", {\"id\": \"Utils.Utils.Unionfind\"}, \"USED_IN\", {\"id\": \"Utils.Use_Cases.Collection_Deduplication\"}, \"USES\", {\"id\": \"Deduplication.__Main__\"}]}, {\"path\": [{\"id\": \"Utils.Utils\"}, \"CLASS\", {\"id\": \"Utils.Utils.Unionfind\"}, \"USED_IN\", {\"id\": \"Utils.Use_Cases.Collection_Deduplication\"}, \"USES\", {\"id\": \"Deduplication.__Main__\"}, \"INSTANTIATES\", {\"id\": \"Deduplication.Dedup.Baseline\"}, \"IMPORTS\", {\"id\": \"Deduplication.__Main__\"}]}, {\"path\": [{\"id\": \"Utils.Utils\"}, \"CLASS\", {\"id\": \"Utils.Utils.Unionfind\"}, \"USED_IN\", {\"id\": \"Utils.Use_Cases.Collection_Deduplication\"}, \"USES\", {\"id\": \"Deduplication.__Main__\"}, \"IMPORTS\", {\"id\": \"Utils.Use_Cases.Nearest_Neighbor_Search\"}, \"USES\", {\"id\": \"Deduplication.__Main__\"}]}, {\"path\": [{\"id\": \"Utils.Utils\"}, \"CLASS\", {\"id\": \"Utils.Utils.Unionfind\"}, \"USED_IN\", {\"id\": \"Utils.Use_Cases.Collection_Deduplication\"}, \"USES\", {\"id\": \"Deduplication.__Main__\"}, \"IMPORTS\", {\"id\": \"Utils.Utils.Read_Tsv\"}, \"USES\", {\"id\": \"Deduplication.__Main__\"}]}, {\"path\": [{\"id\": \"Utils.Utils\"}, \"FUNCTION\", {\"id\": \"Utils.Utils.Read_Tsv\"}, \"IMPORTS\", {\"id\": \"Deduplication.__Main__\"}]}, {\"path\": [{\"id\": \"Utils.Utils\"}, \"FUNCTION\", {\"id\": \"Utils.Utils.Read_Tsv\"}, \"IMPORTS\", {\"id\": \"Deduplication.__Main__\"}, \"INSTANTIATES\", {\"id\": \"Deduplication.Dedup.Baseline\"}, \"IMPORTS\", {\"id\": \"Deduplication.__Main__\"}]}, {\"path\": [{\"id\": \"Utils.Utils\"}, \"FUNCTION\", {\"id\": \"Utils.Utils.Read_Tsv\"}, \"IMPORTS\", {\"id\": \"Deduplication.__Main__\"}, \"IMPORTS\", {\"id\": \"Utils.Use_Cases.Collection_Deduplication\"}, \"USES\", {\"id\": \"Deduplication.__Main__\"}]}, {\"path\": [{\"id\": \"Utils.Utils\"}, \"FUNCTION\", {\"id\": \"Utils.Utils.Read_Tsv\"}, \"IMPORTS\", {\"id\": \"Deduplication.__Main__\"}, \"IMPORTS\", {\"id\": \"Deduplication.Lshforest.Lshforest\"}, \"INHERITS\", {\"id\": \"Deduplication.Lsh.Lsh\"}, \"IMPORTS\", {\"id\": \"Deduplication.__Main__\"}]}, {\"path\": [{\"id\": \"Utils.Utils\"}, \"FUNCTION\", {\"id\": \"Utils.Utils.Read_Tsv\"}, \"IMPORTS\", {\"id\": \"Deduplication.__Main__\"}, \"USES\", {\"id\": \"Deduplication.Dedup.Baseline.Collection_Deduplication\"}, \"DEFINED_IN\", {\"id\": \"Deduplication.Dedup.Baseline\"}, \"IMPORTS\", {\"id\": \"Deduplication.__Main__\"}]}, {\"path\": [{\"id\": \"Utils.Utils\"}, \"FUNCTION\", {\"id\": \"Utils.Utils.Read_Tsv\"}, \"USES\", {\"id\": \"Deduplication.__Main__\"}]}, {\"path\": [{\"id\": \"Utils.Utils\"}, \"FUNCTION\", {\"id\": \"Utils.Utils.Read_Tsv\"}, \"USES\", {\"id\": \"Deduplication.__Main__\"}, \"INSTANTIATES\", {\"id\": \"Deduplication.Dedup.Baseline\"}, \"DEFINED_IN\", {\"id\": \"Deduplication.Dedup.Baseline.Collection_Deduplication\"}, \"USES\", {\"id\": \"Deduplication.__Main__\"}]}, {\"path\": [{\"id\": \"Utils.Utils\"}, \"FUNCTION\", {\"id\": \"Utils.Utils.Read_Tsv\"}, \"USES\", {\"id\": \"Deduplication.__Main__\"}, \"IMPORTS\", {\"id\": \"Utils.Utils.Read_Tsv\"}, \"USES\", {\"id\": \"Deduplication.__Main__\"}]}, {\"path\": [{\"id\": \"Utils.Utils\"}, \"FUNCTION\", {\"id\": \"Utils.Utils.Majority_Vote\"}, \"USES\", {\"id\": \"Deduplication.Lshforest.Lshforest.Banding\"}, \"DEFINES\", {\"id\": \"Deduplication.Lshforest.Lshforest\"}, \"IMPORTS\", {\"id\": \"Deduplication.__Main__\"}]}, {\"path\": [{\"id\": \"Utils.Utils\"}, \"FUNCTION\", {\"id\": \"Utils.Utils.Majority_Vote\"}, \"USES\", {\"id\": \"Deduplication.Lshforest.Lshforest.Banding\"}, \"USES\", {\"id\": \"Deduplication.__Main__.Model\"}, \"DEFINED_IN\", {\"id\": \"Deduplication.__Main__\"}]}, {\"path\": [{\"id\": \"Utils.Utils\"}, \"FUNCTION\", {\"id\": \"Utils.Utils.Split_Dict\"}, \"USES\", {\"id\": \"Deduplication.Lshforest.Lshforest.Banding\"}, \"DEFINED_IN\", {\"id\": \"Deduplication.Lshforest.Lshforest\"}, \"IMPORTS\", {\"id\": \"Deduplication.__Main__\"}]}, {\"path\": [{\"id\": \"Utils.Utils\"}, \"FUNCTION\", {\"id\": \"Utils.Utils.Split_Dict\"}, \"USES\", {\"id\": \"Deduplication.Lshforest.Lshforest.Banding\"}, \"USES\", {\"id\": \"Deduplication.__Main__.Model\"}, \"DEFINED_IN\", {\"id\": \"Deduplication.__Main__\"}]}, {\"path\": [{\"id\": \"Utils.Utils\"}, \"FUNCTION\", {\"id\": \"Utils.Utils.Minhash\"}, \"IMPORTS\", {\"id\": \"Deduplication.Lsh\"}, \"IMPORTS\", {\"id\": \"Utils.Utils.Shingle\"}, \"USED_IN\", {\"id\": \"Utils.Use_Cases.Nearest_Neighbor_Search\"}, \"IMPORTS\", {\"id\": \"Deduplication.__Main__\"}]}, {\"path\": [{\"id\": \"Utils.Utils\"}, \"FUNCTION\", {\"id\": \"Utils.Utils.Minhash\"}, \"IMPORTS\", {\"id\": \"Deduplication.Lsh\"}, \"IMPORTS\", {\"id\": \"Utils.Utils.Shingle\"}, \"USED_IN\", {\"id\": \"Utils.Use_Cases.Nearest_Neighbor_Search\"}, \"USES\", {\"id\": \"Deduplication.__Main__\"}]}, {\"path\": [{\"id\": \"Utils.Utils\"}, \"FUNCTION\", {\"id\": \"Utils.Utils.Minhash\"}, \"USES\", {\"id\": \"Deduplication.Lsh.Lsh.Compute_Minhash_Signatures\"}, \"USES\", {\"id\": \"Deduplication.__Main__.Model\"}, \"DEFINED_IN\", {\"id\": \"Deduplication.__Main__\"}]}, {\"path\": [{\"id\": \"Utils.Utils\"}, \"FUNCTION\", {\"id\": \"Utils.Utils.Minhash\"}, \"USES\", {\"id\": \"Deduplication.Lsh.Lsh.Compute_Minhash_Signatures\"}, \"USES\", {\"id\": \"Deduplication.Lsh.Lsh.Lsh_Client\"}, \"DEFINES\", {\"id\": \"Deduplication.Lsh.Lsh\"}, \"INHERITS\", {\"id\": \"Deduplication.Lshforest.Lshforest\"}, \"IMPORTS\", {\"id\": \"Deduplication.__Main__\"}]}, {\"path\": [{\"id\": \"Utils.Utils\"}, \"FUNCTION\", {\"id\": \"Utils.Utils.Minhash\"}, \"USED_IN\", {\"id\": \"Utils.Use_Cases.Nearest_Neighbor_Search\"}, \"DEFINES\", {\"id\": \"Utils.Use_Cases\"}, \"DEFINES\", {\"id\": \"Utils.Use_Cases.Collection_Deduplication\"}, \"IMPORTS\", {\"id\": \"Deduplication.__Main__\"}]}, {\"path\": [{\"id\": \"Utils.Utils\"}, \"FUNCTION\", {\"id\": \"Utils.Utils.Minhash\"}, \"USED_IN\", {\"id\": \"Deduplication.Lshimproved.Lshimproved.Compute_Minhash_Signatures\"}, \"USED_IN\", {\"id\": \"Utils.Utils.Shingle\"}, \"USED_IN\", {\"id\": \"Utils.Use_Cases.Nearest_Neighbor_Search\"}, \"IMPORTS\", {\"id\": \"Deduplication.__Main__\"}]}, {\"path\": [{\"id\": \"Utils.Utils\"}, \"FUNCTION\", {\"id\": \"Utils.Utils.Minhash\"}, \"USED_IN\", {\"id\": \"Deduplication.Lshimproved.Lshimproved.Compute_Minhash_Signatures\"}, \"DEFINED_IN\", {\"id\": \"Deduplication.Lshimproved.Lshimproved\"}, \"IMPORTS\", {\"id\": \"Deduplication.__Main__\"}]}]}}', 'name': 'generate_text_response'}, 'type': 'function'}], 'refusal': None}, response_metadata={'token_usage': {'completion_tokens': 5493, 'prompt_tokens': 15170, 'total_tokens': 20663, 'completion_tokens_details': {'accepted_prediction_tokens': 0, 'audio_tokens': 0, 'reasoning_tokens': 0, 'rejected_prediction_tokens': 0}, 'prompt_tokens_details': {'audio_tokens': 0, 'cached_tokens': 0}}, 'model_name': 'gpt-4o-2024-08-06', 'system_fingerprint': 'fp_85bc8e3fae', 'finish_reason': 'tool_calls', 'logprobs': None}, id='run-a25e3b0e-a64a-474e-a9c6-e925159ecf26-0', tool_calls=[{'name': 'visualize_relationships', 'args': {'results': {'answer': 'The `Utils.Utils` module is related to the `Deduplication.__Main__` module in multiple ways:\\n\\n- The `Utils.Utils` module, specifically `Utils.Utils.Unionfind`, is used in `Utils.Use_Cases.Collection_Deduplication` and either imports or uses `Deduplication.__Main__`.\\n- The `Utils.Utils` module, through the `Read_Tsv` function, imports and/or uses the `Deduplication.__Main__` module.\\n- The `Utils.Utils` module, via the `Minhash` function, uses `Deduplication.Lsh.Lsh.Compute_Minhash_Signatures` and interacts with `Deduplication.__Main__`.\\n- The `Utils.Utils` module, specifically the `Shingle` function, is used in `Utils.Use_Cases.Nearest_Neighbor_Search` and interacts with `Deduplication.__Main__`.\\n- The `Utils.Utils` module is imported in the `Deduplication.Lshimproved` module, which in turn imports `Deduplication.__Main__`.', 'steps': ['generate_cypher', 'execute_cypher', 'generate_final_answer'], 'cypher_statement': \"MATCH path = (m1:Module {id: 'Utils.Utils'})-[*..5]-(m2:Module {id: 'Deduplication.__Main__'}) WHERE NONE(n IN nodes(path) WHERE n:Package) RETURN path\", 'cypher_results': [{'path': [{'id': 'Utils.Utils'}, 'CLASS', {'id': 'Utils.Utils.Unionfind'}, 'USED_IN', {'id': 'Utils.Use_Cases.Collection_Deduplication'}, 'DEFINES', {'id': 'Utils.Use_Cases'}, 'DEFINES', {'id': 'Utils.Use_Cases.Nearest_Neighbor_Search'}, 'IMPORTS', {'id': 'Deduplication.__Main__'}]}, {'path': [{'id': 'Utils.Utils'}, 'CLASS', {'id': 'Utils.Utils.Unionfind'}, 'USED_IN', {'id': 'Utils.Use_Cases.Collection_Deduplication'}, 'DEFINES', {'id': 'Utils.Use_Cases'}, 'DEFINES', {'id': 'Utils.Use_Cases.Nearest_Neighbor_Search'}, 'USES', {'id': 'Deduplication.__Main__'}]}, {'path': [{'id': 'Utils.Utils'}, 'CLASS', {'id': 'Utils.Utils.Unionfind'}, 'USED_IN', {'id': 'Utils.Use_Cases.Collection_Deduplication'}, 'IMPORTS', {'id': 'Deduplication.__Main__'}]}, {'path': [{'id': 'Utils.Utils'}, 'CLASS', {'id': 'Utils.Utils.Unionfind'}, 'USED_IN', {'id': 'Utils.Use_Cases.Collection_Deduplication'}, 'IMPORTS', {'id': 'Deduplication.__Main__'}, 'INSTANTIATES', {'id': 'Deduplication.Dedup.Baseline'}, 'IMPORTS', {'id': 'Deduplication.__Main__'}]}, {'path': [{'id': 'Utils.Utils'}, 'CLASS', {'id': 'Utils.Utils.Unionfind'}, 'USED_IN', {'id': 'Utils.Use_Cases.Collection_Deduplication'}, 'IMPORTS', {'id': 'Deduplication.__Main__'}, 'IMPORTS', {'id': 'Utils.Use_Cases.Nearest_Neighbor_Search'}, 'USES', {'id': 'Deduplication.__Main__'}]}, {'path': [{'id': 'Utils.Utils'}, 'CLASS', {'id': 'Utils.Utils.Unionfind'}, 'USED_IN', {'id': 'Utils.Use_Cases.Collection_Deduplication'}, 'IMPORTS', {'id': 'Deduplication.__Main__'}, 'IMPORTS', {'id': 'Utils.Utils.Read_Tsv'}, 'USES', {'id': 'Deduplication.__Main__'}]}, {'path': [{'id': 'Utils.Utils'}, 'CLASS', {'id': 'Utils.Utils.Unionfind'}, 'USED_IN', {'id': 'Utils.Use_Cases.Collection_Deduplication'}, 'IMPORTS', {'id': 'Deduplication.__Main__'}, 'IMPORTS', {'id': 'Deduplication.Dedup.Baseline'}, 'INSTANTIATES', {'id': 'Deduplication.__Main__'}]}, {'path': [{'id': 'Utils.Utils'}, 'CLASS', {'id': 'Utils.Utils.Unionfind'}, 'USED_IN', {'id': 'Utils.Use_Cases.Collection_Deduplication'}, 'IMPORTS', {'id': 'Deduplication.__Main__'}, 'USES', {'id': 'Utils.Use_Cases.Nearest_Neighbor_Search'}, 'IMPORTS', {'id': 'Deduplication.__Main__'}]}, {'path': [{'id': 'Utils.Utils'}, 'CLASS', {'id': 'Utils.Utils.Unionfind'}, 'USED_IN', {'id': 'Utils.Use_Cases.Collection_Deduplication'}, 'IMPORTS', {'id': 'Deduplication.__Main__'}, 'USES', {'id': 'Utils.Utils.Read_Tsv'}, 'IMPORTS', {'id': 'Deduplication.__Main__'}]}, {'path': [{'id': 'Utils.Utils'}, 'CLASS', {'id': 'Utils.Utils.Unionfind'}, 'USED_IN', {'id': 'Utils.Use_Cases.Collection_Deduplication'}, 'USES', {'id': 'Deduplication.__Main__'}]}, {'path': [{'id': 'Utils.Utils'}, 'CLASS', {'id': 'Utils.Utils.Unionfind'}, 'USED_IN', {'id': 'Utils.Use_Cases.Collection_Deduplication'}, 'USES', {'id': 'Deduplication.__Main__'}, 'INSTANTIATES', {'id': 'Deduplication.Dedup.Baseline'}, 'IMPORTS', {'id': 'Deduplication.__Main__'}]}, {'path': [{'id': 'Utils.Utils'}, 'CLASS', {'id': 'Utils.Utils.Unionfind'}, 'USED_IN', {'id': 'Utils.Use_Cases.Collection_Deduplication'}, 'USES', {'id': 'Deduplication.__Main__'}, 'IMPORTS', {'id': 'Utils.Use_Cases.Nearest_Neighbor_Search'}, 'USES', {'id': 'Deduplication.__Main__'}]}, {'path': [{'id': 'Utils.Utils'}, 'CLASS', {'id': 'Utils.Utils.Unionfind'}, 'USED_IN', {'id': 'Utils.Use_Cases.Collection_Deduplication'}, 'USES', {'id': 'Deduplication.__Main__'}, 'IMPORTS', {'id': 'Utils.Utils.Read_Tsv'}, 'USES', {'id': 'Deduplication.__Main__'}]}, {'path': [{'id': 'Utils.Utils'}, 'FUNCTION', {'id': 'Utils.Utils.Read_Tsv'}, 'IMPORTS', {'id': 'Deduplication.__Main__'}]}, {'path': [{'id': 'Utils.Utils'}, 'FUNCTION', {'id': 'Utils.Utils.Read_Tsv'}, 'IMPORTS', {'id': 'Deduplication.__Main__'}, 'INSTANTIATES', {'id': 'Deduplication.Dedup.Baseline'}, 'IMPORTS', {'id': 'Deduplication.__Main__'}]}, {'path': [{'id': 'Utils.Utils'}, 'FUNCTION', {'id': 'Utils.Utils.Read_Tsv'}, 'IMPORTS', {'id': 'Deduplication.__Main__'}, 'IMPORTS', {'id': 'Utils.Use_Cases.Collection_Deduplication'}, 'USES', {'id': 'Deduplication.__Main__'}]}, {'path': [{'id': 'Utils.Utils'}, 'FUNCTION', {'id': 'Utils.Utils.Read_Tsv'}, 'IMPORTS', {'id': 'Deduplication.__Main__'}, 'IMPORTS', {'id': 'Deduplication.Lshforest.Lshforest'}, 'INHERITS', {'id': 'Deduplication.Lsh.Lsh'}, 'IMPORTS', {'id': 'Deduplication.__Main__'}]}, {'path': [{'id': 'Utils.Utils'}, 'FUNCTION', {'id': 'Utils.Utils.Read_Tsv'}, 'IMPORTS', {'id': 'Deduplication.__Main__'}, 'USES', {'id': 'Deduplication.Dedup.Baseline.Collection_Deduplication'}, 'DEFINED_IN', {'id': 'Deduplication.Dedup.Baseline'}, 'IMPORTS', {'id': 'Deduplication.__Main__'}]}, {'path': [{'id': 'Utils.Utils'}, 'FUNCTION', {'id': 'Utils.Utils.Read_Tsv'}, 'USES', {'id': 'Deduplication.__Main__'}]}, {'path': [{'id': 'Utils.Utils'}, 'FUNCTION', {'id': 'Utils.Utils.Read_Tsv'}, 'USES', {'id': 'Deduplication.__Main__'}, 'INSTANTIATES', {'id': 'Deduplication.Dedup.Baseline'}, 'DEFINED_IN', {'id': 'Deduplication.Dedup.Baseline.Collection_Deduplication'}, 'USES', {'id': 'Deduplication.__Main__'}]}, {'path': [{'id': 'Utils.Utils'}, 'FUNCTION', {'id': 'Utils.Utils.Read_Tsv'}, 'USES', {'id': 'Deduplication.__Main__'}, 'IMPORTS', {'id': 'Utils.Utils.Read_Tsv'}, 'USES', {'id': 'Deduplication.__Main__'}]}, {'path': [{'id': 'Utils.Utils'}, 'FUNCTION', {'id': 'Utils.Utils.Majority_Vote'}, 'USES', {'id': 'Deduplication.Lshforest.Lshforest.Banding'}, 'DEFINES', {'id': 'Deduplication.Lshforest.Lshforest'}, 'IMPORTS', {'id': 'Deduplication.__Main__'}]}, {'path': [{'id': 'Utils.Utils'}, 'FUNCTION', {'id': 'Utils.Utils.Majority_Vote'}, 'USES', {'id': 'Deduplication.Lshforest.Lshforest.Banding'}, 'USES', {'id': 'Deduplication.__Main__.Model'}, 'DEFINED_IN', {'id': 'Deduplication.__Main__'}]}, {'path': [{'id': 'Utils.Utils'}, 'FUNCTION', {'id': 'Utils.Utils.Split_Dict'}, 'USES', {'id': 'Deduplication.Lshforest.Lshforest.Banding'}, 'DEFINED_IN', {'id': 'Deduplication.Lshforest.Lshforest'}, 'IMPORTS', {'id': 'Deduplication.__Main__'}]}, {'path': [{'id': 'Utils.Utils'}, 'FUNCTION', {'id': 'Utils.Utils.Split_Dict'}, 'USES', {'id': 'Deduplication.Lshforest.Lshforest.Banding'}, 'USES', {'id': 'Deduplication.__Main__.Model'}, 'DEFINED_IN', {'id': 'Deduplication.__Main__'}]}, {'path': [{'id': 'Utils.Utils'}, 'FUNCTION', {'id': 'Utils.Utils.Minhash'}, 'IMPORTS', {'id': 'Deduplication.Lsh'}, 'IMPORTS', {'id': 'Utils.Utils.Shingle'}, 'USED_IN', {'id': 'Utils.Use_Cases.Nearest_Neighbor_Search'}, 'IMPORTS', {'id': 'Deduplication.__Main__'}]}, {'path': [{'id': 'Utils.Utils'}, 'FUNCTION', {'id': 'Utils.Utils.Minhash'}, 'IMPORTS', {'id': 'Deduplication.Lsh'}, 'IMPORTS', {'id': 'Utils.Utils.Shingle'}, 'USED_IN', {'id': 'Utils.Use_Cases.Nearest_Neighbor_Search'}, 'USES', {'id': 'Deduplication.__Main__'}]}, {'path': [{'id': 'Utils.Utils'}, 'FUNCTION', {'id': 'Utils.Utils.Minhash'}, 'USES', {'id': 'Deduplication.Lsh.Lsh.Compute_Minhash_Signatures'}, 'USES', {'id': 'Deduplication.__Main__.Model'}, 'DEFINED_IN', {'id': 'Deduplication.__Main__'}]}, {'path': [{'id': 'Utils.Utils'}, 'FUNCTION', {'id': 'Utils.Utils.Minhash'}, 'USES', {'id': 'Deduplication.Lsh.Lsh.Compute_Minhash_Signatures'}, 'USES', {'id': 'Deduplication.Lsh.Lsh.Lsh_Client'}, 'DEFINES', {'id': 'Deduplication.Lsh.Lsh'}, 'INHERITS', {'id': 'Deduplication.Lshforest.Lshforest'}, 'IMPORTS', {'id': 'Deduplication.__Main__'}]}, {'path': [{'id': 'Utils.Utils'}, 'FUNCTION', {'id': 'Utils.Utils.Minhash'}, 'USED_IN', {'id': 'Utils.Use_Cases.Nearest_Neighbor_Search'}, 'DEFINES', {'id': 'Utils.Use_Cases'}, 'DEFINES', {'id': 'Utils.Use_Cases.Collection_Deduplication'}, 'IMPORTS', {'id': 'Deduplication.__Main__'}]}, {'path': [{'id': 'Utils.Utils'}, 'FUNCTION', {'id': 'Utils.Utils.Minhash'}, 'USED_IN', {'id': 'Deduplication.Lshimproved.Lshimproved.Compute_Minhash_Signatures'}, 'USED_IN', {'id': 'Utils.Utils.Shingle'}, 'USED_IN', {'id': 'Utils.Use_Cases.Nearest_Neighbor_Search'}, 'IMPORTS', {'id': 'Deduplication.__Main__'}]}, {'path': [{'id': 'Utils.Utils'}, 'FUNCTION', {'id': 'Utils.Utils.Minhash'}, 'USED_IN', {'id': 'Deduplication.Lshimproved.Lshimproved.Compute_Minhash_Signatures'}, 'DEFINED_IN', {'id': 'Deduplication.Lshimproved.Lshimproved'}, 'IMPORTS', {'id': 'Deduplication.__Main__'}]}]}}, 'id': 'call_vJcjxVTFQQ7L2ygR3vajV1CM', 'type': 'tool_call'}, {'name': 'generate_text_response', 'args': {'results': {'answer': 'The `Utils.Utils` module is related to the `Deduplication.__Main__` module in multiple ways:\\n\\n- The `Utils.Utils` module, specifically `Utils.Utils.Unionfind`, is used in `Utils.Use_Cases.Collection_Deduplication` and either imports or uses `Deduplication.__Main__`.\\n- The `Utils.Utils` module, through the `Read_Tsv` function, imports and/or uses the `Deduplication.__Main__` module.\\n- The `Utils.Utils` module, via the `Minhash` function, uses `Deduplication.Lsh.Lsh.Compute_Minhash_Signatures` and interacts with `Deduplication.__Main__`.\\n- The `Utils.Utils` module, specifically the `Shingle` function, is used in `Utils.Use_Cases.Nearest_Neighbor_Search` and interacts with `Deduplication.__Main__`.\\n- The `Utils.Utils` module is imported in the `Deduplication.Lshimproved` module, which in turn imports `Deduplication.__Main__`.', 'steps': ['generate_cypher', 'execute_cypher', 'generate_final_answer'], 'cypher_statement': \"MATCH path = (m1:Module {id: 'Utils.Utils'})-[*..5]-(m2:Module {id: 'Deduplication.__Main__'}) WHERE NONE(n IN nodes(path) WHERE n:Package) RETURN path\", 'cypher_results': [{'path': [{'id': 'Utils.Utils'}, 'CLASS', {'id': 'Utils.Utils.Unionfind'}, 'USED_IN', {'id': 'Utils.Use_Cases.Collection_Deduplication'}, 'DEFINES', {'id': 'Utils.Use_Cases'}, 'DEFINES', {'id': 'Utils.Use_Cases.Nearest_Neighbor_Search'}, 'IMPORTS', {'id': 'Deduplication.__Main__'}]}, {'path': [{'id': 'Utils.Utils'}, 'CLASS', {'id': 'Utils.Utils.Unionfind'}, 'USED_IN', {'id': 'Utils.Use_Cases.Collection_Deduplication'}, 'DEFINES', {'id': 'Utils.Use_Cases'}, 'DEFINES', {'id': 'Utils.Use_Cases.Nearest_Neighbor_Search'}, 'USES', {'id': 'Deduplication.__Main__'}]}, {'path': [{'id': 'Utils.Utils'}, 'CLASS', {'id': 'Utils.Utils.Unionfind'}, 'USED_IN', {'id': 'Utils.Use_Cases.Collection_Deduplication'}, 'IMPORTS', {'id': 'Deduplication.__Main__'}]}, {'path': [{'id': 'Utils.Utils'}, 'CLASS', {'id': 'Utils.Utils.Unionfind'}, 'USED_IN', {'id': 'Utils.Use_Cases.Collection_Deduplication'}, 'IMPORTS', {'id': 'Deduplication.__Main__'}, 'INSTANTIATES', {'id': 'Deduplication.Dedup.Baseline'}, 'IMPORTS', {'id': 'Deduplication.__Main__'}]}, {'path': [{'id': 'Utils.Utils'}, 'CLASS', {'id': 'Utils.Utils.Unionfind'}, 'USED_IN', {'id': 'Utils.Use_Cases.Collection_Deduplication'}, 'IMPORTS', {'id': 'Deduplication.__Main__'}, 'IMPORTS', {'id': 'Utils.Use_Cases.Nearest_Neighbor_Search'}, 'USES', {'id': 'Deduplication.__Main__'}]}, {'path': [{'id': 'Utils.Utils'}, 'CLASS', {'id': 'Utils.Utils.Unionfind'}, 'USED_IN', {'id': 'Utils.Use_Cases.Collection_Deduplication'}, 'IMPORTS', {'id': 'Deduplication.__Main__'}, 'IMPORTS', {'id': 'Utils.Utils.Read_Tsv'}, 'USES', {'id': 'Deduplication.__Main__'}]}, {'path': [{'id': 'Utils.Utils'}, 'CLASS', {'id': 'Utils.Utils.Unionfind'}, 'USED_IN', {'id': 'Utils.Use_Cases.Collection_Deduplication'}, 'IMPORTS', {'id': 'Deduplication.__Main__'}, 'IMPORTS', {'id': 'Deduplication.Dedup.Baseline'}, 'INSTANTIATES', {'id': 'Deduplication.__Main__'}]}, {'path': [{'id': 'Utils.Utils'}, 'CLASS', {'id': 'Utils.Utils.Unionfind'}, 'USED_IN', {'id': 'Utils.Use_Cases.Collection_Deduplication'}, 'IMPORTS', {'id': 'Deduplication.__Main__'}, 'USES', {'id': 'Utils.Use_Cases.Nearest_Neighbor_Search'}, 'IMPORTS', {'id': 'Deduplication.__Main__'}]}, {'path': [{'id': 'Utils.Utils'}, 'CLASS', {'id': 'Utils.Utils.Unionfind'}, 'USED_IN', {'id': 'Utils.Use_Cases.Collection_Deduplication'}, 'IMPORTS', {'id': 'Deduplication.__Main__'}, 'USES', {'id': 'Utils.Utils.Read_Tsv'}, 'IMPORTS', {'id': 'Deduplication.__Main__'}]}, {'path': [{'id': 'Utils.Utils'}, 'CLASS', {'id': 'Utils.Utils.Unionfind'}, 'USED_IN', {'id': 'Utils.Use_Cases.Collection_Deduplication'}, 'USES', {'id': 'Deduplication.__Main__'}]}, {'path': [{'id': 'Utils.Utils'}, 'CLASS', {'id': 'Utils.Utils.Unionfind'}, 'USED_IN', {'id': 'Utils.Use_Cases.Collection_Deduplication'}, 'USES', {'id': 'Deduplication.__Main__'}, 'INSTANTIATES', {'id': 'Deduplication.Dedup.Baseline'}, 'IMPORTS', {'id': 'Deduplication.__Main__'}]}, {'path': [{'id': 'Utils.Utils'}, 'CLASS', {'id': 'Utils.Utils.Unionfind'}, 'USED_IN', {'id': 'Utils.Use_Cases.Collection_Deduplication'}, 'USES', {'id': 'Deduplication.__Main__'}, 'IMPORTS', {'id': 'Utils.Use_Cases.Nearest_Neighbor_Search'}, 'USES', {'id': 'Deduplication.__Main__'}]}, {'path': [{'id': 'Utils.Utils'}, 'CLASS', {'id': 'Utils.Utils.Unionfind'}, 'USED_IN', {'id': 'Utils.Use_Cases.Collection_Deduplication'}, 'USES', {'id': 'Deduplication.__Main__'}, 'IMPORTS', {'id': 'Utils.Utils.Read_Tsv'}, 'USES', {'id': 'Deduplication.__Main__'}]}, {'path': [{'id': 'Utils.Utils'}, 'FUNCTION', {'id': 'Utils.Utils.Read_Tsv'}, 'IMPORTS', {'id': 'Deduplication.__Main__'}]}, {'path': [{'id': 'Utils.Utils'}, 'FUNCTION', {'id': 'Utils.Utils.Read_Tsv'}, 'IMPORTS', {'id': 'Deduplication.__Main__'}, 'INSTANTIATES', {'id': 'Deduplication.Dedup.Baseline'}, 'IMPORTS', {'id': 'Deduplication.__Main__'}]}, {'path': [{'id': 'Utils.Utils'}, 'FUNCTION', {'id': 'Utils.Utils.Read_Tsv'}, 'IMPORTS', {'id': 'Deduplication.__Main__'}, 'IMPORTS', {'id': 'Utils.Use_Cases.Collection_Deduplication'}, 'USES', {'id': 'Deduplication.__Main__'}]}, {'path': [{'id': 'Utils.Utils'}, 'FUNCTION', {'id': 'Utils.Utils.Read_Tsv'}, 'IMPORTS', {'id': 'Deduplication.__Main__'}, 'IMPORTS', {'id': 'Deduplication.Lshforest.Lshforest'}, 'INHERITS', {'id': 'Deduplication.Lsh.Lsh'}, 'IMPORTS', {'id': 'Deduplication.__Main__'}]}, {'path': [{'id': 'Utils.Utils'}, 'FUNCTION', {'id': 'Utils.Utils.Read_Tsv'}, 'IMPORTS', {'id': 'Deduplication.__Main__'}, 'USES', {'id': 'Deduplication.Dedup.Baseline.Collection_Deduplication'}, 'DEFINED_IN', {'id': 'Deduplication.Dedup.Baseline'}, 'IMPORTS', {'id': 'Deduplication.__Main__'}]}, {'path': [{'id': 'Utils.Utils'}, 'FUNCTION', {'id': 'Utils.Utils.Read_Tsv'}, 'USES', {'id': 'Deduplication.__Main__'}]}, {'path': [{'id': 'Utils.Utils'}, 'FUNCTION', {'id': 'Utils.Utils.Read_Tsv'}, 'USES', {'id': 'Deduplication.__Main__'}, 'INSTANTIATES', {'id': 'Deduplication.Dedup.Baseline'}, 'DEFINED_IN', {'id': 'Deduplication.Dedup.Baseline.Collection_Deduplication'}, 'USES', {'id': 'Deduplication.__Main__'}]}, {'path': [{'id': 'Utils.Utils'}, 'FUNCTION', {'id': 'Utils.Utils.Read_Tsv'}, 'USES', {'id': 'Deduplication.__Main__'}, 'IMPORTS', {'id': 'Utils.Utils.Read_Tsv'}, 'USES', {'id': 'Deduplication.__Main__'}]}, {'path': [{'id': 'Utils.Utils'}, 'FUNCTION', {'id': 'Utils.Utils.Majority_Vote'}, 'USES', {'id': 'Deduplication.Lshforest.Lshforest.Banding'}, 'DEFINES', {'id': 'Deduplication.Lshforest.Lshforest'}, 'IMPORTS', {'id': 'Deduplication.__Main__'}]}, {'path': [{'id': 'Utils.Utils'}, 'FUNCTION', {'id': 'Utils.Utils.Majority_Vote'}, 'USES', {'id': 'Deduplication.Lshforest.Lshforest.Banding'}, 'USES', {'id': 'Deduplication.__Main__.Model'}, 'DEFINED_IN', {'id': 'Deduplication.__Main__'}]}, {'path': [{'id': 'Utils.Utils'}, 'FUNCTION', {'id': 'Utils.Utils.Split_Dict'}, 'USES', {'id': 'Deduplication.Lshforest.Lshforest.Banding'}, 'DEFINED_IN', {'id': 'Deduplication.Lshforest.Lshforest'}, 'IMPORTS', {'id': 'Deduplication.__Main__'}]}, {'path': [{'id': 'Utils.Utils'}, 'FUNCTION', {'id': 'Utils.Utils.Split_Dict'}, 'USES', {'id': 'Deduplication.Lshforest.Lshforest.Banding'}, 'USES', {'id': 'Deduplication.__Main__.Model'}, 'DEFINED_IN', {'id': 'Deduplication.__Main__'}]}, {'path': [{'id': 'Utils.Utils'}, 'FUNCTION', {'id': 'Utils.Utils.Minhash'}, 'IMPORTS', {'id': 'Deduplication.Lsh'}, 'IMPORTS', {'id': 'Utils.Utils.Shingle'}, 'USED_IN', {'id': 'Utils.Use_Cases.Nearest_Neighbor_Search'}, 'IMPORTS', {'id': 'Deduplication.__Main__'}]}, {'path': [{'id': 'Utils.Utils'}, 'FUNCTION', {'id': 'Utils.Utils.Minhash'}, 'IMPORTS', {'id': 'Deduplication.Lsh'}, 'IMPORTS', {'id': 'Utils.Utils.Shingle'}, 'USED_IN', {'id': 'Utils.Use_Cases.Nearest_Neighbor_Search'}, 'USES', {'id': 'Deduplication.__Main__'}]}, {'path': [{'id': 'Utils.Utils'}, 'FUNCTION', {'id': 'Utils.Utils.Minhash'}, 'USES', {'id': 'Deduplication.Lsh.Lsh.Compute_Minhash_Signatures'}, 'USES', {'id': 'Deduplication.__Main__.Model'}, 'DEFINED_IN', {'id': 'Deduplication.__Main__'}]}, {'path': [{'id': 'Utils.Utils'}, 'FUNCTION', {'id': 'Utils.Utils.Minhash'}, 'USES', {'id': 'Deduplication.Lsh.Lsh.Compute_Minhash_Signatures'}, 'USES', {'id': 'Deduplication.Lsh.Lsh.Lsh_Client'}, 'DEFINES', {'id': 'Deduplication.Lsh.Lsh'}, 'INHERITS', {'id': 'Deduplication.Lshforest.Lshforest'}, 'IMPORTS', {'id': 'Deduplication.__Main__'}]}, {'path': [{'id': 'Utils.Utils'}, 'FUNCTION', {'id': 'Utils.Utils.Minhash'}, 'USED_IN', {'id': 'Utils.Use_Cases.Nearest_Neighbor_Search'}, 'DEFINES', {'id': 'Utils.Use_Cases'}, 'DEFINES', {'id': 'Utils.Use_Cases.Collection_Deduplication'}, 'IMPORTS', {'id': 'Deduplication.__Main__'}]}, {'path': [{'id': 'Utils.Utils'}, 'FUNCTION', {'id': 'Utils.Utils.Minhash'}, 'USED_IN', {'id': 'Deduplication.Lshimproved.Lshimproved.Compute_Minhash_Signatures'}, 'USED_IN', {'id': 'Utils.Utils.Shingle'}, 'USED_IN', {'id': 'Utils.Use_Cases.Nearest_Neighbor_Search'}, 'IMPORTS', {'id': 'Deduplication.__Main__'}]}, {'path': [{'id': 'Utils.Utils'}, 'FUNCTION', {'id': 'Utils.Utils.Minhash'}, 'USED_IN', {'id': 'Deduplication.Lshimproved.Lshimproved.Compute_Minhash_Signatures'}, 'DEFINED_IN', {'id': 'Deduplication.Lshimproved.Lshimproved'}, 'IMPORTS', {'id': 'Deduplication.__Main__'}]}]}}, 'id': 'call_i2L6ohN673BPGEOnIuTDnJud', 'type': 'tool_call'}], usage_metadata={'input_tokens': 15170, 'output_tokens': 5493, 'total_tokens': 20663, 'input_token_details': {'audio': 0, 'cache_read': 0}, 'output_token_details': {'audio': 0, 'reasoning': 0}}),\n",
       "  ToolMessage(content='{\"nodes\": 22, \"edges\": 44, \"node_types\": [\"Utils\", \"Deduplication\"], \"relationship_types\": [\"INSTANTIATES\", \"USED_IN\", \"DEFINES\", \"INHERITS\", \"IMPORTS\", \"CLASS\", \"USES\", \"DEFINED_IN\", \"FUNCTION\"]}', name='visualize_relationships', id='877b173f-b6d5-4f39-9cf1-9aa4b0022010', tool_call_id='call_vJcjxVTFQQ7L2ygR3vajV1CM'),\n",
       "  ToolMessage(content='Based on the provided sentence and context, I can expand the information to make it more informative and useful:\\n\\nThe `Utils.Utils` module is a critical component in the deduplication process, interacting with the `Deduplication.__Main__` module in multiple significant ways:\\n\\n1. UnionFind for Document Clustering:\\n   The `Utils.Utils.Unionfind` class, implemented in `Utils.Utils`, is utilized in `Utils.Use_Cases.Collection_Deduplication` for efficiently grouping similar documents. This class employs a Union-Find data structure with path compression, which is crucial for clustering documents based on the candidate pairs identified by the LSH (Locality Sensitive Hashing) process in `Deduplication.__Main__`.\\n\\n2. Data Input Processing:\\n   The `Read_Tsv` function from `Utils.Utils` is essential for importing document data. It reads tab-separated values (TSV) files and converts them into a dictionary format, which is then used by `Deduplication.__Main__` for further processing. This function is likely called at the beginning of the deduplication pipeline to load the initial dataset.\\n\\n3. MinHash Signature Generation:\\n   The `Minhash` function in `Utils.Utils` interacts with `Deduplication.Lsh.Lsh.Compute_Minhash_Signatures`. It creates MinHash signatures for sets of shingles, which are crucial for efficient similarity estimation in the LSH process. This function is probably used within the `compute_minhash_signatures` method of the LSH class, which is called from `Deduplication.__Main__`.\\n\\n4. Document Preprocessing:\\n   The `Shingle` function from `Utils.Utils`, used in `Utils.Use_Cases.Nearest_Neighbor_Search`, is responsible for generating k-shingles (contiguous sequences of k words) from given texts. This preprocessing step is vital for both the deduplication and nearest neighbor search processes initiated in `Deduplication.__Main__`.\\n\\n5. Module Integration:\\n   The `Utils.Utils` module is imported by `Deduplication.Lshimproved`, which in turn imports `Deduplication.__Main__`. This integration suggests that the utility functions are used throughout the improved LSH implementation, enhancing the overall deduplication process.\\n\\nAdditionally, the `Utils.Utils` module provides several helper functions like `clean_document` for text normalization and `split_dict` for data manipulation, which are likely used at various stages of the deduplication process controlled by `Deduplication.__Main__`. The module also implements a majority voting system with the `majority_vote` function, which could be used for consensus-based decision making in the deduplication algorithm.\\n\\nOverall, the `Utils.Utils` module serves as a foundational toolkit, providing essential functions and data structures that enable the core deduplication and similarity analysis functionalities implemented in `Deduplication.__Main__` and related modules.', name='generate_text_response', id='b7bdc4c0-c7e9-46a3-af94-0ed4f24b77fa', tool_call_id='call_i2L6ohN673BPGEOnIuTDnJud'),\n",
       "  AIMessage(content=\"The `Utils.Utils` module is intricately related to the `Deduplication.__Main__` module, serving as a foundational toolkit with multiple significant interactions:\\n\\n1. **UnionFind for Document Clustering**:\\n   - The `Utils.Utils.Unionfind` class is crucial for clustering documents based on candidate pairs identified by LSH processes in `Deduplication.__Main__`. It is used within `Utils.Use_Cases.Collection_Deduplication`.\\n\\n2. **Data Input Processing**:\\n   - The `Read_Tsv` function from `Utils.Utils` reads TSV files and converts them into a format usable by `Deduplication.__Main__`, typically at the pipeline's start.\\n\\n3. **MinHash Signature Generation**:\\n   - The `Minhash` function forms MinHash signatures crucial for similarity estimation, interacting with `Deduplication.Lsh.Lsh.Compute_Minhash_Signatures`, likely within the `compute_minhash_signatures` method invoked by `Deduplication.__Main__`.\\n\\n4. **Document Preprocessing**:\\n   - The `Shingle` function generates k-shingles, vital for deduplication and nearest neighbor search processes in `Deduplication.__Main__`, and is used in `Utils.Use_Cases.Nearest_Neighbor_Search`.\\n\\n5. **Module Integration**:\\n   - The `Utils.Utils` module is imported by `Deduplication.Lshimproved`, which further imports `Deduplication.__Main__`, enhancing integration in improved LSH implementations.\\n\\nThe `Utils.Utils` module also includes helper functions like `clean_document` and `split_dict` for text normalization and data manipulation, respectively. These are likely utilized throughout the deduplication process managed by `Deduplication.__Main__`. Additionally, the `majority_vote` function in `Utils.Utils` may facilitate consensus-based decisions in the deduplication algorithms.\\n\\n### Visualization Summary\\nThe visualization of the relationship between these modules includes 22 unique nodes and 44 edges, highlighting relationships such as `IMPORTS`, `USES`, and `DEFINES`, which illustrate the interplay and dependencies between the `Utils.Utils` and `Deduplication.__Main__` modules.\\n\\nIf you need to see the visualization in detail, please let me know!\", additional_kwargs={'refusal': None}, response_metadata={'token_usage': {'completion_tokens': 461, 'prompt_tokens': 21351, 'total_tokens': 21812, 'completion_tokens_details': {'accepted_prediction_tokens': 0, 'audio_tokens': 0, 'reasoning_tokens': 0, 'rejected_prediction_tokens': 0}, 'prompt_tokens_details': {'audio_tokens': 0, 'cached_tokens': 17792}}, 'model_name': 'gpt-4o-2024-08-06', 'system_fingerprint': 'fp_85bc8e3fae', 'finish_reason': 'stop', 'logprobs': None}, id='run-4d56fb54-9b58-4d11-b9ab-cff9a5715e9e-0', usage_metadata={'input_tokens': 21351, 'output_tokens': 461, 'total_tokens': 21812, 'input_token_details': {'audio': 0, 'cache_read': 17792}, 'output_token_details': {'audio': 0, 'reasoning': 0}})]}"
      ]
     },
     "execution_count": 4,
     "metadata": {},
     "output_type": "execute_result"
    }
   ],
   "source": [
    "answer"
   ]
  },
  {
   "cell_type": "code",
   "execution_count": null,
   "id": "4e262e11",
   "metadata": {},
   "outputs": [],
   "source": []
  },
  {
   "cell_type": "markdown",
   "id": "26c5fbac",
   "metadata": {},
   "source": [
    "# Entire Agent Demo"
   ]
  },
  {
   "cell_type": "code",
   "execution_count": 6,
   "id": "af1578ba",
   "metadata": {},
   "outputs": [
    {
     "name": "stdout",
     "output_type": "stream",
     "text": [
      "c:\\Users\\JaeHoBahng\\Desktop\\Georgetown\\2025_Spring\\DSAN_6725\\project\\spring-2025-final-project-project-group-2\\src\n",
      "c:\\Users\\JaeHoBahng\\Desktop\\Georgetown\\2025_Spring\\DSAN_6725\\project\\spring-2025-final-project-project-group-2\\src\n"
     ]
    }
   ],
   "source": [
    "import os\n",
    "print(os.getcwd())\n",
    "os.chdir('c:\\\\Users\\\\JaeHoBahng\\\\Desktop\\\\Georgetown\\\\2025_Spring\\\\DSAN_6725\\\\project\\\\spring-2025-final-project-project-group-2\\\\src')\n",
    "print(os.getcwd())\n"
   ]
  },
  {
   "cell_type": "code",
   "execution_count": 5,
   "id": "9ade5ea7",
   "metadata": {},
   "outputs": [
    {
     "name": "stdout",
     "output_type": "stream",
     "text": [
      "c:\\Users\\JaeHoBahng\\Desktop\\Georgetown\\2025_Spring\\DSAN_6725\\project\\spring-2025-final-project-project-group-2\\src\n",
      "c:\\Users\\JaeHoBahng\\Desktop\\Georgetown\\2025_Spring\\DSAN_6725\\project\\spring-2025-final-project-project-group-2\\src\n"
     ]
    }
   ],
   "source": [
    "import os\n",
    "print(os.getcwd())\n",
    "os.chdir('c:\\\\Users\\\\JaeHoBahng\\\\Desktop\\\\Georgetown\\\\2025_Spring\\\\DSAN_6725\\\\project\\\\spring-2025-final-project-project-group-2\\\\src')\n",
    "print(os.getcwd())\n",
    "\n",
    "\n",
    "from rag.vector_rag import create_rag_system\n",
    "\n",
    "db_setup, query_engine = create_rag_system(\n",
    "    repo_path=\"../docs/notebooks/assignment-2-mcdonald-s/src\",\n",
    "    embedding_model=\"text-embedding-3-large\",\n",
    "    llm_model=\"gpt-4o\",\n",
    ")"
   ]
  },
  {
   "cell_type": "code",
   "execution_count": null,
   "id": "04b814c4",
   "metadata": {},
   "outputs": [
    {
     "name": "stdout",
     "output_type": "stream",
     "text": [
      "\u001b[90m2025-04-24 21:24:25\u001b[0m - \u001b[36magent_router\u001b[0m - \u001b[92mINFO\u001b[0m - Building the router graph...\n",
      "\u001b[90m2025-04-24 21:24:25\u001b[0m - \u001b[36magent_router\u001b[0m - \u001b[92mINFO\u001b[0m - Compiling the router graph...\n"
     ]
    }
   ],
   "source": [
    "# from agent_router import create_router_graph\n",
    "import agent_router.graph as agent_router\n",
    "from langchain_core.messages import AIMessage, HumanMessage\n",
    "from langchain.chat_models import init_chat_model\n",
    "\n",
    "import  tools.micro.tools as mt\n",
    "\n",
    "import importlib\n",
    "importlib.reload(mt)\n",
    "importlib.reload(agent_router)\n",
    "\n",
    "# import (retrieve_cypher_relationships, visualize_relationships, generate_text_response)\n",
    "\n",
    "llm = init_chat_model(\"gpt-4o\", model_provider=\"openai\")\n",
    "\n",
    "macro_tools = [\n",
    "    # generate_repo_tree,\n",
    "    # read_code_file,\n",
    "    # list_python_files,\n",
    "    # explain_code_logic,\n",
    "]\n",
    "\n",
    "# Add micro tools if available\n",
    "mt.query_engine = query_engine\n",
    "\n",
    "micro_tools = [\n",
    "    mt.retrieve_cypher_relationships,\n",
    "    mt.visualize_relationships,\n",
    "    mt.generate_text_response,\n",
    "]\n",
    "graph = agent_router.create_router_graph(\n",
    "            llm=llm, macro_tools=macro_tools, micro_tools=micro_tools\n",
    "        )"
   ]
  },
  {
   "cell_type": "code",
   "execution_count": 9,
   "id": "6f467793",
   "metadata": {},
   "outputs": [],
   "source": [
    "import uuid\n",
    "thread_id = str(uuid.uuid4())\n",
    "config = {\"configurable\": {\"thread_id\": thread_id}}"
   ]
  },
  {
   "cell_type": "code",
   "execution_count": 10,
   "id": "ce8ec6da",
   "metadata": {},
   "outputs": [
    {
     "name": "stdout",
     "output_type": "stream",
     "text": [
      "\u001b[90m2025-04-24 21:24:29\u001b[0m - \u001b[36magent_router\u001b[0m - \u001b[92mINFO\u001b[0m - Supervisor decided to route to: micro\n",
      "\u001b[90m2025-04-24 21:24:29\u001b[0m - \u001b[36magent_router\u001b[0m - \u001b[92mINFO\u001b[0m - Micro agent is processing...\n",
      "\u001b[90m2025-04-24 21:24:42\u001b[0m - \u001b[36magent_router\u001b[0m - \u001b[92mINFO\u001b[0m - Tool Call: Cypher query generated -> {'answer': '- The `Utils.Utils` module is defined in the `Utils.Utils.Unionfind`, which uses `Utils.Use_Cases.Collection_Deduplication`. This is part of `Utils.Use_Cases` that defines `Utils.Use_Cases.Nearest_Neighbor_Search`, all of which are imported into the `Deduplication.__Main__` module.\\n- The `Utils.Utils.Unionfind` uses `Utils.Use_Cases.Collection_Deduplication`; this, in turn, is indirectly used in `Deduplication.__Main__`.\\n- The functionality in `Utils.Utils` indirectly influences parts of `Deduplication.__Main__` through its associations with `Utils.Utils.Read_Tsv` and various other modules that are part of `Deduplication`.\\n- The `Deduplication.__Main__.Model` defined in `Deduplication.__Main__` uses various implementations in `Deduplication.Lshforest.Lshforest`, `Deduplication.Lshimproved.Lshimproved`, and `Deduplication.Lsh.Lsh`, all of which are connected to `Utils.Utils` through indirect usage pathways.\\n- Additionally, `Utils.Utils` is connected to logging and memory usage functions within `Deduplication.__Main__`, as well as interactions with `Psutil` and `Os`, which are used in `Deduplication.__Main__.Log_Memory_Usage`.', 'steps': ['generate_cypher', 'execute_cypher', 'generate_final_answer'], 'cypher_statement': \"MATCH path = (m1:Module {id: 'Utils.Utils'})-[*..10]-(m2:Module {id: 'Deduplication.__Main__'}) RETURN path LIMIT 50\", 'cypher_results': [{'path': [{'id': 'Utils.Utils'}, 'DEFINED_IN', {'id': 'Utils.Utils.Unionfind'}, 'USES', {'id': 'Utils.Use_Cases.Collection_Deduplication'}, 'DEFINES', {'id': 'Utils.Use_Cases'}, 'DEFINES', {'id': 'Utils.Use_Cases.Nearest_Neighbor_Search'}, 'IMPORTED_IN', {'id': 'Deduplication.__Main__'}]}, {'path': [{'id': 'Utils.Utils'}, 'DEFINED_IN', {'id': 'Utils.Utils.Unionfind'}, 'USES', {'id': 'Utils.Use_Cases.Collection_Deduplication'}, 'DEFINES', {'id': 'Utils.Use_Cases'}, 'DEFINES', {'id': 'Utils.Use_Cases.Nearest_Neighbor_Search'}, 'IMPORTED_IN', {'id': 'Deduplication.__Main__'}, 'INDIRECTLY_USED_IN', {'id': 'Utils.Use_Cases.Collection_Deduplication'}, 'IMPORTED_IN', {'id': 'Deduplication.__Main__'}]}, {'path': [{'id': 'Utils.Utils'}, 'DEFINED_IN', {'id': 'Utils.Utils.Unionfind'}, 'USES', {'id': 'Utils.Use_Cases.Collection_Deduplication'}, 'DEFINES', {'id': 'Utils.Use_Cases'}, 'DEFINES', {'id': 'Utils.Use_Cases.Nearest_Neighbor_Search'}, 'IMPORTED_IN', {'id': 'Deduplication.__Main__'}, 'INDIRECTLY_USED_IN', {'id': 'Utils.Use_Cases.Collection_Deduplication'}, 'IMPORTED_IN', {'id': 'Deduplication.__Main__'}, 'INDIRECTLY_USED_IN', {'id': 'Utils.Utils.Read_Tsv'}, 'IMPORTED_IN', {'id': 'Deduplication.__Main__'}]}, {'path': [{'id': 'Utils.Utils'}, 'DEFINED_IN', {'id': 'Utils.Utils.Unionfind'}, 'USES', {'id': 'Utils.Use_Cases.Collection_Deduplication'}, 'DEFINES', {'id': 'Utils.Use_Cases'}, 'DEFINES', {'id': 'Utils.Use_Cases.Nearest_Neighbor_Search'}, 'IMPORTED_IN', {'id': 'Deduplication.__Main__'}, 'INDIRECTLY_USED_IN', {'id': 'Utils.Use_Cases.Collection_Deduplication'}, 'IMPORTED_IN', {'id': 'Deduplication.__Main__'}, 'IMPORTED_IN', {'id': 'Utils.Utils.Read_Tsv'}, 'INDIRECTLY_USED_IN', {'id': 'Deduplication.__Main__'}]}, {'path': [{'id': 'Utils.Utils'}, 'DEFINED_IN', {'id': 'Utils.Utils.Unionfind'}, 'USES', {'id': 'Utils.Use_Cases.Collection_Deduplication'}, 'DEFINES', {'id': 'Utils.Use_Cases'}, 'DEFINES', {'id': 'Utils.Use_Cases.Nearest_Neighbor_Search'}, 'IMPORTED_IN', {'id': 'Deduplication.__Main__'}, 'INDIRECTLY_USED_IN', {'id': 'Utils.Use_Cases.Collection_Deduplication'}, 'IMPORTED_IN', {'id': 'Deduplication.__Main__'}, 'IMPORTED_IN', {'id': 'Deduplication.Lshforest.Lshforest'}, 'USED_IN', {'id': 'Deduplication.__Main__.Model'}, 'DEFINED_IN', {'id': 'Deduplication.__Main__'}]}, {'path': [{'id': 'Utils.Utils'}, 'DEFINED_IN', {'id': 'Utils.Utils.Unionfind'}, 'USES', {'id': 'Utils.Use_Cases.Collection_Deduplication'}, 'DEFINES', {'id': 'Utils.Use_Cases'}, 'DEFINES', {'id': 'Utils.Use_Cases.Nearest_Neighbor_Search'}, 'IMPORTED_IN', {'id': 'Deduplication.__Main__'}, 'INDIRECTLY_USED_IN', {'id': 'Utils.Use_Cases.Collection_Deduplication'}, 'IMPORTED_IN', {'id': 'Deduplication.__Main__'}, 'IMPORTED_IN', {'id': 'Deduplication.Lshimproved.Lshimproved'}, 'USED_IN', {'id': 'Deduplication.__Main__.Model'}, 'DEFINED_IN', {'id': 'Deduplication.__Main__'}]}, {'path': [{'id': 'Utils.Utils'}, 'DEFINED_IN', {'id': 'Utils.Utils.Unionfind'}, 'USES', {'id': 'Utils.Use_Cases.Collection_Deduplication'}, 'DEFINES', {'id': 'Utils.Use_Cases'}, 'DEFINES', {'id': 'Utils.Use_Cases.Nearest_Neighbor_Search'}, 'IMPORTED_IN', {'id': 'Deduplication.__Main__'}, 'INDIRECTLY_USED_IN', {'id': 'Utils.Use_Cases.Collection_Deduplication'}, 'IMPORTED_IN', {'id': 'Deduplication.__Main__'}, 'IMPORTED_IN', {'id': 'Deduplication.Lsh.Lsh'}, 'RETURNS_INSTANCE_OF', {'id': 'Deduplication.__Main__.Model'}, 'DEFINED_IN', {'id': 'Deduplication.__Main__'}]}, {'path': [{'id': 'Utils.Utils'}, 'DEFINED_IN', {'id': 'Utils.Utils.Unionfind'}, 'USES', {'id': 'Utils.Use_Cases.Collection_Deduplication'}, 'DEFINES', {'id': 'Utils.Use_Cases'}, 'DEFINES', {'id': 'Utils.Use_Cases.Nearest_Neighbor_Search'}, 'IMPORTED_IN', {'id': 'Deduplication.__Main__'}, 'INDIRECTLY_USED_IN', {'id': 'Utils.Use_Cases.Collection_Deduplication'}, 'IMPORTED_IN', {'id': 'Deduplication.__Main__'}, 'IMPORTED_IN', {'id': 'Deduplication.Lsh.Lsh'}, 'USED_IN', {'id': 'Deduplication.__Main__.Model'}, 'DEFINED_IN', {'id': 'Deduplication.__Main__'}]}, {'path': [{'id': 'Utils.Utils'}, 'DEFINED_IN', {'id': 'Utils.Utils.Unionfind'}, 'USES', {'id': 'Utils.Use_Cases.Collection_Deduplication'}, 'DEFINES', {'id': 'Utils.Use_Cases'}, 'DEFINES', {'id': 'Utils.Use_Cases.Nearest_Neighbor_Search'}, 'IMPORTED_IN', {'id': 'Deduplication.__Main__'}, 'INDIRECTLY_USED_IN', {'id': 'Utils.Use_Cases.Collection_Deduplication'}, 'IMPORTED_IN', {'id': 'Deduplication.__Main__'}, 'USED_IN', {'id': 'Psutil'}, 'USED_IN', {'id': 'Deduplication.__Main__.Log_Memory_Usage'}, 'DEFINED_IN', {'id': 'Deduplication.__Main__'}]}, {'path': [{'id': 'Utils.Utils'}, 'DEFINED_IN', {'id': 'Utils.Utils.Unionfind'}, 'USES', {'id': 'Utils.Use_Cases.Collection_Deduplication'}, 'DEFINES', {'id': 'Utils.Use_Cases'}, 'DEFINES', {'id': 'Utils.Use_Cases.Nearest_Neighbor_Search'}, 'IMPORTED_IN', {'id': 'Deduplication.__Main__'}, 'INDIRECTLY_USED_IN', {'id': 'Utils.Use_Cases.Collection_Deduplication'}, 'IMPORTED_IN', {'id': 'Deduplication.__Main__'}, 'USED_IN', {'id': 'Os'}, 'USED_IN', {'id': 'Deduplication.__Main__.Log_Memory_Usage'}, 'DEFINED_IN', {'id': 'Deduplication.__Main__'}]}, {'path': [{'id': 'Utils.Utils'}, 'DEFINED_IN', {'id': 'Utils.Utils.Unionfind'}, 'USES', {'id': 'Utils.Use_Cases.Collection_Deduplication'}, 'DEFINES', {'id': 'Utils.Use_Cases'}, 'DEFINES', {'id': 'Utils.Use_Cases.Nearest_Neighbor_Search'}, 'IMPORTED_IN', {'id': 'Deduplication.__Main__'}, 'INDIRECTLY_USED_IN', {'id': 'Utils.Use_Cases.Collection_Deduplication'}, 'IMPORTED_IN', {'id': 'Deduplication.__Main__'}, 'USED_IN', {'id': 'Logging'}, 'USED_IN', {'id': 'Deduplication.__Main__.Model'}, 'DEFINED_IN', {'id': 'Deduplication.__Main__'}]}, {'path': [{'id': 'Utils.Utils'}, 'DEFINED_IN', {'id': 'Utils.Utils.Unionfind'}, 'USES', {'id': 'Utils.Use_Cases.Collection_Deduplication'}, 'DEFINES', {'id': 'Utils.Use_Cases'}, 'DEFINES', {'id': 'Utils.Use_Cases.Nearest_Neighbor_Search'}, 'IMPORTED_IN', {'id': 'Deduplication.__Main__'}, 'INDIRECTLY_USED_IN', {'id': 'Utils.Use_Cases.Collection_Deduplication'}, 'IMPORTED_IN', {'id': 'Deduplication.__Main__'}, 'USED_IN', {'id': 'Logging'}, 'USED_IN', {'id': 'Deduplication.__Main__.Log_Memory_Usage'}, 'DEFINED_IN', {'id': 'Deduplication.__Main__'}]}, {'path': [{'id': 'Utils.Utils'}, 'DEFINED_IN', {'id': 'Utils.Utils.Unionfind'}, 'USES', {'id': 'Utils.Use_Cases.Collection_Deduplication'}, 'DEFINES', {'id': 'Utils.Use_Cases'}, 'DEFINES', {'id': 'Utils.Use_Cases.Nearest_Neighbor_Search'}, 'IMPORTED_IN', {'id': 'Deduplication.__Main__'}, 'INDIRECTLY_USED_IN', {'id': 'Utils.Use_Cases.Collection_Deduplication'}, 'IMPORTED_IN', {'id': 'Deduplication.__Main__'}, 'USED_IN', {'id': 'Time'}, 'USED_IN', {'id': 'Deduplication.__Main__.Model'}, 'DEFINED_IN', {'id': 'Deduplication.__Main__'}]}, {'path': [{'id': 'Utils.Utils'}, 'DEFINED_IN', {'id': 'Utils.Utils.Unionfind'}, 'USES', {'id': 'Utils.Use_Cases.Collection_Deduplication'}, 'DEFINES', {'id': 'Utils.Use_Cases'}, 'DEFINES', {'id': 'Utils.Use_Cases.Nearest_Neighbor_Search'}, 'IMPORTED_IN', {'id': 'Deduplication.__Main__'}, 'INDIRECTLY_USED_IN', {'id': 'Utils.Use_Cases.Collection_Deduplication'}, 'IMPORTED_IN', {'id': 'Deduplication.__Main__'}, 'DEFINED_IN', {'id': 'Deduplication.__Main__.Model'}, 'RETURNS_INSTANCE_OF', {'id': 'Deduplication.Lsh.Lsh'}, 'IMPORTED_IN', {'id': 'Deduplication.__Main__'}]}, {'path': [{'id': 'Utils.Utils'}, 'DEFINED_IN', {'id': 'Utils.Utils.Unionfind'}, 'USES', {'id': 'Utils.Use_Cases.Collection_Deduplication'}, 'DEFINES', {'id': 'Utils.Use_Cases'}, 'DEFINES', {'id': 'Utils.Use_Cases.Nearest_Neighbor_Search'}, 'IMPORTED_IN', {'id': 'Deduplication.__Main__'}, 'INDIRECTLY_USED_IN', {'id': 'Utils.Use_Cases.Collection_Deduplication'}, 'IMPORTED_IN', {'id': 'Deduplication.__Main__'}, 'DEFINED_IN', {'id': 'Deduplication.__Main__.Model'}, 'USED_IN', {'id': 'Deduplication.Lshforest.Lshforest'}, 'IMPORTED_IN', {'id': 'Deduplication.__Main__'}]}, {'path': [{'id': 'Utils.Utils'}, 'DEFINED_IN', {'id': 'Utils.Utils.Unionfind'}, 'USES', {'id': 'Utils.Use_Cases.Collection_Deduplication'}, 'DEFINES', {'id': 'Utils.Use_Cases'}, 'DEFINES', {'id': 'Utils.Use_Cases.Nearest_Neighbor_Search'}, 'IMPORTED_IN', {'id': 'Deduplication.__Main__'}, 'INDIRECTLY_USED_IN', {'id': 'Utils.Use_Cases.Collection_Deduplication'}, 'IMPORTED_IN', {'id': 'Deduplication.__Main__'}, 'DEFINED_IN', {'id': 'Deduplication.__Main__.Model'}, 'USED_IN', {'id': 'Deduplication.Lshimproved.Lshimproved'}, 'IMPORTED_IN', {'id': 'Deduplication.__Main__'}]}, {'path': [{'id': 'Utils.Utils'}, 'DEFINED_IN', {'id': 'Utils.Utils.Unionfind'}, 'USES', {'id': 'Utils.Use_Cases.Collection_Deduplication'}, 'DEFINES', {'id': 'Utils.Use_Cases'}, 'DEFINES', {'id': 'Utils.Use_Cases.Nearest_Neighbor_Search'}, 'IMPORTED_IN', {'id': 'Deduplication.__Main__'}, 'INDIRECTLY_USED_IN', {'id': 'Utils.Use_Cases.Collection_Deduplication'}, 'IMPORTED_IN', {'id': 'Deduplication.__Main__'}, 'DEFINED_IN', {'id': 'Deduplication.__Main__.Model'}, 'USED_IN', {'id': 'Deduplication.Lsh.Lsh'}, 'IMPORTED_IN', {'id': 'Deduplication.__Main__'}]}, {'path': [{'id': 'Utils.Utils'}, 'DEFINED_IN', {'id': 'Utils.Utils.Unionfind'}, 'USES', {'id': 'Utils.Use_Cases.Collection_Deduplication'}, 'DEFINES', {'id': 'Utils.Use_Cases'}, 'DEFINES', {'id': 'Utils.Use_Cases.Nearest_Neighbor_Search'}, 'IMPORTED_IN', {'id': 'Deduplication.__Main__'}, 'INDIRECTLY_USED_IN', {'id': 'Utils.Use_Cases.Collection_Deduplication'}, 'IMPORTED_IN', {'id': 'Deduplication.__Main__'}, 'DEFINED_IN', {'id': 'Deduplication.__Main__.Model'}, 'USED_IN', {'id': 'Logging'}, 'USED_IN', {'id': 'Deduplication.__Main__'}]}, {'path': [{'id': 'Utils.Utils'}, 'DEFINED_IN', {'id': 'Utils.Utils.Unionfind'}, 'USES', {'id': 'Utils.Use_Cases.Collection_Deduplication'}, 'DEFINES', {'id': 'Utils.Use_Cases'}, 'DEFINES', {'id': 'Utils.Use_Cases.Nearest_Neighbor_Search'}, 'IMPORTED_IN', {'id': 'Deduplication.__Main__'}, 'INDIRECTLY_USED_IN', {'id': 'Utils.Use_Cases.Collection_Deduplication'}, 'IMPORTED_IN', {'id': 'Deduplication.__Main__'}, 'DEFINED_IN', {'id': 'Deduplication.__Main__.Model'}, 'USED_IN', {'id': 'Time'}, 'USED_IN', {'id': 'Deduplication.__Main__'}]}, {'path': [{'id': 'Utils.Utils'}, 'DEFINED_IN', {'id': 'Utils.Utils.Unionfind'}, 'USES', {'id': 'Utils.Use_Cases.Collection_Deduplication'}, 'DEFINES', {'id': 'Utils.Use_Cases'}, 'DEFINES', {'id': 'Utils.Use_Cases.Nearest_Neighbor_Search'}, 'IMPORTED_IN', {'id': 'Deduplication.__Main__'}, 'INDIRECTLY_USED_IN', {'id': 'Utils.Use_Cases.Collection_Deduplication'}, 'IMPORTED_IN', {'id': 'Deduplication.__Main__'}, 'DEFINED_IN', {'id': 'Deduplication.__Main__.Log_Memory_Usage'}, 'USED_IN', {'id': 'Psutil'}, 'USED_IN', {'id': 'Deduplication.__Main__'}]}, {'path': [{'id': 'Utils.Utils'}, 'DEFINED_IN', {'id': 'Utils.Utils.Unionfind'}, 'USES', {'id': 'Utils.Use_Cases.Collection_Deduplication'}, 'DEFINES', {'id': 'Utils.Use_Cases'}, 'DEFINES', {'id': 'Utils.Use_Cases.Nearest_Neighbor_Search'}, 'IMPORTED_IN', {'id': 'Deduplication.__Main__'}, 'INDIRECTLY_USED_IN', {'id': 'Utils.Use_Cases.Collection_Deduplication'}, 'IMPORTED_IN', {'id': 'Deduplication.__Main__'}, 'DEFINED_IN', {'id': 'Deduplication.__Main__.Log_Memory_Usage'}, 'USED_IN', {'id': 'Os'}, 'USED_IN', {'id': 'Deduplication.__Main__'}]}, {'path': [{'id': 'Utils.Utils'}, 'DEFINED_IN', {'id': 'Utils.Utils.Unionfind'}, 'USES', {'id': 'Utils.Use_Cases.Collection_Deduplication'}, 'DEFINES', {'id': 'Utils.Use_Cases'}, 'DEFINES', {'id': 'Utils.Use_Cases.Nearest_Neighbor_Search'}, 'IMPORTED_IN', {'id': 'Deduplication.__Main__'}, 'INDIRECTLY_USED_IN', {'id': 'Utils.Use_Cases.Collection_Deduplication'}, 'IMPORTED_IN', {'id': 'Deduplication.__Main__'}, 'DEFINED_IN', {'id': 'Deduplication.__Main__.Log_Memory_Usage'}, 'USED_IN', {'id': 'Logging'}, 'USED_IN', {'id': 'Deduplication.__Main__'}]}, {'path': [{'id': 'Utils.Utils'}, 'DEFINED_IN', {'id': 'Utils.Utils.Unionfind'}, 'USES', {'id': 'Utils.Use_Cases.Collection_Deduplication'}, 'DEFINES', {'id': 'Utils.Use_Cases'}, 'DEFINES', {'id': 'Utils.Use_Cases.Nearest_Neighbor_Search'}, 'IMPORTED_IN', {'id': 'Deduplication.__Main__'}, 'INDIRECTLY_USED_IN', {'id': 'Utils.Use_Cases.Collection_Deduplication'}, 'USES', {'id': 'Collections'}, 'USED_IN', {'id': 'Deduplication.Dedup.Baseline.Tokenize'}, 'DEFINED_IN', {'id': 'Deduplication.Dedup.Baseline'}, 'IMPORTED_IN', {'id': 'Deduplication.__Main__'}]}, {'path': [{'id': 'Utils.Utils'}, 'DEFINED_IN', {'id': 'Utils.Utils.Unionfind'}, 'USES', {'id': 'Utils.Use_Cases.Collection_Deduplication'}, 'DEFINES', {'id': 'Utils.Use_Cases'}, 'DEFINES', {'id': 'Utils.Use_Cases.Nearest_Neighbor_Search'}, 'IMPORTED_IN', {'id': 'Deduplication.__Main__'}, 'INDIRECTLY_USED_IN', {'id': 'Utils.Utils.Read_Tsv'}, 'IMPORTED_IN', {'id': 'Deduplication.__Main__'}]}, {'path': [{'id': 'Utils.Utils'}, 'DEFINED_IN', {'id': 'Utils.Utils.Unionfind'}, 'USES', {'id': 'Utils.Use_Cases.Collection_Deduplication'}, 'DEFINES', {'id': 'Utils.Use_Cases'}, 'DEFINES', {'id': 'Utils.Use_Cases.Nearest_Neighbor_Search'}, 'IMPORTED_IN', {'id': 'Deduplication.__Main__'}, 'INDIRECTLY_USED_IN', {'id': 'Utils.Utils.Read_Tsv'}, 'IMPORTED_IN', {'id': 'Deduplication.__Main__'}, 'INDIRECTLY_USED_IN', {'id': 'Utils.Use_Cases.Collection_Deduplication'}, 'IMPORTED_IN', {'id': 'Deduplication.__Main__'}]}, {'path': [{'id': 'Utils.Utils'}, 'DEFINED_IN', {'id': 'Utils.Utils.Unionfind'}, 'USES', {'id': 'Utils.Use_Cases.Collection_Deduplication'}, 'DEFINES', {'id': 'Utils.Use_Cases'}, 'DEFINES', {'id': 'Utils.Use_Cases.Nearest_Neighbor_Search'}, 'IMPORTED_IN', {'id': 'Deduplication.__Main__'}, 'INDIRECTLY_USED_IN', {'id': 'Utils.Utils.Read_Tsv'}, 'IMPORTED_IN', {'id': 'Deduplication.__Main__'}, 'IMPORTED_IN', {'id': 'Utils.Use_Cases.Collection_Deduplication'}, 'INDIRECTLY_USED_IN', {'id': 'Deduplication.__Main__'}]}, {'path': [{'id': 'Utils.Utils'}, 'DEFINED_IN', {'id': 'Utils.Utils.Unionfind'}, 'USES', {'id': 'Utils.Use_Cases.Collection_Deduplication'}, 'DEFINES', {'id': 'Utils.Use_Cases'}, 'DEFINES', {'id': 'Utils.Use_Cases.Nearest_Neighbor_Search'}, 'IMPORTED_IN', {'id': 'Deduplication.__Main__'}, 'INDIRECTLY_USED_IN', {'id': 'Utils.Utils.Read_Tsv'}, 'IMPORTED_IN', {'id': 'Deduplication.__Main__'}, 'IMPORTED_IN', {'id': 'Deduplication.Lshforest.Lshforest'}, 'USED_IN', {'id': 'Deduplication.__Main__.Model'}, 'DEFINED_IN', {'id': 'Deduplication.__Main__'}]}, {'path': [{'id': 'Utils.Utils'}, 'DEFINED_IN', {'id': 'Utils.Utils.Unionfind'}, 'USES', {'id': 'Utils.Use_Cases.Collection_Deduplication'}, 'DEFINES', {'id': 'Utils.Use_Cases'}, 'DEFINES', {'id': 'Utils.Use_Cases.Nearest_Neighbor_Search'}, 'IMPORTED_IN', {'id': 'Deduplication.__Main__'}, 'INDIRECTLY_USED_IN', {'id': 'Utils.Utils.Read_Tsv'}, 'IMPORTED_IN', {'id': 'Deduplication.__Main__'}, 'IMPORTED_IN', {'id': 'Deduplication.Lshimproved.Lshimproved'}, 'USED_IN', {'id': 'Deduplication.__Main__.Model'}, 'DEFINED_IN', {'id': 'Deduplication.__Main__'}]}, {'path': [{'id': 'Utils.Utils'}, 'DEFINED_IN', {'id': 'Utils.Utils.Unionfind'}, 'USES', {'id': 'Utils.Use_Cases.Collection_Deduplication'}, 'DEFINES', {'id': 'Utils.Use_Cases'}, 'DEFINES', {'id': 'Utils.Use_Cases.Nearest_Neighbor_Search'}, 'IMPORTED_IN', {'id': 'Deduplication.__Main__'}, 'INDIRECTLY_USED_IN', {'id': 'Utils.Utils.Read_Tsv'}, 'IMPORTED_IN', {'id': 'Deduplication.__Main__'}, 'IMPORTED_IN', {'id': 'Deduplication.Lsh.Lsh'}, 'RETURNS_INSTANCE_OF', {'id': 'Deduplication.__Main__.Model'}, 'DEFINED_IN', {'id': 'Deduplication.__Main__'}]}, {'path': [{'id': 'Utils.Utils'}, 'DEFINED_IN', {'id': 'Utils.Utils.Unionfind'}, 'USES', {'id': 'Utils.Use_Cases.Collection_Deduplication'}, 'DEFINES', {'id': 'Utils.Use_Cases'}, 'DEFINES', {'id': 'Utils.Use_Cases.Nearest_Neighbor_Search'}, 'IMPORTED_IN', {'id': 'Deduplication.__Main__'}, 'INDIRECTLY_USED_IN', {'id': 'Utils.Utils.Read_Tsv'}, 'IMPORTED_IN', {'id': 'Deduplication.__Main__'}, 'IMPORTED_IN', {'id': 'Deduplication.Lsh.Lsh'}, 'USED_IN', {'id': 'Deduplication.__Main__.Model'}, 'DEFINED_IN', {'id': 'Deduplication.__Main__'}]}, {'path': [{'id': 'Utils.Utils'}, 'DEFINED_IN', {'id': 'Utils.Utils.Unionfind'}, 'USES', {'id': 'Utils.Use_Cases.Collection_Deduplication'}, 'DEFINES', {'id': 'Utils.Use_Cases'}, 'DEFINES', {'id': 'Utils.Use_Cases.Nearest_Neighbor_Search'}, 'IMPORTED_IN', {'id': 'Deduplication.__Main__'}, 'INDIRECTLY_USED_IN', {'id': 'Utils.Utils.Read_Tsv'}, 'IMPORTED_IN', {'id': 'Deduplication.__Main__'}, 'USED_IN', {'id': 'Psutil'}, 'USED_IN', {'id': 'Deduplication.__Main__.Log_Memory_Usage'}, 'DEFINED_IN', {'id': 'Deduplication.__Main__'}]}, {'path': [{'id': 'Utils.Utils'}, 'DEFINED_IN', {'id': 'Utils.Utils.Unionfind'}, 'USES', {'id': 'Utils.Use_Cases.Collection_Deduplication'}, 'DEFINES', {'id': 'Utils.Use_Cases'}, 'DEFINES', {'id': 'Utils.Use_Cases.Nearest_Neighbor_Search'}, 'IMPORTED_IN', {'id': 'Deduplication.__Main__'}, 'INDIRECTLY_USED_IN', {'id': 'Utils.Utils.Read_Tsv'}, 'IMPORTED_IN', {'id': 'Deduplication.__Main__'}, 'USED_IN', {'id': 'Os'}, 'USED_IN', {'id': 'Deduplication.__Main__.Log_Memory_Usage'}, 'DEFINED_IN', {'id': 'Deduplication.__Main__'}]}, {'path': [{'id': 'Utils.Utils'}, 'DEFINED_IN', {'id': 'Utils.Utils.Unionfind'}, 'USES', {'id': 'Utils.Use_Cases.Collection_Deduplication'}, 'DEFINES', {'id': 'Utils.Use_Cases'}, 'DEFINES', {'id': 'Utils.Use_Cases.Nearest_Neighbor_Search'}, 'IMPORTED_IN', {'id': 'Deduplication.__Main__'}, 'INDIRECTLY_USED_IN', {'id': 'Utils.Utils.Read_Tsv'}, 'IMPORTED_IN', {'id': 'Deduplication.__Main__'}, 'USED_IN', {'id': 'Logging'}, 'USED_IN', {'id': 'Deduplication.__Main__.Model'}, 'DEFINED_IN', {'id': 'Deduplication.__Main__'}]}, {'path': [{'id': 'Utils.Utils'}, 'DEFINED_IN', {'id': 'Utils.Utils.Unionfind'}, 'USES', {'id': 'Utils.Use_Cases.Collection_Deduplication'}, 'DEFINES', {'id': 'Utils.Use_Cases'}, 'DEFINES', {'id': 'Utils.Use_Cases.Nearest_Neighbor_Search'}, 'IMPORTED_IN', {'id': 'Deduplication.__Main__'}, 'INDIRECTLY_USED_IN', {'id': 'Utils.Utils.Read_Tsv'}, 'IMPORTED_IN', {'id': 'Deduplication.__Main__'}, 'USED_IN', {'id': 'Logging'}, 'USED_IN', {'id': 'Deduplication.__Main__.Log_Memory_Usage'}, 'DEFINED_IN', {'id': 'Deduplication.__Main__'}]}, {'path': [{'id': 'Utils.Utils'}, 'DEFINED_IN', {'id': 'Utils.Utils.Unionfind'}, 'USES', {'id': 'Utils.Use_Cases.Collection_Deduplication'}, 'DEFINES', {'id': 'Utils.Use_Cases'}, 'DEFINES', {'id': 'Utils.Use_Cases.Nearest_Neighbor_Search'}, 'IMPORTED_IN', {'id': 'Deduplication.__Main__'}, 'INDIRECTLY_USED_IN', {'id': 'Utils.Utils.Read_Tsv'}, 'IMPORTED_IN', {'id': 'Deduplication.__Main__'}, 'USED_IN', {'id': 'Time'}, 'USED_IN', {'id': 'Deduplication.__Main__.Model'}, 'DEFINED_IN', {'id': 'Deduplication.__Main__'}]}, {'path': [{'id': 'Utils.Utils'}, 'DEFINED_IN', {'id': 'Utils.Utils.Unionfind'}, 'USES', {'id': 'Utils.Use_Cases.Collection_Deduplication'}, 'DEFINES', {'id': 'Utils.Use_Cases'}, 'DEFINES', {'id': 'Utils.Use_Cases.Nearest_Neighbor_Search'}, 'IMPORTED_IN', {'id': 'Deduplication.__Main__'}, 'INDIRECTLY_USED_IN', {'id': 'Utils.Utils.Read_Tsv'}, 'IMPORTED_IN', {'id': 'Deduplication.__Main__'}, 'DEFINED_IN', {'id': 'Deduplication.__Main__.Model'}, 'RETURNS_INSTANCE_OF', {'id': 'Deduplication.Lsh.Lsh'}, 'IMPORTED_IN', {'id': 'Deduplication.__Main__'}]}, {'path': [{'id': 'Utils.Utils'}, 'DEFINED_IN', {'id': 'Utils.Utils.Unionfind'}, 'USES', {'id': 'Utils.Use_Cases.Collection_Deduplication'}, 'DEFINES', {'id': 'Utils.Use_Cases'}, 'DEFINES', {'id': 'Utils.Use_Cases.Nearest_Neighbor_Search'}, 'IMPORTED_IN', {'id': 'Deduplication.__Main__'}, 'INDIRECTLY_USED_IN', {'id': 'Utils.Utils.Read_Tsv'}, 'IMPORTED_IN', {'id': 'Deduplication.__Main__'}, 'DEFINED_IN', {'id': 'Deduplication.__Main__.Model'}, 'USED_IN', {'id': 'Deduplication.Lshforest.Lshforest'}, 'IMPORTED_IN', {'id': 'Deduplication.__Main__'}]}, {'path': [{'id': 'Utils.Utils'}, 'DEFINED_IN', {'id': 'Utils.Utils.Unionfind'}, 'USES', {'id': 'Utils.Use_Cases.Collection_Deduplication'}, 'DEFINES', {'id': 'Utils.Use_Cases'}, 'DEFINES', {'id': 'Utils.Use_Cases.Nearest_Neighbor_Search'}, 'IMPORTED_IN', {'id': 'Deduplication.__Main__'}, 'INDIRECTLY_USED_IN', {'id': 'Utils.Utils.Read_Tsv'}, 'IMPORTED_IN', {'id': 'Deduplication.__Main__'}, 'DEFINED_IN', {'id': 'Deduplication.__Main__.Model'}, 'USED_IN', {'id': 'Deduplication.Lshimproved.Lshimproved'}, 'IMPORTED_IN', {'id': 'Deduplication.__Main__'}]}, {'path': [{'id': 'Utils.Utils'}, 'DEFINED_IN', {'id': 'Utils.Utils.Unionfind'}, 'USES', {'id': 'Utils.Use_Cases.Collection_Deduplication'}, 'DEFINES', {'id': 'Utils.Use_Cases'}, 'DEFINES', {'id': 'Utils.Use_Cases.Nearest_Neighbor_Search'}, 'IMPORTED_IN', {'id': 'Deduplication.__Main__'}, 'INDIRECTLY_USED_IN', {'id': 'Utils.Utils.Read_Tsv'}, 'IMPORTED_IN', {'id': 'Deduplication.__Main__'}, 'DEFINED_IN', {'id': 'Deduplication.__Main__.Model'}, 'USED_IN', {'id': 'Deduplication.Lsh.Lsh'}, 'IMPORTED_IN', {'id': 'Deduplication.__Main__'}]}, {'path': [{'id': 'Utils.Utils'}, 'DEFINED_IN', {'id': 'Utils.Utils.Unionfind'}, 'USES', {'id': 'Utils.Use_Cases.Collection_Deduplication'}, 'DEFINES', {'id': 'Utils.Use_Cases'}, 'DEFINES', {'id': 'Utils.Use_Cases.Nearest_Neighbor_Search'}, 'IMPORTED_IN', {'id': 'Deduplication.__Main__'}, 'INDIRECTLY_USED_IN', {'id': 'Utils.Utils.Read_Tsv'}, 'IMPORTED_IN', {'id': 'Deduplication.__Main__'}, 'DEFINED_IN', {'id': 'Deduplication.__Main__.Model'}, 'USED_IN', {'id': 'Logging'}, 'USED_IN', {'id': 'Deduplication.__Main__'}]}, {'path': [{'id': 'Utils.Utils'}, 'DEFINED_IN', {'id': 'Utils.Utils.Unionfind'}, 'USES', {'id': 'Utils.Use_Cases.Collection_Deduplication'}, 'DEFINES', {'id': 'Utils.Use_Cases'}, 'DEFINES', {'id': 'Utils.Use_Cases.Nearest_Neighbor_Search'}, 'IMPORTED_IN', {'id': 'Deduplication.__Main__'}, 'INDIRECTLY_USED_IN', {'id': 'Utils.Utils.Read_Tsv'}, 'IMPORTED_IN', {'id': 'Deduplication.__Main__'}, 'DEFINED_IN', {'id': 'Deduplication.__Main__.Model'}, 'USED_IN', {'id': 'Time'}, 'USED_IN', {'id': 'Deduplication.__Main__'}]}, {'path': [{'id': 'Utils.Utils'}, 'DEFINED_IN', {'id': 'Utils.Utils.Unionfind'}, 'USES', {'id': 'Utils.Use_Cases.Collection_Deduplication'}, 'DEFINES', {'id': 'Utils.Use_Cases'}, 'DEFINES', {'id': 'Utils.Use_Cases.Nearest_Neighbor_Search'}, 'IMPORTED_IN', {'id': 'Deduplication.__Main__'}, 'INDIRECTLY_USED_IN', {'id': 'Utils.Utils.Read_Tsv'}, 'IMPORTED_IN', {'id': 'Deduplication.__Main__'}, 'DEFINED_IN', {'id': 'Deduplication.__Main__.Log_Memory_Usage'}, 'USED_IN', {'id': 'Psutil'}, 'USED_IN', {'id': 'Deduplication.__Main__'}]}, {'path': [{'id': 'Utils.Utils'}, 'DEFINED_IN', {'id': 'Utils.Utils.Unionfind'}, 'USES', {'id': 'Utils.Use_Cases.Collection_Deduplication'}, 'DEFINES', {'id': 'Utils.Use_Cases'}, 'DEFINES', {'id': 'Utils.Use_Cases.Nearest_Neighbor_Search'}, 'IMPORTED_IN', {'id': 'Deduplication.__Main__'}, 'INDIRECTLY_USED_IN', {'id': 'Utils.Utils.Read_Tsv'}, 'IMPORTED_IN', {'id': 'Deduplication.__Main__'}, 'DEFINED_IN', {'id': 'Deduplication.__Main__.Log_Memory_Usage'}, 'USED_IN', {'id': 'Os'}, 'USED_IN', {'id': 'Deduplication.__Main__'}]}, {'path': [{'id': 'Utils.Utils'}, 'DEFINED_IN', {'id': 'Utils.Utils.Unionfind'}, 'USES', {'id': 'Utils.Use_Cases.Collection_Deduplication'}, 'DEFINES', {'id': 'Utils.Use_Cases'}, 'DEFINES', {'id': 'Utils.Use_Cases.Nearest_Neighbor_Search'}, 'IMPORTED_IN', {'id': 'Deduplication.__Main__'}, 'INDIRECTLY_USED_IN', {'id': 'Utils.Utils.Read_Tsv'}, 'IMPORTED_IN', {'id': 'Deduplication.__Main__'}, 'DEFINED_IN', {'id': 'Deduplication.__Main__.Log_Memory_Usage'}, 'USED_IN', {'id': 'Logging'}, 'USED_IN', {'id': 'Deduplication.__Main__'}]}, {'path': [{'id': 'Utils.Utils'}, 'DEFINED_IN', {'id': 'Utils.Utils.Unionfind'}, 'USES', {'id': 'Utils.Use_Cases.Collection_Deduplication'}, 'DEFINES', {'id': 'Utils.Use_Cases'}, 'DEFINES', {'id': 'Utils.Use_Cases.Nearest_Neighbor_Search'}, 'IMPORTED_IN', {'id': 'Deduplication.__Main__'}, 'IMPORTED_IN', {'id': 'Utils.Use_Cases.Collection_Deduplication'}, 'INDIRECTLY_USED_IN', {'id': 'Deduplication.__Main__'}]}, {'path': [{'id': 'Utils.Utils'}, 'DEFINED_IN', {'id': 'Utils.Utils.Unionfind'}, 'USES', {'id': 'Utils.Use_Cases.Collection_Deduplication'}, 'DEFINES', {'id': 'Utils.Use_Cases'}, 'DEFINES', {'id': 'Utils.Use_Cases.Nearest_Neighbor_Search'}, 'IMPORTED_IN', {'id': 'Deduplication.__Main__'}, 'IMPORTED_IN', {'id': 'Utils.Use_Cases.Collection_Deduplication'}, 'INDIRECTLY_USED_IN', {'id': 'Deduplication.__Main__'}, 'INDIRECTLY_USED_IN', {'id': 'Utils.Utils.Read_Tsv'}, 'IMPORTED_IN', {'id': 'Deduplication.__Main__'}]}, {'path': [{'id': 'Utils.Utils'}, 'DEFINED_IN', {'id': 'Utils.Utils.Unionfind'}, 'USES', {'id': 'Utils.Use_Cases.Collection_Deduplication'}, 'DEFINES', {'id': 'Utils.Use_Cases'}, 'DEFINES', {'id': 'Utils.Use_Cases.Nearest_Neighbor_Search'}, 'IMPORTED_IN', {'id': 'Deduplication.__Main__'}, 'IMPORTED_IN', {'id': 'Utils.Use_Cases.Collection_Deduplication'}, 'INDIRECTLY_USED_IN', {'id': 'Deduplication.__Main__'}, 'IMPORTED_IN', {'id': 'Utils.Utils.Read_Tsv'}, 'INDIRECTLY_USED_IN', {'id': 'Deduplication.__Main__'}]}, {'path': [{'id': 'Utils.Utils'}, 'DEFINED_IN', {'id': 'Utils.Utils.Unionfind'}, 'USES', {'id': 'Utils.Use_Cases.Collection_Deduplication'}, 'DEFINES', {'id': 'Utils.Use_Cases'}, 'DEFINES', {'id': 'Utils.Use_Cases.Nearest_Neighbor_Search'}, 'IMPORTED_IN', {'id': 'Deduplication.__Main__'}, 'IMPORTED_IN', {'id': 'Utils.Use_Cases.Collection_Deduplication'}, 'INDIRECTLY_USED_IN', {'id': 'Deduplication.__Main__'}, 'IMPORTED_IN', {'id': 'Deduplication.Lshforest.Lshforest'}, 'USED_IN', {'id': 'Deduplication.__Main__.Model'}, 'DEFINED_IN', {'id': 'Deduplication.__Main__'}]}, {'path': [{'id': 'Utils.Utils'}, 'DEFINED_IN', {'id': 'Utils.Utils.Unionfind'}, 'USES', {'id': 'Utils.Use_Cases.Collection_Deduplication'}, 'DEFINES', {'id': 'Utils.Use_Cases'}, 'DEFINES', {'id': 'Utils.Use_Cases.Nearest_Neighbor_Search'}, 'IMPORTED_IN', {'id': 'Deduplication.__Main__'}, 'IMPORTED_IN', {'id': 'Utils.Use_Cases.Collection_Deduplication'}, 'INDIRECTLY_USED_IN', {'id': 'Deduplication.__Main__'}, 'IMPORTED_IN', {'id': 'Deduplication.Lshimproved.Lshimproved'}, 'USED_IN', {'id': 'Deduplication.__Main__.Model'}, 'DEFINED_IN', {'id': 'Deduplication.__Main__'}]}, {'path': [{'id': 'Utils.Utils'}, 'DEFINED_IN', {'id': 'Utils.Utils.Unionfind'}, 'USES', {'id': 'Utils.Use_Cases.Collection_Deduplication'}, 'DEFINES', {'id': 'Utils.Use_Cases'}, 'DEFINES', {'id': 'Utils.Use_Cases.Nearest_Neighbor_Search'}, 'IMPORTED_IN', {'id': 'Deduplication.__Main__'}, 'IMPORTED_IN', {'id': 'Utils.Use_Cases.Collection_Deduplication'}, 'INDIRECTLY_USED_IN', {'id': 'Deduplication.__Main__'}, 'IMPORTED_IN', {'id': 'Deduplication.Lsh.Lsh'}, 'RETURNS_INSTANCE_OF', {'id': 'Deduplication.__Main__.Model'}, 'DEFINED_IN', {'id': 'Deduplication.__Main__'}]}]}\n"
     ]
    },
    {
     "name": "stderr",
     "output_type": "stream",
     "text": [
      "\u001b[92mINFO\u001b[0m:agent_router:Tool Call: Cypher query generated -> {'answer': '- The `Utils.Utils` module is defined in the `Utils.Utils.Unionfind`, which uses `Utils.Use_Cases.Collection_Deduplication`. This is part of `Utils.Use_Cases` that defines `Utils.Use_Cases.Nearest_Neighbor_Search`, all of which are imported into the `Deduplication.__Main__` module.\\n- The `Utils.Utils.Unionfind` uses `Utils.Use_Cases.Collection_Deduplication`; this, in turn, is indirectly used in `Deduplication.__Main__`.\\n- The functionality in `Utils.Utils` indirectly influences parts of `Deduplication.__Main__` through its associations with `Utils.Utils.Read_Tsv` and various other modules that are part of `Deduplication`.\\n- The `Deduplication.__Main__.Model` defined in `Deduplication.__Main__` uses various implementations in `Deduplication.Lshforest.Lshforest`, `Deduplication.Lshimproved.Lshimproved`, and `Deduplication.Lsh.Lsh`, all of which are connected to `Utils.Utils` through indirect usage pathways.\\n- Additionally, `Utils.Utils` is connected to logging and memory usage functions within `Deduplication.__Main__`, as well as interactions with `Psutil` and `Os`, which are used in `Deduplication.__Main__.Log_Memory_Usage`.', 'steps': ['generate_cypher', 'execute_cypher', 'generate_final_answer'], 'cypher_statement': \"MATCH path = (m1:Module {id: 'Utils.Utils'})-[*..10]-(m2:Module {id: 'Deduplication.__Main__'}) RETURN path LIMIT 50\", 'cypher_results': [{'path': [{'id': 'Utils.Utils'}, 'DEFINED_IN', {'id': 'Utils.Utils.Unionfind'}, 'USES', {'id': 'Utils.Use_Cases.Collection_Deduplication'}, 'DEFINES', {'id': 'Utils.Use_Cases'}, 'DEFINES', {'id': 'Utils.Use_Cases.Nearest_Neighbor_Search'}, 'IMPORTED_IN', {'id': 'Deduplication.__Main__'}]}, {'path': [{'id': 'Utils.Utils'}, 'DEFINED_IN', {'id': 'Utils.Utils.Unionfind'}, 'USES', {'id': 'Utils.Use_Cases.Collection_Deduplication'}, 'DEFINES', {'id': 'Utils.Use_Cases'}, 'DEFINES', {'id': 'Utils.Use_Cases.Nearest_Neighbor_Search'}, 'IMPORTED_IN', {'id': 'Deduplication.__Main__'}, 'INDIRECTLY_USED_IN', {'id': 'Utils.Use_Cases.Collection_Deduplication'}, 'IMPORTED_IN', {'id': 'Deduplication.__Main__'}]}, {'path': [{'id': 'Utils.Utils'}, 'DEFINED_IN', {'id': 'Utils.Utils.Unionfind'}, 'USES', {'id': 'Utils.Use_Cases.Collection_Deduplication'}, 'DEFINES', {'id': 'Utils.Use_Cases'}, 'DEFINES', {'id': 'Utils.Use_Cases.Nearest_Neighbor_Search'}, 'IMPORTED_IN', {'id': 'Deduplication.__Main__'}, 'INDIRECTLY_USED_IN', {'id': 'Utils.Use_Cases.Collection_Deduplication'}, 'IMPORTED_IN', {'id': 'Deduplication.__Main__'}, 'INDIRECTLY_USED_IN', {'id': 'Utils.Utils.Read_Tsv'}, 'IMPORTED_IN', {'id': 'Deduplication.__Main__'}]}, {'path': [{'id': 'Utils.Utils'}, 'DEFINED_IN', {'id': 'Utils.Utils.Unionfind'}, 'USES', {'id': 'Utils.Use_Cases.Collection_Deduplication'}, 'DEFINES', {'id': 'Utils.Use_Cases'}, 'DEFINES', {'id': 'Utils.Use_Cases.Nearest_Neighbor_Search'}, 'IMPORTED_IN', {'id': 'Deduplication.__Main__'}, 'INDIRECTLY_USED_IN', {'id': 'Utils.Use_Cases.Collection_Deduplication'}, 'IMPORTED_IN', {'id': 'Deduplication.__Main__'}, 'IMPORTED_IN', {'id': 'Utils.Utils.Read_Tsv'}, 'INDIRECTLY_USED_IN', {'id': 'Deduplication.__Main__'}]}, {'path': [{'id': 'Utils.Utils'}, 'DEFINED_IN', {'id': 'Utils.Utils.Unionfind'}, 'USES', {'id': 'Utils.Use_Cases.Collection_Deduplication'}, 'DEFINES', {'id': 'Utils.Use_Cases'}, 'DEFINES', {'id': 'Utils.Use_Cases.Nearest_Neighbor_Search'}, 'IMPORTED_IN', {'id': 'Deduplication.__Main__'}, 'INDIRECTLY_USED_IN', {'id': 'Utils.Use_Cases.Collection_Deduplication'}, 'IMPORTED_IN', {'id': 'Deduplication.__Main__'}, 'IMPORTED_IN', {'id': 'Deduplication.Lshforest.Lshforest'}, 'USED_IN', {'id': 'Deduplication.__Main__.Model'}, 'DEFINED_IN', {'id': 'Deduplication.__Main__'}]}, {'path': [{'id': 'Utils.Utils'}, 'DEFINED_IN', {'id': 'Utils.Utils.Unionfind'}, 'USES', {'id': 'Utils.Use_Cases.Collection_Deduplication'}, 'DEFINES', {'id': 'Utils.Use_Cases'}, 'DEFINES', {'id': 'Utils.Use_Cases.Nearest_Neighbor_Search'}, 'IMPORTED_IN', {'id': 'Deduplication.__Main__'}, 'INDIRECTLY_USED_IN', {'id': 'Utils.Use_Cases.Collection_Deduplication'}, 'IMPORTED_IN', {'id': 'Deduplication.__Main__'}, 'IMPORTED_IN', {'id': 'Deduplication.Lshimproved.Lshimproved'}, 'USED_IN', {'id': 'Deduplication.__Main__.Model'}, 'DEFINED_IN', {'id': 'Deduplication.__Main__'}]}, {'path': [{'id': 'Utils.Utils'}, 'DEFINED_IN', {'id': 'Utils.Utils.Unionfind'}, 'USES', {'id': 'Utils.Use_Cases.Collection_Deduplication'}, 'DEFINES', {'id': 'Utils.Use_Cases'}, 'DEFINES', {'id': 'Utils.Use_Cases.Nearest_Neighbor_Search'}, 'IMPORTED_IN', {'id': 'Deduplication.__Main__'}, 'INDIRECTLY_USED_IN', {'id': 'Utils.Use_Cases.Collection_Deduplication'}, 'IMPORTED_IN', {'id': 'Deduplication.__Main__'}, 'IMPORTED_IN', {'id': 'Deduplication.Lsh.Lsh'}, 'RETURNS_INSTANCE_OF', {'id': 'Deduplication.__Main__.Model'}, 'DEFINED_IN', {'id': 'Deduplication.__Main__'}]}, {'path': [{'id': 'Utils.Utils'}, 'DEFINED_IN', {'id': 'Utils.Utils.Unionfind'}, 'USES', {'id': 'Utils.Use_Cases.Collection_Deduplication'}, 'DEFINES', {'id': 'Utils.Use_Cases'}, 'DEFINES', {'id': 'Utils.Use_Cases.Nearest_Neighbor_Search'}, 'IMPORTED_IN', {'id': 'Deduplication.__Main__'}, 'INDIRECTLY_USED_IN', {'id': 'Utils.Use_Cases.Collection_Deduplication'}, 'IMPORTED_IN', {'id': 'Deduplication.__Main__'}, 'IMPORTED_IN', {'id': 'Deduplication.Lsh.Lsh'}, 'USED_IN', {'id': 'Deduplication.__Main__.Model'}, 'DEFINED_IN', {'id': 'Deduplication.__Main__'}]}, {'path': [{'id': 'Utils.Utils'}, 'DEFINED_IN', {'id': 'Utils.Utils.Unionfind'}, 'USES', {'id': 'Utils.Use_Cases.Collection_Deduplication'}, 'DEFINES', {'id': 'Utils.Use_Cases'}, 'DEFINES', {'id': 'Utils.Use_Cases.Nearest_Neighbor_Search'}, 'IMPORTED_IN', {'id': 'Deduplication.__Main__'}, 'INDIRECTLY_USED_IN', {'id': 'Utils.Use_Cases.Collection_Deduplication'}, 'IMPORTED_IN', {'id': 'Deduplication.__Main__'}, 'USED_IN', {'id': 'Psutil'}, 'USED_IN', {'id': 'Deduplication.__Main__.Log_Memory_Usage'}, 'DEFINED_IN', {'id': 'Deduplication.__Main__'}]}, {'path': [{'id': 'Utils.Utils'}, 'DEFINED_IN', {'id': 'Utils.Utils.Unionfind'}, 'USES', {'id': 'Utils.Use_Cases.Collection_Deduplication'}, 'DEFINES', {'id': 'Utils.Use_Cases'}, 'DEFINES', {'id': 'Utils.Use_Cases.Nearest_Neighbor_Search'}, 'IMPORTED_IN', {'id': 'Deduplication.__Main__'}, 'INDIRECTLY_USED_IN', {'id': 'Utils.Use_Cases.Collection_Deduplication'}, 'IMPORTED_IN', {'id': 'Deduplication.__Main__'}, 'USED_IN', {'id': 'Os'}, 'USED_IN', {'id': 'Deduplication.__Main__.Log_Memory_Usage'}, 'DEFINED_IN', {'id': 'Deduplication.__Main__'}]}, {'path': [{'id': 'Utils.Utils'}, 'DEFINED_IN', {'id': 'Utils.Utils.Unionfind'}, 'USES', {'id': 'Utils.Use_Cases.Collection_Deduplication'}, 'DEFINES', {'id': 'Utils.Use_Cases'}, 'DEFINES', {'id': 'Utils.Use_Cases.Nearest_Neighbor_Search'}, 'IMPORTED_IN', {'id': 'Deduplication.__Main__'}, 'INDIRECTLY_USED_IN', {'id': 'Utils.Use_Cases.Collection_Deduplication'}, 'IMPORTED_IN', {'id': 'Deduplication.__Main__'}, 'USED_IN', {'id': 'Logging'}, 'USED_IN', {'id': 'Deduplication.__Main__.Model'}, 'DEFINED_IN', {'id': 'Deduplication.__Main__'}]}, {'path': [{'id': 'Utils.Utils'}, 'DEFINED_IN', {'id': 'Utils.Utils.Unionfind'}, 'USES', {'id': 'Utils.Use_Cases.Collection_Deduplication'}, 'DEFINES', {'id': 'Utils.Use_Cases'}, 'DEFINES', {'id': 'Utils.Use_Cases.Nearest_Neighbor_Search'}, 'IMPORTED_IN', {'id': 'Deduplication.__Main__'}, 'INDIRECTLY_USED_IN', {'id': 'Utils.Use_Cases.Collection_Deduplication'}, 'IMPORTED_IN', {'id': 'Deduplication.__Main__'}, 'USED_IN', {'id': 'Logging'}, 'USED_IN', {'id': 'Deduplication.__Main__.Log_Memory_Usage'}, 'DEFINED_IN', {'id': 'Deduplication.__Main__'}]}, {'path': [{'id': 'Utils.Utils'}, 'DEFINED_IN', {'id': 'Utils.Utils.Unionfind'}, 'USES', {'id': 'Utils.Use_Cases.Collection_Deduplication'}, 'DEFINES', {'id': 'Utils.Use_Cases'}, 'DEFINES', {'id': 'Utils.Use_Cases.Nearest_Neighbor_Search'}, 'IMPORTED_IN', {'id': 'Deduplication.__Main__'}, 'INDIRECTLY_USED_IN', {'id': 'Utils.Use_Cases.Collection_Deduplication'}, 'IMPORTED_IN', {'id': 'Deduplication.__Main__'}, 'USED_IN', {'id': 'Time'}, 'USED_IN', {'id': 'Deduplication.__Main__.Model'}, 'DEFINED_IN', {'id': 'Deduplication.__Main__'}]}, {'path': [{'id': 'Utils.Utils'}, 'DEFINED_IN', {'id': 'Utils.Utils.Unionfind'}, 'USES', {'id': 'Utils.Use_Cases.Collection_Deduplication'}, 'DEFINES', {'id': 'Utils.Use_Cases'}, 'DEFINES', {'id': 'Utils.Use_Cases.Nearest_Neighbor_Search'}, 'IMPORTED_IN', {'id': 'Deduplication.__Main__'}, 'INDIRECTLY_USED_IN', {'id': 'Utils.Use_Cases.Collection_Deduplication'}, 'IMPORTED_IN', {'id': 'Deduplication.__Main__'}, 'DEFINED_IN', {'id': 'Deduplication.__Main__.Model'}, 'RETURNS_INSTANCE_OF', {'id': 'Deduplication.Lsh.Lsh'}, 'IMPORTED_IN', {'id': 'Deduplication.__Main__'}]}, {'path': [{'id': 'Utils.Utils'}, 'DEFINED_IN', {'id': 'Utils.Utils.Unionfind'}, 'USES', {'id': 'Utils.Use_Cases.Collection_Deduplication'}, 'DEFINES', {'id': 'Utils.Use_Cases'}, 'DEFINES', {'id': 'Utils.Use_Cases.Nearest_Neighbor_Search'}, 'IMPORTED_IN', {'id': 'Deduplication.__Main__'}, 'INDIRECTLY_USED_IN', {'id': 'Utils.Use_Cases.Collection_Deduplication'}, 'IMPORTED_IN', {'id': 'Deduplication.__Main__'}, 'DEFINED_IN', {'id': 'Deduplication.__Main__.Model'}, 'USED_IN', {'id': 'Deduplication.Lshforest.Lshforest'}, 'IMPORTED_IN', {'id': 'Deduplication.__Main__'}]}, {'path': [{'id': 'Utils.Utils'}, 'DEFINED_IN', {'id': 'Utils.Utils.Unionfind'}, 'USES', {'id': 'Utils.Use_Cases.Collection_Deduplication'}, 'DEFINES', {'id': 'Utils.Use_Cases'}, 'DEFINES', {'id': 'Utils.Use_Cases.Nearest_Neighbor_Search'}, 'IMPORTED_IN', {'id': 'Deduplication.__Main__'}, 'INDIRECTLY_USED_IN', {'id': 'Utils.Use_Cases.Collection_Deduplication'}, 'IMPORTED_IN', {'id': 'Deduplication.__Main__'}, 'DEFINED_IN', {'id': 'Deduplication.__Main__.Model'}, 'USED_IN', {'id': 'Deduplication.Lshimproved.Lshimproved'}, 'IMPORTED_IN', {'id': 'Deduplication.__Main__'}]}, {'path': [{'id': 'Utils.Utils'}, 'DEFINED_IN', {'id': 'Utils.Utils.Unionfind'}, 'USES', {'id': 'Utils.Use_Cases.Collection_Deduplication'}, 'DEFINES', {'id': 'Utils.Use_Cases'}, 'DEFINES', {'id': 'Utils.Use_Cases.Nearest_Neighbor_Search'}, 'IMPORTED_IN', {'id': 'Deduplication.__Main__'}, 'INDIRECTLY_USED_IN', {'id': 'Utils.Use_Cases.Collection_Deduplication'}, 'IMPORTED_IN', {'id': 'Deduplication.__Main__'}, 'DEFINED_IN', {'id': 'Deduplication.__Main__.Model'}, 'USED_IN', {'id': 'Deduplication.Lsh.Lsh'}, 'IMPORTED_IN', {'id': 'Deduplication.__Main__'}]}, {'path': [{'id': 'Utils.Utils'}, 'DEFINED_IN', {'id': 'Utils.Utils.Unionfind'}, 'USES', {'id': 'Utils.Use_Cases.Collection_Deduplication'}, 'DEFINES', {'id': 'Utils.Use_Cases'}, 'DEFINES', {'id': 'Utils.Use_Cases.Nearest_Neighbor_Search'}, 'IMPORTED_IN', {'id': 'Deduplication.__Main__'}, 'INDIRECTLY_USED_IN', {'id': 'Utils.Use_Cases.Collection_Deduplication'}, 'IMPORTED_IN', {'id': 'Deduplication.__Main__'}, 'DEFINED_IN', {'id': 'Deduplication.__Main__.Model'}, 'USED_IN', {'id': 'Logging'}, 'USED_IN', {'id': 'Deduplication.__Main__'}]}, {'path': [{'id': 'Utils.Utils'}, 'DEFINED_IN', {'id': 'Utils.Utils.Unionfind'}, 'USES', {'id': 'Utils.Use_Cases.Collection_Deduplication'}, 'DEFINES', {'id': 'Utils.Use_Cases'}, 'DEFINES', {'id': 'Utils.Use_Cases.Nearest_Neighbor_Search'}, 'IMPORTED_IN', {'id': 'Deduplication.__Main__'}, 'INDIRECTLY_USED_IN', {'id': 'Utils.Use_Cases.Collection_Deduplication'}, 'IMPORTED_IN', {'id': 'Deduplication.__Main__'}, 'DEFINED_IN', {'id': 'Deduplication.__Main__.Model'}, 'USED_IN', {'id': 'Time'}, 'USED_IN', {'id': 'Deduplication.__Main__'}]}, {'path': [{'id': 'Utils.Utils'}, 'DEFINED_IN', {'id': 'Utils.Utils.Unionfind'}, 'USES', {'id': 'Utils.Use_Cases.Collection_Deduplication'}, 'DEFINES', {'id': 'Utils.Use_Cases'}, 'DEFINES', {'id': 'Utils.Use_Cases.Nearest_Neighbor_Search'}, 'IMPORTED_IN', {'id': 'Deduplication.__Main__'}, 'INDIRECTLY_USED_IN', {'id': 'Utils.Use_Cases.Collection_Deduplication'}, 'IMPORTED_IN', {'id': 'Deduplication.__Main__'}, 'DEFINED_IN', {'id': 'Deduplication.__Main__.Log_Memory_Usage'}, 'USED_IN', {'id': 'Psutil'}, 'USED_IN', {'id': 'Deduplication.__Main__'}]}, {'path': [{'id': 'Utils.Utils'}, 'DEFINED_IN', {'id': 'Utils.Utils.Unionfind'}, 'USES', {'id': 'Utils.Use_Cases.Collection_Deduplication'}, 'DEFINES', {'id': 'Utils.Use_Cases'}, 'DEFINES', {'id': 'Utils.Use_Cases.Nearest_Neighbor_Search'}, 'IMPORTED_IN', {'id': 'Deduplication.__Main__'}, 'INDIRECTLY_USED_IN', {'id': 'Utils.Use_Cases.Collection_Deduplication'}, 'IMPORTED_IN', {'id': 'Deduplication.__Main__'}, 'DEFINED_IN', {'id': 'Deduplication.__Main__.Log_Memory_Usage'}, 'USED_IN', {'id': 'Os'}, 'USED_IN', {'id': 'Deduplication.__Main__'}]}, {'path': [{'id': 'Utils.Utils'}, 'DEFINED_IN', {'id': 'Utils.Utils.Unionfind'}, 'USES', {'id': 'Utils.Use_Cases.Collection_Deduplication'}, 'DEFINES', {'id': 'Utils.Use_Cases'}, 'DEFINES', {'id': 'Utils.Use_Cases.Nearest_Neighbor_Search'}, 'IMPORTED_IN', {'id': 'Deduplication.__Main__'}, 'INDIRECTLY_USED_IN', {'id': 'Utils.Use_Cases.Collection_Deduplication'}, 'IMPORTED_IN', {'id': 'Deduplication.__Main__'}, 'DEFINED_IN', {'id': 'Deduplication.__Main__.Log_Memory_Usage'}, 'USED_IN', {'id': 'Logging'}, 'USED_IN', {'id': 'Deduplication.__Main__'}]}, {'path': [{'id': 'Utils.Utils'}, 'DEFINED_IN', {'id': 'Utils.Utils.Unionfind'}, 'USES', {'id': 'Utils.Use_Cases.Collection_Deduplication'}, 'DEFINES', {'id': 'Utils.Use_Cases'}, 'DEFINES', {'id': 'Utils.Use_Cases.Nearest_Neighbor_Search'}, 'IMPORTED_IN', {'id': 'Deduplication.__Main__'}, 'INDIRECTLY_USED_IN', {'id': 'Utils.Use_Cases.Collection_Deduplication'}, 'USES', {'id': 'Collections'}, 'USED_IN', {'id': 'Deduplication.Dedup.Baseline.Tokenize'}, 'DEFINED_IN', {'id': 'Deduplication.Dedup.Baseline'}, 'IMPORTED_IN', {'id': 'Deduplication.__Main__'}]}, {'path': [{'id': 'Utils.Utils'}, 'DEFINED_IN', {'id': 'Utils.Utils.Unionfind'}, 'USES', {'id': 'Utils.Use_Cases.Collection_Deduplication'}, 'DEFINES', {'id': 'Utils.Use_Cases'}, 'DEFINES', {'id': 'Utils.Use_Cases.Nearest_Neighbor_Search'}, 'IMPORTED_IN', {'id': 'Deduplication.__Main__'}, 'INDIRECTLY_USED_IN', {'id': 'Utils.Utils.Read_Tsv'}, 'IMPORTED_IN', {'id': 'Deduplication.__Main__'}]}, {'path': [{'id': 'Utils.Utils'}, 'DEFINED_IN', {'id': 'Utils.Utils.Unionfind'}, 'USES', {'id': 'Utils.Use_Cases.Collection_Deduplication'}, 'DEFINES', {'id': 'Utils.Use_Cases'}, 'DEFINES', {'id': 'Utils.Use_Cases.Nearest_Neighbor_Search'}, 'IMPORTED_IN', {'id': 'Deduplication.__Main__'}, 'INDIRECTLY_USED_IN', {'id': 'Utils.Utils.Read_Tsv'}, 'IMPORTED_IN', {'id': 'Deduplication.__Main__'}, 'INDIRECTLY_USED_IN', {'id': 'Utils.Use_Cases.Collection_Deduplication'}, 'IMPORTED_IN', {'id': 'Deduplication.__Main__'}]}, {'path': [{'id': 'Utils.Utils'}, 'DEFINED_IN', {'id': 'Utils.Utils.Unionfind'}, 'USES', {'id': 'Utils.Use_Cases.Collection_Deduplication'}, 'DEFINES', {'id': 'Utils.Use_Cases'}, 'DEFINES', {'id': 'Utils.Use_Cases.Nearest_Neighbor_Search'}, 'IMPORTED_IN', {'id': 'Deduplication.__Main__'}, 'INDIRECTLY_USED_IN', {'id': 'Utils.Utils.Read_Tsv'}, 'IMPORTED_IN', {'id': 'Deduplication.__Main__'}, 'IMPORTED_IN', {'id': 'Utils.Use_Cases.Collection_Deduplication'}, 'INDIRECTLY_USED_IN', {'id': 'Deduplication.__Main__'}]}, {'path': [{'id': 'Utils.Utils'}, 'DEFINED_IN', {'id': 'Utils.Utils.Unionfind'}, 'USES', {'id': 'Utils.Use_Cases.Collection_Deduplication'}, 'DEFINES', {'id': 'Utils.Use_Cases'}, 'DEFINES', {'id': 'Utils.Use_Cases.Nearest_Neighbor_Search'}, 'IMPORTED_IN', {'id': 'Deduplication.__Main__'}, 'INDIRECTLY_USED_IN', {'id': 'Utils.Utils.Read_Tsv'}, 'IMPORTED_IN', {'id': 'Deduplication.__Main__'}, 'IMPORTED_IN', {'id': 'Deduplication.Lshforest.Lshforest'}, 'USED_IN', {'id': 'Deduplication.__Main__.Model'}, 'DEFINED_IN', {'id': 'Deduplication.__Main__'}]}, {'path': [{'id': 'Utils.Utils'}, 'DEFINED_IN', {'id': 'Utils.Utils.Unionfind'}, 'USES', {'id': 'Utils.Use_Cases.Collection_Deduplication'}, 'DEFINES', {'id': 'Utils.Use_Cases'}, 'DEFINES', {'id': 'Utils.Use_Cases.Nearest_Neighbor_Search'}, 'IMPORTED_IN', {'id': 'Deduplication.__Main__'}, 'INDIRECTLY_USED_IN', {'id': 'Utils.Utils.Read_Tsv'}, 'IMPORTED_IN', {'id': 'Deduplication.__Main__'}, 'IMPORTED_IN', {'id': 'Deduplication.Lshimproved.Lshimproved'}, 'USED_IN', {'id': 'Deduplication.__Main__.Model'}, 'DEFINED_IN', {'id': 'Deduplication.__Main__'}]}, {'path': [{'id': 'Utils.Utils'}, 'DEFINED_IN', {'id': 'Utils.Utils.Unionfind'}, 'USES', {'id': 'Utils.Use_Cases.Collection_Deduplication'}, 'DEFINES', {'id': 'Utils.Use_Cases'}, 'DEFINES', {'id': 'Utils.Use_Cases.Nearest_Neighbor_Search'}, 'IMPORTED_IN', {'id': 'Deduplication.__Main__'}, 'INDIRECTLY_USED_IN', {'id': 'Utils.Utils.Read_Tsv'}, 'IMPORTED_IN', {'id': 'Deduplication.__Main__'}, 'IMPORTED_IN', {'id': 'Deduplication.Lsh.Lsh'}, 'RETURNS_INSTANCE_OF', {'id': 'Deduplication.__Main__.Model'}, 'DEFINED_IN', {'id': 'Deduplication.__Main__'}]}, {'path': [{'id': 'Utils.Utils'}, 'DEFINED_IN', {'id': 'Utils.Utils.Unionfind'}, 'USES', {'id': 'Utils.Use_Cases.Collection_Deduplication'}, 'DEFINES', {'id': 'Utils.Use_Cases'}, 'DEFINES', {'id': 'Utils.Use_Cases.Nearest_Neighbor_Search'}, 'IMPORTED_IN', {'id': 'Deduplication.__Main__'}, 'INDIRECTLY_USED_IN', {'id': 'Utils.Utils.Read_Tsv'}, 'IMPORTED_IN', {'id': 'Deduplication.__Main__'}, 'IMPORTED_IN', {'id': 'Deduplication.Lsh.Lsh'}, 'USED_IN', {'id': 'Deduplication.__Main__.Model'}, 'DEFINED_IN', {'id': 'Deduplication.__Main__'}]}, {'path': [{'id': 'Utils.Utils'}, 'DEFINED_IN', {'id': 'Utils.Utils.Unionfind'}, 'USES', {'id': 'Utils.Use_Cases.Collection_Deduplication'}, 'DEFINES', {'id': 'Utils.Use_Cases'}, 'DEFINES', {'id': 'Utils.Use_Cases.Nearest_Neighbor_Search'}, 'IMPORTED_IN', {'id': 'Deduplication.__Main__'}, 'INDIRECTLY_USED_IN', {'id': 'Utils.Utils.Read_Tsv'}, 'IMPORTED_IN', {'id': 'Deduplication.__Main__'}, 'USED_IN', {'id': 'Psutil'}, 'USED_IN', {'id': 'Deduplication.__Main__.Log_Memory_Usage'}, 'DEFINED_IN', {'id': 'Deduplication.__Main__'}]}, {'path': [{'id': 'Utils.Utils'}, 'DEFINED_IN', {'id': 'Utils.Utils.Unionfind'}, 'USES', {'id': 'Utils.Use_Cases.Collection_Deduplication'}, 'DEFINES', {'id': 'Utils.Use_Cases'}, 'DEFINES', {'id': 'Utils.Use_Cases.Nearest_Neighbor_Search'}, 'IMPORTED_IN', {'id': 'Deduplication.__Main__'}, 'INDIRECTLY_USED_IN', {'id': 'Utils.Utils.Read_Tsv'}, 'IMPORTED_IN', {'id': 'Deduplication.__Main__'}, 'USED_IN', {'id': 'Os'}, 'USED_IN', {'id': 'Deduplication.__Main__.Log_Memory_Usage'}, 'DEFINED_IN', {'id': 'Deduplication.__Main__'}]}, {'path': [{'id': 'Utils.Utils'}, 'DEFINED_IN', {'id': 'Utils.Utils.Unionfind'}, 'USES', {'id': 'Utils.Use_Cases.Collection_Deduplication'}, 'DEFINES', {'id': 'Utils.Use_Cases'}, 'DEFINES', {'id': 'Utils.Use_Cases.Nearest_Neighbor_Search'}, 'IMPORTED_IN', {'id': 'Deduplication.__Main__'}, 'INDIRECTLY_USED_IN', {'id': 'Utils.Utils.Read_Tsv'}, 'IMPORTED_IN', {'id': 'Deduplication.__Main__'}, 'USED_IN', {'id': 'Logging'}, 'USED_IN', {'id': 'Deduplication.__Main__.Model'}, 'DEFINED_IN', {'id': 'Deduplication.__Main__'}]}, {'path': [{'id': 'Utils.Utils'}, 'DEFINED_IN', {'id': 'Utils.Utils.Unionfind'}, 'USES', {'id': 'Utils.Use_Cases.Collection_Deduplication'}, 'DEFINES', {'id': 'Utils.Use_Cases'}, 'DEFINES', {'id': 'Utils.Use_Cases.Nearest_Neighbor_Search'}, 'IMPORTED_IN', {'id': 'Deduplication.__Main__'}, 'INDIRECTLY_USED_IN', {'id': 'Utils.Utils.Read_Tsv'}, 'IMPORTED_IN', {'id': 'Deduplication.__Main__'}, 'USED_IN', {'id': 'Logging'}, 'USED_IN', {'id': 'Deduplication.__Main__.Log_Memory_Usage'}, 'DEFINED_IN', {'id': 'Deduplication.__Main__'}]}, {'path': [{'id': 'Utils.Utils'}, 'DEFINED_IN', {'id': 'Utils.Utils.Unionfind'}, 'USES', {'id': 'Utils.Use_Cases.Collection_Deduplication'}, 'DEFINES', {'id': 'Utils.Use_Cases'}, 'DEFINES', {'id': 'Utils.Use_Cases.Nearest_Neighbor_Search'}, 'IMPORTED_IN', {'id': 'Deduplication.__Main__'}, 'INDIRECTLY_USED_IN', {'id': 'Utils.Utils.Read_Tsv'}, 'IMPORTED_IN', {'id': 'Deduplication.__Main__'}, 'USED_IN', {'id': 'Time'}, 'USED_IN', {'id': 'Deduplication.__Main__.Model'}, 'DEFINED_IN', {'id': 'Deduplication.__Main__'}]}, {'path': [{'id': 'Utils.Utils'}, 'DEFINED_IN', {'id': 'Utils.Utils.Unionfind'}, 'USES', {'id': 'Utils.Use_Cases.Collection_Deduplication'}, 'DEFINES', {'id': 'Utils.Use_Cases'}, 'DEFINES', {'id': 'Utils.Use_Cases.Nearest_Neighbor_Search'}, 'IMPORTED_IN', {'id': 'Deduplication.__Main__'}, 'INDIRECTLY_USED_IN', {'id': 'Utils.Utils.Read_Tsv'}, 'IMPORTED_IN', {'id': 'Deduplication.__Main__'}, 'DEFINED_IN', {'id': 'Deduplication.__Main__.Model'}, 'RETURNS_INSTANCE_OF', {'id': 'Deduplication.Lsh.Lsh'}, 'IMPORTED_IN', {'id': 'Deduplication.__Main__'}]}, {'path': [{'id': 'Utils.Utils'}, 'DEFINED_IN', {'id': 'Utils.Utils.Unionfind'}, 'USES', {'id': 'Utils.Use_Cases.Collection_Deduplication'}, 'DEFINES', {'id': 'Utils.Use_Cases'}, 'DEFINES', {'id': 'Utils.Use_Cases.Nearest_Neighbor_Search'}, 'IMPORTED_IN', {'id': 'Deduplication.__Main__'}, 'INDIRECTLY_USED_IN', {'id': 'Utils.Utils.Read_Tsv'}, 'IMPORTED_IN', {'id': 'Deduplication.__Main__'}, 'DEFINED_IN', {'id': 'Deduplication.__Main__.Model'}, 'USED_IN', {'id': 'Deduplication.Lshforest.Lshforest'}, 'IMPORTED_IN', {'id': 'Deduplication.__Main__'}]}, {'path': [{'id': 'Utils.Utils'}, 'DEFINED_IN', {'id': 'Utils.Utils.Unionfind'}, 'USES', {'id': 'Utils.Use_Cases.Collection_Deduplication'}, 'DEFINES', {'id': 'Utils.Use_Cases'}, 'DEFINES', {'id': 'Utils.Use_Cases.Nearest_Neighbor_Search'}, 'IMPORTED_IN', {'id': 'Deduplication.__Main__'}, 'INDIRECTLY_USED_IN', {'id': 'Utils.Utils.Read_Tsv'}, 'IMPORTED_IN', {'id': 'Deduplication.__Main__'}, 'DEFINED_IN', {'id': 'Deduplication.__Main__.Model'}, 'USED_IN', {'id': 'Deduplication.Lshimproved.Lshimproved'}, 'IMPORTED_IN', {'id': 'Deduplication.__Main__'}]}, {'path': [{'id': 'Utils.Utils'}, 'DEFINED_IN', {'id': 'Utils.Utils.Unionfind'}, 'USES', {'id': 'Utils.Use_Cases.Collection_Deduplication'}, 'DEFINES', {'id': 'Utils.Use_Cases'}, 'DEFINES', {'id': 'Utils.Use_Cases.Nearest_Neighbor_Search'}, 'IMPORTED_IN', {'id': 'Deduplication.__Main__'}, 'INDIRECTLY_USED_IN', {'id': 'Utils.Utils.Read_Tsv'}, 'IMPORTED_IN', {'id': 'Deduplication.__Main__'}, 'DEFINED_IN', {'id': 'Deduplication.__Main__.Model'}, 'USED_IN', {'id': 'Deduplication.Lsh.Lsh'}, 'IMPORTED_IN', {'id': 'Deduplication.__Main__'}]}, {'path': [{'id': 'Utils.Utils'}, 'DEFINED_IN', {'id': 'Utils.Utils.Unionfind'}, 'USES', {'id': 'Utils.Use_Cases.Collection_Deduplication'}, 'DEFINES', {'id': 'Utils.Use_Cases'}, 'DEFINES', {'id': 'Utils.Use_Cases.Nearest_Neighbor_Search'}, 'IMPORTED_IN', {'id': 'Deduplication.__Main__'}, 'INDIRECTLY_USED_IN', {'id': 'Utils.Utils.Read_Tsv'}, 'IMPORTED_IN', {'id': 'Deduplication.__Main__'}, 'DEFINED_IN', {'id': 'Deduplication.__Main__.Model'}, 'USED_IN', {'id': 'Logging'}, 'USED_IN', {'id': 'Deduplication.__Main__'}]}, {'path': [{'id': 'Utils.Utils'}, 'DEFINED_IN', {'id': 'Utils.Utils.Unionfind'}, 'USES', {'id': 'Utils.Use_Cases.Collection_Deduplication'}, 'DEFINES', {'id': 'Utils.Use_Cases'}, 'DEFINES', {'id': 'Utils.Use_Cases.Nearest_Neighbor_Search'}, 'IMPORTED_IN', {'id': 'Deduplication.__Main__'}, 'INDIRECTLY_USED_IN', {'id': 'Utils.Utils.Read_Tsv'}, 'IMPORTED_IN', {'id': 'Deduplication.__Main__'}, 'DEFINED_IN', {'id': 'Deduplication.__Main__.Model'}, 'USED_IN', {'id': 'Time'}, 'USED_IN', {'id': 'Deduplication.__Main__'}]}, {'path': [{'id': 'Utils.Utils'}, 'DEFINED_IN', {'id': 'Utils.Utils.Unionfind'}, 'USES', {'id': 'Utils.Use_Cases.Collection_Deduplication'}, 'DEFINES', {'id': 'Utils.Use_Cases'}, 'DEFINES', {'id': 'Utils.Use_Cases.Nearest_Neighbor_Search'}, 'IMPORTED_IN', {'id': 'Deduplication.__Main__'}, 'INDIRECTLY_USED_IN', {'id': 'Utils.Utils.Read_Tsv'}, 'IMPORTED_IN', {'id': 'Deduplication.__Main__'}, 'DEFINED_IN', {'id': 'Deduplication.__Main__.Log_Memory_Usage'}, 'USED_IN', {'id': 'Psutil'}, 'USED_IN', {'id': 'Deduplication.__Main__'}]}, {'path': [{'id': 'Utils.Utils'}, 'DEFINED_IN', {'id': 'Utils.Utils.Unionfind'}, 'USES', {'id': 'Utils.Use_Cases.Collection_Deduplication'}, 'DEFINES', {'id': 'Utils.Use_Cases'}, 'DEFINES', {'id': 'Utils.Use_Cases.Nearest_Neighbor_Search'}, 'IMPORTED_IN', {'id': 'Deduplication.__Main__'}, 'INDIRECTLY_USED_IN', {'id': 'Utils.Utils.Read_Tsv'}, 'IMPORTED_IN', {'id': 'Deduplication.__Main__'}, 'DEFINED_IN', {'id': 'Deduplication.__Main__.Log_Memory_Usage'}, 'USED_IN', {'id': 'Os'}, 'USED_IN', {'id': 'Deduplication.__Main__'}]}, {'path': [{'id': 'Utils.Utils'}, 'DEFINED_IN', {'id': 'Utils.Utils.Unionfind'}, 'USES', {'id': 'Utils.Use_Cases.Collection_Deduplication'}, 'DEFINES', {'id': 'Utils.Use_Cases'}, 'DEFINES', {'id': 'Utils.Use_Cases.Nearest_Neighbor_Search'}, 'IMPORTED_IN', {'id': 'Deduplication.__Main__'}, 'INDIRECTLY_USED_IN', {'id': 'Utils.Utils.Read_Tsv'}, 'IMPORTED_IN', {'id': 'Deduplication.__Main__'}, 'DEFINED_IN', {'id': 'Deduplication.__Main__.Log_Memory_Usage'}, 'USED_IN', {'id': 'Logging'}, 'USED_IN', {'id': 'Deduplication.__Main__'}]}, {'path': [{'id': 'Utils.Utils'}, 'DEFINED_IN', {'id': 'Utils.Utils.Unionfind'}, 'USES', {'id': 'Utils.Use_Cases.Collection_Deduplication'}, 'DEFINES', {'id': 'Utils.Use_Cases'}, 'DEFINES', {'id': 'Utils.Use_Cases.Nearest_Neighbor_Search'}, 'IMPORTED_IN', {'id': 'Deduplication.__Main__'}, 'IMPORTED_IN', {'id': 'Utils.Use_Cases.Collection_Deduplication'}, 'INDIRECTLY_USED_IN', {'id': 'Deduplication.__Main__'}]}, {'path': [{'id': 'Utils.Utils'}, 'DEFINED_IN', {'id': 'Utils.Utils.Unionfind'}, 'USES', {'id': 'Utils.Use_Cases.Collection_Deduplication'}, 'DEFINES', {'id': 'Utils.Use_Cases'}, 'DEFINES', {'id': 'Utils.Use_Cases.Nearest_Neighbor_Search'}, 'IMPORTED_IN', {'id': 'Deduplication.__Main__'}, 'IMPORTED_IN', {'id': 'Utils.Use_Cases.Collection_Deduplication'}, 'INDIRECTLY_USED_IN', {'id': 'Deduplication.__Main__'}, 'INDIRECTLY_USED_IN', {'id': 'Utils.Utils.Read_Tsv'}, 'IMPORTED_IN', {'id': 'Deduplication.__Main__'}]}, {'path': [{'id': 'Utils.Utils'}, 'DEFINED_IN', {'id': 'Utils.Utils.Unionfind'}, 'USES', {'id': 'Utils.Use_Cases.Collection_Deduplication'}, 'DEFINES', {'id': 'Utils.Use_Cases'}, 'DEFINES', {'id': 'Utils.Use_Cases.Nearest_Neighbor_Search'}, 'IMPORTED_IN', {'id': 'Deduplication.__Main__'}, 'IMPORTED_IN', {'id': 'Utils.Use_Cases.Collection_Deduplication'}, 'INDIRECTLY_USED_IN', {'id': 'Deduplication.__Main__'}, 'IMPORTED_IN', {'id': 'Utils.Utils.Read_Tsv'}, 'INDIRECTLY_USED_IN', {'id': 'Deduplication.__Main__'}]}, {'path': [{'id': 'Utils.Utils'}, 'DEFINED_IN', {'id': 'Utils.Utils.Unionfind'}, 'USES', {'id': 'Utils.Use_Cases.Collection_Deduplication'}, 'DEFINES', {'id': 'Utils.Use_Cases'}, 'DEFINES', {'id': 'Utils.Use_Cases.Nearest_Neighbor_Search'}, 'IMPORTED_IN', {'id': 'Deduplication.__Main__'}, 'IMPORTED_IN', {'id': 'Utils.Use_Cases.Collection_Deduplication'}, 'INDIRECTLY_USED_IN', {'id': 'Deduplication.__Main__'}, 'IMPORTED_IN', {'id': 'Deduplication.Lshforest.Lshforest'}, 'USED_IN', {'id': 'Deduplication.__Main__.Model'}, 'DEFINED_IN', {'id': 'Deduplication.__Main__'}]}, {'path': [{'id': 'Utils.Utils'}, 'DEFINED_IN', {'id': 'Utils.Utils.Unionfind'}, 'USES', {'id': 'Utils.Use_Cases.Collection_Deduplication'}, 'DEFINES', {'id': 'Utils.Use_Cases'}, 'DEFINES', {'id': 'Utils.Use_Cases.Nearest_Neighbor_Search'}, 'IMPORTED_IN', {'id': 'Deduplication.__Main__'}, 'IMPORTED_IN', {'id': 'Utils.Use_Cases.Collection_Deduplication'}, 'INDIRECTLY_USED_IN', {'id': 'Deduplication.__Main__'}, 'IMPORTED_IN', {'id': 'Deduplication.Lshimproved.Lshimproved'}, 'USED_IN', {'id': 'Deduplication.__Main__.Model'}, 'DEFINED_IN', {'id': 'Deduplication.__Main__'}]}, {'path': [{'id': 'Utils.Utils'}, 'DEFINED_IN', {'id': 'Utils.Utils.Unionfind'}, 'USES', {'id': 'Utils.Use_Cases.Collection_Deduplication'}, 'DEFINES', {'id': 'Utils.Use_Cases'}, 'DEFINES', {'id': 'Utils.Use_Cases.Nearest_Neighbor_Search'}, 'IMPORTED_IN', {'id': 'Deduplication.__Main__'}, 'IMPORTED_IN', {'id': 'Utils.Use_Cases.Collection_Deduplication'}, 'INDIRECTLY_USED_IN', {'id': 'Deduplication.__Main__'}, 'IMPORTED_IN', {'id': 'Deduplication.Lsh.Lsh'}, 'RETURNS_INSTANCE_OF', {'id': 'Deduplication.__Main__.Model'}, 'DEFINED_IN', {'id': 'Deduplication.__Main__'}]}]}\n"
     ]
    },
    {
     "name": "stdout",
     "output_type": "stream",
     "text": [
      "\u001b[90m2025-04-24 21:24:42\u001b[0m - \u001b[36magent_router\u001b[0m - \u001b[92mINFO\u001b[0m - Result type: <class 'langgraph.pregel.io.AddableValuesDict'>\n"
     ]
    },
    {
     "name": "stderr",
     "output_type": "stream",
     "text": [
      "\u001b[92mINFO\u001b[0m:agent_router:Result type: <class 'langgraph.pregel.io.AddableValuesDict'>\n"
     ]
    },
    {
     "name": "stdout",
     "output_type": "stream",
     "text": [
      "\u001b[90m2025-04-24 21:25:14\u001b[0m - \u001b[36magent_router\u001b[0m - \u001b[92mINFO\u001b[0m - Generating text response...\n"
     ]
    },
    {
     "name": "stderr",
     "output_type": "stream",
     "text": [
      "\u001b[92mINFO\u001b[0m:agent_router:Generating text response...\n"
     ]
    },
    {
     "name": "stdout",
     "output_type": "stream",
     "text": [
      "\u001b[90m2025-04-24 21:25:14\u001b[0m - \u001b[36magent_router\u001b[0m - \u001b[92mINFO\u001b[0m - Query engine: <tools.micro_text_answer.RAGQueryEngine object at 0x00000144F5709A90>\n"
     ]
    },
    {
     "name": "stderr",
     "output_type": "stream",
     "text": [
      "\u001b[92mINFO\u001b[0m:agent_router:Query engine: <tools.micro_text_answer.RAGQueryEngine object at 0x00000144F5709A90>\n"
     ]
    },
    {
     "name": "stdout",
     "output_type": "stream",
     "text": [
      "\u001b[90m2025-04-24 21:25:14\u001b[0m - \u001b[36magent_router\u001b[0m - \u001b[92mINFO\u001b[0m - Results: {'answer': '- The `Utils.Utils` module is defined in the `Utils.Utils.Unionfind`, which uses `Utils.Use_Cases.Collection_Deduplication`. This is part of `Utils.Use_Cases` that defines `Utils.Use_Cases.Nearest_Neighbor_Search`, all of which are imported into the `Deduplication.__Main__` module.\\n- The `Utils.Utils.Unionfind` uses `Utils.Use_Cases.Collection_Deduplication`; this, in turn, is indirectly used in `Deduplication.__Main__`.\\n- The functionality in `Utils.Utils` indirectly influences parts of `Deduplication.__Main__` through its associations with `Utils.Utils.Read_Tsv` and various other modules that are part of `Deduplication`.\\n- The `Deduplication.__Main__.Model` defined in `Deduplication.__Main__` uses various implementations in `Deduplication.Lshforest.Lshforest`, `Deduplication.Lshimproved.Lshimproved`, and `Deduplication.Lsh.Lsh`, all of which are connected to `Utils.Utils` through indirect usage pathways.\\n- Additionally, `Utils.Utils` is connected to logging and memory usage functions within `Deduplication.__Main__`, as well as interactions with `Psutil` and `Os`, which are used in `Deduplication.__Main__.Log_Memory_Usage`.', 'steps': ['generate_cypher', 'execute_cypher', 'generate_final_answer'], 'cypher_statement': \"MATCH path = (m1:Module {id: 'Utils.Utils'})-[*..10]-(m2:Module {id: 'Deduplication.__Main__'}) RETURN path LIMIT 50\", 'cypher_results': [{'path': [{'id': 'Utils.Utils'}, 'DEFINED_IN', {'id': 'Utils.Utils.Unionfind'}, 'USES', {'id': 'Utils.Use_Cases.Collection_Deduplication'}, 'DEFINES', {'id': 'Utils.Use_Cases'}, 'DEFINES', {'id': 'Utils.Use_Cases.Nearest_Neighbor_Search'}, 'IMPORTED_IN', {'id': 'Deduplication.__Main__'}]}, {'path': [{'id': 'Utils.Utils'}, 'DEFINED_IN', {'id': 'Utils.Utils.Unionfind'}, 'USES', {'id': 'Utils.Use_Cases.Collection_Deduplication'}, 'DEFINES', {'id': 'Utils.Use_Cases'}, 'DEFINES', {'id': 'Utils.Use_Cases.Nearest_Neighbor_Search'}, 'IMPORTED_IN', {'id': 'Deduplication.__Main__'}, 'INDIRECTLY_USED_IN', {'id': 'Utils.Use_Cases.Collection_Deduplication'}, 'IMPORTED_IN', {'id': 'Deduplication.__Main__'}]}, {'path': [{'id': 'Utils.Utils'}, 'DEFINED_IN', {'id': 'Utils.Utils.Unionfind'}, 'USES', {'id': 'Utils.Use_Cases.Collection_Deduplication'}, 'DEFINES', {'id': 'Utils.Use_Cases'}, 'DEFINES', {'id': 'Utils.Use_Cases.Nearest_Neighbor_Search'}, 'IMPORTED_IN', {'id': 'Deduplication.__Main__'}, 'INDIRECTLY_USED_IN', {'id': 'Utils.Use_Cases.Collection_Deduplication'}, 'IMPORTED_IN', {'id': 'Deduplication.__Main__'}, 'INDIRECTLY_USED_IN', {'id': 'Utils.Utils.Read_Tsv'}, 'IMPORTED_IN', {'id': 'Deduplication.__Main__'}]}, {'path': [{'id': 'Utils.Utils'}, 'DEFINED_IN', {'id': 'Utils.Utils.Unionfind'}, 'USES', {'id': 'Utils.Use_Cases.Collection_Deduplication'}, 'DEFINES', {'id': 'Utils.Use_Cases'}, 'DEFINES', {'id': 'Utils.Use_Cases.Nearest_Neighbor_Search'}, 'IMPORTED_IN', {'id': 'Deduplication.__Main__'}, 'INDIRECTLY_USED_IN', {'id': 'Utils.Use_Cases.Collection_Deduplication'}, 'IMPORTED_IN', {'id': 'Deduplication.__Main__'}, 'IMPORTED_IN', {'id': 'Utils.Utils.Read_Tsv'}, 'INDIRECTLY_USED_IN', {'id': 'Deduplication.__Main__'}]}, {'path': [{'id': 'Utils.Utils'}, 'DEFINED_IN', {'id': 'Utils.Utils.Unionfind'}, 'USES', {'id': 'Utils.Use_Cases.Collection_Deduplication'}, 'DEFINES', {'id': 'Utils.Use_Cases'}, 'DEFINES', {'id': 'Utils.Use_Cases.Nearest_Neighbor_Search'}, 'IMPORTED_IN', {'id': 'Deduplication.__Main__'}, 'INDIRECTLY_USED_IN', {'id': 'Utils.Use_Cases.Collection_Deduplication'}, 'IMPORTED_IN', {'id': 'Deduplication.__Main__'}, 'IMPORTED_IN', {'id': 'Deduplication.Lshforest.Lshforest'}, 'USED_IN', {'id': 'Deduplication.__Main__.Model'}, 'DEFINED_IN', {'id': 'Deduplication.__Main__'}]}, {'path': [{'id': 'Utils.Utils'}, 'DEFINED_IN', {'id': 'Utils.Utils.Unionfind'}, 'USES', {'id': 'Utils.Use_Cases.Collection_Deduplication'}, 'DEFINES', {'id': 'Utils.Use_Cases'}, 'DEFINES', {'id': 'Utils.Use_Cases.Nearest_Neighbor_Search'}, 'IMPORTED_IN', {'id': 'Deduplication.__Main__'}, 'INDIRECTLY_USED_IN', {'id': 'Utils.Use_Cases.Collection_Deduplication'}, 'IMPORTED_IN', {'id': 'Deduplication.__Main__'}, 'IMPORTED_IN', {'id': 'Deduplication.Lshimproved.Lshimproved'}, 'USED_IN', {'id': 'Deduplication.__Main__.Model'}, 'DEFINED_IN', {'id': 'Deduplication.__Main__'}]}, {'path': [{'id': 'Utils.Utils'}, 'DEFINED_IN', {'id': 'Utils.Utils.Unionfind'}, 'USES', {'id': 'Utils.Use_Cases.Collection_Deduplication'}, 'DEFINES', {'id': 'Utils.Use_Cases'}, 'DEFINES', {'id': 'Utils.Use_Cases.Nearest_Neighbor_Search'}, 'IMPORTED_IN', {'id': 'Deduplication.__Main__'}, 'INDIRECTLY_USED_IN', {'id': 'Utils.Use_Cases.Collection_Deduplication'}, 'IMPORTED_IN', {'id': 'Deduplication.__Main__'}, 'IMPORTED_IN', {'id': 'Deduplication.Lsh.Lsh'}, 'RETURNS_INSTANCE_OF', {'id': 'Deduplication.__Main__.Model'}, 'DEFINED_IN', {'id': 'Deduplication.__Main__'}]}, {'path': [{'id': 'Utils.Utils'}, 'DEFINED_IN', {'id': 'Utils.Utils.Unionfind'}, 'USES', {'id': 'Utils.Use_Cases.Collection_Deduplication'}, 'DEFINES', {'id': 'Utils.Use_Cases'}, 'DEFINES', {'id': 'Utils.Use_Cases.Nearest_Neighbor_Search'}, 'IMPORTED_IN', {'id': 'Deduplication.__Main__'}, 'INDIRECTLY_USED_IN', {'id': 'Utils.Use_Cases.Collection_Deduplication'}, 'IMPORTED_IN', {'id': 'Deduplication.__Main__'}, 'IMPORTED_IN', {'id': 'Deduplication.Lsh.Lsh'}, 'USED_IN', {'id': 'Deduplication.__Main__.Model'}, 'DEFINED_IN', {'id': 'Deduplication.__Main__'}]}, {'path': [{'id': 'Utils.Utils'}, 'DEFINED_IN', {'id': 'Utils.Utils.Unionfind'}, 'USES', {'id': 'Utils.Use_Cases.Collection_Deduplication'}, 'DEFINES', {'id': 'Utils.Use_Cases'}, 'DEFINES', {'id': 'Utils.Use_Cases.Nearest_Neighbor_Search'}, 'IMPORTED_IN', {'id': 'Deduplication.__Main__'}, 'INDIRECTLY_USED_IN', {'id': 'Utils.Use_Cases.Collection_Deduplication'}, 'IMPORTED_IN', {'id': 'Deduplication.__Main__'}, 'USED_IN', {'id': 'Psutil'}, 'USED_IN', {'id': 'Deduplication.__Main__.Log_Memory_Usage'}, 'DEFINED_IN', {'id': 'Deduplication.__Main__'}]}, {'path': [{'id': 'Utils.Utils'}, 'DEFINED_IN', {'id': 'Utils.Utils.Unionfind'}, 'USES', {'id': 'Utils.Use_Cases.Collection_Deduplication'}, 'DEFINES', {'id': 'Utils.Use_Cases'}, 'DEFINES', {'id': 'Utils.Use_Cases.Nearest_Neighbor_Search'}, 'IMPORTED_IN', {'id': 'Deduplication.__Main__'}, 'INDIRECTLY_USED_IN', {'id': 'Utils.Use_Cases.Collection_Deduplication'}, 'IMPORTED_IN', {'id': 'Deduplication.__Main__'}, 'USED_IN', {'id': 'Os'}, 'USED_IN', {'id': 'Deduplication.__Main__.Log_Memory_Usage'}, 'DEFINED_IN', {'id': 'Deduplication.__Main__'}]}, {'path': [{'id': 'Utils.Utils'}, 'DEFINED_IN', {'id': 'Utils.Utils.Unionfind'}, 'USES', {'id': 'Utils.Use_Cases.Collection_Deduplication'}, 'DEFINES', {'id': 'Utils.Use_Cases'}, 'DEFINES', {'id': 'Utils.Use_Cases.Nearest_Neighbor_Search'}, 'IMPORTED_IN', {'id': 'Deduplication.__Main__'}, 'INDIRECTLY_USED_IN', {'id': 'Utils.Use_Cases.Collection_Deduplication'}, 'IMPORTED_IN', {'id': 'Deduplication.__Main__'}, 'USED_IN', {'id': 'Logging'}, 'USED_IN', {'id': 'Deduplication.__Main__.Model'}, 'DEFINED_IN', {'id': 'Deduplication.__Main__'}]}, {'path': [{'id': 'Utils.Utils'}, 'DEFINED_IN', {'id': 'Utils.Utils.Unionfind'}, 'USES', {'id': 'Utils.Use_Cases.Collection_Deduplication'}, 'DEFINES', {'id': 'Utils.Use_Cases'}, 'DEFINES', {'id': 'Utils.Use_Cases.Nearest_Neighbor_Search'}, 'IMPORTED_IN', {'id': 'Deduplication.__Main__'}, 'INDIRECTLY_USED_IN', {'id': 'Utils.Use_Cases.Collection_Deduplication'}, 'IMPORTED_IN', {'id': 'Deduplication.__Main__'}, 'USED_IN', {'id': 'Logging'}, 'USED_IN', {'id': 'Deduplication.__Main__.Log_Memory_Usage'}, 'DEFINED_IN', {'id': 'Deduplication.__Main__'}]}, {'path': [{'id': 'Utils.Utils'}, 'DEFINED_IN', {'id': 'Utils.Utils.Unionfind'}, 'USES', {'id': 'Utils.Use_Cases.Collection_Deduplication'}, 'DEFINES', {'id': 'Utils.Use_Cases'}, 'DEFINES', {'id': 'Utils.Use_Cases.Nearest_Neighbor_Search'}, 'IMPORTED_IN', {'id': 'Deduplication.__Main__'}, 'INDIRECTLY_USED_IN', {'id': 'Utils.Use_Cases.Collection_Deduplication'}, 'IMPORTED_IN', {'id': 'Deduplication.__Main__'}, 'USED_IN', {'id': 'Time'}, 'USED_IN', {'id': 'Deduplication.__Main__.Model'}, 'DEFINED_IN', {'id': 'Deduplication.__Main__'}]}, {'path': [{'id': 'Utils.Utils'}, 'DEFINED_IN', {'id': 'Utils.Utils.Unionfind'}, 'USES', {'id': 'Utils.Use_Cases.Collection_Deduplication'}, 'DEFINES', {'id': 'Utils.Use_Cases'}, 'DEFINES', {'id': 'Utils.Use_Cases.Nearest_Neighbor_Search'}, 'IMPORTED_IN', {'id': 'Deduplication.__Main__'}, 'INDIRECTLY_USED_IN', {'id': 'Utils.Use_Cases.Collection_Deduplication'}, 'IMPORTED_IN', {'id': 'Deduplication.__Main__'}, {}], 'INDIRECTLY_USED_IN': {'id': 'Utils.Use_Cases.Collection_Deduplication'}, 'USES': {'id': 'Collections'}, 'USED_IN': {'id': 'Deduplication.Dedup.Baseline.Tokenize'}, 'DEFINED_IN': {'id': 'Deduplication.Dedup.Baseline'}, 'IMPORTED_IN': {'id': 'Deduplication.__Main__'}}]}\n"
     ]
    },
    {
     "name": "stderr",
     "output_type": "stream",
     "text": [
      "\u001b[92mINFO\u001b[0m:agent_router:Results: {'answer': '- The `Utils.Utils` module is defined in the `Utils.Utils.Unionfind`, which uses `Utils.Use_Cases.Collection_Deduplication`. This is part of `Utils.Use_Cases` that defines `Utils.Use_Cases.Nearest_Neighbor_Search`, all of which are imported into the `Deduplication.__Main__` module.\\n- The `Utils.Utils.Unionfind` uses `Utils.Use_Cases.Collection_Deduplication`; this, in turn, is indirectly used in `Deduplication.__Main__`.\\n- The functionality in `Utils.Utils` indirectly influences parts of `Deduplication.__Main__` through its associations with `Utils.Utils.Read_Tsv` and various other modules that are part of `Deduplication`.\\n- The `Deduplication.__Main__.Model` defined in `Deduplication.__Main__` uses various implementations in `Deduplication.Lshforest.Lshforest`, `Deduplication.Lshimproved.Lshimproved`, and `Deduplication.Lsh.Lsh`, all of which are connected to `Utils.Utils` through indirect usage pathways.\\n- Additionally, `Utils.Utils` is connected to logging and memory usage functions within `Deduplication.__Main__`, as well as interactions with `Psutil` and `Os`, which are used in `Deduplication.__Main__.Log_Memory_Usage`.', 'steps': ['generate_cypher', 'execute_cypher', 'generate_final_answer'], 'cypher_statement': \"MATCH path = (m1:Module {id: 'Utils.Utils'})-[*..10]-(m2:Module {id: 'Deduplication.__Main__'}) RETURN path LIMIT 50\", 'cypher_results': [{'path': [{'id': 'Utils.Utils'}, 'DEFINED_IN', {'id': 'Utils.Utils.Unionfind'}, 'USES', {'id': 'Utils.Use_Cases.Collection_Deduplication'}, 'DEFINES', {'id': 'Utils.Use_Cases'}, 'DEFINES', {'id': 'Utils.Use_Cases.Nearest_Neighbor_Search'}, 'IMPORTED_IN', {'id': 'Deduplication.__Main__'}]}, {'path': [{'id': 'Utils.Utils'}, 'DEFINED_IN', {'id': 'Utils.Utils.Unionfind'}, 'USES', {'id': 'Utils.Use_Cases.Collection_Deduplication'}, 'DEFINES', {'id': 'Utils.Use_Cases'}, 'DEFINES', {'id': 'Utils.Use_Cases.Nearest_Neighbor_Search'}, 'IMPORTED_IN', {'id': 'Deduplication.__Main__'}, 'INDIRECTLY_USED_IN', {'id': 'Utils.Use_Cases.Collection_Deduplication'}, 'IMPORTED_IN', {'id': 'Deduplication.__Main__'}]}, {'path': [{'id': 'Utils.Utils'}, 'DEFINED_IN', {'id': 'Utils.Utils.Unionfind'}, 'USES', {'id': 'Utils.Use_Cases.Collection_Deduplication'}, 'DEFINES', {'id': 'Utils.Use_Cases'}, 'DEFINES', {'id': 'Utils.Use_Cases.Nearest_Neighbor_Search'}, 'IMPORTED_IN', {'id': 'Deduplication.__Main__'}, 'INDIRECTLY_USED_IN', {'id': 'Utils.Use_Cases.Collection_Deduplication'}, 'IMPORTED_IN', {'id': 'Deduplication.__Main__'}, 'INDIRECTLY_USED_IN', {'id': 'Utils.Utils.Read_Tsv'}, 'IMPORTED_IN', {'id': 'Deduplication.__Main__'}]}, {'path': [{'id': 'Utils.Utils'}, 'DEFINED_IN', {'id': 'Utils.Utils.Unionfind'}, 'USES', {'id': 'Utils.Use_Cases.Collection_Deduplication'}, 'DEFINES', {'id': 'Utils.Use_Cases'}, 'DEFINES', {'id': 'Utils.Use_Cases.Nearest_Neighbor_Search'}, 'IMPORTED_IN', {'id': 'Deduplication.__Main__'}, 'INDIRECTLY_USED_IN', {'id': 'Utils.Use_Cases.Collection_Deduplication'}, 'IMPORTED_IN', {'id': 'Deduplication.__Main__'}, 'IMPORTED_IN', {'id': 'Utils.Utils.Read_Tsv'}, 'INDIRECTLY_USED_IN', {'id': 'Deduplication.__Main__'}]}, {'path': [{'id': 'Utils.Utils'}, 'DEFINED_IN', {'id': 'Utils.Utils.Unionfind'}, 'USES', {'id': 'Utils.Use_Cases.Collection_Deduplication'}, 'DEFINES', {'id': 'Utils.Use_Cases'}, 'DEFINES', {'id': 'Utils.Use_Cases.Nearest_Neighbor_Search'}, 'IMPORTED_IN', {'id': 'Deduplication.__Main__'}, 'INDIRECTLY_USED_IN', {'id': 'Utils.Use_Cases.Collection_Deduplication'}, 'IMPORTED_IN', {'id': 'Deduplication.__Main__'}, 'IMPORTED_IN', {'id': 'Deduplication.Lshforest.Lshforest'}, 'USED_IN', {'id': 'Deduplication.__Main__.Model'}, 'DEFINED_IN', {'id': 'Deduplication.__Main__'}]}, {'path': [{'id': 'Utils.Utils'}, 'DEFINED_IN', {'id': 'Utils.Utils.Unionfind'}, 'USES', {'id': 'Utils.Use_Cases.Collection_Deduplication'}, 'DEFINES', {'id': 'Utils.Use_Cases'}, 'DEFINES', {'id': 'Utils.Use_Cases.Nearest_Neighbor_Search'}, 'IMPORTED_IN', {'id': 'Deduplication.__Main__'}, 'INDIRECTLY_USED_IN', {'id': 'Utils.Use_Cases.Collection_Deduplication'}, 'IMPORTED_IN', {'id': 'Deduplication.__Main__'}, 'IMPORTED_IN', {'id': 'Deduplication.Lshimproved.Lshimproved'}, 'USED_IN', {'id': 'Deduplication.__Main__.Model'}, 'DEFINED_IN', {'id': 'Deduplication.__Main__'}]}, {'path': [{'id': 'Utils.Utils'}, 'DEFINED_IN', {'id': 'Utils.Utils.Unionfind'}, 'USES', {'id': 'Utils.Use_Cases.Collection_Deduplication'}, 'DEFINES', {'id': 'Utils.Use_Cases'}, 'DEFINES', {'id': 'Utils.Use_Cases.Nearest_Neighbor_Search'}, 'IMPORTED_IN', {'id': 'Deduplication.__Main__'}, 'INDIRECTLY_USED_IN', {'id': 'Utils.Use_Cases.Collection_Deduplication'}, 'IMPORTED_IN', {'id': 'Deduplication.__Main__'}, 'IMPORTED_IN', {'id': 'Deduplication.Lsh.Lsh'}, 'RETURNS_INSTANCE_OF', {'id': 'Deduplication.__Main__.Model'}, 'DEFINED_IN', {'id': 'Deduplication.__Main__'}]}, {'path': [{'id': 'Utils.Utils'}, 'DEFINED_IN', {'id': 'Utils.Utils.Unionfind'}, 'USES', {'id': 'Utils.Use_Cases.Collection_Deduplication'}, 'DEFINES', {'id': 'Utils.Use_Cases'}, 'DEFINES', {'id': 'Utils.Use_Cases.Nearest_Neighbor_Search'}, 'IMPORTED_IN', {'id': 'Deduplication.__Main__'}, 'INDIRECTLY_USED_IN', {'id': 'Utils.Use_Cases.Collection_Deduplication'}, 'IMPORTED_IN', {'id': 'Deduplication.__Main__'}, 'IMPORTED_IN', {'id': 'Deduplication.Lsh.Lsh'}, 'USED_IN', {'id': 'Deduplication.__Main__.Model'}, 'DEFINED_IN', {'id': 'Deduplication.__Main__'}]}, {'path': [{'id': 'Utils.Utils'}, 'DEFINED_IN', {'id': 'Utils.Utils.Unionfind'}, 'USES', {'id': 'Utils.Use_Cases.Collection_Deduplication'}, 'DEFINES', {'id': 'Utils.Use_Cases'}, 'DEFINES', {'id': 'Utils.Use_Cases.Nearest_Neighbor_Search'}, 'IMPORTED_IN', {'id': 'Deduplication.__Main__'}, 'INDIRECTLY_USED_IN', {'id': 'Utils.Use_Cases.Collection_Deduplication'}, 'IMPORTED_IN', {'id': 'Deduplication.__Main__'}, 'USED_IN', {'id': 'Psutil'}, 'USED_IN', {'id': 'Deduplication.__Main__.Log_Memory_Usage'}, 'DEFINED_IN', {'id': 'Deduplication.__Main__'}]}, {'path': [{'id': 'Utils.Utils'}, 'DEFINED_IN', {'id': 'Utils.Utils.Unionfind'}, 'USES', {'id': 'Utils.Use_Cases.Collection_Deduplication'}, 'DEFINES', {'id': 'Utils.Use_Cases'}, 'DEFINES', {'id': 'Utils.Use_Cases.Nearest_Neighbor_Search'}, 'IMPORTED_IN', {'id': 'Deduplication.__Main__'}, 'INDIRECTLY_USED_IN', {'id': 'Utils.Use_Cases.Collection_Deduplication'}, 'IMPORTED_IN', {'id': 'Deduplication.__Main__'}, 'USED_IN', {'id': 'Os'}, 'USED_IN', {'id': 'Deduplication.__Main__.Log_Memory_Usage'}, 'DEFINED_IN', {'id': 'Deduplication.__Main__'}]}, {'path': [{'id': 'Utils.Utils'}, 'DEFINED_IN', {'id': 'Utils.Utils.Unionfind'}, 'USES', {'id': 'Utils.Use_Cases.Collection_Deduplication'}, 'DEFINES', {'id': 'Utils.Use_Cases'}, 'DEFINES', {'id': 'Utils.Use_Cases.Nearest_Neighbor_Search'}, 'IMPORTED_IN', {'id': 'Deduplication.__Main__'}, 'INDIRECTLY_USED_IN', {'id': 'Utils.Use_Cases.Collection_Deduplication'}, 'IMPORTED_IN', {'id': 'Deduplication.__Main__'}, 'USED_IN', {'id': 'Logging'}, 'USED_IN', {'id': 'Deduplication.__Main__.Model'}, 'DEFINED_IN', {'id': 'Deduplication.__Main__'}]}, {'path': [{'id': 'Utils.Utils'}, 'DEFINED_IN', {'id': 'Utils.Utils.Unionfind'}, 'USES', {'id': 'Utils.Use_Cases.Collection_Deduplication'}, 'DEFINES', {'id': 'Utils.Use_Cases'}, 'DEFINES', {'id': 'Utils.Use_Cases.Nearest_Neighbor_Search'}, 'IMPORTED_IN', {'id': 'Deduplication.__Main__'}, 'INDIRECTLY_USED_IN', {'id': 'Utils.Use_Cases.Collection_Deduplication'}, 'IMPORTED_IN', {'id': 'Deduplication.__Main__'}, 'USED_IN', {'id': 'Logging'}, 'USED_IN', {'id': 'Deduplication.__Main__.Log_Memory_Usage'}, 'DEFINED_IN', {'id': 'Deduplication.__Main__'}]}, {'path': [{'id': 'Utils.Utils'}, 'DEFINED_IN', {'id': 'Utils.Utils.Unionfind'}, 'USES', {'id': 'Utils.Use_Cases.Collection_Deduplication'}, 'DEFINES', {'id': 'Utils.Use_Cases'}, 'DEFINES', {'id': 'Utils.Use_Cases.Nearest_Neighbor_Search'}, 'IMPORTED_IN', {'id': 'Deduplication.__Main__'}, 'INDIRECTLY_USED_IN', {'id': 'Utils.Use_Cases.Collection_Deduplication'}, 'IMPORTED_IN', {'id': 'Deduplication.__Main__'}, 'USED_IN', {'id': 'Time'}, 'USED_IN', {'id': 'Deduplication.__Main__.Model'}, 'DEFINED_IN', {'id': 'Deduplication.__Main__'}]}, {'path': [{'id': 'Utils.Utils'}, 'DEFINED_IN', {'id': 'Utils.Utils.Unionfind'}, 'USES', {'id': 'Utils.Use_Cases.Collection_Deduplication'}, 'DEFINES', {'id': 'Utils.Use_Cases'}, 'DEFINES', {'id': 'Utils.Use_Cases.Nearest_Neighbor_Search'}, 'IMPORTED_IN', {'id': 'Deduplication.__Main__'}, 'INDIRECTLY_USED_IN', {'id': 'Utils.Use_Cases.Collection_Deduplication'}, 'IMPORTED_IN', {'id': 'Deduplication.__Main__'}, {}], 'INDIRECTLY_USED_IN': {'id': 'Utils.Use_Cases.Collection_Deduplication'}, 'USES': {'id': 'Collections'}, 'USED_IN': {'id': 'Deduplication.Dedup.Baseline.Tokenize'}, 'DEFINED_IN': {'id': 'Deduplication.Dedup.Baseline'}, 'IMPORTED_IN': {'id': 'Deduplication.__Main__'}}]}\n"
     ]
    },
    {
     "name": "stdout",
     "output_type": "stream",
     "text": [
      "\u001b[90m2025-04-24 21:25:14\u001b[0m - \u001b[36magent_router\u001b[0m - \u001b[92mINFO\u001b[0m - Question: How is the Utils.Utils module related to the Deduplication.__Main__ module?\n"
     ]
    },
    {
     "name": "stderr",
     "output_type": "stream",
     "text": [
      "\u001b[92mINFO\u001b[0m:agent_router:Question: How is the Utils.Utils module related to the Deduplication.__Main__ module?\n"
     ]
    },
    {
     "name": "stdout",
     "output_type": "stream",
     "text": [
      "\u001b[90m2025-04-24 21:25:25\u001b[0m - \u001b[36magent_router\u001b[0m - \u001b[92mINFO\u001b[0m - Supervisor decided to route to: FINISH\n"
     ]
    },
    {
     "name": "stderr",
     "output_type": "stream",
     "text": [
      "\u001b[92mINFO\u001b[0m:agent_router:Supervisor decided to route to: FINISH\n"
     ]
    }
   ],
   "source": [
    "full_query = 'How is the Utils.Utils module related to the Deduplication.__Main__ module?'\n",
    "# full_query = 'What does the Deduplication.__Main__ module do?'\n",
    "\n",
    "# Add the user message to the conversation history\n",
    "user_message = HumanMessage(content=full_query)\n",
    "\n",
    "# Initialize the state with the user query\n",
    "initial_state = {\"messages\": [user_message]}\n",
    "result = graph.invoke(initial_state, config = config)"
   ]
  },
  {
   "cell_type": "code",
   "execution_count": 11,
   "id": "a4d35230",
   "metadata": {},
   "outputs": [
    {
     "data": {
      "text/plain": [
       "[HumanMessage(content='How is the Utils.Utils module related to the Deduplication.__Main__ module?', additional_kwargs={}, response_metadata={}, id='371c6701-4857-4a96-812b-f193c75209c3'),\n",
       " AIMessage(content=\"I've decided to route to micro because this is the appropriate next step.\", additional_kwargs={}, response_metadata={}, name='supervisor', id='a095fe7d-7f6c-451d-8892-69d8ba7842d3'),\n",
       " AIMessage(content=\"The `Utils.Utils` module plays a crucial role in the `Deduplication.__Main__` module by providing fundamental utilities that aid in document deduplication and nearest neighbor search operations. Here's an overview of their relationship:\\n\\n1. **Union-Find Operations**: The `UnionFind` class in `Utils.Utils` offers efficient set operations important for managing clusters of duplicates and merging them, which is essential for deduplication.\\n\\n2. **Locality-Sensitive Hashing (LSH)**: This utility is employed by various modules like `Deduplication.Lshforest.Lshforest`, `Deduplication.Lshimproved.Lshimproved`, and `Deduplication.Lsh.Lsh`, supporting deduplication and approximate nearest neighbor searches.\\n\\n3. **Performance and Logging**: The `Utils.Utils` module contributes to performance monitoring and logging by collaborating with system utilities such as `Psutil` and `Os`, allowing the tracking of resource usage and providing detailed logs.\\n\\nThese connections enhance the main script's capability to process large datasets efficiently while offering comprehensive insights into algorithmic performance and system resource utilization, facilitated by a flexible command-line interface.\", additional_kwargs={}, response_metadata={}, name='micro', id='8f4d4688-dbc1-416c-a707-8d4a2154d717'),\n",
       " AIMessage(content=\"I've decided to route to FINISH because this is the appropriate next step.\", additional_kwargs={}, response_metadata={}, name='supervisor', id='2f8f5235-b16e-4567-9ed5-96e0e2d29efc')]"
      ]
     },
     "execution_count": 11,
     "metadata": {},
     "output_type": "execute_result"
    }
   ],
   "source": [
    "result['messages']"
   ]
  },
  {
   "cell_type": "code",
   "execution_count": 12,
   "id": "a26e05c0",
   "metadata": {},
   "outputs": [
    {
     "name": "stdout",
     "output_type": "stream",
     "text": [
      "The `Utils.Utils` module plays a crucial role in the `Deduplication.__Main__` module by providing fundamental utilities that aid in document deduplication and nearest neighbor search operations. Here's an overview of their relationship:\n",
      "\n",
      "1. **Union-Find Operations**: The `UnionFind` class in `Utils.Utils` offers efficient set operations important for managing clusters of duplicates and merging them, which is essential for deduplication.\n",
      "\n",
      "2. **Locality-Sensitive Hashing (LSH)**: This utility is employed by various modules like `Deduplication.Lshforest.Lshforest`, `Deduplication.Lshimproved.Lshimproved`, and `Deduplication.Lsh.Lsh`, supporting deduplication and approximate nearest neighbor searches.\n",
      "\n",
      "3. **Performance and Logging**: The `Utils.Utils` module contributes to performance monitoring and logging by collaborating with system utilities such as `Psutil` and `Os`, allowing the tracking of resource usage and providing detailed logs.\n",
      "\n",
      "These connections enhance the main script's capability to process large datasets efficiently while offering comprehensive insights into algorithmic performance and system resource utilization, facilitated by a flexible command-line interface.\n"
     ]
    }
   ],
   "source": [
    "print(result['messages'][-2].content)"
   ]
  },
  {
   "cell_type": "markdown",
   "id": "635e2f3c",
   "metadata": {},
   "source": [
    "# Evaluation"
   ]
  },
  {
   "cell_type": "code",
   "execution_count": 57,
   "id": "3b605e27",
   "metadata": {},
   "outputs": [
    {
     "name": "stdout",
     "output_type": "stream",
     "text": [
      "c:\\Users\\JaeHoBahng\\Desktop\\Georgetown\\2025_Spring\\DSAN_6725\\project\\spring-2025-final-project-project-group-2\\src\n",
      "c:\\Users\\JaeHoBahng\\Desktop\\Georgetown\\2025_Spring\\DSAN_6725\\project\\spring-2025-final-project-project-group-2\\src\n"
     ]
    }
   ],
   "source": [
    "import os\n",
    "print(os.getcwd())\n",
    "os.chdir('c:\\\\Users\\\\JaeHoBahng\\\\Desktop\\\\Georgetown\\\\2025_Spring\\\\DSAN_6725\\\\project\\\\spring-2025-final-project-project-group-2\\\\src')\n",
    "print(os.getcwd())\n",
    "import importlib\n",
    "\n",
    "import tools.micro_text_answer as mta\n",
    "\n",
    "importlib.reload(mta)\n",
    "\n",
    "\n",
    "db_setup, query_engine = mta.create_rag_system(\n",
    "    repo_path=\"../docs/notebooks/assignment-2-mcdonald-s/src\",\n",
    "    embedding_model=\"text-embedding-3-large\",\n",
    "    llm_model=\"gpt-4o\",\n",
    ")"
   ]
  },
  {
   "cell_type": "code",
   "execution_count": 3,
   "id": "fa4a71e4",
   "metadata": {},
   "outputs": [],
   "source": [
    "docs = db_setup.all_docs"
   ]
  },
  {
   "cell_type": "code",
   "execution_count": 4,
   "id": "012a5483",
   "metadata": {},
   "outputs": [
    {
     "name": "stderr",
     "output_type": "stream",
     "text": [
      "c:\\Users\\JaeHoBahng\\Desktop\\Georgetown\\2025_Spring\\DSAN_6725\\project\\spring-2025-final-project-project-group-2\\.venv\\Lib\\site-packages\\tqdm\\auto.py:21: TqdmWarning: IProgress not found. Please update jupyter and ipywidgets. See https://ipywidgets.readthedocs.io/en/stable/user_install.html\n",
      "  from .autonotebook import tqdm as notebook_tqdm\n"
     ]
    }
   ],
   "source": [
    "from ragas.llms import LangchainLLMWrapper\n",
    "from ragas.embeddings import LangchainEmbeddingsWrapper\n",
    "from langchain_openai import ChatOpenAI\n",
    "from langchain_openai import OpenAIEmbeddings\n",
    "generator_llm = LangchainLLMWrapper(ChatOpenAI(model=\"gpt-4o\"))\n",
    "generator_embeddings = LangchainEmbeddingsWrapper(OpenAIEmbeddings())"
   ]
  },
  {
   "cell_type": "code",
   "execution_count": null,
   "id": "3a8c5556",
   "metadata": {},
   "outputs": [
    {
     "name": "stderr",
     "output_type": "stream",
     "text": [
      "Applying CustomNodeFilter:   0%|          | 0/46 [00:00<?, ?it/s]         Node 90e5fc0a-1b22-4257-b115-53a0683d2530 does not have a summary. Skipping filtering.\n",
      "Node 248a4442-f40b-4a00-a2b7-36e752fc5274 does not have a summary. Skipping filtering.\n",
      "Node e316158e-152e-40d9-a195-e01604e84e23 does not have a summary. Skipping filtering.\n",
      "Applying CustomNodeFilter:   9%|▊         | 4/46 [00:00<00:05,  7.57it/s]Node 7a648ee6-7e78-47bf-a510-8d021ef33b89 does not have a summary. Skipping filtering.\n",
      "Applying CustomNodeFilter:  13%|█▎        | 6/46 [00:00<00:03, 10.16it/s]Node c84fc18a-4412-4f1e-89ec-9a9f6a31811b does not have a summary. Skipping filtering.\n",
      "Node 7a5c5031-ae0a-45c5-8b42-c47c2d6cfa27 does not have a summary. Skipping filtering.\n",
      "Applying CustomNodeFilter:  46%|████▌     | 21/46 [00:01<00:01, 19.73it/s]Node 8a9cb394-a1c8-4866-bc32-816cc9ab2865 does not have a summary. Skipping filtering.\n",
      "Applying CustomNodeFilter:  57%|█████▋    | 26/46 [00:01<00:00, 25.53it/s]Node 13a3a24b-b0b4-49db-a37f-22dcb3da5b1d does not have a summary. Skipping filtering.\n",
      "Generating personas: 100%|██████████| 3/3 [00:00<00:00,  3.33it/s]                                             \n",
      "Generating Scenarios: 100%|██████████| 3/3 [00:22<00:00,  7.56s/it]\n",
      "Generating Samples: 100%|██████████| 12/12 [00:05<00:00,  2.26it/s]\n"
     ]
    }
   ],
   "source": [
    "from ragas.testset import TestsetGenerator\n",
    "\n",
    "generator = TestsetGenerator(llm=generator_llm, embedding_model=generator_embeddings)\n",
    "dataset = generator.generate_with_langchain_docs(docs, testset_size=20)"
   ]
  },
  {
   "cell_type": "code",
   "execution_count": 8,
   "id": "04da2c06",
   "metadata": {},
   "outputs": [],
   "source": [
    "pd_dataset = dataset.to_pandas()"
   ]
  },
  {
   "cell_type": "code",
   "execution_count": 38,
   "id": "b118f1f5",
   "metadata": {},
   "outputs": [],
   "source": [
    "# pd_dataset.head()"
   ]
  },
  {
   "cell_type": "code",
   "execution_count": null,
   "id": "626d558a",
   "metadata": {},
   "outputs": [],
   "source": [
    "# test_query = pd_dataset['user_input'][0]\n",
    "# test_results = query_engine.query(test_query)\n",
    "# test_results"
   ]
  },
  {
   "cell_type": "code",
   "execution_count": 58,
   "id": "c9758776",
   "metadata": {},
   "outputs": [
    {
     "name": "stdout",
     "output_type": "stream",
     "text": [
      "1\n",
      "2\n",
      "3\n",
      "4\n",
      "5\n",
      "6\n",
      "7\n",
      "8\n",
      "9\n",
      "10\n",
      "11\n",
      "12\n"
     ]
    }
   ],
   "source": [
    "result_list = []\n",
    "references_list = []\n",
    "num = 0\n",
    "for i in pd_dataset['user_input']:\n",
    "    num += 1\n",
    "    print(num)\n",
    "    results = query_engine.query(i)\n",
    "    references = [i.page_content for i in query_engine.retrieved_docs]\n",
    "\n",
    "    result_list.append(results)\n",
    "    references_list.append(references)\n",
    "\n",
    "pd_dataset['response'] = result_list\n",
    "pd_dataset['retrieved_contexts'] = references_list\n"
   ]
  },
  {
   "cell_type": "code",
   "execution_count": 59,
   "id": "4f9da761",
   "metadata": {},
   "outputs": [
    {
     "data": {
      "text/html": [
       "<div>\n",
       "<style scoped>\n",
       "    .dataframe tbody tr th:only-of-type {\n",
       "        vertical-align: middle;\n",
       "    }\n",
       "\n",
       "    .dataframe tbody tr th {\n",
       "        vertical-align: top;\n",
       "    }\n",
       "\n",
       "    .dataframe thead th {\n",
       "        text-align: right;\n",
       "    }\n",
       "</style>\n",
       "<table border=\"1\" class=\"dataframe\">\n",
       "  <thead>\n",
       "    <tr style=\"text-align: right;\">\n",
       "      <th></th>\n",
       "      <th>user_input</th>\n",
       "      <th>reference_contexts</th>\n",
       "      <th>reference</th>\n",
       "      <th>synthesizer_name</th>\n",
       "      <th>response</th>\n",
       "      <th>retrieved_contexts</th>\n",
       "    </tr>\n",
       "  </thead>\n",
       "  <tbody>\n",
       "    <tr>\n",
       "      <th>0</th>\n",
       "      <td>What are Bloom Filters used for in data proces...</td>\n",
       "      <td>[The code provided defines several implementat...</td>\n",
       "      <td>Bloom Filters are used to test whether an elem...</td>\n",
       "      <td>single_hop_specifc_query_synthesizer</td>\n",
       "      <td>Bloom Filters are used in data processing prim...</td>\n",
       "      <td>[### Usage:\\n\\nEach class is instantiated with...</td>\n",
       "    </tr>\n",
       "    <tr>\n",
       "      <th>1</th>\n",
       "      <td>How Kirsch-Mitzenmacher Optimization help in B...</td>\n",
       "      <td>[- **Methods**:\\n     - `add(item)`: \\n       ...</td>\n",
       "      <td>The Kirsch-Mitzenmacher Optimization in BloomF...</td>\n",
       "      <td>single_hop_specifc_query_synthesizer</td>\n",
       "      <td>**Kirsch-Mitzenmacher Optimization in Bloom Fi...</td>\n",
       "      <td>[2. **BloomFilter Class:**\\n   - Uses n-grams ...</td>\n",
       "    </tr>\n",
       "    <tr>\n",
       "      <th>2</th>\n",
       "      <td>Cud yu pleese explane how the BloomFilter_QF w...</td>\n",
       "      <td>[3. **BloomFilter_Uni_Hash**:\\n   - Uses **Uni...</td>\n",
       "      <td>The BloomFilter_QF implements a variant using ...</td>\n",
       "      <td>single_hop_specifc_query_synthesizer</td>\n",
       "      <td>The BloomFilter_QF class leverages a quotient ...</td>\n",
       "      <td>[2. **BloomFilter Class:**\\n   - Uses n-grams ...</td>\n",
       "    </tr>\n",
       "    <tr>\n",
       "      <th>3</th>\n",
       "      <td>what dedup.py do?</td>\n",
       "      <td>[The code provided is part of a Python module ...</td>\n",
       "      <td>The code provided is part of a Python module d...</td>\n",
       "      <td>single_hop_specifc_query_synthesizer</td>\n",
       "      <td>The script `dedup.py`, located at the path `de...</td>\n",
       "      <td>[This script, found at the path `deduplication...</td>\n",
       "    </tr>\n",
       "    <tr>\n",
       "      <th>4</th>\n",
       "      <td>How do tokenization and MinHash signatures con...</td>\n",
       "      <td>[&lt;1-hop&gt;\\n\\n7. **Method: `tokenize`**:\\n   - I...</td>\n",
       "      <td>Tokenization contributes to optimizing dedupli...</td>\n",
       "      <td>multi_hop_abstract_query_synthesizer</td>\n",
       "      <td>Tokenization and MinHash signatures play cruci...</td>\n",
       "      <td>[### Overall Functionality:\\nThe class provide...</td>\n",
       "    </tr>\n",
       "  </tbody>\n",
       "</table>\n",
       "</div>"
      ],
      "text/plain": [
       "                                          user_input  \\\n",
       "0  What are Bloom Filters used for in data proces...   \n",
       "1  How Kirsch-Mitzenmacher Optimization help in B...   \n",
       "2  Cud yu pleese explane how the BloomFilter_QF w...   \n",
       "3                                  what dedup.py do?   \n",
       "4  How do tokenization and MinHash signatures con...   \n",
       "\n",
       "                                  reference_contexts  \\\n",
       "0  [The code provided defines several implementat...   \n",
       "1  [- **Methods**:\\n     - `add(item)`: \\n       ...   \n",
       "2  [3. **BloomFilter_Uni_Hash**:\\n   - Uses **Uni...   \n",
       "3  [The code provided is part of a Python module ...   \n",
       "4  [<1-hop>\\n\\n7. **Method: `tokenize`**:\\n   - I...   \n",
       "\n",
       "                                           reference  \\\n",
       "0  Bloom Filters are used to test whether an elem...   \n",
       "1  The Kirsch-Mitzenmacher Optimization in BloomF...   \n",
       "2  The BloomFilter_QF implements a variant using ...   \n",
       "3  The code provided is part of a Python module d...   \n",
       "4  Tokenization contributes to optimizing dedupli...   \n",
       "\n",
       "                       synthesizer_name  \\\n",
       "0  single_hop_specifc_query_synthesizer   \n",
       "1  single_hop_specifc_query_synthesizer   \n",
       "2  single_hop_specifc_query_synthesizer   \n",
       "3  single_hop_specifc_query_synthesizer   \n",
       "4  multi_hop_abstract_query_synthesizer   \n",
       "\n",
       "                                            response  \\\n",
       "0  Bloom Filters are used in data processing prim...   \n",
       "1  **Kirsch-Mitzenmacher Optimization in Bloom Fi...   \n",
       "2  The BloomFilter_QF class leverages a quotient ...   \n",
       "3  The script `dedup.py`, located at the path `de...   \n",
       "4  Tokenization and MinHash signatures play cruci...   \n",
       "\n",
       "                                  retrieved_contexts  \n",
       "0  [### Usage:\\n\\nEach class is instantiated with...  \n",
       "1  [2. **BloomFilter Class:**\\n   - Uses n-grams ...  \n",
       "2  [2. **BloomFilter Class:**\\n   - Uses n-grams ...  \n",
       "3  [This script, found at the path `deduplication...  \n",
       "4  [### Overall Functionality:\\nThe class provide...  "
      ]
     },
     "execution_count": 59,
     "metadata": {},
     "output_type": "execute_result"
    }
   ],
   "source": [
    "pd_dataset.head()"
   ]
  },
  {
   "cell_type": "code",
   "execution_count": null,
   "id": "58714592",
   "metadata": {},
   "outputs": [],
   "source": []
  },
  {
   "cell_type": "code",
   "execution_count": 45,
   "id": "1edf0d15",
   "metadata": {},
   "outputs": [],
   "source": [
    "from ragas import EvaluationDataset\n",
    "import ast\n",
    "\n",
    "dataset_list = pd_dataset.to_dict(orient=\"records\")\n",
    "eval_data = EvaluationDataset.from_list(dataset_list)"
   ]
  },
  {
   "cell_type": "code",
   "execution_count": 46,
   "id": "e796b3c9",
   "metadata": {},
   "outputs": [],
   "source": [
    "from ragas import evaluate\n",
    "from ragas.llms import LangchainLLMWrapper\n",
    "\n",
    "from langchain.chat_models import init_chat_model\n",
    "\n",
    "llm = init_chat_model(\"gpt-4o\", model_provider=\"openai\")\n",
    "# generator_llm = LangchainLLMWrapper(llm)\n",
    "evaluator_llm = LangchainLLMWrapper(llm)"
   ]
  },
  {
   "cell_type": "code",
   "execution_count": 67,
   "id": "ae5454b4",
   "metadata": {},
   "outputs": [
    {
     "name": "stderr",
     "output_type": "stream",
     "text": [
      "Evaluating:  56%|█████▌    | 20/36 [02:51<02:54, 10.89s/it]Exception raised in Job[1]: TimeoutError()\n",
      "Exception raised in Job[4]: TimeoutError()\n",
      "Evaluating:  58%|█████▊    | 21/36 [03:00<02:31, 10.12s/it]Exception raised in Job[7]: TimeoutError()\n",
      "Exception raised in Job[10]: TimeoutError()\n",
      "Exception raised in Job[13]: TimeoutError()\n",
      "Exception raised in Job[16]: TimeoutError()\n",
      "Evaluating:  75%|███████▌  | 27/36 [03:04<00:29,  3.31s/it]Exception raised in Job[19]: TimeoutError()\n",
      "Evaluating:  81%|████████  | 29/36 [03:14<00:26,  3.81s/it]Exception raised in Job[22]: TimeoutError()\n",
      "Evaluating:  97%|█████████▋| 35/36 [04:16<00:08,  8.36s/it]Exception raised in Job[28]: TimeoutError()\n",
      "Evaluating: 100%|██████████| 36/36 [04:41<00:00,  7.82s/it]\n"
     ]
    },
    {
     "data": {
      "text/plain": [
       "{'context_recall': 0.8278, 'faithfulness': 0.7533, 'factual_correctness(mode=recall)': 0.6842}"
      ]
     },
     "execution_count": 67,
     "metadata": {},
     "output_type": "execute_result"
    }
   ],
   "source": [
    "from ragas.metrics import LLMContextRecall, Faithfulness, FactualCorrectness\n",
    "\n",
    "result = evaluate(dataset=eval_data,metrics=[LLMContextRecall(), Faithfulness(), FactualCorrectness(mode=\"recall\")],llm=evaluator_llm)\n",
    "result"
   ]
  },
  {
   "cell_type": "code",
   "execution_count": 69,
   "id": "386c02b5",
   "metadata": {},
   "outputs": [
    {
     "name": "stdout",
     "output_type": "stream",
     "text": [
      "How do tokenization and MinHash signatures contribute to optimizing deduplication processes in large datasets, and how is performance monitored?\n"
     ]
    }
   ],
   "source": [
    "print(pd_dataset.iloc[4]['user_input'])"
   ]
  },
  {
   "cell_type": "code",
   "execution_count": 70,
   "id": "b81c2406",
   "metadata": {},
   "outputs": [
    {
     "name": "stdout",
     "output_type": "stream",
     "text": [
      "Tokenization contributes to optimizing deduplication processes by splitting a document into words (tokens) and using a `Counter` object to provide word frequencies, which helps in identifying duplicates based on word count resemblance. MinHash signatures are computed using a specified number of hash functions, which are part of the initialization parameters for a class that handles deduplication. These signatures help in efficiently identifying similar documents by mapping bands to document IDs for candidate pairing. Performance is monitored through a memory logging function `log_memory_usage()`, which logs the process's memory usage to debug and optimize resource utilization.\n"
     ]
    }
   ],
   "source": [
    "print(pd_dataset.iloc[4]['reference'])"
   ]
  },
  {
   "cell_type": "code",
   "execution_count": 71,
   "id": "86e6976f",
   "metadata": {},
   "outputs": [
    {
     "name": "stdout",
     "output_type": "stream",
     "text": [
      "Tokenization and MinHash signatures play crucial roles in enhancing the efficiency of deduplication processes in large datasets. Tokenization breaks down documents into smaller components, such as words or tokens, which can then be analyzed for content overlap or similarities. This lays the groundwork for more advanced similarity detection methods, such as MinHash signatures.\n",
      "\n",
      "MinHash signatures help by creating a compact representation of a document's content through hashing techniques. By generating shingles from tokenized documents and then applying MinHash, documents are translated into a set of signatures. These signatures are far more space-efficient than directly comparing all tokens or words, enabling quick similarity assessments across vast datasets. The use of MinHash allows for the identification of near-duplicates by comparing these signatures rather than entire documents, significantly speeding up the deduplication process.\n",
      "\n",
      "Performance monitoring and optimization are facilitated via methods like banding, which organizes MinHash signatures into bands. This technique helps to efficiently identify candidate pairs for further inspection by grouping documents with similar signature segments. Additionally, advanced probing strategies such as nearby banding, bit flips, and Gaussian noise adjustments further refine the candidate pairing process, ensuring that potential duplicates are not overlooked.\n",
      "\n",
      "By combining these methodologies, the deduplication process not only becomes more efficient but also scalable, ensuring that even in massive data environments, similar and duplicate documents are handled effectively while maintaining computational resources. Performance is monitored by tracking deduplication speed and memory usage, ensuring the process remains optimized and scalable for large-scale applications.\n"
     ]
    }
   ],
   "source": [
    "print(pd_dataset.iloc[4]['response'])"
   ]
  },
  {
   "cell_type": "code",
   "execution_count": 83,
   "id": "84e5b2f4",
   "metadata": {},
   "outputs": [
    {
     "name": "stdout",
     "output_type": "stream",
     "text": [
      "<1-hop>\n",
      "\n",
      "7. **Method: `tokenize`**:\n",
      "   - Inputs: A single document string.\n",
      "   - Functionality: Splits the document into words (tokens) based on spaces and returns a `Counter` object that provides word frequencies.\n",
      "\n",
      "8. **Method: `word_count_baseline`**:\n",
      "   - Inputs: A list of document strings and a `threshold` specifying the minimum word overlap fraction required to consider two documents as duplicates.\n",
      "   - Functionality: Uses word count resemblance to identify duplicates. For every pair of documents, it computes the overlap ratio by comparing the intersection and union of their word frequencies.\n",
      "   - If the overlap ratio meets or exceeds the given threshold, the document pair is flagged as a duplicate.\n",
      "   - Outputs: A list of tuples, each containing two documents identified as duplicates.\n",
      "<2-hop>\n",
      "\n",
      "2. **Initialization (__init__ method)**:\n",
      "   - The class is initialized with four parameters:\n",
      "     - `num_hashes`: Total number of hash functions used for computing MinHash signatures.\n",
      "     - `num_bands`: Number of bands used in LSH banding.\n",
      "     - `rows_per_band`: Number of rows in each band. It must be noted that the total number of hash functions (`num_hashes`) should equal the product of `num_bands` and `rows_per_band`.\n",
      "     - `k`: Size of shingles, which determines the granularity of document fragmentation (either by words or characters).\n",
      "   - Four data structures are initialized as attributes of the class:\n",
      "     - `index`: A dictionary to map bands to document IDs for candidate pairing.\n",
      "     - `unique_docs`: A dictionary for the storage of documents stripped of exact duplicates.\n",
      "     - `cleaned_docs`: Contains pre-processed versions of the text data within documents.\n",
      "     - `candidate_pairs`: A set to store pairs of documents that may potentially be duplicates.\n",
      "<3-hop>\n",
      "\n",
      "5. **Memory Logging Function**: A helper function `log_memory_usage()` logs the process's memory usage to monitor and debug performance aspects concerning resource utilization.\n",
      "\n",
      "6. **Default Configuration**: Depending on whether the `LSH_forest` method is chosen, default values for number of hashes, bands, rows per band, k (shingle length), and number of trees are assigned. These settings can be overridden by command-line arguments.\n",
      "\n",
      "7. **Model Initialization**: The script initializes a Locality Sensitive Hashing (LSH) model based on user-specified or default parameters. The chosen method determines which concrete implementation of LSH to use—whether a basic LSH, an improved multi-probe variant, or an LSH forest.\n"
     ]
    }
   ],
   "source": [
    "for i in pd_dataset.iloc[4]['reference_contexts']:\n",
    "    print(i)"
   ]
  },
  {
   "cell_type": "code",
   "execution_count": 84,
   "id": "f13e5e96",
   "metadata": {},
   "outputs": [
    {
     "name": "stdout",
     "output_type": "stream",
     "text": [
      "### Overall Functionality:\n",
      "The class provides a comprehensive approach to deduplication using simple, yet effective methods such as hashing and word/token comparisons. It uses these strategies to both exactly match document contents and also assess similarity using word overlap, making it adaptable for different deduplication scenarios. These baseline methods could serve as a starting point for more sophisticated deduplication algorithms or be directly used in contexts where simple duplicate detection suffices.\n",
      "4. **Removing Exact Duplicates (`remove_duplicates`)**:\n",
      "    - This method processes a dictionary of documents, identifies exact duplicates, and stores only unique documents.\n",
      "    - It updates `unique_docs` with non-duplicate documents and records duplicate relationships in `exact_duplicates`.\n",
      "\n",
      "5. **Computing MinHash Signatures (`compute_minhash_signatures`)**:\n",
      "    - The method begins by removing exact duplicates.\n",
      "    - It cleans the documents using a utility function, then creates shingles from these cleaned documents.\n",
      "    - MinHash signatures are computed for each document using the `minhash` function. This is done in parallel to improve efficiency.\n",
      "    - The calculated signatures are returned, and the internal state of the class is updated with cleaned and shingled documents.\n",
      "This class and its methodologies are designed to improve the efficiency and accuracy of detecting similar pairs in large datasets by deploying multiple hashing trees and combining their outputs. This is particularly useful in deduplication tasks or clustering scenarios where robust and scalable similarity detection is critical.\n",
      "6. **Banding Method**:\n",
      "    - This function applies the banding technique to the MinHash signatures.\n",
      "    - It acts by creating \"bands\" from segments of MinHash signatures. If documents share the same band, they are considered potential duplicates.\n",
      "    - Candidate pairings (potential duplicates) are stored in the `candidate_pairs` attribute.\n",
      "\n",
      "In essence, this class leverages hashing techniques to efficiently identify similar documents by grouping them into hash \"buckets.\" This is crucial for large-scale deduplication tasks where finding near-duplicates quickly is essential. The class provides a structured approach to using LSH for document comparison tasks, making it suitable for tasks involved in large data processing systems where speed and memory efficiency are key.\n",
      "The `LSHImproved` class is an advanced implementation of Locality Sensitive Hashing (LSH) with enhancements for document deduplication and similarity detection, leveraging MinHashing and banding techniques. Here's a detailed description of its components and functions:\n",
      "\n",
      "### Class: `LSHImproved`\n",
      "\n",
      "- **Objective**: This class implements an improved LSH technique using a multi-probe approach to enhance traditional LSH. The primary goal is to optimize space usage and efficiency while performing document deduplication and similarity searches.\n",
      "- **Methods**:\n",
      "  - **`__init__`**: Initializes the class with default or user-defined parameters, asserting that `num_hashes` equals `num_bands * rows_per_band`.\n",
      "\n",
      "  - **`remove_duplicates`**: Removes exact duplicates from a given set of documents. It populates `unique_docs` with unique entries and `exact_duplicates` to track duplicate occurrences.\n",
      "\n",
      "  - **`compute_minhash_signatures`**: Computes MinHash signatures for documents. It first removes duplicates, processes document cleaning, generates shingles, and finally calculates MinHash signatures using parallel processing.\n",
      "\n",
      "  - **`nearby_banding`**: Generates multiple variations of a given hash band by perturbing its elements using modulus operations. This helps in detecting documents that are close matches.\n",
      "\n",
      "  - **`bit_flip`**: Similar to `nearby_banding`, this method perturbs a band by flipping random bits in its hash values, creating variations potentially representing similar documents.\n",
      "5. **Model Initialization**:\n",
      "    - A `model` function initializes the selected deduplication model based on method arguments.\n",
      "    - The process involves:\n",
      "      - Timing the initialization and processing phases.\n",
      "      - Creating the appropriate LSH object depending on the chosen method.\n",
      "      - Computing MinHash signatures and applying the LSH banding technique for efficient document comparisons.\n",
      "\n",
      "6. **Read Input**: \n",
      "    - The input file is read from the specified directory using `read_tsv`, and reading time is logged.\n",
      "This script, found at the path `deduplication.__main__.py`, is a command-line program for carrying out deduplication tasks using various methods including Locality-Sensitive Hashing (LSH), an improved LSH with multi-probe lookup, LSH Forest, and a baseline method. Here's a detailed breakdown of the code:\n",
      "- **`bit_flip`**: Similar to `nearby_banding`, this method perturbs a band by flipping random bits in its hash values, creating variations potentially representing similar documents.\n",
      "\n",
      "  - **`gaussian`**: Perturbs a band by adding Gaussian noise to its elements, providing a different method for deriving nearby bands by slightly altering hash values.\n",
      "\n",
      "  - **`banding`**: Organizes MinHash signatures into bands and applies the selected perturbation strategy to create neighboring bands. It indexes document pairs that share bands and updates the `candidate_pairs` with likely similar document pairs.\n",
      "\n",
      "Overall, this class provides a robust framework for high-performance document deduplication and similarity detection by combining hashing, banding, and multi-probe techniques to efficiently handle large datasets and reduce computational overhead.\n",
      "- **Attributes**:\n",
      "  - `num_hashes`: Number of hash functions used to create MinHash signatures.\n",
      "  - `num_bands`: Number of bands used in the LSH technique.\n",
      "  - `rows_per_band`: Number of rows in each band (ensuring `num_hashes = num_bands * rows_per_band`).\n",
      "  - `index`: A `defaultdict` used for storing band and document ID relationships for candidate pair identification.\n",
      "  - `unique_docs`: A dictionary containing documents after exact duplicates are removed.\n",
      "  - `cleaned_docs`: Stores pre-processed, cleaned documents.\n",
      "  - `candidate_pairs`: A set containing pairs of document IDs that are considered candidates for being duplicates.\n",
      "  - `exact_duplicates`: Maps original document IDs to their duplicate document IDs.\n",
      "  - `banding_method`: Method used for probing nearby bands, which can include 'nearby_banding', 'bit_flip', or 'gaussian'.\n",
      "  - `k`: The size of shingles generated from the documents, affecting the granularity of MinHashing.\n"
     ]
    }
   ],
   "source": [
    "for i in pd_dataset.iloc[4]['retrieved_contexts']:\n",
    "    print(i)"
   ]
  },
  {
   "cell_type": "code",
   "execution_count": 73,
   "id": "071f1015",
   "metadata": {},
   "outputs": [
    {
     "data": {
      "text/plain": [
       "[{'context_recall': 1.0, 'faithfulness': {}, 'factual_correctness': np.float64(0.83)},\n",
       " {'context_recall': 1.0, 'faithfulness': {}, 'factual_correctness': np.float64(1.0)},\n",
       " {'context_recall': 1.0, 'faithfulness': {}, 'factual_correctness': np.float64(0.89)},\n",
       " {'context_recall': 1.0, 'faithfulness': {}, 'factual_correctness': np.float64(1.0)},\n",
       " {'context_recall': 0.5, 'faithfulness': {}, 'factual_correctness': np.float64(0.36)},\n",
       " {'context_recall': 0.8333333333333334, 'faithfulness': {}, 'factual_correctness': np.float64(0.58)},\n",
       " {'context_recall': 1.0, 'faithfulness': {}, 'factual_correctness': np.float64(0.82)},\n",
       " {'context_recall': 0.6, 'faithfulness': {}, 'factual_correctness': np.float64(0.58)},\n",
       " {'context_recall': 0.5, 'faithfulness': 0.8846153846153846, 'factual_correctness': np.float64(0.67)},\n",
       " {'context_recall': 1.0, 'faithfulness': {}, 'factual_correctness': np.float64(0.64)},\n",
       " {'context_recall': 1.0, 'faithfulness': 0.76, 'factual_correctness': np.float64(0.44)},\n",
       " {'context_recall': 0.5, 'faithfulness': 0.6153846153846154, 'factual_correctness': np.float64(0.4)}]"
      ]
     },
     "execution_count": 73,
     "metadata": {},
     "output_type": "execute_result"
    }
   ],
   "source": [
    "result.traces"
   ]
  },
  {
   "cell_type": "code",
   "execution_count": null,
   "id": "45a90662",
   "metadata": {},
   "outputs": [
    {
     "data": {
      "text/plain": [
       "[{'context_recall': 1.0, 'faithfulness': {}, 'factual_correctness': np.float64(0.83)},\n",
       " {'context_recall': 1.0, 'faithfulness': {}, 'factual_correctness': np.float64(1.0)},\n",
       " {'context_recall': 1.0, 'faithfulness': {}, 'factual_correctness': np.float64(0.89)},\n",
       " {'context_recall': 1.0, 'faithfulness': {}, 'factual_correctness': np.float64(1.0)},\n",
       " {'context_recall': 0.5, 'faithfulness': {}, 'factual_correctness': np.float64(0.36)},\n",
       " {'context_recall': 0.8333333333333334, 'faithfulness': {}, 'factual_correctness': np.float64(0.58)},\n",
       " {'context_recall': 1.0, 'faithfulness': {}, 'factual_correctness': np.float64(0.82)},\n",
       " {'context_recall': 0.6, 'faithfulness': {}, 'factual_correctness': np.float64(0.58)},\n",
       " {'context_recall': 0.5, 'faithfulness': 0.8846153846153846, 'factual_correctness': np.float64(0.67)},\n",
       " {'context_recall': 1.0, 'faithfulness': {}, 'factual_correctness': np.float64(0.64)},\n",
       " {'context_recall': 1.0, 'faithfulness': 0.76, 'factual_correctness': np.float64(0.44)},\n",
       " {'context_recall': 0.5, 'faithfulness': 0.6153846153846154, 'factual_correctness': np.float64(0.4)}]"
      ]
     },
     "execution_count": 77,
     "metadata": {},
     "output_type": "execute_result"
    }
   ],
   "source": [
    "result"
   ]
  },
  {
   "cell_type": "code",
   "execution_count": null,
   "id": "8580fb46",
   "metadata": {},
   "outputs": [],
   "source": []
  },
  {
   "cell_type": "code",
   "execution_count": null,
   "id": "3b181912",
   "metadata": {},
   "outputs": [],
   "source": []
  },
  {
   "cell_type": "code",
   "execution_count": 23,
   "id": "b938f96d",
   "metadata": {},
   "outputs": [
    {
     "data": {
      "text/plain": [
       "[Document(id='c9927211-37b5-4885-af49-44556c55348a', metadata={'source': 'deduplication.bloom_filter.py'}, page_content='Each class is designed to balance space efficiency with computation speed while providing varying optimizations to bloom filter operations. These variations encompass foundational techniques for reducing hash computations required for membership checks, improving speed, and potentially lowering false positive rates under different scenarios.'),\n",
       " Document(id='d4335b4a-ad72-4206-939d-54ed337376ef', metadata={'source': 'deduplication.bloom_filter.py'}, page_content='The code provided defines several implementations of the Bloom Filter, a probabilistic data structure used to test whether an element is a member of a set. Bloom Filters can efficiently check for membership with a certain probability of false positives but no false negatives, making them useful in applications where space efficiency and speed are crucial.\\n\\n### Overview of Classes\\n\\n1. **BloomFilter**: \\n   - **Initialization**: \\n     - Takes two parameters: `n`, the maximum number of elements expected in the filter, and `f`, the desired false positive rate.\\n     - Computes the size of the bit array `m` using the formula `-ln(f) * n / (ln(2)^2)`.\\n     - Determines the number of hash functions `k` necessary for optimal performance with the formula `(m / n) * ln(2)`.\\n     - Initializes a bit array of size `m` with all bits set to 0.'),\n",
       " Document(id='a5159d13-62af-485e-a451-f4bf81025a91', metadata={'source': 'utils.visualizations.py'}, page_content='Overall, the file provides functionality to test and visualize the performance of a Bloom Filter in terms of false positive rates as influenced by the number of hash functions used, leveraging both computational logic and visual insights.'),\n",
       " Document(id='f59278fc-f81c-4ec0-97dc-f551aa29007d', metadata={'source': 'utils.visualizations.py'}, page_content='2. **BloomFilter Class:**\\n   - The `BloomFilter` class is designed to efficiently check for membership of elements, with a trade-off that allows for false positives but does not permit false negatives.\\n   - **Initialization (`__init__` method):** \\n     - The constructor takes three parameters: `n` (maximum number of elements the filter is designed to hold), `f` (desired false positive rate), and `k` (the number of hash functions). If `k` is not specified, it will be calculated based on `n` and `f`.\\n     - Calculations involve determining the size of the bit array (`self.m`) using the formula `-math.log(self.f) * self.n / (math.log(2)**2)` which factors in the false positive rate.\\n     - A bit array (`self.bit_array`) is then initialized with size `m` and all bits set to zero.\\n   - **Adding an item (`add` method):** \\n     - This method adds an item to the Bloom Filter by hashing it with `k` different hash functions and setting the corresponding indices in the bit array to 1.'),\n",
       " Document(id='fb1bc1e9-38c1-4da2-8c92-8b2e9071afcc', metadata={'source': 'deduplication.bloom_filter.py'}, page_content='3. **BloomFilter_Uni_Hash**:\\n   - Uses **Universal Hashing**, where unique seeds are chosen for each hash function to increase the robustness against adversarial inputs.\\n   \\n   - **Methods**:\\n     - In `add(item)`, each seed from a predefined list generates a unique hash for the item, setting the respective bit positions in the bit array.\\n     - `query(item)` checks similarly if the derived indexes are set in the bit array, indicating potential presence.\\n\\n4. **BloomFilter_QF**:\\n   - Implements a variant using the **Quotient Filter** approach:\\n   - Utilizes a quotient-remainder breakdown of the hash value to decide the bit placement.\\n\\n   - **Methods**:\\n     - `add(item)` hashes the input and stores the remainder at the index defined by the quotient component.\\n     - `query(item)` retrieves and checks the value by comparing computed hash portions.'),\n",
       " Document(id='aa557037-5183-493b-8d6e-f5077fffa909', metadata={'source': 'utils.visualizations.py'}, page_content='- This method adds an item to the Bloom Filter by hashing it with `k` different hash functions and setting the corresponding indices in the bit array to 1.\\n   - **Querying an item (`query` method):**\\n     - This checks if an item might be present by verifying all `k` hash indices in the bit array. If any index is not set, the item is definitely not in the filter; otherwise, it might be in the filter (with the caveat of possible false positives).'),\n",
       " Document(id='5313755c-a316-47e4-b200-3e4f8fca76fa', metadata={'source': 'deduplication.bloom_filter.py'}, page_content='- **Methods**:\\n     - `add(item)`: \\n       - Converts the item into n-grams, hashes each n-gram using multiple hash functions, and sets the corresponding bit array positions to 1.\\n       \\n     - `query(item)`: \\n       - Similar to the `add` method, it checks if the n-gram positions in the bit array are set, indicating the possible presence of the item.\\n\\n2. **BloomFilter_KM_Opt**:\\n   - Incorporates the **Kirsch-Mitzenmacher Optimization** to reduce the number of hash computations by leveraging two initial hash values to derive others.\\n   \\n   - **Methods**:\\n     - `add(item)` and `query(item)` utilize linear combinations of two primary hash functions (h1 and h2) to reduce computation time for setting or checking `k` indices.'),\n",
       " Document(id='08392f43-bfe9-4a9c-adba-2f2fb3ad31ef', metadata={'source': 'utils.visualizations.py'}, page_content='The `utils.visualizations.py` file is primarily focused on the implementation and analysis of a Bloom Filter with respect to false positive rates. Here is a detailed breakdown of the code:\\n\\n1. **Imports:**\\n   - The code imports various modules for its operations including `mmh3` for hashing, `math` for mathematical calculations, `bitarray` for creating the bit array, `random` for generating random numbers, and `matplotlib.pyplot` alongside `plotly` modules for visualizations. `numpy` is imported as well, though it seems unused in the given code snippet.'),\n",
       " Document(id='118a859b-2734-44b9-9975-d6b61da7f116', metadata={'source': 'utils.visualizations.py'}, page_content='3. **Utility Functions:**\\n   - **`calculate_false_positive_rate`:**\\n     - This function computes the observed false positive rate by creating a BloomFilter instance with specified parameters (`n`, `f`, and `k`).\\n     - It adds `n` random elements to the filter and performs 10,000 random lookups to calculate the proportion of queries resulting in false positives.\\n   - **`plot_false_positive_rate_vs_hash_functions`:**\\n     - It uses `matplotlib` to plot false positive rates against varying numbers of hash functions (`k`), checking values from 1 to `max_k`.\\n     - The results are visualized in a plot that indicates how false positive rates change as the number of hash functions increases, and the figure is saved as a PNG file.\\n\\n4. **Execution Block (Commented Out):**\\n   - The `if __name__ == \"__main__\":` block suggests a scenario where the script could have been run directly to test the Bloom filter with specific parameters. This section is currently commented out.'),\n",
       " Document(id='cca3d0e4-da26-470a-a332-cb0ea7093015', metadata={'source': 'utils.use_cases.py'}, page_content=\"### Utilized Concepts\\n- **Locality Sensitive Hashing (LSH)**: LSH is a technique to hash input items to ensure that similar items are more likely to collide. It is particularly useful in handling large-scale data and finding nearest neighbors quickly.\\n- **Union-Find Data Structure**: This is used for efficiently managing and merging disjoint sets to handle cluster operations. It supports 'union' (to join sets) and 'find' (to determine the root representative of a set) operations efficiently.\\n- **MinHashing**: A technique used for estimating the similarity between datasets and used extensively with LSH to generate compact digital signatures of datasets.\")]"
      ]
     },
     "execution_count": 23,
     "metadata": {},
     "output_type": "execute_result"
    }
   ],
   "source": [
    "query_engine.retrieved_docs"
   ]
  },
  {
   "cell_type": "code",
   "execution_count": null,
   "id": "e2122ca2",
   "metadata": {},
   "outputs": [],
   "source": []
  },
  {
   "cell_type": "code",
   "execution_count": 8,
   "id": "9dabb4a5",
   "metadata": {},
   "outputs": [
    {
     "name": "stdout",
     "output_type": "stream",
     "text": [
      "The `Utils.Utils` module in the provided context is a vital component of a Python package designed for handling tasks related to document processing and deduplication. This module, located in `utils/utils.py`, encompasses a range of utility functions and a class, all tailored towards text processing, document comparison, and executing simple set operations effectively. \n",
      "\n",
      "Key features within the module include:\n",
      "\n",
      "1. **Text Cleaning Functionality**:\n",
      "   - The function `clean_document(text)` is designed to sanitize and standardize text by converting it to lowercase and stripping non-alphabetical characters, ensuring only lowercase letters and spaces are retained. This pre-processing is crucial for consistent text analysis, especially for tasks like deduplication and text clustering.\n",
      "\n",
      "2. **Union-Find Data Structure**:\n",
      "   - The module introduces a `UnionFind` class which implements a classic data structure facilitating efficient union and find operations. The `UnionFind` structure is remarkably useful in managing and linking groups of interconnected nodes, often required in the context of clustering documents based on similarity.\n",
      "\n",
      "3. **File Reading Utility**:\n",
      "   - It includes a function `read_tsv(tsv)`, capable of parsing Tab-Separated Values (TSV) files into dictionaries, enabling easy manipulation and retrieval of data, which is often necessary for large-scale document processing tasks.\n",
      "\n",
      "The overall significance of the `Utils.Utils` module lies in its targeted use for document deduplication, similarity detection, and nearest neighbor searches, particularly through the use of advanced methods like Locality Sensitive Hashing (LSH). These functionalities help in efficiently managing and comparing vast collections of text documents by reducing dimensionality and computational overhead, crucial in domains handling large datasets.\n",
      "\n",
      "Furthermore, the module interacts with other components of the package that implement probabilistic data structures such as Bloom Filters and enhancements like LSH Forest, thus, positioning itself as an essential toolkit for seamless and efficient document deduplication processes.\n"
     ]
    }
   ],
   "source": [
    "print(query_engine.query('What is the Utils.Utils module?'))"
   ]
  },
  {
   "cell_type": "code",
   "execution_count": 9,
   "id": "32a6df1a",
   "metadata": {},
   "outputs": [
    {
     "data": {
      "text/plain": [
       "[Document(id='6f2b6c5b-c95a-4f73-bd2c-f1baf70a31ce', metadata={'source': 'utils.utils.py'}, page_content='The provided code in `utils/utils.py` consists of several utility functions and a class, primarily geared toward text processing, document comparison, and simple set operations. Here\\'s a detailed description of each component:\\n\\n1. **Imports**: The script imports several modules such as `hashlib`, `re`, `xxhash`, and `Counter` from `collections`. These are used for hashing, regular expressions, and counting elements, respectively.\\n\\n2. **Function: `clean_document(text)`**:\\n   - Purpose: Cleans and normalizes a given text document by converting it to lowercase and removing non-alphabetical characters, preserving only lowercase letters and spaces.\\n   - Process: It uses a regular expression to filter out any characters that aren\\'t lowercase letters or spaces.\\n   - Example Usage: Transforming \"Hello, World!123\" into \"hello world\".'),\n",
       " Document(id='db96b8e8-4304-452a-a66f-0451aeaad2cc', metadata={'source': 'utils.utils.py'}, page_content='Overall, these utilities can be particularly useful in the realm of document deduplication, clustering, or similarity detection, especially in systems using techniques like MinHashing or shingling to manage and compare large text datasets.'),\n",
       " Document(id='7c4c590f-48ed-4114-a7a8-e47f46afbb62', metadata={'source': 'utils.use_cases.py'}, page_content='The provided code is part of a module aimed at solving use cases related to document deduplication and nearest neighbor searches using Locality Sensitive Hashing (LSH). This user-friendly, detailed explanation will guide you through understanding and utilizing the two central functions defined in `utils.use_cases.py`.\\n\\n### Overview of LSH:\\nLocality Sensitive Hashing is an algorithm designed to identify similar items efficiently, employed here for both document deduplication and establishing nearest neighbors among documents. LSH primarily works by hashing input data in such a manner that similar inputs fall into the same hash bucket with high probability.\\n\\n### Key Functions:'),\n",
       " Document(id='efeb8fe4-8d45-469b-b374-1fa1568b08a0', metadata={'source': 'utils.utils.py'}, page_content=\"5. **Class: `UnionFind`**:\\n   - Purpose: Implements a Union-Find (also known as Disjoint Set) data structure that supports efficient union and find operations with path compression.\\n   - Attributes & Methods:\\n     - `parent`: A dictionary that keeps track of the parent/root of each element.\\n     - `find(x)`: Determines the root of the set containing `x`, applying path compression to optimize future operations.\\n     - `union(x, y)`: Merges the sets containing elements `x` and `y` by linking their roots.\\n\\n6. **Function: `read_tsv(tsv)`**:\\n   - Purpose: Reads a TSV (tab-separated values) file and converts it into a dictionary where each line corresponds to a key-value pair (index-text).\\n   - Process: It reads each line of the file, extracting the index and text, and stores them in a dictionary.\\n   - Example Usage: Given a TSV file, it might produce a dictionary like `{1: 'This is the first document.', 2: 'Another document content.'}`.\"),\n",
       " Document(id='1716bc70-cb94-4291-85cd-c40af44eceec', metadata={'source': 'utils.visualizations.py'}, page_content=\"The provided code is centered around implementing and analyzing the performance of a Bloom Filter, a probabilistic data structure used for efficiently testing if an element is a member of a set. It's particularly useful in duplicate detection, where the set can potentially grow large, and memory efficiency is a concern.\\n\\n### Detailed Breakdown:\\n\\n1. **Imports**:\\n   - Various modules and libraries are imported, such as `mmh3` (for hash functions), `math` (for mathematical operations), `bitarray` (for creating space-efficient arrays of bits), and `random` (for generating pseudo-random numbers). Additionally, `matplotlib.pyplot` and `plotly` are imported for creating visualizations.\"),\n",
       " Document(id='67343b53-667b-4665-b404-db2f5e375d31', metadata={'source': 'deduplication.__init__.py'}, page_content='The code in the `__init__.py` file within the `deduplication` package serves a specific purpose related to managing and accessing version information of the package. Here’s a detailed breakdown:\\n\\n1. **Purpose of the `__init__.py` File**: \\n   In a Python package, the `__init__.py` file is used to mark a directory as a Python package directory. This file can also be used to initialize package-level data or to execute package-level code. In this particular file, the main task is to define the version of the package.'),\n",
       " Document(id='6f4322fe-5e1e-45e3-9143-d3057e92f10c', metadata={'source': 'deduplication.bloom_filter.py'}, page_content='3. **`BloomFilter_Uni_Hash` Class**:\\n   - Utilizes Universal Hashing by employing multiple random seeds for hash generation.\\n   - **Initialization**: Seeds are randomly generated for each of the hash functions.\\n   - **Add & Query Methods**: Similar to the standard Bloom filter but uses the unique set of seeds for hash computation.\\n\\n4. **`BloomFilter_QF` Class**:\\n   - Employs a quotient filter method, which can offer performance benefits particularly for certain types of data.\\n   - **Initialization**: Segregates the hash into a quotient and remainder. The quotient dictates the position in the filter array, while the remainder confirms presence.\\n   - **Add & Query Methods**: Specific to quotient filtering, utilizing the decomposition of hash into quotient and remainder to check membership.'),\n",
       " Document(id='7331324c-98fe-487e-87dd-9887157b627f', metadata={'source': 'deduplication.__main__.py'}, page_content=\"The code in the file `deduplication.__main__.py` is a script designed for handling document deduplication and nearest neighbor search using a command-line interface. Here's a detailed description of how the script works:\\n\\n1. **Imports and Setup**:\\n   - The script imports several essential modules, including `argparse` for command-line argument parsing, `time` for performance timing, and `logging` for generating logs. It also imports specific functions and classes from different parts of a project, which includes utilities for reading data files, and various deduplication mechanisms such as Baseline, LSH (Locality Sensitive Hashing), LSHImproved, and LSHForest.\"),\n",
       " Document(id='a161ef6a-8cb3-4566-b618-fe83a57ad0b7', metadata={'source': 'deduplication.LSHForest.py'}, page_content=\"The provided code defines a Python class named `LSHForest`, which is part of a module designed for deduplication using a technique known as Locality Sensitive Hashing (LSH). This class extends another class called `LSH`, presumably to add more advanced features and performance enhancements.\\n\\nLet's break down the code:\\n\\n1. **Imports**:\\n   - `defaultdict` from `collections` and `combinations` from `itertools` are imported. `defaultdict` is used to create dictionaries with default types, and `combinations` is used for generating all pair combinations from a list.\\n   - The `LSH` class from `deduplication.LSH` is imported, serving as the superclass for `LSHForest`.\\n   - Two utility functions, `split_dict` and `majority_vote`, are imported from `utils.utils`.\"),\n",
       " Document(id='a480c01d-5883-445b-80b9-963c9d7942d0', metadata={'source': 'deduplication.__main__.py'}, page_content='4. **Memory Usage Logging Function**:\\n   - A helper function `log_memory_usage` is used to log the current memory usage of the process for performance monitoring, using the `psutil` library.\\n\\n5. **Configuration of Default Parameters**:\\n   - Default parameters for various deduplication methods are set. These defaults can be overridden by command-line arguments.\\n\\n6. **Model Initialization and Execution**:\\n   - Depending on the method selected (`LSH`, `LSH_forest`, or `LSH_mp`), a model is initialized with the appropriate parameters.\\n   - The core deduplication operation is performed by computing MinHash signatures of the documents, applying an LSH banding technique, and recording the time taken for these operations.\\n\\n7. **Input Data Reading**:\\n   - The input dataset, presumably in TSV format, is read using a utility function `read_tsv`. The time taken to read the data is logged.')]"
      ]
     },
     "execution_count": 9,
     "metadata": {},
     "output_type": "execute_result"
    }
   ],
   "source": [
    "query_engine.retrieved_docs"
   ]
  },
  {
   "cell_type": "code",
   "execution_count": null,
   "id": "295a5b22",
   "metadata": {},
   "outputs": [],
   "source": []
  }
 ],
 "metadata": {
  "kernelspec": {
   "display_name": ".venv",
   "language": "python",
   "name": "python3"
  },
  "language_info": {
   "codemirror_mode": {
    "name": "ipython",
    "version": 3
   },
   "file_extension": ".py",
   "mimetype": "text/x-python",
   "name": "python",
   "nbconvert_exporter": "python",
   "pygments_lexer": "ipython3",
   "version": "3.13.2"
  }
 },
 "nbformat": 4,
 "nbformat_minor": 5
}
