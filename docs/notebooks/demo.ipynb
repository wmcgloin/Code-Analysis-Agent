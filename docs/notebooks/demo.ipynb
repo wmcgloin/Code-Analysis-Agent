{
 "cells": [
  {
   "cell_type": "markdown",
   "id": "a08a07e4",
   "metadata": {},
   "source": [
    "# Set Working Directory"
   ]
  },
  {
   "cell_type": "code",
   "execution_count": 1,
   "id": "ce76b030",
   "metadata": {},
   "outputs": [
    {
     "name": "stdout",
     "output_type": "stream",
     "text": [
      "c:\\Users\\JaeHoBahng\\Desktop\\Georgetown\\2025_Spring\\DSAN_6725\\project\\spring-2025-final-project-project-group-2\\docs\\notebooks\n",
      "c:\\Users\\JaeHoBahng\\Desktop\\Georgetown\\2025_Spring\\DSAN_6725\\project\\spring-2025-final-project-project-group-2\\src\n"
     ]
    }
   ],
   "source": [
    "import os\n",
    "print(os.getcwd())\n",
    "os.chdir('c:\\\\Users\\\\JaeHoBahng\\\\Desktop\\\\Georgetown\\\\2025_Spring\\\\DSAN_6725\\\\project\\\\spring-2025-final-project-project-group-2\\\\src')\n",
    "print(os.getcwd())"
   ]
  },
  {
   "cell_type": "markdown",
   "id": "73ec4272",
   "metadata": {},
   "source": [
    "# Preprocessing data (Default when repository is given)"
   ]
  },
  {
   "cell_type": "markdown",
   "id": "148c0133",
   "metadata": {},
   "source": [
    "## Create GRAPHRAG DB / Preprocess and insert Data"
   ]
  },
  {
   "cell_type": "code",
   "execution_count": 7,
   "id": "890de0dd",
   "metadata": {},
   "outputs": [
    {
     "name": "stderr",
     "output_type": "stream",
     "text": [
      "c:\\Users\\JaeHoBahng\\Desktop\\Georgetown\\2025_Spring\\DSAN_6725\\project\\spring-2025-final-project-project-group-2\\src\\tools\\micro_process.py:216: LangChainDeprecationWarning: The method `BaseTool.__call__` was deprecated in langchain-core 0.1.47 and will be removed in 1.0. Use :meth:`~invoke` instead.\n",
      "  repo_tree_string = generate_repo_tree(repo_path)\n"
     ]
    },
    {
     "name": "stdout",
     "output_type": "stream",
     "text": [
      "Processing file: deduplication\\bloom_filter.py\n",
      "Processing file: deduplication\\dedup.py\n",
      "Processing file: deduplication\\LSH.py\n",
      "Processing file: deduplication\\LSHForest.py\n",
      "Processing file: deduplication\\LSHImproved.py\n",
      "Processing file: deduplication\\__init__.py\n",
      "Processing file: deduplication\\__main__.py\n",
      "Processing file: utils\\use_cases.py\n",
      "Processing file: utils\\utils.py\n",
      "Processing file: utils\\visualizations.py\n",
      "Processing file: utils\\visualization_lsh.py\n",
      "Converting to graph documents...\n",
      "Adding graph documents to Neo4j...\n"
     ]
    }
   ],
   "source": [
    "from tools.micro_process import ProcessMicroData\n",
    "from langchain_anthropic import ChatAnthropic\n",
    "from langchain.chat_models import init_chat_model\n",
    "\n",
    "llm = init_chat_model(\"gpt-4o\", model_provider=\"openai\")\n",
    "# llm = ChatAnthropic(model=\"claude-3-5-sonnet-20240620\")\n",
    "\n",
    "gen_graphdb = ProcessMicroData(llm=llm)\n",
    "graph_db, graph_documents = gen_graphdb.analyze_codebase(repo_path='../docs/notebooks/assignment-2-mcdonald-s/src')"
   ]
  },
  {
   "cell_type": "markdown",
   "id": "558a61e9",
   "metadata": {},
   "source": [
    "### Reset Instance"
   ]
  },
  {
   "cell_type": "code",
   "execution_count": 9,
   "id": "d4c81e29",
   "metadata": {},
   "outputs": [],
   "source": [
    "# graph_db.query(\"MATCH (n) DETACH DELETE n\")"
   ]
  },
  {
   "cell_type": "markdown",
   "id": "6f080718",
   "metadata": {},
   "source": [
    "## Visualize Entire Graph"
   ]
  },
  {
   "cell_type": "code",
   "execution_count": 4,
   "id": "c93ef301",
   "metadata": {},
   "outputs": [
    {
     "name": "stdout",
     "output_type": "stream",
     "text": [
      "Graph saved as semantic_graph.html\n"
     ]
    }
   ],
   "source": [
    "a = gen_graphdb.create_visualization(graph_documents = graph_documents)"
   ]
  },
  {
   "cell_type": "markdown",
   "id": "2474ba62",
   "metadata": {},
   "source": [
    "## Create Vector DB / Preprocess and insert Data"
   ]
  },
  {
   "cell_type": "code",
   "execution_count": 7,
   "id": "1d91d496",
   "metadata": {},
   "outputs": [],
   "source": [
    "from tools.micro_text_answer import create_rag_system\n",
    "\n",
    "db_setup, query_engine = create_rag_system(\n",
    "    repo_path=\"../docs/notebooks/assignment-2-mcdonald-s/src\",\n",
    "    embedding_model=\"text-embedding-3-large\",\n",
    "    llm_model=\"claude-3-5-sonnet-20240620\",\n",
    ")\n"
   ]
  },
  {
   "cell_type": "markdown",
   "id": "3b81fdae",
   "metadata": {},
   "source": [
    "# Demonstrate Tools"
   ]
  },
  {
   "cell_type": "markdown",
   "id": "f4a86cee",
   "metadata": {},
   "source": [
    "## Cypher Query to generate initial Answer"
   ]
  },
  {
   "cell_type": "code",
   "execution_count": 1,
   "id": "4740742e",
   "metadata": {},
   "outputs": [
    {
     "name": "stdout",
     "output_type": "stream",
     "text": [
      "c:\\Users\\JaeHoBahng\\Desktop\\Georgetown\\2025_Spring\\DSAN_6725\\project\\spring-2025-final-project-project-group-2\\docs\\notebooks\n",
      "c:\\Users\\JaeHoBahng\\Desktop\\Georgetown\\2025_Spring\\DSAN_6725\\project\\spring-2025-final-project-project-group-2\\src\n"
     ]
    }
   ],
   "source": [
    "import os\n",
    "print(os.getcwd())\n",
    "os.chdir('c:\\\\Users\\\\JaeHoBahng\\\\Desktop\\\\Georgetown\\\\2025_Spring\\\\DSAN_6725\\\\project\\\\spring-2025-final-project-project-group-2\\\\src')\n",
    "print(os.getcwd())\n"
   ]
  },
  {
   "cell_type": "code",
   "execution_count": 2,
   "id": "a34203d5",
   "metadata": {},
   "outputs": [],
   "source": [
    "# from langchain_core.language_models import BaseChatModel\n",
    "# from langchain_neo4j import Neo4jGraph\n",
    "# from tools.micro_cypher_chain import CypherGraphBuilder\n",
    "\n",
    "# url = os.getenv('NEO4J_URI')\n",
    "# username = os.getenv('NEO4J_USERNAME')\n",
    "# password = os.getenv('NEO4J_PASSWORD')\n",
    "\n",
    "# graph_db = Neo4jGraph(\n",
    "#     url=url,\n",
    "#     username=username,\n",
    "#     password=password,\n",
    "#     enhanced_schema=True\n",
    "#     )\n",
    "\n",
    "# def retrieve_cypher_relationships(question: str):\n",
    "#     \"\"\"\n",
    "#     Connects to a local Neo4j instance and uses a language model to generate a Cypher-based graph\n",
    "#     representation of relationships between entities (e.g., code modules).\n",
    "\n",
    "#     Returns:\n",
    "#         dict: A structured representation of nodes and relationships inferred from the graph.\n",
    "#     \"\"\"\n",
    "\n",
    "#     # Create the Cypher graph\n",
    "#     builder = CypherGraphBuilder(llm=llm, graph_db=graph_db)\n",
    "#     # cypher_graph = builder.create_cypher_graph()\n",
    "#     cypher_graph = builder.create_cypher_graph()\n",
    "#     result = cypher_graph.invoke({\"question\": question})\n",
    "\n",
    "#     return result['answer']"
   ]
  },
  {
   "cell_type": "code",
   "execution_count": 3,
   "id": "5241cfc6",
   "metadata": {},
   "outputs": [
    {
     "name": "stderr",
     "output_type": "stream",
     "text": [
      "c:\\Users\\JaeHoBahng\\Desktop\\Georgetown\\2025_Spring\\DSAN_6725\\project\\spring-2025-final-project-project-group-2\\.venv\\Lib\\site-packages\\tqdm\\auto.py:21: TqdmWarning: IProgress not found. Please update jupyter and ipywidgets. See https://ipywidgets.readthedocs.io/en/stable/user_install.html\n",
      "  from .autonotebook import tqdm as notebook_tqdm\n"
     ]
    },
    {
     "name": "stdout",
     "output_type": "stream",
     "text": [
      "done\n",
      "done\n"
     ]
    }
   ],
   "source": [
    "from langchain_neo4j import Neo4jGraph\n",
    "from tools.micro_cypher_chain import CypherGraphBuilder\n",
    "from langchain_anthropic import ChatAnthropic\n",
    "\n",
    "url = os.getenv('NEO4J_URI')\n",
    "username = os.getenv('NEO4J_USERNAME')\n",
    "password = os.getenv('NEO4J_PASSWORD')\n",
    "\n",
    "graph_db = Neo4jGraph(\n",
    "    url=url,\n",
    "    username=username,\n",
    "    password=password,\n",
    "    enhanced_schema=True\n",
    ")\n",
    "\n",
    "\n",
    "# llm = ChatAnthropic(model=\"claude-3-5-sonnet-20240620\")\n",
    "from langchain.chat_models import init_chat_model\n",
    "llm = init_chat_model(\"gpt-4o-mini\", model_provider=\"openai\")\n",
    "\n",
    "\n",
    "builder = CypherGraphBuilder(llm=llm, graph_db=graph_db)\n",
    "cypher_graph = builder.create_cypher_graph()"
   ]
  },
  {
   "cell_type": "code",
   "execution_count": 4,
   "id": "3037437d",
   "metadata": {},
   "outputs": [],
   "source": [
    "result = cypher_graph.invoke({\"question\": \"How is the Utils.Utils module related to the Deduplication.__Main__ module?\"})"
   ]
  },
  {
   "cell_type": "code",
   "execution_count": 5,
   "id": "fd57f563",
   "metadata": {},
   "outputs": [
    {
     "data": {
      "text/plain": [
       "'The `Utils.Utils` module is related to the `Deduplication.__Main__` module in the following ways:\\n\\n- **Uses Minhash**: `Utils.Utils` imports `Utils.Utils.Minhash`, which is used in `Utils.Use_Cases.Nearest_Neighbor_Search` and is imported into `Deduplication.__Main__`.\\n- **Uses Shingle**: `Utils.Utils` imports `Utils.Utils.Shingle`, which is used in `Utils.Use_Cases.Nearest_Neighbor_Search` and is imported into `Deduplication.__Main__`.\\n- **Uses Clean Document**: `Utils.Utils` imports `Utils.Utils.Clean_Document`, which is used in `Utils.Use_Cases.Nearest_Neighbor_Search` and is imported into `Deduplication.__Main__`.\\n- **Reads TSV**: `Utils.Utils` defines `Utils.Utils.Read_Tsv`, which is used in `Deduplication.__Main__`.\\n- **Used in**: Definitions from `Utils.Utils` that involve `Utils.Utils.Read_Tsv` are specifically indicated as being used in `Deduplication.__Main__` and `Deduplication.__Main__.Main`.'"
      ]
     },
     "execution_count": 5,
     "metadata": {},
     "output_type": "execute_result"
    }
   ],
   "source": [
    "result['answer']"
   ]
  },
  {
   "cell_type": "code",
   "execution_count": 6,
   "id": "99d2fce4",
   "metadata": {},
   "outputs": [
    {
     "data": {
      "text/plain": [
       "[{'path': [{'id': 'Utils.Utils'},\n",
       "   'IMPORTED_FROM',\n",
       "   {'id': 'Utils.Utils.Unionfind'},\n",
       "   'DEFINES',\n",
       "   {'id': 'Utils.Utils'},\n",
       "   'IMPORTED_FROM',\n",
       "   {'id': 'Utils.Utils.Minhash'},\n",
       "   'USES',\n",
       "   {'id': 'Utils.Use_Cases.Nearest_Neighbor_Search'},\n",
       "   'IMPORTED_IN',\n",
       "   {'id': 'Deduplication.__Main__'}]},\n",
       " {'path': [{'id': 'Utils.Utils'},\n",
       "   'IMPORTED_FROM',\n",
       "   {'id': 'Utils.Utils.Unionfind'},\n",
       "   'DEFINES',\n",
       "   {'id': 'Utils.Utils'},\n",
       "   'IMPORTED_FROM',\n",
       "   {'id': 'Utils.Utils.Minhash'},\n",
       "   'USES',\n",
       "   {'id': 'Utils.Use_Cases.Nearest_Neighbor_Search'},\n",
       "   'USED_IN',\n",
       "   {'id': 'Deduplication.__Main__'}]},\n",
       " {'path': [{'id': 'Utils.Utils'},\n",
       "   'IMPORTED_FROM',\n",
       "   {'id': 'Utils.Utils.Unionfind'},\n",
       "   'DEFINES',\n",
       "   {'id': 'Utils.Utils'},\n",
       "   'IMPORTED_FROM',\n",
       "   {'id': 'Utils.Utils.Shingle'},\n",
       "   'USES',\n",
       "   {'id': 'Utils.Use_Cases.Nearest_Neighbor_Search'},\n",
       "   'IMPORTED_IN',\n",
       "   {'id': 'Deduplication.__Main__'}]},\n",
       " {'path': [{'id': 'Utils.Utils'},\n",
       "   'IMPORTED_FROM',\n",
       "   {'id': 'Utils.Utils.Unionfind'},\n",
       "   'DEFINES',\n",
       "   {'id': 'Utils.Utils'},\n",
       "   'IMPORTED_FROM',\n",
       "   {'id': 'Utils.Utils.Shingle'},\n",
       "   'USES',\n",
       "   {'id': 'Utils.Use_Cases.Nearest_Neighbor_Search'},\n",
       "   'USED_IN',\n",
       "   {'id': 'Deduplication.__Main__'}]},\n",
       " {'path': [{'id': 'Utils.Utils'},\n",
       "   'IMPORTED_FROM',\n",
       "   {'id': 'Utils.Utils.Unionfind'},\n",
       "   'DEFINES',\n",
       "   {'id': 'Utils.Utils'},\n",
       "   'IMPORTED_FROM',\n",
       "   {'id': 'Utils.Utils.Clean_Document'},\n",
       "   'USES',\n",
       "   {'id': 'Utils.Use_Cases.Nearest_Neighbor_Search'},\n",
       "   'IMPORTED_IN',\n",
       "   {'id': 'Deduplication.__Main__'}]},\n",
       " {'path': [{'id': 'Utils.Utils'},\n",
       "   'IMPORTED_FROM',\n",
       "   {'id': 'Utils.Utils.Unionfind'},\n",
       "   'DEFINES',\n",
       "   {'id': 'Utils.Utils'},\n",
       "   'IMPORTED_FROM',\n",
       "   {'id': 'Utils.Utils.Clean_Document'},\n",
       "   'USES',\n",
       "   {'id': 'Utils.Use_Cases.Nearest_Neighbor_Search'},\n",
       "   'USED_IN',\n",
       "   {'id': 'Deduplication.__Main__'}]},\n",
       " {'path': [{'id': 'Utils.Utils'},\n",
       "   'IMPORTED_FROM',\n",
       "   {'id': 'Utils.Utils.Unionfind'},\n",
       "   'DEFINES',\n",
       "   {'id': 'Utils.Utils'},\n",
       "   'DEFINES',\n",
       "   {'id': 'Utils.Utils.Read_Tsv'},\n",
       "   'IMPORTS',\n",
       "   {'id': 'Deduplication.__Main__'}]},\n",
       " {'path': [{'id': 'Utils.Utils'},\n",
       "   'IMPORTED_FROM',\n",
       "   {'id': 'Utils.Utils.Unionfind'},\n",
       "   'DEFINES',\n",
       "   {'id': 'Utils.Utils'},\n",
       "   'DEFINES',\n",
       "   {'id': 'Utils.Utils.Read_Tsv'},\n",
       "   'USED_IN',\n",
       "   {'id': 'Deduplication.__Main__.Main'},\n",
       "   'DEFINED_IN',\n",
       "   {'id': 'Deduplication.__Main__'}]},\n",
       " {'path': [{'id': 'Utils.Utils'},\n",
       "   'IMPORTED_FROM',\n",
       "   {'id': 'Utils.Utils.Unionfind'},\n",
       "   'DEFINES',\n",
       "   {'id': 'Utils.Utils'},\n",
       "   'DEFINES',\n",
       "   {'id': 'Utils.Utils.Read_Tsv'},\n",
       "   'USED_IN',\n",
       "   {'id': 'Deduplication.__Main__'}]},\n",
       " {'path': [{'id': 'Utils.Utils'},\n",
       "   'IMPORTED_FROM',\n",
       "   {'id': 'Utils.Utils.Unionfind'},\n",
       "   'DEFINES',\n",
       "   {'id': 'Utils.Utils'},\n",
       "   'DEFINES',\n",
       "   {'id': 'Utils.Utils.Minhash'},\n",
       "   'USES',\n",
       "   {'id': 'Utils.Use_Cases.Nearest_Neighbor_Search'},\n",
       "   'IMPORTED_IN',\n",
       "   {'id': 'Deduplication.__Main__'}]}]"
      ]
     },
     "execution_count": 6,
     "metadata": {},
     "output_type": "execute_result"
    }
   ],
   "source": [
    "result['cypher_results']"
   ]
  },
  {
   "cell_type": "code",
   "execution_count": 7,
   "id": "bde92fc9",
   "metadata": {},
   "outputs": [],
   "source": [
    "# graph_db.query(\"\"\"\n",
    "# MATCH path = (m1:Module {id: 'Utils.Utils'})-[*..5]-(m2:Module {id: 'Deduplication.__Main__'}) \n",
    "# WHERE NONE(n IN nodes(path) WHERE n:Package)\n",
    "# RETURN path\n",
    "# \"\"\")"
   ]
  },
  {
   "cell_type": "code",
   "execution_count": 13,
   "id": "44287b9c",
   "metadata": {},
   "outputs": [],
   "source": [
    "# import os\n",
    "# print(os.getcwd())\n",
    "# os.chdir('c:\\\\Users\\\\JaeHoBahng\\\\Desktop\\\\Georgetown\\\\2025_Spring\\\\DSAN_6725\\\\project\\\\spring-2025-final-project-project-group-2\\\\src')\n",
    "# print(os.getcwd())\n",
    "\n",
    "# from tools.micro_tools import (retrieve_cypher_relationships)\n",
    "\n",
    "# cypher_generator = retrieve_cypher_relationships(\"How is the Utils.Utils module related to the Deduplicatioin.__Main__ module?\")"
   ]
  },
  {
   "cell_type": "code",
   "execution_count": null,
   "id": "6740a08f",
   "metadata": {},
   "outputs": [],
   "source": []
  },
  {
   "cell_type": "markdown",
   "id": "21060bcb",
   "metadata": {},
   "source": [
    "## Final Text Response(VectorDB)"
   ]
  },
  {
   "cell_type": "code",
   "execution_count": 9,
   "id": "0cd37ec8",
   "metadata": {},
   "outputs": [
    {
     "name": "stdout",
     "output_type": "stream",
     "text": [
      "Based on the provided sentence and context, I can add relevant details to make it more informative and useful:\n",
      "\n",
      "The `Utils.Utils` module is a crucial component in the `Deduplication.__Main__` module, providing essential functionality for document processing and deduplication. Specifically:\n",
      "\n",
      "1. The `Utils.Utils` module offers several key functions that are utilized in `Deduplication.__Main__`:\n",
      "\n",
      "   - `Read_Tsv`: This function reads tab-separated values (TSV) files, likely used to load document datasets for deduplication.\n",
      "   - `Minhash`: Implements the MinHash algorithm to create compact signatures of document shingles, essential for efficient similarity estimation between documents.\n",
      "   - `Shingle`: Generates k-shingles from text, preserving some word order information for document comparison.\n",
      "   - `Clean_Document`: Normalizes text by converting to lowercase and removing non-alphabetic characters, crucial for preprocessing before analysis.\n",
      "   - `Majority_Vote`: Performs a majority vote on candidate pairs, likely used to determine which document pairs are considered duplicates based on multiple criteria.\n",
      "\n",
      "2. The `Utils.Utils.Unionfind` class, which implements the Union-Find (Disjoint Set) data structure with path compression, is utilized in `Deduplication.__Main__` through its association with `Collection_Deduplication`. This data structure is efficient for grouping similar items together, which is a key operation in the deduplication process.\n",
      "\n",
      "3. The `Utils.Utils` module also interacts with other components like `Deduplication.Dedup.Baseline`, which provides a baseline approach for detecting duplicate documents using MD5 hashes. This interaction suggests that `Deduplication.__Main__` leverages multiple strategies for deduplication, from basic hashing to more advanced LSH techniques.\n",
      "\n",
      "4. The extensive use of `Utils.Utils` functions in `Deduplication.__Main__` indicates that the main deduplication logic heavily relies on these utility functions for tasks such as data loading, text preprocessing, similarity computation, and result aggregation, forming a comprehensive pipeline for document deduplication.\n"
     ]
    }
   ],
   "source": [
    "questions = \"\"\"\n",
    "The Utils.Utils module is intricately related to the Deduplication.__Main__ module through several intermediate connections, reflecting a well-structured framework that enhances document deduplication capabilities. Here are the key points of this relationship:\n",
    "\n",
    "1. **Function Utilization**: The Utils.Utils module utilizes the `Compute_Minhash_Signatures` function from Deduplication.Lsh.Lsh, which plays a crucial role in generating MinHash signatures for documents. This computational function is essential for the efficiency of the deduplication process, as it allows for quick similarity comparisons between documents based on their hashed representations.\n",
    "\n",
    "2. **Class Interdependency**: The Deduplication.Lsh.Lsh module invokes the `Model` class from Deduplication.__Main__. This class serves as the backbone of the deduplication system, encapsulating core functionalities and configurations necessary for implementing various LSH-based methods effectively. The relationship emphasizes a modular design where the Lsh module extends the capabilities defined in the __Main__ module, facilitating code maintainability and scalability.\n",
    "\n",
    "3. **Definition of Key Classes**: The Deduplication.__Main__ module independently defines both the `Model` class and the `__Main__` class. The `Model` class encompasses methods for executing the deduplication algorithms and managing the data structures involved, while the `__Main__` class is responsible for orchestrating the overall execution flow of the deduplication process. This design fosters a clear separation of concerns, allowing more straightforward debugging and enhancement in future iterations.\n",
    "\n",
    "4. **Indirect Connections through Variants**: Additional relationships exist through other modules like `Lshimproved.Lsh` and `Lshforest.Lshforest`, which are specifically imported by Deduplication.__Main__. These imports signify that the main deduplication script leverages advancements in LSH techniques, such as improved processes for handling larger datasets and enhanced accuracy in identifying duplicate documents.\n",
    "\n",
    "In summary, the Utils.Utils module is primarily connected to Deduplication.__Main__ through shared components and dependencies within the overall Deduplication system. These connections enhance the utility and efficiency of the deduplication process, particularly through the Lsh module and its associated classes and functions. The architecture aligns with best practices in software development by promoting modularity, enabling future enhancements like the implementation of new LSH-based algorithms without extensive modifications to the existing structure. This design not only streamlines the deduplication process but also positions the system for potential application in various scenarios, including plagiarism detection and content clustering.\n",
    "\"\"\"\n",
    "# Query the system\n",
    "answer = query_engine.query(result['answer'])\n",
    "print(answer)"
   ]
  },
  {
   "cell_type": "markdown",
   "id": "09b7cc3a",
   "metadata": {},
   "source": [
    "## Final Visualization Response"
   ]
  },
  {
   "cell_type": "code",
   "execution_count": 10,
   "id": "1e7d2d59",
   "metadata": {},
   "outputs": [
    {
     "name": "stdout",
     "output_type": "stream",
     "text": [
      "Graph visualization saved as code_relationships_graph.html\n"
     ]
    }
   ],
   "source": [
    "from tools.micro_visual_response import visualize_cypher_results\n",
    "stats = visualize_cypher_results(result['cypher_results'], \"code_relationships_graph.html\")"
   ]
  },
  {
   "cell_type": "code",
   "execution_count": null,
   "id": "5464415b",
   "metadata": {},
   "outputs": [],
   "source": []
  },
  {
   "cell_type": "markdown",
   "id": "6b93d747",
   "metadata": {},
   "source": [
    "# Agent"
   ]
  },
  {
   "cell_type": "code",
   "execution_count": 1,
   "id": "850bfc75",
   "metadata": {},
   "outputs": [
    {
     "name": "stdout",
     "output_type": "stream",
     "text": [
      "c:\\Users\\JaeHoBahng\\Desktop\\Georgetown\\2025_Spring\\DSAN_6725\\project\\spring-2025-final-project-project-group-2\\docs\\notebooks\n",
      "c:\\Users\\JaeHoBahng\\Desktop\\Georgetown\\2025_Spring\\DSAN_6725\\project\\spring-2025-final-project-project-group-2\\src\n"
     ]
    }
   ],
   "source": [
    "import os\n",
    "print(os.getcwd())\n",
    "os.chdir('c:\\\\Users\\\\JaeHoBahng\\\\Desktop\\\\Georgetown\\\\2025_Spring\\\\DSAN_6725\\\\project\\\\spring-2025-final-project-project-group-2\\\\src')\n",
    "print(os.getcwd())\n",
    "\n",
    "\n",
    "from tools.micro_text_answer import create_rag_system\n",
    "\n",
    "db_setup, query_engine = create_rag_system(\n",
    "    repo_path=\"../docs/notebooks/assignment-2-mcdonald-s/src\",\n",
    "    embedding_model=\"text-embedding-3-large\",\n",
    "    llm_model=\"gpt-4o\",\n",
    ")\n"
   ]
  },
  {
   "cell_type": "code",
   "execution_count": 2,
   "id": "78d2e844",
   "metadata": {},
   "outputs": [],
   "source": [
    "from tools.micro_tools import (retrieve_cypher_relationships, visualize_relationships, generate_text_response)\n",
    "from tools import micro_tools\n",
    "from langgraph.prebuilt import create_react_agent\n",
    "\n",
    "micro_tools.query_engine = query_engine\n",
    "\n",
    "tools = [\n",
    "    retrieve_cypher_relationships,\n",
    "    visualize_relationships,\n",
    "    generate_text_response,\n",
    "]\n",
    "\n",
    "system_prompt = f\"\"\"\n",
    "You are a suupervisor that answers the questions given the following tools.\n",
    "{tools}\n",
    "\n",
    "You will use each tool only once and the guidelines of the tools are as follows:\n",
    "- You will always use the retrieve_cypher_relationships tool to get an initial answer.\n",
    "- You will always use the generate_text_response tool to get a final answer.\n",
    "- Only use the visualize_relationships tool to visualize the relationships when the user asks for a visualization.\n",
    "\n",
    "USE EACH TOOL ONLY ONCE.\n",
    "\n",
    "Always provide clear, actionable responses with specific details and implementation steps.\n",
    "\"\"\"\n",
    "\n",
    "from langchain.chat_models import init_chat_model\n",
    "llm = init_chat_model(\"gpt-4o\", model_provider=\"openai\")\n",
    "\n",
    "agent = create_react_agent(llm, tools=tools, prompt=system_prompt)"
   ]
  },
  {
   "cell_type": "code",
   "execution_count": 3,
   "id": "1ebf6697",
   "metadata": {},
   "outputs": [
    {
     "name": "stdout",
     "output_type": "stream",
     "text": [
      "importing tools\n"
     ]
    },
    {
     "name": "stderr",
     "output_type": "stream",
     "text": [
      "c:\\Users\\JaeHoBahng\\Desktop\\Georgetown\\2025_Spring\\DSAN_6725\\project\\spring-2025-final-project-project-group-2\\.venv\\Lib\\site-packages\\tqdm\\auto.py:21: TqdmWarning: IProgress not found. Please update jupyter and ipywidgets. See https://ipywidgets.readthedocs.io/en/stable/user_install.html\n",
      "  from .autonotebook import tqdm as notebook_tqdm\n"
     ]
    },
    {
     "name": "stdout",
     "output_type": "stream",
     "text": [
      "initializing Neo4jGraph\n",
      "Building Cypher graph\n",
      "done\n",
      "done\n",
      "Invoking cypher graph\n",
      "Generating text response...\n",
      "Results: {'answer': '- `Utils.Utils` defines `Utils.Utils.Majority_Vote`, which is imported into `Deduplication.Lshforest`, eventually making its way into `Deduplication.__Main__`.\\n- `Utils.Utils` defines `Utils.Utils.Majority_Vote`, which is used in `Deduplication.Lshforest.Lshforest.Banding`, and this is imported into `Deduplication.__Main__`.\\n- `Utils.Utils` defines `Utils.Utils.Majority_Vote`, which is part of `Deduplication.Lshforest.Lshforest`, extending `Deduplication.Lsh.Lsh` that is imported into `Deduplication.__Main__`.\\n- `Utils.Utils` directly defines content (`Utils.Utils.Majority_Vote`) that is used by `Deduplication.__Main__`, specifically in its model usage.\\n- `Utils.Utils.Read_Tsv` is defined in `Utils.Utils` and imported into `Deduplication.__Main__`.', 'steps': ['generate_cypher', 'execute_cypher', 'generate_final_answer'], 'cypher_statement': \"MATCH path = (m1:Module {id: 'Utils.Utils'})-[*..5]-(m2:Module {id: 'Deduplication.__Main__'}) WHERE NONE(n IN nodes(path) WHERE n:Package) RETURN path LIMIT 10\", 'cypher_results': [{'path': [{'id': 'Utils.Utils'}, 'DEFINES', {'id': 'Utils.Utils.Majority_Vote'}, 'IMPORTED_INTO', {'id': 'Deduplication.Lshforest'}, 'IMPORTED_INTO', {'id': 'Deduplication.Lsh.Lsh'}, 'EXTENDS', {'id': 'Deduplication.Lshforest.Lshforest'}, 'IMPORTED_INTO', {'id': 'Deduplication.__Main__'}]}, {'path': [{'id': 'Utils.Utils'}, 'DEFINES', {'id': 'Utils.Utils.Majority_Vote'}, 'IMPORTED_INTO', {'id': 'Deduplication.Lshforest'}, 'IMPORTED_INTO', {'id': 'Deduplication.Lsh.Lsh'}, 'IMPORTED_INTO', {'id': 'Deduplication.__Main__'}]}, {'path': [{'id': 'Utils.Utils'}, 'DEFINES', {'id': 'Utils.Utils.Majority_Vote'}, 'IMPORTED_INTO', {'id': 'Deduplication.Lshforest'}, 'IMPORTED_INTO', {'id': 'Deduplication.Lsh.Lsh'}, 'USES', {'id': 'Deduplication.__Main__.Model'}, 'DEFINED_IN', {'id': 'Deduplication.__Main__'}]}, {'path': [{'id': 'Utils.Utils'}, 'DEFINES', {'id': 'Utils.Utils.Majority_Vote'}, 'IMPORTED_INTO', {'id': 'Deduplication.Lshforest'}, 'DEFINES', {'id': 'Deduplication.Lshforest.Lshforest'}, 'EXTENDS', {'id': 'Deduplication.Lsh.Lsh'}, 'IMPORTED_INTO', {'id': 'Deduplication.__Main__'}]}, {'path': [{'id': 'Utils.Utils'}, 'DEFINES', {'id': 'Utils.Utils.Majority_Vote'}, 'IMPORTED_INTO', {'id': 'Deduplication.Lshforest'}, 'DEFINES', {'id': 'Deduplication.Lshforest.Lshforest'}, 'IMPORTED_INTO', {'id': 'Deduplication.__Main__'}]}, {'path': [{'id': 'Utils.Utils'}, 'DEFINES', {'id': 'Utils.Utils.Majority_Vote'}, 'IMPORTED_INTO', {'id': 'Deduplication.Lshforest'}, 'DEFINES', {'id': 'Deduplication.Lshforest.Lshforest'}, 'USES', {'id': 'Deduplication.__Main__.Model'}, 'DEFINED_IN', {'id': 'Deduplication.__Main__'}]}, {'path': [{'id': 'Utils.Utils'}, 'DEFINES', {'id': 'Utils.Utils.Majority_Vote'}, 'USED_IN', {'id': 'Deduplication.Lshforest.Lshforest.Banding'}, 'DEFINES', {'id': 'Deduplication.Lshforest.Lshforest'}, 'EXTENDS', {'id': 'Deduplication.Lsh.Lsh'}, 'IMPORTED_INTO', {'id': 'Deduplication.__Main__'}]}, {'path': [{'id': 'Utils.Utils'}, 'DEFINES', {'id': 'Utils.Utils.Majority_Vote'}, 'USED_IN', {'id': 'Deduplication.Lshforest.Lshforest.Banding'}, 'DEFINES', {'id': 'Deduplication.Lshforest.Lshforest'}, 'IMPORTED_INTO', {'id': 'Deduplication.__Main__'}]}, {'path': [{'id': 'Utils.Utils'}, 'DEFINES', {'id': 'Utils.Utils.Majority_Vote'}, 'USED_IN', {'id': 'Deduplication.Lshforest.Lshforest.Banding'}, 'DEFINES', {'id': 'Deduplication.Lshforest.Lshforest'}, 'USES', {'id': 'Deduplication.__Main__.Model'}, 'DEFINED_IN', {'id': 'Deduplication.__Main__'}]}, {'path': [{'id': 'Utils.Utils'}, 'DEFINES', {'id': 'Utils.Utils.Majority_Vote'}, 'DEFINED_IN', {'id': 'Utils.Utils'}, 'DEFINED_IN', {'id': 'Utils.Utils.Read_Tsv'}, 'IMPORTED_INTO', {'id': 'Deduplication.__Main__'}]}]}\n",
      "<tools.micro_text_answer.RAGQueryEngine object at 0x0000024F73463E00>\n",
      "Initial response: - `Utils.Utils` defines `Utils.Utils.Majority_Vote`, which is imported into `Deduplication.Lshforest`, eventually making its way into `Deduplication.__Main__`.\n",
      "- `Utils.Utils` defines `Utils.Utils.Majority_Vote`, which is used in `Deduplication.Lshforest.Lshforest.Banding`, and this is imported into `Deduplication.__Main__`.\n",
      "- `Utils.Utils` defines `Utils.Utils.Majority_Vote`, which is part of `Deduplication.Lshforest.Lshforest`, extending `Deduplication.Lsh.Lsh` that is imported into `Deduplication.__Main__`.\n",
      "- `Utils.Utils` directly defines content (`Utils.Utils.Majority_Vote`) that is used by `Deduplication.__Main__`, specifically in its model usage.\n",
      "- `Utils.Utils.Read_Tsv` is defined in `Utils.Utils` and imported into `Deduplication.__Main__`.\n",
      "Answer: The script in question is a key component of a comprehensive deduplication system, effectively employing several advanced techniques to process and manage large datasets. Here's an enhanced breakdown of how the components and functions detailed in your Cypher query results integrate and illuminate the deduplication process:\n",
      "\n",
      "1. **`Utils.Utils.Majority_Vote` Functionality and Integration**:\n",
      "   - The `Utils.Utils.Majority_Vote` function is a pivotal part of the deduplication mechanism. It enhances the reliability of identifying correct candidate document pairs by aggregating results from multiple LSH processes. This aggregation mechanism is crucial for distinguishing true duplicates from false positives, thus ensuring the deduplication results' accuracy.\n",
      "\n",
      "2. **Role in `Deduplication.Lshforest`**:\n",
      "   - `Utils.Utils.Majority_Vote` is integral to the `Deduplication.Lshforest` module. Within this module, it is employed specifically as part of a more refined deduplication system that extends the basic LSH capabilities by utilizing several LSH trees (hence forming an LSH forest). This methodology stabilizes deduplication outcomes by reinforcing consistency across multiple hashing contexts.\n",
      "\n",
      "3. **Extension through `Deduplication.Lsh.Lsh`**:\n",
      "   - While the `LSHForest` enhances base LSH capabilities, the direct linkage to `Deduplication.Lsh.Lsh` signifies an architectural evolution aimed at capitalizing on the conventional LSH infrastructure but with added layers for rigorous deduplication—evidently through techniques like majority voting.\n",
      "\n",
      "4. **Direct Imports to `Deduplication.__Main__`**:\n",
      "   - The functions, including `Utils.Utils.Majority_Vote` and `Utils.Utils.Read_Tsv`, facilitated directly into `Deduplication.__Main__`, indicate their indispensable roles. The presence of these imports elucidates how `__Main__` acts as the foundational layer, assimilating utilities and strategies which harness document ingestion (`Read_Tsv`) and the core deduplication logic (`Majority_Vote`), underscoring its operation as the deduplication process's central operating point.\n",
      "\n",
      "5. **`Read_Tsv` for File and Data Handling**:\n",
      "   - `Utils.Utils.Read_Tsv` bolsters the script's data handling prowess by enabling efficient input parsing. Its integration ensures smooth file processing, transforming raw data into workable formats necessary for deduplication operations, mirroring the script's emphasis on handling extensive datasets.\n",
      "\n",
      "6. **The Working of the Script**:\n",
      "   - The script takes advantage of extensive utility and command-line parsing mechanisms to manage deduplication or approximate neighbor searches effectively. It leverages complexities like memory monitoring, error handling, and logging to offer a robust environment for operations, aligning with rigorous performance standards necessary for large-scale document processing tasks.\n",
      "\n",
      "By aggregating these nuances with the broader LSH mechanisms, the script stands out as a sophisticated framework designed for high-performance document deduplication, securing the efficiency and reliability necessary for handling substantial and complex data arrays.\n"
     ]
    }
   ],
   "source": [
    "answer = agent.invoke(\n",
    "    {\n",
    "        \"messages\": [\n",
    "            {\n",
    "                \"role\": \"user\",\n",
    "                \"content\": \"How is the Utils.Utils module related to the Deduplication.__Main__ module?\",\n",
    "            }\n",
    "        ],\n",
    "        \"goto\": \"supervisor\",\n",
    "    }\n",
    ")"
   ]
  },
  {
   "cell_type": "code",
   "execution_count": 4,
   "id": "e274fdff",
   "metadata": {},
   "outputs": [
    {
     "name": "stdout",
     "output_type": "stream",
     "text": [
      "The `Utils.Utils` module and the `Deduplication.__Main__` module are connected through several relationships and dependencies within the codebase. Here is a detailed breakdown of their relationship:\n",
      "\n",
      "1. **Definition and Usage**:\n",
      "   - `Utils.Utils` defines a component called `Utils.Utils.Majority_Vote`. This component is crucial and is imported into various parts of the deduplication framework, including `Deduplication.Lshforest` and through to `Deduplication.__Main__`.\n",
      "   - `Utils.Utils.Majority_Vote` is specifically used within `Deduplication.Lshforest.Lshforest.Banding`, which is part of the operations in the `Deduplication.__Main__`.\n",
      "\n",
      "2. **Hierarchical Integration**:\n",
      "   - The component `Utils.Utils.Majority_Vote` is integrated into `Deduplication.Lshforest`. The module `Deduplication.Lshforest` contains LSH (Locality-Sensitive Hashing) functionalities that extend its capabilities via the integration of majority voting systems for enhanced duplicate detection or elimination.\n",
      "   - The hierarchy extends from `Lshforest` to `Lshforest.Lshforest`, which itself extends `Deduplication.Lsh.Lsh`.\n",
      "\n",
      "3. **Direct Module Interaction**:\n",
      "   - `Utils.Utils.Read_Tsv`, another functionality defined in `Utils.Utils`, is directly imported into `Deduplication.__Main__`. This import highlights the utility of `Utils.Utils` in processing and handling data, specifically CSV/TSV files which are relevant for the main deduplication tasks.\n",
      "\n",
      "4. **Core Logic Incorporation**:\n",
      "   - Overall, `Utils.Utils` contributes core functionalities that are utilized within deduplication logic, empowering `Deduplication.__Main__` to perform its operations effectively. These operations might include reading input files (`Read_Tsv`) and processing data through majority voting and LSH techniques for duplicate detection.\n",
      "\n",
      "Thus, `Utils.Utils` supports and extends the capabilities of `Deduplication.__Main__` by providing fundamental utilities essential for data reading, processing, and decision-making in deduplication processes.\n"
     ]
    }
   ],
   "source": [
    "print(answer['messages'][-1].content)"
   ]
  },
  {
   "cell_type": "code",
   "execution_count": 4,
   "id": "bf4522c6",
   "metadata": {},
   "outputs": [
    {
     "data": {
      "text/plain": [
       "{'messages': [HumanMessage(content='How is the Utils.Utils module related to the Deduplication.__Main__ module? Can you give me a visualization as well?', additional_kwargs={}, response_metadata={}, id='93292251-b958-4aaa-acda-f0956832283b'),\n",
       "  AIMessage(content='', additional_kwargs={'tool_calls': [{'id': 'call_xumAZ62KiNB87z21VqqKcaU5', 'function': {'arguments': '{\"question\":\"How is the Utils.Utils module related to the Deduplication.__Main__ module?\"}', 'name': 'retrieve_cypher_relationships'}, 'type': 'function'}], 'refusal': None}, response_metadata={'token_usage': {'completion_tokens': 35, 'prompt_tokens': 731, 'total_tokens': 766, 'completion_tokens_details': {'accepted_prediction_tokens': 0, 'audio_tokens': 0, 'reasoning_tokens': 0, 'rejected_prediction_tokens': 0}, 'prompt_tokens_details': {'audio_tokens': 0, 'cached_tokens': 0}}, 'model_name': 'gpt-4o-2024-08-06', 'system_fingerprint': 'fp_85bc8e3fae', 'finish_reason': 'tool_calls', 'logprobs': None}, id='run-56e374d2-9391-4c58-9f79-f6f8771f9f6c-0', tool_calls=[{'name': 'retrieve_cypher_relationships', 'args': {'question': 'How is the Utils.Utils module related to the Deduplication.__Main__ module?'}, 'id': 'call_xumAZ62KiNB87z21VqqKcaU5', 'type': 'tool_call'}], usage_metadata={'input_tokens': 731, 'output_tokens': 35, 'total_tokens': 766, 'input_token_details': {'audio': 0, 'cache_read': 0}, 'output_token_details': {'audio': 0, 'reasoning': 0}}),\n",
       "  ToolMessage(content='{\"answer\": \"The `Utils.Utils` module is related to the `Deduplication.__Main__` module in multiple ways:\\\\n\\\\n- The `Utils.Utils` module, specifically `Utils.Utils.Unionfind`, is used in `Utils.Use_Cases.Collection_Deduplication` and either imports or uses `Deduplication.__Main__`.\\\\n- The `Utils.Utils` module, through the `Read_Tsv` function, imports and/or uses the `Deduplication.__Main__` module.\\\\n- The `Utils.Utils` module, via the `Minhash` function, uses `Deduplication.Lsh.Lsh.Compute_Minhash_Signatures` and interacts with `Deduplication.__Main__`.\\\\n- The `Utils.Utils` module, specifically the `Shingle` function, is used in `Utils.Use_Cases.Nearest_Neighbor_Search` and interacts with `Deduplication.__Main__`.\\\\n- The `Utils.Utils` module is imported in the `Deduplication.Lshimproved` module, which in turn imports `Deduplication.__Main__`.\", \"steps\": [\"generate_cypher\", \"execute_cypher\", \"generate_final_answer\"], \"cypher_statement\": \"MATCH path = (m1:Module {id: \\'Utils.Utils\\'})-[*..5]-(m2:Module {id: \\'Deduplication.__Main__\\'}) WHERE NONE(n IN nodes(path) WHERE n:Package) RETURN path\", \"cypher_results\": [{\"path\": [{\"id\": \"Utils.Utils\"}, \"CLASS\", {\"id\": \"Utils.Utils.Unionfind\"}, \"USED_IN\", {\"id\": \"Utils.Use_Cases.Collection_Deduplication\"}, \"DEFINES\", {\"id\": \"Utils.Use_Cases\"}, \"DEFINES\", {\"id\": \"Utils.Use_Cases.Nearest_Neighbor_Search\"}, \"IMPORTS\", {\"id\": \"Deduplication.__Main__\"}]}, {\"path\": [{\"id\": \"Utils.Utils\"}, \"CLASS\", {\"id\": \"Utils.Utils.Unionfind\"}, \"USED_IN\", {\"id\": \"Utils.Use_Cases.Collection_Deduplication\"}, \"DEFINES\", {\"id\": \"Utils.Use_Cases\"}, \"DEFINES\", {\"id\": \"Utils.Use_Cases.Nearest_Neighbor_Search\"}, \"USES\", {\"id\": \"Deduplication.__Main__\"}]}, {\"path\": [{\"id\": \"Utils.Utils\"}, \"CLASS\", {\"id\": \"Utils.Utils.Unionfind\"}, \"USED_IN\", {\"id\": \"Utils.Use_Cases.Collection_Deduplication\"}, \"IMPORTS\", {\"id\": \"Deduplication.__Main__\"}]}, {\"path\": [{\"id\": \"Utils.Utils\"}, \"CLASS\", {\"id\": \"Utils.Utils.Unionfind\"}, \"USED_IN\", {\"id\": \"Utils.Use_Cases.Collection_Deduplication\"}, \"IMPORTS\", {\"id\": \"Deduplication.__Main__\"}, \"INSTANTIATES\", {\"id\": \"Deduplication.Dedup.Baseline\"}, \"IMPORTS\", {\"id\": \"Deduplication.__Main__\"}]}, {\"path\": [{\"id\": \"Utils.Utils\"}, \"CLASS\", {\"id\": \"Utils.Utils.Unionfind\"}, \"USED_IN\", {\"id\": \"Utils.Use_Cases.Collection_Deduplication\"}, \"IMPORTS\", {\"id\": \"Deduplication.__Main__\"}, \"IMPORTS\", {\"id\": \"Utils.Use_Cases.Nearest_Neighbor_Search\"}, \"USES\", {\"id\": \"Deduplication.__Main__\"}]}, {\"path\": [{\"id\": \"Utils.Utils\"}, \"CLASS\", {\"id\": \"Utils.Utils.Unionfind\"}, \"USED_IN\", {\"id\": \"Utils.Use_Cases.Collection_Deduplication\"}, \"IMPORTS\", {\"id\": \"Deduplication.__Main__\"}, \"IMPORTS\", {\"id\": \"Utils.Utils.Read_Tsv\"}, \"USES\", {\"id\": \"Deduplication.__Main__\"}]}, {\"path\": [{\"id\": \"Utils.Utils\"}, \"CLASS\", {\"id\": \"Utils.Utils.Unionfind\"}, \"USED_IN\", {\"id\": \"Utils.Use_Cases.Collection_Deduplication\"}, \"IMPORTS\", {\"id\": \"Deduplication.__Main__\"}, \"IMPORTS\", {\"id\": \"Deduplication.Dedup.Baseline\"}, \"INSTANTIATES\", {\"id\": \"Deduplication.__Main__\"}]}, {\"path\": [{\"id\": \"Utils.Utils\"}, \"CLASS\", {\"id\": \"Utils.Utils.Unionfind\"}, \"USED_IN\", {\"id\": \"Utils.Use_Cases.Collection_Deduplication\"}, \"IMPORTS\", {\"id\": \"Deduplication.__Main__\"}, \"USES\", {\"id\": \"Utils.Use_Cases.Nearest_Neighbor_Search\"}, \"IMPORTS\", {\"id\": \"Deduplication.__Main__\"}]}, {\"path\": [{\"id\": \"Utils.Utils\"}, \"CLASS\", {\"id\": \"Utils.Utils.Unionfind\"}, \"USED_IN\", {\"id\": \"Utils.Use_Cases.Collection_Deduplication\"}, \"IMPORTS\", {\"id\": \"Deduplication.__Main__\"}, \"USES\", {\"id\": \"Utils.Utils.Read_Tsv\"}, \"IMPORTS\", {\"id\": \"Deduplication.__Main__\"}]}, {\"path\": [{\"id\": \"Utils.Utils\"}, \"CLASS\", {\"id\": \"Utils.Utils.Unionfind\"}, \"USED_IN\", {\"id\": \"Utils.Use_Cases.Collection_Deduplication\"}, \"USES\", {\"id\": \"Deduplication.__Main__\"}]}, {\"path\": [{\"id\": \"Utils.Utils\"}, \"CLASS\", {\"id\": \"Utils.Utils.Unionfind\"}, \"USED_IN\", {\"id\": \"Utils.Use_Cases.Collection_Deduplication\"}, \"USES\", {\"id\": \"Deduplication.__Main__\"}, \"INSTANTIATES\", {\"id\": \"Deduplication.Dedup.Baseline\"}, \"IMPORTS\", {\"id\": \"Deduplication.__Main__\"}]}, {\"path\": [{\"id\": \"Utils.Utils\"}, \"CLASS\", {\"id\": \"Utils.Utils.Unionfind\"}, \"USED_IN\", {\"id\": \"Utils.Use_Cases.Collection_Deduplication\"}, \"USES\", {\"id\": \"Deduplication.__Main__\"}, \"IMPORTS\", {\"id\": \"Utils.Use_Cases.Nearest_Neighbor_Search\"}, \"USES\", {\"id\": \"Deduplication.__Main__\"}]}, {\"path\": [{\"id\": \"Utils.Utils\"}, \"CLASS\", {\"id\": \"Utils.Utils.Unionfind\"}, \"USED_IN\", {\"id\": \"Utils.Use_Cases.Collection_Deduplication\"}, \"USES\", {\"id\": \"Deduplication.__Main__\"}, \"IMPORTS\", {\"id\": \"Utils.Utils.Read_Tsv\"}, \"USES\", {\"id\": \"Deduplication.__Main__\"}]}, {\"path\": [{\"id\": \"Utils.Utils\"}, \"CLASS\", {\"id\": \"Utils.Utils.Unionfind\"}, \"USED_IN\", {\"id\": \"Utils.Use_Cases.Collection_Deduplication\"}, \"USES\", {\"id\": \"Deduplication.__Main__\"}, \"IMPORTS\", {\"id\": \"Deduplication.Dedup.Baseline\"}, \"INSTANTIATES\", {\"id\": \"Deduplication.__Main__\"}]}, {\"path\": [{\"id\": \"Utils.Utils\"}, \"CLASS\", {\"id\": \"Utils.Utils.Unionfind\"}, \"USED_IN\", {\"id\": \"Utils.Use_Cases.Collection_Deduplication\"}, \"USES\", {\"id\": \"Deduplication.__Main__\"}, \"USES\", {\"id\": \"Utils.Use_Cases.Nearest_Neighbor_Search\"}, \"IMPORTS\", {\"id\": \"Deduplication.__Main__\"}]}, {\"path\": [{\"id\": \"Utils.Utils\"}, \"CLASS\", {\"id\": \"Utils.Utils.Unionfind\"}, \"USED_IN\", {\"id\": \"Utils.Use_Cases.Collection_Deduplication\"}, \"USES\", {\"id\": \"Deduplication.__Main__\"}, \"USES\", {\"id\": \"Utils.Utils.Read_Tsv\"}, \"IMPORTS\", {\"id\": \"Deduplication.__Main__\"}]}, {\"path\": [{\"id\": \"Utils.Utils\"}, \"FUNCTION\", {\"id\": \"Utils.Utils.Read_Tsv\"}, \"IMPORTS\", {\"id\": \"Deduplication.__Main__\"}]}, {\"path\": [{\"id\": \"Utils.Utils\"}, \"FUNCTION\", {\"id\": \"Utils.Utils.Read_Tsv\"}, \"IMPORTS\", {\"id\": \"Deduplication.__Main__\"}, \"INSTANTIATES\", {\"id\": \"Deduplication.Dedup.Baseline\"}, \"IMPORTS\", {\"id\": \"Deduplication.__Main__\"}]}, {\"path\": [{\"id\": \"Utils.Utils\"}, \"FUNCTION\", {\"id\": \"Utils.Utils.Read_Tsv\"}, \"IMPORTS\", {\"id\": \"Deduplication.__Main__\"}, \"INSTANTIATES\", {\"id\": \"Deduplication.Dedup.Baseline\"}, \"DEFINED_IN\", {\"id\": \"Deduplication.Dedup.Baseline.Collection_Deduplication\"}, \"USES\", {\"id\": \"Deduplication.__Main__\"}]}, {\"path\": [{\"id\": \"Utils.Utils\"}, \"FUNCTION\", {\"id\": \"Utils.Utils.Read_Tsv\"}, \"IMPORTS\", {\"id\": \"Deduplication.__Main__\"}, \"IMPORTS\", {\"id\": \"Utils.Use_Cases.Nearest_Neighbor_Search\"}, \"USES\", {\"id\": \"Deduplication.__Main__\"}]}, {\"path\": [{\"id\": \"Utils.Utils\"}, \"FUNCTION\", {\"id\": \"Utils.Utils.Read_Tsv\"}, \"IMPORTS\", {\"id\": \"Deduplication.__Main__\"}, \"IMPORTS\", {\"id\": \"Utils.Use_Cases.Collection_Deduplication\"}, \"USES\", {\"id\": \"Deduplication.__Main__\"}]}, {\"path\": [{\"id\": \"Utils.Utils\"}, \"FUNCTION\", {\"id\": \"Utils.Utils.Read_Tsv\"}, \"IMPORTS\", {\"id\": \"Deduplication.__Main__\"}, \"IMPORTS\", {\"id\": \"Deduplication.Lshforest.Lshforest\"}, \"INHERITS\", {\"id\": \"Deduplication.Lsh.Lsh\"}, \"IMPORTS\", {\"id\": \"Deduplication.__Main__\"}]}, {\"path\": [{\"id\": \"Utils.Utils\"}, \"FUNCTION\", {\"id\": \"Utils.Utils.Read_Tsv\"}, \"IMPORTS\", {\"id\": \"Deduplication.__Main__\"}, \"IMPORTS\", {\"id\": \"Deduplication.Lsh.Lsh\"}, \"INHERITS\", {\"id\": \"Deduplication.Lshforest.Lshforest\"}, \"IMPORTS\", {\"id\": \"Deduplication.__Main__\"}]}, {\"path\": [{\"id\": \"Utils.Utils\"}, \"FUNCTION\", {\"id\": \"Utils.Utils.Read_Tsv\"}, \"IMPORTS\", {\"id\": \"Deduplication.__Main__\"}, \"IMPORTS\", {\"id\": \"Deduplication.Dedup.Baseline\"}, \"INSTANTIATES\", {\"id\": \"Deduplication.__Main__\"}]}, {\"path\": [{\"id\": \"Utils.Utils\"}, \"FUNCTION\", {\"id\": \"Utils.Utils.Read_Tsv\"}, \"IMPORTS\", {\"id\": \"Deduplication.__Main__\"}, \"IMPORTS\", {\"id\": \"Deduplication.Dedup.Baseline\"}, \"DEFINED_IN\", {\"id\": \"Deduplication.Dedup.Baseline.Collection_Deduplication\"}, \"USES\", {\"id\": \"Deduplication.__Main__\"}]}, {\"path\": [{\"id\": \"Utils.Utils\"}, \"FUNCTION\", {\"id\": \"Utils.Utils.Read_Tsv\"}, \"IMPORTS\", {\"id\": \"Deduplication.__Main__\"}, \"USES\", {\"id\": \"Utils.Use_Cases.Nearest_Neighbor_Search\"}, \"IMPORTS\", {\"id\": \"Deduplication.__Main__\"}]}, {\"path\": [{\"id\": \"Utils.Utils\"}, \"FUNCTION\", {\"id\": \"Utils.Utils.Read_Tsv\"}, \"IMPORTS\", {\"id\": \"Deduplication.__Main__\"}, \"USES\", {\"id\": \"Utils.Use_Cases.Collection_Deduplication\"}, \"IMPORTS\", {\"id\": \"Deduplication.__Main__\"}]}, {\"path\": [{\"id\": \"Utils.Utils\"}, \"FUNCTION\", {\"id\": \"Utils.Utils.Read_Tsv\"}, \"IMPORTS\", {\"id\": \"Deduplication.__Main__\"}, \"USES\", {\"id\": \"Deduplication.Dedup.Baseline.Collection_Deduplication\"}, \"DEFINED_IN\", {\"id\": \"Deduplication.Dedup.Baseline\"}, \"INSTANTIATES\", {\"id\": \"Deduplication.__Main__\"}]}, {\"path\": [{\"id\": \"Utils.Utils\"}, \"FUNCTION\", {\"id\": \"Utils.Utils.Read_Tsv\"}, \"IMPORTS\", {\"id\": \"Deduplication.__Main__\"}, \"USES\", {\"id\": \"Deduplication.Dedup.Baseline.Collection_Deduplication\"}, \"DEFINED_IN\", {\"id\": \"Deduplication.Dedup.Baseline\"}, \"IMPORTS\", {\"id\": \"Deduplication.__Main__\"}]}, {\"path\": [{\"id\": \"Utils.Utils\"}, \"FUNCTION\", {\"id\": \"Utils.Utils.Read_Tsv\"}, \"USES\", {\"id\": \"Deduplication.__Main__\"}]}, {\"path\": [{\"id\": \"Utils.Utils\"}, \"FUNCTION\", {\"id\": \"Utils.Utils.Read_Tsv\"}, \"USES\", {\"id\": \"Deduplication.__Main__\"}, \"INSTANTIATES\", {\"id\": \"Deduplication.Dedup.Baseline\"}, \"IMPORTS\", {\"id\": \"Deduplication.__Main__\"}]}, {\"path\": [{\"id\": \"Utils.Utils\"}, \"FUNCTION\", {\"id\": \"Utils.Utils.Read_Tsv\"}, \"USES\", {\"id\": \"Deduplication.__Main__\"}, \"INSTANTIATES\", {\"id\": \"Deduplication.Dedup.Baseline\"}, \"DEFINED_IN\", {\"id\": \"Deduplication.Dedup.Baseline.Collection_Deduplication\"}, \"USES\", {\"id\": \"Deduplication.__Main__\"}]}, {\"path\": [{\"id\": \"Utils.Utils\"}, \"FUNCTION\", {\"id\": \"Utils.Utils.Read_Tsv\"}, \"USES\", {\"id\": \"Deduplication.__Main__\"}, \"IMPORTS\", {\"id\": \"Utils.Use_Cases.Nearest_Neighbor_Search\"}, \"USES\", {\"id\": \"Deduplication.__Main__\"}]}, {\"path\": [{\"id\": \"Utils.Utils\"}, \"FUNCTION\", {\"id\": \"Utils.Utils.Read_Tsv\"}, \"USES\", {\"id\": \"Deduplication.__Main__\"}, \"IMPORTS\", {\"id\": \"Utils.Use_Cases.Collection_Deduplication\"}, \"USES\", {\"id\": \"Deduplication.__Main__\"}]}, {\"path\": [{\"id\": \"Utils.Utils\"}, \"FUNCTION\", {\"id\": \"Utils.Utils.Read_Tsv\"}, \"USES\", {\"id\": \"Deduplication.__Main__\"}, \"IMPORTS\", {\"id\": \"Deduplication.Lshforest.Lshforest\"}, \"INHERITS\", {\"id\": \"Deduplication.Lsh.Lsh\"}, \"IMPORTS\", {\"id\": \"Deduplication.__Main__\"}]}, {\"path\": [{\"id\": \"Utils.Utils\"}, \"FUNCTION\", {\"id\": \"Utils.Utils.Read_Tsv\"}, \"USES\", {\"id\": \"Deduplication.__Main__\"}, \"IMPORTS\", {\"id\": \"Deduplication.Lsh.Lsh\"}, \"INHERITS\", {\"id\": \"Deduplication.Lshforest.Lshforest\"}, \"IMPORTS\", {\"id\": \"Deduplication.__Main__\"}]}, {\"path\": [{\"id\": \"Utils.Utils\"}, \"FUNCTION\", {\"id\": \"Utils.Utils.Read_Tsv\"}, \"USES\", {\"id\": \"Deduplication.__Main__\"}, \"IMPORTS\", {\"id\": \"Deduplication.Dedup.Baseline\"}, \"INSTANTIATES\", {\"id\": \"Deduplication.__Main__\"}]}, {\"path\": [{\"id\": \"Utils.Utils\"}, \"FUNCTION\", {\"id\": \"Utils.Utils.Read_Tsv\"}, \"USES\", {\"id\": \"Deduplication.__Main__\"}, \"IMPORTS\", {\"id\": \"Deduplication.Dedup.Baseline\"}, \"DEFINED_IN\", {\"id\": \"Deduplication.Dedup.Baseline.Collection_Deduplication\"}, \"USES\", {\"id\": \"Deduplication.__Main__\"}]}, {\"path\": [{\"id\": \"Utils.Utils\"}, \"FUNCTION\", {\"id\": \"Utils.Utils.Read_Tsv\"}, \"USES\", {\"id\": \"Deduplication.__Main__\"}, \"USES\", {\"id\": \"Utils.Use_Cases.Nearest_Neighbor_Search\"}, \"IMPORTS\", {\"id\": \"Deduplication.__Main__\"}]}, {\"path\": [{\"id\": \"Utils.Utils\"}, \"FUNCTION\", {\"id\": \"Utils.Utils.Read_Tsv\"}, \"USES\", {\"id\": \"Deduplication.__Main__\"}, \"USES\", {\"id\": \"Utils.Use_Cases.Collection_Deduplication\"}, \"IMPORTS\", {\"id\": \"Deduplication.__Main__\"}]}, {\"path\": [{\"id\": \"Utils.Utils\"}, \"FUNCTION\", {\"id\": \"Utils.Utils.Read_Tsv\"}, \"USES\", {\"id\": \"Deduplication.__Main__\"}, \"USES\", {\"id\": \"Deduplication.Dedup.Baseline.Collection_Deduplication\"}, \"DEFINED_IN\", {\"id\": \"Deduplication.Dedup.Baseline\"}, \"INSTANTIATES\", {\"id\": \"Deduplication.__Main__\"}]}, {\"path\": [{\"id\": \"Utils.Utils\"}, \"FUNCTION\", {\"id\": \"Utils.Utils.Read_Tsv\"}, \"USES\", {\"id\": \"Deduplication.__Main__\"}, \"USES\", {\"id\": \"Deduplication.Dedup.Baseline.Collection_Deduplication\"}, \"DEFINED_IN\", {\"id\": \"Deduplication.Dedup.Baseline\"}, \"IMPORTS\", {\"id\": \"Deduplication.__Main__\"}]}, {\"path\": [{\"id\": \"Utils.Utils\"}, \"FUNCTION\", {\"id\": \"Utils.Utils.Majority_Vote\"}, \"USES\", {\"id\": \"Deduplication.Lshforest.Lshforest.Banding\"}, \"DEFINES\", {\"id\": \"Deduplication.Lshforest.Lshforest\"}, \"INHERITS\", {\"id\": \"Deduplication.Lsh.Lsh\"}, \"IMPORTS\", {\"id\": \"Deduplication.__Main__\"}]}, {\"path\": [{\"id\": \"Utils.Utils\"}, \"FUNCTION\", {\"id\": \"Utils.Utils.Majority_Vote\"}, \"USES\", {\"id\": \"Deduplication.Lshforest.Lshforest.Banding\"}, \"DEFINES\", {\"id\": \"Deduplication.Lshforest.Lshforest\"}, \"IMPORTS\", {\"id\": \"Deduplication.__Main__\"}]}, {\"path\": [{\"id\": \"Utils.Utils\"}, \"FUNCTION\", {\"id\": \"Utils.Utils.Majority_Vote\"}, \"USES\", {\"id\": \"Deduplication.Lshforest.Lshforest.Banding\"}, \"USES\", {\"id\": \"Deduplication.__Main__.Model\"}, \"DEFINED_IN\", {\"id\": \"Deduplication.__Main__\"}]}, {\"path\": [{\"id\": \"Utils.Utils\"}, \"FUNCTION\", {\"id\": \"Utils.Utils.Split_Dict\"}, \"USES\", {\"id\": \"Deduplication.Lshforest.Lshforest.Banding\"}, \"DEFINES\", {\"id\": \"Deduplication.Lshforest.Lshforest\"}, \"INHERITS\", {\"id\": \"Deduplication.Lsh.Lsh\"}, \"IMPORTS\", {\"id\": \"Deduplication.__Main__\"}]}, {\"path\": [{\"id\": \"Utils.Utils\"}, \"FUNCTION\", {\"id\": \"Utils.Utils.Split_Dict\"}, \"USES\", {\"id\": \"Deduplication.Lshforest.Lshforest.Banding\"}, \"DEFINES\", {\"id\": \"Deduplication.Lshforest.Lshforest\"}, \"IMPORTS\", {\"id\": \"Deduplication.__Main__\"}]}, {\"path\": [{\"id\": \"Utils.Utils\"}, \"FUNCTION\", {\"id\": \"Utils.Utils.Split_Dict\"}, \"USES\", {\"id\": \"Deduplication.Lshforest.Lshforest.Banding\"}, \"USES\", {\"id\": \"Deduplication.__Main__.Model\"}, \"DEFINED_IN\", {\"id\": \"Deduplication.__Main__\"}]}, {\"path\": [{\"id\": \"Utils.Utils\"}, \"FUNCTION\", {\"id\": \"Utils.Utils.Minhash\"}, \"IMPORTS\", {\"id\": \"Deduplication.Lsh\"}, \"IMPORTS\", {\"id\": \"Utils.Utils.Shingle\"}, \"USED_IN\", {\"id\": \"Utils.Use_Cases.Nearest_Neighbor_Search\"}, \"IMPORTS\", {\"id\": \"Deduplication.__Main__\"}]}, {\"path\": [{\"id\": \"Utils.Utils\"}, \"FUNCTION\", {\"id\": \"Utils.Utils.Minhash\"}, \"IMPORTS\", {\"id\": \"Deduplication.Lsh\"}, \"IMPORTS\", {\"id\": \"Utils.Utils.Shingle\"}, \"USED_IN\", {\"id\": \"Utils.Use_Cases.Nearest_Neighbor_Search\"}, \"USES\", {\"id\": \"Deduplication.__Main__\"}]}, {\"path\": [{\"id\": \"Utils.Utils\"}, \"FUNCTION\", {\"id\": \"Utils.Utils.Minhash\"}, \"IMPORTS\", {\"id\": \"Deduplication.Lsh\"}, \"IMPORTS\", {\"id\": \"Utils.Utils.Clean_Document\"}, \"USED_IN\", {\"id\": \"Utils.Use_Cases.Nearest_Neighbor_Search\"}, \"IMPORTS\", {\"id\": \"Deduplication.__Main__\"}]}, {\"path\": [{\"id\": \"Utils.Utils\"}, \"FUNCTION\", {\"id\": \"Utils.Utils.Minhash\"}, \"IMPORTS\", {\"id\": \"Deduplication.Lsh\"}, \"IMPORTS\", {\"id\": \"Utils.Utils.Clean_Document\"}, \"USED_IN\", {\"id\": \"Utils.Use_Cases.Nearest_Neighbor_Search\"}, \"USES\", {\"id\": \"Deduplication.__Main__\"}]}, {\"path\": [{\"id\": \"Utils.Utils\"}, \"FUNCTION\", {\"id\": \"Utils.Utils.Minhash\"}, \"IMPORTS\", {\"id\": \"Deduplication.Lsh\"}, \"DEFINED_IN\", {\"id\": \"Deduplication.Lsh.Lsh\"}, \"INHERITS\", {\"id\": \"Deduplication.Lshforest.Lshforest\"}, \"IMPORTS\", {\"id\": \"Deduplication.__Main__\"}]}, {\"path\": [{\"id\": \"Utils.Utils\"}, \"FUNCTION\", {\"id\": \"Utils.Utils.Minhash\"}, \"IMPORTS\", {\"id\": \"Deduplication.Lsh\"}, \"DEFINED_IN\", {\"id\": \"Deduplication.Lsh.Lsh\"}, \"IMPORTS\", {\"id\": \"Deduplication.__Main__\"}]}, {\"path\": [{\"id\": \"Utils.Utils\"}, \"FUNCTION\", {\"id\": \"Utils.Utils.Minhash\"}, \"USES\", {\"id\": \"Deduplication.Lsh.Lsh.Compute_Minhash_Signatures\"}, \"USES\", {\"id\": \"Deduplication.__Main__.Model\"}, \"DEFINED_IN\", {\"id\": \"Deduplication.__Main__\"}]}, {\"path\": [{\"id\": \"Utils.Utils\"}, \"FUNCTION\", {\"id\": \"Utils.Utils.Minhash\"}, \"USES\", {\"id\": \"Deduplication.Lsh.Lsh.Compute_Minhash_Signatures\"}, \"USES\", {\"id\": \"Utils.Utils.Shingle\"}, \"USED_IN\", {\"id\": \"Utils.Use_Cases.Nearest_Neighbor_Search\"}, \"IMPORTS\", {\"id\": \"Deduplication.__Main__\"}]}, {\"path\": [{\"id\": \"Utils.Utils\"}, \"FUNCTION\", {\"id\": \"Utils.Utils.Minhash\"}, \"USES\", {\"id\": \"Deduplication.Lsh.Lsh.Compute_Minhash_Signatures\"}, \"USES\", {\"id\": \"Utils.Utils.Shingle\"}, \"USED_IN\", {\"id\": \"Utils.Use_Cases.Nearest_Neighbor_Search\"}, \"USES\", {\"id\": \"Deduplication.__Main__\"}]}, {\"path\": [{\"id\": \"Utils.Utils\"}, \"FUNCTION\", {\"id\": \"Utils.Utils.Minhash\"}, \"USES\", {\"id\": \"Deduplication.Lsh.Lsh.Compute_Minhash_Signatures\"}, \"USES\", {\"id\": \"Utils.Utils.Clean_Document\"}, \"USED_IN\", {\"id\": \"Utils.Use_Cases.Nearest_Neighbor_Search\"}, \"IMPORTS\", {\"id\": \"Deduplication.__Main__\"}]}, {\"path\": [{\"id\": \"Utils.Utils\"}, \"FUNCTION\", {\"id\": \"Utils.Utils.Minhash\"}, \"USES\", {\"id\": \"Deduplication.Lsh.Lsh.Compute_Minhash_Signatures\"}, \"USES\", {\"id\": \"Utils.Utils.Clean_Document\"}, \"USED_IN\", {\"id\": \"Utils.Use_Cases.Nearest_Neighbor_Search\"}, \"USES\", {\"id\": \"Deduplication.__Main__\"}]}, {\"path\": [{\"id\": \"Utils.Utils\"}, \"FUNCTION\", {\"id\": \"Utils.Utils.Minhash\"}, \"USES\", {\"id\": \"Deduplication.Lsh.Lsh.Compute_Minhash_Signatures\"}, \"DEFINED_IN\", {\"id\": \"Deduplication.Lsh.Lsh\"}, \"INHERITS\", {\"id\": \"Deduplication.Lshforest.Lshforest\"}, \"IMPORTS\", {\"id\": \"Deduplication.__Main__\"}]}, {\"path\": [{\"id\": \"Utils.Utils\"}, \"FUNCTION\", {\"id\": \"Utils.Utils.Minhash\"}, \"USES\", {\"id\": \"Deduplication.Lsh.Lsh.Compute_Minhash_Signatures\"}, \"DEFINED_IN\", {\"id\": \"Deduplication.Lsh.Lsh\"}, \"IMPORTS\", {\"id\": \"Deduplication.__Main__\"}]}, {\"path\": [{\"id\": \"Utils.Utils\"}, \"FUNCTION\", {\"id\": \"Utils.Utils.Minhash\"}, \"USED_IN\", {\"id\": \"Utils.Use_Cases.Nearest_Neighbor_Search\"}, \"DEFINES\", {\"id\": \"Utils.Use_Cases\"}, \"DEFINES\", {\"id\": \"Utils.Use_Cases.Collection_Deduplication\"}, \"IMPORTS\", {\"id\": \"Deduplication.__Main__\"}]}, {\"path\": [{\"id\": \"Utils.Utils\"}, \"FUNCTION\", {\"id\": \"Utils.Utils.Minhash\"}, \"USED_IN\", {\"id\": \"Utils.Use_Cases.Nearest_Neighbor_Search\"}, \"DEFINES\", {\"id\": \"Utils.Use_Cases\"}, \"DEFINES\", {\"id\": \"Utils.Use_Cases.Collection_Deduplication\"}, \"USES\", {\"id\": \"Deduplication.__Main__\"}]}, {\"path\": [{\"id\": \"Utils.Utils\"}, \"FUNCTION\", {\"id\": \"Utils.Utils.Minhash\"}, \"USED_IN\", {\"id\": \"Utils.Use_Cases.Nearest_Neighbor_Search\"}, \"IMPORTS\", {\"id\": \"Deduplication.__Main__\"}]}, {\"path\": [{\"id\": \"Utils.Utils\"}, \"FUNCTION\", {\"id\": \"Utils.Utils.Minhash\"}, \"USED_IN\", {\"id\": \"Utils.Use_Cases.Nearest_Neighbor_Search\"}, \"IMPORTS\", {\"id\": \"Deduplication.__Main__\"}, \"INSTANTIATES\", {\"id\": \"Deduplication.Dedup.Baseline\"}, \"IMPORTS\", {\"id\": \"Deduplication.__Main__\"}]}, {\"path\": [{\"id\": \"Utils.Utils\"}, \"FUNCTION\", {\"id\": \"Utils.Utils.Minhash\"}, \"USED_IN\", {\"id\": \"Utils.Use_Cases.Nearest_Neighbor_Search\"}, \"IMPORTS\", {\"id\": \"Deduplication.__Main__\"}, \"IMPORTS\", {\"id\": \"Utils.Use_Cases.Collection_Deduplication\"}, \"USES\", {\"id\": \"Deduplication.__Main__\"}]}, {\"path\": [{\"id\": \"Utils.Utils\"}, \"FUNCTION\", {\"id\": \"Utils.Utils.Minhash\"}, \"USED_IN\", {\"id\": \"Utils.Use_Cases.Nearest_Neighbor_Search\"}, \"IMPORTS\", {\"id\": \"Deduplication.__Main__\"}, \"IMPORTS\", {\"id\": \"Utils.Utils.Read_Tsv\"}, \"USES\", {\"id\": \"Deduplication.__Main__\"}]}, {\"path\": [{\"id\": \"Utils.Utils\"}, \"FUNCTION\", {\"id\": \"Utils.Utils.Minhash\"}, \"USED_IN\", {\"id\": \"Utils.Use_Cases.Nearest_Neighbor_Search\"}, \"IMPORTS\", {\"id\": \"Deduplication.__Main__\"}, \"IMPORTS\", {\"id\": \"Deduplication.Dedup.Baseline\"}, \"INSTANTIATES\", {\"id\": \"Deduplication.__Main__\"}]}, {\"path\": [{\"id\": \"Utils.Utils\"}, \"FUNCTION\", {\"id\": \"Utils.Utils.Minhash\"}, \"USED_IN\", {\"id\": \"Utils.Use_Cases.Nearest_Neighbor_Search\"}, \"IMPORTS\", {\"id\": \"Deduplication.__Main__\"}, \"USES\", {\"id\": \"Utils.Use_Cases.Collection_Deduplication\"}, \"IMPORTS\", {\"id\": \"Deduplication.__Main__\"}]}, {\"path\": [{\"id\": \"Utils.Utils\"}, \"FUNCTION\", {\"id\": \"Utils.Utils.Minhash\"}, \"USED_IN\", {\"id\": \"Utils.Use_Cases.Nearest_Neighbor_Search\"}, \"IMPORTS\", {\"id\": \"Deduplication.__Main__\"}, \"USES\", {\"id\": \"Utils.Utils.Read_Tsv\"}, \"IMPORTS\", {\"id\": \"Deduplication.__Main__\"}]}, {\"path\": [{\"id\": \"Utils.Utils\"}, \"FUNCTION\", {\"id\": \"Utils.Utils.Minhash\"}, \"USED_IN\", {\"id\": \"Utils.Use_Cases.Nearest_Neighbor_Search\"}, \"USES\", {\"id\": \"Deduplication.__Main__\"}]}, {\"path\": [{\"id\": \"Utils.Utils\"}, \"FUNCTION\", {\"id\": \"Utils.Utils.Minhash\"}, \"USED_IN\", {\"id\": \"Utils.Use_Cases.Nearest_Neighbor_Search\"}, \"USES\", {\"id\": \"Deduplication.__Main__\"}, \"INSTANTIATES\", {\"id\": \"Deduplication.Dedup.Baseline\"}, \"IMPORTS\", {\"id\": \"Deduplication.__Main__\"}]}, {\"path\": [{\"id\": \"Utils.Utils\"}, \"FUNCTION\", {\"id\": \"Utils.Utils.Minhash\"}, \"USED_IN\", {\"id\": \"Utils.Use_Cases.Nearest_Neighbor_Search\"}, \"USES\", {\"id\": \"Deduplication.__Main__\"}, \"IMPORTS\", {\"id\": \"Utils.Use_Cases.Collection_Deduplication\"}, \"USES\", {\"id\": \"Deduplication.__Main__\"}]}, {\"path\": [{\"id\": \"Utils.Utils\"}, \"FUNCTION\", {\"id\": \"Utils.Utils.Minhash\"}, \"USED_IN\", {\"id\": \"Utils.Use_Cases.Nearest_Neighbor_Search\"}, \"USES\", {\"id\": \"Deduplication.__Main__\"}, \"IMPORTS\", {\"id\": \"Utils.Utils.Read_Tsv\"}, \"USES\", {\"id\": \"Deduplication.__Main__\"}]}, {\"path\": [{\"id\": \"Utils.Utils\"}, \"FUNCTION\", {\"id\": \"Utils.Utils.Minhash\"}, \"USED_IN\", {\"id\": \"Utils.Use_Cases.Nearest_Neighbor_Search\"}, \"USES\", {\"id\": \"Deduplication.__Main__\"}, \"IMPORTS\", {\"id\": \"Deduplication.Dedup.Baseline\"}, \"INSTANTIATES\", {\"id\": \"Deduplication.__Main__\"}]}, {\"path\": [{\"id\": \"Utils.Utils\"}, \"FUNCTION\", {\"id\": \"Utils.Utils.Minhash\"}, \"USED_IN\", {\"id\": \"Utils.Use_Cases.Nearest_Neighbor_Search\"}, \"USES\", {\"id\": \"Deduplication.__Main__\"}, \"USES\", {\"id\": \"Utils.Use_Cases.Collection_Deduplication\"}, \"IMPORTS\", {\"id\": \"Deduplication.__Main__\"}]}, {\"path\": [{\"id\": \"Utils.Utils\"}, \"FUNCTION\", {\"id\": \"Utils.Utils.Minhash\"}, \"USED_IN\", {\"id\": \"Utils.Use_Cases.Nearest_Neighbor_Search\"}, \"USES\", {\"id\": \"Deduplication.__Main__\"}, \"USES\", {\"id\": \"Utils.Utils.Read_Tsv\"}, \"IMPORTS\", {\"id\": \"Deduplication.__Main__\"}]}, {\"path\": [{\"id\": \"Utils.Utils\"}, \"FUNCTION\", {\"id\": \"Utils.Utils.Minhash\"}, \"USED_IN\", {\"id\": \"Deduplication.Lshimproved.Lshimproved.Compute_Minhash_Signatures\"}, \"USES\", {\"id\": \"Deduplication.__Main__.Model\"}, \"DEFINED_IN\", {\"id\": \"Deduplication.__Main__\"}]}, {\"path\": [{\"id\": \"Utils.Utils\"}, \"FUNCTION\", {\"id\": \"Utils.Utils.Minhash\"}, \"USED_IN\", {\"id\": \"Deduplication.Lshimproved.Lshimproved.Compute_Minhash_Signatures\"}, \"DEFINED_IN\", {\"id\": \"Deduplication.Lshimproved.Lshimproved\"}, \"IMPORTS\", {\"id\": \"Deduplication.__Main__\"}]}, {\"path\": [{\"id\": \"Utils.Utils\"}, \"FUNCTION\", {\"id\": \"Utils.Utils.Minhash\"}, \"USED_IN\", {\"id\": \"Deduplication.Lshimproved.Lshimproved.Compute_Minhash_Signatures\"}, \"USED_IN\", {\"id\": \"Utils.Utils.Shingle\"}, \"USED_IN\", {\"id\": \"Utils.Use_Cases.Nearest_Neighbor_Search\"}, \"IMPORTS\", {\"id\": \"Deduplication.__Main__\"}]}, {\"path\": [{\"id\": \"Utils.Utils\"}, \"FUNCTION\", {\"id\": \"Utils.Utils.Minhash\"}, \"USED_IN\", {\"id\": \"Deduplication.Lshimproved.Lshimproved.Compute_Minhash_Signatures\"}, \"USED_IN\", {\"id\": \"Utils.Utils.Shingle\"}, \"USED_IN\", {\"id\": \"Utils.Use_Cases.Nearest_Neighbor_Search\"}, \"USES\", {\"id\": \"Deduplication.__Main__\"}]}, {\"path\": [{\"id\": \"Utils.Utils\"}, \"FUNCTION\", {\"id\": \"Utils.Utils.Minhash\"}, \"USED_IN\", {\"id\": \"Deduplication.Lshimproved.Lshimproved.Compute_Minhash_Signatures\"}, \"USED_IN\", {\"id\": \"Utils.Utils.Clean_Document\"}, \"USED_IN\", {\"id\": \"Utils.Use_Cases.Nearest_Neighbor_Search\"}, \"IMPORTS\", {\"id\": \"Deduplication.__Main__\"}]}, {\"path\": [{\"id\": \"Utils.Utils\"}, \"FUNCTION\", {\"id\": \"Utils.Utils.Minhash\"}, \"USED_IN\", {\"id\": \"Deduplication.Lshimproved.Lshimproved.Compute_Minhash_Signatures\"}, \"USED_IN\", {\"id\": \"Utils.Utils.Clean_Document\"}, \"USED_IN\", {\"id\": \"Utils.Use_Cases.Nearest_Neighbor_Search\"}, \"USES\", {\"id\": \"Deduplication.__Main__\"}]}, {\"path\": [{\"id\": \"Utils.Utils\"}, \"FUNCTION\", {\"id\": \"Utils.Utils.Shingle\"}, \"IMPORTS\", {\"id\": \"Deduplication.Lsh\"}, \"IMPORTS\", {\"id\": \"Utils.Utils.Minhash\"}, \"USED_IN\", {\"id\": \"Utils.Use_Cases.Nearest_Neighbor_Search\"}, \"IMPORTS\", {\"id\": \"Deduplication.__Main__\"}]}, {\"path\": [{\"id\": \"Utils.Utils\"}, \"FUNCTION\", {\"id\": \"Utils.Utils.Shingle\"}, \"IMPORTS\", {\"id\": \"Deduplication.Lsh\"}, \"IMPORTS\", {\"id\": \"Utils.Utils.Minhash\"}, \"USED_IN\", {\"id\": \"Utils.Use_Cases.Nearest_Neighbor_Search\"}, \"USES\", {\"id\": \"Deduplication.__Main__\"}]}, {\"path\": [{\"id\": \"Utils.Utils\"}, \"FUNCTION\", {\"id\": \"Utils.Utils.Shingle\"}, \"IMPORTS\", {\"id\": \"Deduplication.Lsh\"}, \"IMPORTS\", {\"id\": \"Utils.Utils.Clean_Document\"}, \"USED_IN\", {\"id\": \"Utils.Use_Cases.Nearest_Neighbor_Search\"}, \"IMPORTS\", {\"id\": \"Deduplication.__Main__\"}]}, {\"path\": [{\"id\": \"Utils.Utils\"}, \"FUNCTION\", {\"id\": \"Utils.Utils.Shingle\"}, \"IMPORTS\", {\"id\": \"Deduplication.Lsh\"}, \"IMPORTS\", {\"id\": \"Utils.Utils.Clean_Document\"}, \"USED_IN\", {\"id\": \"Utils.Use_Cases.Nearest_Neighbor_Search\"}, \"USES\", {\"id\": \"Deduplication.__Main__\"}]}, {\"path\": [{\"id\": \"Utils.Utils\"}, \"FUNCTION\", {\"id\": \"Utils.Utils.Shingle\"}, \"IMPORTS\", {\"id\": \"Deduplication.Lsh\"}, \"DEFINED_IN\", {\"id\": \"Deduplication.Lsh.Lsh\"}, \"INHERITS\", {\"id\": \"Deduplication.Lshforest.Lshforest\"}, \"IMPORTS\", {\"id\": \"Deduplication.__Main__\"}]}, {\"path\": [{\"id\": \"Utils.Utils\"}, \"FUNCTION\", {\"id\": \"Utils.Utils.Shingle\"}, \"IMPORTS\", {\"id\": \"Deduplication.Lsh\"}, \"DEFINED_IN\", {\"id\": \"Deduplication.Lsh.Lsh\"}, \"IMPORTS\", {\"id\": \"Deduplication.__Main__\"}]}, {\"path\": [{\"id\": \"Utils.Utils\"}, \"FUNCTION\", {\"id\": \"Utils.Utils.Shingle\"}, \"USES\", {\"id\": \"Deduplication.Lsh.Lsh.Compute_Minhash_Signatures\"}, \"USES\", {\"id\": \"Deduplication.__Main__.Model\"}, \"DEFINED_IN\", {\"id\": \"Deduplication.__Main__\"}]}, {\"path\": [{\"id\": \"Utils.Utils\"}, \"FUNCTION\", {\"id\": \"Utils.Utils.Shingle\"}, \"USES\", {\"id\": \"Deduplication.Lsh.Lsh.Compute_Minhash_Signatures\"}, \"USES\", {\"id\": \"Utils.Utils.Minhash\"}, \"USED_IN\", {\"id\": \"Utils.Use_Cases.Nearest_Neighbor_Search\"}, \"IMPORTS\", {\"id\": \"Deduplication.__Main__\"}]}, {\"path\": [{\"id\": \"Utils.Utils\"}, \"FUNCTION\", {\"id\": \"Utils.Utils.Shingle\"}, \"USES\", {\"id\": \"Deduplication.Lsh.Lsh.Compute_Minhash_Signatures\"}, \"USES\", {\"id\": \"Utils.Utils.Minhash\"}, \"USED_IN\", {\"id\": \"Utils.Use_Cases.Nearest_Neighbor_Search\"}, \"USES\", {\"id\": \"Deduplication.__Main__\"}]}, {\"path\": [{\"id\": \"Utils.Utils\"}, \"FUNCTION\", {\"id\": \"Utils.Utils.Shingle\"}, \"USES\", {\"id\": \"Deduplication.Lsh.Lsh.Compute_Minhash_Signatures\"}, \"USES\", {\"id\": \"Utils.Utils.Clean_Document\"}, \"USED_IN\", {\"id\": \"Utils.Use_Cases.Nearest_Neighbor_Search\"}, \"IMPORTS\", {\"id\": \"Deduplication.__Main__\"}]}, {\"path\": [{\"id\": \"Utils.Utils\"}, \"FUNCTION\", {\"id\": \"Utils.Utils.Shingle\"}, \"USES\", {\"id\": \"Deduplication.Lsh.Lsh.Compute_Minhash_Signatures\"}, \"USES\", {\"id\": \"Utils.Utils.Clean_Document\"}, \"USED_IN\", {\"id\": \"Utils.Use_Cases.Nearest_Neighbor_Search\"}, \"USES\", {\"id\": \"Deduplication.__Main__\"}]}, {\"path\": [{\"id\": \"Utils.Utils\"}, \"FUNCTION\", {\"id\": \"Utils.Utils.Shingle\"}, \"USES\", {\"id\": \"Deduplication.Lsh.Lsh.Compute_Minhash_Signatures\"}, \"DEFINED_IN\", {\"id\": \"Deduplication.Lsh.Lsh\"}, \"INHERITS\", {\"id\": \"Deduplication.Lshforest.Lshforest\"}, \"IMPORTS\", {\"id\": \"Deduplication.__Main__\"}]}, {\"path\": [{\"id\": \"Utils.Utils\"}, \"FUNCTION\", {\"id\": \"Utils.Utils.Shingle\"}, \"USES\", {\"id\": \"Deduplication.Lsh.Lsh.Compute_Minhash_Signatures\"}, \"DEFINED_IN\", {\"id\": \"Deduplication.Lsh.Lsh\"}, \"IMPORTS\", {\"id\": \"Deduplication.__Main__\"}]}, {\"path\": [{\"id\": \"Utils.Utils\"}, \"FUNCTION\", {\"id\": \"Utils.Utils.Shingle\"}, \"USED_IN\", {\"id\": \"Utils.Use_Cases.Nearest_Neighbor_Search\"}, \"DEFINES\", {\"id\": \"Utils.Use_Cases\"}, \"DEFINES\", {\"id\": \"Utils.Use_Cases.Collection_Deduplication\"}, \"IMPORTS\", {\"id\": \"Deduplication.__Main__\"}]}, {\"path\": [{\"id\": \"Utils.Utils\"}, \"FUNCTION\", {\"id\": \"Utils.Utils.Shingle\"}, \"USED_IN\", {\"id\": \"Utils.Use_Cases.Nearest_Neighbor_Search\"}, \"DEFINES\", {\"id\": \"Utils.Use_Cases\"}, \"DEFINES\", {\"id\": \"Utils.Use_Cases.Collection_Deduplication\"}, \"USES\", {\"id\": \"Deduplication.__Main__\"}]}, {\"path\": [{\"id\": \"Utils.Utils\"}, \"FUNCTION\", {\"id\": \"Utils.Utils.Shingle\"}, \"USED_IN\", {\"id\": \"Utils.Use_Cases.Nearest_Neighbor_Search\"}, \"IMPORTS\", {\"id\": \"Deduplication.__Main__\"}]}, {\"path\": [{\"id\": \"Utils.Utils\"}, \"FUNCTION\", {\"id\": \"Utils.Utils.Shingle\"}, \"USED_IN\", {\"id\": \"Utils.Use_Cases.Nearest_Neighbor_Search\"}, \"IMPORTS\", {\"id\": \"Deduplication.__Main__\"}, \"INSTANTIATES\", {\"id\": \"Deduplication.Dedup.Baseline\"}, \"IMPORTS\", {\"id\": \"Deduplication.__Main__\"}]}, {\"path\": [{\"id\": \"Utils.Utils\"}, \"FUNCTION\", {\"id\": \"Utils.Utils.Shingle\"}, \"USED_IN\", {\"id\": \"Utils.Use_Cases.Nearest_Neighbor_Search\"}, \"IMPORTS\", {\"id\": \"Deduplication.__Main__\"}, \"IMPORTS\", {\"id\": \"Utils.Use_Cases.Collection_Deduplication\"}, \"USES\", {\"id\": \"Deduplication.__Main__\"}]}, {\"path\": [{\"id\": \"Utils.Utils\"}, \"FUNCTION\", {\"id\": \"Utils.Utils.Shingle\"}, \"USED_IN\", {\"id\": \"Utils.Use_Cases.Nearest_Neighbor_Search\"}, \"IMPORTS\", {\"id\": \"Deduplication.__Main__\"}, \"IMPORTS\", {\"id\": \"Utils.Utils.Read_Tsv\"}, \"USES\", {\"id\": \"Deduplication.__Main__\"}]}, {\"path\": [{\"id\": \"Utils.Utils\"}, \"FUNCTION\", {\"id\": \"Utils.Utils.Shingle\"}, \"USED_IN\", {\"id\": \"Utils.Use_Cases.Nearest_Neighbor_Search\"}, \"IMPORTS\", {\"id\": \"Deduplication.__Main__\"}, \"IMPORTS\", {\"id\": \"Deduplication.Dedup.Baseline\"}, \"INSTANTIATES\", {\"id\": \"Deduplication.__Main__\"}]}, {\"path\": [{\"id\": \"Utils.Utils\"}, \"FUNCTION\", {\"id\": \"Utils.Utils.Shingle\"}, \"USED_IN\", {\"id\": \"Utils.Use_Cases.Nearest_Neighbor_Search\"}, \"IMPORTS\", {\"id\": \"Deduplication.__Main__\"}, \"USES\", {\"id\": \"Utils.Use_Cases.Collection_Deduplication\"}, \"IMPORTS\", {\"id\": \"Deduplication.__Main__\"}]}, {\"path\": [{\"id\": \"Utils.Utils\"}, \"FUNCTION\", {\"id\": \"Utils.Utils.Shingle\"}, \"USED_IN\", {\"id\": \"Utils.Use_Cases.Nearest_Neighbor_Search\"}, \"IMPORTS\", {\"id\": \"Deduplication.__Main__\"}, \"USES\", {\"id\": \"Utils.Utils.Read_Tsv\"}, \"IMPORTS\", {\"id\": \"Deduplication.__Main__\"}]}, {\"path\": [{\"id\": \"Utils.Utils\"}, \"FUNCTION\", {\"id\": \"Utils.Utils.Shingle\"}, \"USED_IN\", {\"id\": \"Utils.Use_Cases.Nearest_Neighbor_Search\"}, \"USES\", {\"id\": \"Deduplication.__Main__\"}]}, {\"path\": [{\"id\": \"Utils.Utils\"}, \"FUNCTION\", {\"id\": \"Utils.Utils.Shingle\"}, \"USED_IN\", {\"id\": \"Utils.Use_Cases.Nearest_Neighbor_Search\"}, \"USES\", {\"id\": \"Deduplication.__Main__\"}, \"INSTANTIATES\", {\"id\": \"Deduplication.Dedup.Baseline\"}, \"IMPORTS\", {\"id\": \"Deduplication.__Main__\"}]}, {\"path\": [{\"id\": \"Utils.Utils\"}, \"FUNCTION\", {\"id\": \"Utils.Utils.Shingle\"}, \"USED_IN\", {\"id\": \"Utils.Use_Cases.Nearest_Neighbor_Search\"}, \"USES\", {\"id\": \"Deduplication.__Main__\"}, \"IMPORTS\", {\"id\": \"Utils.Use_Cases.Collection_Deduplication\"}, \"USES\", {\"id\": \"Deduplication.__Main__\"}]}, {\"path\": [{\"id\": \"Utils.Utils\"}, \"FUNCTION\", {\"id\": \"Utils.Utils.Shingle\"}, \"USED_IN\", {\"id\": \"Utils.Use_Cases.Nearest_Neighbor_Search\"}, \"USES\", {\"id\": \"Deduplication.__Main__\"}, \"IMPORTS\", {\"id\": \"Utils.Utils.Read_Tsv\"}, \"USES\", {\"id\": \"Deduplication.__Main__\"}]}, {\"path\": [{\"id\": \"Utils.Utils\"}, \"FUNCTION\", {\"id\": \"Utils.Utils.Shingle\"}, \"USED_IN\", {\"id\": \"Utils.Use_Cases.Nearest_Neighbor_Search\"}, \"USES\", {\"id\": \"Deduplication.__Main__\"}, \"IMPORTS\", {\"id\": \"Deduplication.Dedup.Baseline\"}, \"INSTANTIATES\", {\"id\": \"Deduplication.__Main__\"}]}, {\"path\": [{\"id\": \"Utils.Utils\"}, \"FUNCTION\", {\"id\": \"Utils.Utils.Shingle\"}, \"USED_IN\", {\"id\": \"Utils.Use_Cases.Nearest_Neighbor_Search\"}, \"USES\", {\"id\": \"Deduplication.__Main__\"}, \"USES\", {\"id\": \"Utils.Use_Cases.Collection_Deduplication\"}, \"IMPORTS\", {\"id\": \"Deduplication.__Main__\"}]}, {\"path\": [{\"id\": \"Utils.Utils\"}, \"FUNCTION\", {\"id\": \"Utils.Utils.Shingle\"}, \"USED_IN\", {\"id\": \"Utils.Use_Cases.Nearest_Neighbor_Search\"}, \"USES\", {\"id\": \"Deduplication.__Main__\"}, \"USES\", {\"id\": \"Utils.Utils.Read_Tsv\"}, \"IMPORTS\", {\"id\": \"Deduplication.__Main__\"}]}, {\"path\": [{\"id\": \"Utils.Utils\"}, \"FUNCTION\", {\"id\": \"Utils.Utils.Shingle\"}, \"USED_IN\", {\"id\": \"Deduplication.Lshimproved.Lshimproved.Compute_Minhash_Signatures\"}, \"USES\", {\"id\": \"Deduplication.__Main__.Model\"}, \"DEFINED_IN\", {\"id\": \"Deduplication.__Main__\"}]}, {\"path\": [{\"id\": \"Utils.Utils\"}, \"FUNCTION\", {\"id\": \"Utils.Utils.Shingle\"}, \"USED_IN\", {\"id\": \"Deduplication.Lshimproved.Lshimproved.Compute_Minhash_Signatures\"}, \"DEFINED_IN\", {\"id\": \"Deduplication.Lshimproved.Lshimproved\"}, \"IMPORTS\", {\"id\": \"Deduplication.__Main__\"}]}, {\"path\": [{\"id\": \"Utils.Utils\"}, \"FUNCTION\", {\"id\": \"Utils.Utils.Shingle\"}, \"USED_IN\", {\"id\": \"Deduplication.Lshimproved.Lshimproved.Compute_Minhash_Signatures\"}, \"USED_IN\", {\"id\": \"Utils.Utils.Minhash\"}, \"USED_IN\", {\"id\": \"Utils.Use_Cases.Nearest_Neighbor_Search\"}, \"IMPORTS\", {\"id\": \"Deduplication.__Main__\"}]}, {\"path\": [{\"id\": \"Utils.Utils\"}, \"FUNCTION\", {\"id\": \"Utils.Utils.Shingle\"}, \"USED_IN\", {\"id\": \"Deduplication.Lshimproved.Lshimproved.Compute_Minhash_Signatures\"}, \"USED_IN\", {\"id\": \"Utils.Utils.Minhash\"}, \"USED_IN\", {\"id\": \"Utils.Use_Cases.Nearest_Neighbor_Search\"}, \"USES\", {\"id\": \"Deduplication.__Main__\"}]}, {\"path\": [{\"id\": \"Utils.Utils\"}, \"FUNCTION\", {\"id\": \"Utils.Utils.Shingle\"}, \"USED_IN\", {\"id\": \"Deduplication.Lshimproved.Lshimproved.Compute_Minhash_Signatures\"}, \"USED_IN\", {\"id\": \"Utils.Utils.Clean_Document\"}, \"USED_IN\", {\"id\": \"Utils.Use_Cases.Nearest_Neighbor_Search\"}, \"IMPORTS\", {\"id\": \"Deduplication.__Main__\"}]}, {\"path\": [{\"id\": \"Utils.Utils\"}, \"FUNCTION\", {\"id\": \"Utils.Utils.Shingle\"}, \"USED_IN\", {\"id\": \"Deduplication.Lshimproved.Lshimproved.Compute_Minhash_Signatures\"}, \"USED_IN\", {\"id\": \"Utils.Utils.Clean_Document\"}, \"USED_IN\", {\"id\": \"Utils.Use_Cases.Nearest_Neighbor_Search\"}, \"USES\", {\"id\": \"Deduplication.__Main__\"}]}, {\"path\": [{\"id\": \"Utils.Utils\"}, \"FUNCTION\", {\"id\": \"Utils.Utils.Clean_Document\"}, \"IMPORTS\", {\"id\": \"Deduplication.Lsh\"}, \"IMPORTS\", {\"id\": \"Utils.Utils.Minhash\"}, \"USED_IN\", {\"id\": \"Utils.Use_Cases.Nearest_Neighbor_Search\"}, \"IMPORTS\", {\"id\": \"Deduplication.__Main__\"}]}, {\"path\": [{\"id\": \"Utils.Utils\"}, \"FUNCTION\", {\"id\": \"Utils.Utils.Clean_Document\"}, \"IMPORTS\", {\"id\": \"Deduplication.Lsh\"}, \"IMPORTS\", {\"id\": \"Utils.Utils.Minhash\"}, \"USED_IN\", {\"id\": \"Utils.Use_Cases.Nearest_Neighbor_Search\"}, \"USES\", {\"id\": \"Deduplication.__Main__\"}]}, {\"path\": [{\"id\": \"Utils.Utils\"}, \"FUNCTION\", {\"id\": \"Utils.Utils.Clean_Document\"}, \"IMPORTS\", {\"id\": \"Deduplication.Lsh\"}, \"IMPORTS\", {\"id\": \"Utils.Utils.Shingle\"}, \"USED_IN\", {\"id\": \"Utils.Use_Cases.Nearest_Neighbor_Search\"}, \"IMPORTS\", {\"id\": \"Deduplication.__Main__\"}]}, {\"path\": [{\"id\": \"Utils.Utils\"}, \"FUNCTION\", {\"id\": \"Utils.Utils.Clean_Document\"}, \"IMPORTS\", {\"id\": \"Deduplication.Lsh\"}, \"IMPORTS\", {\"id\": \"Utils.Utils.Shingle\"}, \"USED_IN\", {\"id\": \"Utils.Use_Cases.Nearest_Neighbor_Search\"}, \"USES\", {\"id\": \"Deduplication.__Main__\"}]}, {\"path\": [{\"id\": \"Utils.Utils\"}, \"FUNCTION\", {\"id\": \"Utils.Utils.Clean_Document\"}, \"IMPORTS\", {\"id\": \"Deduplication.Lsh\"}, \"DEFINED_IN\", {\"id\": \"Deduplication.Lsh.Lsh\"}, \"INHERITS\", {\"id\": \"Deduplication.Lshforest.Lshforest\"}, \"IMPORTS\", {\"id\": \"Deduplication.__Main__\"}]}, {\"path\": [{\"id\": \"Utils.Utils\"}, \"FUNCTION\", {\"id\": \"Utils.Utils.Clean_Document\"}, \"IMPORTS\", {\"id\": \"Deduplication.Lsh\"}, \"DEFINED_IN\", {\"id\": \"Deduplication.Lsh.Lsh\"}, \"IMPORTS\", {\"id\": \"Deduplication.__Main__\"}]}, {\"path\": [{\"id\": \"Utils.Utils\"}, \"FUNCTION\", {\"id\": \"Utils.Utils.Clean_Document\"}, \"USES\", {\"id\": \"Deduplication.Lsh.Lsh.Compute_Minhash_Signatures\"}, \"USES\", {\"id\": \"Deduplication.__Main__.Model\"}, \"DEFINED_IN\", {\"id\": \"Deduplication.__Main__\"}]}, {\"path\": [{\"id\": \"Utils.Utils\"}, \"FUNCTION\", {\"id\": \"Utils.Utils.Clean_Document\"}, \"USES\", {\"id\": \"Deduplication.Lsh.Lsh.Compute_Minhash_Signatures\"}, \"USES\", {\"id\": \"Utils.Utils.Minhash\"}, \"USED_IN\", {\"id\": \"Utils.Use_Cases.Nearest_Neighbor_Search\"}, \"IMPORTS\", {\"id\": \"Deduplication.__Main__\"}]}, {\"path\": [{\"id\": \"Utils.Utils\"}, \"FUNCTION\", {\"id\": \"Utils.Utils.Clean_Document\"}, \"USES\", {\"id\": \"Deduplication.Lsh.Lsh.Compute_Minhash_Signatures\"}, \"USES\", {\"id\": \"Utils.Utils.Minhash\"}, \"USED_IN\", {\"id\": \"Utils.Use_Cases.Nearest_Neighbor_Search\"}, \"USES\", {\"id\": \"Deduplication.__Main__\"}]}, {\"path\": [{\"id\": \"Utils.Utils\"}, \"FUNCTION\", {\"id\": \"Utils.Utils.Clean_Document\"}, \"USES\", {\"id\": \"Deduplication.Lsh.Lsh.Compute_Minhash_Signatures\"}, \"USES\", {\"id\": \"Utils.Utils.Shingle\"}, \"USED_IN\", {\"id\": \"Utils.Use_Cases.Nearest_Neighbor_Search\"}, \"IMPORTS\", {\"id\": \"Deduplication.__Main__\"}]}, {\"path\": [{\"id\": \"Utils.Utils\"}, \"FUNCTION\", {\"id\": \"Utils.Utils.Clean_Document\"}, \"USES\", {\"id\": \"Deduplication.Lsh.Lsh.Compute_Minhash_Signatures\"}, \"USES\", {\"id\": \"Utils.Utils.Shingle\"}, \"USED_IN\", {\"id\": \"Utils.Use_Cases.Nearest_Neighbor_Search\"}, \"USES\", {\"id\": \"Deduplication.__Main__\"}]}, {\"path\": [{\"id\": \"Utils.Utils\"}, \"FUNCTION\", {\"id\": \"Utils.Utils.Clean_Document\"}, \"USES\", {\"id\": \"Deduplication.Lsh.Lsh.Compute_Minhash_Signatures\"}, \"DEFINED_IN\", {\"id\": \"Deduplication.Lsh.Lsh\"}, \"INHERITS\", {\"id\": \"Deduplication.Lshforest.Lshforest\"}, \"IMPORTS\", {\"id\": \"Deduplication.__Main__\"}]}, {\"path\": [{\"id\": \"Utils.Utils\"}, \"FUNCTION\", {\"id\": \"Utils.Utils.Clean_Document\"}, \"USES\", {\"id\": \"Deduplication.Lsh.Lsh.Compute_Minhash_Signatures\"}, \"DEFINED_IN\", {\"id\": \"Deduplication.Lsh.Lsh\"}, \"IMPORTS\", {\"id\": \"Deduplication.__Main__\"}]}, {\"path\": [{\"id\": \"Utils.Utils\"}, \"FUNCTION\", {\"id\": \"Utils.Utils.Clean_Document\"}, \"USED_IN\", {\"id\": \"Utils.Use_Cases.Nearest_Neighbor_Search\"}, \"DEFINES\", {\"id\": \"Utils.Use_Cases\"}, \"DEFINES\", {\"id\": \"Utils.Use_Cases.Collection_Deduplication\"}, \"IMPORTS\", {\"id\": \"Deduplication.__Main__\"}]}, {\"path\": [{\"id\": \"Utils.Utils\"}, \"FUNCTION\", {\"id\": \"Utils.Utils.Clean_Document\"}, \"USED_IN\", {\"id\": \"Utils.Use_Cases.Nearest_Neighbor_Search\"}, \"DEFINES\", {\"id\": \"Utils.Use_Cases\"}, \"DEFINES\", {\"id\": \"Utils.Use_Cases.Collection_Deduplication\"}, \"USES\", {\"id\": \"Deduplication.__Main__\"}]}, {\"path\": [{\"id\": \"Utils.Utils\"}, \"FUNCTION\", {\"id\": \"Utils.Utils.Clean_Document\"}, \"USED_IN\", {\"id\": \"Utils.Use_Cases.Nearest_Neighbor_Search\"}, \"IMPORTS\", {\"id\": \"Deduplication.__Main__\"}]}, {\"path\": [{\"id\": \"Utils.Utils\"}, \"FUNCTION\", {\"id\": \"Utils.Utils.Clean_Document\"}, \"USED_IN\", {\"id\": \"Utils.Use_Cases.Nearest_Neighbor_Search\"}, \"IMPORTS\", {\"id\": \"Deduplication.__Main__\"}, \"INSTANTIATES\", {\"id\": \"Deduplication.Dedup.Baseline\"}, \"IMPORTS\", {\"id\": \"Deduplication.__Main__\"}]}, {\"path\": [{\"id\": \"Utils.Utils\"}, \"FUNCTION\", {\"id\": \"Utils.Utils.Clean_Document\"}, \"USED_IN\", {\"id\": \"Utils.Use_Cases.Nearest_Neighbor_Search\"}, \"IMPORTS\", {\"id\": \"Deduplication.__Main__\"}, \"IMPORTS\", {\"id\": \"Utils.Use_Cases.Collection_Deduplication\"}, \"USES\", {\"id\": \"Deduplication.__Main__\"}]}, {\"path\": [{\"id\": \"Utils.Utils\"}, \"FUNCTION\", {\"id\": \"Utils.Utils.Clean_Document\"}, \"USED_IN\", {\"id\": \"Utils.Use_Cases.Nearest_Neighbor_Search\"}, \"IMPORTS\", {\"id\": \"Deduplication.__Main__\"}, \"IMPORTS\", {\"id\": \"Utils.Utils.Read_Tsv\"}, \"USES\", {\"id\": \"Deduplication.__Main__\"}]}, {\"path\": [{\"id\": \"Utils.Utils\"}, \"FUNCTION\", {\"id\": \"Utils.Utils.Clean_Document\"}, \"USED_IN\", {\"id\": \"Utils.Use_Cases.Nearest_Neighbor_Search\"}, \"IMPORTS\", {\"id\": \"Deduplication.__Main__\"}, \"IMPORTS\", {\"id\": \"Deduplication.Dedup.Baseline\"}, \"INSTANTIATES\", {\"id\": \"Deduplication.__Main__\"}]}, {\"path\": [{\"id\": \"Utils.Utils\"}, \"FUNCTION\", {\"id\": \"Utils.Utils.Clean_Document\"}, \"USED_IN\", {\"id\": \"Utils.Use_Cases.Nearest_Neighbor_Search\"}, \"IMPORTS\", {\"id\": \"Deduplication.__Main__\"}, \"USES\", {\"id\": \"Utils.Use_Cases.Collection_Deduplication\"}, \"IMPORTS\", {\"id\": \"Deduplication.__Main__\"}]}, {\"path\": [{\"id\": \"Utils.Utils\"}, \"FUNCTION\", {\"id\": \"Utils.Utils.Clean_Document\"}, \"USED_IN\", {\"id\": \"Utils.Use_Cases.Nearest_Neighbor_Search\"}, \"IMPORTS\", {\"id\": \"Deduplication.__Main__\"}, \"USES\", {\"id\": \"Utils.Utils.Read_Tsv\"}, \"IMPORTS\", {\"id\": \"Deduplication.__Main__\"}]}, {\"path\": [{\"id\": \"Utils.Utils\"}, \"FUNCTION\", {\"id\": \"Utils.Utils.Clean_Document\"}, \"USED_IN\", {\"id\": \"Utils.Use_Cases.Nearest_Neighbor_Search\"}, \"USES\", {\"id\": \"Deduplication.__Main__\"}]}, {\"path\": [{\"id\": \"Utils.Utils\"}, \"FUNCTION\", {\"id\": \"Utils.Utils.Clean_Document\"}, \"USED_IN\", {\"id\": \"Utils.Use_Cases.Nearest_Neighbor_Search\"}, \"USES\", {\"id\": \"Deduplication.__Main__\"}, \"INSTANTIATES\", {\"id\": \"Deduplication.Dedup.Baseline\"}, \"IMPORTS\", {\"id\": \"Deduplication.__Main__\"}]}, {\"path\": [{\"id\": \"Utils.Utils\"}, \"FUNCTION\", {\"id\": \"Utils.Utils.Clean_Document\"}, \"USED_IN\", {\"id\": \"Utils.Use_Cases.Nearest_Neighbor_Search\"}, \"USES\", {\"id\": \"Deduplication.__Main__\"}, \"IMPORTS\", {\"id\": \"Utils.Use_Cases.Collection_Deduplication\"}, \"USES\", {\"id\": \"Deduplication.__Main__\"}]}, {\"path\": [{\"id\": \"Utils.Utils\"}, \"FUNCTION\", {\"id\": \"Utils.Utils.Clean_Document\"}, \"USED_IN\", {\"id\": \"Utils.Use_Cases.Nearest_Neighbor_Search\"}, \"USES\", {\"id\": \"Deduplication.__Main__\"}, \"IMPORTS\", {\"id\": \"Utils.Utils.Read_Tsv\"}, \"USES\", {\"id\": \"Deduplication.__Main__\"}]}, {\"path\": [{\"id\": \"Utils.Utils\"}, \"FUNCTION\", {\"id\": \"Utils.Utils.Clean_Document\"}, \"USED_IN\", {\"id\": \"Utils.Use_Cases.Nearest_Neighbor_Search\"}, \"USES\", {\"id\": \"Deduplication.__Main__\"}, \"IMPORTS\", {\"id\": \"Deduplication.Dedup.Baseline\"}, \"INSTANTIATES\", {\"id\": \"Deduplication.__Main__\"}]}, {\"path\": [{\"id\": \"Utils.Utils\"}, \"FUNCTION\", {\"id\": \"Utils.Utils.Clean_Document\"}, \"USED_IN\", {\"id\": \"Utils.Use_Cases.Nearest_Neighbor_Search\"}, \"USES\", {\"id\": \"Deduplication.__Main__\"}, \"USES\", {\"id\": \"Utils.Use_Cases.Collection_Deduplication\"}, \"IMPORTS\", {\"id\": \"Deduplication.__Main__\"}]}, {\"path\": [{\"id\": \"Utils.Utils\"}, \"FUNCTION\", {\"id\": \"Utils.Utils.Clean_Document\"}, \"USED_IN\", {\"id\": \"Utils.Use_Cases.Nearest_Neighbor_Search\"}, \"USES\", {\"id\": \"Deduplication.__Main__\"}, \"USES\", {\"id\": \"Utils.Utils.Read_Tsv\"}, \"IMPORTS\", {\"id\": \"Deduplication.__Main__\"}]}, {\"path\": [{\"id\": \"Utils.Utils\"}, \"FUNCTION\", {\"id\": \"Utils.Utils.Clean_Document\"}, \"USED_IN\", {\"id\": \"Deduplication.Lshimproved.Lshimproved.Compute_Minhash_Signatures\"}, \"USES\", {\"id\": \"Deduplication.__Main__.Model\"}, \"DEFINED_IN\", {\"id\": \"Deduplication.__Main__\"}]}, {\"path\": [{\"id\": \"Utils.Utils\"}, \"FUNCTION\", {\"id\": \"Utils.Utils.Clean_Document\"}, \"USED_IN\", {\"id\": \"Deduplication.Lshimproved.Lshimproved.Compute_Minhash_Signatures\"}, \"DEFINED_IN\", {\"id\": \"Deduplication.Lshimproved.Lshimproved\"}, \"IMPORTS\", {\"id\": \"Deduplication.__Main__\"}]}, {\"path\": [{\"id\": \"Utils.Utils\"}, \"FUNCTION\", {\"id\": \"Utils.Utils.Clean_Document\"}, \"USED_IN\", {\"id\": \"Deduplication.Lshimproved.Lshimproved.Compute_Minhash_Signatures\"}, \"USED_IN\", {\"id\": \"Utils.Utils.Minhash\"}, \"USED_IN\", {\"id\": \"Utils.Use_Cases.Nearest_Neighbor_Search\"}, \"IMPORTS\", {\"id\": \"Deduplication.__Main__\"}]}, {\"path\": [{\"id\": \"Utils.Utils\"}, \"FUNCTION\", {\"id\": \"Utils.Utils.Clean_Document\"}, \"USED_IN\", {\"id\": \"Deduplication.Lshimproved.Lshimproved.Compute_Minhash_Signatures\"}, \"USED_IN\", {\"id\": \"Utils.Utils.Minhash\"}, \"USED_IN\", {\"id\": \"Utils.Use_Cases.Nearest_Neighbor_Search\"}, \"USES\", {\"id\": \"Deduplication.__Main__\"}]}, {\"path\": [{\"id\": \"Utils.Utils\"}, \"FUNCTION\", {\"id\": \"Utils.Utils.Clean_Document\"}, \"USED_IN\", {\"id\": \"Deduplication.Lshimproved.Lshimproved.Compute_Minhash_Signatures\"}, \"USED_IN\", {\"id\": \"Utils.Utils.Shingle\"}, \"USED_IN\", {\"id\": \"Utils.Use_Cases.Nearest_Neighbor_Search\"}, \"IMPORTS\", {\"id\": \"Deduplication.__Main__\"}]}, {\"path\": [{\"id\": \"Utils.Utils\"}, \"FUNCTION\", {\"id\": \"Utils.Utils.Clean_Document\"}, \"USED_IN\", {\"id\": \"Deduplication.Lshimproved.Lshimproved.Compute_Minhash_Signatures\"}, \"USED_IN\", {\"id\": \"Utils.Utils.Shingle\"}, \"USED_IN\", {\"id\": \"Utils.Use_Cases.Nearest_Neighbor_Search\"}, \"USES\", {\"id\": \"Deduplication.__Main__\"}]}, {\"path\": [{\"id\": \"Utils.Utils\"}, \"IMPORTED_IN\", {\"id\": \"Deduplication.Lshimproved\"}, \"DEFINED_IN\", {\"id\": \"Deduplication.Lshimproved.Lshimproved\"}, \"IMPORTS\", {\"id\": \"Deduplication.__Main__\"}]}, {\"path\": [{\"id\": \"Utils.Utils\"}, \"IMPORTED_IN\", {\"id\": \"Deduplication.Lshimproved\"}, \"DEFINED_IN\", {\"id\": \"Deduplication.Lshimproved.Lshimproved\"}, \"IMPORTS\", {\"id\": \"Deduplication.__Main__\"}, \"INSTANTIATES\", {\"id\": \"Deduplication.Dedup.Baseline\"}, \"IMPORTS\", {\"id\": \"Deduplication.__Main__\"}]}, {\"path\": [{\"id\": \"Utils.Utils\"}, \"IMPORTED_IN\", {\"id\": \"Deduplication.Lshimproved\"}, \"DEFINED_IN\", {\"id\": \"Deduplication.Lshimproved.Lshimproved\"}, \"IMPORTS\", {\"id\": \"Deduplication.__Main__\"}, \"IMPORTS\", {\"id\": \"Utils.Use_Cases.Nearest_Neighbor_Search\"}, \"USES\", {\"id\": \"Deduplication.__Main__\"}]}, {\"path\": [{\"id\": \"Utils.Utils\"}, \"IMPORTED_IN\", {\"id\": \"Deduplication.Lshimproved\"}, \"DEFINED_IN\", {\"id\": \"Deduplication.Lshimproved.Lshimproved\"}, \"IMPORTS\", {\"id\": \"Deduplication.__Main__\"}, \"IMPORTS\", {\"id\": \"Utils.Use_Cases.Collection_Deduplication\"}, \"USES\", {\"id\": \"Deduplication.__Main__\"}]}, {\"path\": [{\"id\": \"Utils.Utils\"}, \"IMPORTED_IN\", {\"id\": \"Deduplication.Lshimproved\"}, \"DEFINED_IN\", {\"id\": \"Deduplication.Lshimproved.Lshimproved\"}, \"IMPORTS\", {\"id\": \"Deduplication.__Main__\"}, \"IMPORTS\", {\"id\": \"Utils.Utils.Read_Tsv\"}, \"USES\", {\"id\": \"Deduplication.__Main__\"}]}, {\"path\": [{\"id\": \"Utils.Utils\"}, \"IMPORTED_IN\", {\"id\": \"Deduplication.Lshimproved\"}, \"DEFINED_IN\", {\"id\": \"Deduplication.Lshimproved.Lshimproved\"}, \"IMPORTS\", {\"id\": \"Deduplication.__Main__\"}, \"IMPORTS\", {\"id\": \"Deduplication.Dedup.Baseline\"}, \"INSTANTIATES\", {\"id\": \"Deduplication.__Main__\"}]}, {\"path\": [{\"id\": \"Utils.Utils\"}, \"IMPORTED_IN\", {\"id\": \"Deduplication.Lshimproved\"}, \"DEFINED_IN\", {\"id\": \"Deduplication.Lshimproved.Lshimproved\"}, \"IMPORTS\", {\"id\": \"Deduplication.__Main__\"}, \"USES\", {\"id\": \"Utils.Use_Cases.Nearest_Neighbor_Search\"}, \"IMPORTS\", {\"id\": \"Deduplication.__Main__\"}]}, {\"path\": [{\"id\": \"Utils.Utils\"}, \"IMPORTED_IN\", {\"id\": \"Deduplication.Lshimproved\"}, \"DEFINED_IN\", {\"id\": \"Deduplication.Lshimproved.Lshimproved\"}, \"IMPORTS\", {\"id\": \"Deduplication.__Main__\"}, \"USES\", {\"id\": \"Utils.Use_Cases.Collection_Deduplication\"}, \"IMPORTS\", {\"id\": \"Deduplication.__Main__\"}]}, {\"path\": [{\"id\": \"Utils.Utils\"}, \"IMPORTED_IN\", {\"id\": \"Deduplication.Lshimproved\"}, \"DEFINED_IN\", {\"id\": \"Deduplication.Lshimproved.Lshimproved\"}, \"IMPORTS\", {\"id\": \"Deduplication.__Main__\"}, \"USES\", {\"id\": \"Utils.Utils.Read_Tsv\"}, \"IMPORTS\", {\"id\": \"Deduplication.__Main__\"}]}, {\"path\": [{\"id\": \"Utils.Utils\"}, \"IMPORTED_IN\", {\"id\": \"Deduplication.Lshimproved\"}, \"DEFINED_IN\", {\"id\": \"Deduplication.Lshimproved.Lshimproved\"}, \"DEFINED_IN\", {\"id\": \"Deduplication.Lshimproved.Lshimproved.Banding\"}, \"USES\", {\"id\": \"Deduplication.__Main__.Model\"}, \"DEFINED_IN\", {\"id\": \"Deduplication.__Main__\"}]}, {\"path\": [{\"id\": \"Utils.Utils\"}, \"IMPORTED_IN\", {\"id\": \"Deduplication.Lshimproved\"}, \"DEFINED_IN\", {\"id\": \"Deduplication.Lshimproved.Lshimproved\"}, \"DEFINED_IN\", {\"id\": \"Deduplication.Lshimproved.Lshimproved.Compute_Minhash_Signatures\"}, \"USES\", {\"id\": \"Deduplication.__Main__.Model\"}, \"DEFINED_IN\", {\"id\": \"Deduplication.__Main__\"}]}, {\"path\": [{\"id\": \"Utils.Utils\"}, \"IMPORTED_IN\", {\"id\": \"Deduplication.Lshimproved\"}, \"DEFINED_IN\", {\"id\": \"Deduplication.Lshimproved.Lshimproved\"}, \"DEFINED_IN\", {\"id\": \"Deduplication.Lshimproved.Lshimproved.__Init__\"}, \"USES\", {\"id\": \"Deduplication.__Main__.Model\"}, \"DEFINED_IN\", {\"id\": \"Deduplication.__Main__\"}]}]}', name='retrieve_cypher_relationships', id='904a32f0-4106-406b-80fb-34261fa9e9c6', tool_call_id='call_xumAZ62KiNB87z21VqqKcaU5'),\n",
       "  AIMessage(content='', additional_kwargs={'tool_calls': [{'id': 'call_vJcjxVTFQQ7L2ygR3vajV1CM', 'function': {'arguments': '{\"results\": {\"answer\": \"The `Utils.Utils` module is related to the `Deduplication.__Main__` module in multiple ways:\\\\n\\\\n- The `Utils.Utils` module, specifically `Utils.Utils.Unionfind`, is used in `Utils.Use_Cases.Collection_Deduplication` and either imports or uses `Deduplication.__Main__`.\\\\n- The `Utils.Utils` module, through the `Read_Tsv` function, imports and/or uses the `Deduplication.__Main__` module.\\\\n- The `Utils.Utils` module, via the `Minhash` function, uses `Deduplication.Lsh.Lsh.Compute_Minhash_Signatures` and interacts with `Deduplication.__Main__`.\\\\n- The `Utils.Utils` module, specifically the `Shingle` function, is used in `Utils.Use_Cases.Nearest_Neighbor_Search` and interacts with `Deduplication.__Main__`.\\\\n- The `Utils.Utils` module is imported in the `Deduplication.Lshimproved` module, which in turn imports `Deduplication.__Main__`.\", \"steps\": [\"generate_cypher\", \"execute_cypher\", \"generate_final_answer\"], \"cypher_statement\": \"MATCH path = (m1:Module {id: \\'Utils.Utils\\'})-[*..5]-(m2:Module {id: \\'Deduplication.__Main__\\'}) WHERE NONE(n IN nodes(path) WHERE n:Package) RETURN path\", \"cypher_results\": [{\"path\": [{\"id\": \"Utils.Utils\"}, \"CLASS\", {\"id\": \"Utils.Utils.Unionfind\"}, \"USED_IN\", {\"id\": \"Utils.Use_Cases.Collection_Deduplication\"}, \"DEFINES\", {\"id\": \"Utils.Use_Cases\"}, \"DEFINES\", {\"id\": \"Utils.Use_Cases.Nearest_Neighbor_Search\"}, \"IMPORTS\", {\"id\": \"Deduplication.__Main__\"}]}, {\"path\": [{\"id\": \"Utils.Utils\"}, \"CLASS\", {\"id\": \"Utils.Utils.Unionfind\"}, \"USED_IN\", {\"id\": \"Utils.Use_Cases.Collection_Deduplication\"}, \"DEFINES\", {\"id\": \"Utils.Use_Cases\"}, \"DEFINES\", {\"id\": \"Utils.Use_Cases.Nearest_Neighbor_Search\"}, \"USES\", {\"id\": \"Deduplication.__Main__\"}]}, {\"path\": [{\"id\": \"Utils.Utils\"}, \"CLASS\", {\"id\": \"Utils.Utils.Unionfind\"}, \"USED_IN\", {\"id\": \"Utils.Use_Cases.Collection_Deduplication\"}, \"IMPORTS\", {\"id\": \"Deduplication.__Main__\"}]}, {\"path\": [{\"id\": \"Utils.Utils\"}, \"CLASS\", {\"id\": \"Utils.Utils.Unionfind\"}, \"USED_IN\", {\"id\": \"Utils.Use_Cases.Collection_Deduplication\"}, \"IMPORTS\", {\"id\": \"Deduplication.__Main__\"}, \"INSTANTIATES\", {\"id\": \"Deduplication.Dedup.Baseline\"}, \"IMPORTS\", {\"id\": \"Deduplication.__Main__\"}]}, {\"path\": [{\"id\": \"Utils.Utils\"}, \"CLASS\", {\"id\": \"Utils.Utils.Unionfind\"}, \"USED_IN\", {\"id\": \"Utils.Use_Cases.Collection_Deduplication\"}, \"IMPORTS\", {\"id\": \"Deduplication.__Main__\"}, \"IMPORTS\", {\"id\": \"Utils.Use_Cases.Nearest_Neighbor_Search\"}, \"USES\", {\"id\": \"Deduplication.__Main__\"}]}, {\"path\": [{\"id\": \"Utils.Utils\"}, \"CLASS\", {\"id\": \"Utils.Utils.Unionfind\"}, \"USED_IN\", {\"id\": \"Utils.Use_Cases.Collection_Deduplication\"}, \"IMPORTS\", {\"id\": \"Deduplication.__Main__\"}, \"IMPORTS\", {\"id\": \"Utils.Utils.Read_Tsv\"}, \"USES\", {\"id\": \"Deduplication.__Main__\"}]}, {\"path\": [{\"id\": \"Utils.Utils\"}, \"CLASS\", {\"id\": \"Utils.Utils.Unionfind\"}, \"USED_IN\", {\"id\": \"Utils.Use_Cases.Collection_Deduplication\"}, \"IMPORTS\", {\"id\": \"Deduplication.__Main__\"}, \"IMPORTS\", {\"id\": \"Deduplication.Dedup.Baseline\"}, \"INSTANTIATES\", {\"id\": \"Deduplication.__Main__\"}]}, {\"path\": [{\"id\": \"Utils.Utils\"}, \"CLASS\", {\"id\": \"Utils.Utils.Unionfind\"}, \"USED_IN\", {\"id\": \"Utils.Use_Cases.Collection_Deduplication\"}, \"IMPORTS\", {\"id\": \"Deduplication.__Main__\"}, \"USES\", {\"id\": \"Utils.Use_Cases.Nearest_Neighbor_Search\"}, \"IMPORTS\", {\"id\": \"Deduplication.__Main__\"}]}, {\"path\": [{\"id\": \"Utils.Utils\"}, \"CLASS\", {\"id\": \"Utils.Utils.Unionfind\"}, \"USED_IN\", {\"id\": \"Utils.Use_Cases.Collection_Deduplication\"}, \"IMPORTS\", {\"id\": \"Deduplication.__Main__\"}, \"USES\", {\"id\": \"Utils.Utils.Read_Tsv\"}, \"IMPORTS\", {\"id\": \"Deduplication.__Main__\"}]}, {\"path\": [{\"id\": \"Utils.Utils\"}, \"CLASS\", {\"id\": \"Utils.Utils.Unionfind\"}, \"USED_IN\", {\"id\": \"Utils.Use_Cases.Collection_Deduplication\"}, \"USES\", {\"id\": \"Deduplication.__Main__\"}]}, {\"path\": [{\"id\": \"Utils.Utils\"}, \"CLASS\", {\"id\": \"Utils.Utils.Unionfind\"}, \"USED_IN\", {\"id\": \"Utils.Use_Cases.Collection_Deduplication\"}, \"USES\", {\"id\": \"Deduplication.__Main__\"}, \"INSTANTIATES\", {\"id\": \"Deduplication.Dedup.Baseline\"}, \"IMPORTS\", {\"id\": \"Deduplication.__Main__\"}]}, {\"path\": [{\"id\": \"Utils.Utils\"}, \"CLASS\", {\"id\": \"Utils.Utils.Unionfind\"}, \"USED_IN\", {\"id\": \"Utils.Use_Cases.Collection_Deduplication\"}, \"USES\", {\"id\": \"Deduplication.__Main__\"}, \"IMPORTS\", {\"id\": \"Utils.Use_Cases.Nearest_Neighbor_Search\"}, \"USES\", {\"id\": \"Deduplication.__Main__\"}]}, {\"path\": [{\"id\": \"Utils.Utils\"}, \"CLASS\", {\"id\": \"Utils.Utils.Unionfind\"}, \"USED_IN\", {\"id\": \"Utils.Use_Cases.Collection_Deduplication\"}, \"USES\", {\"id\": \"Deduplication.__Main__\"}, \"IMPORTS\", {\"id\": \"Utils.Utils.Read_Tsv\"}, \"USES\", {\"id\": \"Deduplication.__Main__\"}]}, {\"path\": [{\"id\": \"Utils.Utils\"}, \"FUNCTION\", {\"id\": \"Utils.Utils.Read_Tsv\"}, \"IMPORTS\", {\"id\": \"Deduplication.__Main__\"}]}, {\"path\": [{\"id\": \"Utils.Utils\"}, \"FUNCTION\", {\"id\": \"Utils.Utils.Read_Tsv\"}, \"IMPORTS\", {\"id\": \"Deduplication.__Main__\"}, \"INSTANTIATES\", {\"id\": \"Deduplication.Dedup.Baseline\"}, \"IMPORTS\", {\"id\": \"Deduplication.__Main__\"}]}, {\"path\": [{\"id\": \"Utils.Utils\"}, \"FUNCTION\", {\"id\": \"Utils.Utils.Read_Tsv\"}, \"IMPORTS\", {\"id\": \"Deduplication.__Main__\"}, \"IMPORTS\", {\"id\": \"Utils.Use_Cases.Collection_Deduplication\"}, \"USES\", {\"id\": \"Deduplication.__Main__\"}]}, {\"path\": [{\"id\": \"Utils.Utils\"}, \"FUNCTION\", {\"id\": \"Utils.Utils.Read_Tsv\"}, \"IMPORTS\", {\"id\": \"Deduplication.__Main__\"}, \"IMPORTS\", {\"id\": \"Deduplication.Lshforest.Lshforest\"}, \"INHERITS\", {\"id\": \"Deduplication.Lsh.Lsh\"}, \"IMPORTS\", {\"id\": \"Deduplication.__Main__\"}]}, {\"path\": [{\"id\": \"Utils.Utils\"}, \"FUNCTION\", {\"id\": \"Utils.Utils.Read_Tsv\"}, \"IMPORTS\", {\"id\": \"Deduplication.__Main__\"}, \"USES\", {\"id\": \"Deduplication.Dedup.Baseline.Collection_Deduplication\"}, \"DEFINED_IN\", {\"id\": \"Deduplication.Dedup.Baseline\"}, \"IMPORTS\", {\"id\": \"Deduplication.__Main__\"}]}, {\"path\": [{\"id\": \"Utils.Utils\"}, \"FUNCTION\", {\"id\": \"Utils.Utils.Read_Tsv\"}, \"USES\", {\"id\": \"Deduplication.__Main__\"}]}, {\"path\": [{\"id\": \"Utils.Utils\"}, \"FUNCTION\", {\"id\": \"Utils.Utils.Read_Tsv\"}, \"USES\", {\"id\": \"Deduplication.__Main__\"}, \"INSTANTIATES\", {\"id\": \"Deduplication.Dedup.Baseline\"}, \"DEFINED_IN\", {\"id\": \"Deduplication.Dedup.Baseline.Collection_Deduplication\"}, \"USES\", {\"id\": \"Deduplication.__Main__\"}]}, {\"path\": [{\"id\": \"Utils.Utils\"}, \"FUNCTION\", {\"id\": \"Utils.Utils.Read_Tsv\"}, \"USES\", {\"id\": \"Deduplication.__Main__\"}, \"IMPORTS\", {\"id\": \"Utils.Utils.Read_Tsv\"}, \"USES\", {\"id\": \"Deduplication.__Main__\"}]}, {\"path\": [{\"id\": \"Utils.Utils\"}, \"FUNCTION\", {\"id\": \"Utils.Utils.Majority_Vote\"}, \"USES\", {\"id\": \"Deduplication.Lshforest.Lshforest.Banding\"}, \"DEFINES\", {\"id\": \"Deduplication.Lshforest.Lshforest\"}, \"IMPORTS\", {\"id\": \"Deduplication.__Main__\"}]}, {\"path\": [{\"id\": \"Utils.Utils\"}, \"FUNCTION\", {\"id\": \"Utils.Utils.Majority_Vote\"}, \"USES\", {\"id\": \"Deduplication.Lshforest.Lshforest.Banding\"}, \"USES\", {\"id\": \"Deduplication.__Main__.Model\"}, \"DEFINED_IN\", {\"id\": \"Deduplication.__Main__\"}]}, {\"path\": [{\"id\": \"Utils.Utils\"}, \"FUNCTION\", {\"id\": \"Utils.Utils.Split_Dict\"}, \"USES\", {\"id\": \"Deduplication.Lshforest.Lshforest.Banding\"}, \"DEFINED_IN\", {\"id\": \"Deduplication.Lshforest.Lshforest\"}, \"IMPORTS\", {\"id\": \"Deduplication.__Main__\"}]}, {\"path\": [{\"id\": \"Utils.Utils\"}, \"FUNCTION\", {\"id\": \"Utils.Utils.Split_Dict\"}, \"USES\", {\"id\": \"Deduplication.Lshforest.Lshforest.Banding\"}, \"USES\", {\"id\": \"Deduplication.__Main__.Model\"}, \"DEFINED_IN\", {\"id\": \"Deduplication.__Main__\"}]}, {\"path\": [{\"id\": \"Utils.Utils\"}, \"FUNCTION\", {\"id\": \"Utils.Utils.Minhash\"}, \"IMPORTS\", {\"id\": \"Deduplication.Lsh\"}, \"IMPORTS\", {\"id\": \"Utils.Utils.Shingle\"}, \"USED_IN\", {\"id\": \"Utils.Use_Cases.Nearest_Neighbor_Search\"}, \"IMPORTS\", {\"id\": \"Deduplication.__Main__\"}]}, {\"path\": [{\"id\": \"Utils.Utils\"}, \"FUNCTION\", {\"id\": \"Utils.Utils.Minhash\"}, \"IMPORTS\", {\"id\": \"Deduplication.Lsh\"}, \"IMPORTS\", {\"id\": \"Utils.Utils.Shingle\"}, \"USED_IN\", {\"id\": \"Utils.Use_Cases.Nearest_Neighbor_Search\"}, \"USES\", {\"id\": \"Deduplication.__Main__\"}]}, {\"path\": [{\"id\": \"Utils.Utils\"}, \"FUNCTION\", {\"id\": \"Utils.Utils.Minhash\"}, \"USES\", {\"id\": \"Deduplication.Lsh.Lsh.Compute_Minhash_Signatures\"}, \"USES\", {\"id\": \"Deduplication.__Main__.Model\"}, \"DEFINED_IN\", {\"id\": \"Deduplication.__Main__\"}]}, {\"path\": [{\"id\": \"Utils.Utils\"}, \"FUNCTION\", {\"id\": \"Utils.Utils.Minhash\"}, \"USES\", {\"id\": \"Deduplication.Lsh.Lsh.Compute_Minhash_Signatures\"}, \"USES\", {\"id\": \"Deduplication.Lsh.Lsh.Lsh_Client\"}, \"DEFINES\", {\"id\": \"Deduplication.Lsh.Lsh\"}, \"INHERITS\", {\"id\": \"Deduplication.Lshforest.Lshforest\"}, \"IMPORTS\", {\"id\": \"Deduplication.__Main__\"}]}, {\"path\": [{\"id\": \"Utils.Utils\"}, \"FUNCTION\", {\"id\": \"Utils.Utils.Minhash\"}, \"USED_IN\", {\"id\": \"Utils.Use_Cases.Nearest_Neighbor_Search\"}, \"DEFINES\", {\"id\": \"Utils.Use_Cases\"}, \"DEFINES\", {\"id\": \"Utils.Use_Cases.Collection_Deduplication\"}, \"IMPORTS\", {\"id\": \"Deduplication.__Main__\"}]}, {\"path\": [{\"id\": \"Utils.Utils\"}, \"FUNCTION\", {\"id\": \"Utils.Utils.Minhash\"}, \"USED_IN\", {\"id\": \"Deduplication.Lshimproved.Lshimproved.Compute_Minhash_Signatures\"}, \"USED_IN\", {\"id\": \"Utils.Utils.Shingle\"}, \"USED_IN\", {\"id\": \"Utils.Use_Cases.Nearest_Neighbor_Search\"}, \"IMPORTS\", {\"id\": \"Deduplication.__Main__\"}]}, {\"path\": [{\"id\": \"Utils.Utils\"}, \"FUNCTION\", {\"id\": \"Utils.Utils.Minhash\"}, \"USED_IN\", {\"id\": \"Deduplication.Lshimproved.Lshimproved.Compute_Minhash_Signatures\"}, \"DEFINED_IN\", {\"id\": \"Deduplication.Lshimproved.Lshimproved\"}, \"IMPORTS\", {\"id\": \"Deduplication.__Main__\"}]}]}}', 'name': 'visualize_relationships'}, 'type': 'function'}, {'id': 'call_i2L6ohN673BPGEOnIuTDnJud', 'function': {'arguments': '{\"results\": {\"answer\": \"The `Utils.Utils` module is related to the `Deduplication.__Main__` module in multiple ways:\\\\n\\\\n- The `Utils.Utils` module, specifically `Utils.Utils.Unionfind`, is used in `Utils.Use_Cases.Collection_Deduplication` and either imports or uses `Deduplication.__Main__`.\\\\n- The `Utils.Utils` module, through the `Read_Tsv` function, imports and/or uses the `Deduplication.__Main__` module.\\\\n- The `Utils.Utils` module, via the `Minhash` function, uses `Deduplication.Lsh.Lsh.Compute_Minhash_Signatures` and interacts with `Deduplication.__Main__`.\\\\n- The `Utils.Utils` module, specifically the `Shingle` function, is used in `Utils.Use_Cases.Nearest_Neighbor_Search` and interacts with `Deduplication.__Main__`.\\\\n- The `Utils.Utils` module is imported in the `Deduplication.Lshimproved` module, which in turn imports `Deduplication.__Main__`.\", \"steps\": [\"generate_cypher\", \"execute_cypher\", \"generate_final_answer\"], \"cypher_statement\": \"MATCH path = (m1:Module {id: \\'Utils.Utils\\'})-[*..5]-(m2:Module {id: \\'Deduplication.__Main__\\'}) WHERE NONE(n IN nodes(path) WHERE n:Package) RETURN path\", \"cypher_results\": [{\"path\": [{\"id\": \"Utils.Utils\"}, \"CLASS\", {\"id\": \"Utils.Utils.Unionfind\"}, \"USED_IN\", {\"id\": \"Utils.Use_Cases.Collection_Deduplication\"}, \"DEFINES\", {\"id\": \"Utils.Use_Cases\"}, \"DEFINES\", {\"id\": \"Utils.Use_Cases.Nearest_Neighbor_Search\"}, \"IMPORTS\", {\"id\": \"Deduplication.__Main__\"}]}, {\"path\": [{\"id\": \"Utils.Utils\"}, \"CLASS\", {\"id\": \"Utils.Utils.Unionfind\"}, \"USED_IN\", {\"id\": \"Utils.Use_Cases.Collection_Deduplication\"}, \"DEFINES\", {\"id\": \"Utils.Use_Cases\"}, \"DEFINES\", {\"id\": \"Utils.Use_Cases.Nearest_Neighbor_Search\"}, \"USES\", {\"id\": \"Deduplication.__Main__\"}]}, {\"path\": [{\"id\": \"Utils.Utils\"}, \"CLASS\", {\"id\": \"Utils.Utils.Unionfind\"}, \"USED_IN\", {\"id\": \"Utils.Use_Cases.Collection_Deduplication\"}, \"IMPORTS\", {\"id\": \"Deduplication.__Main__\"}]}, {\"path\": [{\"id\": \"Utils.Utils\"}, \"CLASS\", {\"id\": \"Utils.Utils.Unionfind\"}, \"USED_IN\", {\"id\": \"Utils.Use_Cases.Collection_Deduplication\"}, \"IMPORTS\", {\"id\": \"Deduplication.__Main__\"}, \"INSTANTIATES\", {\"id\": \"Deduplication.Dedup.Baseline\"}, \"IMPORTS\", {\"id\": \"Deduplication.__Main__\"}]}, {\"path\": [{\"id\": \"Utils.Utils\"}, \"CLASS\", {\"id\": \"Utils.Utils.Unionfind\"}, \"USED_IN\", {\"id\": \"Utils.Use_Cases.Collection_Deduplication\"}, \"IMPORTS\", {\"id\": \"Deduplication.__Main__\"}, \"IMPORTS\", {\"id\": \"Utils.Use_Cases.Nearest_Neighbor_Search\"}, \"USES\", {\"id\": \"Deduplication.__Main__\"}]}, {\"path\": [{\"id\": \"Utils.Utils\"}, \"CLASS\", {\"id\": \"Utils.Utils.Unionfind\"}, \"USED_IN\", {\"id\": \"Utils.Use_Cases.Collection_Deduplication\"}, \"IMPORTS\", {\"id\": \"Deduplication.__Main__\"}, \"IMPORTS\", {\"id\": \"Utils.Utils.Read_Tsv\"}, \"USES\", {\"id\": \"Deduplication.__Main__\"}]}, {\"path\": [{\"id\": \"Utils.Utils\"}, \"CLASS\", {\"id\": \"Utils.Utils.Unionfind\"}, \"USED_IN\", {\"id\": \"Utils.Use_Cases.Collection_Deduplication\"}, \"IMPORTS\", {\"id\": \"Deduplication.__Main__\"}, \"IMPORTS\", {\"id\": \"Deduplication.Dedup.Baseline\"}, \"INSTANTIATES\", {\"id\": \"Deduplication.__Main__\"}]}, {\"path\": [{\"id\": \"Utils.Utils\"}, \"CLASS\", {\"id\": \"Utils.Utils.Unionfind\"}, \"USED_IN\", {\"id\": \"Utils.Use_Cases.Collection_Deduplication\"}, \"IMPORTS\", {\"id\": \"Deduplication.__Main__\"}, \"USES\", {\"id\": \"Utils.Use_Cases.Nearest_Neighbor_Search\"}, \"IMPORTS\", {\"id\": \"Deduplication.__Main__\"}]}, {\"path\": [{\"id\": \"Utils.Utils\"}, \"CLASS\", {\"id\": \"Utils.Utils.Unionfind\"}, \"USED_IN\", {\"id\": \"Utils.Use_Cases.Collection_Deduplication\"}, \"IMPORTS\", {\"id\": \"Deduplication.__Main__\"}, \"USES\", {\"id\": \"Utils.Utils.Read_Tsv\"}, \"IMPORTS\", {\"id\": \"Deduplication.__Main__\"}]}, {\"path\": [{\"id\": \"Utils.Utils\"}, \"CLASS\", {\"id\": \"Utils.Utils.Unionfind\"}, \"USED_IN\", {\"id\": \"Utils.Use_Cases.Collection_Deduplication\"}, \"USES\", {\"id\": \"Deduplication.__Main__\"}]}, {\"path\": [{\"id\": \"Utils.Utils\"}, \"CLASS\", {\"id\": \"Utils.Utils.Unionfind\"}, \"USED_IN\", {\"id\": \"Utils.Use_Cases.Collection_Deduplication\"}, \"USES\", {\"id\": \"Deduplication.__Main__\"}, \"INSTANTIATES\", {\"id\": \"Deduplication.Dedup.Baseline\"}, \"IMPORTS\", {\"id\": \"Deduplication.__Main__\"}]}, {\"path\": [{\"id\": \"Utils.Utils\"}, \"CLASS\", {\"id\": \"Utils.Utils.Unionfind\"}, \"USED_IN\", {\"id\": \"Utils.Use_Cases.Collection_Deduplication\"}, \"USES\", {\"id\": \"Deduplication.__Main__\"}, \"IMPORTS\", {\"id\": \"Utils.Use_Cases.Nearest_Neighbor_Search\"}, \"USES\", {\"id\": \"Deduplication.__Main__\"}]}, {\"path\": [{\"id\": \"Utils.Utils\"}, \"CLASS\", {\"id\": \"Utils.Utils.Unionfind\"}, \"USED_IN\", {\"id\": \"Utils.Use_Cases.Collection_Deduplication\"}, \"USES\", {\"id\": \"Deduplication.__Main__\"}, \"IMPORTS\", {\"id\": \"Utils.Utils.Read_Tsv\"}, \"USES\", {\"id\": \"Deduplication.__Main__\"}]}, {\"path\": [{\"id\": \"Utils.Utils\"}, \"FUNCTION\", {\"id\": \"Utils.Utils.Read_Tsv\"}, \"IMPORTS\", {\"id\": \"Deduplication.__Main__\"}]}, {\"path\": [{\"id\": \"Utils.Utils\"}, \"FUNCTION\", {\"id\": \"Utils.Utils.Read_Tsv\"}, \"IMPORTS\", {\"id\": \"Deduplication.__Main__\"}, \"INSTANTIATES\", {\"id\": \"Deduplication.Dedup.Baseline\"}, \"IMPORTS\", {\"id\": \"Deduplication.__Main__\"}]}, {\"path\": [{\"id\": \"Utils.Utils\"}, \"FUNCTION\", {\"id\": \"Utils.Utils.Read_Tsv\"}, \"IMPORTS\", {\"id\": \"Deduplication.__Main__\"}, \"IMPORTS\", {\"id\": \"Utils.Use_Cases.Collection_Deduplication\"}, \"USES\", {\"id\": \"Deduplication.__Main__\"}]}, {\"path\": [{\"id\": \"Utils.Utils\"}, \"FUNCTION\", {\"id\": \"Utils.Utils.Read_Tsv\"}, \"IMPORTS\", {\"id\": \"Deduplication.__Main__\"}, \"IMPORTS\", {\"id\": \"Deduplication.Lshforest.Lshforest\"}, \"INHERITS\", {\"id\": \"Deduplication.Lsh.Lsh\"}, \"IMPORTS\", {\"id\": \"Deduplication.__Main__\"}]}, {\"path\": [{\"id\": \"Utils.Utils\"}, \"FUNCTION\", {\"id\": \"Utils.Utils.Read_Tsv\"}, \"IMPORTS\", {\"id\": \"Deduplication.__Main__\"}, \"USES\", {\"id\": \"Deduplication.Dedup.Baseline.Collection_Deduplication\"}, \"DEFINED_IN\", {\"id\": \"Deduplication.Dedup.Baseline\"}, \"IMPORTS\", {\"id\": \"Deduplication.__Main__\"}]}, {\"path\": [{\"id\": \"Utils.Utils\"}, \"FUNCTION\", {\"id\": \"Utils.Utils.Read_Tsv\"}, \"USES\", {\"id\": \"Deduplication.__Main__\"}]}, {\"path\": [{\"id\": \"Utils.Utils\"}, \"FUNCTION\", {\"id\": \"Utils.Utils.Read_Tsv\"}, \"USES\", {\"id\": \"Deduplication.__Main__\"}, \"INSTANTIATES\", {\"id\": \"Deduplication.Dedup.Baseline\"}, \"DEFINED_IN\", {\"id\": \"Deduplication.Dedup.Baseline.Collection_Deduplication\"}, \"USES\", {\"id\": \"Deduplication.__Main__\"}]}, {\"path\": [{\"id\": \"Utils.Utils\"}, \"FUNCTION\", {\"id\": \"Utils.Utils.Read_Tsv\"}, \"USES\", {\"id\": \"Deduplication.__Main__\"}, \"IMPORTS\", {\"id\": \"Utils.Utils.Read_Tsv\"}, \"USES\", {\"id\": \"Deduplication.__Main__\"}]}, {\"path\": [{\"id\": \"Utils.Utils\"}, \"FUNCTION\", {\"id\": \"Utils.Utils.Majority_Vote\"}, \"USES\", {\"id\": \"Deduplication.Lshforest.Lshforest.Banding\"}, \"DEFINES\", {\"id\": \"Deduplication.Lshforest.Lshforest\"}, \"IMPORTS\", {\"id\": \"Deduplication.__Main__\"}]}, {\"path\": [{\"id\": \"Utils.Utils\"}, \"FUNCTION\", {\"id\": \"Utils.Utils.Majority_Vote\"}, \"USES\", {\"id\": \"Deduplication.Lshforest.Lshforest.Banding\"}, \"USES\", {\"id\": \"Deduplication.__Main__.Model\"}, \"DEFINED_IN\", {\"id\": \"Deduplication.__Main__\"}]}, {\"path\": [{\"id\": \"Utils.Utils\"}, \"FUNCTION\", {\"id\": \"Utils.Utils.Split_Dict\"}, \"USES\", {\"id\": \"Deduplication.Lshforest.Lshforest.Banding\"}, \"DEFINED_IN\", {\"id\": \"Deduplication.Lshforest.Lshforest\"}, \"IMPORTS\", {\"id\": \"Deduplication.__Main__\"}]}, {\"path\": [{\"id\": \"Utils.Utils\"}, \"FUNCTION\", {\"id\": \"Utils.Utils.Split_Dict\"}, \"USES\", {\"id\": \"Deduplication.Lshforest.Lshforest.Banding\"}, \"USES\", {\"id\": \"Deduplication.__Main__.Model\"}, \"DEFINED_IN\", {\"id\": \"Deduplication.__Main__\"}]}, {\"path\": [{\"id\": \"Utils.Utils\"}, \"FUNCTION\", {\"id\": \"Utils.Utils.Minhash\"}, \"IMPORTS\", {\"id\": \"Deduplication.Lsh\"}, \"IMPORTS\", {\"id\": \"Utils.Utils.Shingle\"}, \"USED_IN\", {\"id\": \"Utils.Use_Cases.Nearest_Neighbor_Search\"}, \"IMPORTS\", {\"id\": \"Deduplication.__Main__\"}]}, {\"path\": [{\"id\": \"Utils.Utils\"}, \"FUNCTION\", {\"id\": \"Utils.Utils.Minhash\"}, \"IMPORTS\", {\"id\": \"Deduplication.Lsh\"}, \"IMPORTS\", {\"id\": \"Utils.Utils.Shingle\"}, \"USED_IN\", {\"id\": \"Utils.Use_Cases.Nearest_Neighbor_Search\"}, \"USES\", {\"id\": \"Deduplication.__Main__\"}]}, {\"path\": [{\"id\": \"Utils.Utils\"}, \"FUNCTION\", {\"id\": \"Utils.Utils.Minhash\"}, \"USES\", {\"id\": \"Deduplication.Lsh.Lsh.Compute_Minhash_Signatures\"}, \"USES\", {\"id\": \"Deduplication.__Main__.Model\"}, \"DEFINED_IN\", {\"id\": \"Deduplication.__Main__\"}]}, {\"path\": [{\"id\": \"Utils.Utils\"}, \"FUNCTION\", {\"id\": \"Utils.Utils.Minhash\"}, \"USES\", {\"id\": \"Deduplication.Lsh.Lsh.Compute_Minhash_Signatures\"}, \"USES\", {\"id\": \"Deduplication.Lsh.Lsh.Lsh_Client\"}, \"DEFINES\", {\"id\": \"Deduplication.Lsh.Lsh\"}, \"INHERITS\", {\"id\": \"Deduplication.Lshforest.Lshforest\"}, \"IMPORTS\", {\"id\": \"Deduplication.__Main__\"}]}, {\"path\": [{\"id\": \"Utils.Utils\"}, \"FUNCTION\", {\"id\": \"Utils.Utils.Minhash\"}, \"USED_IN\", {\"id\": \"Utils.Use_Cases.Nearest_Neighbor_Search\"}, \"DEFINES\", {\"id\": \"Utils.Use_Cases\"}, \"DEFINES\", {\"id\": \"Utils.Use_Cases.Collection_Deduplication\"}, \"IMPORTS\", {\"id\": \"Deduplication.__Main__\"}]}, {\"path\": [{\"id\": \"Utils.Utils\"}, \"FUNCTION\", {\"id\": \"Utils.Utils.Minhash\"}, \"USED_IN\", {\"id\": \"Deduplication.Lshimproved.Lshimproved.Compute_Minhash_Signatures\"}, \"USED_IN\", {\"id\": \"Utils.Utils.Shingle\"}, \"USED_IN\", {\"id\": \"Utils.Use_Cases.Nearest_Neighbor_Search\"}, \"IMPORTS\", {\"id\": \"Deduplication.__Main__\"}]}, {\"path\": [{\"id\": \"Utils.Utils\"}, \"FUNCTION\", {\"id\": \"Utils.Utils.Minhash\"}, \"USED_IN\", {\"id\": \"Deduplication.Lshimproved.Lshimproved.Compute_Minhash_Signatures\"}, \"DEFINED_IN\", {\"id\": \"Deduplication.Lshimproved.Lshimproved\"}, \"IMPORTS\", {\"id\": \"Deduplication.__Main__\"}]}]}}', 'name': 'generate_text_response'}, 'type': 'function'}], 'refusal': None}, response_metadata={'token_usage': {'completion_tokens': 5493, 'prompt_tokens': 15170, 'total_tokens': 20663, 'completion_tokens_details': {'accepted_prediction_tokens': 0, 'audio_tokens': 0, 'reasoning_tokens': 0, 'rejected_prediction_tokens': 0}, 'prompt_tokens_details': {'audio_tokens': 0, 'cached_tokens': 0}}, 'model_name': 'gpt-4o-2024-08-06', 'system_fingerprint': 'fp_85bc8e3fae', 'finish_reason': 'tool_calls', 'logprobs': None}, id='run-a25e3b0e-a64a-474e-a9c6-e925159ecf26-0', tool_calls=[{'name': 'visualize_relationships', 'args': {'results': {'answer': 'The `Utils.Utils` module is related to the `Deduplication.__Main__` module in multiple ways:\\n\\n- The `Utils.Utils` module, specifically `Utils.Utils.Unionfind`, is used in `Utils.Use_Cases.Collection_Deduplication` and either imports or uses `Deduplication.__Main__`.\\n- The `Utils.Utils` module, through the `Read_Tsv` function, imports and/or uses the `Deduplication.__Main__` module.\\n- The `Utils.Utils` module, via the `Minhash` function, uses `Deduplication.Lsh.Lsh.Compute_Minhash_Signatures` and interacts with `Deduplication.__Main__`.\\n- The `Utils.Utils` module, specifically the `Shingle` function, is used in `Utils.Use_Cases.Nearest_Neighbor_Search` and interacts with `Deduplication.__Main__`.\\n- The `Utils.Utils` module is imported in the `Deduplication.Lshimproved` module, which in turn imports `Deduplication.__Main__`.', 'steps': ['generate_cypher', 'execute_cypher', 'generate_final_answer'], 'cypher_statement': \"MATCH path = (m1:Module {id: 'Utils.Utils'})-[*..5]-(m2:Module {id: 'Deduplication.__Main__'}) WHERE NONE(n IN nodes(path) WHERE n:Package) RETURN path\", 'cypher_results': [{'path': [{'id': 'Utils.Utils'}, 'CLASS', {'id': 'Utils.Utils.Unionfind'}, 'USED_IN', {'id': 'Utils.Use_Cases.Collection_Deduplication'}, 'DEFINES', {'id': 'Utils.Use_Cases'}, 'DEFINES', {'id': 'Utils.Use_Cases.Nearest_Neighbor_Search'}, 'IMPORTS', {'id': 'Deduplication.__Main__'}]}, {'path': [{'id': 'Utils.Utils'}, 'CLASS', {'id': 'Utils.Utils.Unionfind'}, 'USED_IN', {'id': 'Utils.Use_Cases.Collection_Deduplication'}, 'DEFINES', {'id': 'Utils.Use_Cases'}, 'DEFINES', {'id': 'Utils.Use_Cases.Nearest_Neighbor_Search'}, 'USES', {'id': 'Deduplication.__Main__'}]}, {'path': [{'id': 'Utils.Utils'}, 'CLASS', {'id': 'Utils.Utils.Unionfind'}, 'USED_IN', {'id': 'Utils.Use_Cases.Collection_Deduplication'}, 'IMPORTS', {'id': 'Deduplication.__Main__'}]}, {'path': [{'id': 'Utils.Utils'}, 'CLASS', {'id': 'Utils.Utils.Unionfind'}, 'USED_IN', {'id': 'Utils.Use_Cases.Collection_Deduplication'}, 'IMPORTS', {'id': 'Deduplication.__Main__'}, 'INSTANTIATES', {'id': 'Deduplication.Dedup.Baseline'}, 'IMPORTS', {'id': 'Deduplication.__Main__'}]}, {'path': [{'id': 'Utils.Utils'}, 'CLASS', {'id': 'Utils.Utils.Unionfind'}, 'USED_IN', {'id': 'Utils.Use_Cases.Collection_Deduplication'}, 'IMPORTS', {'id': 'Deduplication.__Main__'}, 'IMPORTS', {'id': 'Utils.Use_Cases.Nearest_Neighbor_Search'}, 'USES', {'id': 'Deduplication.__Main__'}]}, {'path': [{'id': 'Utils.Utils'}, 'CLASS', {'id': 'Utils.Utils.Unionfind'}, 'USED_IN', {'id': 'Utils.Use_Cases.Collection_Deduplication'}, 'IMPORTS', {'id': 'Deduplication.__Main__'}, 'IMPORTS', {'id': 'Utils.Utils.Read_Tsv'}, 'USES', {'id': 'Deduplication.__Main__'}]}, {'path': [{'id': 'Utils.Utils'}, 'CLASS', {'id': 'Utils.Utils.Unionfind'}, 'USED_IN', {'id': 'Utils.Use_Cases.Collection_Deduplication'}, 'IMPORTS', {'id': 'Deduplication.__Main__'}, 'IMPORTS', {'id': 'Deduplication.Dedup.Baseline'}, 'INSTANTIATES', {'id': 'Deduplication.__Main__'}]}, {'path': [{'id': 'Utils.Utils'}, 'CLASS', {'id': 'Utils.Utils.Unionfind'}, 'USED_IN', {'id': 'Utils.Use_Cases.Collection_Deduplication'}, 'IMPORTS', {'id': 'Deduplication.__Main__'}, 'USES', {'id': 'Utils.Use_Cases.Nearest_Neighbor_Search'}, 'IMPORTS', {'id': 'Deduplication.__Main__'}]}, {'path': [{'id': 'Utils.Utils'}, 'CLASS', {'id': 'Utils.Utils.Unionfind'}, 'USED_IN', {'id': 'Utils.Use_Cases.Collection_Deduplication'}, 'IMPORTS', {'id': 'Deduplication.__Main__'}, 'USES', {'id': 'Utils.Utils.Read_Tsv'}, 'IMPORTS', {'id': 'Deduplication.__Main__'}]}, {'path': [{'id': 'Utils.Utils'}, 'CLASS', {'id': 'Utils.Utils.Unionfind'}, 'USED_IN', {'id': 'Utils.Use_Cases.Collection_Deduplication'}, 'USES', {'id': 'Deduplication.__Main__'}]}, {'path': [{'id': 'Utils.Utils'}, 'CLASS', {'id': 'Utils.Utils.Unionfind'}, 'USED_IN', {'id': 'Utils.Use_Cases.Collection_Deduplication'}, 'USES', {'id': 'Deduplication.__Main__'}, 'INSTANTIATES', {'id': 'Deduplication.Dedup.Baseline'}, 'IMPORTS', {'id': 'Deduplication.__Main__'}]}, {'path': [{'id': 'Utils.Utils'}, 'CLASS', {'id': 'Utils.Utils.Unionfind'}, 'USED_IN', {'id': 'Utils.Use_Cases.Collection_Deduplication'}, 'USES', {'id': 'Deduplication.__Main__'}, 'IMPORTS', {'id': 'Utils.Use_Cases.Nearest_Neighbor_Search'}, 'USES', {'id': 'Deduplication.__Main__'}]}, {'path': [{'id': 'Utils.Utils'}, 'CLASS', {'id': 'Utils.Utils.Unionfind'}, 'USED_IN', {'id': 'Utils.Use_Cases.Collection_Deduplication'}, 'USES', {'id': 'Deduplication.__Main__'}, 'IMPORTS', {'id': 'Utils.Utils.Read_Tsv'}, 'USES', {'id': 'Deduplication.__Main__'}]}, {'path': [{'id': 'Utils.Utils'}, 'FUNCTION', {'id': 'Utils.Utils.Read_Tsv'}, 'IMPORTS', {'id': 'Deduplication.__Main__'}]}, {'path': [{'id': 'Utils.Utils'}, 'FUNCTION', {'id': 'Utils.Utils.Read_Tsv'}, 'IMPORTS', {'id': 'Deduplication.__Main__'}, 'INSTANTIATES', {'id': 'Deduplication.Dedup.Baseline'}, 'IMPORTS', {'id': 'Deduplication.__Main__'}]}, {'path': [{'id': 'Utils.Utils'}, 'FUNCTION', {'id': 'Utils.Utils.Read_Tsv'}, 'IMPORTS', {'id': 'Deduplication.__Main__'}, 'IMPORTS', {'id': 'Utils.Use_Cases.Collection_Deduplication'}, 'USES', {'id': 'Deduplication.__Main__'}]}, {'path': [{'id': 'Utils.Utils'}, 'FUNCTION', {'id': 'Utils.Utils.Read_Tsv'}, 'IMPORTS', {'id': 'Deduplication.__Main__'}, 'IMPORTS', {'id': 'Deduplication.Lshforest.Lshforest'}, 'INHERITS', {'id': 'Deduplication.Lsh.Lsh'}, 'IMPORTS', {'id': 'Deduplication.__Main__'}]}, {'path': [{'id': 'Utils.Utils'}, 'FUNCTION', {'id': 'Utils.Utils.Read_Tsv'}, 'IMPORTS', {'id': 'Deduplication.__Main__'}, 'USES', {'id': 'Deduplication.Dedup.Baseline.Collection_Deduplication'}, 'DEFINED_IN', {'id': 'Deduplication.Dedup.Baseline'}, 'IMPORTS', {'id': 'Deduplication.__Main__'}]}, {'path': [{'id': 'Utils.Utils'}, 'FUNCTION', {'id': 'Utils.Utils.Read_Tsv'}, 'USES', {'id': 'Deduplication.__Main__'}]}, {'path': [{'id': 'Utils.Utils'}, 'FUNCTION', {'id': 'Utils.Utils.Read_Tsv'}, 'USES', {'id': 'Deduplication.__Main__'}, 'INSTANTIATES', {'id': 'Deduplication.Dedup.Baseline'}, 'DEFINED_IN', {'id': 'Deduplication.Dedup.Baseline.Collection_Deduplication'}, 'USES', {'id': 'Deduplication.__Main__'}]}, {'path': [{'id': 'Utils.Utils'}, 'FUNCTION', {'id': 'Utils.Utils.Read_Tsv'}, 'USES', {'id': 'Deduplication.__Main__'}, 'IMPORTS', {'id': 'Utils.Utils.Read_Tsv'}, 'USES', {'id': 'Deduplication.__Main__'}]}, {'path': [{'id': 'Utils.Utils'}, 'FUNCTION', {'id': 'Utils.Utils.Majority_Vote'}, 'USES', {'id': 'Deduplication.Lshforest.Lshforest.Banding'}, 'DEFINES', {'id': 'Deduplication.Lshforest.Lshforest'}, 'IMPORTS', {'id': 'Deduplication.__Main__'}]}, {'path': [{'id': 'Utils.Utils'}, 'FUNCTION', {'id': 'Utils.Utils.Majority_Vote'}, 'USES', {'id': 'Deduplication.Lshforest.Lshforest.Banding'}, 'USES', {'id': 'Deduplication.__Main__.Model'}, 'DEFINED_IN', {'id': 'Deduplication.__Main__'}]}, {'path': [{'id': 'Utils.Utils'}, 'FUNCTION', {'id': 'Utils.Utils.Split_Dict'}, 'USES', {'id': 'Deduplication.Lshforest.Lshforest.Banding'}, 'DEFINED_IN', {'id': 'Deduplication.Lshforest.Lshforest'}, 'IMPORTS', {'id': 'Deduplication.__Main__'}]}, {'path': [{'id': 'Utils.Utils'}, 'FUNCTION', {'id': 'Utils.Utils.Split_Dict'}, 'USES', {'id': 'Deduplication.Lshforest.Lshforest.Banding'}, 'USES', {'id': 'Deduplication.__Main__.Model'}, 'DEFINED_IN', {'id': 'Deduplication.__Main__'}]}, {'path': [{'id': 'Utils.Utils'}, 'FUNCTION', {'id': 'Utils.Utils.Minhash'}, 'IMPORTS', {'id': 'Deduplication.Lsh'}, 'IMPORTS', {'id': 'Utils.Utils.Shingle'}, 'USED_IN', {'id': 'Utils.Use_Cases.Nearest_Neighbor_Search'}, 'IMPORTS', {'id': 'Deduplication.__Main__'}]}, {'path': [{'id': 'Utils.Utils'}, 'FUNCTION', {'id': 'Utils.Utils.Minhash'}, 'IMPORTS', {'id': 'Deduplication.Lsh'}, 'IMPORTS', {'id': 'Utils.Utils.Shingle'}, 'USED_IN', {'id': 'Utils.Use_Cases.Nearest_Neighbor_Search'}, 'USES', {'id': 'Deduplication.__Main__'}]}, {'path': [{'id': 'Utils.Utils'}, 'FUNCTION', {'id': 'Utils.Utils.Minhash'}, 'USES', {'id': 'Deduplication.Lsh.Lsh.Compute_Minhash_Signatures'}, 'USES', {'id': 'Deduplication.__Main__.Model'}, 'DEFINED_IN', {'id': 'Deduplication.__Main__'}]}, {'path': [{'id': 'Utils.Utils'}, 'FUNCTION', {'id': 'Utils.Utils.Minhash'}, 'USES', {'id': 'Deduplication.Lsh.Lsh.Compute_Minhash_Signatures'}, 'USES', {'id': 'Deduplication.Lsh.Lsh.Lsh_Client'}, 'DEFINES', {'id': 'Deduplication.Lsh.Lsh'}, 'INHERITS', {'id': 'Deduplication.Lshforest.Lshforest'}, 'IMPORTS', {'id': 'Deduplication.__Main__'}]}, {'path': [{'id': 'Utils.Utils'}, 'FUNCTION', {'id': 'Utils.Utils.Minhash'}, 'USED_IN', {'id': 'Utils.Use_Cases.Nearest_Neighbor_Search'}, 'DEFINES', {'id': 'Utils.Use_Cases'}, 'DEFINES', {'id': 'Utils.Use_Cases.Collection_Deduplication'}, 'IMPORTS', {'id': 'Deduplication.__Main__'}]}, {'path': [{'id': 'Utils.Utils'}, 'FUNCTION', {'id': 'Utils.Utils.Minhash'}, 'USED_IN', {'id': 'Deduplication.Lshimproved.Lshimproved.Compute_Minhash_Signatures'}, 'USED_IN', {'id': 'Utils.Utils.Shingle'}, 'USED_IN', {'id': 'Utils.Use_Cases.Nearest_Neighbor_Search'}, 'IMPORTS', {'id': 'Deduplication.__Main__'}]}, {'path': [{'id': 'Utils.Utils'}, 'FUNCTION', {'id': 'Utils.Utils.Minhash'}, 'USED_IN', {'id': 'Deduplication.Lshimproved.Lshimproved.Compute_Minhash_Signatures'}, 'DEFINED_IN', {'id': 'Deduplication.Lshimproved.Lshimproved'}, 'IMPORTS', {'id': 'Deduplication.__Main__'}]}]}}, 'id': 'call_vJcjxVTFQQ7L2ygR3vajV1CM', 'type': 'tool_call'}, {'name': 'generate_text_response', 'args': {'results': {'answer': 'The `Utils.Utils` module is related to the `Deduplication.__Main__` module in multiple ways:\\n\\n- The `Utils.Utils` module, specifically `Utils.Utils.Unionfind`, is used in `Utils.Use_Cases.Collection_Deduplication` and either imports or uses `Deduplication.__Main__`.\\n- The `Utils.Utils` module, through the `Read_Tsv` function, imports and/or uses the `Deduplication.__Main__` module.\\n- The `Utils.Utils` module, via the `Minhash` function, uses `Deduplication.Lsh.Lsh.Compute_Minhash_Signatures` and interacts with `Deduplication.__Main__`.\\n- The `Utils.Utils` module, specifically the `Shingle` function, is used in `Utils.Use_Cases.Nearest_Neighbor_Search` and interacts with `Deduplication.__Main__`.\\n- The `Utils.Utils` module is imported in the `Deduplication.Lshimproved` module, which in turn imports `Deduplication.__Main__`.', 'steps': ['generate_cypher', 'execute_cypher', 'generate_final_answer'], 'cypher_statement': \"MATCH path = (m1:Module {id: 'Utils.Utils'})-[*..5]-(m2:Module {id: 'Deduplication.__Main__'}) WHERE NONE(n IN nodes(path) WHERE n:Package) RETURN path\", 'cypher_results': [{'path': [{'id': 'Utils.Utils'}, 'CLASS', {'id': 'Utils.Utils.Unionfind'}, 'USED_IN', {'id': 'Utils.Use_Cases.Collection_Deduplication'}, 'DEFINES', {'id': 'Utils.Use_Cases'}, 'DEFINES', {'id': 'Utils.Use_Cases.Nearest_Neighbor_Search'}, 'IMPORTS', {'id': 'Deduplication.__Main__'}]}, {'path': [{'id': 'Utils.Utils'}, 'CLASS', {'id': 'Utils.Utils.Unionfind'}, 'USED_IN', {'id': 'Utils.Use_Cases.Collection_Deduplication'}, 'DEFINES', {'id': 'Utils.Use_Cases'}, 'DEFINES', {'id': 'Utils.Use_Cases.Nearest_Neighbor_Search'}, 'USES', {'id': 'Deduplication.__Main__'}]}, {'path': [{'id': 'Utils.Utils'}, 'CLASS', {'id': 'Utils.Utils.Unionfind'}, 'USED_IN', {'id': 'Utils.Use_Cases.Collection_Deduplication'}, 'IMPORTS', {'id': 'Deduplication.__Main__'}]}, {'path': [{'id': 'Utils.Utils'}, 'CLASS', {'id': 'Utils.Utils.Unionfind'}, 'USED_IN', {'id': 'Utils.Use_Cases.Collection_Deduplication'}, 'IMPORTS', {'id': 'Deduplication.__Main__'}, 'INSTANTIATES', {'id': 'Deduplication.Dedup.Baseline'}, 'IMPORTS', {'id': 'Deduplication.__Main__'}]}, {'path': [{'id': 'Utils.Utils'}, 'CLASS', {'id': 'Utils.Utils.Unionfind'}, 'USED_IN', {'id': 'Utils.Use_Cases.Collection_Deduplication'}, 'IMPORTS', {'id': 'Deduplication.__Main__'}, 'IMPORTS', {'id': 'Utils.Use_Cases.Nearest_Neighbor_Search'}, 'USES', {'id': 'Deduplication.__Main__'}]}, {'path': [{'id': 'Utils.Utils'}, 'CLASS', {'id': 'Utils.Utils.Unionfind'}, 'USED_IN', {'id': 'Utils.Use_Cases.Collection_Deduplication'}, 'IMPORTS', {'id': 'Deduplication.__Main__'}, 'IMPORTS', {'id': 'Utils.Utils.Read_Tsv'}, 'USES', {'id': 'Deduplication.__Main__'}]}, {'path': [{'id': 'Utils.Utils'}, 'CLASS', {'id': 'Utils.Utils.Unionfind'}, 'USED_IN', {'id': 'Utils.Use_Cases.Collection_Deduplication'}, 'IMPORTS', {'id': 'Deduplication.__Main__'}, 'IMPORTS', {'id': 'Deduplication.Dedup.Baseline'}, 'INSTANTIATES', {'id': 'Deduplication.__Main__'}]}, {'path': [{'id': 'Utils.Utils'}, 'CLASS', {'id': 'Utils.Utils.Unionfind'}, 'USED_IN', {'id': 'Utils.Use_Cases.Collection_Deduplication'}, 'IMPORTS', {'id': 'Deduplication.__Main__'}, 'USES', {'id': 'Utils.Use_Cases.Nearest_Neighbor_Search'}, 'IMPORTS', {'id': 'Deduplication.__Main__'}]}, {'path': [{'id': 'Utils.Utils'}, 'CLASS', {'id': 'Utils.Utils.Unionfind'}, 'USED_IN', {'id': 'Utils.Use_Cases.Collection_Deduplication'}, 'IMPORTS', {'id': 'Deduplication.__Main__'}, 'USES', {'id': 'Utils.Utils.Read_Tsv'}, 'IMPORTS', {'id': 'Deduplication.__Main__'}]}, {'path': [{'id': 'Utils.Utils'}, 'CLASS', {'id': 'Utils.Utils.Unionfind'}, 'USED_IN', {'id': 'Utils.Use_Cases.Collection_Deduplication'}, 'USES', {'id': 'Deduplication.__Main__'}]}, {'path': [{'id': 'Utils.Utils'}, 'CLASS', {'id': 'Utils.Utils.Unionfind'}, 'USED_IN', {'id': 'Utils.Use_Cases.Collection_Deduplication'}, 'USES', {'id': 'Deduplication.__Main__'}, 'INSTANTIATES', {'id': 'Deduplication.Dedup.Baseline'}, 'IMPORTS', {'id': 'Deduplication.__Main__'}]}, {'path': [{'id': 'Utils.Utils'}, 'CLASS', {'id': 'Utils.Utils.Unionfind'}, 'USED_IN', {'id': 'Utils.Use_Cases.Collection_Deduplication'}, 'USES', {'id': 'Deduplication.__Main__'}, 'IMPORTS', {'id': 'Utils.Use_Cases.Nearest_Neighbor_Search'}, 'USES', {'id': 'Deduplication.__Main__'}]}, {'path': [{'id': 'Utils.Utils'}, 'CLASS', {'id': 'Utils.Utils.Unionfind'}, 'USED_IN', {'id': 'Utils.Use_Cases.Collection_Deduplication'}, 'USES', {'id': 'Deduplication.__Main__'}, 'IMPORTS', {'id': 'Utils.Utils.Read_Tsv'}, 'USES', {'id': 'Deduplication.__Main__'}]}, {'path': [{'id': 'Utils.Utils'}, 'FUNCTION', {'id': 'Utils.Utils.Read_Tsv'}, 'IMPORTS', {'id': 'Deduplication.__Main__'}]}, {'path': [{'id': 'Utils.Utils'}, 'FUNCTION', {'id': 'Utils.Utils.Read_Tsv'}, 'IMPORTS', {'id': 'Deduplication.__Main__'}, 'INSTANTIATES', {'id': 'Deduplication.Dedup.Baseline'}, 'IMPORTS', {'id': 'Deduplication.__Main__'}]}, {'path': [{'id': 'Utils.Utils'}, 'FUNCTION', {'id': 'Utils.Utils.Read_Tsv'}, 'IMPORTS', {'id': 'Deduplication.__Main__'}, 'IMPORTS', {'id': 'Utils.Use_Cases.Collection_Deduplication'}, 'USES', {'id': 'Deduplication.__Main__'}]}, {'path': [{'id': 'Utils.Utils'}, 'FUNCTION', {'id': 'Utils.Utils.Read_Tsv'}, 'IMPORTS', {'id': 'Deduplication.__Main__'}, 'IMPORTS', {'id': 'Deduplication.Lshforest.Lshforest'}, 'INHERITS', {'id': 'Deduplication.Lsh.Lsh'}, 'IMPORTS', {'id': 'Deduplication.__Main__'}]}, {'path': [{'id': 'Utils.Utils'}, 'FUNCTION', {'id': 'Utils.Utils.Read_Tsv'}, 'IMPORTS', {'id': 'Deduplication.__Main__'}, 'USES', {'id': 'Deduplication.Dedup.Baseline.Collection_Deduplication'}, 'DEFINED_IN', {'id': 'Deduplication.Dedup.Baseline'}, 'IMPORTS', {'id': 'Deduplication.__Main__'}]}, {'path': [{'id': 'Utils.Utils'}, 'FUNCTION', {'id': 'Utils.Utils.Read_Tsv'}, 'USES', {'id': 'Deduplication.__Main__'}]}, {'path': [{'id': 'Utils.Utils'}, 'FUNCTION', {'id': 'Utils.Utils.Read_Tsv'}, 'USES', {'id': 'Deduplication.__Main__'}, 'INSTANTIATES', {'id': 'Deduplication.Dedup.Baseline'}, 'DEFINED_IN', {'id': 'Deduplication.Dedup.Baseline.Collection_Deduplication'}, 'USES', {'id': 'Deduplication.__Main__'}]}, {'path': [{'id': 'Utils.Utils'}, 'FUNCTION', {'id': 'Utils.Utils.Read_Tsv'}, 'USES', {'id': 'Deduplication.__Main__'}, 'IMPORTS', {'id': 'Utils.Utils.Read_Tsv'}, 'USES', {'id': 'Deduplication.__Main__'}]}, {'path': [{'id': 'Utils.Utils'}, 'FUNCTION', {'id': 'Utils.Utils.Majority_Vote'}, 'USES', {'id': 'Deduplication.Lshforest.Lshforest.Banding'}, 'DEFINES', {'id': 'Deduplication.Lshforest.Lshforest'}, 'IMPORTS', {'id': 'Deduplication.__Main__'}]}, {'path': [{'id': 'Utils.Utils'}, 'FUNCTION', {'id': 'Utils.Utils.Majority_Vote'}, 'USES', {'id': 'Deduplication.Lshforest.Lshforest.Banding'}, 'USES', {'id': 'Deduplication.__Main__.Model'}, 'DEFINED_IN', {'id': 'Deduplication.__Main__'}]}, {'path': [{'id': 'Utils.Utils'}, 'FUNCTION', {'id': 'Utils.Utils.Split_Dict'}, 'USES', {'id': 'Deduplication.Lshforest.Lshforest.Banding'}, 'DEFINED_IN', {'id': 'Deduplication.Lshforest.Lshforest'}, 'IMPORTS', {'id': 'Deduplication.__Main__'}]}, {'path': [{'id': 'Utils.Utils'}, 'FUNCTION', {'id': 'Utils.Utils.Split_Dict'}, 'USES', {'id': 'Deduplication.Lshforest.Lshforest.Banding'}, 'USES', {'id': 'Deduplication.__Main__.Model'}, 'DEFINED_IN', {'id': 'Deduplication.__Main__'}]}, {'path': [{'id': 'Utils.Utils'}, 'FUNCTION', {'id': 'Utils.Utils.Minhash'}, 'IMPORTS', {'id': 'Deduplication.Lsh'}, 'IMPORTS', {'id': 'Utils.Utils.Shingle'}, 'USED_IN', {'id': 'Utils.Use_Cases.Nearest_Neighbor_Search'}, 'IMPORTS', {'id': 'Deduplication.__Main__'}]}, {'path': [{'id': 'Utils.Utils'}, 'FUNCTION', {'id': 'Utils.Utils.Minhash'}, 'IMPORTS', {'id': 'Deduplication.Lsh'}, 'IMPORTS', {'id': 'Utils.Utils.Shingle'}, 'USED_IN', {'id': 'Utils.Use_Cases.Nearest_Neighbor_Search'}, 'USES', {'id': 'Deduplication.__Main__'}]}, {'path': [{'id': 'Utils.Utils'}, 'FUNCTION', {'id': 'Utils.Utils.Minhash'}, 'USES', {'id': 'Deduplication.Lsh.Lsh.Compute_Minhash_Signatures'}, 'USES', {'id': 'Deduplication.__Main__.Model'}, 'DEFINED_IN', {'id': 'Deduplication.__Main__'}]}, {'path': [{'id': 'Utils.Utils'}, 'FUNCTION', {'id': 'Utils.Utils.Minhash'}, 'USES', {'id': 'Deduplication.Lsh.Lsh.Compute_Minhash_Signatures'}, 'USES', {'id': 'Deduplication.Lsh.Lsh.Lsh_Client'}, 'DEFINES', {'id': 'Deduplication.Lsh.Lsh'}, 'INHERITS', {'id': 'Deduplication.Lshforest.Lshforest'}, 'IMPORTS', {'id': 'Deduplication.__Main__'}]}, {'path': [{'id': 'Utils.Utils'}, 'FUNCTION', {'id': 'Utils.Utils.Minhash'}, 'USED_IN', {'id': 'Utils.Use_Cases.Nearest_Neighbor_Search'}, 'DEFINES', {'id': 'Utils.Use_Cases'}, 'DEFINES', {'id': 'Utils.Use_Cases.Collection_Deduplication'}, 'IMPORTS', {'id': 'Deduplication.__Main__'}]}, {'path': [{'id': 'Utils.Utils'}, 'FUNCTION', {'id': 'Utils.Utils.Minhash'}, 'USED_IN', {'id': 'Deduplication.Lshimproved.Lshimproved.Compute_Minhash_Signatures'}, 'USED_IN', {'id': 'Utils.Utils.Shingle'}, 'USED_IN', {'id': 'Utils.Use_Cases.Nearest_Neighbor_Search'}, 'IMPORTS', {'id': 'Deduplication.__Main__'}]}, {'path': [{'id': 'Utils.Utils'}, 'FUNCTION', {'id': 'Utils.Utils.Minhash'}, 'USED_IN', {'id': 'Deduplication.Lshimproved.Lshimproved.Compute_Minhash_Signatures'}, 'DEFINED_IN', {'id': 'Deduplication.Lshimproved.Lshimproved'}, 'IMPORTS', {'id': 'Deduplication.__Main__'}]}]}}, 'id': 'call_i2L6ohN673BPGEOnIuTDnJud', 'type': 'tool_call'}], usage_metadata={'input_tokens': 15170, 'output_tokens': 5493, 'total_tokens': 20663, 'input_token_details': {'audio': 0, 'cache_read': 0}, 'output_token_details': {'audio': 0, 'reasoning': 0}}),\n",
       "  ToolMessage(content='{\"nodes\": 22, \"edges\": 44, \"node_types\": [\"Utils\", \"Deduplication\"], \"relationship_types\": [\"INSTANTIATES\", \"USED_IN\", \"DEFINES\", \"INHERITS\", \"IMPORTS\", \"CLASS\", \"USES\", \"DEFINED_IN\", \"FUNCTION\"]}', name='visualize_relationships', id='877b173f-b6d5-4f39-9cf1-9aa4b0022010', tool_call_id='call_vJcjxVTFQQ7L2ygR3vajV1CM'),\n",
       "  ToolMessage(content='Based on the provided sentence and context, I can expand the information to make it more informative and useful:\\n\\nThe `Utils.Utils` module is a critical component in the deduplication process, interacting with the `Deduplication.__Main__` module in multiple significant ways:\\n\\n1. UnionFind for Document Clustering:\\n   The `Utils.Utils.Unionfind` class, implemented in `Utils.Utils`, is utilized in `Utils.Use_Cases.Collection_Deduplication` for efficiently grouping similar documents. This class employs a Union-Find data structure with path compression, which is crucial for clustering documents based on the candidate pairs identified by the LSH (Locality Sensitive Hashing) process in `Deduplication.__Main__`.\\n\\n2. Data Input Processing:\\n   The `Read_Tsv` function from `Utils.Utils` is essential for importing document data. It reads tab-separated values (TSV) files and converts them into a dictionary format, which is then used by `Deduplication.__Main__` for further processing. This function is likely called at the beginning of the deduplication pipeline to load the initial dataset.\\n\\n3. MinHash Signature Generation:\\n   The `Minhash` function in `Utils.Utils` interacts with `Deduplication.Lsh.Lsh.Compute_Minhash_Signatures`. It creates MinHash signatures for sets of shingles, which are crucial for efficient similarity estimation in the LSH process. This function is probably used within the `compute_minhash_signatures` method of the LSH class, which is called from `Deduplication.__Main__`.\\n\\n4. Document Preprocessing:\\n   The `Shingle` function from `Utils.Utils`, used in `Utils.Use_Cases.Nearest_Neighbor_Search`, is responsible for generating k-shingles (contiguous sequences of k words) from given texts. This preprocessing step is vital for both the deduplication and nearest neighbor search processes initiated in `Deduplication.__Main__`.\\n\\n5. Module Integration:\\n   The `Utils.Utils` module is imported by `Deduplication.Lshimproved`, which in turn imports `Deduplication.__Main__`. This integration suggests that the utility functions are used throughout the improved LSH implementation, enhancing the overall deduplication process.\\n\\nAdditionally, the `Utils.Utils` module provides several helper functions like `clean_document` for text normalization and `split_dict` for data manipulation, which are likely used at various stages of the deduplication process controlled by `Deduplication.__Main__`. The module also implements a majority voting system with the `majority_vote` function, which could be used for consensus-based decision making in the deduplication algorithm.\\n\\nOverall, the `Utils.Utils` module serves as a foundational toolkit, providing essential functions and data structures that enable the core deduplication and similarity analysis functionalities implemented in `Deduplication.__Main__` and related modules.', name='generate_text_response', id='b7bdc4c0-c7e9-46a3-af94-0ed4f24b77fa', tool_call_id='call_i2L6ohN673BPGEOnIuTDnJud'),\n",
       "  AIMessage(content=\"The `Utils.Utils` module is intricately related to the `Deduplication.__Main__` module, serving as a foundational toolkit with multiple significant interactions:\\n\\n1. **UnionFind for Document Clustering**:\\n   - The `Utils.Utils.Unionfind` class is crucial for clustering documents based on candidate pairs identified by LSH processes in `Deduplication.__Main__`. It is used within `Utils.Use_Cases.Collection_Deduplication`.\\n\\n2. **Data Input Processing**:\\n   - The `Read_Tsv` function from `Utils.Utils` reads TSV files and converts them into a format usable by `Deduplication.__Main__`, typically at the pipeline's start.\\n\\n3. **MinHash Signature Generation**:\\n   - The `Minhash` function forms MinHash signatures crucial for similarity estimation, interacting with `Deduplication.Lsh.Lsh.Compute_Minhash_Signatures`, likely within the `compute_minhash_signatures` method invoked by `Deduplication.__Main__`.\\n\\n4. **Document Preprocessing**:\\n   - The `Shingle` function generates k-shingles, vital for deduplication and nearest neighbor search processes in `Deduplication.__Main__`, and is used in `Utils.Use_Cases.Nearest_Neighbor_Search`.\\n\\n5. **Module Integration**:\\n   - The `Utils.Utils` module is imported by `Deduplication.Lshimproved`, which further imports `Deduplication.__Main__`, enhancing integration in improved LSH implementations.\\n\\nThe `Utils.Utils` module also includes helper functions like `clean_document` and `split_dict` for text normalization and data manipulation, respectively. These are likely utilized throughout the deduplication process managed by `Deduplication.__Main__`. Additionally, the `majority_vote` function in `Utils.Utils` may facilitate consensus-based decisions in the deduplication algorithms.\\n\\n### Visualization Summary\\nThe visualization of the relationship between these modules includes 22 unique nodes and 44 edges, highlighting relationships such as `IMPORTS`, `USES`, and `DEFINES`, which illustrate the interplay and dependencies between the `Utils.Utils` and `Deduplication.__Main__` modules.\\n\\nIf you need to see the visualization in detail, please let me know!\", additional_kwargs={'refusal': None}, response_metadata={'token_usage': {'completion_tokens': 461, 'prompt_tokens': 21351, 'total_tokens': 21812, 'completion_tokens_details': {'accepted_prediction_tokens': 0, 'audio_tokens': 0, 'reasoning_tokens': 0, 'rejected_prediction_tokens': 0}, 'prompt_tokens_details': {'audio_tokens': 0, 'cached_tokens': 17792}}, 'model_name': 'gpt-4o-2024-08-06', 'system_fingerprint': 'fp_85bc8e3fae', 'finish_reason': 'stop', 'logprobs': None}, id='run-4d56fb54-9b58-4d11-b9ab-cff9a5715e9e-0', usage_metadata={'input_tokens': 21351, 'output_tokens': 461, 'total_tokens': 21812, 'input_token_details': {'audio': 0, 'cache_read': 17792}, 'output_token_details': {'audio': 0, 'reasoning': 0}})]}"
      ]
     },
     "execution_count": 4,
     "metadata": {},
     "output_type": "execute_result"
    }
   ],
   "source": [
    "answer"
   ]
  },
  {
   "cell_type": "code",
   "execution_count": 6,
   "id": "63cc8250",
   "metadata": {},
   "outputs": [
    {
     "ename": "NotFoundError",
     "evalue": "Error code: 404 - {'error': {'message': 'The model `claude-3-5-sonnet-20240620` does not exist or you do not have access to it.', 'type': 'invalid_request_error', 'param': None, 'code': 'model_not_found'}}",
     "output_type": "error",
     "traceback": [
      "\u001b[31m---------------------------------------------------------------------------\u001b[39m",
      "\u001b[31mNotFoundError\u001b[39m                             Traceback (most recent call last)",
      "\u001b[36mCell\u001b[39m\u001b[36m \u001b[39m\u001b[32mIn[6]\u001b[39m\u001b[32m, line 1\u001b[39m\n\u001b[32m----> \u001b[39m\u001b[32m1\u001b[39m \u001b[43mquery_engine\u001b[49m\u001b[43m.\u001b[49m\u001b[43mquery\u001b[49m\u001b[43m(\u001b[49m\u001b[33;43m'\u001b[39;49m\u001b[33;43mutils\u001b[39;49m\u001b[33;43m'\u001b[39;49m\u001b[43m)\u001b[49m\n",
      "\u001b[36mFile \u001b[39m\u001b[32mc:\\Users\\JaeHoBahng\\Desktop\\Georgetown\\2025_Spring\\DSAN_6725\\project\\spring-2025-final-project-project-group-2\\src\\tools\\micro_text_answer.py:219\u001b[39m, in \u001b[36mRAGQueryEngine.query\u001b[39m\u001b[34m(self, question)\u001b[39m\n\u001b[32m    216\u001b[39m \u001b[38;5;28;01mif\u001b[39;00m \u001b[38;5;129;01mnot\u001b[39;00m \u001b[38;5;28mself\u001b[39m.graph:\n\u001b[32m    217\u001b[39m     \u001b[38;5;28mself\u001b[39m.build_graph()\n\u001b[32m--> \u001b[39m\u001b[32m219\u001b[39m result = \u001b[38;5;28;43mself\u001b[39;49m\u001b[43m.\u001b[49m\u001b[43mgraph\u001b[49m\u001b[43m.\u001b[49m\u001b[43minvoke\u001b[49m\u001b[43m(\u001b[49m\u001b[43m{\u001b[49m\u001b[33;43m\"\u001b[39;49m\u001b[33;43mquestion\u001b[39;49m\u001b[33;43m\"\u001b[39;49m\u001b[43m:\u001b[49m\u001b[43m \u001b[49m\u001b[43mquestion\u001b[49m\u001b[43m}\u001b[49m\u001b[43m)\u001b[49m\n\u001b[32m    220\u001b[39m \u001b[38;5;28;01mreturn\u001b[39;00m result[\u001b[33m\"\u001b[39m\u001b[33manswer\u001b[39m\u001b[33m\"\u001b[39m]\n",
      "\u001b[36mFile \u001b[39m\u001b[32mc:\\Users\\JaeHoBahng\\Desktop\\Georgetown\\2025_Spring\\DSAN_6725\\project\\spring-2025-final-project-project-group-2\\.venv\\Lib\\site-packages\\langgraph\\pregel\\__init__.py:2714\u001b[39m, in \u001b[36mPregel.invoke\u001b[39m\u001b[34m(self, input, config, stream_mode, output_keys, interrupt_before, interrupt_after, checkpoint_during, debug, **kwargs)\u001b[39m\n\u001b[32m   2712\u001b[39m \u001b[38;5;28;01melse\u001b[39;00m:\n\u001b[32m   2713\u001b[39m     chunks = []\n\u001b[32m-> \u001b[39m\u001b[32m2714\u001b[39m \u001b[43m\u001b[49m\u001b[38;5;28;43;01mfor\u001b[39;49;00m\u001b[43m \u001b[49m\u001b[43mchunk\u001b[49m\u001b[43m \u001b[49m\u001b[38;5;129;43;01min\u001b[39;49;00m\u001b[43m \u001b[49m\u001b[38;5;28;43mself\u001b[39;49m\u001b[43m.\u001b[49m\u001b[43mstream\u001b[49m\u001b[43m(\u001b[49m\n\u001b[32m   2715\u001b[39m \u001b[43m    \u001b[49m\u001b[38;5;28;43minput\u001b[39;49m\u001b[43m,\u001b[49m\n\u001b[32m   2716\u001b[39m \u001b[43m    \u001b[49m\u001b[43mconfig\u001b[49m\u001b[43m,\u001b[49m\n\u001b[32m   2717\u001b[39m \u001b[43m    \u001b[49m\u001b[43mstream_mode\u001b[49m\u001b[43m=\u001b[49m\u001b[43mstream_mode\u001b[49m\u001b[43m,\u001b[49m\n\u001b[32m   2718\u001b[39m \u001b[43m    \u001b[49m\u001b[43moutput_keys\u001b[49m\u001b[43m=\u001b[49m\u001b[43moutput_keys\u001b[49m\u001b[43m,\u001b[49m\n\u001b[32m   2719\u001b[39m \u001b[43m    \u001b[49m\u001b[43minterrupt_before\u001b[49m\u001b[43m=\u001b[49m\u001b[43minterrupt_before\u001b[49m\u001b[43m,\u001b[49m\n\u001b[32m   2720\u001b[39m \u001b[43m    \u001b[49m\u001b[43minterrupt_after\u001b[49m\u001b[43m=\u001b[49m\u001b[43minterrupt_after\u001b[49m\u001b[43m,\u001b[49m\n\u001b[32m   2721\u001b[39m \u001b[43m    \u001b[49m\u001b[43mcheckpoint_during\u001b[49m\u001b[43m=\u001b[49m\u001b[43mcheckpoint_during\u001b[49m\u001b[43m,\u001b[49m\n\u001b[32m   2722\u001b[39m \u001b[43m    \u001b[49m\u001b[43mdebug\u001b[49m\u001b[43m=\u001b[49m\u001b[43mdebug\u001b[49m\u001b[43m,\u001b[49m\n\u001b[32m   2723\u001b[39m \u001b[43m    \u001b[49m\u001b[43m*\u001b[49m\u001b[43m*\u001b[49m\u001b[43mkwargs\u001b[49m\u001b[43m,\u001b[49m\n\u001b[32m   2724\u001b[39m \u001b[43m\u001b[49m\u001b[43m)\u001b[49m\u001b[43m:\u001b[49m\n\u001b[32m   2725\u001b[39m \u001b[43m    \u001b[49m\u001b[38;5;28;43;01mif\u001b[39;49;00m\u001b[43m \u001b[49m\u001b[43mstream_mode\u001b[49m\u001b[43m \u001b[49m\u001b[43m==\u001b[49m\u001b[43m \u001b[49m\u001b[33;43m\"\u001b[39;49m\u001b[33;43mvalues\u001b[39;49m\u001b[33;43m\"\u001b[39;49m\u001b[43m:\u001b[49m\n\u001b[32m   2726\u001b[39m \u001b[43m        \u001b[49m\u001b[43mlatest\u001b[49m\u001b[43m \u001b[49m\u001b[43m=\u001b[49m\u001b[43m \u001b[49m\u001b[43mchunk\u001b[49m\n",
      "\u001b[36mFile \u001b[39m\u001b[32mc:\\Users\\JaeHoBahng\\Desktop\\Georgetown\\2025_Spring\\DSAN_6725\\project\\spring-2025-final-project-project-group-2\\.venv\\Lib\\site-packages\\langgraph\\pregel\\__init__.py:2353\u001b[39m, in \u001b[36mPregel.stream\u001b[39m\u001b[34m(self, input, config, stream_mode, output_keys, interrupt_before, interrupt_after, checkpoint_during, debug, subgraphs)\u001b[39m\n\u001b[32m   2347\u001b[39m     \u001b[38;5;66;03m# Similarly to Bulk Synchronous Parallel / Pregel model\u001b[39;00m\n\u001b[32m   2348\u001b[39m     \u001b[38;5;66;03m# computation proceeds in steps, while there are channel updates.\u001b[39;00m\n\u001b[32m   2349\u001b[39m     \u001b[38;5;66;03m# Channel updates from step N are only visible in step N+1\u001b[39;00m\n\u001b[32m   2350\u001b[39m     \u001b[38;5;66;03m# channels are guaranteed to be immutable for the duration of the step,\u001b[39;00m\n\u001b[32m   2351\u001b[39m     \u001b[38;5;66;03m# with channel updates applied only at the transition between steps.\u001b[39;00m\n\u001b[32m   2352\u001b[39m     \u001b[38;5;28;01mwhile\u001b[39;00m loop.tick(input_keys=\u001b[38;5;28mself\u001b[39m.input_channels):\n\u001b[32m-> \u001b[39m\u001b[32m2353\u001b[39m \u001b[43m        \u001b[49m\u001b[38;5;28;43;01mfor\u001b[39;49;00m\u001b[43m \u001b[49m\u001b[43m_\u001b[49m\u001b[43m \u001b[49m\u001b[38;5;129;43;01min\u001b[39;49;00m\u001b[43m \u001b[49m\u001b[43mrunner\u001b[49m\u001b[43m.\u001b[49m\u001b[43mtick\u001b[49m\u001b[43m(\u001b[49m\n\u001b[32m   2354\u001b[39m \u001b[43m            \u001b[49m\u001b[43mloop\u001b[49m\u001b[43m.\u001b[49m\u001b[43mtasks\u001b[49m\u001b[43m.\u001b[49m\u001b[43mvalues\u001b[49m\u001b[43m(\u001b[49m\u001b[43m)\u001b[49m\u001b[43m,\u001b[49m\n\u001b[32m   2355\u001b[39m \u001b[43m            \u001b[49m\u001b[43mtimeout\u001b[49m\u001b[43m=\u001b[49m\u001b[38;5;28;43mself\u001b[39;49m\u001b[43m.\u001b[49m\u001b[43mstep_timeout\u001b[49m\u001b[43m,\u001b[49m\n\u001b[32m   2356\u001b[39m \u001b[43m            \u001b[49m\u001b[43mretry_policy\u001b[49m\u001b[43m=\u001b[49m\u001b[38;5;28;43mself\u001b[39;49m\u001b[43m.\u001b[49m\u001b[43mretry_policy\u001b[49m\u001b[43m,\u001b[49m\n\u001b[32m   2357\u001b[39m \u001b[43m            \u001b[49m\u001b[43mget_waiter\u001b[49m\u001b[43m=\u001b[49m\u001b[43mget_waiter\u001b[49m\u001b[43m,\u001b[49m\n\u001b[32m   2358\u001b[39m \u001b[43m        \u001b[49m\u001b[43m)\u001b[49m\u001b[43m:\u001b[49m\n\u001b[32m   2359\u001b[39m \u001b[43m            \u001b[49m\u001b[38;5;66;43;03m# emit output\u001b[39;49;00m\n\u001b[32m   2360\u001b[39m \u001b[43m            \u001b[49m\u001b[38;5;28;43;01myield from\u001b[39;49;00m\u001b[43m \u001b[49m\u001b[43moutput\u001b[49m\u001b[43m(\u001b[49m\u001b[43m)\u001b[49m\n\u001b[32m   2361\u001b[39m \u001b[38;5;66;03m# emit output\u001b[39;00m\n",
      "\u001b[36mFile \u001b[39m\u001b[32mc:\\Users\\JaeHoBahng\\Desktop\\Georgetown\\2025_Spring\\DSAN_6725\\project\\spring-2025-final-project-project-group-2\\.venv\\Lib\\site-packages\\langgraph\\pregel\\runner.py:158\u001b[39m, in \u001b[36mPregelRunner.tick\u001b[39m\u001b[34m(self, tasks, reraise, timeout, retry_policy, get_waiter)\u001b[39m\n\u001b[32m    156\u001b[39m t = tasks[\u001b[32m0\u001b[39m]\n\u001b[32m    157\u001b[39m \u001b[38;5;28;01mtry\u001b[39;00m:\n\u001b[32m--> \u001b[39m\u001b[32m158\u001b[39m     \u001b[43mrun_with_retry\u001b[49m\u001b[43m(\u001b[49m\n\u001b[32m    159\u001b[39m \u001b[43m        \u001b[49m\u001b[43mt\u001b[49m\u001b[43m,\u001b[49m\n\u001b[32m    160\u001b[39m \u001b[43m        \u001b[49m\u001b[43mretry_policy\u001b[49m\u001b[43m,\u001b[49m\n\u001b[32m    161\u001b[39m \u001b[43m        \u001b[49m\u001b[43mconfigurable\u001b[49m\u001b[43m=\u001b[49m\u001b[43m{\u001b[49m\n\u001b[32m    162\u001b[39m \u001b[43m            \u001b[49m\u001b[43mCONFIG_KEY_CALL\u001b[49m\u001b[43m:\u001b[49m\u001b[43m \u001b[49m\u001b[43mpartial\u001b[49m\u001b[43m(\u001b[49m\n\u001b[32m    163\u001b[39m \u001b[43m                \u001b[49m\u001b[43m_call\u001b[49m\u001b[43m,\u001b[49m\n\u001b[32m    164\u001b[39m \u001b[43m                \u001b[49m\u001b[43mweakref\u001b[49m\u001b[43m.\u001b[49m\u001b[43mref\u001b[49m\u001b[43m(\u001b[49m\u001b[43mt\u001b[49m\u001b[43m)\u001b[49m\u001b[43m,\u001b[49m\n\u001b[32m    165\u001b[39m \u001b[43m                \u001b[49m\u001b[43mretry\u001b[49m\u001b[43m=\u001b[49m\u001b[43mretry_policy\u001b[49m\u001b[43m,\u001b[49m\n\u001b[32m    166\u001b[39m \u001b[43m                \u001b[49m\u001b[43mfutures\u001b[49m\u001b[43m=\u001b[49m\u001b[43mweakref\u001b[49m\u001b[43m.\u001b[49m\u001b[43mref\u001b[49m\u001b[43m(\u001b[49m\u001b[43mfutures\u001b[49m\u001b[43m)\u001b[49m\u001b[43m,\u001b[49m\n\u001b[32m    167\u001b[39m \u001b[43m                \u001b[49m\u001b[43mschedule_task\u001b[49m\u001b[43m=\u001b[49m\u001b[38;5;28;43mself\u001b[39;49m\u001b[43m.\u001b[49m\u001b[43mschedule_task\u001b[49m\u001b[43m,\u001b[49m\n\u001b[32m    168\u001b[39m \u001b[43m                \u001b[49m\u001b[43msubmit\u001b[49m\u001b[43m=\u001b[49m\u001b[38;5;28;43mself\u001b[39;49m\u001b[43m.\u001b[49m\u001b[43msubmit\u001b[49m\u001b[43m,\u001b[49m\n\u001b[32m    169\u001b[39m \u001b[43m                \u001b[49m\u001b[43mreraise\u001b[49m\u001b[43m=\u001b[49m\u001b[43mreraise\u001b[49m\u001b[43m,\u001b[49m\n\u001b[32m    170\u001b[39m \u001b[43m            \u001b[49m\u001b[43m)\u001b[49m\u001b[43m,\u001b[49m\n\u001b[32m    171\u001b[39m \u001b[43m        \u001b[49m\u001b[43m}\u001b[49m\u001b[43m,\u001b[49m\n\u001b[32m    172\u001b[39m \u001b[43m    \u001b[49m\u001b[43m)\u001b[49m\n\u001b[32m    173\u001b[39m     \u001b[38;5;28mself\u001b[39m.commit(t, \u001b[38;5;28;01mNone\u001b[39;00m)\n\u001b[32m    174\u001b[39m \u001b[38;5;28;01mexcept\u001b[39;00m \u001b[38;5;167;01mException\u001b[39;00m \u001b[38;5;28;01mas\u001b[39;00m exc:\n",
      "\u001b[36mFile \u001b[39m\u001b[32mc:\\Users\\JaeHoBahng\\Desktop\\Georgetown\\2025_Spring\\DSAN_6725\\project\\spring-2025-final-project-project-group-2\\.venv\\Lib\\site-packages\\langgraph\\pregel\\retry.py:40\u001b[39m, in \u001b[36mrun_with_retry\u001b[39m\u001b[34m(task, retry_policy, configurable)\u001b[39m\n\u001b[32m     38\u001b[39m     task.writes.clear()\n\u001b[32m     39\u001b[39m     \u001b[38;5;66;03m# run the task\u001b[39;00m\n\u001b[32m---> \u001b[39m\u001b[32m40\u001b[39m     \u001b[38;5;28;01mreturn\u001b[39;00m \u001b[43mtask\u001b[49m\u001b[43m.\u001b[49m\u001b[43mproc\u001b[49m\u001b[43m.\u001b[49m\u001b[43minvoke\u001b[49m\u001b[43m(\u001b[49m\u001b[43mtask\u001b[49m\u001b[43m.\u001b[49m\u001b[43minput\u001b[49m\u001b[43m,\u001b[49m\u001b[43m \u001b[49m\u001b[43mconfig\u001b[49m\u001b[43m)\u001b[49m\n\u001b[32m     41\u001b[39m \u001b[38;5;28;01mexcept\u001b[39;00m ParentCommand \u001b[38;5;28;01mas\u001b[39;00m exc:\n\u001b[32m     42\u001b[39m     ns: \u001b[38;5;28mstr\u001b[39m = config[CONF][CONFIG_KEY_CHECKPOINT_NS]\n",
      "\u001b[36mFile \u001b[39m\u001b[32mc:\\Users\\JaeHoBahng\\Desktop\\Georgetown\\2025_Spring\\DSAN_6725\\project\\spring-2025-final-project-project-group-2\\.venv\\Lib\\site-packages\\langgraph\\utils\\runnable.py:610\u001b[39m, in \u001b[36mRunnableSeq.invoke\u001b[39m\u001b[34m(self, input, config, **kwargs)\u001b[39m\n\u001b[32m    606\u001b[39m config = patch_config(\n\u001b[32m    607\u001b[39m     config, callbacks=run_manager.get_child(\u001b[33mf\u001b[39m\u001b[33m\"\u001b[39m\u001b[33mseq:step:\u001b[39m\u001b[38;5;132;01m{\u001b[39;00mi\u001b[38;5;250m \u001b[39m+\u001b[38;5;250m \u001b[39m\u001b[32m1\u001b[39m\u001b[38;5;132;01m}\u001b[39;00m\u001b[33m\"\u001b[39m)\n\u001b[32m    608\u001b[39m )\n\u001b[32m    609\u001b[39m \u001b[38;5;28;01mif\u001b[39;00m i == \u001b[32m0\u001b[39m:\n\u001b[32m--> \u001b[39m\u001b[32m610\u001b[39m     \u001b[38;5;28minput\u001b[39m = \u001b[43mstep\u001b[49m\u001b[43m.\u001b[49m\u001b[43minvoke\u001b[49m\u001b[43m(\u001b[49m\u001b[38;5;28;43minput\u001b[39;49m\u001b[43m,\u001b[49m\u001b[43m \u001b[49m\u001b[43mconfig\u001b[49m\u001b[43m,\u001b[49m\u001b[43m \u001b[49m\u001b[43m*\u001b[49m\u001b[43m*\u001b[49m\u001b[43mkwargs\u001b[49m\u001b[43m)\u001b[49m\n\u001b[32m    611\u001b[39m \u001b[38;5;28;01melse\u001b[39;00m:\n\u001b[32m    612\u001b[39m     \u001b[38;5;28minput\u001b[39m = step.invoke(\u001b[38;5;28minput\u001b[39m, config)\n",
      "\u001b[36mFile \u001b[39m\u001b[32mc:\\Users\\JaeHoBahng\\Desktop\\Georgetown\\2025_Spring\\DSAN_6725\\project\\spring-2025-final-project-project-group-2\\.venv\\Lib\\site-packages\\langgraph\\utils\\runnable.py:375\u001b[39m, in \u001b[36mRunnableCallable.invoke\u001b[39m\u001b[34m(self, input, config, **kwargs)\u001b[39m\n\u001b[32m    373\u001b[39m \u001b[38;5;28;01melse\u001b[39;00m:\n\u001b[32m    374\u001b[39m     \u001b[38;5;28;01mwith\u001b[39;00m set_config_context(config) \u001b[38;5;28;01mas\u001b[39;00m context:\n\u001b[32m--> \u001b[39m\u001b[32m375\u001b[39m         ret = \u001b[43mcontext\u001b[49m\u001b[43m.\u001b[49m\u001b[43mrun\u001b[49m\u001b[43m(\u001b[49m\u001b[38;5;28;43mself\u001b[39;49m\u001b[43m.\u001b[49m\u001b[43mfunc\u001b[49m\u001b[43m,\u001b[49m\u001b[43m \u001b[49m\u001b[43m*\u001b[49m\u001b[43margs\u001b[49m\u001b[43m,\u001b[49m\u001b[43m \u001b[49m\u001b[43m*\u001b[49m\u001b[43m*\u001b[49m\u001b[43mkwargs\u001b[49m\u001b[43m)\u001b[49m\n\u001b[32m    376\u001b[39m \u001b[38;5;28;01mif\u001b[39;00m \u001b[38;5;28misinstance\u001b[39m(ret, Runnable) \u001b[38;5;129;01mand\u001b[39;00m \u001b[38;5;28mself\u001b[39m.recurse:\n\u001b[32m    377\u001b[39m     \u001b[38;5;28;01mreturn\u001b[39;00m ret.invoke(\u001b[38;5;28minput\u001b[39m, config)\n",
      "\u001b[36mFile \u001b[39m\u001b[32mc:\\Users\\JaeHoBahng\\Desktop\\Georgetown\\2025_Spring\\DSAN_6725\\project\\spring-2025-final-project-project-group-2\\src\\tools\\micro_text_answer.py:203\u001b[39m, in \u001b[36mRAGQueryEngine._generate\u001b[39m\u001b[34m(self, state)\u001b[39m\n\u001b[32m    201\u001b[39m docs_content = \u001b[33m\"\u001b[39m\u001b[38;5;130;01m\\n\u001b[39;00m\u001b[38;5;130;01m\\n\u001b[39;00m\u001b[33m\"\u001b[39m.join(doc.page_content \u001b[38;5;28;01mfor\u001b[39;00m doc \u001b[38;5;129;01min\u001b[39;00m state[\u001b[33m\"\u001b[39m\u001b[33mcontext\u001b[39m\u001b[33m\"\u001b[39m])\n\u001b[32m    202\u001b[39m messages = \u001b[38;5;28mself\u001b[39m.rag_prompt.invoke({\u001b[33m\"\u001b[39m\u001b[33mquestion\u001b[39m\u001b[33m\"\u001b[39m: state[\u001b[33m\"\u001b[39m\u001b[33mquestion\u001b[39m\u001b[33m\"\u001b[39m], \u001b[33m\"\u001b[39m\u001b[33mcontext\u001b[39m\u001b[33m\"\u001b[39m: docs_content})\n\u001b[32m--> \u001b[39m\u001b[32m203\u001b[39m response = \u001b[38;5;28;43mself\u001b[39;49m\u001b[43m.\u001b[49m\u001b[43mllm\u001b[49m\u001b[43m.\u001b[49m\u001b[43minvoke\u001b[49m\u001b[43m(\u001b[49m\u001b[43mmessages\u001b[49m\u001b[43m)\u001b[49m\n\u001b[32m    204\u001b[39m \u001b[38;5;28;01mreturn\u001b[39;00m {\u001b[33m\"\u001b[39m\u001b[33manswer\u001b[39m\u001b[33m\"\u001b[39m: response.content}\n",
      "\u001b[36mFile \u001b[39m\u001b[32mc:\\Users\\JaeHoBahng\\Desktop\\Georgetown\\2025_Spring\\DSAN_6725\\project\\spring-2025-final-project-project-group-2\\.venv\\Lib\\site-packages\\langchain_core\\language_models\\chat_models.py:331\u001b[39m, in \u001b[36mBaseChatModel.invoke\u001b[39m\u001b[34m(self, input, config, stop, **kwargs)\u001b[39m\n\u001b[32m    319\u001b[39m \u001b[38;5;129m@override\u001b[39m\n\u001b[32m    320\u001b[39m \u001b[38;5;28;01mdef\u001b[39;00m\u001b[38;5;250m \u001b[39m\u001b[34minvoke\u001b[39m(\n\u001b[32m    321\u001b[39m     \u001b[38;5;28mself\u001b[39m,\n\u001b[32m   (...)\u001b[39m\u001b[32m    326\u001b[39m     **kwargs: Any,\n\u001b[32m    327\u001b[39m ) -> BaseMessage:\n\u001b[32m    328\u001b[39m     config = ensure_config(config)\n\u001b[32m    329\u001b[39m     \u001b[38;5;28;01mreturn\u001b[39;00m cast(\n\u001b[32m    330\u001b[39m         \u001b[33m\"\u001b[39m\u001b[33mChatGeneration\u001b[39m\u001b[33m\"\u001b[39m,\n\u001b[32m--> \u001b[39m\u001b[32m331\u001b[39m         \u001b[38;5;28;43mself\u001b[39;49m\u001b[43m.\u001b[49m\u001b[43mgenerate_prompt\u001b[49m\u001b[43m(\u001b[49m\n\u001b[32m    332\u001b[39m \u001b[43m            \u001b[49m\u001b[43m[\u001b[49m\u001b[38;5;28;43mself\u001b[39;49m\u001b[43m.\u001b[49m\u001b[43m_convert_input\u001b[49m\u001b[43m(\u001b[49m\u001b[38;5;28;43minput\u001b[39;49m\u001b[43m)\u001b[49m\u001b[43m]\u001b[49m\u001b[43m,\u001b[49m\n\u001b[32m    333\u001b[39m \u001b[43m            \u001b[49m\u001b[43mstop\u001b[49m\u001b[43m=\u001b[49m\u001b[43mstop\u001b[49m\u001b[43m,\u001b[49m\n\u001b[32m    334\u001b[39m \u001b[43m            \u001b[49m\u001b[43mcallbacks\u001b[49m\u001b[43m=\u001b[49m\u001b[43mconfig\u001b[49m\u001b[43m.\u001b[49m\u001b[43mget\u001b[49m\u001b[43m(\u001b[49m\u001b[33;43m\"\u001b[39;49m\u001b[33;43mcallbacks\u001b[39;49m\u001b[33;43m\"\u001b[39;49m\u001b[43m)\u001b[49m\u001b[43m,\u001b[49m\n\u001b[32m    335\u001b[39m \u001b[43m            \u001b[49m\u001b[43mtags\u001b[49m\u001b[43m=\u001b[49m\u001b[43mconfig\u001b[49m\u001b[43m.\u001b[49m\u001b[43mget\u001b[49m\u001b[43m(\u001b[49m\u001b[33;43m\"\u001b[39;49m\u001b[33;43mtags\u001b[39;49m\u001b[33;43m\"\u001b[39;49m\u001b[43m)\u001b[49m\u001b[43m,\u001b[49m\n\u001b[32m    336\u001b[39m \u001b[43m            \u001b[49m\u001b[43mmetadata\u001b[49m\u001b[43m=\u001b[49m\u001b[43mconfig\u001b[49m\u001b[43m.\u001b[49m\u001b[43mget\u001b[49m\u001b[43m(\u001b[49m\u001b[33;43m\"\u001b[39;49m\u001b[33;43mmetadata\u001b[39;49m\u001b[33;43m\"\u001b[39;49m\u001b[43m)\u001b[49m\u001b[43m,\u001b[49m\n\u001b[32m    337\u001b[39m \u001b[43m            \u001b[49m\u001b[43mrun_name\u001b[49m\u001b[43m=\u001b[49m\u001b[43mconfig\u001b[49m\u001b[43m.\u001b[49m\u001b[43mget\u001b[49m\u001b[43m(\u001b[49m\u001b[33;43m\"\u001b[39;49m\u001b[33;43mrun_name\u001b[39;49m\u001b[33;43m\"\u001b[39;49m\u001b[43m)\u001b[49m\u001b[43m,\u001b[49m\n\u001b[32m    338\u001b[39m \u001b[43m            \u001b[49m\u001b[43mrun_id\u001b[49m\u001b[43m=\u001b[49m\u001b[43mconfig\u001b[49m\u001b[43m.\u001b[49m\u001b[43mpop\u001b[49m\u001b[43m(\u001b[49m\u001b[33;43m\"\u001b[39;49m\u001b[33;43mrun_id\u001b[39;49m\u001b[33;43m\"\u001b[39;49m\u001b[43m,\u001b[49m\u001b[43m \u001b[49m\u001b[38;5;28;43;01mNone\u001b[39;49;00m\u001b[43m)\u001b[49m\u001b[43m,\u001b[49m\n\u001b[32m    339\u001b[39m \u001b[43m            \u001b[49m\u001b[43m*\u001b[49m\u001b[43m*\u001b[49m\u001b[43mkwargs\u001b[49m\u001b[43m,\u001b[49m\n\u001b[32m    340\u001b[39m \u001b[43m        \u001b[49m\u001b[43m)\u001b[49m.generations[\u001b[32m0\u001b[39m][\u001b[32m0\u001b[39m],\n\u001b[32m    341\u001b[39m     ).message\n",
      "\u001b[36mFile \u001b[39m\u001b[32mc:\\Users\\JaeHoBahng\\Desktop\\Georgetown\\2025_Spring\\DSAN_6725\\project\\spring-2025-final-project-project-group-2\\.venv\\Lib\\site-packages\\langchain_core\\language_models\\chat_models.py:894\u001b[39m, in \u001b[36mBaseChatModel.generate_prompt\u001b[39m\u001b[34m(self, prompts, stop, callbacks, **kwargs)\u001b[39m\n\u001b[32m    885\u001b[39m \u001b[38;5;129m@override\u001b[39m\n\u001b[32m    886\u001b[39m \u001b[38;5;28;01mdef\u001b[39;00m\u001b[38;5;250m \u001b[39m\u001b[34mgenerate_prompt\u001b[39m(\n\u001b[32m    887\u001b[39m     \u001b[38;5;28mself\u001b[39m,\n\u001b[32m   (...)\u001b[39m\u001b[32m    891\u001b[39m     **kwargs: Any,\n\u001b[32m    892\u001b[39m ) -> LLMResult:\n\u001b[32m    893\u001b[39m     prompt_messages = [p.to_messages() \u001b[38;5;28;01mfor\u001b[39;00m p \u001b[38;5;129;01min\u001b[39;00m prompts]\n\u001b[32m--> \u001b[39m\u001b[32m894\u001b[39m     \u001b[38;5;28;01mreturn\u001b[39;00m \u001b[38;5;28;43mself\u001b[39;49m\u001b[43m.\u001b[49m\u001b[43mgenerate\u001b[49m\u001b[43m(\u001b[49m\u001b[43mprompt_messages\u001b[49m\u001b[43m,\u001b[49m\u001b[43m \u001b[49m\u001b[43mstop\u001b[49m\u001b[43m=\u001b[49m\u001b[43mstop\u001b[49m\u001b[43m,\u001b[49m\u001b[43m \u001b[49m\u001b[43mcallbacks\u001b[49m\u001b[43m=\u001b[49m\u001b[43mcallbacks\u001b[49m\u001b[43m,\u001b[49m\u001b[43m \u001b[49m\u001b[43m*\u001b[49m\u001b[43m*\u001b[49m\u001b[43mkwargs\u001b[49m\u001b[43m)\u001b[49m\n",
      "\u001b[36mFile \u001b[39m\u001b[32mc:\\Users\\JaeHoBahng\\Desktop\\Georgetown\\2025_Spring\\DSAN_6725\\project\\spring-2025-final-project-project-group-2\\.venv\\Lib\\site-packages\\langchain_core\\language_models\\chat_models.py:719\u001b[39m, in \u001b[36mBaseChatModel.generate\u001b[39m\u001b[34m(self, messages, stop, callbacks, tags, metadata, run_name, run_id, **kwargs)\u001b[39m\n\u001b[32m    716\u001b[39m \u001b[38;5;28;01mfor\u001b[39;00m i, m \u001b[38;5;129;01min\u001b[39;00m \u001b[38;5;28menumerate\u001b[39m(messages):\n\u001b[32m    717\u001b[39m     \u001b[38;5;28;01mtry\u001b[39;00m:\n\u001b[32m    718\u001b[39m         results.append(\n\u001b[32m--> \u001b[39m\u001b[32m719\u001b[39m             \u001b[38;5;28;43mself\u001b[39;49m\u001b[43m.\u001b[49m\u001b[43m_generate_with_cache\u001b[49m\u001b[43m(\u001b[49m\n\u001b[32m    720\u001b[39m \u001b[43m                \u001b[49m\u001b[43mm\u001b[49m\u001b[43m,\u001b[49m\n\u001b[32m    721\u001b[39m \u001b[43m                \u001b[49m\u001b[43mstop\u001b[49m\u001b[43m=\u001b[49m\u001b[43mstop\u001b[49m\u001b[43m,\u001b[49m\n\u001b[32m    722\u001b[39m \u001b[43m                \u001b[49m\u001b[43mrun_manager\u001b[49m\u001b[43m=\u001b[49m\u001b[43mrun_managers\u001b[49m\u001b[43m[\u001b[49m\u001b[43mi\u001b[49m\u001b[43m]\u001b[49m\u001b[43m \u001b[49m\u001b[38;5;28;43;01mif\u001b[39;49;00m\u001b[43m \u001b[49m\u001b[43mrun_managers\u001b[49m\u001b[43m \u001b[49m\u001b[38;5;28;43;01melse\u001b[39;49;00m\u001b[43m \u001b[49m\u001b[38;5;28;43;01mNone\u001b[39;49;00m\u001b[43m,\u001b[49m\n\u001b[32m    723\u001b[39m \u001b[43m                \u001b[49m\u001b[43m*\u001b[49m\u001b[43m*\u001b[49m\u001b[43mkwargs\u001b[49m\u001b[43m,\u001b[49m\n\u001b[32m    724\u001b[39m \u001b[43m            \u001b[49m\u001b[43m)\u001b[49m\n\u001b[32m    725\u001b[39m         )\n\u001b[32m    726\u001b[39m     \u001b[38;5;28;01mexcept\u001b[39;00m \u001b[38;5;167;01mBaseException\u001b[39;00m \u001b[38;5;28;01mas\u001b[39;00m e:\n\u001b[32m    727\u001b[39m         \u001b[38;5;28;01mif\u001b[39;00m run_managers:\n",
      "\u001b[36mFile \u001b[39m\u001b[32mc:\\Users\\JaeHoBahng\\Desktop\\Georgetown\\2025_Spring\\DSAN_6725\\project\\spring-2025-final-project-project-group-2\\.venv\\Lib\\site-packages\\langchain_core\\language_models\\chat_models.py:960\u001b[39m, in \u001b[36mBaseChatModel._generate_with_cache\u001b[39m\u001b[34m(self, messages, stop, run_manager, **kwargs)\u001b[39m\n\u001b[32m    958\u001b[39m \u001b[38;5;28;01melse\u001b[39;00m:\n\u001b[32m    959\u001b[39m     \u001b[38;5;28;01mif\u001b[39;00m inspect.signature(\u001b[38;5;28mself\u001b[39m._generate).parameters.get(\u001b[33m\"\u001b[39m\u001b[33mrun_manager\u001b[39m\u001b[33m\"\u001b[39m):\n\u001b[32m--> \u001b[39m\u001b[32m960\u001b[39m         result = \u001b[38;5;28;43mself\u001b[39;49m\u001b[43m.\u001b[49m\u001b[43m_generate\u001b[49m\u001b[43m(\u001b[49m\n\u001b[32m    961\u001b[39m \u001b[43m            \u001b[49m\u001b[43mmessages\u001b[49m\u001b[43m,\u001b[49m\u001b[43m \u001b[49m\u001b[43mstop\u001b[49m\u001b[43m=\u001b[49m\u001b[43mstop\u001b[49m\u001b[43m,\u001b[49m\u001b[43m \u001b[49m\u001b[43mrun_manager\u001b[49m\u001b[43m=\u001b[49m\u001b[43mrun_manager\u001b[49m\u001b[43m,\u001b[49m\u001b[43m \u001b[49m\u001b[43m*\u001b[49m\u001b[43m*\u001b[49m\u001b[43mkwargs\u001b[49m\n\u001b[32m    962\u001b[39m \u001b[43m        \u001b[49m\u001b[43m)\u001b[49m\n\u001b[32m    963\u001b[39m     \u001b[38;5;28;01melse\u001b[39;00m:\n\u001b[32m    964\u001b[39m         result = \u001b[38;5;28mself\u001b[39m._generate(messages, stop=stop, **kwargs)\n",
      "\u001b[36mFile \u001b[39m\u001b[32mc:\\Users\\JaeHoBahng\\Desktop\\Georgetown\\2025_Spring\\DSAN_6725\\project\\spring-2025-final-project-project-group-2\\.venv\\Lib\\site-packages\\langchain_openai\\chat_models\\base.py:800\u001b[39m, in \u001b[36mBaseChatOpenAI._generate\u001b[39m\u001b[34m(self, messages, stop, run_manager, **kwargs)\u001b[39m\n\u001b[32m    798\u001b[39m     generation_info = {\u001b[33m\"\u001b[39m\u001b[33mheaders\u001b[39m\u001b[33m\"\u001b[39m: \u001b[38;5;28mdict\u001b[39m(raw_response.headers)}\n\u001b[32m    799\u001b[39m \u001b[38;5;28;01melse\u001b[39;00m:\n\u001b[32m--> \u001b[39m\u001b[32m800\u001b[39m     response = \u001b[38;5;28;43mself\u001b[39;49m\u001b[43m.\u001b[49m\u001b[43mclient\u001b[49m\u001b[43m.\u001b[49m\u001b[43mcreate\u001b[49m\u001b[43m(\u001b[49m\u001b[43m*\u001b[49m\u001b[43m*\u001b[49m\u001b[43mpayload\u001b[49m\u001b[43m)\u001b[49m\n\u001b[32m    801\u001b[39m \u001b[38;5;28;01mreturn\u001b[39;00m \u001b[38;5;28mself\u001b[39m._create_chat_result(response, generation_info)\n",
      "\u001b[36mFile \u001b[39m\u001b[32mc:\\Users\\JaeHoBahng\\Desktop\\Georgetown\\2025_Spring\\DSAN_6725\\project\\spring-2025-final-project-project-group-2\\.venv\\Lib\\site-packages\\openai\\_utils\\_utils.py:279\u001b[39m, in \u001b[36mrequired_args.<locals>.inner.<locals>.wrapper\u001b[39m\u001b[34m(*args, **kwargs)\u001b[39m\n\u001b[32m    277\u001b[39m             msg = \u001b[33mf\u001b[39m\u001b[33m\"\u001b[39m\u001b[33mMissing required argument: \u001b[39m\u001b[38;5;132;01m{\u001b[39;00mquote(missing[\u001b[32m0\u001b[39m])\u001b[38;5;132;01m}\u001b[39;00m\u001b[33m\"\u001b[39m\n\u001b[32m    278\u001b[39m     \u001b[38;5;28;01mraise\u001b[39;00m \u001b[38;5;167;01mTypeError\u001b[39;00m(msg)\n\u001b[32m--> \u001b[39m\u001b[32m279\u001b[39m \u001b[38;5;28;01mreturn\u001b[39;00m \u001b[43mfunc\u001b[49m\u001b[43m(\u001b[49m\u001b[43m*\u001b[49m\u001b[43margs\u001b[49m\u001b[43m,\u001b[49m\u001b[43m \u001b[49m\u001b[43m*\u001b[49m\u001b[43m*\u001b[49m\u001b[43mkwargs\u001b[49m\u001b[43m)\u001b[49m\n",
      "\u001b[36mFile \u001b[39m\u001b[32mc:\\Users\\JaeHoBahng\\Desktop\\Georgetown\\2025_Spring\\DSAN_6725\\project\\spring-2025-final-project-project-group-2\\.venv\\Lib\\site-packages\\openai\\resources\\chat\\completions\\completions.py:879\u001b[39m, in \u001b[36mCompletions.create\u001b[39m\u001b[34m(self, messages, model, audio, frequency_penalty, function_call, functions, logit_bias, logprobs, max_completion_tokens, max_tokens, metadata, modalities, n, parallel_tool_calls, prediction, presence_penalty, reasoning_effort, response_format, seed, service_tier, stop, store, stream, stream_options, temperature, tool_choice, tools, top_logprobs, top_p, user, extra_headers, extra_query, extra_body, timeout)\u001b[39m\n\u001b[32m    837\u001b[39m \u001b[38;5;129m@required_args\u001b[39m([\u001b[33m\"\u001b[39m\u001b[33mmessages\u001b[39m\u001b[33m\"\u001b[39m, \u001b[33m\"\u001b[39m\u001b[33mmodel\u001b[39m\u001b[33m\"\u001b[39m], [\u001b[33m\"\u001b[39m\u001b[33mmessages\u001b[39m\u001b[33m\"\u001b[39m, \u001b[33m\"\u001b[39m\u001b[33mmodel\u001b[39m\u001b[33m\"\u001b[39m, \u001b[33m\"\u001b[39m\u001b[33mstream\u001b[39m\u001b[33m\"\u001b[39m])\n\u001b[32m    838\u001b[39m \u001b[38;5;28;01mdef\u001b[39;00m\u001b[38;5;250m \u001b[39m\u001b[34mcreate\u001b[39m(\n\u001b[32m    839\u001b[39m     \u001b[38;5;28mself\u001b[39m,\n\u001b[32m   (...)\u001b[39m\u001b[32m    876\u001b[39m     timeout: \u001b[38;5;28mfloat\u001b[39m | httpx.Timeout | \u001b[38;5;28;01mNone\u001b[39;00m | NotGiven = NOT_GIVEN,\n\u001b[32m    877\u001b[39m ) -> ChatCompletion | Stream[ChatCompletionChunk]:\n\u001b[32m    878\u001b[39m     validate_response_format(response_format)\n\u001b[32m--> \u001b[39m\u001b[32m879\u001b[39m     \u001b[38;5;28;01mreturn\u001b[39;00m \u001b[38;5;28;43mself\u001b[39;49m\u001b[43m.\u001b[49m\u001b[43m_post\u001b[49m\u001b[43m(\u001b[49m\n\u001b[32m    880\u001b[39m \u001b[43m        \u001b[49m\u001b[33;43m\"\u001b[39;49m\u001b[33;43m/chat/completions\u001b[39;49m\u001b[33;43m\"\u001b[39;49m\u001b[43m,\u001b[49m\n\u001b[32m    881\u001b[39m \u001b[43m        \u001b[49m\u001b[43mbody\u001b[49m\u001b[43m=\u001b[49m\u001b[43mmaybe_transform\u001b[49m\u001b[43m(\u001b[49m\n\u001b[32m    882\u001b[39m \u001b[43m            \u001b[49m\u001b[43m{\u001b[49m\n\u001b[32m    883\u001b[39m \u001b[43m                \u001b[49m\u001b[33;43m\"\u001b[39;49m\u001b[33;43mmessages\u001b[39;49m\u001b[33;43m\"\u001b[39;49m\u001b[43m:\u001b[49m\u001b[43m \u001b[49m\u001b[43mmessages\u001b[49m\u001b[43m,\u001b[49m\n\u001b[32m    884\u001b[39m \u001b[43m                \u001b[49m\u001b[33;43m\"\u001b[39;49m\u001b[33;43mmodel\u001b[39;49m\u001b[33;43m\"\u001b[39;49m\u001b[43m:\u001b[49m\u001b[43m \u001b[49m\u001b[43mmodel\u001b[49m\u001b[43m,\u001b[49m\n\u001b[32m    885\u001b[39m \u001b[43m                \u001b[49m\u001b[33;43m\"\u001b[39;49m\u001b[33;43maudio\u001b[39;49m\u001b[33;43m\"\u001b[39;49m\u001b[43m:\u001b[49m\u001b[43m \u001b[49m\u001b[43maudio\u001b[49m\u001b[43m,\u001b[49m\n\u001b[32m    886\u001b[39m \u001b[43m                \u001b[49m\u001b[33;43m\"\u001b[39;49m\u001b[33;43mfrequency_penalty\u001b[39;49m\u001b[33;43m\"\u001b[39;49m\u001b[43m:\u001b[49m\u001b[43m \u001b[49m\u001b[43mfrequency_penalty\u001b[49m\u001b[43m,\u001b[49m\n\u001b[32m    887\u001b[39m \u001b[43m                \u001b[49m\u001b[33;43m\"\u001b[39;49m\u001b[33;43mfunction_call\u001b[39;49m\u001b[33;43m\"\u001b[39;49m\u001b[43m:\u001b[49m\u001b[43m \u001b[49m\u001b[43mfunction_call\u001b[49m\u001b[43m,\u001b[49m\n\u001b[32m    888\u001b[39m \u001b[43m                \u001b[49m\u001b[33;43m\"\u001b[39;49m\u001b[33;43mfunctions\u001b[39;49m\u001b[33;43m\"\u001b[39;49m\u001b[43m:\u001b[49m\u001b[43m \u001b[49m\u001b[43mfunctions\u001b[49m\u001b[43m,\u001b[49m\n\u001b[32m    889\u001b[39m \u001b[43m                \u001b[49m\u001b[33;43m\"\u001b[39;49m\u001b[33;43mlogit_bias\u001b[39;49m\u001b[33;43m\"\u001b[39;49m\u001b[43m:\u001b[49m\u001b[43m \u001b[49m\u001b[43mlogit_bias\u001b[49m\u001b[43m,\u001b[49m\n\u001b[32m    890\u001b[39m \u001b[43m                \u001b[49m\u001b[33;43m\"\u001b[39;49m\u001b[33;43mlogprobs\u001b[39;49m\u001b[33;43m\"\u001b[39;49m\u001b[43m:\u001b[49m\u001b[43m \u001b[49m\u001b[43mlogprobs\u001b[49m\u001b[43m,\u001b[49m\n\u001b[32m    891\u001b[39m \u001b[43m                \u001b[49m\u001b[33;43m\"\u001b[39;49m\u001b[33;43mmax_completion_tokens\u001b[39;49m\u001b[33;43m\"\u001b[39;49m\u001b[43m:\u001b[49m\u001b[43m \u001b[49m\u001b[43mmax_completion_tokens\u001b[49m\u001b[43m,\u001b[49m\n\u001b[32m    892\u001b[39m \u001b[43m                \u001b[49m\u001b[33;43m\"\u001b[39;49m\u001b[33;43mmax_tokens\u001b[39;49m\u001b[33;43m\"\u001b[39;49m\u001b[43m:\u001b[49m\u001b[43m \u001b[49m\u001b[43mmax_tokens\u001b[49m\u001b[43m,\u001b[49m\n\u001b[32m    893\u001b[39m \u001b[43m                \u001b[49m\u001b[33;43m\"\u001b[39;49m\u001b[33;43mmetadata\u001b[39;49m\u001b[33;43m\"\u001b[39;49m\u001b[43m:\u001b[49m\u001b[43m \u001b[49m\u001b[43mmetadata\u001b[49m\u001b[43m,\u001b[49m\n\u001b[32m    894\u001b[39m \u001b[43m                \u001b[49m\u001b[33;43m\"\u001b[39;49m\u001b[33;43mmodalities\u001b[39;49m\u001b[33;43m\"\u001b[39;49m\u001b[43m:\u001b[49m\u001b[43m \u001b[49m\u001b[43mmodalities\u001b[49m\u001b[43m,\u001b[49m\n\u001b[32m    895\u001b[39m \u001b[43m                \u001b[49m\u001b[33;43m\"\u001b[39;49m\u001b[33;43mn\u001b[39;49m\u001b[33;43m\"\u001b[39;49m\u001b[43m:\u001b[49m\u001b[43m \u001b[49m\u001b[43mn\u001b[49m\u001b[43m,\u001b[49m\n\u001b[32m    896\u001b[39m \u001b[43m                \u001b[49m\u001b[33;43m\"\u001b[39;49m\u001b[33;43mparallel_tool_calls\u001b[39;49m\u001b[33;43m\"\u001b[39;49m\u001b[43m:\u001b[49m\u001b[43m \u001b[49m\u001b[43mparallel_tool_calls\u001b[49m\u001b[43m,\u001b[49m\n\u001b[32m    897\u001b[39m \u001b[43m                \u001b[49m\u001b[33;43m\"\u001b[39;49m\u001b[33;43mprediction\u001b[39;49m\u001b[33;43m\"\u001b[39;49m\u001b[43m:\u001b[49m\u001b[43m \u001b[49m\u001b[43mprediction\u001b[49m\u001b[43m,\u001b[49m\n\u001b[32m    898\u001b[39m \u001b[43m                \u001b[49m\u001b[33;43m\"\u001b[39;49m\u001b[33;43mpresence_penalty\u001b[39;49m\u001b[33;43m\"\u001b[39;49m\u001b[43m:\u001b[49m\u001b[43m \u001b[49m\u001b[43mpresence_penalty\u001b[49m\u001b[43m,\u001b[49m\n\u001b[32m    899\u001b[39m \u001b[43m                \u001b[49m\u001b[33;43m\"\u001b[39;49m\u001b[33;43mreasoning_effort\u001b[39;49m\u001b[33;43m\"\u001b[39;49m\u001b[43m:\u001b[49m\u001b[43m \u001b[49m\u001b[43mreasoning_effort\u001b[49m\u001b[43m,\u001b[49m\n\u001b[32m    900\u001b[39m \u001b[43m                \u001b[49m\u001b[33;43m\"\u001b[39;49m\u001b[33;43mresponse_format\u001b[39;49m\u001b[33;43m\"\u001b[39;49m\u001b[43m:\u001b[49m\u001b[43m \u001b[49m\u001b[43mresponse_format\u001b[49m\u001b[43m,\u001b[49m\n\u001b[32m    901\u001b[39m \u001b[43m                \u001b[49m\u001b[33;43m\"\u001b[39;49m\u001b[33;43mseed\u001b[39;49m\u001b[33;43m\"\u001b[39;49m\u001b[43m:\u001b[49m\u001b[43m \u001b[49m\u001b[43mseed\u001b[49m\u001b[43m,\u001b[49m\n\u001b[32m    902\u001b[39m \u001b[43m                \u001b[49m\u001b[33;43m\"\u001b[39;49m\u001b[33;43mservice_tier\u001b[39;49m\u001b[33;43m\"\u001b[39;49m\u001b[43m:\u001b[49m\u001b[43m \u001b[49m\u001b[43mservice_tier\u001b[49m\u001b[43m,\u001b[49m\n\u001b[32m    903\u001b[39m \u001b[43m                \u001b[49m\u001b[33;43m\"\u001b[39;49m\u001b[33;43mstop\u001b[39;49m\u001b[33;43m\"\u001b[39;49m\u001b[43m:\u001b[49m\u001b[43m \u001b[49m\u001b[43mstop\u001b[49m\u001b[43m,\u001b[49m\n\u001b[32m    904\u001b[39m \u001b[43m                \u001b[49m\u001b[33;43m\"\u001b[39;49m\u001b[33;43mstore\u001b[39;49m\u001b[33;43m\"\u001b[39;49m\u001b[43m:\u001b[49m\u001b[43m \u001b[49m\u001b[43mstore\u001b[49m\u001b[43m,\u001b[49m\n\u001b[32m    905\u001b[39m \u001b[43m                \u001b[49m\u001b[33;43m\"\u001b[39;49m\u001b[33;43mstream\u001b[39;49m\u001b[33;43m\"\u001b[39;49m\u001b[43m:\u001b[49m\u001b[43m \u001b[49m\u001b[43mstream\u001b[49m\u001b[43m,\u001b[49m\n\u001b[32m    906\u001b[39m \u001b[43m                \u001b[49m\u001b[33;43m\"\u001b[39;49m\u001b[33;43mstream_options\u001b[39;49m\u001b[33;43m\"\u001b[39;49m\u001b[43m:\u001b[49m\u001b[43m \u001b[49m\u001b[43mstream_options\u001b[49m\u001b[43m,\u001b[49m\n\u001b[32m    907\u001b[39m \u001b[43m                \u001b[49m\u001b[33;43m\"\u001b[39;49m\u001b[33;43mtemperature\u001b[39;49m\u001b[33;43m\"\u001b[39;49m\u001b[43m:\u001b[49m\u001b[43m \u001b[49m\u001b[43mtemperature\u001b[49m\u001b[43m,\u001b[49m\n\u001b[32m    908\u001b[39m \u001b[43m                \u001b[49m\u001b[33;43m\"\u001b[39;49m\u001b[33;43mtool_choice\u001b[39;49m\u001b[33;43m\"\u001b[39;49m\u001b[43m:\u001b[49m\u001b[43m \u001b[49m\u001b[43mtool_choice\u001b[49m\u001b[43m,\u001b[49m\n\u001b[32m    909\u001b[39m \u001b[43m                \u001b[49m\u001b[33;43m\"\u001b[39;49m\u001b[33;43mtools\u001b[39;49m\u001b[33;43m\"\u001b[39;49m\u001b[43m:\u001b[49m\u001b[43m \u001b[49m\u001b[43mtools\u001b[49m\u001b[43m,\u001b[49m\n\u001b[32m    910\u001b[39m \u001b[43m                \u001b[49m\u001b[33;43m\"\u001b[39;49m\u001b[33;43mtop_logprobs\u001b[39;49m\u001b[33;43m\"\u001b[39;49m\u001b[43m:\u001b[49m\u001b[43m \u001b[49m\u001b[43mtop_logprobs\u001b[49m\u001b[43m,\u001b[49m\n\u001b[32m    911\u001b[39m \u001b[43m                \u001b[49m\u001b[33;43m\"\u001b[39;49m\u001b[33;43mtop_p\u001b[39;49m\u001b[33;43m\"\u001b[39;49m\u001b[43m:\u001b[49m\u001b[43m \u001b[49m\u001b[43mtop_p\u001b[49m\u001b[43m,\u001b[49m\n\u001b[32m    912\u001b[39m \u001b[43m                \u001b[49m\u001b[33;43m\"\u001b[39;49m\u001b[33;43muser\u001b[39;49m\u001b[33;43m\"\u001b[39;49m\u001b[43m:\u001b[49m\u001b[43m \u001b[49m\u001b[43muser\u001b[49m\u001b[43m,\u001b[49m\n\u001b[32m    913\u001b[39m \u001b[43m            \u001b[49m\u001b[43m}\u001b[49m\u001b[43m,\u001b[49m\n\u001b[32m    914\u001b[39m \u001b[43m            \u001b[49m\u001b[43mcompletion_create_params\u001b[49m\u001b[43m.\u001b[49m\u001b[43mCompletionCreateParams\u001b[49m\u001b[43m,\u001b[49m\n\u001b[32m    915\u001b[39m \u001b[43m        \u001b[49m\u001b[43m)\u001b[49m\u001b[43m,\u001b[49m\n\u001b[32m    916\u001b[39m \u001b[43m        \u001b[49m\u001b[43moptions\u001b[49m\u001b[43m=\u001b[49m\u001b[43mmake_request_options\u001b[49m\u001b[43m(\u001b[49m\n\u001b[32m    917\u001b[39m \u001b[43m            \u001b[49m\u001b[43mextra_headers\u001b[49m\u001b[43m=\u001b[49m\u001b[43mextra_headers\u001b[49m\u001b[43m,\u001b[49m\u001b[43m \u001b[49m\u001b[43mextra_query\u001b[49m\u001b[43m=\u001b[49m\u001b[43mextra_query\u001b[49m\u001b[43m,\u001b[49m\u001b[43m \u001b[49m\u001b[43mextra_body\u001b[49m\u001b[43m=\u001b[49m\u001b[43mextra_body\u001b[49m\u001b[43m,\u001b[49m\u001b[43m \u001b[49m\u001b[43mtimeout\u001b[49m\u001b[43m=\u001b[49m\u001b[43mtimeout\u001b[49m\n\u001b[32m    918\u001b[39m \u001b[43m        \u001b[49m\u001b[43m)\u001b[49m\u001b[43m,\u001b[49m\n\u001b[32m    919\u001b[39m \u001b[43m        \u001b[49m\u001b[43mcast_to\u001b[49m\u001b[43m=\u001b[49m\u001b[43mChatCompletion\u001b[49m\u001b[43m,\u001b[49m\n\u001b[32m    920\u001b[39m \u001b[43m        \u001b[49m\u001b[43mstream\u001b[49m\u001b[43m=\u001b[49m\u001b[43mstream\u001b[49m\u001b[43m \u001b[49m\u001b[38;5;129;43;01mor\u001b[39;49;00m\u001b[43m \u001b[49m\u001b[38;5;28;43;01mFalse\u001b[39;49;00m\u001b[43m,\u001b[49m\n\u001b[32m    921\u001b[39m \u001b[43m        \u001b[49m\u001b[43mstream_cls\u001b[49m\u001b[43m=\u001b[49m\u001b[43mStream\u001b[49m\u001b[43m[\u001b[49m\u001b[43mChatCompletionChunk\u001b[49m\u001b[43m]\u001b[49m\u001b[43m,\u001b[49m\n\u001b[32m    922\u001b[39m \u001b[43m    \u001b[49m\u001b[43m)\u001b[49m\n",
      "\u001b[36mFile \u001b[39m\u001b[32mc:\\Users\\JaeHoBahng\\Desktop\\Georgetown\\2025_Spring\\DSAN_6725\\project\\spring-2025-final-project-project-group-2\\.venv\\Lib\\site-packages\\openai\\_base_client.py:1290\u001b[39m, in \u001b[36mSyncAPIClient.post\u001b[39m\u001b[34m(self, path, cast_to, body, options, files, stream, stream_cls)\u001b[39m\n\u001b[32m   1276\u001b[39m \u001b[38;5;28;01mdef\u001b[39;00m\u001b[38;5;250m \u001b[39m\u001b[34mpost\u001b[39m(\n\u001b[32m   1277\u001b[39m     \u001b[38;5;28mself\u001b[39m,\n\u001b[32m   1278\u001b[39m     path: \u001b[38;5;28mstr\u001b[39m,\n\u001b[32m   (...)\u001b[39m\u001b[32m   1285\u001b[39m     stream_cls: \u001b[38;5;28mtype\u001b[39m[_StreamT] | \u001b[38;5;28;01mNone\u001b[39;00m = \u001b[38;5;28;01mNone\u001b[39;00m,\n\u001b[32m   1286\u001b[39m ) -> ResponseT | _StreamT:\n\u001b[32m   1287\u001b[39m     opts = FinalRequestOptions.construct(\n\u001b[32m   1288\u001b[39m         method=\u001b[33m\"\u001b[39m\u001b[33mpost\u001b[39m\u001b[33m\"\u001b[39m, url=path, json_data=body, files=to_httpx_files(files), **options\n\u001b[32m   1289\u001b[39m     )\n\u001b[32m-> \u001b[39m\u001b[32m1290\u001b[39m     \u001b[38;5;28;01mreturn\u001b[39;00m cast(ResponseT, \u001b[38;5;28;43mself\u001b[39;49m\u001b[43m.\u001b[49m\u001b[43mrequest\u001b[49m\u001b[43m(\u001b[49m\u001b[43mcast_to\u001b[49m\u001b[43m,\u001b[49m\u001b[43m \u001b[49m\u001b[43mopts\u001b[49m\u001b[43m,\u001b[49m\u001b[43m \u001b[49m\u001b[43mstream\u001b[49m\u001b[43m=\u001b[49m\u001b[43mstream\u001b[49m\u001b[43m,\u001b[49m\u001b[43m \u001b[49m\u001b[43mstream_cls\u001b[49m\u001b[43m=\u001b[49m\u001b[43mstream_cls\u001b[49m\u001b[43m)\u001b[49m)\n",
      "\u001b[36mFile \u001b[39m\u001b[32mc:\\Users\\JaeHoBahng\\Desktop\\Georgetown\\2025_Spring\\DSAN_6725\\project\\spring-2025-final-project-project-group-2\\.venv\\Lib\\site-packages\\openai\\_base_client.py:967\u001b[39m, in \u001b[36mSyncAPIClient.request\u001b[39m\u001b[34m(self, cast_to, options, remaining_retries, stream, stream_cls)\u001b[39m\n\u001b[32m    964\u001b[39m \u001b[38;5;28;01melse\u001b[39;00m:\n\u001b[32m    965\u001b[39m     retries_taken = \u001b[32m0\u001b[39m\n\u001b[32m--> \u001b[39m\u001b[32m967\u001b[39m \u001b[38;5;28;01mreturn\u001b[39;00m \u001b[38;5;28;43mself\u001b[39;49m\u001b[43m.\u001b[49m\u001b[43m_request\u001b[49m\u001b[43m(\u001b[49m\n\u001b[32m    968\u001b[39m \u001b[43m    \u001b[49m\u001b[43mcast_to\u001b[49m\u001b[43m=\u001b[49m\u001b[43mcast_to\u001b[49m\u001b[43m,\u001b[49m\n\u001b[32m    969\u001b[39m \u001b[43m    \u001b[49m\u001b[43moptions\u001b[49m\u001b[43m=\u001b[49m\u001b[43moptions\u001b[49m\u001b[43m,\u001b[49m\n\u001b[32m    970\u001b[39m \u001b[43m    \u001b[49m\u001b[43mstream\u001b[49m\u001b[43m=\u001b[49m\u001b[43mstream\u001b[49m\u001b[43m,\u001b[49m\n\u001b[32m    971\u001b[39m \u001b[43m    \u001b[49m\u001b[43mstream_cls\u001b[49m\u001b[43m=\u001b[49m\u001b[43mstream_cls\u001b[49m\u001b[43m,\u001b[49m\n\u001b[32m    972\u001b[39m \u001b[43m    \u001b[49m\u001b[43mretries_taken\u001b[49m\u001b[43m=\u001b[49m\u001b[43mretries_taken\u001b[49m\u001b[43m,\u001b[49m\n\u001b[32m    973\u001b[39m \u001b[43m\u001b[49m\u001b[43m)\u001b[49m\n",
      "\u001b[36mFile \u001b[39m\u001b[32mc:\\Users\\JaeHoBahng\\Desktop\\Georgetown\\2025_Spring\\DSAN_6725\\project\\spring-2025-final-project-project-group-2\\.venv\\Lib\\site-packages\\openai\\_base_client.py:1071\u001b[39m, in \u001b[36mSyncAPIClient._request\u001b[39m\u001b[34m(self, cast_to, options, retries_taken, stream, stream_cls)\u001b[39m\n\u001b[32m   1068\u001b[39m         err.response.read()\n\u001b[32m   1070\u001b[39m     log.debug(\u001b[33m\"\u001b[39m\u001b[33mRe-raising status error\u001b[39m\u001b[33m\"\u001b[39m)\n\u001b[32m-> \u001b[39m\u001b[32m1071\u001b[39m     \u001b[38;5;28;01mraise\u001b[39;00m \u001b[38;5;28mself\u001b[39m._make_status_error_from_response(err.response) \u001b[38;5;28;01mfrom\u001b[39;00m\u001b[38;5;250m \u001b[39m\u001b[38;5;28;01mNone\u001b[39;00m\n\u001b[32m   1073\u001b[39m \u001b[38;5;28;01mreturn\u001b[39;00m \u001b[38;5;28mself\u001b[39m._process_response(\n\u001b[32m   1074\u001b[39m     cast_to=cast_to,\n\u001b[32m   1075\u001b[39m     options=options,\n\u001b[32m   (...)\u001b[39m\u001b[32m   1079\u001b[39m     retries_taken=retries_taken,\n\u001b[32m   1080\u001b[39m )\n",
      "\u001b[31mNotFoundError\u001b[39m: Error code: 404 - {'error': {'message': 'The model `claude-3-5-sonnet-20240620` does not exist or you do not have access to it.', 'type': 'invalid_request_error', 'param': None, 'code': 'model_not_found'}}",
      "During task with name '_generate' and id 'a5fca6ff-2b40-942c-085f-1fd009a48841'"
     ]
    }
   ],
   "source": [
    "query_engine.query('utils')"
   ]
  },
  {
   "cell_type": "code",
   "execution_count": null,
   "id": "4e262e11",
   "metadata": {},
   "outputs": [],
   "source": []
  },
  {
   "cell_type": "markdown",
   "id": "26c5fbac",
   "metadata": {},
   "source": [
    "# Entire Agent Demo"
   ]
  },
  {
   "cell_type": "code",
   "execution_count": 1,
   "id": "af1578ba",
   "metadata": {},
   "outputs": [
    {
     "name": "stdout",
     "output_type": "stream",
     "text": [
      "c:\\Users\\JaeHoBahng\\Desktop\\Georgetown\\2025_Spring\\DSAN_6725\\project\\spring-2025-final-project-project-group-2\\docs\\notebooks\n",
      "c:\\Users\\JaeHoBahng\\Desktop\\Georgetown\\2025_Spring\\DSAN_6725\\project\\spring-2025-final-project-project-group-2\\src\n"
     ]
    }
   ],
   "source": [
    "import os\n",
    "print(os.getcwd())\n",
    "os.chdir('c:\\\\Users\\\\JaeHoBahng\\\\Desktop\\\\Georgetown\\\\2025_Spring\\\\DSAN_6725\\\\project\\\\spring-2025-final-project-project-group-2\\\\src')\n",
    "print(os.getcwd())\n"
   ]
  },
  {
   "cell_type": "code",
   "execution_count": 2,
   "id": "9ade5ea7",
   "metadata": {},
   "outputs": [],
   "source": [
    "from tools.micro_text_answer import create_rag_system\n",
    "\n",
    "db_setup, query_engine = create_rag_system(\n",
    "    repo_path=\"../docs/notebooks/assignment-2-mcdonald-s/src\",\n",
    "    embedding_model=\"text-embedding-3-large\",\n",
    "    llm_model=\"gpt-4o\",\n",
    ")"
   ]
  },
  {
   "cell_type": "code",
   "execution_count": 9,
   "id": "04b814c4",
   "metadata": {},
   "outputs": [
    {
     "name": "stdout",
     "output_type": "stream",
     "text": [
      "\u001b[90m2025-04-18 09:59:54\u001b[0m - \u001b[36magent_router\u001b[0m - \u001b[92mINFO\u001b[0m - Building the router graph...\n"
     ]
    },
    {
     "name": "stderr",
     "output_type": "stream",
     "text": [
      "\u001b[92mINFO\u001b[0m:agent_router:Building the router graph...\n"
     ]
    },
    {
     "name": "stdout",
     "output_type": "stream",
     "text": [
      "\u001b[90m2025-04-18 09:59:54\u001b[0m - \u001b[36magent_router\u001b[0m - \u001b[92mINFO\u001b[0m - Compiling the router graph...\n"
     ]
    },
    {
     "name": "stderr",
     "output_type": "stream",
     "text": [
      "\u001b[92mINFO\u001b[0m:agent_router:Compiling the router graph...\n"
     ]
    }
   ],
   "source": [
    "from agent_router import create_router_graph\n",
    "from langchain_core.messages import AIMessage, HumanMessage\n",
    "from langchain.chat_models import init_chat_model\n",
    "\n",
    "from tools.code_analysis_tools import (explain_code_logic, generate_repo_tree, list_python_files, read_code_file)\n",
    "import  tools.micro_tools as mt\n",
    "\n",
    "import importlib\n",
    "importlib.reload(mt)\n",
    "\n",
    "# import (retrieve_cypher_relationships, visualize_relationships, generate_text_response)\n",
    "\n",
    "llm = init_chat_model(\"gpt-4o\", model_provider=\"openai\")\n",
    "\n",
    "macro_tools = [\n",
    "    # generate_repo_tree,\n",
    "    # read_code_file,\n",
    "    # list_python_files,\n",
    "    # explain_code_logic,\n",
    "]\n",
    "\n",
    "# Add micro tools if available\n",
    "mt.query_engine = query_engine\n",
    "\n",
    "micro_tools = [\n",
    "    mt.retrieve_cypher_relationships,\n",
    "    mt.visualize_relationships,\n",
    "    mt.generate_text_response,\n",
    "]\n",
    "graph = create_router_graph(\n",
    "            llm=llm, macro_tools=macro_tools, micro_tools=micro_tools\n",
    "        )\n",
    "\n"
   ]
  },
  {
   "cell_type": "code",
   "execution_count": 10,
   "id": "ce8ec6da",
   "metadata": {},
   "outputs": [
    {
     "name": "stdout",
     "output_type": "stream",
     "text": [
      "\u001b[90m2025-04-18 09:59:55\u001b[0m - \u001b[36magent_router\u001b[0m - \u001b[92mINFO\u001b[0m - Supervisor decided to route to: micro\n"
     ]
    },
    {
     "name": "stderr",
     "output_type": "stream",
     "text": [
      "\u001b[92mINFO\u001b[0m:agent_router:Supervisor decided to route to: micro\n"
     ]
    },
    {
     "name": "stdout",
     "output_type": "stream",
     "text": [
      "\u001b[90m2025-04-18 09:59:55\u001b[0m - \u001b[36magent_router\u001b[0m - \u001b[92mINFO\u001b[0m - Micro agent is processing...\n"
     ]
    },
    {
     "name": "stderr",
     "output_type": "stream",
     "text": [
      "\u001b[92mINFO\u001b[0m:agent_router:Micro agent is processing...\n"
     ]
    },
    {
     "name": "stdout",
     "output_type": "stream",
     "text": [
      "\u001b[90m2025-04-18 10:00:03\u001b[0m - \u001b[36magent_router\u001b[0m - \u001b[92mINFO\u001b[0m - Tool Call: Cypher query generated -> {'answer': 'The `Utils.Utils` module is related to the `Deduplication.__Main__` module through the following connections:\\n\\n- `Utils.Utils` imports `Utils.Use_Cases`, which defines `Nearest_Neighbor_Search`, imported into `Deduplication.__Main__`.\\n- `Utils.Utils` imports `Utils.Use_Cases`, defining `Collection_Deduplication`, imported into `Deduplication.__Main__`.\\n- `Utils.Utils` imports `Utils.Utils.Unionfind`, which uses `Collection_Deduplication`, imported into `Deduplication.__Main__`.\\n- `Utils.Utils` imports `Utils.Utils.Unionfind`, used in defining `Utils.Use_Cases` and `Nearest_Neighbor_Search`, imported into `Deduplication.__Main__`.\\n- `Utils.Utils` imports `Utils.Utils.Unionfind`, defined and used in `Deduplication.Lsh`, imported into `Deduplication.__Main__`.', 'steps': ['generate_cypher', 'execute_cypher', 'generate_final_answer'], 'cypher_statement': \"MATCH path = (m1:Module {id: 'Utils.Utils'})-[*..5]-(m2:Module {id: 'Deduplication.__Main__'}) WHERE NONE(n IN nodes(path) WHERE n:Package) RETURN path LIMIT 10\", 'cypher_results': [{'path': [{'id': 'Utils.Utils'}, 'IMPORTS', {'id': 'Utils.Use_Cases'}, 'DEFINES', {'id': 'Utils.Use_Cases.Nearest_Neighbor_Search'}, 'IMPORTED_INTO', {'id': 'Deduplication.__Main__'}]}, {'path': [{'id': 'Utils.Utils'}, 'IMPORTS', {'id': 'Utils.Use_Cases'}, 'DEFINES', {'id': 'Utils.Use_Cases.Collection_Deduplication'}, 'IMPORTED_INTO', {'id': 'Deduplication.__Main__'}]}, {'path': [{'id': 'Utils.Utils'}, 'IMPORTS', {'id': 'Utils.Utils.Unionfind'}, 'USES', {'id': 'Utils.Use_Cases.Collection_Deduplication'}, 'IMPORTED_INTO', {'id': 'Deduplication.__Main__'}]}, {'path': [{'id': 'Utils.Utils'}, 'IMPORTS', {'id': 'Utils.Utils.Unionfind'}, 'USES', {'id': 'Utils.Use_Cases.Collection_Deduplication'}, 'DEFINES', {'id': 'Utils.Use_Cases'}, 'DEFINES', {'id': 'Utils.Use_Cases.Nearest_Neighbor_Search'}, 'IMPORTED_INTO', {'id': 'Deduplication.__Main__'}]}, {'path': [{'id': 'Utils.Utils'}, 'IMPORTS', {'id': 'Utils.Utils.Unionfind'}, 'DEFINED_IN', {'id': 'Utils.Utils'}, 'IMPORTS', {'id': 'Utils.Use_Cases'}, 'DEFINES', {'id': 'Utils.Use_Cases.Nearest_Neighbor_Search'}, 'IMPORTED_INTO', {'id': 'Deduplication.__Main__'}]}, {'path': [{'id': 'Utils.Utils'}, 'IMPORTS', {'id': 'Utils.Utils.Unionfind'}, 'DEFINED_IN', {'id': 'Utils.Utils'}, 'IMPORTS', {'id': 'Utils.Use_Cases'}, 'DEFINES', {'id': 'Utils.Use_Cases.Collection_Deduplication'}, 'IMPORTED_INTO', {'id': 'Deduplication.__Main__'}]}, {'path': [{'id': 'Utils.Utils'}, 'IMPORTS', {'id': 'Utils.Utils.Unionfind'}, 'DEFINED_IN', {'id': 'Utils.Utils'}, 'IMPORTS', {'id': 'Utils.Utils.Minhash'}, 'USES', {'id': 'Utils.Use_Cases.Nearest_Neighbor_Search'}, 'IMPORTED_INTO', {'id': 'Deduplication.__Main__'}]}, {'path': [{'id': 'Utils.Utils'}, 'IMPORTS', {'id': 'Utils.Utils.Unionfind'}, 'DEFINED_IN', {'id': 'Utils.Utils'}, 'IMPORTS', {'id': 'Utils.Utils.Shingle'}, 'USES', {'id': 'Utils.Use_Cases.Nearest_Neighbor_Search'}, 'IMPORTED_INTO', {'id': 'Deduplication.__Main__'}]}, {'path': [{'id': 'Utils.Utils'}, 'IMPORTS', {'id': 'Utils.Utils.Unionfind'}, 'DEFINED_IN', {'id': 'Utils.Utils'}, 'IMPORTS', {'id': 'Utils.Utils.Clean_Document'}, 'USES', {'id': 'Utils.Use_Cases.Nearest_Neighbor_Search'}, 'IMPORTED_INTO', {'id': 'Deduplication.__Main__'}]}, {'path': [{'id': 'Utils.Utils'}, 'IMPORTS', {'id': 'Utils.Utils.Unionfind'}, 'DEFINED_IN', {'id': 'Utils.Utils'}, 'USED_IN', {'id': 'Deduplication.Lsh'}, 'DEFINES', {'id': 'Deduplication.Lsh.Lsh'}, 'IMPORTED_INTO', {'id': 'Deduplication.__Main__'}]}]}\n"
     ]
    },
    {
     "name": "stderr",
     "output_type": "stream",
     "text": [
      "\u001b[92mINFO\u001b[0m:agent_router:Tool Call: Cypher query generated -> {'answer': 'The `Utils.Utils` module is related to the `Deduplication.__Main__` module through the following connections:\\n\\n- `Utils.Utils` imports `Utils.Use_Cases`, which defines `Nearest_Neighbor_Search`, imported into `Deduplication.__Main__`.\\n- `Utils.Utils` imports `Utils.Use_Cases`, defining `Collection_Deduplication`, imported into `Deduplication.__Main__`.\\n- `Utils.Utils` imports `Utils.Utils.Unionfind`, which uses `Collection_Deduplication`, imported into `Deduplication.__Main__`.\\n- `Utils.Utils` imports `Utils.Utils.Unionfind`, used in defining `Utils.Use_Cases` and `Nearest_Neighbor_Search`, imported into `Deduplication.__Main__`.\\n- `Utils.Utils` imports `Utils.Utils.Unionfind`, defined and used in `Deduplication.Lsh`, imported into `Deduplication.__Main__`.', 'steps': ['generate_cypher', 'execute_cypher', 'generate_final_answer'], 'cypher_statement': \"MATCH path = (m1:Module {id: 'Utils.Utils'})-[*..5]-(m2:Module {id: 'Deduplication.__Main__'}) WHERE NONE(n IN nodes(path) WHERE n:Package) RETURN path LIMIT 10\", 'cypher_results': [{'path': [{'id': 'Utils.Utils'}, 'IMPORTS', {'id': 'Utils.Use_Cases'}, 'DEFINES', {'id': 'Utils.Use_Cases.Nearest_Neighbor_Search'}, 'IMPORTED_INTO', {'id': 'Deduplication.__Main__'}]}, {'path': [{'id': 'Utils.Utils'}, 'IMPORTS', {'id': 'Utils.Use_Cases'}, 'DEFINES', {'id': 'Utils.Use_Cases.Collection_Deduplication'}, 'IMPORTED_INTO', {'id': 'Deduplication.__Main__'}]}, {'path': [{'id': 'Utils.Utils'}, 'IMPORTS', {'id': 'Utils.Utils.Unionfind'}, 'USES', {'id': 'Utils.Use_Cases.Collection_Deduplication'}, 'IMPORTED_INTO', {'id': 'Deduplication.__Main__'}]}, {'path': [{'id': 'Utils.Utils'}, 'IMPORTS', {'id': 'Utils.Utils.Unionfind'}, 'USES', {'id': 'Utils.Use_Cases.Collection_Deduplication'}, 'DEFINES', {'id': 'Utils.Use_Cases'}, 'DEFINES', {'id': 'Utils.Use_Cases.Nearest_Neighbor_Search'}, 'IMPORTED_INTO', {'id': 'Deduplication.__Main__'}]}, {'path': [{'id': 'Utils.Utils'}, 'IMPORTS', {'id': 'Utils.Utils.Unionfind'}, 'DEFINED_IN', {'id': 'Utils.Utils'}, 'IMPORTS', {'id': 'Utils.Use_Cases'}, 'DEFINES', {'id': 'Utils.Use_Cases.Nearest_Neighbor_Search'}, 'IMPORTED_INTO', {'id': 'Deduplication.__Main__'}]}, {'path': [{'id': 'Utils.Utils'}, 'IMPORTS', {'id': 'Utils.Utils.Unionfind'}, 'DEFINED_IN', {'id': 'Utils.Utils'}, 'IMPORTS', {'id': 'Utils.Use_Cases'}, 'DEFINES', {'id': 'Utils.Use_Cases.Collection_Deduplication'}, 'IMPORTED_INTO', {'id': 'Deduplication.__Main__'}]}, {'path': [{'id': 'Utils.Utils'}, 'IMPORTS', {'id': 'Utils.Utils.Unionfind'}, 'DEFINED_IN', {'id': 'Utils.Utils'}, 'IMPORTS', {'id': 'Utils.Utils.Minhash'}, 'USES', {'id': 'Utils.Use_Cases.Nearest_Neighbor_Search'}, 'IMPORTED_INTO', {'id': 'Deduplication.__Main__'}]}, {'path': [{'id': 'Utils.Utils'}, 'IMPORTS', {'id': 'Utils.Utils.Unionfind'}, 'DEFINED_IN', {'id': 'Utils.Utils'}, 'IMPORTS', {'id': 'Utils.Utils.Shingle'}, 'USES', {'id': 'Utils.Use_Cases.Nearest_Neighbor_Search'}, 'IMPORTED_INTO', {'id': 'Deduplication.__Main__'}]}, {'path': [{'id': 'Utils.Utils'}, 'IMPORTS', {'id': 'Utils.Utils.Unionfind'}, 'DEFINED_IN', {'id': 'Utils.Utils'}, 'IMPORTS', {'id': 'Utils.Utils.Clean_Document'}, 'USES', {'id': 'Utils.Use_Cases.Nearest_Neighbor_Search'}, 'IMPORTED_INTO', {'id': 'Deduplication.__Main__'}]}, {'path': [{'id': 'Utils.Utils'}, 'IMPORTS', {'id': 'Utils.Utils.Unionfind'}, 'DEFINED_IN', {'id': 'Utils.Utils'}, 'USED_IN', {'id': 'Deduplication.Lsh'}, 'DEFINES', {'id': 'Deduplication.Lsh.Lsh'}, 'IMPORTED_INTO', {'id': 'Deduplication.__Main__'}]}]}\n"
     ]
    },
    {
     "name": "stdout",
     "output_type": "stream",
     "text": [
      "\u001b[90m2025-04-18 10:00:03\u001b[0m - \u001b[36magent_router\u001b[0m - \u001b[92mINFO\u001b[0m - Result type: <class 'langgraph.pregel.io.AddableValuesDict'>\n"
     ]
    },
    {
     "name": "stderr",
     "output_type": "stream",
     "text": [
      "\u001b[92mINFO\u001b[0m:agent_router:Result type: <class 'langgraph.pregel.io.AddableValuesDict'>\n"
     ]
    },
    {
     "name": "stdout",
     "output_type": "stream",
     "text": [
      "\u001b[90m2025-04-18 10:00:16\u001b[0m - \u001b[36magent_router\u001b[0m - \u001b[92mINFO\u001b[0m - Generating text response...\n"
     ]
    },
    {
     "name": "stderr",
     "output_type": "stream",
     "text": [
      "\u001b[92mINFO\u001b[0m:agent_router:Generating text response...\n"
     ]
    },
    {
     "name": "stdout",
     "output_type": "stream",
     "text": [
      "\u001b[90m2025-04-18 10:00:16\u001b[0m - \u001b[36magent_router\u001b[0m - \u001b[92mINFO\u001b[0m - Query engine: <tools.micro_text_answer.RAGQueryEngine object at 0x000002A48C6AFB60>\n"
     ]
    },
    {
     "name": "stderr",
     "output_type": "stream",
     "text": [
      "\u001b[92mINFO\u001b[0m:agent_router:Query engine: <tools.micro_text_answer.RAGQueryEngine object at 0x000002A48C6AFB60>\n"
     ]
    },
    {
     "name": "stdout",
     "output_type": "stream",
     "text": [
      "\u001b[90m2025-04-18 10:00:33\u001b[0m - \u001b[36magent_router\u001b[0m - \u001b[92mINFO\u001b[0m - Supervisor decided to route to: FINISH\n"
     ]
    },
    {
     "name": "stderr",
     "output_type": "stream",
     "text": [
      "\u001b[92mINFO\u001b[0m:agent_router:Supervisor decided to route to: FINISH\n"
     ]
    }
   ],
   "source": [
    "full_query = 'How is the Utils.Utils module related to the Deduplication.__Main__ module?'\n",
    "\n",
    "# Add the user message to the conversation history\n",
    "user_message = HumanMessage(content=full_query)\n",
    "\n",
    "# Initialize the state with the user query\n",
    "initial_state = {\"messages\": [user_message]}\n",
    "result = graph.invoke(initial_state)"
   ]
  },
  {
   "cell_type": "code",
   "execution_count": 8,
   "id": "a4d35230",
   "metadata": {},
   "outputs": [
    {
     "data": {
      "text/plain": [
       "[HumanMessage(content='How is the Utils.Utils module related to the Deduplication.__Main__ module?', additional_kwargs={}, response_metadata={}, id='be497bad-2fbe-4aac-b6af-3728813cfb60'),\n",
       " AIMessage(content=\"I've decided to route to micro because this is the appropriate next step.\", additional_kwargs={}, response_metadata={}, name='supervisor', id='769fa0d7-5bdb-419a-941c-f00308bf3db5'),\n",
       " AIMessage(content='The `Utils.Utils` module and the `Deduplication.__Main__` module have the following relationships:\\n\\n1. **Import and Dependency**: \\n   - The `Utils.Utils` module directly imports `Utils.Use_Cases`, which defines important components like `Nearest_Neighbor_Search` and `Collection_Deduplication`. These components are crucial for deduplication functions and are ultimately imported into `Deduplication.__Main__`.\\n   \\n2. **Indirect Utilization**:\\n   - The `Utils.Utils` module also imports `Utils.Utils.Unionfind`, which is instrumental for handling collections and is used by `Collection_Deduplication` in `Deduplication.__Main__`.\\n   \\n3. **Foundational Connections**:\\n   - Elements like `Minhash`, `Shingle`, and `Clean_Document` from `Utils.Utils` are used within the context of `Nearest_Neighbor_Search`. These are important for processing and deduplication tasks in `Deduplication.__Main__`.\\n\\nOverall, `Utils.Utils` facilitates several utility components and structures that are essential for performing deduplication operations in `Deduplication.__Main__`, establishing a strong interconnected setup for managing deduplication and nearest neighbor searches using LSH (Locality Sensitive Hashing).', additional_kwargs={}, response_metadata={}, name='micro', id='b76e026b-9d62-458f-b3ff-93230a18fc0b'),\n",
       " AIMessage(content=\"I've decided to route to FINISH because this is the appropriate next step.\", additional_kwargs={}, response_metadata={}, name='supervisor', id='f7255536-dffd-4ef6-97b2-86895f2f589a')]"
      ]
     },
     "execution_count": 8,
     "metadata": {},
     "output_type": "execute_result"
    }
   ],
   "source": [
    "result['messages']"
   ]
  },
  {
   "cell_type": "code",
   "execution_count": 19,
   "id": "a26e05c0",
   "metadata": {},
   "outputs": [
    {
     "name": "stdout",
     "output_type": "stream",
     "text": [
      "The `Utils.Utils` module is intricately linked with the `Deduplication.__Main__` module, primarily through import and utility sharing, playing a pivotal role in document deduplication and similarity processes. Here's a detailed explanation:\n",
      "\n",
      "1. **Direct Import Connections**:\n",
      "   - **Utility Modules**: `Utils.Utils` imports `Utils.Use_Cases`, which defines key functionalities such as `Nearest_Neighbor_Search` and `Collection_Deduplication`. These are directly leveraged by `Deduplication.__Main__` to perform core tasks in deduplication processes.\n",
      "   - **Data Structures**: The `Utils.Utils.Unionfind` is not only imported into `Deduplication.__Main__` but is also essential for performing clustering operations within a dataset, highlighting shared utility across the modules.\n",
      "\n",
      "2. **Functionality Extensions**:\n",
      "   - The utilities like `Minhash`, `Shingle`, and `Clean_Document` extend the capabilities of `Nearest_Neighbor_Search` by providing preprocessing steps essential for accurate similarity search and document deduplication, ensuring robust and efficient data handling.\n",
      "\n",
      "3. **Enhanced Deduplication Algorithms**:\n",
      "   - Specifically, within `Deduplication.Lsh`, the integrations enable `Lsh` to effectively use utilities for hashing and detecting document similarities, making processes faster and scalable for large datasets.\n",
      "\n",
      "Overall, the relationship exemplifies a tight integration where `Utils.Utils` serves both as a utility library and a middleware for importing essential components and functions, facilitating the comprehensive working of deduplication operations in `Deduplication.__Main__`.\n"
     ]
    }
   ],
   "source": [
    "print(result['messages'][-2].content)"
   ]
  },
  {
   "cell_type": "code",
   "execution_count": null,
   "id": "29bf3605",
   "metadata": {},
   "outputs": [],
   "source": [
    "    if \"graph\" not in st.session_state:\n",
    "        #########\n",
    "        # MODEL #\n",
    "        #########\n",
    "        # llm = ChatAnthropic(model=\"claude-3-5-sonnet-20240620\")\n",
    "        from langchain.chat_models import init_chat_model\n",
    "        llm = init_chat_model(\"gpt-4o\", model_provider=\"openai\")\n",
    "\n",
    "        #########\n",
    "        # TOOLS #\n",
    "        #########\n",
    "        tools = setup_tools()\n",
    "\n",
    "        # Make sure tools have access to the database if it exists\n",
    "        if \"database\" in st.session_state and \"query_engines\" in st.session_state.database:\n",
    "            try:\n",
    "                from tools import micro_tools\n",
    "                first_engine_key = list(st.session_state.database[\"query_engines\"].keys())[0]\n",
    "                query_engine = st.session_state.database[\"query_engines\"][first_engine_key]\n",
    "                micro_tools.query_engine = query_engine\n",
    "            except Exception as e:\n",
    "                logger.warning(f\"Could not initialize micro tools with query engine: {e}\")\n",
    "\n",
    "        st.session_state.graph = create_router_graph(\n",
    "            llm=llm, macro_tools=tools[\"macro_tools\"], micro_tools=tools[\"micro_tools\"]\n",
    "        )"
   ]
  }
 ],
 "metadata": {
  "kernelspec": {
   "display_name": ".venv",
   "language": "python",
   "name": "python3"
  },
  "language_info": {
   "codemirror_mode": {
    "name": "ipython",
    "version": 3
   },
   "file_extension": ".py",
   "mimetype": "text/x-python",
   "name": "python",
   "nbconvert_exporter": "python",
   "pygments_lexer": "ipython3",
   "version": "3.13.2"
  }
 },
 "nbformat": 4,
 "nbformat_minor": 5
}
