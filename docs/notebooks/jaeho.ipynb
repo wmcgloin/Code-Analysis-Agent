{
 "cells": [
  {
   "cell_type": "code",
   "execution_count": 45,
   "metadata": {},
   "outputs": [],
   "source": [
    "import numpy as np\n",
    "import networkx as nx\n",
    "import seaborn as sns\n",
    "import matplotlib.pyplot as plt\n",
    "\n",
    "\n",
    "def plot_network(\n",
    "    G,\n",
    "    node_size=1000,\n",
    "    node_color=\"skyblue\",\n",
    "    edge_color=\"gray\",\n",
    "    font_size=10,\n",
    "    title=\"Network Graph\",\n",
    "    figsize=(12, 8),\n",
    "    with_labels=True,\n",
    "    layout=\"spring\",\n",
    "    palette=\"husl\",\n",
    "):\n",
    "    \"\"\"\n",
    "    Plot a network graph with seaborn-style aesthetics.\n",
    "\n",
    "    Parameters:\n",
    "    -----------\n",
    "    G : networkx.Graph\n",
    "        The network graph to visualize\n",
    "    node_size : int or list\n",
    "        Size of nodes (can be a single value or list for different sizes)\n",
    "    node_color : str or list\n",
    "        Color of nodes (can be a single value or list for different colors)\n",
    "    edge_color : str\n",
    "        Color of edges\n",
    "    font_size : int\n",
    "        Size of node labels\n",
    "    title : str\n",
    "        Title of the plot\n",
    "    figsize : tuple\n",
    "        Figure size (width, height)\n",
    "    with_labels : bool\n",
    "        Whether to show node labels\n",
    "    layout : str\n",
    "        Type of layout ('spring', 'circular', 'random', 'shell')\n",
    "    palette : str\n",
    "        Seaborn color palette to use if node_color is not specified\n",
    "\n",
    "    Returns:\n",
    "    --------\n",
    "    fig, ax : tuple\n",
    "        Matplotlib figure and axis objects\n",
    "    \"\"\"\n",
    "    # Set the style\n",
    "    sns.set_style(\"whitegrid\")\n",
    "\n",
    "    # Create figure\n",
    "    fig, ax = plt.subplots(figsize=figsize)\n",
    "\n",
    "    # Choose layout\n",
    "    layouts = {\n",
    "        \"spring\": nx.spring_layout,\n",
    "        \"circular\": nx.circular_layout,\n",
    "        \"random\": nx.random_layout,\n",
    "        \"shell\": nx.shell_layout,\n",
    "    }\n",
    "    pos = layouts.get(layout, nx.spring_layout)(G)\n",
    "\n",
    "    # If node_color is not specified, use seaborn palette\n",
    "    if isinstance(node_color, str) and node_color == \"skyblue\":\n",
    "        colors = sns.color_palette(palette, n_colors=len(G.nodes()))\n",
    "    else:\n",
    "        colors = node_color\n",
    "\n",
    "    # Draw the network\n",
    "    nx.draw(\n",
    "        G,\n",
    "        pos,\n",
    "        node_color=colors,\n",
    "        node_size=node_size,\n",
    "        edge_color=edge_color,\n",
    "        with_labels=with_labels,\n",
    "        font_size=font_size,\n",
    "        font_weight=\"bold\",\n",
    "        ax=ax,\n",
    "    )\n",
    "\n",
    "    # Add title\n",
    "    plt.title(title, fontsize=font_size + 4, pad=20)\n",
    "\n",
    "    return fig, ax\n"
   ]
  },
  {
   "cell_type": "code",
   "execution_count": 46,
   "metadata": {},
   "outputs": [],
   "source": [
    "# NOTE: USING langchain_experimental.graph_transformers main.\n",
    "from dotenv import load_dotenv\n",
    "import logging\n",
    "\n",
    "logging.basicConfig(\n",
    "    format=\"[%(asctime)s] p%(process)s {%(filename)s:%(lineno)d} %(levelname)s - %(message)s\",\n",
    "    level=logging.INFO,\n",
    ")\n",
    "logger = logging.getLogger(__name__)\n",
    "\n",
    "load_dotenv()\n",
    "\n",
    "import getpass\n",
    "import os\n",
    "\n",
    "if not os.environ.get(\"OPENAI_API_KEY\"):\n",
    "    os.environ[\"OPENAI_API_KEY\"] = getpass.getpass(\"Enter your OpenAI API key: \")\n",
    "\n"
   ]
  },
  {
   "cell_type": "code",
   "execution_count": 47,
   "metadata": {},
   "outputs": [
    {
     "name": "stderr",
     "output_type": "stream",
     "text": [
      "[2025-02-25 15:45:13,493] p1824 {4265423800.py:31} INFO - documents:[Document(metadata={}, page_content='\\nMarie Curie, born in 1867, was a Polish and naturalised-French physicist and chemist who conducted pioneering research on radioactivity.\\nShe was the first woman to win a Nobel Prize, the first person to win a Nobel Prize twice, and the only person to win a Nobel Prize in two scientific fields.\\nHer husband, Pierre Curie, was a co-winner of her first Nobel Prize, making them the first-ever married couple to win the Nobel Prize and launching the Curie family legacy of five Nobel Prizes.\\nShe was, in 1906, the first woman to become a professor at the University of Paris.\\n')]\n",
      "[2025-02-25 15:45:16,737] p1824 {_client.py:1025} INFO - HTTP Request: POST https://api.openai.com/v1/chat/completions \"HTTP/1.1 200 OK\"\n",
      "[2025-02-25 15:45:16,756] p1824 {4265423800.py:34} INFO - document #1\n",
      "[2025-02-25 15:45:16,756] p1824 {4265423800.py:38} INFO - Nodes:id='Marie Curie' type='Person' properties={}\n",
      "[2025-02-25 15:45:16,757] p1824 {4265423800.py:38} INFO - Nodes:id='Pierre Curie' type='Person' properties={}\n",
      "[2025-02-25 15:45:16,758] p1824 {4265423800.py:38} INFO - Nodes:id='University Of Paris' type='Institution' properties={}\n",
      "[2025-02-25 15:45:16,758] p1824 {4265423800.py:38} INFO - Nodes:id='Nobel Prize' type='Award' properties={}\n",
      "[2025-02-25 15:45:16,759] p1824 {4265423800.py:40} INFO - Relationships:source=Node(id='Marie Curie', type='Person', properties={}) target=Node(id='Nobel Prize', type='Award', properties={}) type='WINNER' properties={}\n",
      "[2025-02-25 15:45:16,759] p1824 {4265423800.py:40} INFO - Relationships:source=Node(id='Marie Curie', type='Person', properties={}) target=Node(id='Nobel Prize', type='Award', properties={}) type='WINNER' properties={}\n",
      "[2025-02-25 15:45:16,760] p1824 {4265423800.py:40} INFO - Relationships:source=Node(id='Marie Curie', type='Person', properties={}) target=Node(id='University Of Paris', type='Institution', properties={}) type='PROFESSOR' properties={}\n",
      "[2025-02-25 15:45:16,761] p1824 {4265423800.py:40} INFO - Relationships:source=Node(id='Marie Curie', type='Person', properties={}) target=Node(id='Pierre Curie', type='Person', properties={}) type='SPOUSE' properties={}\n",
      "[2025-02-25 15:45:16,761] p1824 {4265423800.py:40} INFO - Relationships:source=Node(id='Pierre Curie', type='Person', properties={}) target=Node(id='Nobel Prize', type='Award', properties={}) type='WINNER' properties={}\n",
      "[2025-02-25 15:45:16,762] p1824 {4265423800.py:40} INFO - Relationships:source=Node(id='Marie Curie', type='Person', properties={}) target=Node(id='Nobel Prize', type='Award', properties={}) type='WINNER' properties={}\n",
      "[2025-02-25 15:45:16,762] p1824 {4265423800.py:40} INFO - Relationships:source=Node(id='Marie Curie', type='Person', properties={}) target=Node(id='Nobel Prize', type='Award', properties={}) type='WINNER' properties={}\n"
     ]
    }
   ],
   "source": [
    "from langchain.chat_models import init_chat_model\n",
    "\n",
    "llm = init_chat_model(\"gpt-4o-mini\", model_provider=\"openai\")\n",
    "\n",
    "\n",
    "from typing_extensions import Annotated, TypedDict\n",
    "\n",
    "\n",
    "# TypedDict\n",
    "class Json(TypedDict):\n",
    "    \"\"\"Json to return.\"\"\"\n",
    "\n",
    "    setup: Annotated[dict, ..., \"The setup of the dict\"]\n",
    "    depth: Annotated[int, ..., \"How many layers deep the dict is.\"]\n",
    "\n",
    "\n",
    "from langchain_core.messages import HumanMessage, SystemMessage\n",
    "from langchain_core.documents import Document\n",
    "\n",
    "text = \"\"\"\n",
    "Marie Curie, born in 1867, was a Polish and naturalised-French physicist and chemist who conducted pioneering research on radioactivity.\n",
    "She was the first woman to win a Nobel Prize, the first person to win a Nobel Prize twice, and the only person to win a Nobel Prize in two scientific fields.\n",
    "Her husband, Pierre Curie, was a co-winner of her first Nobel Prize, making them the first-ever married couple to win the Nobel Prize and launching the Curie family legacy of five Nobel Prizes.\n",
    "She was, in 1906, the first woman to become a professor at the University of Paris.\n",
    "\"\"\"\n",
    "\n",
    "from langchain_experimental.graph_transformers import LLMGraphTransformer\n",
    "\n",
    "llm_transformer = LLMGraphTransformer(llm=llm)\n",
    "documents = [Document(page_content=text)]\n",
    "logger.info(f\"documents:{documents}\")\n",
    "graph_documents = llm_transformer.convert_to_graph_documents(documents)\n",
    "for i, doc in enumerate(graph_documents):\n",
    "    logger.info(f\"document #{i+1}\")\n",
    "    nodes = doc.nodes\n",
    "    relationships = doc.relationships\n",
    "    for n in nodes:\n",
    "        logger.info(f\"Nodes:{n}\")\n",
    "    for r in relationships:\n",
    "        logger.info(f\"Relationships:{r}\")\n",
    "\n"
   ]
  },
  {
   "cell_type": "code",
   "execution_count": 48,
   "metadata": {},
   "outputs": [
    {
     "data": {
      "image/png": "[encoded data removed]",
      "text/plain": [
       "<Figure size 1200x800 with 1 Axes>"
      ]
     },
     "metadata": {},
     "output_type": "display_data"
    }
   ],
   "source": [
    "# from plot_graph import plot_network\n",
    "import networkx as nx\n",
    "import seaborn as sns\n",
    "import matplotlib.pyplot as plt\n",
    "\n",
    "nodes = [str(node) for node in graph_documents[0].nodes]\n",
    "relationships = [\n",
    "    (str(rel.source), str(rel.target)) for rel in graph_documents[0].relationships\n",
    "]\n",
    "\n",
    "G = nx.DiGraph()\n",
    "G.add_nodes_from(nodes)\n",
    "G.add_edges_from(relationships)\n",
    "\n",
    "custom_colors = sns.color_palette(\"Set2\", n_colors=len(G.nodes()))\n",
    "node_sizes = [3000 if d > 5 else 1000 for v, d in G.degree()]\n",
    "\n",
    "fig, ax = plot_network(\n",
    "    G,\n",
    "    node_size=node_sizes,\n",
    "    node_color=custom_colors,\n",
    "    edge_color=\"#cccccc\",\n",
    "    font_size=12,\n",
    "    layout=\"spring\",\n",
    "    palette=\"Set2\",\n",
    ")\n",
    "\n",
    "plt.tight_layout()\n",
    "plt.show()\n",
    "\n"
   ]
  },
  {
   "cell_type": "code",
   "execution_count": 49,
   "metadata": {},
   "outputs": [
    {
     "data": {
      "text/plain": [
       "[\"id='Marie Curie' type='Person' properties={}\",\n",
       " \"id='Pierre Curie' type='Person' properties={}\",\n",
       " \"id='University Of Paris' type='Institution' properties={}\",\n",
       " \"id='Nobel Prize' type='Award' properties={}\"]"
      ]
     },
     "execution_count": 49,
     "metadata": {},
     "output_type": "execute_result"
    }
   ],
   "source": [
    "nodes"
   ]
  },
  {
   "cell_type": "code",
   "execution_count": 50,
   "metadata": {},
   "outputs": [
    {
     "data": {
      "text/plain": [
       "[(\"id='Marie Curie' type='Person' properties={}\",\n",
       "  \"id='Nobel Prize' type='Award' properties={}\"),\n",
       " (\"id='Marie Curie' type='Person' properties={}\",\n",
       "  \"id='Nobel Prize' type='Award' properties={}\"),\n",
       " (\"id='Marie Curie' type='Person' properties={}\",\n",
       "  \"id='University Of Paris' type='Institution' properties={}\"),\n",
       " (\"id='Marie Curie' type='Person' properties={}\",\n",
       "  \"id='Pierre Curie' type='Person' properties={}\"),\n",
       " (\"id='Pierre Curie' type='Person' properties={}\",\n",
       "  \"id='Nobel Prize' type='Award' properties={}\"),\n",
       " (\"id='Marie Curie' type='Person' properties={}\",\n",
       "  \"id='Nobel Prize' type='Award' properties={}\"),\n",
       " (\"id='Marie Curie' type='Person' properties={}\",\n",
       "  \"id='Nobel Prize' type='Award' properties={}\")]"
      ]
     },
     "execution_count": 50,
     "metadata": {},
     "output_type": "execute_result"
    }
   ],
   "source": [
    "relationships"
   ]
  },
  {
   "cell_type": "code",
   "execution_count": 51,
   "metadata": {},
   "outputs": [],
   "source": [
    "# NOTE: Using classic llm.with_structured_output(json) approach\n",
    "\n",
    "messages = [\n",
    "    SystemMessage(\n",
    "        \"Return a json that describes the logic flow of the given codebase. Only track call stacks. Output in Cypher compliant format for graph representation.\"\n",
    "    ),\n",
    "    HumanMessage(\n",
    "        \"\"\"\n",
    "            def greet(name):\n",
    "                return f\"Hello, {name}!\"\n",
    "\n",
    "            def add(a, b):\n",
    "                return a + b\n",
    "\n",
    "            def main():\n",
    "                name = input(\"Enter your name: \")\n",
    "                print(greet(name))\n",
    "\n",
    "                try:\n",
    "                    x = float(input(\"Enter first number: \"))\n",
    "                    y = float(input(\"Enter second number: \"))\n",
    "                    print(f\"The sum is: {add(x, y)}\")\n",
    "                except ValueError:\n",
    "                    print(\"Invalid input. Please enter numbers.\")\n",
    "\n",
    "            if __name__ == \"__main__\":\n",
    "                main()\n",
    "            \"\"\"\n",
    "    ),\n",
    "]\n",
    "\n"
   ]
  },
  {
   "cell_type": "code",
   "execution_count": null,
   "metadata": {},
   "outputs": [
    {
     "name": "stderr",
     "output_type": "stream",
     "text": [
      "[2025-02-25 14:29:10,186] p1824 {_client.py:1025} INFO - HTTP Request: POST https://api.openai.com/v1/chat/completions \"HTTP/1.1 200 OK\"\n"
     ]
    }
   ],
   "source": []
  },
  {
   "cell_type": "code",
   "execution_count": 41,
   "metadata": {},
   "outputs": [
    {
     "name": "stderr",
     "output_type": "stream",
     "text": [
      "[2025-02-25 15:12:15,792] p1824 {_client.py:1025} INFO - HTTP Request: POST https://api.openai.com/v1/chat/completions \"HTTP/1.1 200 OK\"\n"
     ]
    },
    {
     "name": "stdout",
     "output_type": "stream",
     "text": [
      "{'setup': {'greet': {'node': 'greet', 'parameters': ['name'], 'relationship': ['greet to main']}, 'add': {'node': 'add', 'parameters': ['a', 'b'], 'relationship': ['add to main']}, 'main': {'node': 'main', 'parameters': [], 'relationship': ['main to __main__']}}, 'depth': 1}\n"
     ]
    }
   ],
   "source": [
    "messages = [\n",
    "    SystemMessage(\n",
    "        # \"Return a json that describes the logic flow of the given codebase. Only track call stacks. Output in Cypher compliant format for graph representation.\"\n",
    "        \"\"\"\n",
    "        Return a list of json with all the functions as nodes. \n",
    "        Return description on logic flow of funcitons and how other functions are used within the given function\n",
    "        {\n",
    "        node: name of function,\n",
    "        parameters : list of all parameters used in the function,\n",
    "        realtionship: list relationships between functions for all nodes such as 'add to main' or 'greet to main'\n",
    "        }\n",
    "        \"\"\"\n",
    "    ),\n",
    "    HumanMessage(\n",
    "        \"\"\"\n",
    "            def greet(name):\n",
    "                return f\"Hello, {name}!\"\n",
    "\n",
    "            def add(a, b):\n",
    "                return a + b\n",
    "\n",
    "            def main():\n",
    "                name = input(\"Enter your name: \")\n",
    "                print(greet(name))\n",
    "\n",
    "                try:\n",
    "                    x = float(input(\"Enter first number: \"))\n",
    "                    y = float(input(\"Enter second number: \"))\n",
    "                    print(f\"The sum is: {add(x, y)}\")\n",
    "                except ValueError:\n",
    "                    print(\"Invalid input. Please enter numbers.\")\n",
    "\n",
    "            if __name__ == \"__main__\":\n",
    "                main()\n",
    "            \"\"\"\n",
    "    ),\n",
    "]\n",
    "\n",
    "structured_llm = llm.with_structured_output(Json)\n",
    "response = structured_llm.invoke(messages)\n",
    "print(response)"
   ]
  },
  {
   "cell_type": "code",
   "execution_count": 44,
   "metadata": {},
   "outputs": [
    {
     "data": {
      "text/plain": [
       "{'greet': {'node': 'greet',\n",
       "  'parameters': ['name'],\n",
       "  'relationship': ['greet to main']},\n",
       " 'add': {'node': 'add',\n",
       "  'parameters': ['a', 'b'],\n",
       "  'relationship': ['add to main']},\n",
       " 'main': {'node': 'main',\n",
       "  'parameters': [],\n",
       "  'relationship': ['main to __main__']}}"
      ]
     },
     "execution_count": 44,
     "metadata": {},
     "output_type": "execute_result"
    }
   ],
   "source": [
    "response['setup']"
   ]
  },
  {
   "cell_type": "code",
   "execution_count": null,
   "metadata": {},
   "outputs": [],
   "source": []
  }
 ],
 "metadata": {
  "kernelspec": {
   "display_name": ".venv",
   "language": "python",
   "name": "python3"
  },
  "language_info": {
   "codemirror_mode": {
    "name": "ipython",
    "version": 3
   },
   "file_extension": ".py",
   "mimetype": "text/x-python",
   "name": "python",
   "nbconvert_exporter": "python",
   "pygments_lexer": "ipython3",
   "version": "3.11.9"
  }
 },
 "nbformat": 4,
 "nbformat_minor": 2
}
